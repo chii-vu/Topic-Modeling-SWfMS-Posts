{
  "cells": [
    {
      "cell_type": "markdown",
      "metadata": {
        "id": "AXHLDxJdRzBi"
      },
      "source": [
        "# **Identifying Challenges Faced by Developers in Scientific Workflow Management Systems using BERTopic**"
      ]
    },
    {
      "cell_type": "markdown",
      "metadata": {},
      "source": [
        "This notebook uses BERTopic to identify challenges faced by developers in scientific workflow management systems using Stack Overflow posts and GitHub issues. The dataset used in this notebook is available at https://figshare.com/projects/SWsChallengesbySOandGitHub/172476."
      ]
    },
    {
      "cell_type": "markdown",
      "metadata": {},
      "source": [
        "## Installing Dependencies"
      ]
    },
    {
      "cell_type": "code",
      "execution_count": 9,
      "metadata": {
        "id": "SNa-KtKDRnus",
        "vscode": {
          "languageId": "powershell"
        }
      },
      "outputs": [
        {
          "name": "stdout",
          "output_type": "stream",
          "text": [
            "huggingface/tokenizers: The current process just got forked, after parallelism has already been used. Disabling parallelism to avoid deadlocks...\n",
            "To disable this warning, you can either:\n",
            "\t- Avoid using `tokenizers` before the fork if possible\n",
            "\t- Explicitly set the environment variable TOKENIZERS_PARALLELISM=(true | false)\n",
            "Requirement already satisfied: asttokens==2.2.1 in ./BERTopicVenv/lib/python3.10/site-packages (from -r requirements.txt (line 1)) (2.2.1)\n",
            "Requirement already satisfied: attrs==23.1.0 in ./BERTopicVenv/lib/python3.10/site-packages (from -r requirements.txt (line 2)) (23.1.0)\n",
            "Requirement already satisfied: backcall==0.2.0 in ./BERTopicVenv/lib/python3.10/site-packages (from -r requirements.txt (line 3)) (0.2.0)\n",
            "Requirement already satisfied: beautifulsoup4==4.12.2 in ./BERTopicVenv/lib/python3.10/site-packages (from -r requirements.txt (line 4)) (4.12.2)\n",
            "Requirement already satisfied: bertopic==0.15.0 in ./BERTopicVenv/lib/python3.10/site-packages (from -r requirements.txt (line 5)) (0.15.0)\n",
            "Requirement already satisfied: certifi==2023.7.22 in ./BERTopicVenv/lib/python3.10/site-packages (from -r requirements.txt (line 6)) (2023.7.22)\n",
            "Requirement already satisfied: charset-normalizer==3.2.0 in ./BERTopicVenv/lib/python3.10/site-packages (from -r requirements.txt (line 7)) (3.2.0)\n",
            "Requirement already satisfied: click==8.1.6 in ./BERTopicVenv/lib/python3.10/site-packages (from -r requirements.txt (line 8)) (8.1.6)\n",
            "Requirement already satisfied: cmake==3.27.0 in ./BERTopicVenv/lib/python3.10/site-packages (from -r requirements.txt (line 9)) (3.27.0)\n",
            "Requirement already satisfied: comm==0.1.3 in ./BERTopicVenv/lib/python3.10/site-packages (from -r requirements.txt (line 10)) (0.1.3)\n",
            "Requirement already satisfied: Cython==0.29.36 in ./BERTopicVenv/lib/python3.10/site-packages (from -r requirements.txt (line 11)) (0.29.36)\n",
            "Requirement already satisfied: debugpy==1.6.7 in ./BERTopicVenv/lib/python3.10/site-packages (from -r requirements.txt (line 12)) (1.6.7)\n",
            "Requirement already satisfied: decorator==5.1.1 in ./BERTopicVenv/lib/python3.10/site-packages (from -r requirements.txt (line 13)) (5.1.1)\n",
            "Requirement already satisfied: executing==1.2.0 in ./BERTopicVenv/lib/python3.10/site-packages (from -r requirements.txt (line 14)) (1.2.0)\n",
            "Requirement already satisfied: fastjsonschema==2.18.0 in ./BERTopicVenv/lib/python3.10/site-packages (from -r requirements.txt (line 15)) (2.18.0)\n",
            "Requirement already satisfied: filelock==3.12.2 in ./BERTopicVenv/lib/python3.10/site-packages (from -r requirements.txt (line 16)) (3.12.2)\n",
            "Requirement already satisfied: fsspec==2023.6.0 in ./BERTopicVenv/lib/python3.10/site-packages (from -r requirements.txt (line 17)) (2023.6.0)\n",
            "Requirement already satisfied: hdbscan==0.8.33 in ./BERTopicVenv/lib/python3.10/site-packages (from -r requirements.txt (line 18)) (0.8.33)\n",
            "Requirement already satisfied: huggingface-hub==0.16.4 in ./BERTopicVenv/lib/python3.10/site-packages (from -r requirements.txt (line 19)) (0.16.4)\n",
            "Requirement already satisfied: idna==3.4 in ./BERTopicVenv/lib/python3.10/site-packages (from -r requirements.txt (line 20)) (3.4)\n",
            "Requirement already satisfied: ipykernel==6.25.0 in ./BERTopicVenv/lib/python3.10/site-packages (from -r requirements.txt (line 21)) (6.25.0)\n",
            "Requirement already satisfied: ipython==8.14.0 in ./BERTopicVenv/lib/python3.10/site-packages (from -r requirements.txt (line 22)) (8.14.0)\n",
            "Requirement already satisfied: jedi==0.18.2 in ./BERTopicVenv/lib/python3.10/site-packages (from -r requirements.txt (line 23)) (0.18.2)\n",
            "Requirement already satisfied: Jinja2==3.1.2 in ./BERTopicVenv/lib/python3.10/site-packages (from -r requirements.txt (line 24)) (3.1.2)\n",
            "Requirement already satisfied: joblib==1.3.1 in ./BERTopicVenv/lib/python3.10/site-packages (from -r requirements.txt (line 25)) (1.3.1)\n",
            "Requirement already satisfied: jsonschema==4.18.4 in ./BERTopicVenv/lib/python3.10/site-packages (from -r requirements.txt (line 26)) (4.18.4)\n",
            "Requirement already satisfied: jsonschema-specifications==2023.7.1 in ./BERTopicVenv/lib/python3.10/site-packages (from -r requirements.txt (line 27)) (2023.7.1)\n",
            "Requirement already satisfied: jupyter_client==8.3.0 in ./BERTopicVenv/lib/python3.10/site-packages (from -r requirements.txt (line 28)) (8.3.0)\n",
            "Requirement already satisfied: jupyter_core==5.3.1 in ./BERTopicVenv/lib/python3.10/site-packages (from -r requirements.txt (line 29)) (5.3.1)\n",
            "Requirement already satisfied: lit==16.0.6 in ./BERTopicVenv/lib/python3.10/site-packages (from -r requirements.txt (line 30)) (16.0.6)\n",
            "Requirement already satisfied: llvmlite==0.40.1 in ./BERTopicVenv/lib/python3.10/site-packages (from -r requirements.txt (line 31)) (0.40.1)\n",
            "Requirement already satisfied: MarkupSafe==2.1.3 in ./BERTopicVenv/lib/python3.10/site-packages (from -r requirements.txt (line 32)) (2.1.3)\n",
            "Requirement already satisfied: matplotlib-inline==0.1.6 in ./BERTopicVenv/lib/python3.10/site-packages (from -r requirements.txt (line 33)) (0.1.6)\n",
            "Requirement already satisfied: mpmath==1.3.0 in ./BERTopicVenv/lib/python3.10/site-packages (from -r requirements.txt (line 34)) (1.3.0)\n",
            "Requirement already satisfied: nbformat==5.9.1 in ./BERTopicVenv/lib/python3.10/site-packages (from -r requirements.txt (line 35)) (5.9.1)\n",
            "Requirement already satisfied: nest-asyncio==1.5.6 in ./BERTopicVenv/lib/python3.10/site-packages (from -r requirements.txt (line 36)) (1.5.6)\n",
            "Requirement already satisfied: networkx==3.1 in ./BERTopicVenv/lib/python3.10/site-packages (from -r requirements.txt (line 37)) (3.1)\n",
            "Requirement already satisfied: nltk==3.8.1 in ./BERTopicVenv/lib/python3.10/site-packages (from -r requirements.txt (line 38)) (3.8.1)\n",
            "Requirement already satisfied: numba==0.57.1 in ./BERTopicVenv/lib/python3.10/site-packages (from -r requirements.txt (line 39)) (0.57.1)\n",
            "Requirement already satisfied: numpy==1.24.4 in ./BERTopicVenv/lib/python3.10/site-packages (from -r requirements.txt (line 40)) (1.24.4)\n",
            "Requirement already satisfied: nvidia-cublas-cu11==11.10.3.66 in ./BERTopicVenv/lib/python3.10/site-packages (from -r requirements.txt (line 41)) (11.10.3.66)\n",
            "Requirement already satisfied: nvidia-cuda-cupti-cu11==11.7.101 in ./BERTopicVenv/lib/python3.10/site-packages (from -r requirements.txt (line 42)) (11.7.101)\n",
            "Requirement already satisfied: nvidia-cuda-nvrtc-cu11==11.7.99 in ./BERTopicVenv/lib/python3.10/site-packages (from -r requirements.txt (line 43)) (11.7.99)\n",
            "Requirement already satisfied: nvidia-cuda-runtime-cu11==11.7.99 in ./BERTopicVenv/lib/python3.10/site-packages (from -r requirements.txt (line 44)) (11.7.99)\n",
            "Requirement already satisfied: nvidia-cudnn-cu11==8.5.0.96 in ./BERTopicVenv/lib/python3.10/site-packages (from -r requirements.txt (line 45)) (8.5.0.96)\n",
            "Requirement already satisfied: nvidia-cufft-cu11==10.9.0.58 in ./BERTopicVenv/lib/python3.10/site-packages (from -r requirements.txt (line 46)) (10.9.0.58)\n",
            "Requirement already satisfied: nvidia-curand-cu11==10.2.10.91 in ./BERTopicVenv/lib/python3.10/site-packages (from -r requirements.txt (line 47)) (10.2.10.91)\n",
            "Requirement already satisfied: nvidia-cusolver-cu11==11.4.0.1 in ./BERTopicVenv/lib/python3.10/site-packages (from -r requirements.txt (line 48)) (11.4.0.1)\n",
            "Requirement already satisfied: nvidia-cusparse-cu11==11.7.4.91 in ./BERTopicVenv/lib/python3.10/site-packages (from -r requirements.txt (line 49)) (11.7.4.91)\n",
            "Requirement already satisfied: nvidia-nccl-cu11==2.14.3 in ./BERTopicVenv/lib/python3.10/site-packages (from -r requirements.txt (line 50)) (2.14.3)\n",
            "Requirement already satisfied: nvidia-nvtx-cu11==11.7.91 in ./BERTopicVenv/lib/python3.10/site-packages (from -r requirements.txt (line 51)) (11.7.91)\n",
            "Requirement already satisfied: packaging==23.1 in ./BERTopicVenv/lib/python3.10/site-packages (from -r requirements.txt (line 52)) (23.1)\n",
            "Requirement already satisfied: pandas==2.0.3 in ./BERTopicVenv/lib/python3.10/site-packages (from -r requirements.txt (line 53)) (2.0.3)\n",
            "Requirement already satisfied: parso==0.8.3 in ./BERTopicVenv/lib/python3.10/site-packages (from -r requirements.txt (line 54)) (0.8.3)\n",
            "Requirement already satisfied: pexpect==4.8.0 in ./BERTopicVenv/lib/python3.10/site-packages (from -r requirements.txt (line 55)) (4.8.0)\n",
            "Requirement already satisfied: pickleshare==0.7.5 in ./BERTopicVenv/lib/python3.10/site-packages (from -r requirements.txt (line 56)) (0.7.5)\n",
            "Requirement already satisfied: Pillow==10.0.0 in ./BERTopicVenv/lib/python3.10/site-packages (from -r requirements.txt (line 57)) (10.0.0)\n",
            "Requirement already satisfied: platformdirs==3.9.1 in ./BERTopicVenv/lib/python3.10/site-packages (from -r requirements.txt (line 58)) (3.9.1)\n",
            "Requirement already satisfied: plotly==5.15.0 in ./BERTopicVenv/lib/python3.10/site-packages (from -r requirements.txt (line 59)) (5.15.0)\n",
            "Requirement already satisfied: prompt-toolkit==3.0.39 in ./BERTopicVenv/lib/python3.10/site-packages (from -r requirements.txt (line 60)) (3.0.39)\n",
            "Requirement already satisfied: psutil==5.9.5 in ./BERTopicVenv/lib/python3.10/site-packages (from -r requirements.txt (line 61)) (5.9.5)\n",
            "Requirement already satisfied: ptyprocess==0.7.0 in ./BERTopicVenv/lib/python3.10/site-packages (from -r requirements.txt (line 62)) (0.7.0)\n",
            "Requirement already satisfied: pure-eval==0.2.2 in ./BERTopicVenv/lib/python3.10/site-packages (from -r requirements.txt (line 63)) (0.2.2)\n",
            "Requirement already satisfied: Pygments==2.15.1 in ./BERTopicVenv/lib/python3.10/site-packages (from -r requirements.txt (line 64)) (2.15.1)\n",
            "Requirement already satisfied: pynndescent==0.5.10 in ./BERTopicVenv/lib/python3.10/site-packages (from -r requirements.txt (line 65)) (0.5.10)\n",
            "Requirement already satisfied: python-dateutil==2.8.2 in ./BERTopicVenv/lib/python3.10/site-packages (from -r requirements.txt (line 66)) (2.8.2)\n",
            "Requirement already satisfied: pytz==2023.3 in ./BERTopicVenv/lib/python3.10/site-packages (from -r requirements.txt (line 67)) (2023.3)\n",
            "Requirement already satisfied: PyYAML==6.0.1 in ./BERTopicVenv/lib/python3.10/site-packages (from -r requirements.txt (line 68)) (6.0.1)\n",
            "Requirement already satisfied: pyzmq==25.1.0 in ./BERTopicVenv/lib/python3.10/site-packages (from -r requirements.txt (line 69)) (25.1.0)\n",
            "Requirement already satisfied: referencing==0.30.0 in ./BERTopicVenv/lib/python3.10/site-packages (from -r requirements.txt (line 70)) (0.30.0)\n",
            "Requirement already satisfied: regex==2023.6.3 in ./BERTopicVenv/lib/python3.10/site-packages (from -r requirements.txt (line 71)) (2023.6.3)\n",
            "Requirement already satisfied: requests==2.31.0 in ./BERTopicVenv/lib/python3.10/site-packages (from -r requirements.txt (line 72)) (2.31.0)\n",
            "Requirement already satisfied: rpds-py==0.9.2 in ./BERTopicVenv/lib/python3.10/site-packages (from -r requirements.txt (line 73)) (0.9.2)\n",
            "Requirement already satisfied: safetensors==0.3.1 in ./BERTopicVenv/lib/python3.10/site-packages (from -r requirements.txt (line 74)) (0.3.1)\n",
            "Requirement already satisfied: scikit-learn==1.3.0 in ./BERTopicVenv/lib/python3.10/site-packages (from -r requirements.txt (line 75)) (1.3.0)\n",
            "Requirement already satisfied: scipy==1.11.1 in ./BERTopicVenv/lib/python3.10/site-packages (from -r requirements.txt (line 76)) (1.11.1)\n",
            "Requirement already satisfied: sentence-transformers==2.2.2 in ./BERTopicVenv/lib/python3.10/site-packages (from -r requirements.txt (line 77)) (2.2.2)\n",
            "Requirement already satisfied: sentencepiece==0.1.99 in ./BERTopicVenv/lib/python3.10/site-packages (from -r requirements.txt (line 78)) (0.1.99)\n",
            "Requirement already satisfied: six==1.16.0 in ./BERTopicVenv/lib/python3.10/site-packages (from -r requirements.txt (line 79)) (1.16.0)\n",
            "Requirement already satisfied: soupsieve==2.4.1 in ./BERTopicVenv/lib/python3.10/site-packages (from -r requirements.txt (line 80)) (2.4.1)\n",
            "Requirement already satisfied: stack-data==0.6.2 in ./BERTopicVenv/lib/python3.10/site-packages (from -r requirements.txt (line 81)) (0.6.2)\n",
            "Requirement already satisfied: sympy==1.12 in ./BERTopicVenv/lib/python3.10/site-packages (from -r requirements.txt (line 82)) (1.12)\n",
            "Requirement already satisfied: tenacity==8.2.2 in ./BERTopicVenv/lib/python3.10/site-packages (from -r requirements.txt (line 83)) (8.2.2)\n",
            "Requirement already satisfied: threadpoolctl==3.2.0 in ./BERTopicVenv/lib/python3.10/site-packages (from -r requirements.txt (line 84)) (3.2.0)\n",
            "Requirement already satisfied: tokenizers==0.13.3 in ./BERTopicVenv/lib/python3.10/site-packages (from -r requirements.txt (line 85)) (0.13.3)\n",
            "Requirement already satisfied: torch==2.0.1 in ./BERTopicVenv/lib/python3.10/site-packages (from -r requirements.txt (line 86)) (2.0.1)\n",
            "Requirement already satisfied: torchvision==0.15.2 in ./BERTopicVenv/lib/python3.10/site-packages (from -r requirements.txt (line 87)) (0.15.2)\n",
            "Requirement already satisfied: tornado==6.3.2 in ./BERTopicVenv/lib/python3.10/site-packages (from -r requirements.txt (line 88)) (6.3.2)\n",
            "Requirement already satisfied: tqdm==4.65.0 in ./BERTopicVenv/lib/python3.10/site-packages (from -r requirements.txt (line 89)) (4.65.0)\n",
            "Requirement already satisfied: traitlets==5.9.0 in ./BERTopicVenv/lib/python3.10/site-packages (from -r requirements.txt (line 90)) (5.9.0)\n",
            "Requirement already satisfied: transformers==4.31.0 in ./BERTopicVenv/lib/python3.10/site-packages (from -r requirements.txt (line 91)) (4.31.0)\n",
            "Requirement already satisfied: triton==2.0.0 in ./BERTopicVenv/lib/python3.10/site-packages (from -r requirements.txt (line 92)) (2.0.0)\n",
            "Requirement already satisfied: typing_extensions==4.7.1 in ./BERTopicVenv/lib/python3.10/site-packages (from -r requirements.txt (line 93)) (4.7.1)\n",
            "Requirement already satisfied: tzdata==2023.3 in ./BERTopicVenv/lib/python3.10/site-packages (from -r requirements.txt (line 94)) (2023.3)\n",
            "Requirement already satisfied: umap-learn==0.5.3 in ./BERTopicVenv/lib/python3.10/site-packages (from -r requirements.txt (line 95)) (0.5.3)\n",
            "Requirement already satisfied: urllib3==2.0.4 in ./BERTopicVenv/lib/python3.10/site-packages (from -r requirements.txt (line 96)) (2.0.4)\n",
            "Requirement already satisfied: wcwidth==0.2.6 in ./BERTopicVenv/lib/python3.10/site-packages (from -r requirements.txt (line 97)) (0.2.6)\n",
            "Requirement already satisfied: setuptools in ./BERTopicVenv/lib/python3.10/site-packages (from nvidia-cublas-cu11==11.10.3.66->-r requirements.txt (line 41)) (59.6.0)\n",
            "Requirement already satisfied: wheel in ./BERTopicVenv/lib/python3.10/site-packages (from nvidia-cublas-cu11==11.10.3.66->-r requirements.txt (line 41)) (0.41.0)\n",
            "Note: you may need to restart the kernel to use updated packages.\n"
          ]
        }
      ],
      "source": [
        "%pip install -r requirements.txt"
      ]
    },
    {
      "cell_type": "markdown",
      "metadata": {
        "id": "Y3VGFZ1USMTu"
      },
      "source": [
        "## Define functions to preprocess data"
      ]
    },
    {
      "cell_type": "code",
      "execution_count": 10,
      "metadata": {
        "id": "JJij3WP6SEQD"
      },
      "outputs": [
        {
          "name": "stderr",
          "output_type": "stream",
          "text": [
            "[nltk_data] Downloading package stopwords to /home/dev/nltk_data...\n",
            "[nltk_data]   Package stopwords is already up-to-date!\n"
          ]
        }
      ],
      "source": [
        "import pandas as pd\n",
        "import re\n",
        "import nltk\n",
        "from bs4 import BeautifulSoup\n",
        "from bertopic import BERTopic\n",
        "\n",
        "# Download stopwords if not already available\n",
        "nltk.download('stopwords')\n",
        "from nltk.corpus import stopwords\n",
        "from nltk.stem import PorterStemmer\n",
        "\n",
        "def clean_text(text):\n",
        "    # Remove HTML tags\n",
        "    soup = BeautifulSoup(text, \"html.parser\")\n",
        "    text = soup.get_text()\n",
        "\n",
        "    # Remove non-alphanumeric characters and convert to lowercase\n",
        "    text = re.sub(r'[^A-Za-z]', ' ', text.lower())\n",
        "\n",
        "    # Remove extra whitespaces\n",
        "    text = re.sub(r'\\s+', ' ', text).strip()\n",
        "\n",
        "    return text\n",
        "\n",
        "def remove_stopwords_and_stem(text):\n",
        "    stop_words = set(stopwords.words('english'))\n",
        "    stemmer = PorterStemmer()\n",
        "    return \" \".join(stemmer.stem(word) for word in text.split() if word not in stop_words)\n",
        "\n",
        "def train_bertopic(data):\n",
        "    model = BERTopic(language=\"english\", calculate_probabilities=True)\n",
        "    topics, probabilities = model.fit_transform(data)\n",
        "    return model, topics, probabilities"
      ]
    },
    {
      "cell_type": "markdown",
      "metadata": {
        "id": "SBcNmZJzSTY8"
      },
      "source": [
        "## Import and Preprocess Data"
      ]
    },
    {
      "cell_type": "code",
      "execution_count": 11,
      "metadata": {},
      "outputs": [],
      "source": [
        "# Import the data\n",
        "try:\n",
        "    new_df = pd.read_csv('Dataset/StackOverflowPostsDataset.csv')\n",
        "    new_df[\"merged\"] = new_df[[\"Body\", \"Title\", \"Tags\"]].apply(\"-\".join, axis=1)\n",
        "except FileNotFoundError:\n",
        "    print(\"Dataset file not found. Please provide the correct file path.\")\n",
        "    exit(1)\n",
        "\n",
        "# Preprocess the data\n",
        "new_df[\"merged\"] = new_df[\"merged\"].apply(clean_text)\n",
        "new_df[\"processed\"] = new_df[\"merged\"].apply(remove_stopwords_and_stem)\n",
        "\n",
        "# Save the preprocessed data\n",
        "new_df.to_csv('Results/ConcatenatedDatasetSO.csv', index=False)"
      ]
    },
    {
      "cell_type": "markdown",
      "metadata": {
        "id": "QI6vwelqnTL-"
      },
      "source": [
        "## Building and training the model\n",
        "\n",
        "Instantiate the model and train it on the data. The model will automatically select the best topic based on the topic coherence. The higher the topic coherence, the better."
      ]
    },
    {
      "cell_type": "code",
      "execution_count": 12,
      "metadata": {
        "id": "TfhfzqkoSJ1I"
      },
      "outputs": [],
      "source": [
        "# Train BERTopic on processed data\n",
        "data = new_df[\"processed\"].values.tolist()\n",
        "model, topics, probabilities = train_bertopic(data)\n",
        "\n",
        "# Get topics and their top words\n",
        "topics_df = model.get_topic_freq()\n",
        "topics_df.head()\n",
        "\n",
        "# Save the BERTopic model\n",
        "model.save(\"Results/BERTopicModelSO\")"
      ]
    },
    {
      "cell_type": "markdown",
      "metadata": {
        "id": "A5O3KpHTnVpz"
      },
      "source": [
        "## Extracting Topics\n",
        "After fitting the model, we can extract the topics from the model. This will return the topics with their corresponding IDs, the dominant topic per sentence, and the frequency of each topic."
      ]
    },
    {
      "cell_type": "code",
      "execution_count": 13,
      "metadata": {
        "colab": {
          "base_uri": "https://localhost:8080/",
          "height": 195
        },
        "id": "ScBUgXn06IK6",
        "outputId": "ee49a346-8d12-41c4-c7e9-8c1b6782c636"
      },
      "outputs": [
        {
          "data": {
            "text/html": [
              "<div>\n",
              "<style scoped>\n",
              "    .dataframe tbody tr th:only-of-type {\n",
              "        vertical-align: middle;\n",
              "    }\n",
              "\n",
              "    .dataframe tbody tr th {\n",
              "        vertical-align: top;\n",
              "    }\n",
              "\n",
              "    .dataframe thead th {\n",
              "        text-align: right;\n",
              "    }\n",
              "</style>\n",
              "<table border=\"1\" class=\"dataframe\">\n",
              "  <thead>\n",
              "    <tr style=\"text-align: right;\">\n",
              "      <th></th>\n",
              "      <th>Topic</th>\n",
              "      <th>Count</th>\n",
              "      <th>Name</th>\n",
              "      <th>Representation</th>\n",
              "      <th>Representative_Docs</th>\n",
              "    </tr>\n",
              "  </thead>\n",
              "  <tbody>\n",
              "    <tr>\n",
              "      <th>0</th>\n",
              "      <td>-1</td>\n",
              "      <td>1735</td>\n",
              "      <td>-1_tabl_teradata_date_select</td>\n",
              "      <td>[tabl, teradata, date, select, valu, id, colum...</td>\n",
              "      <td>[rack brain entir afternoon feel like miss som...</td>\n",
              "    </tr>\n",
              "    <tr>\n",
              "      <th>1</th>\n",
              "      <td>0</td>\n",
              "      <td>1307</td>\n",
              "      <td>0_sampl_rule_snakemak_input</td>\n",
              "      <td>[sampl, rule, snakemak, input, output, fastq, ...</td>\n",
              "      <td>[pipelin creat temporarili file delet later ru...</td>\n",
              "    </tr>\n",
              "    <tr>\n",
              "      <th>2</th>\n",
              "      <td>1</td>\n",
              "      <td>431</td>\n",
              "      <td>1_eclips_org_java_intern</td>\n",
              "      <td>[eclips, org, java, intern, core, kepler, ui, ...</td>\n",
              "      <td>[follow instruct page http wiki eclips org faq...</td>\n",
              "    </tr>\n",
              "    <tr>\n",
              "      <th>3</th>\n",
              "      <td>2</td>\n",
              "      <td>372</td>\n",
              "      <td>2_monetdb_databas_tabl_queri</td>\n",
              "      <td>[monetdb, databas, tabl, queri, monetdblit, da...</td>\n",
              "      <td>[tri point monetdb e regular monetdb databas d...</td>\n",
              "    </tr>\n",
              "    <tr>\n",
              "      <th>4</th>\n",
              "      <td>3</td>\n",
              "      <td>285</td>\n",
              "      <td>3_luigi_task_self_def</td>\n",
              "      <td>[luigi, task, self, def, worker, schedul, run,...</td>\n",
              "      <td>[write luigi workflow tri debug task order nee...</td>\n",
              "    </tr>\n",
              "  </tbody>\n",
              "</table>\n",
              "</div>"
            ],
            "text/plain": [
              "   Topic  Count                          Name  \\\n",
              "0     -1   1735  -1_tabl_teradata_date_select   \n",
              "1      0   1307   0_sampl_rule_snakemak_input   \n",
              "2      1    431      1_eclips_org_java_intern   \n",
              "3      2    372  2_monetdb_databas_tabl_queri   \n",
              "4      3    285         3_luigi_task_self_def   \n",
              "\n",
              "                                      Representation  \\\n",
              "0  [tabl, teradata, date, select, valu, id, colum...   \n",
              "1  [sampl, rule, snakemak, input, output, fastq, ...   \n",
              "2  [eclips, org, java, intern, core, kepler, ui, ...   \n",
              "3  [monetdb, databas, tabl, queri, monetdblit, da...   \n",
              "4  [luigi, task, self, def, worker, schedul, run,...   \n",
              "\n",
              "                                 Representative_Docs  \n",
              "0  [rack brain entir afternoon feel like miss som...  \n",
              "1  [pipelin creat temporarili file delet later ru...  \n",
              "2  [follow instruct page http wiki eclips org faq...  \n",
              "3  [tri point monetdb e regular monetdb databas d...  \n",
              "4  [write luigi workflow tri debug task order nee...  "
            ]
          },
          "execution_count": 13,
          "metadata": {},
          "output_type": "execute_result"
        }
      ],
      "source": [
        "freq = model.get_topic_info(); freq.head(5)"
      ]
    },
    {
      "cell_type": "markdown",
      "metadata": {
        "id": "-BtOgifV7Q-H"
      },
      "source": [
        "-1 refers to all outliers that BERTopic was not able to assign a topic to. Next, look at the most frequent topics and their words to determine what the topic is about."
      ]
    },
    {
      "cell_type": "code",
      "execution_count": 14,
      "metadata": {
        "colab": {
          "base_uri": "https://localhost:8080/"
        },
        "id": "IVpvT4bA6KiN",
        "outputId": "9cf99b89-30bb-45fe-b98b-063f8f3624d9"
      },
      "outputs": [
        {
          "data": {
            "text/plain": [
              "[('sampl', 0.026440643494849973),\n",
              " ('rule', 0.025838593352225478),\n",
              " ('snakemak', 0.024633174593775654),\n",
              " ('input', 0.022920482737443897),\n",
              " ('output', 0.021872850721014678),\n",
              " ('fastq', 0.018508847252945056),\n",
              " ('file', 0.01773702947206992),\n",
              " ('wildcard', 0.016291796982137407),\n",
              " ('gz', 0.015133650621707977),\n",
              " ('config', 0.015061385038115242)]"
            ]
          },
          "execution_count": 14,
          "metadata": {},
          "output_type": "execute_result"
        }
      ],
      "source": [
        "model.get_topic(0)  # Select the most frequent topic"
      ]
    },
    {
      "cell_type": "markdown",
      "metadata": {
        "id": "j91cP3xBpWDM"
      },
      "source": [
        "## Assess trained model"
      ]
    },
    {
      "cell_type": "code",
      "execution_count": 15,
      "metadata": {
        "id": "uCMHaWVMpbo3"
      },
      "outputs": [
        {
          "data": {
            "text/plain": [
              "[-1, -1, 46, 9, 9, 41, 57, -1, 19, -1]"
            ]
          },
          "execution_count": 15,
          "metadata": {},
          "output_type": "execute_result"
        }
      ],
      "source": [
        "# assess predicted topics for first 10 posts\n",
        "model.topics_[:10]"
      ]
    },
    {
      "cell_type": "markdown",
      "metadata": {
        "id": "M8c8LenB8Zyl"
      },
      "source": [
        "## Visualize Topics\n",
        "After having trained our model, we can visualize the topics that were generated in a way very similar to LDAvis."
      ]
    },
    {
      "cell_type": "code",
      "execution_count": 16,
      "metadata": {
        "colab": {
          "base_uri": "https://localhost:8080/",
          "height": 667
        },
        "id": "S9qDqEHddgKq",
        "outputId": "3fddd5f1-194e-4708-a7dc-f0c5602c140a"
      },
      "outputs": [
        {
          "data": {
            "application/vnd.plotly.v1+json": {
              "config": {
                "plotlyServerURL": "https://plot.ly"
              },
              "data": [
                {
                  "customdata": [
                    [
                      0,
                      "sampl | rule | snakemak | input | output",
                      1307
                    ],
                    [
                      1,
                      "eclips | org | java | intern | core",
                      431
                    ],
                    [
                      2,
                      "monetdb | databas | tabl | queri | monetdblit",
                      372
                    ],
                    [
                      3,
                      "luigi | task | self | def | worker",
                      285
                    ],
                    [
                      4,
                      "nextflow | process | channel | main | nf",
                      191
                    ],
                    [
                      5,
                      "timestamp | date | format | time | mm",
                      173
                    ],
                    [
                      6,
                      "connect | teradata | sqlalchemi | teradatasql | python",
                      167
                    ],
                    [
                      7,
                      "docker | swarm | servic | network | node",
                      162
                    ],
                    [
                      8,
                      "id | spool | col | join | amp",
                      126
                    ],
                    [
                      9,
                      "varchar | export | tpt | tabl | bteq",
                      115
                    ],
                    [
                      10,
                      "teradata | odbc | connect | instal | driver",
                      88
                    ],
                    [
                      11,
                      "regexp | string | regex | substr | charact",
                      86
                    ],
                    [
                      12,
                      "rapidmin | model | classifi | miner | predict",
                      85
                    ],
                    [
                      13,
                      "date | month | day | transact | sale",
                      71
                    ],
                    [
                      14,
                      "gl | kepler | keplergl | map | longitud",
                      71
                    ],
                    [
                      15,
                      "airflow | dag | py | bitnami | python",
                      65
                    ],
                    [
                      16,
                      "argo | templat | workflow | argoproj | kubernet",
                      57
                    ],
                    [
                      17,
                      "tabl | join | col | id | two",
                      57
                    ],
                    [
                      18,
                      "spark | scala | jdbc | apach | org",
                      56
                    ],
                    [
                      19,
                      "sqoop | hadoop | hive | apach | java",
                      56
                    ],
                    [
                      20,
                      "ansibl | role | galaxi | git | instal",
                      55
                    ],
                    [
                      21,
                      "procedur | store | begin | declar | varchar",
                      53
                    ],
                    [
                      22,
                      "ansibl | role | galaxi | collect | instal",
                      53
                    ],
                    [
                      23,
                      "insert | tabl | increment | ident | teradata",
                      51
                    ],
                    [
                      24,
                      "month | date | current | day | year",
                      47
                    ],
                    [
                      25,
                      "meteor | js | galaxi | minifi | anonym",
                      45
                    ],
                    [
                      26,
                      "rapidmin | repositori | java | oper | com",
                      41
                    ],
                    [
                      27,
                      "teradata | databas | sql | ssm | band",
                      40
                    ],
                    [
                      28,
                      "count | select | column | tabl | queri",
                      36
                    ],
                    [
                      29,
                      "cluster | rapidmin | mean | algorithm | centroid",
                      35
                    ],
                    [
                      30,
                      "fals | plot | meanphas | particl | ecgmean",
                      35
                    ],
                    [
                      31,
                      "rapidmin | attribut | document | word | text",
                      35
                    ],
                    [
                      32,
                      "decim | cast | float | format | integ",
                      33
                    ],
                    [
                      33,
                      "jdbc | connect | teradata | terajdbc | drivermanag",
                      33
                    ],
                    [
                      34,
                      "key | port | paramet | true | op",
                      32
                    ],
                    [
                      35,
                      "week | date | oo | day | dte",
                      31
                    ],
                    [
                      36,
                      "gpu | cuda | warp | kepler | nvidia",
                      31
                    ],
                    [
                      37,
                      "column | col | name | sql | teradata",
                      29
                    ],
                    [
                      38,
                      "jdbc | java | com | teradata | sqoop",
                      29
                    ],
                    [
                      39,
                      "load | teradata | tpt | tabl | mload",
                      29
                    ],
                    [
                      40,
                      "view | show | assist | queri | tableview",
                      27
                    ],
                    [
                      41,
                      "null | feld | sa | batch | statement",
                      26
                    ],
                    [
                      42,
                      "drop | tabl | teradata | volatil | oracl",
                      25
                    ],
                    [
                      43,
                      "ftp | download | remot | srafil | err",
                      20
                    ],
                    [
                      44,
                      "knime | workflow | exe | batch | applic",
                      20
                    ],
                    [
                      45,
                      "partit | journal | tabl | date | interv",
                      19
                    ],
                    [
                      46,
                      "twitter | sentiment | rapidmin | tweet | hashtag",
                      18
                    ],
                    [
                      47,
                      "crawl | xpath | ul | li | web",
                      18
                    ],
                    [
                      48,
                      "bacteria | acid | eic | pathway | acet",
                      17
                    ],
                    [
                      49,
                      "csv | rapidmin | import | data | column",
                      17
                    ],
                    [
                      50,
                      "grant | user | role | schema | access",
                      16
                    ],
                    [
                      51,
                      "trident | spout | storm | topolog | stream",
                      15
                    ],
                    [
                      52,
                      "log | rule | snakemak | save | script",
                      14
                    ],
                    [
                      53,
                      "hibern | datasourc | jdbc | bean | spring",
                      14
                    ],
                    [
                      54,
                      "tabl | sa | temp | crontab | teradata",
                      14
                    ],
                    [
                      55,
                      "primari | index | uniqu | order | amp",
                      13
                    ],
                    [
                      56,
                      "odbc | driver | ini | opt | client",
                      13
                    ],
                    [
                      57,
                      "date | devic | caldat | end | record",
                      13
                    ],
                    [
                      58,
                      "offer | upload | stringbuilderupd | ps | batch",
                      13
                    ],
                    [
                      59,
                      "client | provid | password | system | teradata",
                      12
                    ],
                    [
                      60,
                      "ibm | stream | kafka | eventstream | firebas",
                      12
                    ],
                    [
                      61,
                      "excel | sheet | rapidmin | paragraph | sentenc",
                      11
                    ],
                    [
                      62,
                      "loop | queri | col | tabl | pcicount",
                      11
                    ],
                    [
                      63,
                      "event | orlean | time | dte | refurb",
                      10
                    ],
                    [
                      64,
                      "metaflow | metadata | zarr | nextflownamespac | aw",
                      10
                    ]
                  ],
                  "hovertemplate": "<b>Topic %{customdata[0]}</b><br>%{customdata[1]}<br>Size: %{customdata[2]}",
                  "legendgroup": "",
                  "marker": {
                    "color": "#B0BEC5",
                    "line": {
                      "color": "DarkSlateGrey",
                      "width": 2
                    },
                    "size": [
                      1307,
                      431,
                      372,
                      285,
                      191,
                      173,
                      167,
                      162,
                      126,
                      115,
                      88,
                      86,
                      85,
                      71,
                      71,
                      65,
                      57,
                      57,
                      56,
                      56,
                      55,
                      53,
                      53,
                      51,
                      47,
                      45,
                      41,
                      40,
                      36,
                      35,
                      35,
                      35,
                      33,
                      33,
                      32,
                      31,
                      31,
                      29,
                      29,
                      29,
                      27,
                      26,
                      25,
                      20,
                      20,
                      19,
                      18,
                      18,
                      17,
                      17,
                      16,
                      15,
                      14,
                      14,
                      14,
                      13,
                      13,
                      13,
                      13,
                      12,
                      12,
                      11,
                      11,
                      10,
                      10
                    ],
                    "sizemode": "area",
                    "sizeref": 0.816875,
                    "symbol": "circle"
                  },
                  "mode": "markers",
                  "name": "",
                  "orientation": "v",
                  "showlegend": false,
                  "type": "scatter",
                  "x": [
                    13.186640739440918,
                    2.0920398235321045,
                    -8.39977741241455,
                    13.594789505004883,
                    13.582464218139648,
                    -5.075421333312988,
                    -15.833284378051758,
                    6.658292293548584,
                    -4.829098224639893,
                    -15.827367782592773,
                    7.883431911468506,
                    -9.26383113861084,
                    3.2126832008361816,
                    -5.327823162078857,
                    1.9760278463363647,
                    6.469712734222412,
                    6.710597038269043,
                    -8.865791320800781,
                    3.4311275482177734,
                    3.3305389881134033,
                    13.041523933410645,
                    -8.488970756530762,
                    13.0415620803833,
                    -7.968125343322754,
                    -5.172845363616943,
                    2.2388038635253906,
                    2.3125314712524414,
                    7.9625420570373535,
                    -8.7247896194458,
                    3.3287839889526367,
                    3.16510272026062,
                    2.6166837215423584,
                    -9.357256889343262,
                    3.2188098430633545,
                    -4.681665420532227,
                    -5.532113552093506,
                    2.0153517723083496,
                    -9.10647201538086,
                    3.305677652359009,
                    13.011896133422852,
                    13.561585426330566,
                    -8.310182571411133,
                    13.328965187072754,
                    13.103608131408691,
                    6.396904945373535,
                    -5.201352119445801,
                    2.926471471786499,
                    3.061936616897583,
                    -4.528802871704102,
                    -15.869721412658691,
                    13.671143531799316,
                    13.52021598815918,
                    12.887323379516602,
                    3.106604814529419,
                    13.363347053527832,
                    -8.812344551086426,
                    7.758795738220215,
                    -4.986603260040283,
                    12.920401573181152,
                    3.019453763961792,
                    2.4612433910369873,
                    2.5027174949645996,
                    -8.122715950012207,
                    -5.568378925323486,
                    6.238757610321045
                  ],
                  "xaxis": "x",
                  "y": [
                    -8.860836029052734,
                    2.9008779525756836,
                    -0.7099887132644653,
                    -9.268824577331543,
                    -9.256510734558105,
                    3.0457677841186523,
                    7.84639310836792,
                    22.743179321289062,
                    4.053272724151611,
                    7.840356349945068,
                    15.776482582092285,
                    -7.476994037628174,
                    1.1546589136123657,
                    3.541369915008545,
                    3.3694539070129395,
                    22.932035446166992,
                    22.691036224365234,
                    -7.079737663269043,
                    14.957273483276367,
                    15.058220863342285,
                    16.75861358642578,
                    -0.7992822527885437,
                    16.75861930847168,
                    -0.27855706214904785,
                    3.172407388687134,
                    2.998033046722412,
                    2.621610641479492,
                    15.697212219238281,
                    -6.938365936279297,
                    1.028577446937561,
                    1.1795941591262817,
                    1.8866451978683472,
                    -7.570587635040283,
                    15.170027732849121,
                    4.180984973907471,
                    3.4039671421051025,
                    3.4735569953918457,
                    -7.3199663162231445,
                    15.082792282104492,
                    7.432563304901123,
                    8.015393257141113,
                    -0.6204562187194824,
                    7.767142295837402,
                    -8.777807235717773,
                    23.004838943481445,
                    3.673398971557617,
                    1.809834599494934,
                    1.8726557493209839,
                    4.321802139282227,
                    7.882592678070068,
                    8.128297805786133,
                    -9.194231033325195,
                    -8.561575889587402,
                    15.282154083251953,
                    7.800715446472168,
                    -7.026223182678223,
                    15.901220321655273,
                    3.887356996536255,
                    7.338685035705566,
                    15.369739532470703,
                    2.5531527996063232,
                    2.0293126106262207,
                    -0.4330834448337555,
                    3.3174545764923096,
                    23.162912368774414
                  ],
                  "yaxis": "y"
                }
              ],
              "layout": {
                "annotations": [
                  {
                    "showarrow": false,
                    "text": "D1",
                    "x": -18.250179624557497,
                    "y": 7.989100480079651,
                    "yshift": 10
                  },
                  {
                    "showarrow": false,
                    "text": "D2",
                    "x": -1.2641822814941417,
                    "xshift": 10,
                    "y": 26.637349224090578
                  }
                ],
                "height": 650,
                "hoverlabel": {
                  "bgcolor": "white",
                  "font": {
                    "family": "Rockwell",
                    "size": 16
                  }
                },
                "legend": {
                  "itemsizing": "constant",
                  "tracegroupgap": 0
                },
                "margin": {
                  "t": 60
                },
                "shapes": [
                  {
                    "line": {
                      "color": "#CFD8DC",
                      "width": 2
                    },
                    "type": "line",
                    "x0": -1.2641822814941417,
                    "x1": -1.2641822814941417,
                    "y0": -10.659148263931275,
                    "y1": 26.637349224090578
                  },
                  {
                    "line": {
                      "color": "#9E9E9E",
                      "width": 2
                    },
                    "type": "line",
                    "x0": -18.250179624557497,
                    "x1": 15.721815061569213,
                    "y0": 7.989100480079651,
                    "y1": 7.989100480079651
                  }
                ],
                "sliders": [
                  {
                    "active": 0,
                    "pad": {
                      "t": 50
                    },
                    "steps": [
                      {
                        "args": [
                          {
                            "marker.color": [
                              [
                                "red",
                                "#B0BEC5",
                                "#B0BEC5",
                                "#B0BEC5",
                                "#B0BEC5",
                                "#B0BEC5",
                                "#B0BEC5",
                                "#B0BEC5",
                                "#B0BEC5",
                                "#B0BEC5",
                                "#B0BEC5",
                                "#B0BEC5",
                                "#B0BEC5",
                                "#B0BEC5",
                                "#B0BEC5",
                                "#B0BEC5",
                                "#B0BEC5",
                                "#B0BEC5",
                                "#B0BEC5",
                                "#B0BEC5",
                                "#B0BEC5",
                                "#B0BEC5",
                                "#B0BEC5",
                                "#B0BEC5",
                                "#B0BEC5",
                                "#B0BEC5",
                                "#B0BEC5",
                                "#B0BEC5",
                                "#B0BEC5",
                                "#B0BEC5",
                                "#B0BEC5",
                                "#B0BEC5",
                                "#B0BEC5",
                                "#B0BEC5",
                                "#B0BEC5",
                                "#B0BEC5",
                                "#B0BEC5",
                                "#B0BEC5",
                                "#B0BEC5",
                                "#B0BEC5",
                                "#B0BEC5",
                                "#B0BEC5",
                                "#B0BEC5",
                                "#B0BEC5",
                                "#B0BEC5",
                                "#B0BEC5",
                                "#B0BEC5",
                                "#B0BEC5",
                                "#B0BEC5",
                                "#B0BEC5",
                                "#B0BEC5",
                                "#B0BEC5",
                                "#B0BEC5",
                                "#B0BEC5",
                                "#B0BEC5",
                                "#B0BEC5",
                                "#B0BEC5",
                                "#B0BEC5",
                                "#B0BEC5",
                                "#B0BEC5",
                                "#B0BEC5",
                                "#B0BEC5",
                                "#B0BEC5",
                                "#B0BEC5",
                                "#B0BEC5"
                              ]
                            ]
                          }
                        ],
                        "label": "Topic 0",
                        "method": "update"
                      },
                      {
                        "args": [
                          {
                            "marker.color": [
                              [
                                "#B0BEC5",
                                "red",
                                "#B0BEC5",
                                "#B0BEC5",
                                "#B0BEC5",
                                "#B0BEC5",
                                "#B0BEC5",
                                "#B0BEC5",
                                "#B0BEC5",
                                "#B0BEC5",
                                "#B0BEC5",
                                "#B0BEC5",
                                "#B0BEC5",
                                "#B0BEC5",
                                "#B0BEC5",
                                "#B0BEC5",
                                "#B0BEC5",
                                "#B0BEC5",
                                "#B0BEC5",
                                "#B0BEC5",
                                "#B0BEC5",
                                "#B0BEC5",
                                "#B0BEC5",
                                "#B0BEC5",
                                "#B0BEC5",
                                "#B0BEC5",
                                "#B0BEC5",
                                "#B0BEC5",
                                "#B0BEC5",
                                "#B0BEC5",
                                "#B0BEC5",
                                "#B0BEC5",
                                "#B0BEC5",
                                "#B0BEC5",
                                "#B0BEC5",
                                "#B0BEC5",
                                "#B0BEC5",
                                "#B0BEC5",
                                "#B0BEC5",
                                "#B0BEC5",
                                "#B0BEC5",
                                "#B0BEC5",
                                "#B0BEC5",
                                "#B0BEC5",
                                "#B0BEC5",
                                "#B0BEC5",
                                "#B0BEC5",
                                "#B0BEC5",
                                "#B0BEC5",
                                "#B0BEC5",
                                "#B0BEC5",
                                "#B0BEC5",
                                "#B0BEC5",
                                "#B0BEC5",
                                "#B0BEC5",
                                "#B0BEC5",
                                "#B0BEC5",
                                "#B0BEC5",
                                "#B0BEC5",
                                "#B0BEC5",
                                "#B0BEC5",
                                "#B0BEC5",
                                "#B0BEC5",
                                "#B0BEC5",
                                "#B0BEC5"
                              ]
                            ]
                          }
                        ],
                        "label": "Topic 1",
                        "method": "update"
                      },
                      {
                        "args": [
                          {
                            "marker.color": [
                              [
                                "#B0BEC5",
                                "#B0BEC5",
                                "red",
                                "#B0BEC5",
                                "#B0BEC5",
                                "#B0BEC5",
                                "#B0BEC5",
                                "#B0BEC5",
                                "#B0BEC5",
                                "#B0BEC5",
                                "#B0BEC5",
                                "#B0BEC5",
                                "#B0BEC5",
                                "#B0BEC5",
                                "#B0BEC5",
                                "#B0BEC5",
                                "#B0BEC5",
                                "#B0BEC5",
                                "#B0BEC5",
                                "#B0BEC5",
                                "#B0BEC5",
                                "#B0BEC5",
                                "#B0BEC5",
                                "#B0BEC5",
                                "#B0BEC5",
                                "#B0BEC5",
                                "#B0BEC5",
                                "#B0BEC5",
                                "#B0BEC5",
                                "#B0BEC5",
                                "#B0BEC5",
                                "#B0BEC5",
                                "#B0BEC5",
                                "#B0BEC5",
                                "#B0BEC5",
                                "#B0BEC5",
                                "#B0BEC5",
                                "#B0BEC5",
                                "#B0BEC5",
                                "#B0BEC5",
                                "#B0BEC5",
                                "#B0BEC5",
                                "#B0BEC5",
                                "#B0BEC5",
                                "#B0BEC5",
                                "#B0BEC5",
                                "#B0BEC5",
                                "#B0BEC5",
                                "#B0BEC5",
                                "#B0BEC5",
                                "#B0BEC5",
                                "#B0BEC5",
                                "#B0BEC5",
                                "#B0BEC5",
                                "#B0BEC5",
                                "#B0BEC5",
                                "#B0BEC5",
                                "#B0BEC5",
                                "#B0BEC5",
                                "#B0BEC5",
                                "#B0BEC5",
                                "#B0BEC5",
                                "#B0BEC5",
                                "#B0BEC5",
                                "#B0BEC5"
                              ]
                            ]
                          }
                        ],
                        "label": "Topic 2",
                        "method": "update"
                      },
                      {
                        "args": [
                          {
                            "marker.color": [
                              [
                                "#B0BEC5",
                                "#B0BEC5",
                                "#B0BEC5",
                                "red",
                                "#B0BEC5",
                                "#B0BEC5",
                                "#B0BEC5",
                                "#B0BEC5",
                                "#B0BEC5",
                                "#B0BEC5",
                                "#B0BEC5",
                                "#B0BEC5",
                                "#B0BEC5",
                                "#B0BEC5",
                                "#B0BEC5",
                                "#B0BEC5",
                                "#B0BEC5",
                                "#B0BEC5",
                                "#B0BEC5",
                                "#B0BEC5",
                                "#B0BEC5",
                                "#B0BEC5",
                                "#B0BEC5",
                                "#B0BEC5",
                                "#B0BEC5",
                                "#B0BEC5",
                                "#B0BEC5",
                                "#B0BEC5",
                                "#B0BEC5",
                                "#B0BEC5",
                                "#B0BEC5",
                                "#B0BEC5",
                                "#B0BEC5",
                                "#B0BEC5",
                                "#B0BEC5",
                                "#B0BEC5",
                                "#B0BEC5",
                                "#B0BEC5",
                                "#B0BEC5",
                                "#B0BEC5",
                                "#B0BEC5",
                                "#B0BEC5",
                                "#B0BEC5",
                                "#B0BEC5",
                                "#B0BEC5",
                                "#B0BEC5",
                                "#B0BEC5",
                                "#B0BEC5",
                                "#B0BEC5",
                                "#B0BEC5",
                                "#B0BEC5",
                                "#B0BEC5",
                                "#B0BEC5",
                                "#B0BEC5",
                                "#B0BEC5",
                                "#B0BEC5",
                                "#B0BEC5",
                                "#B0BEC5",
                                "#B0BEC5",
                                "#B0BEC5",
                                "#B0BEC5",
                                "#B0BEC5",
                                "#B0BEC5",
                                "#B0BEC5",
                                "#B0BEC5"
                              ]
                            ]
                          }
                        ],
                        "label": "Topic 3",
                        "method": "update"
                      },
                      {
                        "args": [
                          {
                            "marker.color": [
                              [
                                "#B0BEC5",
                                "#B0BEC5",
                                "#B0BEC5",
                                "#B0BEC5",
                                "red",
                                "#B0BEC5",
                                "#B0BEC5",
                                "#B0BEC5",
                                "#B0BEC5",
                                "#B0BEC5",
                                "#B0BEC5",
                                "#B0BEC5",
                                "#B0BEC5",
                                "#B0BEC5",
                                "#B0BEC5",
                                "#B0BEC5",
                                "#B0BEC5",
                                "#B0BEC5",
                                "#B0BEC5",
                                "#B0BEC5",
                                "#B0BEC5",
                                "#B0BEC5",
                                "#B0BEC5",
                                "#B0BEC5",
                                "#B0BEC5",
                                "#B0BEC5",
                                "#B0BEC5",
                                "#B0BEC5",
                                "#B0BEC5",
                                "#B0BEC5",
                                "#B0BEC5",
                                "#B0BEC5",
                                "#B0BEC5",
                                "#B0BEC5",
                                "#B0BEC5",
                                "#B0BEC5",
                                "#B0BEC5",
                                "#B0BEC5",
                                "#B0BEC5",
                                "#B0BEC5",
                                "#B0BEC5",
                                "#B0BEC5",
                                "#B0BEC5",
                                "#B0BEC5",
                                "#B0BEC5",
                                "#B0BEC5",
                                "#B0BEC5",
                                "#B0BEC5",
                                "#B0BEC5",
                                "#B0BEC5",
                                "#B0BEC5",
                                "#B0BEC5",
                                "#B0BEC5",
                                "#B0BEC5",
                                "#B0BEC5",
                                "#B0BEC5",
                                "#B0BEC5",
                                "#B0BEC5",
                                "#B0BEC5",
                                "#B0BEC5",
                                "#B0BEC5",
                                "#B0BEC5",
                                "#B0BEC5",
                                "#B0BEC5",
                                "#B0BEC5"
                              ]
                            ]
                          }
                        ],
                        "label": "Topic 4",
                        "method": "update"
                      },
                      {
                        "args": [
                          {
                            "marker.color": [
                              [
                                "#B0BEC5",
                                "#B0BEC5",
                                "#B0BEC5",
                                "#B0BEC5",
                                "#B0BEC5",
                                "red",
                                "#B0BEC5",
                                "#B0BEC5",
                                "#B0BEC5",
                                "#B0BEC5",
                                "#B0BEC5",
                                "#B0BEC5",
                                "#B0BEC5",
                                "#B0BEC5",
                                "#B0BEC5",
                                "#B0BEC5",
                                "#B0BEC5",
                                "#B0BEC5",
                                "#B0BEC5",
                                "#B0BEC5",
                                "#B0BEC5",
                                "#B0BEC5",
                                "#B0BEC5",
                                "#B0BEC5",
                                "#B0BEC5",
                                "#B0BEC5",
                                "#B0BEC5",
                                "#B0BEC5",
                                "#B0BEC5",
                                "#B0BEC5",
                                "#B0BEC5",
                                "#B0BEC5",
                                "#B0BEC5",
                                "#B0BEC5",
                                "#B0BEC5",
                                "#B0BEC5",
                                "#B0BEC5",
                                "#B0BEC5",
                                "#B0BEC5",
                                "#B0BEC5",
                                "#B0BEC5",
                                "#B0BEC5",
                                "#B0BEC5",
                                "#B0BEC5",
                                "#B0BEC5",
                                "#B0BEC5",
                                "#B0BEC5",
                                "#B0BEC5",
                                "#B0BEC5",
                                "#B0BEC5",
                                "#B0BEC5",
                                "#B0BEC5",
                                "#B0BEC5",
                                "#B0BEC5",
                                "#B0BEC5",
                                "#B0BEC5",
                                "#B0BEC5",
                                "#B0BEC5",
                                "#B0BEC5",
                                "#B0BEC5",
                                "#B0BEC5",
                                "#B0BEC5",
                                "#B0BEC5",
                                "#B0BEC5",
                                "#B0BEC5"
                              ]
                            ]
                          }
                        ],
                        "label": "Topic 5",
                        "method": "update"
                      },
                      {
                        "args": [
                          {
                            "marker.color": [
                              [
                                "#B0BEC5",
                                "#B0BEC5",
                                "#B0BEC5",
                                "#B0BEC5",
                                "#B0BEC5",
                                "#B0BEC5",
                                "red",
                                "#B0BEC5",
                                "#B0BEC5",
                                "#B0BEC5",
                                "#B0BEC5",
                                "#B0BEC5",
                                "#B0BEC5",
                                "#B0BEC5",
                                "#B0BEC5",
                                "#B0BEC5",
                                "#B0BEC5",
                                "#B0BEC5",
                                "#B0BEC5",
                                "#B0BEC5",
                                "#B0BEC5",
                                "#B0BEC5",
                                "#B0BEC5",
                                "#B0BEC5",
                                "#B0BEC5",
                                "#B0BEC5",
                                "#B0BEC5",
                                "#B0BEC5",
                                "#B0BEC5",
                                "#B0BEC5",
                                "#B0BEC5",
                                "#B0BEC5",
                                "#B0BEC5",
                                "#B0BEC5",
                                "#B0BEC5",
                                "#B0BEC5",
                                "#B0BEC5",
                                "#B0BEC5",
                                "#B0BEC5",
                                "#B0BEC5",
                                "#B0BEC5",
                                "#B0BEC5",
                                "#B0BEC5",
                                "#B0BEC5",
                                "#B0BEC5",
                                "#B0BEC5",
                                "#B0BEC5",
                                "#B0BEC5",
                                "#B0BEC5",
                                "#B0BEC5",
                                "#B0BEC5",
                                "#B0BEC5",
                                "#B0BEC5",
                                "#B0BEC5",
                                "#B0BEC5",
                                "#B0BEC5",
                                "#B0BEC5",
                                "#B0BEC5",
                                "#B0BEC5",
                                "#B0BEC5",
                                "#B0BEC5",
                                "#B0BEC5",
                                "#B0BEC5",
                                "#B0BEC5",
                                "#B0BEC5"
                              ]
                            ]
                          }
                        ],
                        "label": "Topic 6",
                        "method": "update"
                      },
                      {
                        "args": [
                          {
                            "marker.color": [
                              [
                                "#B0BEC5",
                                "#B0BEC5",
                                "#B0BEC5",
                                "#B0BEC5",
                                "#B0BEC5",
                                "#B0BEC5",
                                "#B0BEC5",
                                "red",
                                "#B0BEC5",
                                "#B0BEC5",
                                "#B0BEC5",
                                "#B0BEC5",
                                "#B0BEC5",
                                "#B0BEC5",
                                "#B0BEC5",
                                "#B0BEC5",
                                "#B0BEC5",
                                "#B0BEC5",
                                "#B0BEC5",
                                "#B0BEC5",
                                "#B0BEC5",
                                "#B0BEC5",
                                "#B0BEC5",
                                "#B0BEC5",
                                "#B0BEC5",
                                "#B0BEC5",
                                "#B0BEC5",
                                "#B0BEC5",
                                "#B0BEC5",
                                "#B0BEC5",
                                "#B0BEC5",
                                "#B0BEC5",
                                "#B0BEC5",
                                "#B0BEC5",
                                "#B0BEC5",
                                "#B0BEC5",
                                "#B0BEC5",
                                "#B0BEC5",
                                "#B0BEC5",
                                "#B0BEC5",
                                "#B0BEC5",
                                "#B0BEC5",
                                "#B0BEC5",
                                "#B0BEC5",
                                "#B0BEC5",
                                "#B0BEC5",
                                "#B0BEC5",
                                "#B0BEC5",
                                "#B0BEC5",
                                "#B0BEC5",
                                "#B0BEC5",
                                "#B0BEC5",
                                "#B0BEC5",
                                "#B0BEC5",
                                "#B0BEC5",
                                "#B0BEC5",
                                "#B0BEC5",
                                "#B0BEC5",
                                "#B0BEC5",
                                "#B0BEC5",
                                "#B0BEC5",
                                "#B0BEC5",
                                "#B0BEC5",
                                "#B0BEC5",
                                "#B0BEC5"
                              ]
                            ]
                          }
                        ],
                        "label": "Topic 7",
                        "method": "update"
                      },
                      {
                        "args": [
                          {
                            "marker.color": [
                              [
                                "#B0BEC5",
                                "#B0BEC5",
                                "#B0BEC5",
                                "#B0BEC5",
                                "#B0BEC5",
                                "#B0BEC5",
                                "#B0BEC5",
                                "#B0BEC5",
                                "red",
                                "#B0BEC5",
                                "#B0BEC5",
                                "#B0BEC5",
                                "#B0BEC5",
                                "#B0BEC5",
                                "#B0BEC5",
                                "#B0BEC5",
                                "#B0BEC5",
                                "#B0BEC5",
                                "#B0BEC5",
                                "#B0BEC5",
                                "#B0BEC5",
                                "#B0BEC5",
                                "#B0BEC5",
                                "#B0BEC5",
                                "#B0BEC5",
                                "#B0BEC5",
                                "#B0BEC5",
                                "#B0BEC5",
                                "#B0BEC5",
                                "#B0BEC5",
                                "#B0BEC5",
                                "#B0BEC5",
                                "#B0BEC5",
                                "#B0BEC5",
                                "#B0BEC5",
                                "#B0BEC5",
                                "#B0BEC5",
                                "#B0BEC5",
                                "#B0BEC5",
                                "#B0BEC5",
                                "#B0BEC5",
                                "#B0BEC5",
                                "#B0BEC5",
                                "#B0BEC5",
                                "#B0BEC5",
                                "#B0BEC5",
                                "#B0BEC5",
                                "#B0BEC5",
                                "#B0BEC5",
                                "#B0BEC5",
                                "#B0BEC5",
                                "#B0BEC5",
                                "#B0BEC5",
                                "#B0BEC5",
                                "#B0BEC5",
                                "#B0BEC5",
                                "#B0BEC5",
                                "#B0BEC5",
                                "#B0BEC5",
                                "#B0BEC5",
                                "#B0BEC5",
                                "#B0BEC5",
                                "#B0BEC5",
                                "#B0BEC5",
                                "#B0BEC5"
                              ]
                            ]
                          }
                        ],
                        "label": "Topic 8",
                        "method": "update"
                      },
                      {
                        "args": [
                          {
                            "marker.color": [
                              [
                                "#B0BEC5",
                                "#B0BEC5",
                                "#B0BEC5",
                                "#B0BEC5",
                                "#B0BEC5",
                                "#B0BEC5",
                                "#B0BEC5",
                                "#B0BEC5",
                                "#B0BEC5",
                                "red",
                                "#B0BEC5",
                                "#B0BEC5",
                                "#B0BEC5",
                                "#B0BEC5",
                                "#B0BEC5",
                                "#B0BEC5",
                                "#B0BEC5",
                                "#B0BEC5",
                                "#B0BEC5",
                                "#B0BEC5",
                                "#B0BEC5",
                                "#B0BEC5",
                                "#B0BEC5",
                                "#B0BEC5",
                                "#B0BEC5",
                                "#B0BEC5",
                                "#B0BEC5",
                                "#B0BEC5",
                                "#B0BEC5",
                                "#B0BEC5",
                                "#B0BEC5",
                                "#B0BEC5",
                                "#B0BEC5",
                                "#B0BEC5",
                                "#B0BEC5",
                                "#B0BEC5",
                                "#B0BEC5",
                                "#B0BEC5",
                                "#B0BEC5",
                                "#B0BEC5",
                                "#B0BEC5",
                                "#B0BEC5",
                                "#B0BEC5",
                                "#B0BEC5",
                                "#B0BEC5",
                                "#B0BEC5",
                                "#B0BEC5",
                                "#B0BEC5",
                                "#B0BEC5",
                                "#B0BEC5",
                                "#B0BEC5",
                                "#B0BEC5",
                                "#B0BEC5",
                                "#B0BEC5",
                                "#B0BEC5",
                                "#B0BEC5",
                                "#B0BEC5",
                                "#B0BEC5",
                                "#B0BEC5",
                                "#B0BEC5",
                                "#B0BEC5",
                                "#B0BEC5",
                                "#B0BEC5",
                                "#B0BEC5",
                                "#B0BEC5"
                              ]
                            ]
                          }
                        ],
                        "label": "Topic 9",
                        "method": "update"
                      },
                      {
                        "args": [
                          {
                            "marker.color": [
                              [
                                "#B0BEC5",
                                "#B0BEC5",
                                "#B0BEC5",
                                "#B0BEC5",
                                "#B0BEC5",
                                "#B0BEC5",
                                "#B0BEC5",
                                "#B0BEC5",
                                "#B0BEC5",
                                "#B0BEC5",
                                "red",
                                "#B0BEC5",
                                "#B0BEC5",
                                "#B0BEC5",
                                "#B0BEC5",
                                "#B0BEC5",
                                "#B0BEC5",
                                "#B0BEC5",
                                "#B0BEC5",
                                "#B0BEC5",
                                "#B0BEC5",
                                "#B0BEC5",
                                "#B0BEC5",
                                "#B0BEC5",
                                "#B0BEC5",
                                "#B0BEC5",
                                "#B0BEC5",
                                "#B0BEC5",
                                "#B0BEC5",
                                "#B0BEC5",
                                "#B0BEC5",
                                "#B0BEC5",
                                "#B0BEC5",
                                "#B0BEC5",
                                "#B0BEC5",
                                "#B0BEC5",
                                "#B0BEC5",
                                "#B0BEC5",
                                "#B0BEC5",
                                "#B0BEC5",
                                "#B0BEC5",
                                "#B0BEC5",
                                "#B0BEC5",
                                "#B0BEC5",
                                "#B0BEC5",
                                "#B0BEC5",
                                "#B0BEC5",
                                "#B0BEC5",
                                "#B0BEC5",
                                "#B0BEC5",
                                "#B0BEC5",
                                "#B0BEC5",
                                "#B0BEC5",
                                "#B0BEC5",
                                "#B0BEC5",
                                "#B0BEC5",
                                "#B0BEC5",
                                "#B0BEC5",
                                "#B0BEC5",
                                "#B0BEC5",
                                "#B0BEC5",
                                "#B0BEC5",
                                "#B0BEC5",
                                "#B0BEC5",
                                "#B0BEC5"
                              ]
                            ]
                          }
                        ],
                        "label": "Topic 10",
                        "method": "update"
                      },
                      {
                        "args": [
                          {
                            "marker.color": [
                              [
                                "#B0BEC5",
                                "#B0BEC5",
                                "#B0BEC5",
                                "#B0BEC5",
                                "#B0BEC5",
                                "#B0BEC5",
                                "#B0BEC5",
                                "#B0BEC5",
                                "#B0BEC5",
                                "#B0BEC5",
                                "#B0BEC5",
                                "red",
                                "#B0BEC5",
                                "#B0BEC5",
                                "#B0BEC5",
                                "#B0BEC5",
                                "#B0BEC5",
                                "#B0BEC5",
                                "#B0BEC5",
                                "#B0BEC5",
                                "#B0BEC5",
                                "#B0BEC5",
                                "#B0BEC5",
                                "#B0BEC5",
                                "#B0BEC5",
                                "#B0BEC5",
                                "#B0BEC5",
                                "#B0BEC5",
                                "#B0BEC5",
                                "#B0BEC5",
                                "#B0BEC5",
                                "#B0BEC5",
                                "#B0BEC5",
                                "#B0BEC5",
                                "#B0BEC5",
                                "#B0BEC5",
                                "#B0BEC5",
                                "#B0BEC5",
                                "#B0BEC5",
                                "#B0BEC5",
                                "#B0BEC5",
                                "#B0BEC5",
                                "#B0BEC5",
                                "#B0BEC5",
                                "#B0BEC5",
                                "#B0BEC5",
                                "#B0BEC5",
                                "#B0BEC5",
                                "#B0BEC5",
                                "#B0BEC5",
                                "#B0BEC5",
                                "#B0BEC5",
                                "#B0BEC5",
                                "#B0BEC5",
                                "#B0BEC5",
                                "#B0BEC5",
                                "#B0BEC5",
                                "#B0BEC5",
                                "#B0BEC5",
                                "#B0BEC5",
                                "#B0BEC5",
                                "#B0BEC5",
                                "#B0BEC5",
                                "#B0BEC5",
                                "#B0BEC5"
                              ]
                            ]
                          }
                        ],
                        "label": "Topic 11",
                        "method": "update"
                      },
                      {
                        "args": [
                          {
                            "marker.color": [
                              [
                                "#B0BEC5",
                                "#B0BEC5",
                                "#B0BEC5",
                                "#B0BEC5",
                                "#B0BEC5",
                                "#B0BEC5",
                                "#B0BEC5",
                                "#B0BEC5",
                                "#B0BEC5",
                                "#B0BEC5",
                                "#B0BEC5",
                                "#B0BEC5",
                                "red",
                                "#B0BEC5",
                                "#B0BEC5",
                                "#B0BEC5",
                                "#B0BEC5",
                                "#B0BEC5",
                                "#B0BEC5",
                                "#B0BEC5",
                                "#B0BEC5",
                                "#B0BEC5",
                                "#B0BEC5",
                                "#B0BEC5",
                                "#B0BEC5",
                                "#B0BEC5",
                                "#B0BEC5",
                                "#B0BEC5",
                                "#B0BEC5",
                                "#B0BEC5",
                                "#B0BEC5",
                                "#B0BEC5",
                                "#B0BEC5",
                                "#B0BEC5",
                                "#B0BEC5",
                                "#B0BEC5",
                                "#B0BEC5",
                                "#B0BEC5",
                                "#B0BEC5",
                                "#B0BEC5",
                                "#B0BEC5",
                                "#B0BEC5",
                                "#B0BEC5",
                                "#B0BEC5",
                                "#B0BEC5",
                                "#B0BEC5",
                                "#B0BEC5",
                                "#B0BEC5",
                                "#B0BEC5",
                                "#B0BEC5",
                                "#B0BEC5",
                                "#B0BEC5",
                                "#B0BEC5",
                                "#B0BEC5",
                                "#B0BEC5",
                                "#B0BEC5",
                                "#B0BEC5",
                                "#B0BEC5",
                                "#B0BEC5",
                                "#B0BEC5",
                                "#B0BEC5",
                                "#B0BEC5",
                                "#B0BEC5",
                                "#B0BEC5",
                                "#B0BEC5"
                              ]
                            ]
                          }
                        ],
                        "label": "Topic 12",
                        "method": "update"
                      },
                      {
                        "args": [
                          {
                            "marker.color": [
                              [
                                "#B0BEC5",
                                "#B0BEC5",
                                "#B0BEC5",
                                "#B0BEC5",
                                "#B0BEC5",
                                "#B0BEC5",
                                "#B0BEC5",
                                "#B0BEC5",
                                "#B0BEC5",
                                "#B0BEC5",
                                "#B0BEC5",
                                "#B0BEC5",
                                "#B0BEC5",
                                "red",
                                "#B0BEC5",
                                "#B0BEC5",
                                "#B0BEC5",
                                "#B0BEC5",
                                "#B0BEC5",
                                "#B0BEC5",
                                "#B0BEC5",
                                "#B0BEC5",
                                "#B0BEC5",
                                "#B0BEC5",
                                "#B0BEC5",
                                "#B0BEC5",
                                "#B0BEC5",
                                "#B0BEC5",
                                "#B0BEC5",
                                "#B0BEC5",
                                "#B0BEC5",
                                "#B0BEC5",
                                "#B0BEC5",
                                "#B0BEC5",
                                "#B0BEC5",
                                "#B0BEC5",
                                "#B0BEC5",
                                "#B0BEC5",
                                "#B0BEC5",
                                "#B0BEC5",
                                "#B0BEC5",
                                "#B0BEC5",
                                "#B0BEC5",
                                "#B0BEC5",
                                "#B0BEC5",
                                "#B0BEC5",
                                "#B0BEC5",
                                "#B0BEC5",
                                "#B0BEC5",
                                "#B0BEC5",
                                "#B0BEC5",
                                "#B0BEC5",
                                "#B0BEC5",
                                "#B0BEC5",
                                "#B0BEC5",
                                "#B0BEC5",
                                "#B0BEC5",
                                "#B0BEC5",
                                "#B0BEC5",
                                "#B0BEC5",
                                "#B0BEC5",
                                "#B0BEC5",
                                "#B0BEC5",
                                "#B0BEC5",
                                "#B0BEC5"
                              ]
                            ]
                          }
                        ],
                        "label": "Topic 13",
                        "method": "update"
                      },
                      {
                        "args": [
                          {
                            "marker.color": [
                              [
                                "#B0BEC5",
                                "#B0BEC5",
                                "#B0BEC5",
                                "#B0BEC5",
                                "#B0BEC5",
                                "#B0BEC5",
                                "#B0BEC5",
                                "#B0BEC5",
                                "#B0BEC5",
                                "#B0BEC5",
                                "#B0BEC5",
                                "#B0BEC5",
                                "#B0BEC5",
                                "#B0BEC5",
                                "red",
                                "#B0BEC5",
                                "#B0BEC5",
                                "#B0BEC5",
                                "#B0BEC5",
                                "#B0BEC5",
                                "#B0BEC5",
                                "#B0BEC5",
                                "#B0BEC5",
                                "#B0BEC5",
                                "#B0BEC5",
                                "#B0BEC5",
                                "#B0BEC5",
                                "#B0BEC5",
                                "#B0BEC5",
                                "#B0BEC5",
                                "#B0BEC5",
                                "#B0BEC5",
                                "#B0BEC5",
                                "#B0BEC5",
                                "#B0BEC5",
                                "#B0BEC5",
                                "#B0BEC5",
                                "#B0BEC5",
                                "#B0BEC5",
                                "#B0BEC5",
                                "#B0BEC5",
                                "#B0BEC5",
                                "#B0BEC5",
                                "#B0BEC5",
                                "#B0BEC5",
                                "#B0BEC5",
                                "#B0BEC5",
                                "#B0BEC5",
                                "#B0BEC5",
                                "#B0BEC5",
                                "#B0BEC5",
                                "#B0BEC5",
                                "#B0BEC5",
                                "#B0BEC5",
                                "#B0BEC5",
                                "#B0BEC5",
                                "#B0BEC5",
                                "#B0BEC5",
                                "#B0BEC5",
                                "#B0BEC5",
                                "#B0BEC5",
                                "#B0BEC5",
                                "#B0BEC5",
                                "#B0BEC5",
                                "#B0BEC5"
                              ]
                            ]
                          }
                        ],
                        "label": "Topic 14",
                        "method": "update"
                      },
                      {
                        "args": [
                          {
                            "marker.color": [
                              [
                                "#B0BEC5",
                                "#B0BEC5",
                                "#B0BEC5",
                                "#B0BEC5",
                                "#B0BEC5",
                                "#B0BEC5",
                                "#B0BEC5",
                                "#B0BEC5",
                                "#B0BEC5",
                                "#B0BEC5",
                                "#B0BEC5",
                                "#B0BEC5",
                                "#B0BEC5",
                                "#B0BEC5",
                                "#B0BEC5",
                                "red",
                                "#B0BEC5",
                                "#B0BEC5",
                                "#B0BEC5",
                                "#B0BEC5",
                                "#B0BEC5",
                                "#B0BEC5",
                                "#B0BEC5",
                                "#B0BEC5",
                                "#B0BEC5",
                                "#B0BEC5",
                                "#B0BEC5",
                                "#B0BEC5",
                                "#B0BEC5",
                                "#B0BEC5",
                                "#B0BEC5",
                                "#B0BEC5",
                                "#B0BEC5",
                                "#B0BEC5",
                                "#B0BEC5",
                                "#B0BEC5",
                                "#B0BEC5",
                                "#B0BEC5",
                                "#B0BEC5",
                                "#B0BEC5",
                                "#B0BEC5",
                                "#B0BEC5",
                                "#B0BEC5",
                                "#B0BEC5",
                                "#B0BEC5",
                                "#B0BEC5",
                                "#B0BEC5",
                                "#B0BEC5",
                                "#B0BEC5",
                                "#B0BEC5",
                                "#B0BEC5",
                                "#B0BEC5",
                                "#B0BEC5",
                                "#B0BEC5",
                                "#B0BEC5",
                                "#B0BEC5",
                                "#B0BEC5",
                                "#B0BEC5",
                                "#B0BEC5",
                                "#B0BEC5",
                                "#B0BEC5",
                                "#B0BEC5",
                                "#B0BEC5",
                                "#B0BEC5",
                                "#B0BEC5"
                              ]
                            ]
                          }
                        ],
                        "label": "Topic 15",
                        "method": "update"
                      },
                      {
                        "args": [
                          {
                            "marker.color": [
                              [
                                "#B0BEC5",
                                "#B0BEC5",
                                "#B0BEC5",
                                "#B0BEC5",
                                "#B0BEC5",
                                "#B0BEC5",
                                "#B0BEC5",
                                "#B0BEC5",
                                "#B0BEC5",
                                "#B0BEC5",
                                "#B0BEC5",
                                "#B0BEC5",
                                "#B0BEC5",
                                "#B0BEC5",
                                "#B0BEC5",
                                "#B0BEC5",
                                "red",
                                "#B0BEC5",
                                "#B0BEC5",
                                "#B0BEC5",
                                "#B0BEC5",
                                "#B0BEC5",
                                "#B0BEC5",
                                "#B0BEC5",
                                "#B0BEC5",
                                "#B0BEC5",
                                "#B0BEC5",
                                "#B0BEC5",
                                "#B0BEC5",
                                "#B0BEC5",
                                "#B0BEC5",
                                "#B0BEC5",
                                "#B0BEC5",
                                "#B0BEC5",
                                "#B0BEC5",
                                "#B0BEC5",
                                "#B0BEC5",
                                "#B0BEC5",
                                "#B0BEC5",
                                "#B0BEC5",
                                "#B0BEC5",
                                "#B0BEC5",
                                "#B0BEC5",
                                "#B0BEC5",
                                "#B0BEC5",
                                "#B0BEC5",
                                "#B0BEC5",
                                "#B0BEC5",
                                "#B0BEC5",
                                "#B0BEC5",
                                "#B0BEC5",
                                "#B0BEC5",
                                "#B0BEC5",
                                "#B0BEC5",
                                "#B0BEC5",
                                "#B0BEC5",
                                "#B0BEC5",
                                "#B0BEC5",
                                "#B0BEC5",
                                "#B0BEC5",
                                "#B0BEC5",
                                "#B0BEC5",
                                "#B0BEC5",
                                "#B0BEC5",
                                "#B0BEC5"
                              ]
                            ]
                          }
                        ],
                        "label": "Topic 16",
                        "method": "update"
                      },
                      {
                        "args": [
                          {
                            "marker.color": [
                              [
                                "#B0BEC5",
                                "#B0BEC5",
                                "#B0BEC5",
                                "#B0BEC5",
                                "#B0BEC5",
                                "#B0BEC5",
                                "#B0BEC5",
                                "#B0BEC5",
                                "#B0BEC5",
                                "#B0BEC5",
                                "#B0BEC5",
                                "#B0BEC5",
                                "#B0BEC5",
                                "#B0BEC5",
                                "#B0BEC5",
                                "#B0BEC5",
                                "#B0BEC5",
                                "red",
                                "#B0BEC5",
                                "#B0BEC5",
                                "#B0BEC5",
                                "#B0BEC5",
                                "#B0BEC5",
                                "#B0BEC5",
                                "#B0BEC5",
                                "#B0BEC5",
                                "#B0BEC5",
                                "#B0BEC5",
                                "#B0BEC5",
                                "#B0BEC5",
                                "#B0BEC5",
                                "#B0BEC5",
                                "#B0BEC5",
                                "#B0BEC5",
                                "#B0BEC5",
                                "#B0BEC5",
                                "#B0BEC5",
                                "#B0BEC5",
                                "#B0BEC5",
                                "#B0BEC5",
                                "#B0BEC5",
                                "#B0BEC5",
                                "#B0BEC5",
                                "#B0BEC5",
                                "#B0BEC5",
                                "#B0BEC5",
                                "#B0BEC5",
                                "#B0BEC5",
                                "#B0BEC5",
                                "#B0BEC5",
                                "#B0BEC5",
                                "#B0BEC5",
                                "#B0BEC5",
                                "#B0BEC5",
                                "#B0BEC5",
                                "#B0BEC5",
                                "#B0BEC5",
                                "#B0BEC5",
                                "#B0BEC5",
                                "#B0BEC5",
                                "#B0BEC5",
                                "#B0BEC5",
                                "#B0BEC5",
                                "#B0BEC5",
                                "#B0BEC5"
                              ]
                            ]
                          }
                        ],
                        "label": "Topic 17",
                        "method": "update"
                      },
                      {
                        "args": [
                          {
                            "marker.color": [
                              [
                                "#B0BEC5",
                                "#B0BEC5",
                                "#B0BEC5",
                                "#B0BEC5",
                                "#B0BEC5",
                                "#B0BEC5",
                                "#B0BEC5",
                                "#B0BEC5",
                                "#B0BEC5",
                                "#B0BEC5",
                                "#B0BEC5",
                                "#B0BEC5",
                                "#B0BEC5",
                                "#B0BEC5",
                                "#B0BEC5",
                                "#B0BEC5",
                                "#B0BEC5",
                                "#B0BEC5",
                                "red",
                                "#B0BEC5",
                                "#B0BEC5",
                                "#B0BEC5",
                                "#B0BEC5",
                                "#B0BEC5",
                                "#B0BEC5",
                                "#B0BEC5",
                                "#B0BEC5",
                                "#B0BEC5",
                                "#B0BEC5",
                                "#B0BEC5",
                                "#B0BEC5",
                                "#B0BEC5",
                                "#B0BEC5",
                                "#B0BEC5",
                                "#B0BEC5",
                                "#B0BEC5",
                                "#B0BEC5",
                                "#B0BEC5",
                                "#B0BEC5",
                                "#B0BEC5",
                                "#B0BEC5",
                                "#B0BEC5",
                                "#B0BEC5",
                                "#B0BEC5",
                                "#B0BEC5",
                                "#B0BEC5",
                                "#B0BEC5",
                                "#B0BEC5",
                                "#B0BEC5",
                                "#B0BEC5",
                                "#B0BEC5",
                                "#B0BEC5",
                                "#B0BEC5",
                                "#B0BEC5",
                                "#B0BEC5",
                                "#B0BEC5",
                                "#B0BEC5",
                                "#B0BEC5",
                                "#B0BEC5",
                                "#B0BEC5",
                                "#B0BEC5",
                                "#B0BEC5",
                                "#B0BEC5",
                                "#B0BEC5",
                                "#B0BEC5"
                              ]
                            ]
                          }
                        ],
                        "label": "Topic 18",
                        "method": "update"
                      },
                      {
                        "args": [
                          {
                            "marker.color": [
                              [
                                "#B0BEC5",
                                "#B0BEC5",
                                "#B0BEC5",
                                "#B0BEC5",
                                "#B0BEC5",
                                "#B0BEC5",
                                "#B0BEC5",
                                "#B0BEC5",
                                "#B0BEC5",
                                "#B0BEC5",
                                "#B0BEC5",
                                "#B0BEC5",
                                "#B0BEC5",
                                "#B0BEC5",
                                "#B0BEC5",
                                "#B0BEC5",
                                "#B0BEC5",
                                "#B0BEC5",
                                "#B0BEC5",
                                "red",
                                "#B0BEC5",
                                "#B0BEC5",
                                "#B0BEC5",
                                "#B0BEC5",
                                "#B0BEC5",
                                "#B0BEC5",
                                "#B0BEC5",
                                "#B0BEC5",
                                "#B0BEC5",
                                "#B0BEC5",
                                "#B0BEC5",
                                "#B0BEC5",
                                "#B0BEC5",
                                "#B0BEC5",
                                "#B0BEC5",
                                "#B0BEC5",
                                "#B0BEC5",
                                "#B0BEC5",
                                "#B0BEC5",
                                "#B0BEC5",
                                "#B0BEC5",
                                "#B0BEC5",
                                "#B0BEC5",
                                "#B0BEC5",
                                "#B0BEC5",
                                "#B0BEC5",
                                "#B0BEC5",
                                "#B0BEC5",
                                "#B0BEC5",
                                "#B0BEC5",
                                "#B0BEC5",
                                "#B0BEC5",
                                "#B0BEC5",
                                "#B0BEC5",
                                "#B0BEC5",
                                "#B0BEC5",
                                "#B0BEC5",
                                "#B0BEC5",
                                "#B0BEC5",
                                "#B0BEC5",
                                "#B0BEC5",
                                "#B0BEC5",
                                "#B0BEC5",
                                "#B0BEC5",
                                "#B0BEC5"
                              ]
                            ]
                          }
                        ],
                        "label": "Topic 19",
                        "method": "update"
                      },
                      {
                        "args": [
                          {
                            "marker.color": [
                              [
                                "#B0BEC5",
                                "#B0BEC5",
                                "#B0BEC5",
                                "#B0BEC5",
                                "#B0BEC5",
                                "#B0BEC5",
                                "#B0BEC5",
                                "#B0BEC5",
                                "#B0BEC5",
                                "#B0BEC5",
                                "#B0BEC5",
                                "#B0BEC5",
                                "#B0BEC5",
                                "#B0BEC5",
                                "#B0BEC5",
                                "#B0BEC5",
                                "#B0BEC5",
                                "#B0BEC5",
                                "#B0BEC5",
                                "#B0BEC5",
                                "red",
                                "#B0BEC5",
                                "#B0BEC5",
                                "#B0BEC5",
                                "#B0BEC5",
                                "#B0BEC5",
                                "#B0BEC5",
                                "#B0BEC5",
                                "#B0BEC5",
                                "#B0BEC5",
                                "#B0BEC5",
                                "#B0BEC5",
                                "#B0BEC5",
                                "#B0BEC5",
                                "#B0BEC5",
                                "#B0BEC5",
                                "#B0BEC5",
                                "#B0BEC5",
                                "#B0BEC5",
                                "#B0BEC5",
                                "#B0BEC5",
                                "#B0BEC5",
                                "#B0BEC5",
                                "#B0BEC5",
                                "#B0BEC5",
                                "#B0BEC5",
                                "#B0BEC5",
                                "#B0BEC5",
                                "#B0BEC5",
                                "#B0BEC5",
                                "#B0BEC5",
                                "#B0BEC5",
                                "#B0BEC5",
                                "#B0BEC5",
                                "#B0BEC5",
                                "#B0BEC5",
                                "#B0BEC5",
                                "#B0BEC5",
                                "#B0BEC5",
                                "#B0BEC5",
                                "#B0BEC5",
                                "#B0BEC5",
                                "#B0BEC5",
                                "#B0BEC5",
                                "#B0BEC5"
                              ]
                            ]
                          }
                        ],
                        "label": "Topic 20",
                        "method": "update"
                      },
                      {
                        "args": [
                          {
                            "marker.color": [
                              [
                                "#B0BEC5",
                                "#B0BEC5",
                                "#B0BEC5",
                                "#B0BEC5",
                                "#B0BEC5",
                                "#B0BEC5",
                                "#B0BEC5",
                                "#B0BEC5",
                                "#B0BEC5",
                                "#B0BEC5",
                                "#B0BEC5",
                                "#B0BEC5",
                                "#B0BEC5",
                                "#B0BEC5",
                                "#B0BEC5",
                                "#B0BEC5",
                                "#B0BEC5",
                                "#B0BEC5",
                                "#B0BEC5",
                                "#B0BEC5",
                                "#B0BEC5",
                                "red",
                                "#B0BEC5",
                                "#B0BEC5",
                                "#B0BEC5",
                                "#B0BEC5",
                                "#B0BEC5",
                                "#B0BEC5",
                                "#B0BEC5",
                                "#B0BEC5",
                                "#B0BEC5",
                                "#B0BEC5",
                                "#B0BEC5",
                                "#B0BEC5",
                                "#B0BEC5",
                                "#B0BEC5",
                                "#B0BEC5",
                                "#B0BEC5",
                                "#B0BEC5",
                                "#B0BEC5",
                                "#B0BEC5",
                                "#B0BEC5",
                                "#B0BEC5",
                                "#B0BEC5",
                                "#B0BEC5",
                                "#B0BEC5",
                                "#B0BEC5",
                                "#B0BEC5",
                                "#B0BEC5",
                                "#B0BEC5",
                                "#B0BEC5",
                                "#B0BEC5",
                                "#B0BEC5",
                                "#B0BEC5",
                                "#B0BEC5",
                                "#B0BEC5",
                                "#B0BEC5",
                                "#B0BEC5",
                                "#B0BEC5",
                                "#B0BEC5",
                                "#B0BEC5",
                                "#B0BEC5",
                                "#B0BEC5",
                                "#B0BEC5",
                                "#B0BEC5"
                              ]
                            ]
                          }
                        ],
                        "label": "Topic 21",
                        "method": "update"
                      },
                      {
                        "args": [
                          {
                            "marker.color": [
                              [
                                "#B0BEC5",
                                "#B0BEC5",
                                "#B0BEC5",
                                "#B0BEC5",
                                "#B0BEC5",
                                "#B0BEC5",
                                "#B0BEC5",
                                "#B0BEC5",
                                "#B0BEC5",
                                "#B0BEC5",
                                "#B0BEC5",
                                "#B0BEC5",
                                "#B0BEC5",
                                "#B0BEC5",
                                "#B0BEC5",
                                "#B0BEC5",
                                "#B0BEC5",
                                "#B0BEC5",
                                "#B0BEC5",
                                "#B0BEC5",
                                "#B0BEC5",
                                "#B0BEC5",
                                "red",
                                "#B0BEC5",
                                "#B0BEC5",
                                "#B0BEC5",
                                "#B0BEC5",
                                "#B0BEC5",
                                "#B0BEC5",
                                "#B0BEC5",
                                "#B0BEC5",
                                "#B0BEC5",
                                "#B0BEC5",
                                "#B0BEC5",
                                "#B0BEC5",
                                "#B0BEC5",
                                "#B0BEC5",
                                "#B0BEC5",
                                "#B0BEC5",
                                "#B0BEC5",
                                "#B0BEC5",
                                "#B0BEC5",
                                "#B0BEC5",
                                "#B0BEC5",
                                "#B0BEC5",
                                "#B0BEC5",
                                "#B0BEC5",
                                "#B0BEC5",
                                "#B0BEC5",
                                "#B0BEC5",
                                "#B0BEC5",
                                "#B0BEC5",
                                "#B0BEC5",
                                "#B0BEC5",
                                "#B0BEC5",
                                "#B0BEC5",
                                "#B0BEC5",
                                "#B0BEC5",
                                "#B0BEC5",
                                "#B0BEC5",
                                "#B0BEC5",
                                "#B0BEC5",
                                "#B0BEC5",
                                "#B0BEC5",
                                "#B0BEC5"
                              ]
                            ]
                          }
                        ],
                        "label": "Topic 22",
                        "method": "update"
                      },
                      {
                        "args": [
                          {
                            "marker.color": [
                              [
                                "#B0BEC5",
                                "#B0BEC5",
                                "#B0BEC5",
                                "#B0BEC5",
                                "#B0BEC5",
                                "#B0BEC5",
                                "#B0BEC5",
                                "#B0BEC5",
                                "#B0BEC5",
                                "#B0BEC5",
                                "#B0BEC5",
                                "#B0BEC5",
                                "#B0BEC5",
                                "#B0BEC5",
                                "#B0BEC5",
                                "#B0BEC5",
                                "#B0BEC5",
                                "#B0BEC5",
                                "#B0BEC5",
                                "#B0BEC5",
                                "#B0BEC5",
                                "#B0BEC5",
                                "#B0BEC5",
                                "red",
                                "#B0BEC5",
                                "#B0BEC5",
                                "#B0BEC5",
                                "#B0BEC5",
                                "#B0BEC5",
                                "#B0BEC5",
                                "#B0BEC5",
                                "#B0BEC5",
                                "#B0BEC5",
                                "#B0BEC5",
                                "#B0BEC5",
                                "#B0BEC5",
                                "#B0BEC5",
                                "#B0BEC5",
                                "#B0BEC5",
                                "#B0BEC5",
                                "#B0BEC5",
                                "#B0BEC5",
                                "#B0BEC5",
                                "#B0BEC5",
                                "#B0BEC5",
                                "#B0BEC5",
                                "#B0BEC5",
                                "#B0BEC5",
                                "#B0BEC5",
                                "#B0BEC5",
                                "#B0BEC5",
                                "#B0BEC5",
                                "#B0BEC5",
                                "#B0BEC5",
                                "#B0BEC5",
                                "#B0BEC5",
                                "#B0BEC5",
                                "#B0BEC5",
                                "#B0BEC5",
                                "#B0BEC5",
                                "#B0BEC5",
                                "#B0BEC5",
                                "#B0BEC5",
                                "#B0BEC5",
                                "#B0BEC5"
                              ]
                            ]
                          }
                        ],
                        "label": "Topic 23",
                        "method": "update"
                      },
                      {
                        "args": [
                          {
                            "marker.color": [
                              [
                                "#B0BEC5",
                                "#B0BEC5",
                                "#B0BEC5",
                                "#B0BEC5",
                                "#B0BEC5",
                                "#B0BEC5",
                                "#B0BEC5",
                                "#B0BEC5",
                                "#B0BEC5",
                                "#B0BEC5",
                                "#B0BEC5",
                                "#B0BEC5",
                                "#B0BEC5",
                                "#B0BEC5",
                                "#B0BEC5",
                                "#B0BEC5",
                                "#B0BEC5",
                                "#B0BEC5",
                                "#B0BEC5",
                                "#B0BEC5",
                                "#B0BEC5",
                                "#B0BEC5",
                                "#B0BEC5",
                                "#B0BEC5",
                                "red",
                                "#B0BEC5",
                                "#B0BEC5",
                                "#B0BEC5",
                                "#B0BEC5",
                                "#B0BEC5",
                                "#B0BEC5",
                                "#B0BEC5",
                                "#B0BEC5",
                                "#B0BEC5",
                                "#B0BEC5",
                                "#B0BEC5",
                                "#B0BEC5",
                                "#B0BEC5",
                                "#B0BEC5",
                                "#B0BEC5",
                                "#B0BEC5",
                                "#B0BEC5",
                                "#B0BEC5",
                                "#B0BEC5",
                                "#B0BEC5",
                                "#B0BEC5",
                                "#B0BEC5",
                                "#B0BEC5",
                                "#B0BEC5",
                                "#B0BEC5",
                                "#B0BEC5",
                                "#B0BEC5",
                                "#B0BEC5",
                                "#B0BEC5",
                                "#B0BEC5",
                                "#B0BEC5",
                                "#B0BEC5",
                                "#B0BEC5",
                                "#B0BEC5",
                                "#B0BEC5",
                                "#B0BEC5",
                                "#B0BEC5",
                                "#B0BEC5",
                                "#B0BEC5",
                                "#B0BEC5"
                              ]
                            ]
                          }
                        ],
                        "label": "Topic 24",
                        "method": "update"
                      },
                      {
                        "args": [
                          {
                            "marker.color": [
                              [
                                "#B0BEC5",
                                "#B0BEC5",
                                "#B0BEC5",
                                "#B0BEC5",
                                "#B0BEC5",
                                "#B0BEC5",
                                "#B0BEC5",
                                "#B0BEC5",
                                "#B0BEC5",
                                "#B0BEC5",
                                "#B0BEC5",
                                "#B0BEC5",
                                "#B0BEC5",
                                "#B0BEC5",
                                "#B0BEC5",
                                "#B0BEC5",
                                "#B0BEC5",
                                "#B0BEC5",
                                "#B0BEC5",
                                "#B0BEC5",
                                "#B0BEC5",
                                "#B0BEC5",
                                "#B0BEC5",
                                "#B0BEC5",
                                "#B0BEC5",
                                "red",
                                "#B0BEC5",
                                "#B0BEC5",
                                "#B0BEC5",
                                "#B0BEC5",
                                "#B0BEC5",
                                "#B0BEC5",
                                "#B0BEC5",
                                "#B0BEC5",
                                "#B0BEC5",
                                "#B0BEC5",
                                "#B0BEC5",
                                "#B0BEC5",
                                "#B0BEC5",
                                "#B0BEC5",
                                "#B0BEC5",
                                "#B0BEC5",
                                "#B0BEC5",
                                "#B0BEC5",
                                "#B0BEC5",
                                "#B0BEC5",
                                "#B0BEC5",
                                "#B0BEC5",
                                "#B0BEC5",
                                "#B0BEC5",
                                "#B0BEC5",
                                "#B0BEC5",
                                "#B0BEC5",
                                "#B0BEC5",
                                "#B0BEC5",
                                "#B0BEC5",
                                "#B0BEC5",
                                "#B0BEC5",
                                "#B0BEC5",
                                "#B0BEC5",
                                "#B0BEC5",
                                "#B0BEC5",
                                "#B0BEC5",
                                "#B0BEC5",
                                "#B0BEC5"
                              ]
                            ]
                          }
                        ],
                        "label": "Topic 25",
                        "method": "update"
                      },
                      {
                        "args": [
                          {
                            "marker.color": [
                              [
                                "#B0BEC5",
                                "#B0BEC5",
                                "#B0BEC5",
                                "#B0BEC5",
                                "#B0BEC5",
                                "#B0BEC5",
                                "#B0BEC5",
                                "#B0BEC5",
                                "#B0BEC5",
                                "#B0BEC5",
                                "#B0BEC5",
                                "#B0BEC5",
                                "#B0BEC5",
                                "#B0BEC5",
                                "#B0BEC5",
                                "#B0BEC5",
                                "#B0BEC5",
                                "#B0BEC5",
                                "#B0BEC5",
                                "#B0BEC5",
                                "#B0BEC5",
                                "#B0BEC5",
                                "#B0BEC5",
                                "#B0BEC5",
                                "#B0BEC5",
                                "#B0BEC5",
                                "red",
                                "#B0BEC5",
                                "#B0BEC5",
                                "#B0BEC5",
                                "#B0BEC5",
                                "#B0BEC5",
                                "#B0BEC5",
                                "#B0BEC5",
                                "#B0BEC5",
                                "#B0BEC5",
                                "#B0BEC5",
                                "#B0BEC5",
                                "#B0BEC5",
                                "#B0BEC5",
                                "#B0BEC5",
                                "#B0BEC5",
                                "#B0BEC5",
                                "#B0BEC5",
                                "#B0BEC5",
                                "#B0BEC5",
                                "#B0BEC5",
                                "#B0BEC5",
                                "#B0BEC5",
                                "#B0BEC5",
                                "#B0BEC5",
                                "#B0BEC5",
                                "#B0BEC5",
                                "#B0BEC5",
                                "#B0BEC5",
                                "#B0BEC5",
                                "#B0BEC5",
                                "#B0BEC5",
                                "#B0BEC5",
                                "#B0BEC5",
                                "#B0BEC5",
                                "#B0BEC5",
                                "#B0BEC5",
                                "#B0BEC5",
                                "#B0BEC5"
                              ]
                            ]
                          }
                        ],
                        "label": "Topic 26",
                        "method": "update"
                      },
                      {
                        "args": [
                          {
                            "marker.color": [
                              [
                                "#B0BEC5",
                                "#B0BEC5",
                                "#B0BEC5",
                                "#B0BEC5",
                                "#B0BEC5",
                                "#B0BEC5",
                                "#B0BEC5",
                                "#B0BEC5",
                                "#B0BEC5",
                                "#B0BEC5",
                                "#B0BEC5",
                                "#B0BEC5",
                                "#B0BEC5",
                                "#B0BEC5",
                                "#B0BEC5",
                                "#B0BEC5",
                                "#B0BEC5",
                                "#B0BEC5",
                                "#B0BEC5",
                                "#B0BEC5",
                                "#B0BEC5",
                                "#B0BEC5",
                                "#B0BEC5",
                                "#B0BEC5",
                                "#B0BEC5",
                                "#B0BEC5",
                                "#B0BEC5",
                                "red",
                                "#B0BEC5",
                                "#B0BEC5",
                                "#B0BEC5",
                                "#B0BEC5",
                                "#B0BEC5",
                                "#B0BEC5",
                                "#B0BEC5",
                                "#B0BEC5",
                                "#B0BEC5",
                                "#B0BEC5",
                                "#B0BEC5",
                                "#B0BEC5",
                                "#B0BEC5",
                                "#B0BEC5",
                                "#B0BEC5",
                                "#B0BEC5",
                                "#B0BEC5",
                                "#B0BEC5",
                                "#B0BEC5",
                                "#B0BEC5",
                                "#B0BEC5",
                                "#B0BEC5",
                                "#B0BEC5",
                                "#B0BEC5",
                                "#B0BEC5",
                                "#B0BEC5",
                                "#B0BEC5",
                                "#B0BEC5",
                                "#B0BEC5",
                                "#B0BEC5",
                                "#B0BEC5",
                                "#B0BEC5",
                                "#B0BEC5",
                                "#B0BEC5",
                                "#B0BEC5",
                                "#B0BEC5",
                                "#B0BEC5"
                              ]
                            ]
                          }
                        ],
                        "label": "Topic 27",
                        "method": "update"
                      },
                      {
                        "args": [
                          {
                            "marker.color": [
                              [
                                "#B0BEC5",
                                "#B0BEC5",
                                "#B0BEC5",
                                "#B0BEC5",
                                "#B0BEC5",
                                "#B0BEC5",
                                "#B0BEC5",
                                "#B0BEC5",
                                "#B0BEC5",
                                "#B0BEC5",
                                "#B0BEC5",
                                "#B0BEC5",
                                "#B0BEC5",
                                "#B0BEC5",
                                "#B0BEC5",
                                "#B0BEC5",
                                "#B0BEC5",
                                "#B0BEC5",
                                "#B0BEC5",
                                "#B0BEC5",
                                "#B0BEC5",
                                "#B0BEC5",
                                "#B0BEC5",
                                "#B0BEC5",
                                "#B0BEC5",
                                "#B0BEC5",
                                "#B0BEC5",
                                "#B0BEC5",
                                "red",
                                "#B0BEC5",
                                "#B0BEC5",
                                "#B0BEC5",
                                "#B0BEC5",
                                "#B0BEC5",
                                "#B0BEC5",
                                "#B0BEC5",
                                "#B0BEC5",
                                "#B0BEC5",
                                "#B0BEC5",
                                "#B0BEC5",
                                "#B0BEC5",
                                "#B0BEC5",
                                "#B0BEC5",
                                "#B0BEC5",
                                "#B0BEC5",
                                "#B0BEC5",
                                "#B0BEC5",
                                "#B0BEC5",
                                "#B0BEC5",
                                "#B0BEC5",
                                "#B0BEC5",
                                "#B0BEC5",
                                "#B0BEC5",
                                "#B0BEC5",
                                "#B0BEC5",
                                "#B0BEC5",
                                "#B0BEC5",
                                "#B0BEC5",
                                "#B0BEC5",
                                "#B0BEC5",
                                "#B0BEC5",
                                "#B0BEC5",
                                "#B0BEC5",
                                "#B0BEC5",
                                "#B0BEC5"
                              ]
                            ]
                          }
                        ],
                        "label": "Topic 28",
                        "method": "update"
                      },
                      {
                        "args": [
                          {
                            "marker.color": [
                              [
                                "#B0BEC5",
                                "#B0BEC5",
                                "#B0BEC5",
                                "#B0BEC5",
                                "#B0BEC5",
                                "#B0BEC5",
                                "#B0BEC5",
                                "#B0BEC5",
                                "#B0BEC5",
                                "#B0BEC5",
                                "#B0BEC5",
                                "#B0BEC5",
                                "#B0BEC5",
                                "#B0BEC5",
                                "#B0BEC5",
                                "#B0BEC5",
                                "#B0BEC5",
                                "#B0BEC5",
                                "#B0BEC5",
                                "#B0BEC5",
                                "#B0BEC5",
                                "#B0BEC5",
                                "#B0BEC5",
                                "#B0BEC5",
                                "#B0BEC5",
                                "#B0BEC5",
                                "#B0BEC5",
                                "#B0BEC5",
                                "#B0BEC5",
                                "red",
                                "#B0BEC5",
                                "#B0BEC5",
                                "#B0BEC5",
                                "#B0BEC5",
                                "#B0BEC5",
                                "#B0BEC5",
                                "#B0BEC5",
                                "#B0BEC5",
                                "#B0BEC5",
                                "#B0BEC5",
                                "#B0BEC5",
                                "#B0BEC5",
                                "#B0BEC5",
                                "#B0BEC5",
                                "#B0BEC5",
                                "#B0BEC5",
                                "#B0BEC5",
                                "#B0BEC5",
                                "#B0BEC5",
                                "#B0BEC5",
                                "#B0BEC5",
                                "#B0BEC5",
                                "#B0BEC5",
                                "#B0BEC5",
                                "#B0BEC5",
                                "#B0BEC5",
                                "#B0BEC5",
                                "#B0BEC5",
                                "#B0BEC5",
                                "#B0BEC5",
                                "#B0BEC5",
                                "#B0BEC5",
                                "#B0BEC5",
                                "#B0BEC5",
                                "#B0BEC5"
                              ]
                            ]
                          }
                        ],
                        "label": "Topic 29",
                        "method": "update"
                      },
                      {
                        "args": [
                          {
                            "marker.color": [
                              [
                                "#B0BEC5",
                                "#B0BEC5",
                                "#B0BEC5",
                                "#B0BEC5",
                                "#B0BEC5",
                                "#B0BEC5",
                                "#B0BEC5",
                                "#B0BEC5",
                                "#B0BEC5",
                                "#B0BEC5",
                                "#B0BEC5",
                                "#B0BEC5",
                                "#B0BEC5",
                                "#B0BEC5",
                                "#B0BEC5",
                                "#B0BEC5",
                                "#B0BEC5",
                                "#B0BEC5",
                                "#B0BEC5",
                                "#B0BEC5",
                                "#B0BEC5",
                                "#B0BEC5",
                                "#B0BEC5",
                                "#B0BEC5",
                                "#B0BEC5",
                                "#B0BEC5",
                                "#B0BEC5",
                                "#B0BEC5",
                                "#B0BEC5",
                                "#B0BEC5",
                                "red",
                                "#B0BEC5",
                                "#B0BEC5",
                                "#B0BEC5",
                                "#B0BEC5",
                                "#B0BEC5",
                                "#B0BEC5",
                                "#B0BEC5",
                                "#B0BEC5",
                                "#B0BEC5",
                                "#B0BEC5",
                                "#B0BEC5",
                                "#B0BEC5",
                                "#B0BEC5",
                                "#B0BEC5",
                                "#B0BEC5",
                                "#B0BEC5",
                                "#B0BEC5",
                                "#B0BEC5",
                                "#B0BEC5",
                                "#B0BEC5",
                                "#B0BEC5",
                                "#B0BEC5",
                                "#B0BEC5",
                                "#B0BEC5",
                                "#B0BEC5",
                                "#B0BEC5",
                                "#B0BEC5",
                                "#B0BEC5",
                                "#B0BEC5",
                                "#B0BEC5",
                                "#B0BEC5",
                                "#B0BEC5",
                                "#B0BEC5",
                                "#B0BEC5"
                              ]
                            ]
                          }
                        ],
                        "label": "Topic 30",
                        "method": "update"
                      },
                      {
                        "args": [
                          {
                            "marker.color": [
                              [
                                "#B0BEC5",
                                "#B0BEC5",
                                "#B0BEC5",
                                "#B0BEC5",
                                "#B0BEC5",
                                "#B0BEC5",
                                "#B0BEC5",
                                "#B0BEC5",
                                "#B0BEC5",
                                "#B0BEC5",
                                "#B0BEC5",
                                "#B0BEC5",
                                "#B0BEC5",
                                "#B0BEC5",
                                "#B0BEC5",
                                "#B0BEC5",
                                "#B0BEC5",
                                "#B0BEC5",
                                "#B0BEC5",
                                "#B0BEC5",
                                "#B0BEC5",
                                "#B0BEC5",
                                "#B0BEC5",
                                "#B0BEC5",
                                "#B0BEC5",
                                "#B0BEC5",
                                "#B0BEC5",
                                "#B0BEC5",
                                "#B0BEC5",
                                "#B0BEC5",
                                "#B0BEC5",
                                "red",
                                "#B0BEC5",
                                "#B0BEC5",
                                "#B0BEC5",
                                "#B0BEC5",
                                "#B0BEC5",
                                "#B0BEC5",
                                "#B0BEC5",
                                "#B0BEC5",
                                "#B0BEC5",
                                "#B0BEC5",
                                "#B0BEC5",
                                "#B0BEC5",
                                "#B0BEC5",
                                "#B0BEC5",
                                "#B0BEC5",
                                "#B0BEC5",
                                "#B0BEC5",
                                "#B0BEC5",
                                "#B0BEC5",
                                "#B0BEC5",
                                "#B0BEC5",
                                "#B0BEC5",
                                "#B0BEC5",
                                "#B0BEC5",
                                "#B0BEC5",
                                "#B0BEC5",
                                "#B0BEC5",
                                "#B0BEC5",
                                "#B0BEC5",
                                "#B0BEC5",
                                "#B0BEC5",
                                "#B0BEC5",
                                "#B0BEC5"
                              ]
                            ]
                          }
                        ],
                        "label": "Topic 31",
                        "method": "update"
                      },
                      {
                        "args": [
                          {
                            "marker.color": [
                              [
                                "#B0BEC5",
                                "#B0BEC5",
                                "#B0BEC5",
                                "#B0BEC5",
                                "#B0BEC5",
                                "#B0BEC5",
                                "#B0BEC5",
                                "#B0BEC5",
                                "#B0BEC5",
                                "#B0BEC5",
                                "#B0BEC5",
                                "#B0BEC5",
                                "#B0BEC5",
                                "#B0BEC5",
                                "#B0BEC5",
                                "#B0BEC5",
                                "#B0BEC5",
                                "#B0BEC5",
                                "#B0BEC5",
                                "#B0BEC5",
                                "#B0BEC5",
                                "#B0BEC5",
                                "#B0BEC5",
                                "#B0BEC5",
                                "#B0BEC5",
                                "#B0BEC5",
                                "#B0BEC5",
                                "#B0BEC5",
                                "#B0BEC5",
                                "#B0BEC5",
                                "#B0BEC5",
                                "#B0BEC5",
                                "red",
                                "#B0BEC5",
                                "#B0BEC5",
                                "#B0BEC5",
                                "#B0BEC5",
                                "#B0BEC5",
                                "#B0BEC5",
                                "#B0BEC5",
                                "#B0BEC5",
                                "#B0BEC5",
                                "#B0BEC5",
                                "#B0BEC5",
                                "#B0BEC5",
                                "#B0BEC5",
                                "#B0BEC5",
                                "#B0BEC5",
                                "#B0BEC5",
                                "#B0BEC5",
                                "#B0BEC5",
                                "#B0BEC5",
                                "#B0BEC5",
                                "#B0BEC5",
                                "#B0BEC5",
                                "#B0BEC5",
                                "#B0BEC5",
                                "#B0BEC5",
                                "#B0BEC5",
                                "#B0BEC5",
                                "#B0BEC5",
                                "#B0BEC5",
                                "#B0BEC5",
                                "#B0BEC5",
                                "#B0BEC5"
                              ]
                            ]
                          }
                        ],
                        "label": "Topic 32",
                        "method": "update"
                      },
                      {
                        "args": [
                          {
                            "marker.color": [
                              [
                                "#B0BEC5",
                                "#B0BEC5",
                                "#B0BEC5",
                                "#B0BEC5",
                                "#B0BEC5",
                                "#B0BEC5",
                                "#B0BEC5",
                                "#B0BEC5",
                                "#B0BEC5",
                                "#B0BEC5",
                                "#B0BEC5",
                                "#B0BEC5",
                                "#B0BEC5",
                                "#B0BEC5",
                                "#B0BEC5",
                                "#B0BEC5",
                                "#B0BEC5",
                                "#B0BEC5",
                                "#B0BEC5",
                                "#B0BEC5",
                                "#B0BEC5",
                                "#B0BEC5",
                                "#B0BEC5",
                                "#B0BEC5",
                                "#B0BEC5",
                                "#B0BEC5",
                                "#B0BEC5",
                                "#B0BEC5",
                                "#B0BEC5",
                                "#B0BEC5",
                                "#B0BEC5",
                                "#B0BEC5",
                                "#B0BEC5",
                                "red",
                                "#B0BEC5",
                                "#B0BEC5",
                                "#B0BEC5",
                                "#B0BEC5",
                                "#B0BEC5",
                                "#B0BEC5",
                                "#B0BEC5",
                                "#B0BEC5",
                                "#B0BEC5",
                                "#B0BEC5",
                                "#B0BEC5",
                                "#B0BEC5",
                                "#B0BEC5",
                                "#B0BEC5",
                                "#B0BEC5",
                                "#B0BEC5",
                                "#B0BEC5",
                                "#B0BEC5",
                                "#B0BEC5",
                                "#B0BEC5",
                                "#B0BEC5",
                                "#B0BEC5",
                                "#B0BEC5",
                                "#B0BEC5",
                                "#B0BEC5",
                                "#B0BEC5",
                                "#B0BEC5",
                                "#B0BEC5",
                                "#B0BEC5",
                                "#B0BEC5",
                                "#B0BEC5"
                              ]
                            ]
                          }
                        ],
                        "label": "Topic 33",
                        "method": "update"
                      },
                      {
                        "args": [
                          {
                            "marker.color": [
                              [
                                "#B0BEC5",
                                "#B0BEC5",
                                "#B0BEC5",
                                "#B0BEC5",
                                "#B0BEC5",
                                "#B0BEC5",
                                "#B0BEC5",
                                "#B0BEC5",
                                "#B0BEC5",
                                "#B0BEC5",
                                "#B0BEC5",
                                "#B0BEC5",
                                "#B0BEC5",
                                "#B0BEC5",
                                "#B0BEC5",
                                "#B0BEC5",
                                "#B0BEC5",
                                "#B0BEC5",
                                "#B0BEC5",
                                "#B0BEC5",
                                "#B0BEC5",
                                "#B0BEC5",
                                "#B0BEC5",
                                "#B0BEC5",
                                "#B0BEC5",
                                "#B0BEC5",
                                "#B0BEC5",
                                "#B0BEC5",
                                "#B0BEC5",
                                "#B0BEC5",
                                "#B0BEC5",
                                "#B0BEC5",
                                "#B0BEC5",
                                "#B0BEC5",
                                "red",
                                "#B0BEC5",
                                "#B0BEC5",
                                "#B0BEC5",
                                "#B0BEC5",
                                "#B0BEC5",
                                "#B0BEC5",
                                "#B0BEC5",
                                "#B0BEC5",
                                "#B0BEC5",
                                "#B0BEC5",
                                "#B0BEC5",
                                "#B0BEC5",
                                "#B0BEC5",
                                "#B0BEC5",
                                "#B0BEC5",
                                "#B0BEC5",
                                "#B0BEC5",
                                "#B0BEC5",
                                "#B0BEC5",
                                "#B0BEC5",
                                "#B0BEC5",
                                "#B0BEC5",
                                "#B0BEC5",
                                "#B0BEC5",
                                "#B0BEC5",
                                "#B0BEC5",
                                "#B0BEC5",
                                "#B0BEC5",
                                "#B0BEC5",
                                "#B0BEC5"
                              ]
                            ]
                          }
                        ],
                        "label": "Topic 34",
                        "method": "update"
                      },
                      {
                        "args": [
                          {
                            "marker.color": [
                              [
                                "#B0BEC5",
                                "#B0BEC5",
                                "#B0BEC5",
                                "#B0BEC5",
                                "#B0BEC5",
                                "#B0BEC5",
                                "#B0BEC5",
                                "#B0BEC5",
                                "#B0BEC5",
                                "#B0BEC5",
                                "#B0BEC5",
                                "#B0BEC5",
                                "#B0BEC5",
                                "#B0BEC5",
                                "#B0BEC5",
                                "#B0BEC5",
                                "#B0BEC5",
                                "#B0BEC5",
                                "#B0BEC5",
                                "#B0BEC5",
                                "#B0BEC5",
                                "#B0BEC5",
                                "#B0BEC5",
                                "#B0BEC5",
                                "#B0BEC5",
                                "#B0BEC5",
                                "#B0BEC5",
                                "#B0BEC5",
                                "#B0BEC5",
                                "#B0BEC5",
                                "#B0BEC5",
                                "#B0BEC5",
                                "#B0BEC5",
                                "#B0BEC5",
                                "#B0BEC5",
                                "red",
                                "#B0BEC5",
                                "#B0BEC5",
                                "#B0BEC5",
                                "#B0BEC5",
                                "#B0BEC5",
                                "#B0BEC5",
                                "#B0BEC5",
                                "#B0BEC5",
                                "#B0BEC5",
                                "#B0BEC5",
                                "#B0BEC5",
                                "#B0BEC5",
                                "#B0BEC5",
                                "#B0BEC5",
                                "#B0BEC5",
                                "#B0BEC5",
                                "#B0BEC5",
                                "#B0BEC5",
                                "#B0BEC5",
                                "#B0BEC5",
                                "#B0BEC5",
                                "#B0BEC5",
                                "#B0BEC5",
                                "#B0BEC5",
                                "#B0BEC5",
                                "#B0BEC5",
                                "#B0BEC5",
                                "#B0BEC5",
                                "#B0BEC5"
                              ]
                            ]
                          }
                        ],
                        "label": "Topic 35",
                        "method": "update"
                      },
                      {
                        "args": [
                          {
                            "marker.color": [
                              [
                                "#B0BEC5",
                                "#B0BEC5",
                                "#B0BEC5",
                                "#B0BEC5",
                                "#B0BEC5",
                                "#B0BEC5",
                                "#B0BEC5",
                                "#B0BEC5",
                                "#B0BEC5",
                                "#B0BEC5",
                                "#B0BEC5",
                                "#B0BEC5",
                                "#B0BEC5",
                                "#B0BEC5",
                                "#B0BEC5",
                                "#B0BEC5",
                                "#B0BEC5",
                                "#B0BEC5",
                                "#B0BEC5",
                                "#B0BEC5",
                                "#B0BEC5",
                                "#B0BEC5",
                                "#B0BEC5",
                                "#B0BEC5",
                                "#B0BEC5",
                                "#B0BEC5",
                                "#B0BEC5",
                                "#B0BEC5",
                                "#B0BEC5",
                                "#B0BEC5",
                                "#B0BEC5",
                                "#B0BEC5",
                                "#B0BEC5",
                                "#B0BEC5",
                                "#B0BEC5",
                                "#B0BEC5",
                                "red",
                                "#B0BEC5",
                                "#B0BEC5",
                                "#B0BEC5",
                                "#B0BEC5",
                                "#B0BEC5",
                                "#B0BEC5",
                                "#B0BEC5",
                                "#B0BEC5",
                                "#B0BEC5",
                                "#B0BEC5",
                                "#B0BEC5",
                                "#B0BEC5",
                                "#B0BEC5",
                                "#B0BEC5",
                                "#B0BEC5",
                                "#B0BEC5",
                                "#B0BEC5",
                                "#B0BEC5",
                                "#B0BEC5",
                                "#B0BEC5",
                                "#B0BEC5",
                                "#B0BEC5",
                                "#B0BEC5",
                                "#B0BEC5",
                                "#B0BEC5",
                                "#B0BEC5",
                                "#B0BEC5",
                                "#B0BEC5"
                              ]
                            ]
                          }
                        ],
                        "label": "Topic 36",
                        "method": "update"
                      },
                      {
                        "args": [
                          {
                            "marker.color": [
                              [
                                "#B0BEC5",
                                "#B0BEC5",
                                "#B0BEC5",
                                "#B0BEC5",
                                "#B0BEC5",
                                "#B0BEC5",
                                "#B0BEC5",
                                "#B0BEC5",
                                "#B0BEC5",
                                "#B0BEC5",
                                "#B0BEC5",
                                "#B0BEC5",
                                "#B0BEC5",
                                "#B0BEC5",
                                "#B0BEC5",
                                "#B0BEC5",
                                "#B0BEC5",
                                "#B0BEC5",
                                "#B0BEC5",
                                "#B0BEC5",
                                "#B0BEC5",
                                "#B0BEC5",
                                "#B0BEC5",
                                "#B0BEC5",
                                "#B0BEC5",
                                "#B0BEC5",
                                "#B0BEC5",
                                "#B0BEC5",
                                "#B0BEC5",
                                "#B0BEC5",
                                "#B0BEC5",
                                "#B0BEC5",
                                "#B0BEC5",
                                "#B0BEC5",
                                "#B0BEC5",
                                "#B0BEC5",
                                "#B0BEC5",
                                "red",
                                "#B0BEC5",
                                "#B0BEC5",
                                "#B0BEC5",
                                "#B0BEC5",
                                "#B0BEC5",
                                "#B0BEC5",
                                "#B0BEC5",
                                "#B0BEC5",
                                "#B0BEC5",
                                "#B0BEC5",
                                "#B0BEC5",
                                "#B0BEC5",
                                "#B0BEC5",
                                "#B0BEC5",
                                "#B0BEC5",
                                "#B0BEC5",
                                "#B0BEC5",
                                "#B0BEC5",
                                "#B0BEC5",
                                "#B0BEC5",
                                "#B0BEC5",
                                "#B0BEC5",
                                "#B0BEC5",
                                "#B0BEC5",
                                "#B0BEC5",
                                "#B0BEC5",
                                "#B0BEC5"
                              ]
                            ]
                          }
                        ],
                        "label": "Topic 37",
                        "method": "update"
                      },
                      {
                        "args": [
                          {
                            "marker.color": [
                              [
                                "#B0BEC5",
                                "#B0BEC5",
                                "#B0BEC5",
                                "#B0BEC5",
                                "#B0BEC5",
                                "#B0BEC5",
                                "#B0BEC5",
                                "#B0BEC5",
                                "#B0BEC5",
                                "#B0BEC5",
                                "#B0BEC5",
                                "#B0BEC5",
                                "#B0BEC5",
                                "#B0BEC5",
                                "#B0BEC5",
                                "#B0BEC5",
                                "#B0BEC5",
                                "#B0BEC5",
                                "#B0BEC5",
                                "#B0BEC5",
                                "#B0BEC5",
                                "#B0BEC5",
                                "#B0BEC5",
                                "#B0BEC5",
                                "#B0BEC5",
                                "#B0BEC5",
                                "#B0BEC5",
                                "#B0BEC5",
                                "#B0BEC5",
                                "#B0BEC5",
                                "#B0BEC5",
                                "#B0BEC5",
                                "#B0BEC5",
                                "#B0BEC5",
                                "#B0BEC5",
                                "#B0BEC5",
                                "#B0BEC5",
                                "#B0BEC5",
                                "red",
                                "#B0BEC5",
                                "#B0BEC5",
                                "#B0BEC5",
                                "#B0BEC5",
                                "#B0BEC5",
                                "#B0BEC5",
                                "#B0BEC5",
                                "#B0BEC5",
                                "#B0BEC5",
                                "#B0BEC5",
                                "#B0BEC5",
                                "#B0BEC5",
                                "#B0BEC5",
                                "#B0BEC5",
                                "#B0BEC5",
                                "#B0BEC5",
                                "#B0BEC5",
                                "#B0BEC5",
                                "#B0BEC5",
                                "#B0BEC5",
                                "#B0BEC5",
                                "#B0BEC5",
                                "#B0BEC5",
                                "#B0BEC5",
                                "#B0BEC5",
                                "#B0BEC5"
                              ]
                            ]
                          }
                        ],
                        "label": "Topic 38",
                        "method": "update"
                      },
                      {
                        "args": [
                          {
                            "marker.color": [
                              [
                                "#B0BEC5",
                                "#B0BEC5",
                                "#B0BEC5",
                                "#B0BEC5",
                                "#B0BEC5",
                                "#B0BEC5",
                                "#B0BEC5",
                                "#B0BEC5",
                                "#B0BEC5",
                                "#B0BEC5",
                                "#B0BEC5",
                                "#B0BEC5",
                                "#B0BEC5",
                                "#B0BEC5",
                                "#B0BEC5",
                                "#B0BEC5",
                                "#B0BEC5",
                                "#B0BEC5",
                                "#B0BEC5",
                                "#B0BEC5",
                                "#B0BEC5",
                                "#B0BEC5",
                                "#B0BEC5",
                                "#B0BEC5",
                                "#B0BEC5",
                                "#B0BEC5",
                                "#B0BEC5",
                                "#B0BEC5",
                                "#B0BEC5",
                                "#B0BEC5",
                                "#B0BEC5",
                                "#B0BEC5",
                                "#B0BEC5",
                                "#B0BEC5",
                                "#B0BEC5",
                                "#B0BEC5",
                                "#B0BEC5",
                                "#B0BEC5",
                                "#B0BEC5",
                                "red",
                                "#B0BEC5",
                                "#B0BEC5",
                                "#B0BEC5",
                                "#B0BEC5",
                                "#B0BEC5",
                                "#B0BEC5",
                                "#B0BEC5",
                                "#B0BEC5",
                                "#B0BEC5",
                                "#B0BEC5",
                                "#B0BEC5",
                                "#B0BEC5",
                                "#B0BEC5",
                                "#B0BEC5",
                                "#B0BEC5",
                                "#B0BEC5",
                                "#B0BEC5",
                                "#B0BEC5",
                                "#B0BEC5",
                                "#B0BEC5",
                                "#B0BEC5",
                                "#B0BEC5",
                                "#B0BEC5",
                                "#B0BEC5",
                                "#B0BEC5"
                              ]
                            ]
                          }
                        ],
                        "label": "Topic 39",
                        "method": "update"
                      },
                      {
                        "args": [
                          {
                            "marker.color": [
                              [
                                "#B0BEC5",
                                "#B0BEC5",
                                "#B0BEC5",
                                "#B0BEC5",
                                "#B0BEC5",
                                "#B0BEC5",
                                "#B0BEC5",
                                "#B0BEC5",
                                "#B0BEC5",
                                "#B0BEC5",
                                "#B0BEC5",
                                "#B0BEC5",
                                "#B0BEC5",
                                "#B0BEC5",
                                "#B0BEC5",
                                "#B0BEC5",
                                "#B0BEC5",
                                "#B0BEC5",
                                "#B0BEC5",
                                "#B0BEC5",
                                "#B0BEC5",
                                "#B0BEC5",
                                "#B0BEC5",
                                "#B0BEC5",
                                "#B0BEC5",
                                "#B0BEC5",
                                "#B0BEC5",
                                "#B0BEC5",
                                "#B0BEC5",
                                "#B0BEC5",
                                "#B0BEC5",
                                "#B0BEC5",
                                "#B0BEC5",
                                "#B0BEC5",
                                "#B0BEC5",
                                "#B0BEC5",
                                "#B0BEC5",
                                "#B0BEC5",
                                "#B0BEC5",
                                "#B0BEC5",
                                "red",
                                "#B0BEC5",
                                "#B0BEC5",
                                "#B0BEC5",
                                "#B0BEC5",
                                "#B0BEC5",
                                "#B0BEC5",
                                "#B0BEC5",
                                "#B0BEC5",
                                "#B0BEC5",
                                "#B0BEC5",
                                "#B0BEC5",
                                "#B0BEC5",
                                "#B0BEC5",
                                "#B0BEC5",
                                "#B0BEC5",
                                "#B0BEC5",
                                "#B0BEC5",
                                "#B0BEC5",
                                "#B0BEC5",
                                "#B0BEC5",
                                "#B0BEC5",
                                "#B0BEC5",
                                "#B0BEC5",
                                "#B0BEC5"
                              ]
                            ]
                          }
                        ],
                        "label": "Topic 40",
                        "method": "update"
                      },
                      {
                        "args": [
                          {
                            "marker.color": [
                              [
                                "#B0BEC5",
                                "#B0BEC5",
                                "#B0BEC5",
                                "#B0BEC5",
                                "#B0BEC5",
                                "#B0BEC5",
                                "#B0BEC5",
                                "#B0BEC5",
                                "#B0BEC5",
                                "#B0BEC5",
                                "#B0BEC5",
                                "#B0BEC5",
                                "#B0BEC5",
                                "#B0BEC5",
                                "#B0BEC5",
                                "#B0BEC5",
                                "#B0BEC5",
                                "#B0BEC5",
                                "#B0BEC5",
                                "#B0BEC5",
                                "#B0BEC5",
                                "#B0BEC5",
                                "#B0BEC5",
                                "#B0BEC5",
                                "#B0BEC5",
                                "#B0BEC5",
                                "#B0BEC5",
                                "#B0BEC5",
                                "#B0BEC5",
                                "#B0BEC5",
                                "#B0BEC5",
                                "#B0BEC5",
                                "#B0BEC5",
                                "#B0BEC5",
                                "#B0BEC5",
                                "#B0BEC5",
                                "#B0BEC5",
                                "#B0BEC5",
                                "#B0BEC5",
                                "#B0BEC5",
                                "#B0BEC5",
                                "red",
                                "#B0BEC5",
                                "#B0BEC5",
                                "#B0BEC5",
                                "#B0BEC5",
                                "#B0BEC5",
                                "#B0BEC5",
                                "#B0BEC5",
                                "#B0BEC5",
                                "#B0BEC5",
                                "#B0BEC5",
                                "#B0BEC5",
                                "#B0BEC5",
                                "#B0BEC5",
                                "#B0BEC5",
                                "#B0BEC5",
                                "#B0BEC5",
                                "#B0BEC5",
                                "#B0BEC5",
                                "#B0BEC5",
                                "#B0BEC5",
                                "#B0BEC5",
                                "#B0BEC5",
                                "#B0BEC5"
                              ]
                            ]
                          }
                        ],
                        "label": "Topic 41",
                        "method": "update"
                      },
                      {
                        "args": [
                          {
                            "marker.color": [
                              [
                                "#B0BEC5",
                                "#B0BEC5",
                                "#B0BEC5",
                                "#B0BEC5",
                                "#B0BEC5",
                                "#B0BEC5",
                                "#B0BEC5",
                                "#B0BEC5",
                                "#B0BEC5",
                                "#B0BEC5",
                                "#B0BEC5",
                                "#B0BEC5",
                                "#B0BEC5",
                                "#B0BEC5",
                                "#B0BEC5",
                                "#B0BEC5",
                                "#B0BEC5",
                                "#B0BEC5",
                                "#B0BEC5",
                                "#B0BEC5",
                                "#B0BEC5",
                                "#B0BEC5",
                                "#B0BEC5",
                                "#B0BEC5",
                                "#B0BEC5",
                                "#B0BEC5",
                                "#B0BEC5",
                                "#B0BEC5",
                                "#B0BEC5",
                                "#B0BEC5",
                                "#B0BEC5",
                                "#B0BEC5",
                                "#B0BEC5",
                                "#B0BEC5",
                                "#B0BEC5",
                                "#B0BEC5",
                                "#B0BEC5",
                                "#B0BEC5",
                                "#B0BEC5",
                                "#B0BEC5",
                                "#B0BEC5",
                                "#B0BEC5",
                                "red",
                                "#B0BEC5",
                                "#B0BEC5",
                                "#B0BEC5",
                                "#B0BEC5",
                                "#B0BEC5",
                                "#B0BEC5",
                                "#B0BEC5",
                                "#B0BEC5",
                                "#B0BEC5",
                                "#B0BEC5",
                                "#B0BEC5",
                                "#B0BEC5",
                                "#B0BEC5",
                                "#B0BEC5",
                                "#B0BEC5",
                                "#B0BEC5",
                                "#B0BEC5",
                                "#B0BEC5",
                                "#B0BEC5",
                                "#B0BEC5",
                                "#B0BEC5",
                                "#B0BEC5"
                              ]
                            ]
                          }
                        ],
                        "label": "Topic 42",
                        "method": "update"
                      },
                      {
                        "args": [
                          {
                            "marker.color": [
                              [
                                "#B0BEC5",
                                "#B0BEC5",
                                "#B0BEC5",
                                "#B0BEC5",
                                "#B0BEC5",
                                "#B0BEC5",
                                "#B0BEC5",
                                "#B0BEC5",
                                "#B0BEC5",
                                "#B0BEC5",
                                "#B0BEC5",
                                "#B0BEC5",
                                "#B0BEC5",
                                "#B0BEC5",
                                "#B0BEC5",
                                "#B0BEC5",
                                "#B0BEC5",
                                "#B0BEC5",
                                "#B0BEC5",
                                "#B0BEC5",
                                "#B0BEC5",
                                "#B0BEC5",
                                "#B0BEC5",
                                "#B0BEC5",
                                "#B0BEC5",
                                "#B0BEC5",
                                "#B0BEC5",
                                "#B0BEC5",
                                "#B0BEC5",
                                "#B0BEC5",
                                "#B0BEC5",
                                "#B0BEC5",
                                "#B0BEC5",
                                "#B0BEC5",
                                "#B0BEC5",
                                "#B0BEC5",
                                "#B0BEC5",
                                "#B0BEC5",
                                "#B0BEC5",
                                "#B0BEC5",
                                "#B0BEC5",
                                "#B0BEC5",
                                "#B0BEC5",
                                "red",
                                "#B0BEC5",
                                "#B0BEC5",
                                "#B0BEC5",
                                "#B0BEC5",
                                "#B0BEC5",
                                "#B0BEC5",
                                "#B0BEC5",
                                "#B0BEC5",
                                "#B0BEC5",
                                "#B0BEC5",
                                "#B0BEC5",
                                "#B0BEC5",
                                "#B0BEC5",
                                "#B0BEC5",
                                "#B0BEC5",
                                "#B0BEC5",
                                "#B0BEC5",
                                "#B0BEC5",
                                "#B0BEC5",
                                "#B0BEC5",
                                "#B0BEC5"
                              ]
                            ]
                          }
                        ],
                        "label": "Topic 43",
                        "method": "update"
                      },
                      {
                        "args": [
                          {
                            "marker.color": [
                              [
                                "#B0BEC5",
                                "#B0BEC5",
                                "#B0BEC5",
                                "#B0BEC5",
                                "#B0BEC5",
                                "#B0BEC5",
                                "#B0BEC5",
                                "#B0BEC5",
                                "#B0BEC5",
                                "#B0BEC5",
                                "#B0BEC5",
                                "#B0BEC5",
                                "#B0BEC5",
                                "#B0BEC5",
                                "#B0BEC5",
                                "#B0BEC5",
                                "#B0BEC5",
                                "#B0BEC5",
                                "#B0BEC5",
                                "#B0BEC5",
                                "#B0BEC5",
                                "#B0BEC5",
                                "#B0BEC5",
                                "#B0BEC5",
                                "#B0BEC5",
                                "#B0BEC5",
                                "#B0BEC5",
                                "#B0BEC5",
                                "#B0BEC5",
                                "#B0BEC5",
                                "#B0BEC5",
                                "#B0BEC5",
                                "#B0BEC5",
                                "#B0BEC5",
                                "#B0BEC5",
                                "#B0BEC5",
                                "#B0BEC5",
                                "#B0BEC5",
                                "#B0BEC5",
                                "#B0BEC5",
                                "#B0BEC5",
                                "#B0BEC5",
                                "#B0BEC5",
                                "#B0BEC5",
                                "red",
                                "#B0BEC5",
                                "#B0BEC5",
                                "#B0BEC5",
                                "#B0BEC5",
                                "#B0BEC5",
                                "#B0BEC5",
                                "#B0BEC5",
                                "#B0BEC5",
                                "#B0BEC5",
                                "#B0BEC5",
                                "#B0BEC5",
                                "#B0BEC5",
                                "#B0BEC5",
                                "#B0BEC5",
                                "#B0BEC5",
                                "#B0BEC5",
                                "#B0BEC5",
                                "#B0BEC5",
                                "#B0BEC5",
                                "#B0BEC5"
                              ]
                            ]
                          }
                        ],
                        "label": "Topic 44",
                        "method": "update"
                      },
                      {
                        "args": [
                          {
                            "marker.color": [
                              [
                                "#B0BEC5",
                                "#B0BEC5",
                                "#B0BEC5",
                                "#B0BEC5",
                                "#B0BEC5",
                                "#B0BEC5",
                                "#B0BEC5",
                                "#B0BEC5",
                                "#B0BEC5",
                                "#B0BEC5",
                                "#B0BEC5",
                                "#B0BEC5",
                                "#B0BEC5",
                                "#B0BEC5",
                                "#B0BEC5",
                                "#B0BEC5",
                                "#B0BEC5",
                                "#B0BEC5",
                                "#B0BEC5",
                                "#B0BEC5",
                                "#B0BEC5",
                                "#B0BEC5",
                                "#B0BEC5",
                                "#B0BEC5",
                                "#B0BEC5",
                                "#B0BEC5",
                                "#B0BEC5",
                                "#B0BEC5",
                                "#B0BEC5",
                                "#B0BEC5",
                                "#B0BEC5",
                                "#B0BEC5",
                                "#B0BEC5",
                                "#B0BEC5",
                                "#B0BEC5",
                                "#B0BEC5",
                                "#B0BEC5",
                                "#B0BEC5",
                                "#B0BEC5",
                                "#B0BEC5",
                                "#B0BEC5",
                                "#B0BEC5",
                                "#B0BEC5",
                                "#B0BEC5",
                                "#B0BEC5",
                                "red",
                                "#B0BEC5",
                                "#B0BEC5",
                                "#B0BEC5",
                                "#B0BEC5",
                                "#B0BEC5",
                                "#B0BEC5",
                                "#B0BEC5",
                                "#B0BEC5",
                                "#B0BEC5",
                                "#B0BEC5",
                                "#B0BEC5",
                                "#B0BEC5",
                                "#B0BEC5",
                                "#B0BEC5",
                                "#B0BEC5",
                                "#B0BEC5",
                                "#B0BEC5",
                                "#B0BEC5",
                                "#B0BEC5"
                              ]
                            ]
                          }
                        ],
                        "label": "Topic 45",
                        "method": "update"
                      },
                      {
                        "args": [
                          {
                            "marker.color": [
                              [
                                "#B0BEC5",
                                "#B0BEC5",
                                "#B0BEC5",
                                "#B0BEC5",
                                "#B0BEC5",
                                "#B0BEC5",
                                "#B0BEC5",
                                "#B0BEC5",
                                "#B0BEC5",
                                "#B0BEC5",
                                "#B0BEC5",
                                "#B0BEC5",
                                "#B0BEC5",
                                "#B0BEC5",
                                "#B0BEC5",
                                "#B0BEC5",
                                "#B0BEC5",
                                "#B0BEC5",
                                "#B0BEC5",
                                "#B0BEC5",
                                "#B0BEC5",
                                "#B0BEC5",
                                "#B0BEC5",
                                "#B0BEC5",
                                "#B0BEC5",
                                "#B0BEC5",
                                "#B0BEC5",
                                "#B0BEC5",
                                "#B0BEC5",
                                "#B0BEC5",
                                "#B0BEC5",
                                "#B0BEC5",
                                "#B0BEC5",
                                "#B0BEC5",
                                "#B0BEC5",
                                "#B0BEC5",
                                "#B0BEC5",
                                "#B0BEC5",
                                "#B0BEC5",
                                "#B0BEC5",
                                "#B0BEC5",
                                "#B0BEC5",
                                "#B0BEC5",
                                "#B0BEC5",
                                "#B0BEC5",
                                "#B0BEC5",
                                "red",
                                "#B0BEC5",
                                "#B0BEC5",
                                "#B0BEC5",
                                "#B0BEC5",
                                "#B0BEC5",
                                "#B0BEC5",
                                "#B0BEC5",
                                "#B0BEC5",
                                "#B0BEC5",
                                "#B0BEC5",
                                "#B0BEC5",
                                "#B0BEC5",
                                "#B0BEC5",
                                "#B0BEC5",
                                "#B0BEC5",
                                "#B0BEC5",
                                "#B0BEC5",
                                "#B0BEC5"
                              ]
                            ]
                          }
                        ],
                        "label": "Topic 46",
                        "method": "update"
                      },
                      {
                        "args": [
                          {
                            "marker.color": [
                              [
                                "#B0BEC5",
                                "#B0BEC5",
                                "#B0BEC5",
                                "#B0BEC5",
                                "#B0BEC5",
                                "#B0BEC5",
                                "#B0BEC5",
                                "#B0BEC5",
                                "#B0BEC5",
                                "#B0BEC5",
                                "#B0BEC5",
                                "#B0BEC5",
                                "#B0BEC5",
                                "#B0BEC5",
                                "#B0BEC5",
                                "#B0BEC5",
                                "#B0BEC5",
                                "#B0BEC5",
                                "#B0BEC5",
                                "#B0BEC5",
                                "#B0BEC5",
                                "#B0BEC5",
                                "#B0BEC5",
                                "#B0BEC5",
                                "#B0BEC5",
                                "#B0BEC5",
                                "#B0BEC5",
                                "#B0BEC5",
                                "#B0BEC5",
                                "#B0BEC5",
                                "#B0BEC5",
                                "#B0BEC5",
                                "#B0BEC5",
                                "#B0BEC5",
                                "#B0BEC5",
                                "#B0BEC5",
                                "#B0BEC5",
                                "#B0BEC5",
                                "#B0BEC5",
                                "#B0BEC5",
                                "#B0BEC5",
                                "#B0BEC5",
                                "#B0BEC5",
                                "#B0BEC5",
                                "#B0BEC5",
                                "#B0BEC5",
                                "#B0BEC5",
                                "red",
                                "#B0BEC5",
                                "#B0BEC5",
                                "#B0BEC5",
                                "#B0BEC5",
                                "#B0BEC5",
                                "#B0BEC5",
                                "#B0BEC5",
                                "#B0BEC5",
                                "#B0BEC5",
                                "#B0BEC5",
                                "#B0BEC5",
                                "#B0BEC5",
                                "#B0BEC5",
                                "#B0BEC5",
                                "#B0BEC5",
                                "#B0BEC5",
                                "#B0BEC5"
                              ]
                            ]
                          }
                        ],
                        "label": "Topic 47",
                        "method": "update"
                      },
                      {
                        "args": [
                          {
                            "marker.color": [
                              [
                                "#B0BEC5",
                                "#B0BEC5",
                                "#B0BEC5",
                                "#B0BEC5",
                                "#B0BEC5",
                                "#B0BEC5",
                                "#B0BEC5",
                                "#B0BEC5",
                                "#B0BEC5",
                                "#B0BEC5",
                                "#B0BEC5",
                                "#B0BEC5",
                                "#B0BEC5",
                                "#B0BEC5",
                                "#B0BEC5",
                                "#B0BEC5",
                                "#B0BEC5",
                                "#B0BEC5",
                                "#B0BEC5",
                                "#B0BEC5",
                                "#B0BEC5",
                                "#B0BEC5",
                                "#B0BEC5",
                                "#B0BEC5",
                                "#B0BEC5",
                                "#B0BEC5",
                                "#B0BEC5",
                                "#B0BEC5",
                                "#B0BEC5",
                                "#B0BEC5",
                                "#B0BEC5",
                                "#B0BEC5",
                                "#B0BEC5",
                                "#B0BEC5",
                                "#B0BEC5",
                                "#B0BEC5",
                                "#B0BEC5",
                                "#B0BEC5",
                                "#B0BEC5",
                                "#B0BEC5",
                                "#B0BEC5",
                                "#B0BEC5",
                                "#B0BEC5",
                                "#B0BEC5",
                                "#B0BEC5",
                                "#B0BEC5",
                                "#B0BEC5",
                                "#B0BEC5",
                                "red",
                                "#B0BEC5",
                                "#B0BEC5",
                                "#B0BEC5",
                                "#B0BEC5",
                                "#B0BEC5",
                                "#B0BEC5",
                                "#B0BEC5",
                                "#B0BEC5",
                                "#B0BEC5",
                                "#B0BEC5",
                                "#B0BEC5",
                                "#B0BEC5",
                                "#B0BEC5",
                                "#B0BEC5",
                                "#B0BEC5",
                                "#B0BEC5"
                              ]
                            ]
                          }
                        ],
                        "label": "Topic 48",
                        "method": "update"
                      },
                      {
                        "args": [
                          {
                            "marker.color": [
                              [
                                "#B0BEC5",
                                "#B0BEC5",
                                "#B0BEC5",
                                "#B0BEC5",
                                "#B0BEC5",
                                "#B0BEC5",
                                "#B0BEC5",
                                "#B0BEC5",
                                "#B0BEC5",
                                "#B0BEC5",
                                "#B0BEC5",
                                "#B0BEC5",
                                "#B0BEC5",
                                "#B0BEC5",
                                "#B0BEC5",
                                "#B0BEC5",
                                "#B0BEC5",
                                "#B0BEC5",
                                "#B0BEC5",
                                "#B0BEC5",
                                "#B0BEC5",
                                "#B0BEC5",
                                "#B0BEC5",
                                "#B0BEC5",
                                "#B0BEC5",
                                "#B0BEC5",
                                "#B0BEC5",
                                "#B0BEC5",
                                "#B0BEC5",
                                "#B0BEC5",
                                "#B0BEC5",
                                "#B0BEC5",
                                "#B0BEC5",
                                "#B0BEC5",
                                "#B0BEC5",
                                "#B0BEC5",
                                "#B0BEC5",
                                "#B0BEC5",
                                "#B0BEC5",
                                "#B0BEC5",
                                "#B0BEC5",
                                "#B0BEC5",
                                "#B0BEC5",
                                "#B0BEC5",
                                "#B0BEC5",
                                "#B0BEC5",
                                "#B0BEC5",
                                "#B0BEC5",
                                "#B0BEC5",
                                "red",
                                "#B0BEC5",
                                "#B0BEC5",
                                "#B0BEC5",
                                "#B0BEC5",
                                "#B0BEC5",
                                "#B0BEC5",
                                "#B0BEC5",
                                "#B0BEC5",
                                "#B0BEC5",
                                "#B0BEC5",
                                "#B0BEC5",
                                "#B0BEC5",
                                "#B0BEC5",
                                "#B0BEC5",
                                "#B0BEC5"
                              ]
                            ]
                          }
                        ],
                        "label": "Topic 49",
                        "method": "update"
                      },
                      {
                        "args": [
                          {
                            "marker.color": [
                              [
                                "#B0BEC5",
                                "#B0BEC5",
                                "#B0BEC5",
                                "#B0BEC5",
                                "#B0BEC5",
                                "#B0BEC5",
                                "#B0BEC5",
                                "#B0BEC5",
                                "#B0BEC5",
                                "#B0BEC5",
                                "#B0BEC5",
                                "#B0BEC5",
                                "#B0BEC5",
                                "#B0BEC5",
                                "#B0BEC5",
                                "#B0BEC5",
                                "#B0BEC5",
                                "#B0BEC5",
                                "#B0BEC5",
                                "#B0BEC5",
                                "#B0BEC5",
                                "#B0BEC5",
                                "#B0BEC5",
                                "#B0BEC5",
                                "#B0BEC5",
                                "#B0BEC5",
                                "#B0BEC5",
                                "#B0BEC5",
                                "#B0BEC5",
                                "#B0BEC5",
                                "#B0BEC5",
                                "#B0BEC5",
                                "#B0BEC5",
                                "#B0BEC5",
                                "#B0BEC5",
                                "#B0BEC5",
                                "#B0BEC5",
                                "#B0BEC5",
                                "#B0BEC5",
                                "#B0BEC5",
                                "#B0BEC5",
                                "#B0BEC5",
                                "#B0BEC5",
                                "#B0BEC5",
                                "#B0BEC5",
                                "#B0BEC5",
                                "#B0BEC5",
                                "#B0BEC5",
                                "#B0BEC5",
                                "#B0BEC5",
                                "red",
                                "#B0BEC5",
                                "#B0BEC5",
                                "#B0BEC5",
                                "#B0BEC5",
                                "#B0BEC5",
                                "#B0BEC5",
                                "#B0BEC5",
                                "#B0BEC5",
                                "#B0BEC5",
                                "#B0BEC5",
                                "#B0BEC5",
                                "#B0BEC5",
                                "#B0BEC5",
                                "#B0BEC5"
                              ]
                            ]
                          }
                        ],
                        "label": "Topic 50",
                        "method": "update"
                      },
                      {
                        "args": [
                          {
                            "marker.color": [
                              [
                                "#B0BEC5",
                                "#B0BEC5",
                                "#B0BEC5",
                                "#B0BEC5",
                                "#B0BEC5",
                                "#B0BEC5",
                                "#B0BEC5",
                                "#B0BEC5",
                                "#B0BEC5",
                                "#B0BEC5",
                                "#B0BEC5",
                                "#B0BEC5",
                                "#B0BEC5",
                                "#B0BEC5",
                                "#B0BEC5",
                                "#B0BEC5",
                                "#B0BEC5",
                                "#B0BEC5",
                                "#B0BEC5",
                                "#B0BEC5",
                                "#B0BEC5",
                                "#B0BEC5",
                                "#B0BEC5",
                                "#B0BEC5",
                                "#B0BEC5",
                                "#B0BEC5",
                                "#B0BEC5",
                                "#B0BEC5",
                                "#B0BEC5",
                                "#B0BEC5",
                                "#B0BEC5",
                                "#B0BEC5",
                                "#B0BEC5",
                                "#B0BEC5",
                                "#B0BEC5",
                                "#B0BEC5",
                                "#B0BEC5",
                                "#B0BEC5",
                                "#B0BEC5",
                                "#B0BEC5",
                                "#B0BEC5",
                                "#B0BEC5",
                                "#B0BEC5",
                                "#B0BEC5",
                                "#B0BEC5",
                                "#B0BEC5",
                                "#B0BEC5",
                                "#B0BEC5",
                                "#B0BEC5",
                                "#B0BEC5",
                                "#B0BEC5",
                                "red",
                                "#B0BEC5",
                                "#B0BEC5",
                                "#B0BEC5",
                                "#B0BEC5",
                                "#B0BEC5",
                                "#B0BEC5",
                                "#B0BEC5",
                                "#B0BEC5",
                                "#B0BEC5",
                                "#B0BEC5",
                                "#B0BEC5",
                                "#B0BEC5",
                                "#B0BEC5"
                              ]
                            ]
                          }
                        ],
                        "label": "Topic 51",
                        "method": "update"
                      },
                      {
                        "args": [
                          {
                            "marker.color": [
                              [
                                "#B0BEC5",
                                "#B0BEC5",
                                "#B0BEC5",
                                "#B0BEC5",
                                "#B0BEC5",
                                "#B0BEC5",
                                "#B0BEC5",
                                "#B0BEC5",
                                "#B0BEC5",
                                "#B0BEC5",
                                "#B0BEC5",
                                "#B0BEC5",
                                "#B0BEC5",
                                "#B0BEC5",
                                "#B0BEC5",
                                "#B0BEC5",
                                "#B0BEC5",
                                "#B0BEC5",
                                "#B0BEC5",
                                "#B0BEC5",
                                "#B0BEC5",
                                "#B0BEC5",
                                "#B0BEC5",
                                "#B0BEC5",
                                "#B0BEC5",
                                "#B0BEC5",
                                "#B0BEC5",
                                "#B0BEC5",
                                "#B0BEC5",
                                "#B0BEC5",
                                "#B0BEC5",
                                "#B0BEC5",
                                "#B0BEC5",
                                "#B0BEC5",
                                "#B0BEC5",
                                "#B0BEC5",
                                "#B0BEC5",
                                "#B0BEC5",
                                "#B0BEC5",
                                "#B0BEC5",
                                "#B0BEC5",
                                "#B0BEC5",
                                "#B0BEC5",
                                "#B0BEC5",
                                "#B0BEC5",
                                "#B0BEC5",
                                "#B0BEC5",
                                "#B0BEC5",
                                "#B0BEC5",
                                "#B0BEC5",
                                "#B0BEC5",
                                "#B0BEC5",
                                "red",
                                "#B0BEC5",
                                "#B0BEC5",
                                "#B0BEC5",
                                "#B0BEC5",
                                "#B0BEC5",
                                "#B0BEC5",
                                "#B0BEC5",
                                "#B0BEC5",
                                "#B0BEC5",
                                "#B0BEC5",
                                "#B0BEC5",
                                "#B0BEC5"
                              ]
                            ]
                          }
                        ],
                        "label": "Topic 52",
                        "method": "update"
                      },
                      {
                        "args": [
                          {
                            "marker.color": [
                              [
                                "#B0BEC5",
                                "#B0BEC5",
                                "#B0BEC5",
                                "#B0BEC5",
                                "#B0BEC5",
                                "#B0BEC5",
                                "#B0BEC5",
                                "#B0BEC5",
                                "#B0BEC5",
                                "#B0BEC5",
                                "#B0BEC5",
                                "#B0BEC5",
                                "#B0BEC5",
                                "#B0BEC5",
                                "#B0BEC5",
                                "#B0BEC5",
                                "#B0BEC5",
                                "#B0BEC5",
                                "#B0BEC5",
                                "#B0BEC5",
                                "#B0BEC5",
                                "#B0BEC5",
                                "#B0BEC5",
                                "#B0BEC5",
                                "#B0BEC5",
                                "#B0BEC5",
                                "#B0BEC5",
                                "#B0BEC5",
                                "#B0BEC5",
                                "#B0BEC5",
                                "#B0BEC5",
                                "#B0BEC5",
                                "#B0BEC5",
                                "#B0BEC5",
                                "#B0BEC5",
                                "#B0BEC5",
                                "#B0BEC5",
                                "#B0BEC5",
                                "#B0BEC5",
                                "#B0BEC5",
                                "#B0BEC5",
                                "#B0BEC5",
                                "#B0BEC5",
                                "#B0BEC5",
                                "#B0BEC5",
                                "#B0BEC5",
                                "#B0BEC5",
                                "#B0BEC5",
                                "#B0BEC5",
                                "#B0BEC5",
                                "#B0BEC5",
                                "#B0BEC5",
                                "#B0BEC5",
                                "red",
                                "#B0BEC5",
                                "#B0BEC5",
                                "#B0BEC5",
                                "#B0BEC5",
                                "#B0BEC5",
                                "#B0BEC5",
                                "#B0BEC5",
                                "#B0BEC5",
                                "#B0BEC5",
                                "#B0BEC5",
                                "#B0BEC5"
                              ]
                            ]
                          }
                        ],
                        "label": "Topic 53",
                        "method": "update"
                      },
                      {
                        "args": [
                          {
                            "marker.color": [
                              [
                                "#B0BEC5",
                                "#B0BEC5",
                                "#B0BEC5",
                                "#B0BEC5",
                                "#B0BEC5",
                                "#B0BEC5",
                                "#B0BEC5",
                                "#B0BEC5",
                                "#B0BEC5",
                                "#B0BEC5",
                                "#B0BEC5",
                                "#B0BEC5",
                                "#B0BEC5",
                                "#B0BEC5",
                                "#B0BEC5",
                                "#B0BEC5",
                                "#B0BEC5",
                                "#B0BEC5",
                                "#B0BEC5",
                                "#B0BEC5",
                                "#B0BEC5",
                                "#B0BEC5",
                                "#B0BEC5",
                                "#B0BEC5",
                                "#B0BEC5",
                                "#B0BEC5",
                                "#B0BEC5",
                                "#B0BEC5",
                                "#B0BEC5",
                                "#B0BEC5",
                                "#B0BEC5",
                                "#B0BEC5",
                                "#B0BEC5",
                                "#B0BEC5",
                                "#B0BEC5",
                                "#B0BEC5",
                                "#B0BEC5",
                                "#B0BEC5",
                                "#B0BEC5",
                                "#B0BEC5",
                                "#B0BEC5",
                                "#B0BEC5",
                                "#B0BEC5",
                                "#B0BEC5",
                                "#B0BEC5",
                                "#B0BEC5",
                                "#B0BEC5",
                                "#B0BEC5",
                                "#B0BEC5",
                                "#B0BEC5",
                                "#B0BEC5",
                                "#B0BEC5",
                                "#B0BEC5",
                                "#B0BEC5",
                                "red",
                                "#B0BEC5",
                                "#B0BEC5",
                                "#B0BEC5",
                                "#B0BEC5",
                                "#B0BEC5",
                                "#B0BEC5",
                                "#B0BEC5",
                                "#B0BEC5",
                                "#B0BEC5",
                                "#B0BEC5"
                              ]
                            ]
                          }
                        ],
                        "label": "Topic 54",
                        "method": "update"
                      },
                      {
                        "args": [
                          {
                            "marker.color": [
                              [
                                "#B0BEC5",
                                "#B0BEC5",
                                "#B0BEC5",
                                "#B0BEC5",
                                "#B0BEC5",
                                "#B0BEC5",
                                "#B0BEC5",
                                "#B0BEC5",
                                "#B0BEC5",
                                "#B0BEC5",
                                "#B0BEC5",
                                "#B0BEC5",
                                "#B0BEC5",
                                "#B0BEC5",
                                "#B0BEC5",
                                "#B0BEC5",
                                "#B0BEC5",
                                "#B0BEC5",
                                "#B0BEC5",
                                "#B0BEC5",
                                "#B0BEC5",
                                "#B0BEC5",
                                "#B0BEC5",
                                "#B0BEC5",
                                "#B0BEC5",
                                "#B0BEC5",
                                "#B0BEC5",
                                "#B0BEC5",
                                "#B0BEC5",
                                "#B0BEC5",
                                "#B0BEC5",
                                "#B0BEC5",
                                "#B0BEC5",
                                "#B0BEC5",
                                "#B0BEC5",
                                "#B0BEC5",
                                "#B0BEC5",
                                "#B0BEC5",
                                "#B0BEC5",
                                "#B0BEC5",
                                "#B0BEC5",
                                "#B0BEC5",
                                "#B0BEC5",
                                "#B0BEC5",
                                "#B0BEC5",
                                "#B0BEC5",
                                "#B0BEC5",
                                "#B0BEC5",
                                "#B0BEC5",
                                "#B0BEC5",
                                "#B0BEC5",
                                "#B0BEC5",
                                "#B0BEC5",
                                "#B0BEC5",
                                "#B0BEC5",
                                "red",
                                "#B0BEC5",
                                "#B0BEC5",
                                "#B0BEC5",
                                "#B0BEC5",
                                "#B0BEC5",
                                "#B0BEC5",
                                "#B0BEC5",
                                "#B0BEC5",
                                "#B0BEC5"
                              ]
                            ]
                          }
                        ],
                        "label": "Topic 55",
                        "method": "update"
                      },
                      {
                        "args": [
                          {
                            "marker.color": [
                              [
                                "#B0BEC5",
                                "#B0BEC5",
                                "#B0BEC5",
                                "#B0BEC5",
                                "#B0BEC5",
                                "#B0BEC5",
                                "#B0BEC5",
                                "#B0BEC5",
                                "#B0BEC5",
                                "#B0BEC5",
                                "#B0BEC5",
                                "#B0BEC5",
                                "#B0BEC5",
                                "#B0BEC5",
                                "#B0BEC5",
                                "#B0BEC5",
                                "#B0BEC5",
                                "#B0BEC5",
                                "#B0BEC5",
                                "#B0BEC5",
                                "#B0BEC5",
                                "#B0BEC5",
                                "#B0BEC5",
                                "#B0BEC5",
                                "#B0BEC5",
                                "#B0BEC5",
                                "#B0BEC5",
                                "#B0BEC5",
                                "#B0BEC5",
                                "#B0BEC5",
                                "#B0BEC5",
                                "#B0BEC5",
                                "#B0BEC5",
                                "#B0BEC5",
                                "#B0BEC5",
                                "#B0BEC5",
                                "#B0BEC5",
                                "#B0BEC5",
                                "#B0BEC5",
                                "#B0BEC5",
                                "#B0BEC5",
                                "#B0BEC5",
                                "#B0BEC5",
                                "#B0BEC5",
                                "#B0BEC5",
                                "#B0BEC5",
                                "#B0BEC5",
                                "#B0BEC5",
                                "#B0BEC5",
                                "#B0BEC5",
                                "#B0BEC5",
                                "#B0BEC5",
                                "#B0BEC5",
                                "#B0BEC5",
                                "#B0BEC5",
                                "#B0BEC5",
                                "red",
                                "#B0BEC5",
                                "#B0BEC5",
                                "#B0BEC5",
                                "#B0BEC5",
                                "#B0BEC5",
                                "#B0BEC5",
                                "#B0BEC5",
                                "#B0BEC5"
                              ]
                            ]
                          }
                        ],
                        "label": "Topic 56",
                        "method": "update"
                      },
                      {
                        "args": [
                          {
                            "marker.color": [
                              [
                                "#B0BEC5",
                                "#B0BEC5",
                                "#B0BEC5",
                                "#B0BEC5",
                                "#B0BEC5",
                                "#B0BEC5",
                                "#B0BEC5",
                                "#B0BEC5",
                                "#B0BEC5",
                                "#B0BEC5",
                                "#B0BEC5",
                                "#B0BEC5",
                                "#B0BEC5",
                                "#B0BEC5",
                                "#B0BEC5",
                                "#B0BEC5",
                                "#B0BEC5",
                                "#B0BEC5",
                                "#B0BEC5",
                                "#B0BEC5",
                                "#B0BEC5",
                                "#B0BEC5",
                                "#B0BEC5",
                                "#B0BEC5",
                                "#B0BEC5",
                                "#B0BEC5",
                                "#B0BEC5",
                                "#B0BEC5",
                                "#B0BEC5",
                                "#B0BEC5",
                                "#B0BEC5",
                                "#B0BEC5",
                                "#B0BEC5",
                                "#B0BEC5",
                                "#B0BEC5",
                                "#B0BEC5",
                                "#B0BEC5",
                                "#B0BEC5",
                                "#B0BEC5",
                                "#B0BEC5",
                                "#B0BEC5",
                                "#B0BEC5",
                                "#B0BEC5",
                                "#B0BEC5",
                                "#B0BEC5",
                                "#B0BEC5",
                                "#B0BEC5",
                                "#B0BEC5",
                                "#B0BEC5",
                                "#B0BEC5",
                                "#B0BEC5",
                                "#B0BEC5",
                                "#B0BEC5",
                                "#B0BEC5",
                                "#B0BEC5",
                                "#B0BEC5",
                                "#B0BEC5",
                                "red",
                                "#B0BEC5",
                                "#B0BEC5",
                                "#B0BEC5",
                                "#B0BEC5",
                                "#B0BEC5",
                                "#B0BEC5",
                                "#B0BEC5"
                              ]
                            ]
                          }
                        ],
                        "label": "Topic 57",
                        "method": "update"
                      },
                      {
                        "args": [
                          {
                            "marker.color": [
                              [
                                "#B0BEC5",
                                "#B0BEC5",
                                "#B0BEC5",
                                "#B0BEC5",
                                "#B0BEC5",
                                "#B0BEC5",
                                "#B0BEC5",
                                "#B0BEC5",
                                "#B0BEC5",
                                "#B0BEC5",
                                "#B0BEC5",
                                "#B0BEC5",
                                "#B0BEC5",
                                "#B0BEC5",
                                "#B0BEC5",
                                "#B0BEC5",
                                "#B0BEC5",
                                "#B0BEC5",
                                "#B0BEC5",
                                "#B0BEC5",
                                "#B0BEC5",
                                "#B0BEC5",
                                "#B0BEC5",
                                "#B0BEC5",
                                "#B0BEC5",
                                "#B0BEC5",
                                "#B0BEC5",
                                "#B0BEC5",
                                "#B0BEC5",
                                "#B0BEC5",
                                "#B0BEC5",
                                "#B0BEC5",
                                "#B0BEC5",
                                "#B0BEC5",
                                "#B0BEC5",
                                "#B0BEC5",
                                "#B0BEC5",
                                "#B0BEC5",
                                "#B0BEC5",
                                "#B0BEC5",
                                "#B0BEC5",
                                "#B0BEC5",
                                "#B0BEC5",
                                "#B0BEC5",
                                "#B0BEC5",
                                "#B0BEC5",
                                "#B0BEC5",
                                "#B0BEC5",
                                "#B0BEC5",
                                "#B0BEC5",
                                "#B0BEC5",
                                "#B0BEC5",
                                "#B0BEC5",
                                "#B0BEC5",
                                "#B0BEC5",
                                "#B0BEC5",
                                "#B0BEC5",
                                "#B0BEC5",
                                "red",
                                "#B0BEC5",
                                "#B0BEC5",
                                "#B0BEC5",
                                "#B0BEC5",
                                "#B0BEC5",
                                "#B0BEC5"
                              ]
                            ]
                          }
                        ],
                        "label": "Topic 58",
                        "method": "update"
                      },
                      {
                        "args": [
                          {
                            "marker.color": [
                              [
                                "#B0BEC5",
                                "#B0BEC5",
                                "#B0BEC5",
                                "#B0BEC5",
                                "#B0BEC5",
                                "#B0BEC5",
                                "#B0BEC5",
                                "#B0BEC5",
                                "#B0BEC5",
                                "#B0BEC5",
                                "#B0BEC5",
                                "#B0BEC5",
                                "#B0BEC5",
                                "#B0BEC5",
                                "#B0BEC5",
                                "#B0BEC5",
                                "#B0BEC5",
                                "#B0BEC5",
                                "#B0BEC5",
                                "#B0BEC5",
                                "#B0BEC5",
                                "#B0BEC5",
                                "#B0BEC5",
                                "#B0BEC5",
                                "#B0BEC5",
                                "#B0BEC5",
                                "#B0BEC5",
                                "#B0BEC5",
                                "#B0BEC5",
                                "#B0BEC5",
                                "#B0BEC5",
                                "#B0BEC5",
                                "#B0BEC5",
                                "#B0BEC5",
                                "#B0BEC5",
                                "#B0BEC5",
                                "#B0BEC5",
                                "#B0BEC5",
                                "#B0BEC5",
                                "#B0BEC5",
                                "#B0BEC5",
                                "#B0BEC5",
                                "#B0BEC5",
                                "#B0BEC5",
                                "#B0BEC5",
                                "#B0BEC5",
                                "#B0BEC5",
                                "#B0BEC5",
                                "#B0BEC5",
                                "#B0BEC5",
                                "#B0BEC5",
                                "#B0BEC5",
                                "#B0BEC5",
                                "#B0BEC5",
                                "#B0BEC5",
                                "#B0BEC5",
                                "#B0BEC5",
                                "#B0BEC5",
                                "#B0BEC5",
                                "red",
                                "#B0BEC5",
                                "#B0BEC5",
                                "#B0BEC5",
                                "#B0BEC5",
                                "#B0BEC5"
                              ]
                            ]
                          }
                        ],
                        "label": "Topic 59",
                        "method": "update"
                      },
                      {
                        "args": [
                          {
                            "marker.color": [
                              [
                                "#B0BEC5",
                                "#B0BEC5",
                                "#B0BEC5",
                                "#B0BEC5",
                                "#B0BEC5",
                                "#B0BEC5",
                                "#B0BEC5",
                                "#B0BEC5",
                                "#B0BEC5",
                                "#B0BEC5",
                                "#B0BEC5",
                                "#B0BEC5",
                                "#B0BEC5",
                                "#B0BEC5",
                                "#B0BEC5",
                                "#B0BEC5",
                                "#B0BEC5",
                                "#B0BEC5",
                                "#B0BEC5",
                                "#B0BEC5",
                                "#B0BEC5",
                                "#B0BEC5",
                                "#B0BEC5",
                                "#B0BEC5",
                                "#B0BEC5",
                                "#B0BEC5",
                                "#B0BEC5",
                                "#B0BEC5",
                                "#B0BEC5",
                                "#B0BEC5",
                                "#B0BEC5",
                                "#B0BEC5",
                                "#B0BEC5",
                                "#B0BEC5",
                                "#B0BEC5",
                                "#B0BEC5",
                                "#B0BEC5",
                                "#B0BEC5",
                                "#B0BEC5",
                                "#B0BEC5",
                                "#B0BEC5",
                                "#B0BEC5",
                                "#B0BEC5",
                                "#B0BEC5",
                                "#B0BEC5",
                                "#B0BEC5",
                                "#B0BEC5",
                                "#B0BEC5",
                                "#B0BEC5",
                                "#B0BEC5",
                                "#B0BEC5",
                                "#B0BEC5",
                                "#B0BEC5",
                                "#B0BEC5",
                                "#B0BEC5",
                                "#B0BEC5",
                                "#B0BEC5",
                                "#B0BEC5",
                                "#B0BEC5",
                                "#B0BEC5",
                                "red",
                                "#B0BEC5",
                                "#B0BEC5",
                                "#B0BEC5",
                                "#B0BEC5"
                              ]
                            ]
                          }
                        ],
                        "label": "Topic 60",
                        "method": "update"
                      },
                      {
                        "args": [
                          {
                            "marker.color": [
                              [
                                "#B0BEC5",
                                "#B0BEC5",
                                "#B0BEC5",
                                "#B0BEC5",
                                "#B0BEC5",
                                "#B0BEC5",
                                "#B0BEC5",
                                "#B0BEC5",
                                "#B0BEC5",
                                "#B0BEC5",
                                "#B0BEC5",
                                "#B0BEC5",
                                "#B0BEC5",
                                "#B0BEC5",
                                "#B0BEC5",
                                "#B0BEC5",
                                "#B0BEC5",
                                "#B0BEC5",
                                "#B0BEC5",
                                "#B0BEC5",
                                "#B0BEC5",
                                "#B0BEC5",
                                "#B0BEC5",
                                "#B0BEC5",
                                "#B0BEC5",
                                "#B0BEC5",
                                "#B0BEC5",
                                "#B0BEC5",
                                "#B0BEC5",
                                "#B0BEC5",
                                "#B0BEC5",
                                "#B0BEC5",
                                "#B0BEC5",
                                "#B0BEC5",
                                "#B0BEC5",
                                "#B0BEC5",
                                "#B0BEC5",
                                "#B0BEC5",
                                "#B0BEC5",
                                "#B0BEC5",
                                "#B0BEC5",
                                "#B0BEC5",
                                "#B0BEC5",
                                "#B0BEC5",
                                "#B0BEC5",
                                "#B0BEC5",
                                "#B0BEC5",
                                "#B0BEC5",
                                "#B0BEC5",
                                "#B0BEC5",
                                "#B0BEC5",
                                "#B0BEC5",
                                "#B0BEC5",
                                "#B0BEC5",
                                "#B0BEC5",
                                "#B0BEC5",
                                "#B0BEC5",
                                "#B0BEC5",
                                "#B0BEC5",
                                "#B0BEC5",
                                "#B0BEC5",
                                "red",
                                "#B0BEC5",
                                "#B0BEC5",
                                "#B0BEC5"
                              ]
                            ]
                          }
                        ],
                        "label": "Topic 61",
                        "method": "update"
                      },
                      {
                        "args": [
                          {
                            "marker.color": [
                              [
                                "#B0BEC5",
                                "#B0BEC5",
                                "#B0BEC5",
                                "#B0BEC5",
                                "#B0BEC5",
                                "#B0BEC5",
                                "#B0BEC5",
                                "#B0BEC5",
                                "#B0BEC5",
                                "#B0BEC5",
                                "#B0BEC5",
                                "#B0BEC5",
                                "#B0BEC5",
                                "#B0BEC5",
                                "#B0BEC5",
                                "#B0BEC5",
                                "#B0BEC5",
                                "#B0BEC5",
                                "#B0BEC5",
                                "#B0BEC5",
                                "#B0BEC5",
                                "#B0BEC5",
                                "#B0BEC5",
                                "#B0BEC5",
                                "#B0BEC5",
                                "#B0BEC5",
                                "#B0BEC5",
                                "#B0BEC5",
                                "#B0BEC5",
                                "#B0BEC5",
                                "#B0BEC5",
                                "#B0BEC5",
                                "#B0BEC5",
                                "#B0BEC5",
                                "#B0BEC5",
                                "#B0BEC5",
                                "#B0BEC5",
                                "#B0BEC5",
                                "#B0BEC5",
                                "#B0BEC5",
                                "#B0BEC5",
                                "#B0BEC5",
                                "#B0BEC5",
                                "#B0BEC5",
                                "#B0BEC5",
                                "#B0BEC5",
                                "#B0BEC5",
                                "#B0BEC5",
                                "#B0BEC5",
                                "#B0BEC5",
                                "#B0BEC5",
                                "#B0BEC5",
                                "#B0BEC5",
                                "#B0BEC5",
                                "#B0BEC5",
                                "#B0BEC5",
                                "#B0BEC5",
                                "#B0BEC5",
                                "#B0BEC5",
                                "#B0BEC5",
                                "#B0BEC5",
                                "#B0BEC5",
                                "red",
                                "#B0BEC5",
                                "#B0BEC5"
                              ]
                            ]
                          }
                        ],
                        "label": "Topic 62",
                        "method": "update"
                      },
                      {
                        "args": [
                          {
                            "marker.color": [
                              [
                                "#B0BEC5",
                                "#B0BEC5",
                                "#B0BEC5",
                                "#B0BEC5",
                                "#B0BEC5",
                                "#B0BEC5",
                                "#B0BEC5",
                                "#B0BEC5",
                                "#B0BEC5",
                                "#B0BEC5",
                                "#B0BEC5",
                                "#B0BEC5",
                                "#B0BEC5",
                                "#B0BEC5",
                                "#B0BEC5",
                                "#B0BEC5",
                                "#B0BEC5",
                                "#B0BEC5",
                                "#B0BEC5",
                                "#B0BEC5",
                                "#B0BEC5",
                                "#B0BEC5",
                                "#B0BEC5",
                                "#B0BEC5",
                                "#B0BEC5",
                                "#B0BEC5",
                                "#B0BEC5",
                                "#B0BEC5",
                                "#B0BEC5",
                                "#B0BEC5",
                                "#B0BEC5",
                                "#B0BEC5",
                                "#B0BEC5",
                                "#B0BEC5",
                                "#B0BEC5",
                                "#B0BEC5",
                                "#B0BEC5",
                                "#B0BEC5",
                                "#B0BEC5",
                                "#B0BEC5",
                                "#B0BEC5",
                                "#B0BEC5",
                                "#B0BEC5",
                                "#B0BEC5",
                                "#B0BEC5",
                                "#B0BEC5",
                                "#B0BEC5",
                                "#B0BEC5",
                                "#B0BEC5",
                                "#B0BEC5",
                                "#B0BEC5",
                                "#B0BEC5",
                                "#B0BEC5",
                                "#B0BEC5",
                                "#B0BEC5",
                                "#B0BEC5",
                                "#B0BEC5",
                                "#B0BEC5",
                                "#B0BEC5",
                                "#B0BEC5",
                                "#B0BEC5",
                                "#B0BEC5",
                                "#B0BEC5",
                                "red",
                                "#B0BEC5"
                              ]
                            ]
                          }
                        ],
                        "label": "Topic 63",
                        "method": "update"
                      },
                      {
                        "args": [
                          {
                            "marker.color": [
                              [
                                "#B0BEC5",
                                "#B0BEC5",
                                "#B0BEC5",
                                "#B0BEC5",
                                "#B0BEC5",
                                "#B0BEC5",
                                "#B0BEC5",
                                "#B0BEC5",
                                "#B0BEC5",
                                "#B0BEC5",
                                "#B0BEC5",
                                "#B0BEC5",
                                "#B0BEC5",
                                "#B0BEC5",
                                "#B0BEC5",
                                "#B0BEC5",
                                "#B0BEC5",
                                "#B0BEC5",
                                "#B0BEC5",
                                "#B0BEC5",
                                "#B0BEC5",
                                "#B0BEC5",
                                "#B0BEC5",
                                "#B0BEC5",
                                "#B0BEC5",
                                "#B0BEC5",
                                "#B0BEC5",
                                "#B0BEC5",
                                "#B0BEC5",
                                "#B0BEC5",
                                "#B0BEC5",
                                "#B0BEC5",
                                "#B0BEC5",
                                "#B0BEC5",
                                "#B0BEC5",
                                "#B0BEC5",
                                "#B0BEC5",
                                "#B0BEC5",
                                "#B0BEC5",
                                "#B0BEC5",
                                "#B0BEC5",
                                "#B0BEC5",
                                "#B0BEC5",
                                "#B0BEC5",
                                "#B0BEC5",
                                "#B0BEC5",
                                "#B0BEC5",
                                "#B0BEC5",
                                "#B0BEC5",
                                "#B0BEC5",
                                "#B0BEC5",
                                "#B0BEC5",
                                "#B0BEC5",
                                "#B0BEC5",
                                "#B0BEC5",
                                "#B0BEC5",
                                "#B0BEC5",
                                "#B0BEC5",
                                "#B0BEC5",
                                "#B0BEC5",
                                "#B0BEC5",
                                "#B0BEC5",
                                "#B0BEC5",
                                "#B0BEC5",
                                "red"
                              ]
                            ]
                          }
                        ],
                        "label": "Topic 64",
                        "method": "update"
                      }
                    ]
                  }
                ],
                "template": {
                  "data": {
                    "bar": [
                      {
                        "error_x": {
                          "color": "rgb(36,36,36)"
                        },
                        "error_y": {
                          "color": "rgb(36,36,36)"
                        },
                        "marker": {
                          "line": {
                            "color": "white",
                            "width": 0.5
                          },
                          "pattern": {
                            "fillmode": "overlay",
                            "size": 10,
                            "solidity": 0.2
                          }
                        },
                        "type": "bar"
                      }
                    ],
                    "barpolar": [
                      {
                        "marker": {
                          "line": {
                            "color": "white",
                            "width": 0.5
                          },
                          "pattern": {
                            "fillmode": "overlay",
                            "size": 10,
                            "solidity": 0.2
                          }
                        },
                        "type": "barpolar"
                      }
                    ],
                    "carpet": [
                      {
                        "aaxis": {
                          "endlinecolor": "rgb(36,36,36)",
                          "gridcolor": "white",
                          "linecolor": "white",
                          "minorgridcolor": "white",
                          "startlinecolor": "rgb(36,36,36)"
                        },
                        "baxis": {
                          "endlinecolor": "rgb(36,36,36)",
                          "gridcolor": "white",
                          "linecolor": "white",
                          "minorgridcolor": "white",
                          "startlinecolor": "rgb(36,36,36)"
                        },
                        "type": "carpet"
                      }
                    ],
                    "choropleth": [
                      {
                        "colorbar": {
                          "outlinewidth": 1,
                          "tickcolor": "rgb(36,36,36)",
                          "ticks": "outside"
                        },
                        "type": "choropleth"
                      }
                    ],
                    "contour": [
                      {
                        "colorbar": {
                          "outlinewidth": 1,
                          "tickcolor": "rgb(36,36,36)",
                          "ticks": "outside"
                        },
                        "colorscale": [
                          [
                            0,
                            "#440154"
                          ],
                          [
                            0.1111111111111111,
                            "#482878"
                          ],
                          [
                            0.2222222222222222,
                            "#3e4989"
                          ],
                          [
                            0.3333333333333333,
                            "#31688e"
                          ],
                          [
                            0.4444444444444444,
                            "#26828e"
                          ],
                          [
                            0.5555555555555556,
                            "#1f9e89"
                          ],
                          [
                            0.6666666666666666,
                            "#35b779"
                          ],
                          [
                            0.7777777777777778,
                            "#6ece58"
                          ],
                          [
                            0.8888888888888888,
                            "#b5de2b"
                          ],
                          [
                            1,
                            "#fde725"
                          ]
                        ],
                        "type": "contour"
                      }
                    ],
                    "contourcarpet": [
                      {
                        "colorbar": {
                          "outlinewidth": 1,
                          "tickcolor": "rgb(36,36,36)",
                          "ticks": "outside"
                        },
                        "type": "contourcarpet"
                      }
                    ],
                    "heatmap": [
                      {
                        "colorbar": {
                          "outlinewidth": 1,
                          "tickcolor": "rgb(36,36,36)",
                          "ticks": "outside"
                        },
                        "colorscale": [
                          [
                            0,
                            "#440154"
                          ],
                          [
                            0.1111111111111111,
                            "#482878"
                          ],
                          [
                            0.2222222222222222,
                            "#3e4989"
                          ],
                          [
                            0.3333333333333333,
                            "#31688e"
                          ],
                          [
                            0.4444444444444444,
                            "#26828e"
                          ],
                          [
                            0.5555555555555556,
                            "#1f9e89"
                          ],
                          [
                            0.6666666666666666,
                            "#35b779"
                          ],
                          [
                            0.7777777777777778,
                            "#6ece58"
                          ],
                          [
                            0.8888888888888888,
                            "#b5de2b"
                          ],
                          [
                            1,
                            "#fde725"
                          ]
                        ],
                        "type": "heatmap"
                      }
                    ],
                    "heatmapgl": [
                      {
                        "colorbar": {
                          "outlinewidth": 1,
                          "tickcolor": "rgb(36,36,36)",
                          "ticks": "outside"
                        },
                        "colorscale": [
                          [
                            0,
                            "#440154"
                          ],
                          [
                            0.1111111111111111,
                            "#482878"
                          ],
                          [
                            0.2222222222222222,
                            "#3e4989"
                          ],
                          [
                            0.3333333333333333,
                            "#31688e"
                          ],
                          [
                            0.4444444444444444,
                            "#26828e"
                          ],
                          [
                            0.5555555555555556,
                            "#1f9e89"
                          ],
                          [
                            0.6666666666666666,
                            "#35b779"
                          ],
                          [
                            0.7777777777777778,
                            "#6ece58"
                          ],
                          [
                            0.8888888888888888,
                            "#b5de2b"
                          ],
                          [
                            1,
                            "#fde725"
                          ]
                        ],
                        "type": "heatmapgl"
                      }
                    ],
                    "histogram": [
                      {
                        "marker": {
                          "line": {
                            "color": "white",
                            "width": 0.6
                          }
                        },
                        "type": "histogram"
                      }
                    ],
                    "histogram2d": [
                      {
                        "colorbar": {
                          "outlinewidth": 1,
                          "tickcolor": "rgb(36,36,36)",
                          "ticks": "outside"
                        },
                        "colorscale": [
                          [
                            0,
                            "#440154"
                          ],
                          [
                            0.1111111111111111,
                            "#482878"
                          ],
                          [
                            0.2222222222222222,
                            "#3e4989"
                          ],
                          [
                            0.3333333333333333,
                            "#31688e"
                          ],
                          [
                            0.4444444444444444,
                            "#26828e"
                          ],
                          [
                            0.5555555555555556,
                            "#1f9e89"
                          ],
                          [
                            0.6666666666666666,
                            "#35b779"
                          ],
                          [
                            0.7777777777777778,
                            "#6ece58"
                          ],
                          [
                            0.8888888888888888,
                            "#b5de2b"
                          ],
                          [
                            1,
                            "#fde725"
                          ]
                        ],
                        "type": "histogram2d"
                      }
                    ],
                    "histogram2dcontour": [
                      {
                        "colorbar": {
                          "outlinewidth": 1,
                          "tickcolor": "rgb(36,36,36)",
                          "ticks": "outside"
                        },
                        "colorscale": [
                          [
                            0,
                            "#440154"
                          ],
                          [
                            0.1111111111111111,
                            "#482878"
                          ],
                          [
                            0.2222222222222222,
                            "#3e4989"
                          ],
                          [
                            0.3333333333333333,
                            "#31688e"
                          ],
                          [
                            0.4444444444444444,
                            "#26828e"
                          ],
                          [
                            0.5555555555555556,
                            "#1f9e89"
                          ],
                          [
                            0.6666666666666666,
                            "#35b779"
                          ],
                          [
                            0.7777777777777778,
                            "#6ece58"
                          ],
                          [
                            0.8888888888888888,
                            "#b5de2b"
                          ],
                          [
                            1,
                            "#fde725"
                          ]
                        ],
                        "type": "histogram2dcontour"
                      }
                    ],
                    "mesh3d": [
                      {
                        "colorbar": {
                          "outlinewidth": 1,
                          "tickcolor": "rgb(36,36,36)",
                          "ticks": "outside"
                        },
                        "type": "mesh3d"
                      }
                    ],
                    "parcoords": [
                      {
                        "line": {
                          "colorbar": {
                            "outlinewidth": 1,
                            "tickcolor": "rgb(36,36,36)",
                            "ticks": "outside"
                          }
                        },
                        "type": "parcoords"
                      }
                    ],
                    "pie": [
                      {
                        "automargin": true,
                        "type": "pie"
                      }
                    ],
                    "scatter": [
                      {
                        "fillpattern": {
                          "fillmode": "overlay",
                          "size": 10,
                          "solidity": 0.2
                        },
                        "type": "scatter"
                      }
                    ],
                    "scatter3d": [
                      {
                        "line": {
                          "colorbar": {
                            "outlinewidth": 1,
                            "tickcolor": "rgb(36,36,36)",
                            "ticks": "outside"
                          }
                        },
                        "marker": {
                          "colorbar": {
                            "outlinewidth": 1,
                            "tickcolor": "rgb(36,36,36)",
                            "ticks": "outside"
                          }
                        },
                        "type": "scatter3d"
                      }
                    ],
                    "scattercarpet": [
                      {
                        "marker": {
                          "colorbar": {
                            "outlinewidth": 1,
                            "tickcolor": "rgb(36,36,36)",
                            "ticks": "outside"
                          }
                        },
                        "type": "scattercarpet"
                      }
                    ],
                    "scattergeo": [
                      {
                        "marker": {
                          "colorbar": {
                            "outlinewidth": 1,
                            "tickcolor": "rgb(36,36,36)",
                            "ticks": "outside"
                          }
                        },
                        "type": "scattergeo"
                      }
                    ],
                    "scattergl": [
                      {
                        "marker": {
                          "colorbar": {
                            "outlinewidth": 1,
                            "tickcolor": "rgb(36,36,36)",
                            "ticks": "outside"
                          }
                        },
                        "type": "scattergl"
                      }
                    ],
                    "scattermapbox": [
                      {
                        "marker": {
                          "colorbar": {
                            "outlinewidth": 1,
                            "tickcolor": "rgb(36,36,36)",
                            "ticks": "outside"
                          }
                        },
                        "type": "scattermapbox"
                      }
                    ],
                    "scatterpolar": [
                      {
                        "marker": {
                          "colorbar": {
                            "outlinewidth": 1,
                            "tickcolor": "rgb(36,36,36)",
                            "ticks": "outside"
                          }
                        },
                        "type": "scatterpolar"
                      }
                    ],
                    "scatterpolargl": [
                      {
                        "marker": {
                          "colorbar": {
                            "outlinewidth": 1,
                            "tickcolor": "rgb(36,36,36)",
                            "ticks": "outside"
                          }
                        },
                        "type": "scatterpolargl"
                      }
                    ],
                    "scatterternary": [
                      {
                        "marker": {
                          "colorbar": {
                            "outlinewidth": 1,
                            "tickcolor": "rgb(36,36,36)",
                            "ticks": "outside"
                          }
                        },
                        "type": "scatterternary"
                      }
                    ],
                    "surface": [
                      {
                        "colorbar": {
                          "outlinewidth": 1,
                          "tickcolor": "rgb(36,36,36)",
                          "ticks": "outside"
                        },
                        "colorscale": [
                          [
                            0,
                            "#440154"
                          ],
                          [
                            0.1111111111111111,
                            "#482878"
                          ],
                          [
                            0.2222222222222222,
                            "#3e4989"
                          ],
                          [
                            0.3333333333333333,
                            "#31688e"
                          ],
                          [
                            0.4444444444444444,
                            "#26828e"
                          ],
                          [
                            0.5555555555555556,
                            "#1f9e89"
                          ],
                          [
                            0.6666666666666666,
                            "#35b779"
                          ],
                          [
                            0.7777777777777778,
                            "#6ece58"
                          ],
                          [
                            0.8888888888888888,
                            "#b5de2b"
                          ],
                          [
                            1,
                            "#fde725"
                          ]
                        ],
                        "type": "surface"
                      }
                    ],
                    "table": [
                      {
                        "cells": {
                          "fill": {
                            "color": "rgb(237,237,237)"
                          },
                          "line": {
                            "color": "white"
                          }
                        },
                        "header": {
                          "fill": {
                            "color": "rgb(217,217,217)"
                          },
                          "line": {
                            "color": "white"
                          }
                        },
                        "type": "table"
                      }
                    ]
                  },
                  "layout": {
                    "annotationdefaults": {
                      "arrowhead": 0,
                      "arrowwidth": 1
                    },
                    "autotypenumbers": "strict",
                    "coloraxis": {
                      "colorbar": {
                        "outlinewidth": 1,
                        "tickcolor": "rgb(36,36,36)",
                        "ticks": "outside"
                      }
                    },
                    "colorscale": {
                      "diverging": [
                        [
                          0,
                          "rgb(103,0,31)"
                        ],
                        [
                          0.1,
                          "rgb(178,24,43)"
                        ],
                        [
                          0.2,
                          "rgb(214,96,77)"
                        ],
                        [
                          0.3,
                          "rgb(244,165,130)"
                        ],
                        [
                          0.4,
                          "rgb(253,219,199)"
                        ],
                        [
                          0.5,
                          "rgb(247,247,247)"
                        ],
                        [
                          0.6,
                          "rgb(209,229,240)"
                        ],
                        [
                          0.7,
                          "rgb(146,197,222)"
                        ],
                        [
                          0.8,
                          "rgb(67,147,195)"
                        ],
                        [
                          0.9,
                          "rgb(33,102,172)"
                        ],
                        [
                          1,
                          "rgb(5,48,97)"
                        ]
                      ],
                      "sequential": [
                        [
                          0,
                          "#440154"
                        ],
                        [
                          0.1111111111111111,
                          "#482878"
                        ],
                        [
                          0.2222222222222222,
                          "#3e4989"
                        ],
                        [
                          0.3333333333333333,
                          "#31688e"
                        ],
                        [
                          0.4444444444444444,
                          "#26828e"
                        ],
                        [
                          0.5555555555555556,
                          "#1f9e89"
                        ],
                        [
                          0.6666666666666666,
                          "#35b779"
                        ],
                        [
                          0.7777777777777778,
                          "#6ece58"
                        ],
                        [
                          0.8888888888888888,
                          "#b5de2b"
                        ],
                        [
                          1,
                          "#fde725"
                        ]
                      ],
                      "sequentialminus": [
                        [
                          0,
                          "#440154"
                        ],
                        [
                          0.1111111111111111,
                          "#482878"
                        ],
                        [
                          0.2222222222222222,
                          "#3e4989"
                        ],
                        [
                          0.3333333333333333,
                          "#31688e"
                        ],
                        [
                          0.4444444444444444,
                          "#26828e"
                        ],
                        [
                          0.5555555555555556,
                          "#1f9e89"
                        ],
                        [
                          0.6666666666666666,
                          "#35b779"
                        ],
                        [
                          0.7777777777777778,
                          "#6ece58"
                        ],
                        [
                          0.8888888888888888,
                          "#b5de2b"
                        ],
                        [
                          1,
                          "#fde725"
                        ]
                      ]
                    },
                    "colorway": [
                      "#1F77B4",
                      "#FF7F0E",
                      "#2CA02C",
                      "#D62728",
                      "#9467BD",
                      "#8C564B",
                      "#E377C2",
                      "#7F7F7F",
                      "#BCBD22",
                      "#17BECF"
                    ],
                    "font": {
                      "color": "rgb(36,36,36)"
                    },
                    "geo": {
                      "bgcolor": "white",
                      "lakecolor": "white",
                      "landcolor": "white",
                      "showlakes": true,
                      "showland": true,
                      "subunitcolor": "white"
                    },
                    "hoverlabel": {
                      "align": "left"
                    },
                    "hovermode": "closest",
                    "mapbox": {
                      "style": "light"
                    },
                    "paper_bgcolor": "white",
                    "plot_bgcolor": "white",
                    "polar": {
                      "angularaxis": {
                        "gridcolor": "rgb(232,232,232)",
                        "linecolor": "rgb(36,36,36)",
                        "showgrid": false,
                        "showline": true,
                        "ticks": "outside"
                      },
                      "bgcolor": "white",
                      "radialaxis": {
                        "gridcolor": "rgb(232,232,232)",
                        "linecolor": "rgb(36,36,36)",
                        "showgrid": false,
                        "showline": true,
                        "ticks": "outside"
                      }
                    },
                    "scene": {
                      "xaxis": {
                        "backgroundcolor": "white",
                        "gridcolor": "rgb(232,232,232)",
                        "gridwidth": 2,
                        "linecolor": "rgb(36,36,36)",
                        "showbackground": true,
                        "showgrid": false,
                        "showline": true,
                        "ticks": "outside",
                        "zeroline": false,
                        "zerolinecolor": "rgb(36,36,36)"
                      },
                      "yaxis": {
                        "backgroundcolor": "white",
                        "gridcolor": "rgb(232,232,232)",
                        "gridwidth": 2,
                        "linecolor": "rgb(36,36,36)",
                        "showbackground": true,
                        "showgrid": false,
                        "showline": true,
                        "ticks": "outside",
                        "zeroline": false,
                        "zerolinecolor": "rgb(36,36,36)"
                      },
                      "zaxis": {
                        "backgroundcolor": "white",
                        "gridcolor": "rgb(232,232,232)",
                        "gridwidth": 2,
                        "linecolor": "rgb(36,36,36)",
                        "showbackground": true,
                        "showgrid": false,
                        "showline": true,
                        "ticks": "outside",
                        "zeroline": false,
                        "zerolinecolor": "rgb(36,36,36)"
                      }
                    },
                    "shapedefaults": {
                      "fillcolor": "black",
                      "line": {
                        "width": 0
                      },
                      "opacity": 0.3
                    },
                    "ternary": {
                      "aaxis": {
                        "gridcolor": "rgb(232,232,232)",
                        "linecolor": "rgb(36,36,36)",
                        "showgrid": false,
                        "showline": true,
                        "ticks": "outside"
                      },
                      "baxis": {
                        "gridcolor": "rgb(232,232,232)",
                        "linecolor": "rgb(36,36,36)",
                        "showgrid": false,
                        "showline": true,
                        "ticks": "outside"
                      },
                      "bgcolor": "white",
                      "caxis": {
                        "gridcolor": "rgb(232,232,232)",
                        "linecolor": "rgb(36,36,36)",
                        "showgrid": false,
                        "showline": true,
                        "ticks": "outside"
                      }
                    },
                    "title": {
                      "x": 0.05
                    },
                    "xaxis": {
                      "automargin": true,
                      "gridcolor": "rgb(232,232,232)",
                      "linecolor": "rgb(36,36,36)",
                      "showgrid": false,
                      "showline": true,
                      "ticks": "outside",
                      "title": {
                        "standoff": 15
                      },
                      "zeroline": false,
                      "zerolinecolor": "rgb(36,36,36)"
                    },
                    "yaxis": {
                      "automargin": true,
                      "gridcolor": "rgb(232,232,232)",
                      "linecolor": "rgb(36,36,36)",
                      "showgrid": false,
                      "showline": true,
                      "ticks": "outside",
                      "title": {
                        "standoff": 15
                      },
                      "zeroline": false,
                      "zerolinecolor": "rgb(36,36,36)"
                    }
                  }
                },
                "title": {
                  "font": {
                    "color": "Black",
                    "size": 22
                  },
                  "text": "<b>Intertopic Distance Map</b>",
                  "x": 0.5,
                  "xanchor": "center",
                  "y": 0.95,
                  "yanchor": "top"
                },
                "width": 650,
                "xaxis": {
                  "anchor": "y",
                  "domain": [
                    0,
                    1
                  ],
                  "range": [
                    -18.250179624557497,
                    15.721815061569213
                  ],
                  "title": {
                    "text": ""
                  },
                  "visible": false
                },
                "yaxis": {
                  "anchor": "x",
                  "domain": [
                    0,
                    1
                  ],
                  "range": [
                    -10.659148263931275,
                    26.637349224090578
                  ],
                  "title": {
                    "text": ""
                  },
                  "visible": false
                }
              }
            }
          },
          "metadata": {},
          "output_type": "display_data"
        }
      ],
      "source": [
        "model.visualize_topics()"
      ]
    }
  ],
  "metadata": {
    "accelerator": "GPU",
    "colab": {
      "include_colab_link": true,
      "provenance": [],
      "toc_visible": true
    },
    "gpuClass": "standard",
    "kernelspec": {
      "display_name": "Python 3",
      "name": "python3"
    },
    "language_info": {
      "codemirror_mode": {
        "name": "ipython",
        "version": 3
      },
      "file_extension": ".py",
      "mimetype": "text/x-python",
      "name": "python",
      "nbconvert_exporter": "python",
      "pygments_lexer": "ipython3",
      "version": "3.10.6"
    }
  },
  "nbformat": 4,
  "nbformat_minor": 0
}
