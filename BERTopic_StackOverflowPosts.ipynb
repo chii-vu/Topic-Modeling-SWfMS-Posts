{
  "cells": [
    {
      "cell_type": "markdown",
      "metadata": {
        "id": "AXHLDxJdRzBi"
      },
      "source": [
        "# **Identifying Challenges Faced by Developers in Scientific Workflow Management Systems using BERTopic**"
      ]
    },
    {
      "cell_type": "markdown",
      "metadata": {},
      "source": [
        "This notebook uses BERTopic to identify challenges faced by developers in scientific workflow management systems using Stack Overflow posts and GitHub issues. The dataset used in this notebook is available at https://figshare.com/projects/SWsChallengesbySOandGitHub/172476."
      ]
    },
    {
      "cell_type": "markdown",
      "metadata": {},
      "source": [
        "## Installing Dependencies"
      ]
    },
    {
      "cell_type": "code",
      "execution_count": 33,
      "metadata": {
        "id": "SNa-KtKDRnus",
        "vscode": {
          "languageId": "powershell"
        }
      },
      "outputs": [
        {
          "name": "stdout",
          "output_type": "stream",
          "text": [
            "huggingface/tokenizers: The current process just got forked, after parallelism has already been used. Disabling parallelism to avoid deadlocks...\n",
            "To disable this warning, you can either:\n",
            "\t- Avoid using `tokenizers` before the fork if possible\n",
            "\t- Explicitly set the environment variable TOKENIZERS_PARALLELISM=(true | false)\n",
            "Requirement already satisfied: asttokens==2.2.1 in ./BERTopicVenv/lib/python3.10/site-packages (from -r requirements.txt (line 1)) (2.2.1)\n",
            "Requirement already satisfied: attrs==23.1.0 in ./BERTopicVenv/lib/python3.10/site-packages (from -r requirements.txt (line 2)) (23.1.0)\n",
            "Requirement already satisfied: backcall==0.2.0 in ./BERTopicVenv/lib/python3.10/site-packages (from -r requirements.txt (line 3)) (0.2.0)\n",
            "Requirement already satisfied: beautifulsoup4==4.12.2 in ./BERTopicVenv/lib/python3.10/site-packages (from -r requirements.txt (line 4)) (4.12.2)\n",
            "Requirement already satisfied: bertopic==0.15.0 in ./BERTopicVenv/lib/python3.10/site-packages (from -r requirements.txt (line 5)) (0.15.0)\n",
            "Requirement already satisfied: certifi==2023.7.22 in ./BERTopicVenv/lib/python3.10/site-packages (from -r requirements.txt (line 6)) (2023.7.22)\n",
            "Requirement already satisfied: charset-normalizer==3.2.0 in ./BERTopicVenv/lib/python3.10/site-packages (from -r requirements.txt (line 7)) (3.2.0)\n",
            "Requirement already satisfied: click==8.1.6 in ./BERTopicVenv/lib/python3.10/site-packages (from -r requirements.txt (line 8)) (8.1.6)\n",
            "Requirement already satisfied: cmake==3.27.0 in ./BERTopicVenv/lib/python3.10/site-packages (from -r requirements.txt (line 9)) (3.27.0)\n",
            "Requirement already satisfied: comm==0.1.3 in ./BERTopicVenv/lib/python3.10/site-packages (from -r requirements.txt (line 10)) (0.1.3)\n",
            "Requirement already satisfied: Cython==0.29.36 in ./BERTopicVenv/lib/python3.10/site-packages (from -r requirements.txt (line 11)) (0.29.36)\n",
            "Requirement already satisfied: debugpy==1.6.7 in ./BERTopicVenv/lib/python3.10/site-packages (from -r requirements.txt (line 12)) (1.6.7)\n",
            "Requirement already satisfied: decorator==5.1.1 in ./BERTopicVenv/lib/python3.10/site-packages (from -r requirements.txt (line 13)) (5.1.1)\n",
            "Requirement already satisfied: executing==1.2.0 in ./BERTopicVenv/lib/python3.10/site-packages (from -r requirements.txt (line 14)) (1.2.0)\n",
            "Requirement already satisfied: fastjsonschema==2.18.0 in ./BERTopicVenv/lib/python3.10/site-packages (from -r requirements.txt (line 15)) (2.18.0)\n",
            "Requirement already satisfied: filelock==3.12.2 in ./BERTopicVenv/lib/python3.10/site-packages (from -r requirements.txt (line 16)) (3.12.2)\n",
            "Requirement already satisfied: fsspec==2023.6.0 in ./BERTopicVenv/lib/python3.10/site-packages (from -r requirements.txt (line 17)) (2023.6.0)\n",
            "Requirement already satisfied: hdbscan==0.8.33 in ./BERTopicVenv/lib/python3.10/site-packages (from -r requirements.txt (line 18)) (0.8.33)\n",
            "Requirement already satisfied: huggingface-hub==0.16.4 in ./BERTopicVenv/lib/python3.10/site-packages (from -r requirements.txt (line 19)) (0.16.4)\n",
            "Requirement already satisfied: idna==3.4 in ./BERTopicVenv/lib/python3.10/site-packages (from -r requirements.txt (line 20)) (3.4)\n",
            "Requirement already satisfied: ipykernel==6.25.0 in ./BERTopicVenv/lib/python3.10/site-packages (from -r requirements.txt (line 21)) (6.25.0)\n",
            "Requirement already satisfied: ipython==8.14.0 in ./BERTopicVenv/lib/python3.10/site-packages (from -r requirements.txt (line 22)) (8.14.0)\n",
            "Requirement already satisfied: jedi==0.18.2 in ./BERTopicVenv/lib/python3.10/site-packages (from -r requirements.txt (line 23)) (0.18.2)\n",
            "Requirement already satisfied: Jinja2==3.1.2 in ./BERTopicVenv/lib/python3.10/site-packages (from -r requirements.txt (line 24)) (3.1.2)\n",
            "Requirement already satisfied: joblib==1.3.1 in ./BERTopicVenv/lib/python3.10/site-packages (from -r requirements.txt (line 25)) (1.3.1)\n",
            "Requirement already satisfied: jsonschema==4.18.4 in ./BERTopicVenv/lib/python3.10/site-packages (from -r requirements.txt (line 26)) (4.18.4)\n",
            "Requirement already satisfied: jsonschema-specifications==2023.7.1 in ./BERTopicVenv/lib/python3.10/site-packages (from -r requirements.txt (line 27)) (2023.7.1)\n",
            "Requirement already satisfied: jupyter_client==8.3.0 in ./BERTopicVenv/lib/python3.10/site-packages (from -r requirements.txt (line 28)) (8.3.0)\n",
            "Requirement already satisfied: jupyter_core==5.3.1 in ./BERTopicVenv/lib/python3.10/site-packages (from -r requirements.txt (line 29)) (5.3.1)\n",
            "Requirement already satisfied: lit==16.0.6 in ./BERTopicVenv/lib/python3.10/site-packages (from -r requirements.txt (line 30)) (16.0.6)\n",
            "Requirement already satisfied: llvmlite==0.40.1 in ./BERTopicVenv/lib/python3.10/site-packages (from -r requirements.txt (line 31)) (0.40.1)\n",
            "Requirement already satisfied: MarkupSafe==2.1.3 in ./BERTopicVenv/lib/python3.10/site-packages (from -r requirements.txt (line 32)) (2.1.3)\n",
            "Requirement already satisfied: matplotlib-inline==0.1.6 in ./BERTopicVenv/lib/python3.10/site-packages (from -r requirements.txt (line 33)) (0.1.6)\n",
            "Requirement already satisfied: mpmath==1.3.0 in ./BERTopicVenv/lib/python3.10/site-packages (from -r requirements.txt (line 34)) (1.3.0)\n",
            "Requirement already satisfied: nbformat==5.9.1 in ./BERTopicVenv/lib/python3.10/site-packages (from -r requirements.txt (line 35)) (5.9.1)\n",
            "Requirement already satisfied: nest-asyncio==1.5.6 in ./BERTopicVenv/lib/python3.10/site-packages (from -r requirements.txt (line 36)) (1.5.6)\n",
            "Requirement already satisfied: networkx==3.1 in ./BERTopicVenv/lib/python3.10/site-packages (from -r requirements.txt (line 37)) (3.1)\n",
            "Requirement already satisfied: nltk==3.8.1 in ./BERTopicVenv/lib/python3.10/site-packages (from -r requirements.txt (line 38)) (3.8.1)\n",
            "Requirement already satisfied: numba==0.57.1 in ./BERTopicVenv/lib/python3.10/site-packages (from -r requirements.txt (line 39)) (0.57.1)\n",
            "Requirement already satisfied: numpy==1.24.4 in ./BERTopicVenv/lib/python3.10/site-packages (from -r requirements.txt (line 40)) (1.24.4)\n",
            "Requirement already satisfied: nvidia-cublas-cu11==11.10.3.66 in ./BERTopicVenv/lib/python3.10/site-packages (from -r requirements.txt (line 41)) (11.10.3.66)\n",
            "Requirement already satisfied: nvidia-cuda-cupti-cu11==11.7.101 in ./BERTopicVenv/lib/python3.10/site-packages (from -r requirements.txt (line 42)) (11.7.101)\n",
            "Requirement already satisfied: nvidia-cuda-nvrtc-cu11==11.7.99 in ./BERTopicVenv/lib/python3.10/site-packages (from -r requirements.txt (line 43)) (11.7.99)\n",
            "Requirement already satisfied: nvidia-cuda-runtime-cu11==11.7.99 in ./BERTopicVenv/lib/python3.10/site-packages (from -r requirements.txt (line 44)) (11.7.99)\n",
            "Requirement already satisfied: nvidia-cudnn-cu11==8.5.0.96 in ./BERTopicVenv/lib/python3.10/site-packages (from -r requirements.txt (line 45)) (8.5.0.96)\n",
            "Requirement already satisfied: nvidia-cufft-cu11==10.9.0.58 in ./BERTopicVenv/lib/python3.10/site-packages (from -r requirements.txt (line 46)) (10.9.0.58)\n",
            "Requirement already satisfied: nvidia-curand-cu11==10.2.10.91 in ./BERTopicVenv/lib/python3.10/site-packages (from -r requirements.txt (line 47)) (10.2.10.91)\n",
            "Requirement already satisfied: nvidia-cusolver-cu11==11.4.0.1 in ./BERTopicVenv/lib/python3.10/site-packages (from -r requirements.txt (line 48)) (11.4.0.1)\n",
            "Requirement already satisfied: nvidia-cusparse-cu11==11.7.4.91 in ./BERTopicVenv/lib/python3.10/site-packages (from -r requirements.txt (line 49)) (11.7.4.91)\n",
            "Requirement already satisfied: nvidia-nccl-cu11==2.14.3 in ./BERTopicVenv/lib/python3.10/site-packages (from -r requirements.txt (line 50)) (2.14.3)\n",
            "Requirement already satisfied: nvidia-nvtx-cu11==11.7.91 in ./BERTopicVenv/lib/python3.10/site-packages (from -r requirements.txt (line 51)) (11.7.91)\n",
            "Requirement already satisfied: packaging==23.1 in ./BERTopicVenv/lib/python3.10/site-packages (from -r requirements.txt (line 52)) (23.1)\n",
            "Requirement already satisfied: pandas==2.0.3 in ./BERTopicVenv/lib/python3.10/site-packages (from -r requirements.txt (line 53)) (2.0.3)\n",
            "Requirement already satisfied: parso==0.8.3 in ./BERTopicVenv/lib/python3.10/site-packages (from -r requirements.txt (line 54)) (0.8.3)\n",
            "Requirement already satisfied: pexpect==4.8.0 in ./BERTopicVenv/lib/python3.10/site-packages (from -r requirements.txt (line 55)) (4.8.0)\n",
            "Requirement already satisfied: pickleshare==0.7.5 in ./BERTopicVenv/lib/python3.10/site-packages (from -r requirements.txt (line 56)) (0.7.5)\n",
            "Requirement already satisfied: Pillow==10.0.0 in ./BERTopicVenv/lib/python3.10/site-packages (from -r requirements.txt (line 57)) (10.0.0)\n",
            "Requirement already satisfied: platformdirs==3.9.1 in ./BERTopicVenv/lib/python3.10/site-packages (from -r requirements.txt (line 58)) (3.9.1)\n",
            "Requirement already satisfied: plotly==5.15.0 in ./BERTopicVenv/lib/python3.10/site-packages (from -r requirements.txt (line 59)) (5.15.0)\n",
            "Requirement already satisfied: prompt-toolkit==3.0.39 in ./BERTopicVenv/lib/python3.10/site-packages (from -r requirements.txt (line 60)) (3.0.39)\n",
            "Requirement already satisfied: psutil==5.9.5 in ./BERTopicVenv/lib/python3.10/site-packages (from -r requirements.txt (line 61)) (5.9.5)\n",
            "Requirement already satisfied: ptyprocess==0.7.0 in ./BERTopicVenv/lib/python3.10/site-packages (from -r requirements.txt (line 62)) (0.7.0)\n",
            "Requirement already satisfied: pure-eval==0.2.2 in ./BERTopicVenv/lib/python3.10/site-packages (from -r requirements.txt (line 63)) (0.2.2)\n",
            "Requirement already satisfied: Pygments==2.15.1 in ./BERTopicVenv/lib/python3.10/site-packages (from -r requirements.txt (line 64)) (2.15.1)\n",
            "Requirement already satisfied: pynndescent==0.5.10 in ./BERTopicVenv/lib/python3.10/site-packages (from -r requirements.txt (line 65)) (0.5.10)\n",
            "Requirement already satisfied: python-dateutil==2.8.2 in ./BERTopicVenv/lib/python3.10/site-packages (from -r requirements.txt (line 66)) (2.8.2)\n",
            "Requirement already satisfied: pytz==2023.3 in ./BERTopicVenv/lib/python3.10/site-packages (from -r requirements.txt (line 67)) (2023.3)\n",
            "Requirement already satisfied: PyYAML==6.0.1 in ./BERTopicVenv/lib/python3.10/site-packages (from -r requirements.txt (line 68)) (6.0.1)\n",
            "Requirement already satisfied: pyzmq==25.1.0 in ./BERTopicVenv/lib/python3.10/site-packages (from -r requirements.txt (line 69)) (25.1.0)\n",
            "Requirement already satisfied: referencing==0.30.0 in ./BERTopicVenv/lib/python3.10/site-packages (from -r requirements.txt (line 70)) (0.30.0)\n",
            "Requirement already satisfied: regex==2023.6.3 in ./BERTopicVenv/lib/python3.10/site-packages (from -r requirements.txt (line 71)) (2023.6.3)\n",
            "Requirement already satisfied: requests==2.31.0 in ./BERTopicVenv/lib/python3.10/site-packages (from -r requirements.txt (line 72)) (2.31.0)\n",
            "Requirement already satisfied: rpds-py==0.9.2 in ./BERTopicVenv/lib/python3.10/site-packages (from -r requirements.txt (line 73)) (0.9.2)\n",
            "Requirement already satisfied: safetensors==0.3.1 in ./BERTopicVenv/lib/python3.10/site-packages (from -r requirements.txt (line 74)) (0.3.1)\n",
            "Requirement already satisfied: scikit-learn==1.3.0 in ./BERTopicVenv/lib/python3.10/site-packages (from -r requirements.txt (line 75)) (1.3.0)\n",
            "Requirement already satisfied: scipy==1.11.1 in ./BERTopicVenv/lib/python3.10/site-packages (from -r requirements.txt (line 76)) (1.11.1)\n",
            "Requirement already satisfied: sentence-transformers==2.2.2 in ./BERTopicVenv/lib/python3.10/site-packages (from -r requirements.txt (line 77)) (2.2.2)\n",
            "Requirement already satisfied: sentencepiece==0.1.99 in ./BERTopicVenv/lib/python3.10/site-packages (from -r requirements.txt (line 78)) (0.1.99)\n",
            "Requirement already satisfied: six==1.16.0 in ./BERTopicVenv/lib/python3.10/site-packages (from -r requirements.txt (line 79)) (1.16.0)\n",
            "Requirement already satisfied: soupsieve==2.4.1 in ./BERTopicVenv/lib/python3.10/site-packages (from -r requirements.txt (line 80)) (2.4.1)\n",
            "Requirement already satisfied: stack-data==0.6.2 in ./BERTopicVenv/lib/python3.10/site-packages (from -r requirements.txt (line 81)) (0.6.2)\n",
            "Requirement already satisfied: sympy==1.12 in ./BERTopicVenv/lib/python3.10/site-packages (from -r requirements.txt (line 82)) (1.12)\n",
            "Requirement already satisfied: tenacity==8.2.2 in ./BERTopicVenv/lib/python3.10/site-packages (from -r requirements.txt (line 83)) (8.2.2)\n",
            "Requirement already satisfied: threadpoolctl==3.2.0 in ./BERTopicVenv/lib/python3.10/site-packages (from -r requirements.txt (line 84)) (3.2.0)\n",
            "Requirement already satisfied: tokenizers==0.13.3 in ./BERTopicVenv/lib/python3.10/site-packages (from -r requirements.txt (line 85)) (0.13.3)\n",
            "Requirement already satisfied: torch==2.0.1 in ./BERTopicVenv/lib/python3.10/site-packages (from -r requirements.txt (line 86)) (2.0.1)\n",
            "Requirement already satisfied: torchvision==0.15.2 in ./BERTopicVenv/lib/python3.10/site-packages (from -r requirements.txt (line 87)) (0.15.2)\n",
            "Requirement already satisfied: tornado==6.3.2 in ./BERTopicVenv/lib/python3.10/site-packages (from -r requirements.txt (line 88)) (6.3.2)\n",
            "Requirement already satisfied: tqdm==4.65.0 in ./BERTopicVenv/lib/python3.10/site-packages (from -r requirements.txt (line 89)) (4.65.0)\n",
            "Requirement already satisfied: traitlets==5.9.0 in ./BERTopicVenv/lib/python3.10/site-packages (from -r requirements.txt (line 90)) (5.9.0)\n",
            "Requirement already satisfied: transformers==4.31.0 in ./BERTopicVenv/lib/python3.10/site-packages (from -r requirements.txt (line 91)) (4.31.0)\n",
            "Requirement already satisfied: triton==2.0.0 in ./BERTopicVenv/lib/python3.10/site-packages (from -r requirements.txt (line 92)) (2.0.0)\n",
            "Requirement already satisfied: typing_extensions==4.7.1 in ./BERTopicVenv/lib/python3.10/site-packages (from -r requirements.txt (line 93)) (4.7.1)\n",
            "Requirement already satisfied: tzdata==2023.3 in ./BERTopicVenv/lib/python3.10/site-packages (from -r requirements.txt (line 94)) (2023.3)\n",
            "Requirement already satisfied: umap-learn==0.5.3 in ./BERTopicVenv/lib/python3.10/site-packages (from -r requirements.txt (line 95)) (0.5.3)\n",
            "Requirement already satisfied: urllib3==2.0.4 in ./BERTopicVenv/lib/python3.10/site-packages (from -r requirements.txt (line 96)) (2.0.4)\n",
            "Requirement already satisfied: wcwidth==0.2.6 in ./BERTopicVenv/lib/python3.10/site-packages (from -r requirements.txt (line 97)) (0.2.6)\n",
            "Requirement already satisfied: setuptools in ./BERTopicVenv/lib/python3.10/site-packages (from nvidia-cublas-cu11==11.10.3.66->-r requirements.txt (line 41)) (59.6.0)\n",
            "Requirement already satisfied: wheel in ./BERTopicVenv/lib/python3.10/site-packages (from nvidia-cublas-cu11==11.10.3.66->-r requirements.txt (line 41)) (0.41.0)\n",
            "Note: you may need to restart the kernel to use updated packages.\n"
          ]
        }
      ],
      "source": [
        "%pip install -r requirements.txt"
      ]
    },
    {
      "cell_type": "markdown",
      "metadata": {
        "id": "Y3VGFZ1USMTu"
      },
      "source": [
        "## Define functions to preprocess data"
      ]
    },
    {
      "cell_type": "code",
      "execution_count": 2,
      "metadata": {
        "id": "JJij3WP6SEQD"
      },
      "outputs": [
        {
          "name": "stderr",
          "output_type": "stream",
          "text": [
            "/home/dev/Topic-Modeling-SWfMS-Posts/BERTopicVenv/lib/python3.10/site-packages/umap/distances.py:1063: NumbaDeprecationWarning: The 'nopython' keyword argument was not supplied to the 'numba.jit' decorator. The implicit default value for this argument is currently False, but it will be changed to True in Numba 0.59.0. See https://numba.readthedocs.io/en/stable/reference/deprecation.html#deprecation-of-object-mode-fall-back-behaviour-when-using-jit for details.\n",
            "  @numba.jit()\n",
            "/home/dev/Topic-Modeling-SWfMS-Posts/BERTopicVenv/lib/python3.10/site-packages/umap/distances.py:1071: NumbaDeprecationWarning: The 'nopython' keyword argument was not supplied to the 'numba.jit' decorator. The implicit default value for this argument is currently False, but it will be changed to True in Numba 0.59.0. See https://numba.readthedocs.io/en/stable/reference/deprecation.html#deprecation-of-object-mode-fall-back-behaviour-when-using-jit for details.\n",
            "  @numba.jit()\n",
            "/home/dev/Topic-Modeling-SWfMS-Posts/BERTopicVenv/lib/python3.10/site-packages/umap/distances.py:1086: NumbaDeprecationWarning: The 'nopython' keyword argument was not supplied to the 'numba.jit' decorator. The implicit default value for this argument is currently False, but it will be changed to True in Numba 0.59.0. See https://numba.readthedocs.io/en/stable/reference/deprecation.html#deprecation-of-object-mode-fall-back-behaviour-when-using-jit for details.\n",
            "  @numba.jit()\n",
            "/home/dev/Topic-Modeling-SWfMS-Posts/BERTopicVenv/lib/python3.10/site-packages/tqdm/auto.py:21: TqdmWarning: IProgress not found. Please update jupyter and ipywidgets. See https://ipywidgets.readthedocs.io/en/stable/user_install.html\n",
            "  from .autonotebook import tqdm as notebook_tqdm\n",
            "/home/dev/Topic-Modeling-SWfMS-Posts/BERTopicVenv/lib/python3.10/site-packages/umap/umap_.py:660: NumbaDeprecationWarning: The 'nopython' keyword argument was not supplied to the 'numba.jit' decorator. The implicit default value for this argument is currently False, but it will be changed to True in Numba 0.59.0. See https://numba.readthedocs.io/en/stable/reference/deprecation.html#deprecation-of-object-mode-fall-back-behaviour-when-using-jit for details.\n",
            "  @numba.jit()\n",
            "[nltk_data] Downloading package stopwords to /home/dev/nltk_data...\n",
            "[nltk_data]   Package stopwords is already up-to-date!\n",
            "[nltk_data] Downloading package wordnet to /home/dev/nltk_data...\n",
            "[nltk_data]   Package wordnet is already up-to-date!\n"
          ]
        }
      ],
      "source": [
        "import pandas as pd\n",
        "import re\n",
        "import nltk\n",
        "from bs4 import BeautifulSoup\n",
        "from nltk.corpus import stopwords\n",
        "from nltk.stem import WordNetLemmatizer\n",
        "from bertopic import BERTopic\n",
        "\n",
        "# Download stopwords if not already available\n",
        "nltk.download('stopwords')\n",
        "nltk.download('wordnet')\n",
        "\n",
        "# Custom stopwords list (add domain-specific stopwords if needed)\n",
        "custom_stopwords = set([])\n",
        "\n",
        "def clean_text(text):\n",
        "    # Remove HTML tags using BeautifulSoup\n",
        "    soup = BeautifulSoup(text, \"html.parser\")\n",
        "    text = soup.get_text()\n",
        "\n",
        "    # Remove non-alphanumeric characters and convert to lowercase\n",
        "    text = re.sub(r'[^A-Za-z\\s]', ' ', text.lower())\n",
        "\n",
        "    # Remove extra whitespaces\n",
        "    text = re.sub(r'\\s+', ' ', text).strip()\n",
        "\n",
        "    return text\n",
        "\n",
        "def remove_stopwords_and_lemmatize(text):\n",
        "    stop_words = set(stopwords.words('english')) | custom_stopwords\n",
        "    lemmatizer = WordNetLemmatizer()\n",
        "    return \" \".join(lemmatizer.lemmatize(word) for word in text.split() if word not in stop_words)\n",
        "\n",
        "def train_bertopic(data):\n",
        "    model = BERTopic(language=\"english\", calculate_probabilities=True)\n",
        "    topics, probabilities = model.fit_transform(data)\n",
        "    return model, topics, probabilities"
      ]
    },
    {
      "cell_type": "markdown",
      "metadata": {
        "id": "SBcNmZJzSTY8"
      },
      "source": [
        "## Import and Preprocess Data"
      ]
    },
    {
      "cell_type": "code",
      "execution_count": 3,
      "metadata": {},
      "outputs": [],
      "source": [
        "# Import the data\n",
        "try:\n",
        "    new_df = pd.read_csv('Dataset/StackOverflowPostsDataset.csv')\n",
        "    new_df[\"merged\"] = new_df[[\"Body\", \"Title\", \"Tags\"]].apply(\"-\".join, axis=1)\n",
        "except FileNotFoundError:\n",
        "    print(\"Dataset file not found. Please provide the correct file path.\")\n",
        "    exit(1)\n",
        "\n",
        "# Preprocess the data\n",
        "new_df[\"merged\"] = new_df[\"merged\"].apply(clean_text)\n",
        "new_df[\"processed\"] = new_df[\"merged\"].apply(remove_stopwords_and_lemmatize)\n",
        "\n",
        "# Save the preprocessed data\n",
        "new_df.to_csv('Results/ConcatenatedDatasetSO.csv', index=False)"
      ]
    },
    {
      "cell_type": "code",
      "execution_count": 4,
      "metadata": {},
      "outputs": [
        {
          "name": "stdout",
          "output_type": "stream",
          "text": [
            "0    dealing small project feel break even point st...\n",
            "1    way know table locked kind lock currently tabl...\n",
            "2    anyone used rapidminer sentiment analysis righ...\n",
            "3    able fill table data excel file text file usin...\n",
            "4    im trying import data table file using bteq im...\n",
            "Name: processed, dtype: object\n"
          ]
        }
      ],
      "source": [
        "# View first 5 rows of the processed data\n",
        "print(new_df.head()[\"processed\"])"
      ]
    },
    {
      "cell_type": "markdown",
      "metadata": {
        "id": "QI6vwelqnTL-"
      },
      "source": [
        "## Building and training the model\n",
        "\n",
        "Instantiate the model and train it on the data. The model will automatically select the best topic based on the topic coherence. The higher the topic coherence, the better."
      ]
    },
    {
      "cell_type": "code",
      "execution_count": 5,
      "metadata": {
        "id": "TfhfzqkoSJ1I"
      },
      "outputs": [],
      "source": [
        "# Train BERTopic on processed data\n",
        "data = new_df[\"processed\"].values.tolist()\n",
        "model, topics, probabilities = train_bertopic(data)\n",
        "\n",
        "# Get topics and their top words\n",
        "topics_df = model.get_topic_freq()\n",
        "topics_df.head()\n",
        "\n",
        "# Save the BERTopic model\n",
        "model.save(\"Results/BERTopicModelSO\")"
      ]
    },
    {
      "cell_type": "markdown",
      "metadata": {
        "id": "A5O3KpHTnVpz"
      },
      "source": [
        "## Extracting Topics\n",
        "After fitting the model, we can extract the topics from the model. This will return the topics with their corresponding IDs, the dominant topic per sentence, and the frequency of each topic."
      ]
    },
    {
      "cell_type": "code",
      "execution_count": 6,
      "metadata": {
        "colab": {
          "base_uri": "https://localhost:8080/",
          "height": 195
        },
        "id": "ScBUgXn06IK6",
        "outputId": "ee49a346-8d12-41c4-c7e9-8c1b6782c636"
      },
      "outputs": [
        {
          "data": {
            "text/html": [
              "<div>\n",
              "<style scoped>\n",
              "    .dataframe tbody tr th:only-of-type {\n",
              "        vertical-align: middle;\n",
              "    }\n",
              "\n",
              "    .dataframe tbody tr th {\n",
              "        vertical-align: top;\n",
              "    }\n",
              "\n",
              "    .dataframe thead th {\n",
              "        text-align: right;\n",
              "    }\n",
              "</style>\n",
              "<table border=\"1\" class=\"dataframe\">\n",
              "  <thead>\n",
              "    <tr style=\"text-align: right;\">\n",
              "      <th></th>\n",
              "      <th>Topic</th>\n",
              "      <th>Count</th>\n",
              "      <th>Name</th>\n",
              "      <th>Representation</th>\n",
              "      <th>Representative_Docs</th>\n",
              "    </tr>\n",
              "  </thead>\n",
              "  <tbody>\n",
              "    <tr>\n",
              "      <th>0</th>\n",
              "      <td>-1</td>\n",
              "      <td>2192</td>\n",
              "      <td>-1_sample_rule_input_output</td>\n",
              "      <td>[sample, rule, input, output, snakemake, file,...</td>\n",
              "      <td>[pretty new using snakemake looked around see ...</td>\n",
              "    </tr>\n",
              "    <tr>\n",
              "      <th>1</th>\n",
              "      <td>0</td>\n",
              "      <td>443</td>\n",
              "      <td>0_eclipse_org_java_internal</td>\n",
              "      <td>[eclipse, org, java, internal, kepler, core, u...</td>\n",
              "      <td>[eclipse windowbuilder either swing gwt behave...</td>\n",
              "    </tr>\n",
              "    <tr>\n",
              "      <th>2</th>\n",
              "      <td>1</td>\n",
              "      <td>415</td>\n",
              "      <td>1_monetdb_database_table_query</td>\n",
              "      <td>[monetdb, database, table, query, monetdblite,...</td>\n",
              "      <td>[title summarizes problem think appreciate poi...</td>\n",
              "    </tr>\n",
              "    <tr>\n",
              "      <th>3</th>\n",
              "      <td>2</td>\n",
              "      <td>287</td>\n",
              "      <td>2_luigi_task_self_def</td>\n",
              "      <td>[luigi, task, self, def, worker, bdx, run, ret...</td>\n",
              "      <td>[luigi task read sql file output bigquery ques...</td>\n",
              "    </tr>\n",
              "    <tr>\n",
              "      <th>4</th>\n",
              "      <td>3</td>\n",
              "      <td>233</td>\n",
              "      <td>3_nextflow_process_channel_debug</td>\n",
              "      <td>[nextflow, process, channel, debug, nf, main, ...</td>\n",
              "      <td>[working colleague pipeline nextflow weird beh...</td>\n",
              "    </tr>\n",
              "  </tbody>\n",
              "</table>\n",
              "</div>"
            ],
            "text/plain": [
              "   Topic  Count                              Name  \\\n",
              "0     -1   2192       -1_sample_rule_input_output   \n",
              "1      0    443       0_eclipse_org_java_internal   \n",
              "2      1    415    1_monetdb_database_table_query   \n",
              "3      2    287             2_luigi_task_self_def   \n",
              "4      3    233  3_nextflow_process_channel_debug   \n",
              "\n",
              "                                      Representation  \\\n",
              "0  [sample, rule, input, output, snakemake, file,...   \n",
              "1  [eclipse, org, java, internal, kepler, core, u...   \n",
              "2  [monetdb, database, table, query, monetdblite,...   \n",
              "3  [luigi, task, self, def, worker, bdx, run, ret...   \n",
              "4  [nextflow, process, channel, debug, nf, main, ...   \n",
              "\n",
              "                                 Representative_Docs  \n",
              "0  [pretty new using snakemake looked around see ...  \n",
              "1  [eclipse windowbuilder either swing gwt behave...  \n",
              "2  [title summarizes problem think appreciate poi...  \n",
              "3  [luigi task read sql file output bigquery ques...  \n",
              "4  [working colleague pipeline nextflow weird beh...  "
            ]
          },
          "execution_count": 6,
          "metadata": {},
          "output_type": "execute_result"
        }
      ],
      "source": [
        "freq = model.get_topic_info(); freq.head(5)"
      ]
    },
    {
      "cell_type": "markdown",
      "metadata": {
        "id": "-BtOgifV7Q-H"
      },
      "source": [
        "-1 refers to all outliers that BERTopic was not able to assign a topic to. Next, look at the most frequent topics and their words to determine what the topic is about."
      ]
    },
    {
      "cell_type": "code",
      "execution_count": 7,
      "metadata": {
        "colab": {
          "base_uri": "https://localhost:8080/"
        },
        "id": "IVpvT4bA6KiN",
        "outputId": "9cf99b89-30bb-45fe-b98b-063f8f3624d9"
      },
      "outputs": [
        {
          "data": {
            "text/plain": [
              "[('eclipse', 0.06667907660780889),\n",
              " ('org', 0.04951632290827403),\n",
              " ('java', 0.04393238344057453),\n",
              " ('internal', 0.03133995752767232),\n",
              " ('kepler', 0.023702511583527906),\n",
              " ('core', 0.023590725285928732),\n",
              " ('ui', 0.020453053965373467),\n",
              " ('maven', 0.01837510384307266),\n",
              " ('project', 0.01744750546438908),\n",
              " ('plugin', 0.016339504782793234)]"
            ]
          },
          "execution_count": 7,
          "metadata": {},
          "output_type": "execute_result"
        }
      ],
      "source": [
        "model.get_topic(0)  # Select the most frequent topic"
      ]
    },
    {
      "cell_type": "markdown",
      "metadata": {
        "id": "j91cP3xBpWDM"
      },
      "source": [
        "## Assess trained model"
      ]
    },
    {
      "cell_type": "code",
      "execution_count": 8,
      "metadata": {
        "id": "uCMHaWVMpbo3"
      },
      "outputs": [
        {
          "data": {
            "text/plain": [
              "[1, -1, 10, 4, 4, -1, 21, 1, -1, -1]"
            ]
          },
          "execution_count": 8,
          "metadata": {},
          "output_type": "execute_result"
        }
      ],
      "source": [
        "# assess predicted topics for first 10 posts\n",
        "model.topics_[:10]"
      ]
    },
    {
      "cell_type": "markdown",
      "metadata": {
        "id": "M8c8LenB8Zyl"
      },
      "source": [
        "## Visualize Topics\n",
        "After having trained our model, we can visualize the topics that were generated in a way very similar to LDAvis."
      ]
    },
    {
      "cell_type": "code",
      "execution_count": 9,
      "metadata": {
        "colab": {
          "base_uri": "https://localhost:8080/",
          "height": 667
        },
        "id": "S9qDqEHddgKq",
        "outputId": "3fddd5f1-194e-4708-a7dc-f0c5602c140a"
      },
      "outputs": [
        {
          "data": {
            "application/vnd.plotly.v1+json": {
              "config": {
                "plotlyServerURL": "https://plot.ly"
              },
              "data": [
                {
                  "customdata": [
                    [
                      0,
                      "eclipse | org | java | internal | kepler",
                      443
                    ],
                    [
                      1,
                      "monetdb | database | table | query | monetdblite",
                      415
                    ],
                    [
                      2,
                      "luigi | task | self | def | worker",
                      287
                    ],
                    [
                      3,
                      "nextflow | process | channel | debug | nf",
                      233
                    ],
                    [
                      4,
                      "varchar | export | bteq | tpt | teradata",
                      179
                    ],
                    [
                      5,
                      "docker | swarm | service | network | node",
                      164
                    ],
                    [
                      6,
                      "cluster | job | slurm | snakemake | mem",
                      126
                    ],
                    [
                      7,
                      "ansible | role | galaxy | collection | install",
                      120
                    ],
                    [
                      8,
                      "procedure | stored | declare | begin | end",
                      112
                    ],
                    [
                      9,
                      "rule | input | output | txt | snakemake",
                      108
                    ],
                    [
                      10,
                      "rapidminer | model | document | text | classifier",
                      103
                    ],
                    [
                      11,
                      "odbc | teradata | driver | connect | connection",
                      102
                    ],
                    [
                      12,
                      "jdbc | java | com | teradata | hibernate",
                      97
                    ],
                    [
                      13,
                      "genome | sample | fastq | input | gz",
                      93
                    ],
                    [
                      14,
                      "sample | fastq | bam | input | rule",
                      84
                    ],
                    [
                      15,
                      "airflow | dag | py | bitnami | python",
                      79
                    ],
                    [
                      16,
                      "gl | kepler | map | keplergl | longitude",
                      77
                    ],
                    [
                      17,
                      "knime | node | workflow | hometeam | awayteam",
                      75
                    ],
                    [
                      18,
                      "conda | environment | snakemake | envs | anaconda",
                      71
                    ],
                    [
                      19,
                      "timestamp | convert | format | time | mm",
                      68
                    ],
                    [
                      20,
                      "attribute | rapidminer | operator | miner | association",
                      66
                    ],
                    [
                      21,
                      "date | event | null | row | min",
                      59
                    ],
                    [
                      22,
                      "spark | scala | jdbc | apache | org",
                      56
                    ],
                    [
                      23,
                      "id | acct | cd | cc | pat",
                      55
                    ],
                    [
                      24,
                      "config | snakemake | yaml | snakefile | rule",
                      50
                    ],
                    [
                      25,
                      "month | date | current | day | year",
                      47
                    ],
                    [
                      26,
                      "column | abc | john | string | comma",
                      46
                    ],
                    [
                      27,
                      "sqoop | java | hadoop | apache | hive",
                      46
                    ],
                    [
                      28,
                      "teradata | data | database | bigquery | gcp",
                      46
                    ],
                    [
                      29,
                      "count | sum | canada | total | jan",
                      45
                    ],
                    [
                      30,
                      "argo | template | workflow | argoproj | whalesay",
                      42
                    ],
                    [
                      31,
                      "rapidminer | jboss | java | com | subsystem",
                      42
                    ],
                    [
                      32,
                      "meteor | galaxy | minifier | app | anonymous",
                      41
                    ],
                    [
                      33,
                      "update | table | jan | edw | column",
                      38
                    ],
                    [
                      34,
                      "knime | column | col | node | cell",
                      36
                    ],
                    [
                      35,
                      "date | format | mm | yyyy | dd",
                      36
                    ],
                    [
                      36,
                      "view | grant | user | role | query",
                      35
                    ],
                    [
                      37,
                      "df | dataframe | teradata | insert | udaexec",
                      34
                    ],
                    [
                      38,
                      "week | agent | date | year | current",
                      34
                    ],
                    [
                      39,
                      "teradatasql | python | go | serial | gosqldriver",
                      33
                    ],
                    [
                      40,
                      "pyodbc | odbc | driver | teradata | connect",
                      33
                    ],
                    [
                      41,
                      "clustering | cluster | rapidminer | mean | algorithm",
                      33
                    ],
                    [
                      42,
                      "cuda | gpu | warp | kepler | myreg",
                      32
                    ],
                    [
                      43,
                      "timestamp | time | hour | difference | diff",
                      32
                    ],
                    [
                      44,
                      "decimal | cast | numeric | float | field",
                      32
                    ],
                    [
                      45,
                      "datum | query | teradata | contract | udf",
                      32
                    ],
                    [
                      46,
                      "spool | amp | estimated | tmp | step",
                      30
                    ],
                    [
                      47,
                      "table | join | personid | col | union",
                      29
                    ],
                    [
                      48,
                      "regexp | regex | substr | string | replace",
                      27
                    ],
                    [
                      49,
                      "value | id | pivot | trip | column",
                      27
                    ],
                    [
                      50,
                      "month | date | may | transaction | policy",
                      27
                    ],
                    [
                      51,
                      "key | parameter | port | true | op",
                      27
                    ],
                    [
                      52,
                      "cmc | dw | view | table | id",
                      26
                    ],
                    [
                      53,
                      "identity | increment | generated | column | insert",
                      25
                    ],
                    [
                      54,
                      "rank | ranking | partition | dense | id",
                      25
                    ],
                    [
                      55,
                      "country | amount | year | plot | seaborn",
                      25
                    ],
                    [
                      56,
                      "snakemake | job | raven | test | txt",
                      24
                    ],
                    [
                      57,
                      "fastqc | sample | html | calling | replicate",
                      23
                    ],
                    [
                      58,
                      "bacteria | acid | na | eic | pathway",
                      23
                    ],
                    [
                      59,
                      "volatile | table | create | temporary | preserve",
                      18
                    ],
                    [
                      60,
                      "sqlalchemy | engine | teradata | user | pasw",
                      18
                    ],
                    [
                      61,
                      "kafka | trident | spout | internals | storm",
                      17
                    ],
                    [
                      62,
                      "column | table | dbc | append | check",
                      16
                    ],
                    [
                      63,
                      "primary | index | col | table | query",
                      16
                    ],
                    [
                      64,
                      "log | rule | script | snakemake | flaky",
                      16
                    ],
                    [
                      65,
                      "checkpoint | barcode | folder | wildcards | fast",
                      15
                    ],
                    [
                      66,
                      "easybuild | gcccore | luke | turbo | libjpeg",
                      14
                    ],
                    [
                      67,
                      "ftp | remote | err | download | sftp",
                      13
                    ],
                    [
                      68,
                      "pyhd | ed | sam | ab | uniquemap",
                      13
                    ],
                    [
                      69,
                      "xpath | ul | li | span | rapidminer",
                      13
                    ],
                    [
                      70,
                      "json | price | category | company | material",
                      12
                    ],
                    [
                      71,
                      "rcv | case | accno | bfv | validation",
                      12
                    ],
                    [
                      72,
                      "aa | random | sequence | scratch | lowest",
                      12
                    ],
                    [
                      73,
                      "covalent | template | angular | span | ng",
                      11
                    ],
                    [
                      74,
                      "gpus | localrules | job | cluster | rule",
                      11
                    ],
                    [
                      75,
                      "character | remove | oreplace | space | syslib",
                      11
                    ],
                    [
                      76,
                      "search | ach | string | regexp | column",
                      11
                    ],
                    [
                      77,
                      "character | untranslatable | unicode | translate | latin",
                      11
                    ],
                    [
                      78,
                      "ldsc | cctyper | fimo | samea | isolate",
                      10
                    ],
                    [
                      79,
                      "adodb | dim | cmdsqldata | recordset | vba",
                      10
                    ]
                  ],
                  "hovertemplate": "<b>Topic %{customdata[0]}</b><br>%{customdata[1]}<br>Size: %{customdata[2]}",
                  "legendgroup": "",
                  "marker": {
                    "color": "#B0BEC5",
                    "line": {
                      "color": "DarkSlateGrey",
                      "width": 2
                    },
                    "size": [
                      443,
                      415,
                      287,
                      233,
                      179,
                      164,
                      126,
                      120,
                      112,
                      108,
                      103,
                      102,
                      97,
                      93,
                      84,
                      79,
                      77,
                      75,
                      71,
                      68,
                      66,
                      59,
                      56,
                      55,
                      50,
                      47,
                      46,
                      46,
                      46,
                      45,
                      42,
                      42,
                      41,
                      38,
                      36,
                      36,
                      35,
                      34,
                      34,
                      33,
                      33,
                      33,
                      32,
                      32,
                      32,
                      32,
                      30,
                      29,
                      27,
                      27,
                      27,
                      27,
                      26,
                      25,
                      25,
                      25,
                      24,
                      23,
                      23,
                      18,
                      18,
                      17,
                      16,
                      16,
                      16,
                      15,
                      14,
                      13,
                      13,
                      13,
                      12,
                      12,
                      12,
                      11,
                      11,
                      11,
                      11,
                      11,
                      10,
                      10
                    ],
                    "sizemode": "area",
                    "sizeref": 0.276875,
                    "symbol": "circle"
                  },
                  "mode": "markers",
                  "name": "",
                  "orientation": "v",
                  "showlegend": false,
                  "type": "scatter",
                  "x": [
                    16.328420639038086,
                    -9.377425193786621,
                    13.94498062133789,
                    13.969524383544922,
                    13.556341171264648,
                    7.1043243408203125,
                    15.793351173400879,
                    14.909998893737793,
                    -5.832223892211914,
                    15.730862617492676,
                    15.781291961669922,
                    12.491470336914062,
                    -9.663712501525879,
                    14.48950481414795,
                    14.355171203613281,
                    6.903387069702148,
                    16.542444229125977,
                    11.756173133850098,
                    15.140229225158691,
                    0.6587998867034912,
                    15.48447036743164,
                    -6.339043140411377,
                    -9.598873138427734,
                    -16.644412994384766,
                    15.474505424499512,
                    -6.5671820640563965,
                    9.337010383605957,
                    -9.418281555175781,
                    12.364988327026367,
                    9.560433387756348,
                    6.893669128417969,
                    16.083740234375,
                    7.1964640617370605,
                    -3.5040295124053955,
                    11.75549030303955,
                    0.5698319673538208,
                    -5.565518856048584,
                    13.222982406616211,
                    -6.336310386657715,
                    12.991127014160156,
                    12.750107765197754,
                    15.739527702331543,
                    16.59303855895996,
                    0.6121575236320496,
                    9.212421417236328,
                    -5.736629962921143,
                    -16.590652465820312,
                    9.504454612731934,
                    -6.442171096801758,
                    -6.036228179931641,
                    -6.520984172821045,
                    -16.59592628479004,
                    2.764232873916626,
                    -3.537513017654419,
                    -6.03624963760376,
                    14.826680183410645,
                    15.598079681396484,
                    15.405441284179688,
                    14.647038459777832,
                    -5.833238124847412,
                    12.953803062438965,
                    13.712156295776367,
                    -5.500255107879639,
                    2.764145612716675,
                    15.4188814163208,
                    14.313788414001465,
                    14.950736045837402,
                    15.375899314880371,
                    15.402688026428223,
                    15.441378593444824,
                    13.572455406188965,
                    9.31987190246582,
                    -3.5956857204437256,
                    -5.465333461761475,
                    15.886045455932617,
                    8.90297794342041,
                    -6.442172527313232,
                    8.872147560119629,
                    15.679902076721191,
                    13.708855628967285
                  ],
                  "xaxis": "x",
                  "y": [
                    2.6126816272735596,
                    12.237011909484863,
                    -7.051573753356934,
                    -7.096897125244141,
                    25.276891708374023,
                    14.243385314941406,
                    10.347874641418457,
                    10.162637710571289,
                    12.020111083984375,
                    -10.062950134277344,
                    2.021951913833618,
                    26.18558120727539,
                    11.934677124023438,
                    -6.58164644241333,
                    -6.79036808013916,
                    14.016999244689941,
                    2.8402211666107178,
                    2.554083824157715,
                    10.094649314880371,
                    -2.181421995162964,
                    1.704871654510498,
                    5.5381574630737305,
                    12.002494812011719,
                    6.994091033935547,
                    -9.812590599060059,
                    5.309850692749023,
                    8.692145347595215,
                    12.192309379577637,
                    26.292219161987305,
                    8.918725967407227,
                    14.050759315490723,
                    2.347174882888794,
                    14.338471412658691,
                    8.71316146850586,
                    2.554351806640625,
                    -2.09243106842041,
                    12.28992748260498,
                    25.607154846191406,
                    5.540980339050293,
                    25.82452392578125,
                    26.00551414489746,
                    1.9784057140350342,
                    2.894474744796753,
                    -2.1348085403442383,
                    8.567049026489258,
                    12.115178108215332,
                    6.940240859985352,
                    8.861980438232422,
                    -14.341897010803223,
                    -3.7988991737365723,
                    5.356040000915527,
                    6.94551420211792,
                    12.313740730285645,
                    8.678296089172363,
                    -3.7989134788513184,
                    -6.188998222351074,
                    10.114373207092285,
                    9.62549114227295,
                    -6.372203350067139,
                    12.0181303024292,
                    25.865816116333008,
                    -7.152824401855469,
                    12.355493545532227,
                    12.313706398010254,
                    -9.758332252502441,
                    -6.854773044586182,
                    10.157530784606934,
                    9.553894996643066,
                    9.94705867767334,
                    1.658772349357605,
                    25.260589599609375,
                    8.67477798461914,
                    8.620565414428711,
                    12.390767097473145,
                    10.445228576660156,
                    8.257896423339844,
                    -14.34183406829834,
                    8.226801872253418,
                    -10.011649131774902,
                    25.122650146484375
                  ],
                  "yaxis": "y"
                }
              ],
              "layout": {
                "annotations": [
                  {
                    "showarrow": false,
                    "text": "D1",
                    "x": -19.14107494354248,
                    "y": 6.8714352369308465,
                    "yshift": 10
                  },
                  {
                    "showarrow": false,
                    "text": "D2",
                    "x": -0.029540300369262695,
                    "xshift": 10,
                    "y": 30.2360520362854
                  }
                ],
                "height": 650,
                "hoverlabel": {
                  "bgcolor": "white",
                  "font": {
                    "family": "Rockwell",
                    "size": 16
                  }
                },
                "legend": {
                  "itemsizing": "constant",
                  "tracegroupgap": 0
                },
                "margin": {
                  "t": 60
                },
                "shapes": [
                  {
                    "line": {
                      "color": "#CFD8DC",
                      "width": 2
                    },
                    "type": "line",
                    "x0": -0.029540300369262695,
                    "x1": -0.029540300369262695,
                    "y0": -16.493181562423707,
                    "y1": 30.2360520362854
                  },
                  {
                    "line": {
                      "color": "#9E9E9E",
                      "width": 2
                    },
                    "type": "line",
                    "x0": -19.14107494354248,
                    "x1": 19.081994342803956,
                    "y0": 6.8714352369308465,
                    "y1": 6.8714352369308465
                  }
                ],
                "sliders": [
                  {
                    "active": 0,
                    "pad": {
                      "t": 50
                    },
                    "steps": [
                      {
                        "args": [
                          {
                            "marker.color": [
                              [
                                "red",
                                "#B0BEC5",
                                "#B0BEC5",
                                "#B0BEC5",
                                "#B0BEC5",
                                "#B0BEC5",
                                "#B0BEC5",
                                "#B0BEC5",
                                "#B0BEC5",
                                "#B0BEC5",
                                "#B0BEC5",
                                "#B0BEC5",
                                "#B0BEC5",
                                "#B0BEC5",
                                "#B0BEC5",
                                "#B0BEC5",
                                "#B0BEC5",
                                "#B0BEC5",
                                "#B0BEC5",
                                "#B0BEC5",
                                "#B0BEC5",
                                "#B0BEC5",
                                "#B0BEC5",
                                "#B0BEC5",
                                "#B0BEC5",
                                "#B0BEC5",
                                "#B0BEC5",
                                "#B0BEC5",
                                "#B0BEC5",
                                "#B0BEC5",
                                "#B0BEC5",
                                "#B0BEC5",
                                "#B0BEC5",
                                "#B0BEC5",
                                "#B0BEC5",
                                "#B0BEC5",
                                "#B0BEC5",
                                "#B0BEC5",
                                "#B0BEC5",
                                "#B0BEC5",
                                "#B0BEC5",
                                "#B0BEC5",
                                "#B0BEC5",
                                "#B0BEC5",
                                "#B0BEC5",
                                "#B0BEC5",
                                "#B0BEC5",
                                "#B0BEC5",
                                "#B0BEC5",
                                "#B0BEC5",
                                "#B0BEC5",
                                "#B0BEC5",
                                "#B0BEC5",
                                "#B0BEC5",
                                "#B0BEC5",
                                "#B0BEC5",
                                "#B0BEC5",
                                "#B0BEC5",
                                "#B0BEC5",
                                "#B0BEC5",
                                "#B0BEC5",
                                "#B0BEC5",
                                "#B0BEC5",
                                "#B0BEC5",
                                "#B0BEC5",
                                "#B0BEC5",
                                "#B0BEC5",
                                "#B0BEC5",
                                "#B0BEC5",
                                "#B0BEC5",
                                "#B0BEC5",
                                "#B0BEC5",
                                "#B0BEC5",
                                "#B0BEC5",
                                "#B0BEC5",
                                "#B0BEC5",
                                "#B0BEC5",
                                "#B0BEC5",
                                "#B0BEC5",
                                "#B0BEC5"
                              ]
                            ]
                          }
                        ],
                        "label": "Topic 0",
                        "method": "update"
                      },
                      {
                        "args": [
                          {
                            "marker.color": [
                              [
                                "#B0BEC5",
                                "red",
                                "#B0BEC5",
                                "#B0BEC5",
                                "#B0BEC5",
                                "#B0BEC5",
                                "#B0BEC5",
                                "#B0BEC5",
                                "#B0BEC5",
                                "#B0BEC5",
                                "#B0BEC5",
                                "#B0BEC5",
                                "#B0BEC5",
                                "#B0BEC5",
                                "#B0BEC5",
                                "#B0BEC5",
                                "#B0BEC5",
                                "#B0BEC5",
                                "#B0BEC5",
                                "#B0BEC5",
                                "#B0BEC5",
                                "#B0BEC5",
                                "#B0BEC5",
                                "#B0BEC5",
                                "#B0BEC5",
                                "#B0BEC5",
                                "#B0BEC5",
                                "#B0BEC5",
                                "#B0BEC5",
                                "#B0BEC5",
                                "#B0BEC5",
                                "#B0BEC5",
                                "#B0BEC5",
                                "#B0BEC5",
                                "#B0BEC5",
                                "#B0BEC5",
                                "#B0BEC5",
                                "#B0BEC5",
                                "#B0BEC5",
                                "#B0BEC5",
                                "#B0BEC5",
                                "#B0BEC5",
                                "#B0BEC5",
                                "#B0BEC5",
                                "#B0BEC5",
                                "#B0BEC5",
                                "#B0BEC5",
                                "#B0BEC5",
                                "#B0BEC5",
                                "#B0BEC5",
                                "#B0BEC5",
                                "#B0BEC5",
                                "#B0BEC5",
                                "#B0BEC5",
                                "#B0BEC5",
                                "#B0BEC5",
                                "#B0BEC5",
                                "#B0BEC5",
                                "#B0BEC5",
                                "#B0BEC5",
                                "#B0BEC5",
                                "#B0BEC5",
                                "#B0BEC5",
                                "#B0BEC5",
                                "#B0BEC5",
                                "#B0BEC5",
                                "#B0BEC5",
                                "#B0BEC5",
                                "#B0BEC5",
                                "#B0BEC5",
                                "#B0BEC5",
                                "#B0BEC5",
                                "#B0BEC5",
                                "#B0BEC5",
                                "#B0BEC5",
                                "#B0BEC5",
                                "#B0BEC5",
                                "#B0BEC5",
                                "#B0BEC5",
                                "#B0BEC5"
                              ]
                            ]
                          }
                        ],
                        "label": "Topic 1",
                        "method": "update"
                      },
                      {
                        "args": [
                          {
                            "marker.color": [
                              [
                                "#B0BEC5",
                                "#B0BEC5",
                                "red",
                                "#B0BEC5",
                                "#B0BEC5",
                                "#B0BEC5",
                                "#B0BEC5",
                                "#B0BEC5",
                                "#B0BEC5",
                                "#B0BEC5",
                                "#B0BEC5",
                                "#B0BEC5",
                                "#B0BEC5",
                                "#B0BEC5",
                                "#B0BEC5",
                                "#B0BEC5",
                                "#B0BEC5",
                                "#B0BEC5",
                                "#B0BEC5",
                                "#B0BEC5",
                                "#B0BEC5",
                                "#B0BEC5",
                                "#B0BEC5",
                                "#B0BEC5",
                                "#B0BEC5",
                                "#B0BEC5",
                                "#B0BEC5",
                                "#B0BEC5",
                                "#B0BEC5",
                                "#B0BEC5",
                                "#B0BEC5",
                                "#B0BEC5",
                                "#B0BEC5",
                                "#B0BEC5",
                                "#B0BEC5",
                                "#B0BEC5",
                                "#B0BEC5",
                                "#B0BEC5",
                                "#B0BEC5",
                                "#B0BEC5",
                                "#B0BEC5",
                                "#B0BEC5",
                                "#B0BEC5",
                                "#B0BEC5",
                                "#B0BEC5",
                                "#B0BEC5",
                                "#B0BEC5",
                                "#B0BEC5",
                                "#B0BEC5",
                                "#B0BEC5",
                                "#B0BEC5",
                                "#B0BEC5",
                                "#B0BEC5",
                                "#B0BEC5",
                                "#B0BEC5",
                                "#B0BEC5",
                                "#B0BEC5",
                                "#B0BEC5",
                                "#B0BEC5",
                                "#B0BEC5",
                                "#B0BEC5",
                                "#B0BEC5",
                                "#B0BEC5",
                                "#B0BEC5",
                                "#B0BEC5",
                                "#B0BEC5",
                                "#B0BEC5",
                                "#B0BEC5",
                                "#B0BEC5",
                                "#B0BEC5",
                                "#B0BEC5",
                                "#B0BEC5",
                                "#B0BEC5",
                                "#B0BEC5",
                                "#B0BEC5",
                                "#B0BEC5",
                                "#B0BEC5",
                                "#B0BEC5",
                                "#B0BEC5",
                                "#B0BEC5"
                              ]
                            ]
                          }
                        ],
                        "label": "Topic 2",
                        "method": "update"
                      },
                      {
                        "args": [
                          {
                            "marker.color": [
                              [
                                "#B0BEC5",
                                "#B0BEC5",
                                "#B0BEC5",
                                "red",
                                "#B0BEC5",
                                "#B0BEC5",
                                "#B0BEC5",
                                "#B0BEC5",
                                "#B0BEC5",
                                "#B0BEC5",
                                "#B0BEC5",
                                "#B0BEC5",
                                "#B0BEC5",
                                "#B0BEC5",
                                "#B0BEC5",
                                "#B0BEC5",
                                "#B0BEC5",
                                "#B0BEC5",
                                "#B0BEC5",
                                "#B0BEC5",
                                "#B0BEC5",
                                "#B0BEC5",
                                "#B0BEC5",
                                "#B0BEC5",
                                "#B0BEC5",
                                "#B0BEC5",
                                "#B0BEC5",
                                "#B0BEC5",
                                "#B0BEC5",
                                "#B0BEC5",
                                "#B0BEC5",
                                "#B0BEC5",
                                "#B0BEC5",
                                "#B0BEC5",
                                "#B0BEC5",
                                "#B0BEC5",
                                "#B0BEC5",
                                "#B0BEC5",
                                "#B0BEC5",
                                "#B0BEC5",
                                "#B0BEC5",
                                "#B0BEC5",
                                "#B0BEC5",
                                "#B0BEC5",
                                "#B0BEC5",
                                "#B0BEC5",
                                "#B0BEC5",
                                "#B0BEC5",
                                "#B0BEC5",
                                "#B0BEC5",
                                "#B0BEC5",
                                "#B0BEC5",
                                "#B0BEC5",
                                "#B0BEC5",
                                "#B0BEC5",
                                "#B0BEC5",
                                "#B0BEC5",
                                "#B0BEC5",
                                "#B0BEC5",
                                "#B0BEC5",
                                "#B0BEC5",
                                "#B0BEC5",
                                "#B0BEC5",
                                "#B0BEC5",
                                "#B0BEC5",
                                "#B0BEC5",
                                "#B0BEC5",
                                "#B0BEC5",
                                "#B0BEC5",
                                "#B0BEC5",
                                "#B0BEC5",
                                "#B0BEC5",
                                "#B0BEC5",
                                "#B0BEC5",
                                "#B0BEC5",
                                "#B0BEC5",
                                "#B0BEC5",
                                "#B0BEC5",
                                "#B0BEC5",
                                "#B0BEC5"
                              ]
                            ]
                          }
                        ],
                        "label": "Topic 3",
                        "method": "update"
                      },
                      {
                        "args": [
                          {
                            "marker.color": [
                              [
                                "#B0BEC5",
                                "#B0BEC5",
                                "#B0BEC5",
                                "#B0BEC5",
                                "red",
                                "#B0BEC5",
                                "#B0BEC5",
                                "#B0BEC5",
                                "#B0BEC5",
                                "#B0BEC5",
                                "#B0BEC5",
                                "#B0BEC5",
                                "#B0BEC5",
                                "#B0BEC5",
                                "#B0BEC5",
                                "#B0BEC5",
                                "#B0BEC5",
                                "#B0BEC5",
                                "#B0BEC5",
                                "#B0BEC5",
                                "#B0BEC5",
                                "#B0BEC5",
                                "#B0BEC5",
                                "#B0BEC5",
                                "#B0BEC5",
                                "#B0BEC5",
                                "#B0BEC5",
                                "#B0BEC5",
                                "#B0BEC5",
                                "#B0BEC5",
                                "#B0BEC5",
                                "#B0BEC5",
                                "#B0BEC5",
                                "#B0BEC5",
                                "#B0BEC5",
                                "#B0BEC5",
                                "#B0BEC5",
                                "#B0BEC5",
                                "#B0BEC5",
                                "#B0BEC5",
                                "#B0BEC5",
                                "#B0BEC5",
                                "#B0BEC5",
                                "#B0BEC5",
                                "#B0BEC5",
                                "#B0BEC5",
                                "#B0BEC5",
                                "#B0BEC5",
                                "#B0BEC5",
                                "#B0BEC5",
                                "#B0BEC5",
                                "#B0BEC5",
                                "#B0BEC5",
                                "#B0BEC5",
                                "#B0BEC5",
                                "#B0BEC5",
                                "#B0BEC5",
                                "#B0BEC5",
                                "#B0BEC5",
                                "#B0BEC5",
                                "#B0BEC5",
                                "#B0BEC5",
                                "#B0BEC5",
                                "#B0BEC5",
                                "#B0BEC5",
                                "#B0BEC5",
                                "#B0BEC5",
                                "#B0BEC5",
                                "#B0BEC5",
                                "#B0BEC5",
                                "#B0BEC5",
                                "#B0BEC5",
                                "#B0BEC5",
                                "#B0BEC5",
                                "#B0BEC5",
                                "#B0BEC5",
                                "#B0BEC5",
                                "#B0BEC5",
                                "#B0BEC5",
                                "#B0BEC5"
                              ]
                            ]
                          }
                        ],
                        "label": "Topic 4",
                        "method": "update"
                      },
                      {
                        "args": [
                          {
                            "marker.color": [
                              [
                                "#B0BEC5",
                                "#B0BEC5",
                                "#B0BEC5",
                                "#B0BEC5",
                                "#B0BEC5",
                                "red",
                                "#B0BEC5",
                                "#B0BEC5",
                                "#B0BEC5",
                                "#B0BEC5",
                                "#B0BEC5",
                                "#B0BEC5",
                                "#B0BEC5",
                                "#B0BEC5",
                                "#B0BEC5",
                                "#B0BEC5",
                                "#B0BEC5",
                                "#B0BEC5",
                                "#B0BEC5",
                                "#B0BEC5",
                                "#B0BEC5",
                                "#B0BEC5",
                                "#B0BEC5",
                                "#B0BEC5",
                                "#B0BEC5",
                                "#B0BEC5",
                                "#B0BEC5",
                                "#B0BEC5",
                                "#B0BEC5",
                                "#B0BEC5",
                                "#B0BEC5",
                                "#B0BEC5",
                                "#B0BEC5",
                                "#B0BEC5",
                                "#B0BEC5",
                                "#B0BEC5",
                                "#B0BEC5",
                                "#B0BEC5",
                                "#B0BEC5",
                                "#B0BEC5",
                                "#B0BEC5",
                                "#B0BEC5",
                                "#B0BEC5",
                                "#B0BEC5",
                                "#B0BEC5",
                                "#B0BEC5",
                                "#B0BEC5",
                                "#B0BEC5",
                                "#B0BEC5",
                                "#B0BEC5",
                                "#B0BEC5",
                                "#B0BEC5",
                                "#B0BEC5",
                                "#B0BEC5",
                                "#B0BEC5",
                                "#B0BEC5",
                                "#B0BEC5",
                                "#B0BEC5",
                                "#B0BEC5",
                                "#B0BEC5",
                                "#B0BEC5",
                                "#B0BEC5",
                                "#B0BEC5",
                                "#B0BEC5",
                                "#B0BEC5",
                                "#B0BEC5",
                                "#B0BEC5",
                                "#B0BEC5",
                                "#B0BEC5",
                                "#B0BEC5",
                                "#B0BEC5",
                                "#B0BEC5",
                                "#B0BEC5",
                                "#B0BEC5",
                                "#B0BEC5",
                                "#B0BEC5",
                                "#B0BEC5",
                                "#B0BEC5",
                                "#B0BEC5",
                                "#B0BEC5"
                              ]
                            ]
                          }
                        ],
                        "label": "Topic 5",
                        "method": "update"
                      },
                      {
                        "args": [
                          {
                            "marker.color": [
                              [
                                "#B0BEC5",
                                "#B0BEC5",
                                "#B0BEC5",
                                "#B0BEC5",
                                "#B0BEC5",
                                "#B0BEC5",
                                "red",
                                "#B0BEC5",
                                "#B0BEC5",
                                "#B0BEC5",
                                "#B0BEC5",
                                "#B0BEC5",
                                "#B0BEC5",
                                "#B0BEC5",
                                "#B0BEC5",
                                "#B0BEC5",
                                "#B0BEC5",
                                "#B0BEC5",
                                "#B0BEC5",
                                "#B0BEC5",
                                "#B0BEC5",
                                "#B0BEC5",
                                "#B0BEC5",
                                "#B0BEC5",
                                "#B0BEC5",
                                "#B0BEC5",
                                "#B0BEC5",
                                "#B0BEC5",
                                "#B0BEC5",
                                "#B0BEC5",
                                "#B0BEC5",
                                "#B0BEC5",
                                "#B0BEC5",
                                "#B0BEC5",
                                "#B0BEC5",
                                "#B0BEC5",
                                "#B0BEC5",
                                "#B0BEC5",
                                "#B0BEC5",
                                "#B0BEC5",
                                "#B0BEC5",
                                "#B0BEC5",
                                "#B0BEC5",
                                "#B0BEC5",
                                "#B0BEC5",
                                "#B0BEC5",
                                "#B0BEC5",
                                "#B0BEC5",
                                "#B0BEC5",
                                "#B0BEC5",
                                "#B0BEC5",
                                "#B0BEC5",
                                "#B0BEC5",
                                "#B0BEC5",
                                "#B0BEC5",
                                "#B0BEC5",
                                "#B0BEC5",
                                "#B0BEC5",
                                "#B0BEC5",
                                "#B0BEC5",
                                "#B0BEC5",
                                "#B0BEC5",
                                "#B0BEC5",
                                "#B0BEC5",
                                "#B0BEC5",
                                "#B0BEC5",
                                "#B0BEC5",
                                "#B0BEC5",
                                "#B0BEC5",
                                "#B0BEC5",
                                "#B0BEC5",
                                "#B0BEC5",
                                "#B0BEC5",
                                "#B0BEC5",
                                "#B0BEC5",
                                "#B0BEC5",
                                "#B0BEC5",
                                "#B0BEC5",
                                "#B0BEC5",
                                "#B0BEC5"
                              ]
                            ]
                          }
                        ],
                        "label": "Topic 6",
                        "method": "update"
                      },
                      {
                        "args": [
                          {
                            "marker.color": [
                              [
                                "#B0BEC5",
                                "#B0BEC5",
                                "#B0BEC5",
                                "#B0BEC5",
                                "#B0BEC5",
                                "#B0BEC5",
                                "#B0BEC5",
                                "red",
                                "#B0BEC5",
                                "#B0BEC5",
                                "#B0BEC5",
                                "#B0BEC5",
                                "#B0BEC5",
                                "#B0BEC5",
                                "#B0BEC5",
                                "#B0BEC5",
                                "#B0BEC5",
                                "#B0BEC5",
                                "#B0BEC5",
                                "#B0BEC5",
                                "#B0BEC5",
                                "#B0BEC5",
                                "#B0BEC5",
                                "#B0BEC5",
                                "#B0BEC5",
                                "#B0BEC5",
                                "#B0BEC5",
                                "#B0BEC5",
                                "#B0BEC5",
                                "#B0BEC5",
                                "#B0BEC5",
                                "#B0BEC5",
                                "#B0BEC5",
                                "#B0BEC5",
                                "#B0BEC5",
                                "#B0BEC5",
                                "#B0BEC5",
                                "#B0BEC5",
                                "#B0BEC5",
                                "#B0BEC5",
                                "#B0BEC5",
                                "#B0BEC5",
                                "#B0BEC5",
                                "#B0BEC5",
                                "#B0BEC5",
                                "#B0BEC5",
                                "#B0BEC5",
                                "#B0BEC5",
                                "#B0BEC5",
                                "#B0BEC5",
                                "#B0BEC5",
                                "#B0BEC5",
                                "#B0BEC5",
                                "#B0BEC5",
                                "#B0BEC5",
                                "#B0BEC5",
                                "#B0BEC5",
                                "#B0BEC5",
                                "#B0BEC5",
                                "#B0BEC5",
                                "#B0BEC5",
                                "#B0BEC5",
                                "#B0BEC5",
                                "#B0BEC5",
                                "#B0BEC5",
                                "#B0BEC5",
                                "#B0BEC5",
                                "#B0BEC5",
                                "#B0BEC5",
                                "#B0BEC5",
                                "#B0BEC5",
                                "#B0BEC5",
                                "#B0BEC5",
                                "#B0BEC5",
                                "#B0BEC5",
                                "#B0BEC5",
                                "#B0BEC5",
                                "#B0BEC5",
                                "#B0BEC5",
                                "#B0BEC5"
                              ]
                            ]
                          }
                        ],
                        "label": "Topic 7",
                        "method": "update"
                      },
                      {
                        "args": [
                          {
                            "marker.color": [
                              [
                                "#B0BEC5",
                                "#B0BEC5",
                                "#B0BEC5",
                                "#B0BEC5",
                                "#B0BEC5",
                                "#B0BEC5",
                                "#B0BEC5",
                                "#B0BEC5",
                                "red",
                                "#B0BEC5",
                                "#B0BEC5",
                                "#B0BEC5",
                                "#B0BEC5",
                                "#B0BEC5",
                                "#B0BEC5",
                                "#B0BEC5",
                                "#B0BEC5",
                                "#B0BEC5",
                                "#B0BEC5",
                                "#B0BEC5",
                                "#B0BEC5",
                                "#B0BEC5",
                                "#B0BEC5",
                                "#B0BEC5",
                                "#B0BEC5",
                                "#B0BEC5",
                                "#B0BEC5",
                                "#B0BEC5",
                                "#B0BEC5",
                                "#B0BEC5",
                                "#B0BEC5",
                                "#B0BEC5",
                                "#B0BEC5",
                                "#B0BEC5",
                                "#B0BEC5",
                                "#B0BEC5",
                                "#B0BEC5",
                                "#B0BEC5",
                                "#B0BEC5",
                                "#B0BEC5",
                                "#B0BEC5",
                                "#B0BEC5",
                                "#B0BEC5",
                                "#B0BEC5",
                                "#B0BEC5",
                                "#B0BEC5",
                                "#B0BEC5",
                                "#B0BEC5",
                                "#B0BEC5",
                                "#B0BEC5",
                                "#B0BEC5",
                                "#B0BEC5",
                                "#B0BEC5",
                                "#B0BEC5",
                                "#B0BEC5",
                                "#B0BEC5",
                                "#B0BEC5",
                                "#B0BEC5",
                                "#B0BEC5",
                                "#B0BEC5",
                                "#B0BEC5",
                                "#B0BEC5",
                                "#B0BEC5",
                                "#B0BEC5",
                                "#B0BEC5",
                                "#B0BEC5",
                                "#B0BEC5",
                                "#B0BEC5",
                                "#B0BEC5",
                                "#B0BEC5",
                                "#B0BEC5",
                                "#B0BEC5",
                                "#B0BEC5",
                                "#B0BEC5",
                                "#B0BEC5",
                                "#B0BEC5",
                                "#B0BEC5",
                                "#B0BEC5",
                                "#B0BEC5",
                                "#B0BEC5"
                              ]
                            ]
                          }
                        ],
                        "label": "Topic 8",
                        "method": "update"
                      },
                      {
                        "args": [
                          {
                            "marker.color": [
                              [
                                "#B0BEC5",
                                "#B0BEC5",
                                "#B0BEC5",
                                "#B0BEC5",
                                "#B0BEC5",
                                "#B0BEC5",
                                "#B0BEC5",
                                "#B0BEC5",
                                "#B0BEC5",
                                "red",
                                "#B0BEC5",
                                "#B0BEC5",
                                "#B0BEC5",
                                "#B0BEC5",
                                "#B0BEC5",
                                "#B0BEC5",
                                "#B0BEC5",
                                "#B0BEC5",
                                "#B0BEC5",
                                "#B0BEC5",
                                "#B0BEC5",
                                "#B0BEC5",
                                "#B0BEC5",
                                "#B0BEC5",
                                "#B0BEC5",
                                "#B0BEC5",
                                "#B0BEC5",
                                "#B0BEC5",
                                "#B0BEC5",
                                "#B0BEC5",
                                "#B0BEC5",
                                "#B0BEC5",
                                "#B0BEC5",
                                "#B0BEC5",
                                "#B0BEC5",
                                "#B0BEC5",
                                "#B0BEC5",
                                "#B0BEC5",
                                "#B0BEC5",
                                "#B0BEC5",
                                "#B0BEC5",
                                "#B0BEC5",
                                "#B0BEC5",
                                "#B0BEC5",
                                "#B0BEC5",
                                "#B0BEC5",
                                "#B0BEC5",
                                "#B0BEC5",
                                "#B0BEC5",
                                "#B0BEC5",
                                "#B0BEC5",
                                "#B0BEC5",
                                "#B0BEC5",
                                "#B0BEC5",
                                "#B0BEC5",
                                "#B0BEC5",
                                "#B0BEC5",
                                "#B0BEC5",
                                "#B0BEC5",
                                "#B0BEC5",
                                "#B0BEC5",
                                "#B0BEC5",
                                "#B0BEC5",
                                "#B0BEC5",
                                "#B0BEC5",
                                "#B0BEC5",
                                "#B0BEC5",
                                "#B0BEC5",
                                "#B0BEC5",
                                "#B0BEC5",
                                "#B0BEC5",
                                "#B0BEC5",
                                "#B0BEC5",
                                "#B0BEC5",
                                "#B0BEC5",
                                "#B0BEC5",
                                "#B0BEC5",
                                "#B0BEC5",
                                "#B0BEC5",
                                "#B0BEC5"
                              ]
                            ]
                          }
                        ],
                        "label": "Topic 9",
                        "method": "update"
                      },
                      {
                        "args": [
                          {
                            "marker.color": [
                              [
                                "#B0BEC5",
                                "#B0BEC5",
                                "#B0BEC5",
                                "#B0BEC5",
                                "#B0BEC5",
                                "#B0BEC5",
                                "#B0BEC5",
                                "#B0BEC5",
                                "#B0BEC5",
                                "#B0BEC5",
                                "red",
                                "#B0BEC5",
                                "#B0BEC5",
                                "#B0BEC5",
                                "#B0BEC5",
                                "#B0BEC5",
                                "#B0BEC5",
                                "#B0BEC5",
                                "#B0BEC5",
                                "#B0BEC5",
                                "#B0BEC5",
                                "#B0BEC5",
                                "#B0BEC5",
                                "#B0BEC5",
                                "#B0BEC5",
                                "#B0BEC5",
                                "#B0BEC5",
                                "#B0BEC5",
                                "#B0BEC5",
                                "#B0BEC5",
                                "#B0BEC5",
                                "#B0BEC5",
                                "#B0BEC5",
                                "#B0BEC5",
                                "#B0BEC5",
                                "#B0BEC5",
                                "#B0BEC5",
                                "#B0BEC5",
                                "#B0BEC5",
                                "#B0BEC5",
                                "#B0BEC5",
                                "#B0BEC5",
                                "#B0BEC5",
                                "#B0BEC5",
                                "#B0BEC5",
                                "#B0BEC5",
                                "#B0BEC5",
                                "#B0BEC5",
                                "#B0BEC5",
                                "#B0BEC5",
                                "#B0BEC5",
                                "#B0BEC5",
                                "#B0BEC5",
                                "#B0BEC5",
                                "#B0BEC5",
                                "#B0BEC5",
                                "#B0BEC5",
                                "#B0BEC5",
                                "#B0BEC5",
                                "#B0BEC5",
                                "#B0BEC5",
                                "#B0BEC5",
                                "#B0BEC5",
                                "#B0BEC5",
                                "#B0BEC5",
                                "#B0BEC5",
                                "#B0BEC5",
                                "#B0BEC5",
                                "#B0BEC5",
                                "#B0BEC5",
                                "#B0BEC5",
                                "#B0BEC5",
                                "#B0BEC5",
                                "#B0BEC5",
                                "#B0BEC5",
                                "#B0BEC5",
                                "#B0BEC5",
                                "#B0BEC5",
                                "#B0BEC5",
                                "#B0BEC5"
                              ]
                            ]
                          }
                        ],
                        "label": "Topic 10",
                        "method": "update"
                      },
                      {
                        "args": [
                          {
                            "marker.color": [
                              [
                                "#B0BEC5",
                                "#B0BEC5",
                                "#B0BEC5",
                                "#B0BEC5",
                                "#B0BEC5",
                                "#B0BEC5",
                                "#B0BEC5",
                                "#B0BEC5",
                                "#B0BEC5",
                                "#B0BEC5",
                                "#B0BEC5",
                                "red",
                                "#B0BEC5",
                                "#B0BEC5",
                                "#B0BEC5",
                                "#B0BEC5",
                                "#B0BEC5",
                                "#B0BEC5",
                                "#B0BEC5",
                                "#B0BEC5",
                                "#B0BEC5",
                                "#B0BEC5",
                                "#B0BEC5",
                                "#B0BEC5",
                                "#B0BEC5",
                                "#B0BEC5",
                                "#B0BEC5",
                                "#B0BEC5",
                                "#B0BEC5",
                                "#B0BEC5",
                                "#B0BEC5",
                                "#B0BEC5",
                                "#B0BEC5",
                                "#B0BEC5",
                                "#B0BEC5",
                                "#B0BEC5",
                                "#B0BEC5",
                                "#B0BEC5",
                                "#B0BEC5",
                                "#B0BEC5",
                                "#B0BEC5",
                                "#B0BEC5",
                                "#B0BEC5",
                                "#B0BEC5",
                                "#B0BEC5",
                                "#B0BEC5",
                                "#B0BEC5",
                                "#B0BEC5",
                                "#B0BEC5",
                                "#B0BEC5",
                                "#B0BEC5",
                                "#B0BEC5",
                                "#B0BEC5",
                                "#B0BEC5",
                                "#B0BEC5",
                                "#B0BEC5",
                                "#B0BEC5",
                                "#B0BEC5",
                                "#B0BEC5",
                                "#B0BEC5",
                                "#B0BEC5",
                                "#B0BEC5",
                                "#B0BEC5",
                                "#B0BEC5",
                                "#B0BEC5",
                                "#B0BEC5",
                                "#B0BEC5",
                                "#B0BEC5",
                                "#B0BEC5",
                                "#B0BEC5",
                                "#B0BEC5",
                                "#B0BEC5",
                                "#B0BEC5",
                                "#B0BEC5",
                                "#B0BEC5",
                                "#B0BEC5",
                                "#B0BEC5",
                                "#B0BEC5",
                                "#B0BEC5",
                                "#B0BEC5"
                              ]
                            ]
                          }
                        ],
                        "label": "Topic 11",
                        "method": "update"
                      },
                      {
                        "args": [
                          {
                            "marker.color": [
                              [
                                "#B0BEC5",
                                "#B0BEC5",
                                "#B0BEC5",
                                "#B0BEC5",
                                "#B0BEC5",
                                "#B0BEC5",
                                "#B0BEC5",
                                "#B0BEC5",
                                "#B0BEC5",
                                "#B0BEC5",
                                "#B0BEC5",
                                "#B0BEC5",
                                "red",
                                "#B0BEC5",
                                "#B0BEC5",
                                "#B0BEC5",
                                "#B0BEC5",
                                "#B0BEC5",
                                "#B0BEC5",
                                "#B0BEC5",
                                "#B0BEC5",
                                "#B0BEC5",
                                "#B0BEC5",
                                "#B0BEC5",
                                "#B0BEC5",
                                "#B0BEC5",
                                "#B0BEC5",
                                "#B0BEC5",
                                "#B0BEC5",
                                "#B0BEC5",
                                "#B0BEC5",
                                "#B0BEC5",
                                "#B0BEC5",
                                "#B0BEC5",
                                "#B0BEC5",
                                "#B0BEC5",
                                "#B0BEC5",
                                "#B0BEC5",
                                "#B0BEC5",
                                "#B0BEC5",
                                "#B0BEC5",
                                "#B0BEC5",
                                "#B0BEC5",
                                "#B0BEC5",
                                "#B0BEC5",
                                "#B0BEC5",
                                "#B0BEC5",
                                "#B0BEC5",
                                "#B0BEC5",
                                "#B0BEC5",
                                "#B0BEC5",
                                "#B0BEC5",
                                "#B0BEC5",
                                "#B0BEC5",
                                "#B0BEC5",
                                "#B0BEC5",
                                "#B0BEC5",
                                "#B0BEC5",
                                "#B0BEC5",
                                "#B0BEC5",
                                "#B0BEC5",
                                "#B0BEC5",
                                "#B0BEC5",
                                "#B0BEC5",
                                "#B0BEC5",
                                "#B0BEC5",
                                "#B0BEC5",
                                "#B0BEC5",
                                "#B0BEC5",
                                "#B0BEC5",
                                "#B0BEC5",
                                "#B0BEC5",
                                "#B0BEC5",
                                "#B0BEC5",
                                "#B0BEC5",
                                "#B0BEC5",
                                "#B0BEC5",
                                "#B0BEC5",
                                "#B0BEC5",
                                "#B0BEC5"
                              ]
                            ]
                          }
                        ],
                        "label": "Topic 12",
                        "method": "update"
                      },
                      {
                        "args": [
                          {
                            "marker.color": [
                              [
                                "#B0BEC5",
                                "#B0BEC5",
                                "#B0BEC5",
                                "#B0BEC5",
                                "#B0BEC5",
                                "#B0BEC5",
                                "#B0BEC5",
                                "#B0BEC5",
                                "#B0BEC5",
                                "#B0BEC5",
                                "#B0BEC5",
                                "#B0BEC5",
                                "#B0BEC5",
                                "red",
                                "#B0BEC5",
                                "#B0BEC5",
                                "#B0BEC5",
                                "#B0BEC5",
                                "#B0BEC5",
                                "#B0BEC5",
                                "#B0BEC5",
                                "#B0BEC5",
                                "#B0BEC5",
                                "#B0BEC5",
                                "#B0BEC5",
                                "#B0BEC5",
                                "#B0BEC5",
                                "#B0BEC5",
                                "#B0BEC5",
                                "#B0BEC5",
                                "#B0BEC5",
                                "#B0BEC5",
                                "#B0BEC5",
                                "#B0BEC5",
                                "#B0BEC5",
                                "#B0BEC5",
                                "#B0BEC5",
                                "#B0BEC5",
                                "#B0BEC5",
                                "#B0BEC5",
                                "#B0BEC5",
                                "#B0BEC5",
                                "#B0BEC5",
                                "#B0BEC5",
                                "#B0BEC5",
                                "#B0BEC5",
                                "#B0BEC5",
                                "#B0BEC5",
                                "#B0BEC5",
                                "#B0BEC5",
                                "#B0BEC5",
                                "#B0BEC5",
                                "#B0BEC5",
                                "#B0BEC5",
                                "#B0BEC5",
                                "#B0BEC5",
                                "#B0BEC5",
                                "#B0BEC5",
                                "#B0BEC5",
                                "#B0BEC5",
                                "#B0BEC5",
                                "#B0BEC5",
                                "#B0BEC5",
                                "#B0BEC5",
                                "#B0BEC5",
                                "#B0BEC5",
                                "#B0BEC5",
                                "#B0BEC5",
                                "#B0BEC5",
                                "#B0BEC5",
                                "#B0BEC5",
                                "#B0BEC5",
                                "#B0BEC5",
                                "#B0BEC5",
                                "#B0BEC5",
                                "#B0BEC5",
                                "#B0BEC5",
                                "#B0BEC5",
                                "#B0BEC5",
                                "#B0BEC5"
                              ]
                            ]
                          }
                        ],
                        "label": "Topic 13",
                        "method": "update"
                      },
                      {
                        "args": [
                          {
                            "marker.color": [
                              [
                                "#B0BEC5",
                                "#B0BEC5",
                                "#B0BEC5",
                                "#B0BEC5",
                                "#B0BEC5",
                                "#B0BEC5",
                                "#B0BEC5",
                                "#B0BEC5",
                                "#B0BEC5",
                                "#B0BEC5",
                                "#B0BEC5",
                                "#B0BEC5",
                                "#B0BEC5",
                                "#B0BEC5",
                                "red",
                                "#B0BEC5",
                                "#B0BEC5",
                                "#B0BEC5",
                                "#B0BEC5",
                                "#B0BEC5",
                                "#B0BEC5",
                                "#B0BEC5",
                                "#B0BEC5",
                                "#B0BEC5",
                                "#B0BEC5",
                                "#B0BEC5",
                                "#B0BEC5",
                                "#B0BEC5",
                                "#B0BEC5",
                                "#B0BEC5",
                                "#B0BEC5",
                                "#B0BEC5",
                                "#B0BEC5",
                                "#B0BEC5",
                                "#B0BEC5",
                                "#B0BEC5",
                                "#B0BEC5",
                                "#B0BEC5",
                                "#B0BEC5",
                                "#B0BEC5",
                                "#B0BEC5",
                                "#B0BEC5",
                                "#B0BEC5",
                                "#B0BEC5",
                                "#B0BEC5",
                                "#B0BEC5",
                                "#B0BEC5",
                                "#B0BEC5",
                                "#B0BEC5",
                                "#B0BEC5",
                                "#B0BEC5",
                                "#B0BEC5",
                                "#B0BEC5",
                                "#B0BEC5",
                                "#B0BEC5",
                                "#B0BEC5",
                                "#B0BEC5",
                                "#B0BEC5",
                                "#B0BEC5",
                                "#B0BEC5",
                                "#B0BEC5",
                                "#B0BEC5",
                                "#B0BEC5",
                                "#B0BEC5",
                                "#B0BEC5",
                                "#B0BEC5",
                                "#B0BEC5",
                                "#B0BEC5",
                                "#B0BEC5",
                                "#B0BEC5",
                                "#B0BEC5",
                                "#B0BEC5",
                                "#B0BEC5",
                                "#B0BEC5",
                                "#B0BEC5",
                                "#B0BEC5",
                                "#B0BEC5",
                                "#B0BEC5",
                                "#B0BEC5",
                                "#B0BEC5"
                              ]
                            ]
                          }
                        ],
                        "label": "Topic 14",
                        "method": "update"
                      },
                      {
                        "args": [
                          {
                            "marker.color": [
                              [
                                "#B0BEC5",
                                "#B0BEC5",
                                "#B0BEC5",
                                "#B0BEC5",
                                "#B0BEC5",
                                "#B0BEC5",
                                "#B0BEC5",
                                "#B0BEC5",
                                "#B0BEC5",
                                "#B0BEC5",
                                "#B0BEC5",
                                "#B0BEC5",
                                "#B0BEC5",
                                "#B0BEC5",
                                "#B0BEC5",
                                "red",
                                "#B0BEC5",
                                "#B0BEC5",
                                "#B0BEC5",
                                "#B0BEC5",
                                "#B0BEC5",
                                "#B0BEC5",
                                "#B0BEC5",
                                "#B0BEC5",
                                "#B0BEC5",
                                "#B0BEC5",
                                "#B0BEC5",
                                "#B0BEC5",
                                "#B0BEC5",
                                "#B0BEC5",
                                "#B0BEC5",
                                "#B0BEC5",
                                "#B0BEC5",
                                "#B0BEC5",
                                "#B0BEC5",
                                "#B0BEC5",
                                "#B0BEC5",
                                "#B0BEC5",
                                "#B0BEC5",
                                "#B0BEC5",
                                "#B0BEC5",
                                "#B0BEC5",
                                "#B0BEC5",
                                "#B0BEC5",
                                "#B0BEC5",
                                "#B0BEC5",
                                "#B0BEC5",
                                "#B0BEC5",
                                "#B0BEC5",
                                "#B0BEC5",
                                "#B0BEC5",
                                "#B0BEC5",
                                "#B0BEC5",
                                "#B0BEC5",
                                "#B0BEC5",
                                "#B0BEC5",
                                "#B0BEC5",
                                "#B0BEC5",
                                "#B0BEC5",
                                "#B0BEC5",
                                "#B0BEC5",
                                "#B0BEC5",
                                "#B0BEC5",
                                "#B0BEC5",
                                "#B0BEC5",
                                "#B0BEC5",
                                "#B0BEC5",
                                "#B0BEC5",
                                "#B0BEC5",
                                "#B0BEC5",
                                "#B0BEC5",
                                "#B0BEC5",
                                "#B0BEC5",
                                "#B0BEC5",
                                "#B0BEC5",
                                "#B0BEC5",
                                "#B0BEC5",
                                "#B0BEC5",
                                "#B0BEC5",
                                "#B0BEC5"
                              ]
                            ]
                          }
                        ],
                        "label": "Topic 15",
                        "method": "update"
                      },
                      {
                        "args": [
                          {
                            "marker.color": [
                              [
                                "#B0BEC5",
                                "#B0BEC5",
                                "#B0BEC5",
                                "#B0BEC5",
                                "#B0BEC5",
                                "#B0BEC5",
                                "#B0BEC5",
                                "#B0BEC5",
                                "#B0BEC5",
                                "#B0BEC5",
                                "#B0BEC5",
                                "#B0BEC5",
                                "#B0BEC5",
                                "#B0BEC5",
                                "#B0BEC5",
                                "#B0BEC5",
                                "red",
                                "#B0BEC5",
                                "#B0BEC5",
                                "#B0BEC5",
                                "#B0BEC5",
                                "#B0BEC5",
                                "#B0BEC5",
                                "#B0BEC5",
                                "#B0BEC5",
                                "#B0BEC5",
                                "#B0BEC5",
                                "#B0BEC5",
                                "#B0BEC5",
                                "#B0BEC5",
                                "#B0BEC5",
                                "#B0BEC5",
                                "#B0BEC5",
                                "#B0BEC5",
                                "#B0BEC5",
                                "#B0BEC5",
                                "#B0BEC5",
                                "#B0BEC5",
                                "#B0BEC5",
                                "#B0BEC5",
                                "#B0BEC5",
                                "#B0BEC5",
                                "#B0BEC5",
                                "#B0BEC5",
                                "#B0BEC5",
                                "#B0BEC5",
                                "#B0BEC5",
                                "#B0BEC5",
                                "#B0BEC5",
                                "#B0BEC5",
                                "#B0BEC5",
                                "#B0BEC5",
                                "#B0BEC5",
                                "#B0BEC5",
                                "#B0BEC5",
                                "#B0BEC5",
                                "#B0BEC5",
                                "#B0BEC5",
                                "#B0BEC5",
                                "#B0BEC5",
                                "#B0BEC5",
                                "#B0BEC5",
                                "#B0BEC5",
                                "#B0BEC5",
                                "#B0BEC5",
                                "#B0BEC5",
                                "#B0BEC5",
                                "#B0BEC5",
                                "#B0BEC5",
                                "#B0BEC5",
                                "#B0BEC5",
                                "#B0BEC5",
                                "#B0BEC5",
                                "#B0BEC5",
                                "#B0BEC5",
                                "#B0BEC5",
                                "#B0BEC5",
                                "#B0BEC5",
                                "#B0BEC5",
                                "#B0BEC5"
                              ]
                            ]
                          }
                        ],
                        "label": "Topic 16",
                        "method": "update"
                      },
                      {
                        "args": [
                          {
                            "marker.color": [
                              [
                                "#B0BEC5",
                                "#B0BEC5",
                                "#B0BEC5",
                                "#B0BEC5",
                                "#B0BEC5",
                                "#B0BEC5",
                                "#B0BEC5",
                                "#B0BEC5",
                                "#B0BEC5",
                                "#B0BEC5",
                                "#B0BEC5",
                                "#B0BEC5",
                                "#B0BEC5",
                                "#B0BEC5",
                                "#B0BEC5",
                                "#B0BEC5",
                                "#B0BEC5",
                                "red",
                                "#B0BEC5",
                                "#B0BEC5",
                                "#B0BEC5",
                                "#B0BEC5",
                                "#B0BEC5",
                                "#B0BEC5",
                                "#B0BEC5",
                                "#B0BEC5",
                                "#B0BEC5",
                                "#B0BEC5",
                                "#B0BEC5",
                                "#B0BEC5",
                                "#B0BEC5",
                                "#B0BEC5",
                                "#B0BEC5",
                                "#B0BEC5",
                                "#B0BEC5",
                                "#B0BEC5",
                                "#B0BEC5",
                                "#B0BEC5",
                                "#B0BEC5",
                                "#B0BEC5",
                                "#B0BEC5",
                                "#B0BEC5",
                                "#B0BEC5",
                                "#B0BEC5",
                                "#B0BEC5",
                                "#B0BEC5",
                                "#B0BEC5",
                                "#B0BEC5",
                                "#B0BEC5",
                                "#B0BEC5",
                                "#B0BEC5",
                                "#B0BEC5",
                                "#B0BEC5",
                                "#B0BEC5",
                                "#B0BEC5",
                                "#B0BEC5",
                                "#B0BEC5",
                                "#B0BEC5",
                                "#B0BEC5",
                                "#B0BEC5",
                                "#B0BEC5",
                                "#B0BEC5",
                                "#B0BEC5",
                                "#B0BEC5",
                                "#B0BEC5",
                                "#B0BEC5",
                                "#B0BEC5",
                                "#B0BEC5",
                                "#B0BEC5",
                                "#B0BEC5",
                                "#B0BEC5",
                                "#B0BEC5",
                                "#B0BEC5",
                                "#B0BEC5",
                                "#B0BEC5",
                                "#B0BEC5",
                                "#B0BEC5",
                                "#B0BEC5",
                                "#B0BEC5",
                                "#B0BEC5"
                              ]
                            ]
                          }
                        ],
                        "label": "Topic 17",
                        "method": "update"
                      },
                      {
                        "args": [
                          {
                            "marker.color": [
                              [
                                "#B0BEC5",
                                "#B0BEC5",
                                "#B0BEC5",
                                "#B0BEC5",
                                "#B0BEC5",
                                "#B0BEC5",
                                "#B0BEC5",
                                "#B0BEC5",
                                "#B0BEC5",
                                "#B0BEC5",
                                "#B0BEC5",
                                "#B0BEC5",
                                "#B0BEC5",
                                "#B0BEC5",
                                "#B0BEC5",
                                "#B0BEC5",
                                "#B0BEC5",
                                "#B0BEC5",
                                "red",
                                "#B0BEC5",
                                "#B0BEC5",
                                "#B0BEC5",
                                "#B0BEC5",
                                "#B0BEC5",
                                "#B0BEC5",
                                "#B0BEC5",
                                "#B0BEC5",
                                "#B0BEC5",
                                "#B0BEC5",
                                "#B0BEC5",
                                "#B0BEC5",
                                "#B0BEC5",
                                "#B0BEC5",
                                "#B0BEC5",
                                "#B0BEC5",
                                "#B0BEC5",
                                "#B0BEC5",
                                "#B0BEC5",
                                "#B0BEC5",
                                "#B0BEC5",
                                "#B0BEC5",
                                "#B0BEC5",
                                "#B0BEC5",
                                "#B0BEC5",
                                "#B0BEC5",
                                "#B0BEC5",
                                "#B0BEC5",
                                "#B0BEC5",
                                "#B0BEC5",
                                "#B0BEC5",
                                "#B0BEC5",
                                "#B0BEC5",
                                "#B0BEC5",
                                "#B0BEC5",
                                "#B0BEC5",
                                "#B0BEC5",
                                "#B0BEC5",
                                "#B0BEC5",
                                "#B0BEC5",
                                "#B0BEC5",
                                "#B0BEC5",
                                "#B0BEC5",
                                "#B0BEC5",
                                "#B0BEC5",
                                "#B0BEC5",
                                "#B0BEC5",
                                "#B0BEC5",
                                "#B0BEC5",
                                "#B0BEC5",
                                "#B0BEC5",
                                "#B0BEC5",
                                "#B0BEC5",
                                "#B0BEC5",
                                "#B0BEC5",
                                "#B0BEC5",
                                "#B0BEC5",
                                "#B0BEC5",
                                "#B0BEC5",
                                "#B0BEC5",
                                "#B0BEC5"
                              ]
                            ]
                          }
                        ],
                        "label": "Topic 18",
                        "method": "update"
                      },
                      {
                        "args": [
                          {
                            "marker.color": [
                              [
                                "#B0BEC5",
                                "#B0BEC5",
                                "#B0BEC5",
                                "#B0BEC5",
                                "#B0BEC5",
                                "#B0BEC5",
                                "#B0BEC5",
                                "#B0BEC5",
                                "#B0BEC5",
                                "#B0BEC5",
                                "#B0BEC5",
                                "#B0BEC5",
                                "#B0BEC5",
                                "#B0BEC5",
                                "#B0BEC5",
                                "#B0BEC5",
                                "#B0BEC5",
                                "#B0BEC5",
                                "#B0BEC5",
                                "red",
                                "#B0BEC5",
                                "#B0BEC5",
                                "#B0BEC5",
                                "#B0BEC5",
                                "#B0BEC5",
                                "#B0BEC5",
                                "#B0BEC5",
                                "#B0BEC5",
                                "#B0BEC5",
                                "#B0BEC5",
                                "#B0BEC5",
                                "#B0BEC5",
                                "#B0BEC5",
                                "#B0BEC5",
                                "#B0BEC5",
                                "#B0BEC5",
                                "#B0BEC5",
                                "#B0BEC5",
                                "#B0BEC5",
                                "#B0BEC5",
                                "#B0BEC5",
                                "#B0BEC5",
                                "#B0BEC5",
                                "#B0BEC5",
                                "#B0BEC5",
                                "#B0BEC5",
                                "#B0BEC5",
                                "#B0BEC5",
                                "#B0BEC5",
                                "#B0BEC5",
                                "#B0BEC5",
                                "#B0BEC5",
                                "#B0BEC5",
                                "#B0BEC5",
                                "#B0BEC5",
                                "#B0BEC5",
                                "#B0BEC5",
                                "#B0BEC5",
                                "#B0BEC5",
                                "#B0BEC5",
                                "#B0BEC5",
                                "#B0BEC5",
                                "#B0BEC5",
                                "#B0BEC5",
                                "#B0BEC5",
                                "#B0BEC5",
                                "#B0BEC5",
                                "#B0BEC5",
                                "#B0BEC5",
                                "#B0BEC5",
                                "#B0BEC5",
                                "#B0BEC5",
                                "#B0BEC5",
                                "#B0BEC5",
                                "#B0BEC5",
                                "#B0BEC5",
                                "#B0BEC5",
                                "#B0BEC5",
                                "#B0BEC5",
                                "#B0BEC5"
                              ]
                            ]
                          }
                        ],
                        "label": "Topic 19",
                        "method": "update"
                      },
                      {
                        "args": [
                          {
                            "marker.color": [
                              [
                                "#B0BEC5",
                                "#B0BEC5",
                                "#B0BEC5",
                                "#B0BEC5",
                                "#B0BEC5",
                                "#B0BEC5",
                                "#B0BEC5",
                                "#B0BEC5",
                                "#B0BEC5",
                                "#B0BEC5",
                                "#B0BEC5",
                                "#B0BEC5",
                                "#B0BEC5",
                                "#B0BEC5",
                                "#B0BEC5",
                                "#B0BEC5",
                                "#B0BEC5",
                                "#B0BEC5",
                                "#B0BEC5",
                                "#B0BEC5",
                                "red",
                                "#B0BEC5",
                                "#B0BEC5",
                                "#B0BEC5",
                                "#B0BEC5",
                                "#B0BEC5",
                                "#B0BEC5",
                                "#B0BEC5",
                                "#B0BEC5",
                                "#B0BEC5",
                                "#B0BEC5",
                                "#B0BEC5",
                                "#B0BEC5",
                                "#B0BEC5",
                                "#B0BEC5",
                                "#B0BEC5",
                                "#B0BEC5",
                                "#B0BEC5",
                                "#B0BEC5",
                                "#B0BEC5",
                                "#B0BEC5",
                                "#B0BEC5",
                                "#B0BEC5",
                                "#B0BEC5",
                                "#B0BEC5",
                                "#B0BEC5",
                                "#B0BEC5",
                                "#B0BEC5",
                                "#B0BEC5",
                                "#B0BEC5",
                                "#B0BEC5",
                                "#B0BEC5",
                                "#B0BEC5",
                                "#B0BEC5",
                                "#B0BEC5",
                                "#B0BEC5",
                                "#B0BEC5",
                                "#B0BEC5",
                                "#B0BEC5",
                                "#B0BEC5",
                                "#B0BEC5",
                                "#B0BEC5",
                                "#B0BEC5",
                                "#B0BEC5",
                                "#B0BEC5",
                                "#B0BEC5",
                                "#B0BEC5",
                                "#B0BEC5",
                                "#B0BEC5",
                                "#B0BEC5",
                                "#B0BEC5",
                                "#B0BEC5",
                                "#B0BEC5",
                                "#B0BEC5",
                                "#B0BEC5",
                                "#B0BEC5",
                                "#B0BEC5",
                                "#B0BEC5",
                                "#B0BEC5",
                                "#B0BEC5"
                              ]
                            ]
                          }
                        ],
                        "label": "Topic 20",
                        "method": "update"
                      },
                      {
                        "args": [
                          {
                            "marker.color": [
                              [
                                "#B0BEC5",
                                "#B0BEC5",
                                "#B0BEC5",
                                "#B0BEC5",
                                "#B0BEC5",
                                "#B0BEC5",
                                "#B0BEC5",
                                "#B0BEC5",
                                "#B0BEC5",
                                "#B0BEC5",
                                "#B0BEC5",
                                "#B0BEC5",
                                "#B0BEC5",
                                "#B0BEC5",
                                "#B0BEC5",
                                "#B0BEC5",
                                "#B0BEC5",
                                "#B0BEC5",
                                "#B0BEC5",
                                "#B0BEC5",
                                "#B0BEC5",
                                "red",
                                "#B0BEC5",
                                "#B0BEC5",
                                "#B0BEC5",
                                "#B0BEC5",
                                "#B0BEC5",
                                "#B0BEC5",
                                "#B0BEC5",
                                "#B0BEC5",
                                "#B0BEC5",
                                "#B0BEC5",
                                "#B0BEC5",
                                "#B0BEC5",
                                "#B0BEC5",
                                "#B0BEC5",
                                "#B0BEC5",
                                "#B0BEC5",
                                "#B0BEC5",
                                "#B0BEC5",
                                "#B0BEC5",
                                "#B0BEC5",
                                "#B0BEC5",
                                "#B0BEC5",
                                "#B0BEC5",
                                "#B0BEC5",
                                "#B0BEC5",
                                "#B0BEC5",
                                "#B0BEC5",
                                "#B0BEC5",
                                "#B0BEC5",
                                "#B0BEC5",
                                "#B0BEC5",
                                "#B0BEC5",
                                "#B0BEC5",
                                "#B0BEC5",
                                "#B0BEC5",
                                "#B0BEC5",
                                "#B0BEC5",
                                "#B0BEC5",
                                "#B0BEC5",
                                "#B0BEC5",
                                "#B0BEC5",
                                "#B0BEC5",
                                "#B0BEC5",
                                "#B0BEC5",
                                "#B0BEC5",
                                "#B0BEC5",
                                "#B0BEC5",
                                "#B0BEC5",
                                "#B0BEC5",
                                "#B0BEC5",
                                "#B0BEC5",
                                "#B0BEC5",
                                "#B0BEC5",
                                "#B0BEC5",
                                "#B0BEC5",
                                "#B0BEC5",
                                "#B0BEC5",
                                "#B0BEC5"
                              ]
                            ]
                          }
                        ],
                        "label": "Topic 21",
                        "method": "update"
                      },
                      {
                        "args": [
                          {
                            "marker.color": [
                              [
                                "#B0BEC5",
                                "#B0BEC5",
                                "#B0BEC5",
                                "#B0BEC5",
                                "#B0BEC5",
                                "#B0BEC5",
                                "#B0BEC5",
                                "#B0BEC5",
                                "#B0BEC5",
                                "#B0BEC5",
                                "#B0BEC5",
                                "#B0BEC5",
                                "#B0BEC5",
                                "#B0BEC5",
                                "#B0BEC5",
                                "#B0BEC5",
                                "#B0BEC5",
                                "#B0BEC5",
                                "#B0BEC5",
                                "#B0BEC5",
                                "#B0BEC5",
                                "#B0BEC5",
                                "red",
                                "#B0BEC5",
                                "#B0BEC5",
                                "#B0BEC5",
                                "#B0BEC5",
                                "#B0BEC5",
                                "#B0BEC5",
                                "#B0BEC5",
                                "#B0BEC5",
                                "#B0BEC5",
                                "#B0BEC5",
                                "#B0BEC5",
                                "#B0BEC5",
                                "#B0BEC5",
                                "#B0BEC5",
                                "#B0BEC5",
                                "#B0BEC5",
                                "#B0BEC5",
                                "#B0BEC5",
                                "#B0BEC5",
                                "#B0BEC5",
                                "#B0BEC5",
                                "#B0BEC5",
                                "#B0BEC5",
                                "#B0BEC5",
                                "#B0BEC5",
                                "#B0BEC5",
                                "#B0BEC5",
                                "#B0BEC5",
                                "#B0BEC5",
                                "#B0BEC5",
                                "#B0BEC5",
                                "#B0BEC5",
                                "#B0BEC5",
                                "#B0BEC5",
                                "#B0BEC5",
                                "#B0BEC5",
                                "#B0BEC5",
                                "#B0BEC5",
                                "#B0BEC5",
                                "#B0BEC5",
                                "#B0BEC5",
                                "#B0BEC5",
                                "#B0BEC5",
                                "#B0BEC5",
                                "#B0BEC5",
                                "#B0BEC5",
                                "#B0BEC5",
                                "#B0BEC5",
                                "#B0BEC5",
                                "#B0BEC5",
                                "#B0BEC5",
                                "#B0BEC5",
                                "#B0BEC5",
                                "#B0BEC5",
                                "#B0BEC5",
                                "#B0BEC5",
                                "#B0BEC5"
                              ]
                            ]
                          }
                        ],
                        "label": "Topic 22",
                        "method": "update"
                      },
                      {
                        "args": [
                          {
                            "marker.color": [
                              [
                                "#B0BEC5",
                                "#B0BEC5",
                                "#B0BEC5",
                                "#B0BEC5",
                                "#B0BEC5",
                                "#B0BEC5",
                                "#B0BEC5",
                                "#B0BEC5",
                                "#B0BEC5",
                                "#B0BEC5",
                                "#B0BEC5",
                                "#B0BEC5",
                                "#B0BEC5",
                                "#B0BEC5",
                                "#B0BEC5",
                                "#B0BEC5",
                                "#B0BEC5",
                                "#B0BEC5",
                                "#B0BEC5",
                                "#B0BEC5",
                                "#B0BEC5",
                                "#B0BEC5",
                                "#B0BEC5",
                                "red",
                                "#B0BEC5",
                                "#B0BEC5",
                                "#B0BEC5",
                                "#B0BEC5",
                                "#B0BEC5",
                                "#B0BEC5",
                                "#B0BEC5",
                                "#B0BEC5",
                                "#B0BEC5",
                                "#B0BEC5",
                                "#B0BEC5",
                                "#B0BEC5",
                                "#B0BEC5",
                                "#B0BEC5",
                                "#B0BEC5",
                                "#B0BEC5",
                                "#B0BEC5",
                                "#B0BEC5",
                                "#B0BEC5",
                                "#B0BEC5",
                                "#B0BEC5",
                                "#B0BEC5",
                                "#B0BEC5",
                                "#B0BEC5",
                                "#B0BEC5",
                                "#B0BEC5",
                                "#B0BEC5",
                                "#B0BEC5",
                                "#B0BEC5",
                                "#B0BEC5",
                                "#B0BEC5",
                                "#B0BEC5",
                                "#B0BEC5",
                                "#B0BEC5",
                                "#B0BEC5",
                                "#B0BEC5",
                                "#B0BEC5",
                                "#B0BEC5",
                                "#B0BEC5",
                                "#B0BEC5",
                                "#B0BEC5",
                                "#B0BEC5",
                                "#B0BEC5",
                                "#B0BEC5",
                                "#B0BEC5",
                                "#B0BEC5",
                                "#B0BEC5",
                                "#B0BEC5",
                                "#B0BEC5",
                                "#B0BEC5",
                                "#B0BEC5",
                                "#B0BEC5",
                                "#B0BEC5",
                                "#B0BEC5",
                                "#B0BEC5",
                                "#B0BEC5"
                              ]
                            ]
                          }
                        ],
                        "label": "Topic 23",
                        "method": "update"
                      },
                      {
                        "args": [
                          {
                            "marker.color": [
                              [
                                "#B0BEC5",
                                "#B0BEC5",
                                "#B0BEC5",
                                "#B0BEC5",
                                "#B0BEC5",
                                "#B0BEC5",
                                "#B0BEC5",
                                "#B0BEC5",
                                "#B0BEC5",
                                "#B0BEC5",
                                "#B0BEC5",
                                "#B0BEC5",
                                "#B0BEC5",
                                "#B0BEC5",
                                "#B0BEC5",
                                "#B0BEC5",
                                "#B0BEC5",
                                "#B0BEC5",
                                "#B0BEC5",
                                "#B0BEC5",
                                "#B0BEC5",
                                "#B0BEC5",
                                "#B0BEC5",
                                "#B0BEC5",
                                "red",
                                "#B0BEC5",
                                "#B0BEC5",
                                "#B0BEC5",
                                "#B0BEC5",
                                "#B0BEC5",
                                "#B0BEC5",
                                "#B0BEC5",
                                "#B0BEC5",
                                "#B0BEC5",
                                "#B0BEC5",
                                "#B0BEC5",
                                "#B0BEC5",
                                "#B0BEC5",
                                "#B0BEC5",
                                "#B0BEC5",
                                "#B0BEC5",
                                "#B0BEC5",
                                "#B0BEC5",
                                "#B0BEC5",
                                "#B0BEC5",
                                "#B0BEC5",
                                "#B0BEC5",
                                "#B0BEC5",
                                "#B0BEC5",
                                "#B0BEC5",
                                "#B0BEC5",
                                "#B0BEC5",
                                "#B0BEC5",
                                "#B0BEC5",
                                "#B0BEC5",
                                "#B0BEC5",
                                "#B0BEC5",
                                "#B0BEC5",
                                "#B0BEC5",
                                "#B0BEC5",
                                "#B0BEC5",
                                "#B0BEC5",
                                "#B0BEC5",
                                "#B0BEC5",
                                "#B0BEC5",
                                "#B0BEC5",
                                "#B0BEC5",
                                "#B0BEC5",
                                "#B0BEC5",
                                "#B0BEC5",
                                "#B0BEC5",
                                "#B0BEC5",
                                "#B0BEC5",
                                "#B0BEC5",
                                "#B0BEC5",
                                "#B0BEC5",
                                "#B0BEC5",
                                "#B0BEC5",
                                "#B0BEC5",
                                "#B0BEC5"
                              ]
                            ]
                          }
                        ],
                        "label": "Topic 24",
                        "method": "update"
                      },
                      {
                        "args": [
                          {
                            "marker.color": [
                              [
                                "#B0BEC5",
                                "#B0BEC5",
                                "#B0BEC5",
                                "#B0BEC5",
                                "#B0BEC5",
                                "#B0BEC5",
                                "#B0BEC5",
                                "#B0BEC5",
                                "#B0BEC5",
                                "#B0BEC5",
                                "#B0BEC5",
                                "#B0BEC5",
                                "#B0BEC5",
                                "#B0BEC5",
                                "#B0BEC5",
                                "#B0BEC5",
                                "#B0BEC5",
                                "#B0BEC5",
                                "#B0BEC5",
                                "#B0BEC5",
                                "#B0BEC5",
                                "#B0BEC5",
                                "#B0BEC5",
                                "#B0BEC5",
                                "#B0BEC5",
                                "red",
                                "#B0BEC5",
                                "#B0BEC5",
                                "#B0BEC5",
                                "#B0BEC5",
                                "#B0BEC5",
                                "#B0BEC5",
                                "#B0BEC5",
                                "#B0BEC5",
                                "#B0BEC5",
                                "#B0BEC5",
                                "#B0BEC5",
                                "#B0BEC5",
                                "#B0BEC5",
                                "#B0BEC5",
                                "#B0BEC5",
                                "#B0BEC5",
                                "#B0BEC5",
                                "#B0BEC5",
                                "#B0BEC5",
                                "#B0BEC5",
                                "#B0BEC5",
                                "#B0BEC5",
                                "#B0BEC5",
                                "#B0BEC5",
                                "#B0BEC5",
                                "#B0BEC5",
                                "#B0BEC5",
                                "#B0BEC5",
                                "#B0BEC5",
                                "#B0BEC5",
                                "#B0BEC5",
                                "#B0BEC5",
                                "#B0BEC5",
                                "#B0BEC5",
                                "#B0BEC5",
                                "#B0BEC5",
                                "#B0BEC5",
                                "#B0BEC5",
                                "#B0BEC5",
                                "#B0BEC5",
                                "#B0BEC5",
                                "#B0BEC5",
                                "#B0BEC5",
                                "#B0BEC5",
                                "#B0BEC5",
                                "#B0BEC5",
                                "#B0BEC5",
                                "#B0BEC5",
                                "#B0BEC5",
                                "#B0BEC5",
                                "#B0BEC5",
                                "#B0BEC5",
                                "#B0BEC5",
                                "#B0BEC5"
                              ]
                            ]
                          }
                        ],
                        "label": "Topic 25",
                        "method": "update"
                      },
                      {
                        "args": [
                          {
                            "marker.color": [
                              [
                                "#B0BEC5",
                                "#B0BEC5",
                                "#B0BEC5",
                                "#B0BEC5",
                                "#B0BEC5",
                                "#B0BEC5",
                                "#B0BEC5",
                                "#B0BEC5",
                                "#B0BEC5",
                                "#B0BEC5",
                                "#B0BEC5",
                                "#B0BEC5",
                                "#B0BEC5",
                                "#B0BEC5",
                                "#B0BEC5",
                                "#B0BEC5",
                                "#B0BEC5",
                                "#B0BEC5",
                                "#B0BEC5",
                                "#B0BEC5",
                                "#B0BEC5",
                                "#B0BEC5",
                                "#B0BEC5",
                                "#B0BEC5",
                                "#B0BEC5",
                                "#B0BEC5",
                                "red",
                                "#B0BEC5",
                                "#B0BEC5",
                                "#B0BEC5",
                                "#B0BEC5",
                                "#B0BEC5",
                                "#B0BEC5",
                                "#B0BEC5",
                                "#B0BEC5",
                                "#B0BEC5",
                                "#B0BEC5",
                                "#B0BEC5",
                                "#B0BEC5",
                                "#B0BEC5",
                                "#B0BEC5",
                                "#B0BEC5",
                                "#B0BEC5",
                                "#B0BEC5",
                                "#B0BEC5",
                                "#B0BEC5",
                                "#B0BEC5",
                                "#B0BEC5",
                                "#B0BEC5",
                                "#B0BEC5",
                                "#B0BEC5",
                                "#B0BEC5",
                                "#B0BEC5",
                                "#B0BEC5",
                                "#B0BEC5",
                                "#B0BEC5",
                                "#B0BEC5",
                                "#B0BEC5",
                                "#B0BEC5",
                                "#B0BEC5",
                                "#B0BEC5",
                                "#B0BEC5",
                                "#B0BEC5",
                                "#B0BEC5",
                                "#B0BEC5",
                                "#B0BEC5",
                                "#B0BEC5",
                                "#B0BEC5",
                                "#B0BEC5",
                                "#B0BEC5",
                                "#B0BEC5",
                                "#B0BEC5",
                                "#B0BEC5",
                                "#B0BEC5",
                                "#B0BEC5",
                                "#B0BEC5",
                                "#B0BEC5",
                                "#B0BEC5",
                                "#B0BEC5",
                                "#B0BEC5"
                              ]
                            ]
                          }
                        ],
                        "label": "Topic 26",
                        "method": "update"
                      },
                      {
                        "args": [
                          {
                            "marker.color": [
                              [
                                "#B0BEC5",
                                "#B0BEC5",
                                "#B0BEC5",
                                "#B0BEC5",
                                "#B0BEC5",
                                "#B0BEC5",
                                "#B0BEC5",
                                "#B0BEC5",
                                "#B0BEC5",
                                "#B0BEC5",
                                "#B0BEC5",
                                "#B0BEC5",
                                "#B0BEC5",
                                "#B0BEC5",
                                "#B0BEC5",
                                "#B0BEC5",
                                "#B0BEC5",
                                "#B0BEC5",
                                "#B0BEC5",
                                "#B0BEC5",
                                "#B0BEC5",
                                "#B0BEC5",
                                "#B0BEC5",
                                "#B0BEC5",
                                "#B0BEC5",
                                "#B0BEC5",
                                "#B0BEC5",
                                "red",
                                "#B0BEC5",
                                "#B0BEC5",
                                "#B0BEC5",
                                "#B0BEC5",
                                "#B0BEC5",
                                "#B0BEC5",
                                "#B0BEC5",
                                "#B0BEC5",
                                "#B0BEC5",
                                "#B0BEC5",
                                "#B0BEC5",
                                "#B0BEC5",
                                "#B0BEC5",
                                "#B0BEC5",
                                "#B0BEC5",
                                "#B0BEC5",
                                "#B0BEC5",
                                "#B0BEC5",
                                "#B0BEC5",
                                "#B0BEC5",
                                "#B0BEC5",
                                "#B0BEC5",
                                "#B0BEC5",
                                "#B0BEC5",
                                "#B0BEC5",
                                "#B0BEC5",
                                "#B0BEC5",
                                "#B0BEC5",
                                "#B0BEC5",
                                "#B0BEC5",
                                "#B0BEC5",
                                "#B0BEC5",
                                "#B0BEC5",
                                "#B0BEC5",
                                "#B0BEC5",
                                "#B0BEC5",
                                "#B0BEC5",
                                "#B0BEC5",
                                "#B0BEC5",
                                "#B0BEC5",
                                "#B0BEC5",
                                "#B0BEC5",
                                "#B0BEC5",
                                "#B0BEC5",
                                "#B0BEC5",
                                "#B0BEC5",
                                "#B0BEC5",
                                "#B0BEC5",
                                "#B0BEC5",
                                "#B0BEC5",
                                "#B0BEC5",
                                "#B0BEC5"
                              ]
                            ]
                          }
                        ],
                        "label": "Topic 27",
                        "method": "update"
                      },
                      {
                        "args": [
                          {
                            "marker.color": [
                              [
                                "#B0BEC5",
                                "#B0BEC5",
                                "#B0BEC5",
                                "#B0BEC5",
                                "#B0BEC5",
                                "#B0BEC5",
                                "#B0BEC5",
                                "#B0BEC5",
                                "#B0BEC5",
                                "#B0BEC5",
                                "#B0BEC5",
                                "#B0BEC5",
                                "#B0BEC5",
                                "#B0BEC5",
                                "#B0BEC5",
                                "#B0BEC5",
                                "#B0BEC5",
                                "#B0BEC5",
                                "#B0BEC5",
                                "#B0BEC5",
                                "#B0BEC5",
                                "#B0BEC5",
                                "#B0BEC5",
                                "#B0BEC5",
                                "#B0BEC5",
                                "#B0BEC5",
                                "#B0BEC5",
                                "#B0BEC5",
                                "red",
                                "#B0BEC5",
                                "#B0BEC5",
                                "#B0BEC5",
                                "#B0BEC5",
                                "#B0BEC5",
                                "#B0BEC5",
                                "#B0BEC5",
                                "#B0BEC5",
                                "#B0BEC5",
                                "#B0BEC5",
                                "#B0BEC5",
                                "#B0BEC5",
                                "#B0BEC5",
                                "#B0BEC5",
                                "#B0BEC5",
                                "#B0BEC5",
                                "#B0BEC5",
                                "#B0BEC5",
                                "#B0BEC5",
                                "#B0BEC5",
                                "#B0BEC5",
                                "#B0BEC5",
                                "#B0BEC5",
                                "#B0BEC5",
                                "#B0BEC5",
                                "#B0BEC5",
                                "#B0BEC5",
                                "#B0BEC5",
                                "#B0BEC5",
                                "#B0BEC5",
                                "#B0BEC5",
                                "#B0BEC5",
                                "#B0BEC5",
                                "#B0BEC5",
                                "#B0BEC5",
                                "#B0BEC5",
                                "#B0BEC5",
                                "#B0BEC5",
                                "#B0BEC5",
                                "#B0BEC5",
                                "#B0BEC5",
                                "#B0BEC5",
                                "#B0BEC5",
                                "#B0BEC5",
                                "#B0BEC5",
                                "#B0BEC5",
                                "#B0BEC5",
                                "#B0BEC5",
                                "#B0BEC5",
                                "#B0BEC5",
                                "#B0BEC5"
                              ]
                            ]
                          }
                        ],
                        "label": "Topic 28",
                        "method": "update"
                      },
                      {
                        "args": [
                          {
                            "marker.color": [
                              [
                                "#B0BEC5",
                                "#B0BEC5",
                                "#B0BEC5",
                                "#B0BEC5",
                                "#B0BEC5",
                                "#B0BEC5",
                                "#B0BEC5",
                                "#B0BEC5",
                                "#B0BEC5",
                                "#B0BEC5",
                                "#B0BEC5",
                                "#B0BEC5",
                                "#B0BEC5",
                                "#B0BEC5",
                                "#B0BEC5",
                                "#B0BEC5",
                                "#B0BEC5",
                                "#B0BEC5",
                                "#B0BEC5",
                                "#B0BEC5",
                                "#B0BEC5",
                                "#B0BEC5",
                                "#B0BEC5",
                                "#B0BEC5",
                                "#B0BEC5",
                                "#B0BEC5",
                                "#B0BEC5",
                                "#B0BEC5",
                                "#B0BEC5",
                                "red",
                                "#B0BEC5",
                                "#B0BEC5",
                                "#B0BEC5",
                                "#B0BEC5",
                                "#B0BEC5",
                                "#B0BEC5",
                                "#B0BEC5",
                                "#B0BEC5",
                                "#B0BEC5",
                                "#B0BEC5",
                                "#B0BEC5",
                                "#B0BEC5",
                                "#B0BEC5",
                                "#B0BEC5",
                                "#B0BEC5",
                                "#B0BEC5",
                                "#B0BEC5",
                                "#B0BEC5",
                                "#B0BEC5",
                                "#B0BEC5",
                                "#B0BEC5",
                                "#B0BEC5",
                                "#B0BEC5",
                                "#B0BEC5",
                                "#B0BEC5",
                                "#B0BEC5",
                                "#B0BEC5",
                                "#B0BEC5",
                                "#B0BEC5",
                                "#B0BEC5",
                                "#B0BEC5",
                                "#B0BEC5",
                                "#B0BEC5",
                                "#B0BEC5",
                                "#B0BEC5",
                                "#B0BEC5",
                                "#B0BEC5",
                                "#B0BEC5",
                                "#B0BEC5",
                                "#B0BEC5",
                                "#B0BEC5",
                                "#B0BEC5",
                                "#B0BEC5",
                                "#B0BEC5",
                                "#B0BEC5",
                                "#B0BEC5",
                                "#B0BEC5",
                                "#B0BEC5",
                                "#B0BEC5",
                                "#B0BEC5"
                              ]
                            ]
                          }
                        ],
                        "label": "Topic 29",
                        "method": "update"
                      },
                      {
                        "args": [
                          {
                            "marker.color": [
                              [
                                "#B0BEC5",
                                "#B0BEC5",
                                "#B0BEC5",
                                "#B0BEC5",
                                "#B0BEC5",
                                "#B0BEC5",
                                "#B0BEC5",
                                "#B0BEC5",
                                "#B0BEC5",
                                "#B0BEC5",
                                "#B0BEC5",
                                "#B0BEC5",
                                "#B0BEC5",
                                "#B0BEC5",
                                "#B0BEC5",
                                "#B0BEC5",
                                "#B0BEC5",
                                "#B0BEC5",
                                "#B0BEC5",
                                "#B0BEC5",
                                "#B0BEC5",
                                "#B0BEC5",
                                "#B0BEC5",
                                "#B0BEC5",
                                "#B0BEC5",
                                "#B0BEC5",
                                "#B0BEC5",
                                "#B0BEC5",
                                "#B0BEC5",
                                "#B0BEC5",
                                "red",
                                "#B0BEC5",
                                "#B0BEC5",
                                "#B0BEC5",
                                "#B0BEC5",
                                "#B0BEC5",
                                "#B0BEC5",
                                "#B0BEC5",
                                "#B0BEC5",
                                "#B0BEC5",
                                "#B0BEC5",
                                "#B0BEC5",
                                "#B0BEC5",
                                "#B0BEC5",
                                "#B0BEC5",
                                "#B0BEC5",
                                "#B0BEC5",
                                "#B0BEC5",
                                "#B0BEC5",
                                "#B0BEC5",
                                "#B0BEC5",
                                "#B0BEC5",
                                "#B0BEC5",
                                "#B0BEC5",
                                "#B0BEC5",
                                "#B0BEC5",
                                "#B0BEC5",
                                "#B0BEC5",
                                "#B0BEC5",
                                "#B0BEC5",
                                "#B0BEC5",
                                "#B0BEC5",
                                "#B0BEC5",
                                "#B0BEC5",
                                "#B0BEC5",
                                "#B0BEC5",
                                "#B0BEC5",
                                "#B0BEC5",
                                "#B0BEC5",
                                "#B0BEC5",
                                "#B0BEC5",
                                "#B0BEC5",
                                "#B0BEC5",
                                "#B0BEC5",
                                "#B0BEC5",
                                "#B0BEC5",
                                "#B0BEC5",
                                "#B0BEC5",
                                "#B0BEC5",
                                "#B0BEC5"
                              ]
                            ]
                          }
                        ],
                        "label": "Topic 30",
                        "method": "update"
                      },
                      {
                        "args": [
                          {
                            "marker.color": [
                              [
                                "#B0BEC5",
                                "#B0BEC5",
                                "#B0BEC5",
                                "#B0BEC5",
                                "#B0BEC5",
                                "#B0BEC5",
                                "#B0BEC5",
                                "#B0BEC5",
                                "#B0BEC5",
                                "#B0BEC5",
                                "#B0BEC5",
                                "#B0BEC5",
                                "#B0BEC5",
                                "#B0BEC5",
                                "#B0BEC5",
                                "#B0BEC5",
                                "#B0BEC5",
                                "#B0BEC5",
                                "#B0BEC5",
                                "#B0BEC5",
                                "#B0BEC5",
                                "#B0BEC5",
                                "#B0BEC5",
                                "#B0BEC5",
                                "#B0BEC5",
                                "#B0BEC5",
                                "#B0BEC5",
                                "#B0BEC5",
                                "#B0BEC5",
                                "#B0BEC5",
                                "#B0BEC5",
                                "red",
                                "#B0BEC5",
                                "#B0BEC5",
                                "#B0BEC5",
                                "#B0BEC5",
                                "#B0BEC5",
                                "#B0BEC5",
                                "#B0BEC5",
                                "#B0BEC5",
                                "#B0BEC5",
                                "#B0BEC5",
                                "#B0BEC5",
                                "#B0BEC5",
                                "#B0BEC5",
                                "#B0BEC5",
                                "#B0BEC5",
                                "#B0BEC5",
                                "#B0BEC5",
                                "#B0BEC5",
                                "#B0BEC5",
                                "#B0BEC5",
                                "#B0BEC5",
                                "#B0BEC5",
                                "#B0BEC5",
                                "#B0BEC5",
                                "#B0BEC5",
                                "#B0BEC5",
                                "#B0BEC5",
                                "#B0BEC5",
                                "#B0BEC5",
                                "#B0BEC5",
                                "#B0BEC5",
                                "#B0BEC5",
                                "#B0BEC5",
                                "#B0BEC5",
                                "#B0BEC5",
                                "#B0BEC5",
                                "#B0BEC5",
                                "#B0BEC5",
                                "#B0BEC5",
                                "#B0BEC5",
                                "#B0BEC5",
                                "#B0BEC5",
                                "#B0BEC5",
                                "#B0BEC5",
                                "#B0BEC5",
                                "#B0BEC5",
                                "#B0BEC5",
                                "#B0BEC5"
                              ]
                            ]
                          }
                        ],
                        "label": "Topic 31",
                        "method": "update"
                      },
                      {
                        "args": [
                          {
                            "marker.color": [
                              [
                                "#B0BEC5",
                                "#B0BEC5",
                                "#B0BEC5",
                                "#B0BEC5",
                                "#B0BEC5",
                                "#B0BEC5",
                                "#B0BEC5",
                                "#B0BEC5",
                                "#B0BEC5",
                                "#B0BEC5",
                                "#B0BEC5",
                                "#B0BEC5",
                                "#B0BEC5",
                                "#B0BEC5",
                                "#B0BEC5",
                                "#B0BEC5",
                                "#B0BEC5",
                                "#B0BEC5",
                                "#B0BEC5",
                                "#B0BEC5",
                                "#B0BEC5",
                                "#B0BEC5",
                                "#B0BEC5",
                                "#B0BEC5",
                                "#B0BEC5",
                                "#B0BEC5",
                                "#B0BEC5",
                                "#B0BEC5",
                                "#B0BEC5",
                                "#B0BEC5",
                                "#B0BEC5",
                                "#B0BEC5",
                                "red",
                                "#B0BEC5",
                                "#B0BEC5",
                                "#B0BEC5",
                                "#B0BEC5",
                                "#B0BEC5",
                                "#B0BEC5",
                                "#B0BEC5",
                                "#B0BEC5",
                                "#B0BEC5",
                                "#B0BEC5",
                                "#B0BEC5",
                                "#B0BEC5",
                                "#B0BEC5",
                                "#B0BEC5",
                                "#B0BEC5",
                                "#B0BEC5",
                                "#B0BEC5",
                                "#B0BEC5",
                                "#B0BEC5",
                                "#B0BEC5",
                                "#B0BEC5",
                                "#B0BEC5",
                                "#B0BEC5",
                                "#B0BEC5",
                                "#B0BEC5",
                                "#B0BEC5",
                                "#B0BEC5",
                                "#B0BEC5",
                                "#B0BEC5",
                                "#B0BEC5",
                                "#B0BEC5",
                                "#B0BEC5",
                                "#B0BEC5",
                                "#B0BEC5",
                                "#B0BEC5",
                                "#B0BEC5",
                                "#B0BEC5",
                                "#B0BEC5",
                                "#B0BEC5",
                                "#B0BEC5",
                                "#B0BEC5",
                                "#B0BEC5",
                                "#B0BEC5",
                                "#B0BEC5",
                                "#B0BEC5",
                                "#B0BEC5",
                                "#B0BEC5"
                              ]
                            ]
                          }
                        ],
                        "label": "Topic 32",
                        "method": "update"
                      },
                      {
                        "args": [
                          {
                            "marker.color": [
                              [
                                "#B0BEC5",
                                "#B0BEC5",
                                "#B0BEC5",
                                "#B0BEC5",
                                "#B0BEC5",
                                "#B0BEC5",
                                "#B0BEC5",
                                "#B0BEC5",
                                "#B0BEC5",
                                "#B0BEC5",
                                "#B0BEC5",
                                "#B0BEC5",
                                "#B0BEC5",
                                "#B0BEC5",
                                "#B0BEC5",
                                "#B0BEC5",
                                "#B0BEC5",
                                "#B0BEC5",
                                "#B0BEC5",
                                "#B0BEC5",
                                "#B0BEC5",
                                "#B0BEC5",
                                "#B0BEC5",
                                "#B0BEC5",
                                "#B0BEC5",
                                "#B0BEC5",
                                "#B0BEC5",
                                "#B0BEC5",
                                "#B0BEC5",
                                "#B0BEC5",
                                "#B0BEC5",
                                "#B0BEC5",
                                "#B0BEC5",
                                "red",
                                "#B0BEC5",
                                "#B0BEC5",
                                "#B0BEC5",
                                "#B0BEC5",
                                "#B0BEC5",
                                "#B0BEC5",
                                "#B0BEC5",
                                "#B0BEC5",
                                "#B0BEC5",
                                "#B0BEC5",
                                "#B0BEC5",
                                "#B0BEC5",
                                "#B0BEC5",
                                "#B0BEC5",
                                "#B0BEC5",
                                "#B0BEC5",
                                "#B0BEC5",
                                "#B0BEC5",
                                "#B0BEC5",
                                "#B0BEC5",
                                "#B0BEC5",
                                "#B0BEC5",
                                "#B0BEC5",
                                "#B0BEC5",
                                "#B0BEC5",
                                "#B0BEC5",
                                "#B0BEC5",
                                "#B0BEC5",
                                "#B0BEC5",
                                "#B0BEC5",
                                "#B0BEC5",
                                "#B0BEC5",
                                "#B0BEC5",
                                "#B0BEC5",
                                "#B0BEC5",
                                "#B0BEC5",
                                "#B0BEC5",
                                "#B0BEC5",
                                "#B0BEC5",
                                "#B0BEC5",
                                "#B0BEC5",
                                "#B0BEC5",
                                "#B0BEC5",
                                "#B0BEC5",
                                "#B0BEC5",
                                "#B0BEC5"
                              ]
                            ]
                          }
                        ],
                        "label": "Topic 33",
                        "method": "update"
                      },
                      {
                        "args": [
                          {
                            "marker.color": [
                              [
                                "#B0BEC5",
                                "#B0BEC5",
                                "#B0BEC5",
                                "#B0BEC5",
                                "#B0BEC5",
                                "#B0BEC5",
                                "#B0BEC5",
                                "#B0BEC5",
                                "#B0BEC5",
                                "#B0BEC5",
                                "#B0BEC5",
                                "#B0BEC5",
                                "#B0BEC5",
                                "#B0BEC5",
                                "#B0BEC5",
                                "#B0BEC5",
                                "#B0BEC5",
                                "#B0BEC5",
                                "#B0BEC5",
                                "#B0BEC5",
                                "#B0BEC5",
                                "#B0BEC5",
                                "#B0BEC5",
                                "#B0BEC5",
                                "#B0BEC5",
                                "#B0BEC5",
                                "#B0BEC5",
                                "#B0BEC5",
                                "#B0BEC5",
                                "#B0BEC5",
                                "#B0BEC5",
                                "#B0BEC5",
                                "#B0BEC5",
                                "#B0BEC5",
                                "red",
                                "#B0BEC5",
                                "#B0BEC5",
                                "#B0BEC5",
                                "#B0BEC5",
                                "#B0BEC5",
                                "#B0BEC5",
                                "#B0BEC5",
                                "#B0BEC5",
                                "#B0BEC5",
                                "#B0BEC5",
                                "#B0BEC5",
                                "#B0BEC5",
                                "#B0BEC5",
                                "#B0BEC5",
                                "#B0BEC5",
                                "#B0BEC5",
                                "#B0BEC5",
                                "#B0BEC5",
                                "#B0BEC5",
                                "#B0BEC5",
                                "#B0BEC5",
                                "#B0BEC5",
                                "#B0BEC5",
                                "#B0BEC5",
                                "#B0BEC5",
                                "#B0BEC5",
                                "#B0BEC5",
                                "#B0BEC5",
                                "#B0BEC5",
                                "#B0BEC5",
                                "#B0BEC5",
                                "#B0BEC5",
                                "#B0BEC5",
                                "#B0BEC5",
                                "#B0BEC5",
                                "#B0BEC5",
                                "#B0BEC5",
                                "#B0BEC5",
                                "#B0BEC5",
                                "#B0BEC5",
                                "#B0BEC5",
                                "#B0BEC5",
                                "#B0BEC5",
                                "#B0BEC5",
                                "#B0BEC5"
                              ]
                            ]
                          }
                        ],
                        "label": "Topic 34",
                        "method": "update"
                      },
                      {
                        "args": [
                          {
                            "marker.color": [
                              [
                                "#B0BEC5",
                                "#B0BEC5",
                                "#B0BEC5",
                                "#B0BEC5",
                                "#B0BEC5",
                                "#B0BEC5",
                                "#B0BEC5",
                                "#B0BEC5",
                                "#B0BEC5",
                                "#B0BEC5",
                                "#B0BEC5",
                                "#B0BEC5",
                                "#B0BEC5",
                                "#B0BEC5",
                                "#B0BEC5",
                                "#B0BEC5",
                                "#B0BEC5",
                                "#B0BEC5",
                                "#B0BEC5",
                                "#B0BEC5",
                                "#B0BEC5",
                                "#B0BEC5",
                                "#B0BEC5",
                                "#B0BEC5",
                                "#B0BEC5",
                                "#B0BEC5",
                                "#B0BEC5",
                                "#B0BEC5",
                                "#B0BEC5",
                                "#B0BEC5",
                                "#B0BEC5",
                                "#B0BEC5",
                                "#B0BEC5",
                                "#B0BEC5",
                                "#B0BEC5",
                                "red",
                                "#B0BEC5",
                                "#B0BEC5",
                                "#B0BEC5",
                                "#B0BEC5",
                                "#B0BEC5",
                                "#B0BEC5",
                                "#B0BEC5",
                                "#B0BEC5",
                                "#B0BEC5",
                                "#B0BEC5",
                                "#B0BEC5",
                                "#B0BEC5",
                                "#B0BEC5",
                                "#B0BEC5",
                                "#B0BEC5",
                                "#B0BEC5",
                                "#B0BEC5",
                                "#B0BEC5",
                                "#B0BEC5",
                                "#B0BEC5",
                                "#B0BEC5",
                                "#B0BEC5",
                                "#B0BEC5",
                                "#B0BEC5",
                                "#B0BEC5",
                                "#B0BEC5",
                                "#B0BEC5",
                                "#B0BEC5",
                                "#B0BEC5",
                                "#B0BEC5",
                                "#B0BEC5",
                                "#B0BEC5",
                                "#B0BEC5",
                                "#B0BEC5",
                                "#B0BEC5",
                                "#B0BEC5",
                                "#B0BEC5",
                                "#B0BEC5",
                                "#B0BEC5",
                                "#B0BEC5",
                                "#B0BEC5",
                                "#B0BEC5",
                                "#B0BEC5",
                                "#B0BEC5"
                              ]
                            ]
                          }
                        ],
                        "label": "Topic 35",
                        "method": "update"
                      },
                      {
                        "args": [
                          {
                            "marker.color": [
                              [
                                "#B0BEC5",
                                "#B0BEC5",
                                "#B0BEC5",
                                "#B0BEC5",
                                "#B0BEC5",
                                "#B0BEC5",
                                "#B0BEC5",
                                "#B0BEC5",
                                "#B0BEC5",
                                "#B0BEC5",
                                "#B0BEC5",
                                "#B0BEC5",
                                "#B0BEC5",
                                "#B0BEC5",
                                "#B0BEC5",
                                "#B0BEC5",
                                "#B0BEC5",
                                "#B0BEC5",
                                "#B0BEC5",
                                "#B0BEC5",
                                "#B0BEC5",
                                "#B0BEC5",
                                "#B0BEC5",
                                "#B0BEC5",
                                "#B0BEC5",
                                "#B0BEC5",
                                "#B0BEC5",
                                "#B0BEC5",
                                "#B0BEC5",
                                "#B0BEC5",
                                "#B0BEC5",
                                "#B0BEC5",
                                "#B0BEC5",
                                "#B0BEC5",
                                "#B0BEC5",
                                "#B0BEC5",
                                "red",
                                "#B0BEC5",
                                "#B0BEC5",
                                "#B0BEC5",
                                "#B0BEC5",
                                "#B0BEC5",
                                "#B0BEC5",
                                "#B0BEC5",
                                "#B0BEC5",
                                "#B0BEC5",
                                "#B0BEC5",
                                "#B0BEC5",
                                "#B0BEC5",
                                "#B0BEC5",
                                "#B0BEC5",
                                "#B0BEC5",
                                "#B0BEC5",
                                "#B0BEC5",
                                "#B0BEC5",
                                "#B0BEC5",
                                "#B0BEC5",
                                "#B0BEC5",
                                "#B0BEC5",
                                "#B0BEC5",
                                "#B0BEC5",
                                "#B0BEC5",
                                "#B0BEC5",
                                "#B0BEC5",
                                "#B0BEC5",
                                "#B0BEC5",
                                "#B0BEC5",
                                "#B0BEC5",
                                "#B0BEC5",
                                "#B0BEC5",
                                "#B0BEC5",
                                "#B0BEC5",
                                "#B0BEC5",
                                "#B0BEC5",
                                "#B0BEC5",
                                "#B0BEC5",
                                "#B0BEC5",
                                "#B0BEC5",
                                "#B0BEC5",
                                "#B0BEC5"
                              ]
                            ]
                          }
                        ],
                        "label": "Topic 36",
                        "method": "update"
                      },
                      {
                        "args": [
                          {
                            "marker.color": [
                              [
                                "#B0BEC5",
                                "#B0BEC5",
                                "#B0BEC5",
                                "#B0BEC5",
                                "#B0BEC5",
                                "#B0BEC5",
                                "#B0BEC5",
                                "#B0BEC5",
                                "#B0BEC5",
                                "#B0BEC5",
                                "#B0BEC5",
                                "#B0BEC5",
                                "#B0BEC5",
                                "#B0BEC5",
                                "#B0BEC5",
                                "#B0BEC5",
                                "#B0BEC5",
                                "#B0BEC5",
                                "#B0BEC5",
                                "#B0BEC5",
                                "#B0BEC5",
                                "#B0BEC5",
                                "#B0BEC5",
                                "#B0BEC5",
                                "#B0BEC5",
                                "#B0BEC5",
                                "#B0BEC5",
                                "#B0BEC5",
                                "#B0BEC5",
                                "#B0BEC5",
                                "#B0BEC5",
                                "#B0BEC5",
                                "#B0BEC5",
                                "#B0BEC5",
                                "#B0BEC5",
                                "#B0BEC5",
                                "#B0BEC5",
                                "red",
                                "#B0BEC5",
                                "#B0BEC5",
                                "#B0BEC5",
                                "#B0BEC5",
                                "#B0BEC5",
                                "#B0BEC5",
                                "#B0BEC5",
                                "#B0BEC5",
                                "#B0BEC5",
                                "#B0BEC5",
                                "#B0BEC5",
                                "#B0BEC5",
                                "#B0BEC5",
                                "#B0BEC5",
                                "#B0BEC5",
                                "#B0BEC5",
                                "#B0BEC5",
                                "#B0BEC5",
                                "#B0BEC5",
                                "#B0BEC5",
                                "#B0BEC5",
                                "#B0BEC5",
                                "#B0BEC5",
                                "#B0BEC5",
                                "#B0BEC5",
                                "#B0BEC5",
                                "#B0BEC5",
                                "#B0BEC5",
                                "#B0BEC5",
                                "#B0BEC5",
                                "#B0BEC5",
                                "#B0BEC5",
                                "#B0BEC5",
                                "#B0BEC5",
                                "#B0BEC5",
                                "#B0BEC5",
                                "#B0BEC5",
                                "#B0BEC5",
                                "#B0BEC5",
                                "#B0BEC5",
                                "#B0BEC5",
                                "#B0BEC5"
                              ]
                            ]
                          }
                        ],
                        "label": "Topic 37",
                        "method": "update"
                      },
                      {
                        "args": [
                          {
                            "marker.color": [
                              [
                                "#B0BEC5",
                                "#B0BEC5",
                                "#B0BEC5",
                                "#B0BEC5",
                                "#B0BEC5",
                                "#B0BEC5",
                                "#B0BEC5",
                                "#B0BEC5",
                                "#B0BEC5",
                                "#B0BEC5",
                                "#B0BEC5",
                                "#B0BEC5",
                                "#B0BEC5",
                                "#B0BEC5",
                                "#B0BEC5",
                                "#B0BEC5",
                                "#B0BEC5",
                                "#B0BEC5",
                                "#B0BEC5",
                                "#B0BEC5",
                                "#B0BEC5",
                                "#B0BEC5",
                                "#B0BEC5",
                                "#B0BEC5",
                                "#B0BEC5",
                                "#B0BEC5",
                                "#B0BEC5",
                                "#B0BEC5",
                                "#B0BEC5",
                                "#B0BEC5",
                                "#B0BEC5",
                                "#B0BEC5",
                                "#B0BEC5",
                                "#B0BEC5",
                                "#B0BEC5",
                                "#B0BEC5",
                                "#B0BEC5",
                                "#B0BEC5",
                                "red",
                                "#B0BEC5",
                                "#B0BEC5",
                                "#B0BEC5",
                                "#B0BEC5",
                                "#B0BEC5",
                                "#B0BEC5",
                                "#B0BEC5",
                                "#B0BEC5",
                                "#B0BEC5",
                                "#B0BEC5",
                                "#B0BEC5",
                                "#B0BEC5",
                                "#B0BEC5",
                                "#B0BEC5",
                                "#B0BEC5",
                                "#B0BEC5",
                                "#B0BEC5",
                                "#B0BEC5",
                                "#B0BEC5",
                                "#B0BEC5",
                                "#B0BEC5",
                                "#B0BEC5",
                                "#B0BEC5",
                                "#B0BEC5",
                                "#B0BEC5",
                                "#B0BEC5",
                                "#B0BEC5",
                                "#B0BEC5",
                                "#B0BEC5",
                                "#B0BEC5",
                                "#B0BEC5",
                                "#B0BEC5",
                                "#B0BEC5",
                                "#B0BEC5",
                                "#B0BEC5",
                                "#B0BEC5",
                                "#B0BEC5",
                                "#B0BEC5",
                                "#B0BEC5",
                                "#B0BEC5",
                                "#B0BEC5"
                              ]
                            ]
                          }
                        ],
                        "label": "Topic 38",
                        "method": "update"
                      },
                      {
                        "args": [
                          {
                            "marker.color": [
                              [
                                "#B0BEC5",
                                "#B0BEC5",
                                "#B0BEC5",
                                "#B0BEC5",
                                "#B0BEC5",
                                "#B0BEC5",
                                "#B0BEC5",
                                "#B0BEC5",
                                "#B0BEC5",
                                "#B0BEC5",
                                "#B0BEC5",
                                "#B0BEC5",
                                "#B0BEC5",
                                "#B0BEC5",
                                "#B0BEC5",
                                "#B0BEC5",
                                "#B0BEC5",
                                "#B0BEC5",
                                "#B0BEC5",
                                "#B0BEC5",
                                "#B0BEC5",
                                "#B0BEC5",
                                "#B0BEC5",
                                "#B0BEC5",
                                "#B0BEC5",
                                "#B0BEC5",
                                "#B0BEC5",
                                "#B0BEC5",
                                "#B0BEC5",
                                "#B0BEC5",
                                "#B0BEC5",
                                "#B0BEC5",
                                "#B0BEC5",
                                "#B0BEC5",
                                "#B0BEC5",
                                "#B0BEC5",
                                "#B0BEC5",
                                "#B0BEC5",
                                "#B0BEC5",
                                "red",
                                "#B0BEC5",
                                "#B0BEC5",
                                "#B0BEC5",
                                "#B0BEC5",
                                "#B0BEC5",
                                "#B0BEC5",
                                "#B0BEC5",
                                "#B0BEC5",
                                "#B0BEC5",
                                "#B0BEC5",
                                "#B0BEC5",
                                "#B0BEC5",
                                "#B0BEC5",
                                "#B0BEC5",
                                "#B0BEC5",
                                "#B0BEC5",
                                "#B0BEC5",
                                "#B0BEC5",
                                "#B0BEC5",
                                "#B0BEC5",
                                "#B0BEC5",
                                "#B0BEC5",
                                "#B0BEC5",
                                "#B0BEC5",
                                "#B0BEC5",
                                "#B0BEC5",
                                "#B0BEC5",
                                "#B0BEC5",
                                "#B0BEC5",
                                "#B0BEC5",
                                "#B0BEC5",
                                "#B0BEC5",
                                "#B0BEC5",
                                "#B0BEC5",
                                "#B0BEC5",
                                "#B0BEC5",
                                "#B0BEC5",
                                "#B0BEC5",
                                "#B0BEC5",
                                "#B0BEC5"
                              ]
                            ]
                          }
                        ],
                        "label": "Topic 39",
                        "method": "update"
                      },
                      {
                        "args": [
                          {
                            "marker.color": [
                              [
                                "#B0BEC5",
                                "#B0BEC5",
                                "#B0BEC5",
                                "#B0BEC5",
                                "#B0BEC5",
                                "#B0BEC5",
                                "#B0BEC5",
                                "#B0BEC5",
                                "#B0BEC5",
                                "#B0BEC5",
                                "#B0BEC5",
                                "#B0BEC5",
                                "#B0BEC5",
                                "#B0BEC5",
                                "#B0BEC5",
                                "#B0BEC5",
                                "#B0BEC5",
                                "#B0BEC5",
                                "#B0BEC5",
                                "#B0BEC5",
                                "#B0BEC5",
                                "#B0BEC5",
                                "#B0BEC5",
                                "#B0BEC5",
                                "#B0BEC5",
                                "#B0BEC5",
                                "#B0BEC5",
                                "#B0BEC5",
                                "#B0BEC5",
                                "#B0BEC5",
                                "#B0BEC5",
                                "#B0BEC5",
                                "#B0BEC5",
                                "#B0BEC5",
                                "#B0BEC5",
                                "#B0BEC5",
                                "#B0BEC5",
                                "#B0BEC5",
                                "#B0BEC5",
                                "#B0BEC5",
                                "red",
                                "#B0BEC5",
                                "#B0BEC5",
                                "#B0BEC5",
                                "#B0BEC5",
                                "#B0BEC5",
                                "#B0BEC5",
                                "#B0BEC5",
                                "#B0BEC5",
                                "#B0BEC5",
                                "#B0BEC5",
                                "#B0BEC5",
                                "#B0BEC5",
                                "#B0BEC5",
                                "#B0BEC5",
                                "#B0BEC5",
                                "#B0BEC5",
                                "#B0BEC5",
                                "#B0BEC5",
                                "#B0BEC5",
                                "#B0BEC5",
                                "#B0BEC5",
                                "#B0BEC5",
                                "#B0BEC5",
                                "#B0BEC5",
                                "#B0BEC5",
                                "#B0BEC5",
                                "#B0BEC5",
                                "#B0BEC5",
                                "#B0BEC5",
                                "#B0BEC5",
                                "#B0BEC5",
                                "#B0BEC5",
                                "#B0BEC5",
                                "#B0BEC5",
                                "#B0BEC5",
                                "#B0BEC5",
                                "#B0BEC5",
                                "#B0BEC5",
                                "#B0BEC5"
                              ]
                            ]
                          }
                        ],
                        "label": "Topic 40",
                        "method": "update"
                      },
                      {
                        "args": [
                          {
                            "marker.color": [
                              [
                                "#B0BEC5",
                                "#B0BEC5",
                                "#B0BEC5",
                                "#B0BEC5",
                                "#B0BEC5",
                                "#B0BEC5",
                                "#B0BEC5",
                                "#B0BEC5",
                                "#B0BEC5",
                                "#B0BEC5",
                                "#B0BEC5",
                                "#B0BEC5",
                                "#B0BEC5",
                                "#B0BEC5",
                                "#B0BEC5",
                                "#B0BEC5",
                                "#B0BEC5",
                                "#B0BEC5",
                                "#B0BEC5",
                                "#B0BEC5",
                                "#B0BEC5",
                                "#B0BEC5",
                                "#B0BEC5",
                                "#B0BEC5",
                                "#B0BEC5",
                                "#B0BEC5",
                                "#B0BEC5",
                                "#B0BEC5",
                                "#B0BEC5",
                                "#B0BEC5",
                                "#B0BEC5",
                                "#B0BEC5",
                                "#B0BEC5",
                                "#B0BEC5",
                                "#B0BEC5",
                                "#B0BEC5",
                                "#B0BEC5",
                                "#B0BEC5",
                                "#B0BEC5",
                                "#B0BEC5",
                                "#B0BEC5",
                                "red",
                                "#B0BEC5",
                                "#B0BEC5",
                                "#B0BEC5",
                                "#B0BEC5",
                                "#B0BEC5",
                                "#B0BEC5",
                                "#B0BEC5",
                                "#B0BEC5",
                                "#B0BEC5",
                                "#B0BEC5",
                                "#B0BEC5",
                                "#B0BEC5",
                                "#B0BEC5",
                                "#B0BEC5",
                                "#B0BEC5",
                                "#B0BEC5",
                                "#B0BEC5",
                                "#B0BEC5",
                                "#B0BEC5",
                                "#B0BEC5",
                                "#B0BEC5",
                                "#B0BEC5",
                                "#B0BEC5",
                                "#B0BEC5",
                                "#B0BEC5",
                                "#B0BEC5",
                                "#B0BEC5",
                                "#B0BEC5",
                                "#B0BEC5",
                                "#B0BEC5",
                                "#B0BEC5",
                                "#B0BEC5",
                                "#B0BEC5",
                                "#B0BEC5",
                                "#B0BEC5",
                                "#B0BEC5",
                                "#B0BEC5",
                                "#B0BEC5"
                              ]
                            ]
                          }
                        ],
                        "label": "Topic 41",
                        "method": "update"
                      },
                      {
                        "args": [
                          {
                            "marker.color": [
                              [
                                "#B0BEC5",
                                "#B0BEC5",
                                "#B0BEC5",
                                "#B0BEC5",
                                "#B0BEC5",
                                "#B0BEC5",
                                "#B0BEC5",
                                "#B0BEC5",
                                "#B0BEC5",
                                "#B0BEC5",
                                "#B0BEC5",
                                "#B0BEC5",
                                "#B0BEC5",
                                "#B0BEC5",
                                "#B0BEC5",
                                "#B0BEC5",
                                "#B0BEC5",
                                "#B0BEC5",
                                "#B0BEC5",
                                "#B0BEC5",
                                "#B0BEC5",
                                "#B0BEC5",
                                "#B0BEC5",
                                "#B0BEC5",
                                "#B0BEC5",
                                "#B0BEC5",
                                "#B0BEC5",
                                "#B0BEC5",
                                "#B0BEC5",
                                "#B0BEC5",
                                "#B0BEC5",
                                "#B0BEC5",
                                "#B0BEC5",
                                "#B0BEC5",
                                "#B0BEC5",
                                "#B0BEC5",
                                "#B0BEC5",
                                "#B0BEC5",
                                "#B0BEC5",
                                "#B0BEC5",
                                "#B0BEC5",
                                "#B0BEC5",
                                "red",
                                "#B0BEC5",
                                "#B0BEC5",
                                "#B0BEC5",
                                "#B0BEC5",
                                "#B0BEC5",
                                "#B0BEC5",
                                "#B0BEC5",
                                "#B0BEC5",
                                "#B0BEC5",
                                "#B0BEC5",
                                "#B0BEC5",
                                "#B0BEC5",
                                "#B0BEC5",
                                "#B0BEC5",
                                "#B0BEC5",
                                "#B0BEC5",
                                "#B0BEC5",
                                "#B0BEC5",
                                "#B0BEC5",
                                "#B0BEC5",
                                "#B0BEC5",
                                "#B0BEC5",
                                "#B0BEC5",
                                "#B0BEC5",
                                "#B0BEC5",
                                "#B0BEC5",
                                "#B0BEC5",
                                "#B0BEC5",
                                "#B0BEC5",
                                "#B0BEC5",
                                "#B0BEC5",
                                "#B0BEC5",
                                "#B0BEC5",
                                "#B0BEC5",
                                "#B0BEC5",
                                "#B0BEC5",
                                "#B0BEC5"
                              ]
                            ]
                          }
                        ],
                        "label": "Topic 42",
                        "method": "update"
                      },
                      {
                        "args": [
                          {
                            "marker.color": [
                              [
                                "#B0BEC5",
                                "#B0BEC5",
                                "#B0BEC5",
                                "#B0BEC5",
                                "#B0BEC5",
                                "#B0BEC5",
                                "#B0BEC5",
                                "#B0BEC5",
                                "#B0BEC5",
                                "#B0BEC5",
                                "#B0BEC5",
                                "#B0BEC5",
                                "#B0BEC5",
                                "#B0BEC5",
                                "#B0BEC5",
                                "#B0BEC5",
                                "#B0BEC5",
                                "#B0BEC5",
                                "#B0BEC5",
                                "#B0BEC5",
                                "#B0BEC5",
                                "#B0BEC5",
                                "#B0BEC5",
                                "#B0BEC5",
                                "#B0BEC5",
                                "#B0BEC5",
                                "#B0BEC5",
                                "#B0BEC5",
                                "#B0BEC5",
                                "#B0BEC5",
                                "#B0BEC5",
                                "#B0BEC5",
                                "#B0BEC5",
                                "#B0BEC5",
                                "#B0BEC5",
                                "#B0BEC5",
                                "#B0BEC5",
                                "#B0BEC5",
                                "#B0BEC5",
                                "#B0BEC5",
                                "#B0BEC5",
                                "#B0BEC5",
                                "#B0BEC5",
                                "red",
                                "#B0BEC5",
                                "#B0BEC5",
                                "#B0BEC5",
                                "#B0BEC5",
                                "#B0BEC5",
                                "#B0BEC5",
                                "#B0BEC5",
                                "#B0BEC5",
                                "#B0BEC5",
                                "#B0BEC5",
                                "#B0BEC5",
                                "#B0BEC5",
                                "#B0BEC5",
                                "#B0BEC5",
                                "#B0BEC5",
                                "#B0BEC5",
                                "#B0BEC5",
                                "#B0BEC5",
                                "#B0BEC5",
                                "#B0BEC5",
                                "#B0BEC5",
                                "#B0BEC5",
                                "#B0BEC5",
                                "#B0BEC5",
                                "#B0BEC5",
                                "#B0BEC5",
                                "#B0BEC5",
                                "#B0BEC5",
                                "#B0BEC5",
                                "#B0BEC5",
                                "#B0BEC5",
                                "#B0BEC5",
                                "#B0BEC5",
                                "#B0BEC5",
                                "#B0BEC5",
                                "#B0BEC5"
                              ]
                            ]
                          }
                        ],
                        "label": "Topic 43",
                        "method": "update"
                      },
                      {
                        "args": [
                          {
                            "marker.color": [
                              [
                                "#B0BEC5",
                                "#B0BEC5",
                                "#B0BEC5",
                                "#B0BEC5",
                                "#B0BEC5",
                                "#B0BEC5",
                                "#B0BEC5",
                                "#B0BEC5",
                                "#B0BEC5",
                                "#B0BEC5",
                                "#B0BEC5",
                                "#B0BEC5",
                                "#B0BEC5",
                                "#B0BEC5",
                                "#B0BEC5",
                                "#B0BEC5",
                                "#B0BEC5",
                                "#B0BEC5",
                                "#B0BEC5",
                                "#B0BEC5",
                                "#B0BEC5",
                                "#B0BEC5",
                                "#B0BEC5",
                                "#B0BEC5",
                                "#B0BEC5",
                                "#B0BEC5",
                                "#B0BEC5",
                                "#B0BEC5",
                                "#B0BEC5",
                                "#B0BEC5",
                                "#B0BEC5",
                                "#B0BEC5",
                                "#B0BEC5",
                                "#B0BEC5",
                                "#B0BEC5",
                                "#B0BEC5",
                                "#B0BEC5",
                                "#B0BEC5",
                                "#B0BEC5",
                                "#B0BEC5",
                                "#B0BEC5",
                                "#B0BEC5",
                                "#B0BEC5",
                                "#B0BEC5",
                                "red",
                                "#B0BEC5",
                                "#B0BEC5",
                                "#B0BEC5",
                                "#B0BEC5",
                                "#B0BEC5",
                                "#B0BEC5",
                                "#B0BEC5",
                                "#B0BEC5",
                                "#B0BEC5",
                                "#B0BEC5",
                                "#B0BEC5",
                                "#B0BEC5",
                                "#B0BEC5",
                                "#B0BEC5",
                                "#B0BEC5",
                                "#B0BEC5",
                                "#B0BEC5",
                                "#B0BEC5",
                                "#B0BEC5",
                                "#B0BEC5",
                                "#B0BEC5",
                                "#B0BEC5",
                                "#B0BEC5",
                                "#B0BEC5",
                                "#B0BEC5",
                                "#B0BEC5",
                                "#B0BEC5",
                                "#B0BEC5",
                                "#B0BEC5",
                                "#B0BEC5",
                                "#B0BEC5",
                                "#B0BEC5",
                                "#B0BEC5",
                                "#B0BEC5",
                                "#B0BEC5"
                              ]
                            ]
                          }
                        ],
                        "label": "Topic 44",
                        "method": "update"
                      },
                      {
                        "args": [
                          {
                            "marker.color": [
                              [
                                "#B0BEC5",
                                "#B0BEC5",
                                "#B0BEC5",
                                "#B0BEC5",
                                "#B0BEC5",
                                "#B0BEC5",
                                "#B0BEC5",
                                "#B0BEC5",
                                "#B0BEC5",
                                "#B0BEC5",
                                "#B0BEC5",
                                "#B0BEC5",
                                "#B0BEC5",
                                "#B0BEC5",
                                "#B0BEC5",
                                "#B0BEC5",
                                "#B0BEC5",
                                "#B0BEC5",
                                "#B0BEC5",
                                "#B0BEC5",
                                "#B0BEC5",
                                "#B0BEC5",
                                "#B0BEC5",
                                "#B0BEC5",
                                "#B0BEC5",
                                "#B0BEC5",
                                "#B0BEC5",
                                "#B0BEC5",
                                "#B0BEC5",
                                "#B0BEC5",
                                "#B0BEC5",
                                "#B0BEC5",
                                "#B0BEC5",
                                "#B0BEC5",
                                "#B0BEC5",
                                "#B0BEC5",
                                "#B0BEC5",
                                "#B0BEC5",
                                "#B0BEC5",
                                "#B0BEC5",
                                "#B0BEC5",
                                "#B0BEC5",
                                "#B0BEC5",
                                "#B0BEC5",
                                "#B0BEC5",
                                "red",
                                "#B0BEC5",
                                "#B0BEC5",
                                "#B0BEC5",
                                "#B0BEC5",
                                "#B0BEC5",
                                "#B0BEC5",
                                "#B0BEC5",
                                "#B0BEC5",
                                "#B0BEC5",
                                "#B0BEC5",
                                "#B0BEC5",
                                "#B0BEC5",
                                "#B0BEC5",
                                "#B0BEC5",
                                "#B0BEC5",
                                "#B0BEC5",
                                "#B0BEC5",
                                "#B0BEC5",
                                "#B0BEC5",
                                "#B0BEC5",
                                "#B0BEC5",
                                "#B0BEC5",
                                "#B0BEC5",
                                "#B0BEC5",
                                "#B0BEC5",
                                "#B0BEC5",
                                "#B0BEC5",
                                "#B0BEC5",
                                "#B0BEC5",
                                "#B0BEC5",
                                "#B0BEC5",
                                "#B0BEC5",
                                "#B0BEC5",
                                "#B0BEC5"
                              ]
                            ]
                          }
                        ],
                        "label": "Topic 45",
                        "method": "update"
                      },
                      {
                        "args": [
                          {
                            "marker.color": [
                              [
                                "#B0BEC5",
                                "#B0BEC5",
                                "#B0BEC5",
                                "#B0BEC5",
                                "#B0BEC5",
                                "#B0BEC5",
                                "#B0BEC5",
                                "#B0BEC5",
                                "#B0BEC5",
                                "#B0BEC5",
                                "#B0BEC5",
                                "#B0BEC5",
                                "#B0BEC5",
                                "#B0BEC5",
                                "#B0BEC5",
                                "#B0BEC5",
                                "#B0BEC5",
                                "#B0BEC5",
                                "#B0BEC5",
                                "#B0BEC5",
                                "#B0BEC5",
                                "#B0BEC5",
                                "#B0BEC5",
                                "#B0BEC5",
                                "#B0BEC5",
                                "#B0BEC5",
                                "#B0BEC5",
                                "#B0BEC5",
                                "#B0BEC5",
                                "#B0BEC5",
                                "#B0BEC5",
                                "#B0BEC5",
                                "#B0BEC5",
                                "#B0BEC5",
                                "#B0BEC5",
                                "#B0BEC5",
                                "#B0BEC5",
                                "#B0BEC5",
                                "#B0BEC5",
                                "#B0BEC5",
                                "#B0BEC5",
                                "#B0BEC5",
                                "#B0BEC5",
                                "#B0BEC5",
                                "#B0BEC5",
                                "#B0BEC5",
                                "red",
                                "#B0BEC5",
                                "#B0BEC5",
                                "#B0BEC5",
                                "#B0BEC5",
                                "#B0BEC5",
                                "#B0BEC5",
                                "#B0BEC5",
                                "#B0BEC5",
                                "#B0BEC5",
                                "#B0BEC5",
                                "#B0BEC5",
                                "#B0BEC5",
                                "#B0BEC5",
                                "#B0BEC5",
                                "#B0BEC5",
                                "#B0BEC5",
                                "#B0BEC5",
                                "#B0BEC5",
                                "#B0BEC5",
                                "#B0BEC5",
                                "#B0BEC5",
                                "#B0BEC5",
                                "#B0BEC5",
                                "#B0BEC5",
                                "#B0BEC5",
                                "#B0BEC5",
                                "#B0BEC5",
                                "#B0BEC5",
                                "#B0BEC5",
                                "#B0BEC5",
                                "#B0BEC5",
                                "#B0BEC5",
                                "#B0BEC5"
                              ]
                            ]
                          }
                        ],
                        "label": "Topic 46",
                        "method": "update"
                      },
                      {
                        "args": [
                          {
                            "marker.color": [
                              [
                                "#B0BEC5",
                                "#B0BEC5",
                                "#B0BEC5",
                                "#B0BEC5",
                                "#B0BEC5",
                                "#B0BEC5",
                                "#B0BEC5",
                                "#B0BEC5",
                                "#B0BEC5",
                                "#B0BEC5",
                                "#B0BEC5",
                                "#B0BEC5",
                                "#B0BEC5",
                                "#B0BEC5",
                                "#B0BEC5",
                                "#B0BEC5",
                                "#B0BEC5",
                                "#B0BEC5",
                                "#B0BEC5",
                                "#B0BEC5",
                                "#B0BEC5",
                                "#B0BEC5",
                                "#B0BEC5",
                                "#B0BEC5",
                                "#B0BEC5",
                                "#B0BEC5",
                                "#B0BEC5",
                                "#B0BEC5",
                                "#B0BEC5",
                                "#B0BEC5",
                                "#B0BEC5",
                                "#B0BEC5",
                                "#B0BEC5",
                                "#B0BEC5",
                                "#B0BEC5",
                                "#B0BEC5",
                                "#B0BEC5",
                                "#B0BEC5",
                                "#B0BEC5",
                                "#B0BEC5",
                                "#B0BEC5",
                                "#B0BEC5",
                                "#B0BEC5",
                                "#B0BEC5",
                                "#B0BEC5",
                                "#B0BEC5",
                                "#B0BEC5",
                                "red",
                                "#B0BEC5",
                                "#B0BEC5",
                                "#B0BEC5",
                                "#B0BEC5",
                                "#B0BEC5",
                                "#B0BEC5",
                                "#B0BEC5",
                                "#B0BEC5",
                                "#B0BEC5",
                                "#B0BEC5",
                                "#B0BEC5",
                                "#B0BEC5",
                                "#B0BEC5",
                                "#B0BEC5",
                                "#B0BEC5",
                                "#B0BEC5",
                                "#B0BEC5",
                                "#B0BEC5",
                                "#B0BEC5",
                                "#B0BEC5",
                                "#B0BEC5",
                                "#B0BEC5",
                                "#B0BEC5",
                                "#B0BEC5",
                                "#B0BEC5",
                                "#B0BEC5",
                                "#B0BEC5",
                                "#B0BEC5",
                                "#B0BEC5",
                                "#B0BEC5",
                                "#B0BEC5",
                                "#B0BEC5"
                              ]
                            ]
                          }
                        ],
                        "label": "Topic 47",
                        "method": "update"
                      },
                      {
                        "args": [
                          {
                            "marker.color": [
                              [
                                "#B0BEC5",
                                "#B0BEC5",
                                "#B0BEC5",
                                "#B0BEC5",
                                "#B0BEC5",
                                "#B0BEC5",
                                "#B0BEC5",
                                "#B0BEC5",
                                "#B0BEC5",
                                "#B0BEC5",
                                "#B0BEC5",
                                "#B0BEC5",
                                "#B0BEC5",
                                "#B0BEC5",
                                "#B0BEC5",
                                "#B0BEC5",
                                "#B0BEC5",
                                "#B0BEC5",
                                "#B0BEC5",
                                "#B0BEC5",
                                "#B0BEC5",
                                "#B0BEC5",
                                "#B0BEC5",
                                "#B0BEC5",
                                "#B0BEC5",
                                "#B0BEC5",
                                "#B0BEC5",
                                "#B0BEC5",
                                "#B0BEC5",
                                "#B0BEC5",
                                "#B0BEC5",
                                "#B0BEC5",
                                "#B0BEC5",
                                "#B0BEC5",
                                "#B0BEC5",
                                "#B0BEC5",
                                "#B0BEC5",
                                "#B0BEC5",
                                "#B0BEC5",
                                "#B0BEC5",
                                "#B0BEC5",
                                "#B0BEC5",
                                "#B0BEC5",
                                "#B0BEC5",
                                "#B0BEC5",
                                "#B0BEC5",
                                "#B0BEC5",
                                "#B0BEC5",
                                "red",
                                "#B0BEC5",
                                "#B0BEC5",
                                "#B0BEC5",
                                "#B0BEC5",
                                "#B0BEC5",
                                "#B0BEC5",
                                "#B0BEC5",
                                "#B0BEC5",
                                "#B0BEC5",
                                "#B0BEC5",
                                "#B0BEC5",
                                "#B0BEC5",
                                "#B0BEC5",
                                "#B0BEC5",
                                "#B0BEC5",
                                "#B0BEC5",
                                "#B0BEC5",
                                "#B0BEC5",
                                "#B0BEC5",
                                "#B0BEC5",
                                "#B0BEC5",
                                "#B0BEC5",
                                "#B0BEC5",
                                "#B0BEC5",
                                "#B0BEC5",
                                "#B0BEC5",
                                "#B0BEC5",
                                "#B0BEC5",
                                "#B0BEC5",
                                "#B0BEC5",
                                "#B0BEC5"
                              ]
                            ]
                          }
                        ],
                        "label": "Topic 48",
                        "method": "update"
                      },
                      {
                        "args": [
                          {
                            "marker.color": [
                              [
                                "#B0BEC5",
                                "#B0BEC5",
                                "#B0BEC5",
                                "#B0BEC5",
                                "#B0BEC5",
                                "#B0BEC5",
                                "#B0BEC5",
                                "#B0BEC5",
                                "#B0BEC5",
                                "#B0BEC5",
                                "#B0BEC5",
                                "#B0BEC5",
                                "#B0BEC5",
                                "#B0BEC5",
                                "#B0BEC5",
                                "#B0BEC5",
                                "#B0BEC5",
                                "#B0BEC5",
                                "#B0BEC5",
                                "#B0BEC5",
                                "#B0BEC5",
                                "#B0BEC5",
                                "#B0BEC5",
                                "#B0BEC5",
                                "#B0BEC5",
                                "#B0BEC5",
                                "#B0BEC5",
                                "#B0BEC5",
                                "#B0BEC5",
                                "#B0BEC5",
                                "#B0BEC5",
                                "#B0BEC5",
                                "#B0BEC5",
                                "#B0BEC5",
                                "#B0BEC5",
                                "#B0BEC5",
                                "#B0BEC5",
                                "#B0BEC5",
                                "#B0BEC5",
                                "#B0BEC5",
                                "#B0BEC5",
                                "#B0BEC5",
                                "#B0BEC5",
                                "#B0BEC5",
                                "#B0BEC5",
                                "#B0BEC5",
                                "#B0BEC5",
                                "#B0BEC5",
                                "#B0BEC5",
                                "red",
                                "#B0BEC5",
                                "#B0BEC5",
                                "#B0BEC5",
                                "#B0BEC5",
                                "#B0BEC5",
                                "#B0BEC5",
                                "#B0BEC5",
                                "#B0BEC5",
                                "#B0BEC5",
                                "#B0BEC5",
                                "#B0BEC5",
                                "#B0BEC5",
                                "#B0BEC5",
                                "#B0BEC5",
                                "#B0BEC5",
                                "#B0BEC5",
                                "#B0BEC5",
                                "#B0BEC5",
                                "#B0BEC5",
                                "#B0BEC5",
                                "#B0BEC5",
                                "#B0BEC5",
                                "#B0BEC5",
                                "#B0BEC5",
                                "#B0BEC5",
                                "#B0BEC5",
                                "#B0BEC5",
                                "#B0BEC5",
                                "#B0BEC5",
                                "#B0BEC5"
                              ]
                            ]
                          }
                        ],
                        "label": "Topic 49",
                        "method": "update"
                      },
                      {
                        "args": [
                          {
                            "marker.color": [
                              [
                                "#B0BEC5",
                                "#B0BEC5",
                                "#B0BEC5",
                                "#B0BEC5",
                                "#B0BEC5",
                                "#B0BEC5",
                                "#B0BEC5",
                                "#B0BEC5",
                                "#B0BEC5",
                                "#B0BEC5",
                                "#B0BEC5",
                                "#B0BEC5",
                                "#B0BEC5",
                                "#B0BEC5",
                                "#B0BEC5",
                                "#B0BEC5",
                                "#B0BEC5",
                                "#B0BEC5",
                                "#B0BEC5",
                                "#B0BEC5",
                                "#B0BEC5",
                                "#B0BEC5",
                                "#B0BEC5",
                                "#B0BEC5",
                                "#B0BEC5",
                                "#B0BEC5",
                                "#B0BEC5",
                                "#B0BEC5",
                                "#B0BEC5",
                                "#B0BEC5",
                                "#B0BEC5",
                                "#B0BEC5",
                                "#B0BEC5",
                                "#B0BEC5",
                                "#B0BEC5",
                                "#B0BEC5",
                                "#B0BEC5",
                                "#B0BEC5",
                                "#B0BEC5",
                                "#B0BEC5",
                                "#B0BEC5",
                                "#B0BEC5",
                                "#B0BEC5",
                                "#B0BEC5",
                                "#B0BEC5",
                                "#B0BEC5",
                                "#B0BEC5",
                                "#B0BEC5",
                                "#B0BEC5",
                                "#B0BEC5",
                                "red",
                                "#B0BEC5",
                                "#B0BEC5",
                                "#B0BEC5",
                                "#B0BEC5",
                                "#B0BEC5",
                                "#B0BEC5",
                                "#B0BEC5",
                                "#B0BEC5",
                                "#B0BEC5",
                                "#B0BEC5",
                                "#B0BEC5",
                                "#B0BEC5",
                                "#B0BEC5",
                                "#B0BEC5",
                                "#B0BEC5",
                                "#B0BEC5",
                                "#B0BEC5",
                                "#B0BEC5",
                                "#B0BEC5",
                                "#B0BEC5",
                                "#B0BEC5",
                                "#B0BEC5",
                                "#B0BEC5",
                                "#B0BEC5",
                                "#B0BEC5",
                                "#B0BEC5",
                                "#B0BEC5",
                                "#B0BEC5",
                                "#B0BEC5"
                              ]
                            ]
                          }
                        ],
                        "label": "Topic 50",
                        "method": "update"
                      },
                      {
                        "args": [
                          {
                            "marker.color": [
                              [
                                "#B0BEC5",
                                "#B0BEC5",
                                "#B0BEC5",
                                "#B0BEC5",
                                "#B0BEC5",
                                "#B0BEC5",
                                "#B0BEC5",
                                "#B0BEC5",
                                "#B0BEC5",
                                "#B0BEC5",
                                "#B0BEC5",
                                "#B0BEC5",
                                "#B0BEC5",
                                "#B0BEC5",
                                "#B0BEC5",
                                "#B0BEC5",
                                "#B0BEC5",
                                "#B0BEC5",
                                "#B0BEC5",
                                "#B0BEC5",
                                "#B0BEC5",
                                "#B0BEC5",
                                "#B0BEC5",
                                "#B0BEC5",
                                "#B0BEC5",
                                "#B0BEC5",
                                "#B0BEC5",
                                "#B0BEC5",
                                "#B0BEC5",
                                "#B0BEC5",
                                "#B0BEC5",
                                "#B0BEC5",
                                "#B0BEC5",
                                "#B0BEC5",
                                "#B0BEC5",
                                "#B0BEC5",
                                "#B0BEC5",
                                "#B0BEC5",
                                "#B0BEC5",
                                "#B0BEC5",
                                "#B0BEC5",
                                "#B0BEC5",
                                "#B0BEC5",
                                "#B0BEC5",
                                "#B0BEC5",
                                "#B0BEC5",
                                "#B0BEC5",
                                "#B0BEC5",
                                "#B0BEC5",
                                "#B0BEC5",
                                "#B0BEC5",
                                "red",
                                "#B0BEC5",
                                "#B0BEC5",
                                "#B0BEC5",
                                "#B0BEC5",
                                "#B0BEC5",
                                "#B0BEC5",
                                "#B0BEC5",
                                "#B0BEC5",
                                "#B0BEC5",
                                "#B0BEC5",
                                "#B0BEC5",
                                "#B0BEC5",
                                "#B0BEC5",
                                "#B0BEC5",
                                "#B0BEC5",
                                "#B0BEC5",
                                "#B0BEC5",
                                "#B0BEC5",
                                "#B0BEC5",
                                "#B0BEC5",
                                "#B0BEC5",
                                "#B0BEC5",
                                "#B0BEC5",
                                "#B0BEC5",
                                "#B0BEC5",
                                "#B0BEC5",
                                "#B0BEC5",
                                "#B0BEC5"
                              ]
                            ]
                          }
                        ],
                        "label": "Topic 51",
                        "method": "update"
                      },
                      {
                        "args": [
                          {
                            "marker.color": [
                              [
                                "#B0BEC5",
                                "#B0BEC5",
                                "#B0BEC5",
                                "#B0BEC5",
                                "#B0BEC5",
                                "#B0BEC5",
                                "#B0BEC5",
                                "#B0BEC5",
                                "#B0BEC5",
                                "#B0BEC5",
                                "#B0BEC5",
                                "#B0BEC5",
                                "#B0BEC5",
                                "#B0BEC5",
                                "#B0BEC5",
                                "#B0BEC5",
                                "#B0BEC5",
                                "#B0BEC5",
                                "#B0BEC5",
                                "#B0BEC5",
                                "#B0BEC5",
                                "#B0BEC5",
                                "#B0BEC5",
                                "#B0BEC5",
                                "#B0BEC5",
                                "#B0BEC5",
                                "#B0BEC5",
                                "#B0BEC5",
                                "#B0BEC5",
                                "#B0BEC5",
                                "#B0BEC5",
                                "#B0BEC5",
                                "#B0BEC5",
                                "#B0BEC5",
                                "#B0BEC5",
                                "#B0BEC5",
                                "#B0BEC5",
                                "#B0BEC5",
                                "#B0BEC5",
                                "#B0BEC5",
                                "#B0BEC5",
                                "#B0BEC5",
                                "#B0BEC5",
                                "#B0BEC5",
                                "#B0BEC5",
                                "#B0BEC5",
                                "#B0BEC5",
                                "#B0BEC5",
                                "#B0BEC5",
                                "#B0BEC5",
                                "#B0BEC5",
                                "#B0BEC5",
                                "red",
                                "#B0BEC5",
                                "#B0BEC5",
                                "#B0BEC5",
                                "#B0BEC5",
                                "#B0BEC5",
                                "#B0BEC5",
                                "#B0BEC5",
                                "#B0BEC5",
                                "#B0BEC5",
                                "#B0BEC5",
                                "#B0BEC5",
                                "#B0BEC5",
                                "#B0BEC5",
                                "#B0BEC5",
                                "#B0BEC5",
                                "#B0BEC5",
                                "#B0BEC5",
                                "#B0BEC5",
                                "#B0BEC5",
                                "#B0BEC5",
                                "#B0BEC5",
                                "#B0BEC5",
                                "#B0BEC5",
                                "#B0BEC5",
                                "#B0BEC5",
                                "#B0BEC5",
                                "#B0BEC5"
                              ]
                            ]
                          }
                        ],
                        "label": "Topic 52",
                        "method": "update"
                      },
                      {
                        "args": [
                          {
                            "marker.color": [
                              [
                                "#B0BEC5",
                                "#B0BEC5",
                                "#B0BEC5",
                                "#B0BEC5",
                                "#B0BEC5",
                                "#B0BEC5",
                                "#B0BEC5",
                                "#B0BEC5",
                                "#B0BEC5",
                                "#B0BEC5",
                                "#B0BEC5",
                                "#B0BEC5",
                                "#B0BEC5",
                                "#B0BEC5",
                                "#B0BEC5",
                                "#B0BEC5",
                                "#B0BEC5",
                                "#B0BEC5",
                                "#B0BEC5",
                                "#B0BEC5",
                                "#B0BEC5",
                                "#B0BEC5",
                                "#B0BEC5",
                                "#B0BEC5",
                                "#B0BEC5",
                                "#B0BEC5",
                                "#B0BEC5",
                                "#B0BEC5",
                                "#B0BEC5",
                                "#B0BEC5",
                                "#B0BEC5",
                                "#B0BEC5",
                                "#B0BEC5",
                                "#B0BEC5",
                                "#B0BEC5",
                                "#B0BEC5",
                                "#B0BEC5",
                                "#B0BEC5",
                                "#B0BEC5",
                                "#B0BEC5",
                                "#B0BEC5",
                                "#B0BEC5",
                                "#B0BEC5",
                                "#B0BEC5",
                                "#B0BEC5",
                                "#B0BEC5",
                                "#B0BEC5",
                                "#B0BEC5",
                                "#B0BEC5",
                                "#B0BEC5",
                                "#B0BEC5",
                                "#B0BEC5",
                                "#B0BEC5",
                                "red",
                                "#B0BEC5",
                                "#B0BEC5",
                                "#B0BEC5",
                                "#B0BEC5",
                                "#B0BEC5",
                                "#B0BEC5",
                                "#B0BEC5",
                                "#B0BEC5",
                                "#B0BEC5",
                                "#B0BEC5",
                                "#B0BEC5",
                                "#B0BEC5",
                                "#B0BEC5",
                                "#B0BEC5",
                                "#B0BEC5",
                                "#B0BEC5",
                                "#B0BEC5",
                                "#B0BEC5",
                                "#B0BEC5",
                                "#B0BEC5",
                                "#B0BEC5",
                                "#B0BEC5",
                                "#B0BEC5",
                                "#B0BEC5",
                                "#B0BEC5",
                                "#B0BEC5"
                              ]
                            ]
                          }
                        ],
                        "label": "Topic 53",
                        "method": "update"
                      },
                      {
                        "args": [
                          {
                            "marker.color": [
                              [
                                "#B0BEC5",
                                "#B0BEC5",
                                "#B0BEC5",
                                "#B0BEC5",
                                "#B0BEC5",
                                "#B0BEC5",
                                "#B0BEC5",
                                "#B0BEC5",
                                "#B0BEC5",
                                "#B0BEC5",
                                "#B0BEC5",
                                "#B0BEC5",
                                "#B0BEC5",
                                "#B0BEC5",
                                "#B0BEC5",
                                "#B0BEC5",
                                "#B0BEC5",
                                "#B0BEC5",
                                "#B0BEC5",
                                "#B0BEC5",
                                "#B0BEC5",
                                "#B0BEC5",
                                "#B0BEC5",
                                "#B0BEC5",
                                "#B0BEC5",
                                "#B0BEC5",
                                "#B0BEC5",
                                "#B0BEC5",
                                "#B0BEC5",
                                "#B0BEC5",
                                "#B0BEC5",
                                "#B0BEC5",
                                "#B0BEC5",
                                "#B0BEC5",
                                "#B0BEC5",
                                "#B0BEC5",
                                "#B0BEC5",
                                "#B0BEC5",
                                "#B0BEC5",
                                "#B0BEC5",
                                "#B0BEC5",
                                "#B0BEC5",
                                "#B0BEC5",
                                "#B0BEC5",
                                "#B0BEC5",
                                "#B0BEC5",
                                "#B0BEC5",
                                "#B0BEC5",
                                "#B0BEC5",
                                "#B0BEC5",
                                "#B0BEC5",
                                "#B0BEC5",
                                "#B0BEC5",
                                "#B0BEC5",
                                "red",
                                "#B0BEC5",
                                "#B0BEC5",
                                "#B0BEC5",
                                "#B0BEC5",
                                "#B0BEC5",
                                "#B0BEC5",
                                "#B0BEC5",
                                "#B0BEC5",
                                "#B0BEC5",
                                "#B0BEC5",
                                "#B0BEC5",
                                "#B0BEC5",
                                "#B0BEC5",
                                "#B0BEC5",
                                "#B0BEC5",
                                "#B0BEC5",
                                "#B0BEC5",
                                "#B0BEC5",
                                "#B0BEC5",
                                "#B0BEC5",
                                "#B0BEC5",
                                "#B0BEC5",
                                "#B0BEC5",
                                "#B0BEC5",
                                "#B0BEC5"
                              ]
                            ]
                          }
                        ],
                        "label": "Topic 54",
                        "method": "update"
                      },
                      {
                        "args": [
                          {
                            "marker.color": [
                              [
                                "#B0BEC5",
                                "#B0BEC5",
                                "#B0BEC5",
                                "#B0BEC5",
                                "#B0BEC5",
                                "#B0BEC5",
                                "#B0BEC5",
                                "#B0BEC5",
                                "#B0BEC5",
                                "#B0BEC5",
                                "#B0BEC5",
                                "#B0BEC5",
                                "#B0BEC5",
                                "#B0BEC5",
                                "#B0BEC5",
                                "#B0BEC5",
                                "#B0BEC5",
                                "#B0BEC5",
                                "#B0BEC5",
                                "#B0BEC5",
                                "#B0BEC5",
                                "#B0BEC5",
                                "#B0BEC5",
                                "#B0BEC5",
                                "#B0BEC5",
                                "#B0BEC5",
                                "#B0BEC5",
                                "#B0BEC5",
                                "#B0BEC5",
                                "#B0BEC5",
                                "#B0BEC5",
                                "#B0BEC5",
                                "#B0BEC5",
                                "#B0BEC5",
                                "#B0BEC5",
                                "#B0BEC5",
                                "#B0BEC5",
                                "#B0BEC5",
                                "#B0BEC5",
                                "#B0BEC5",
                                "#B0BEC5",
                                "#B0BEC5",
                                "#B0BEC5",
                                "#B0BEC5",
                                "#B0BEC5",
                                "#B0BEC5",
                                "#B0BEC5",
                                "#B0BEC5",
                                "#B0BEC5",
                                "#B0BEC5",
                                "#B0BEC5",
                                "#B0BEC5",
                                "#B0BEC5",
                                "#B0BEC5",
                                "#B0BEC5",
                                "red",
                                "#B0BEC5",
                                "#B0BEC5",
                                "#B0BEC5",
                                "#B0BEC5",
                                "#B0BEC5",
                                "#B0BEC5",
                                "#B0BEC5",
                                "#B0BEC5",
                                "#B0BEC5",
                                "#B0BEC5",
                                "#B0BEC5",
                                "#B0BEC5",
                                "#B0BEC5",
                                "#B0BEC5",
                                "#B0BEC5",
                                "#B0BEC5",
                                "#B0BEC5",
                                "#B0BEC5",
                                "#B0BEC5",
                                "#B0BEC5",
                                "#B0BEC5",
                                "#B0BEC5",
                                "#B0BEC5",
                                "#B0BEC5"
                              ]
                            ]
                          }
                        ],
                        "label": "Topic 55",
                        "method": "update"
                      },
                      {
                        "args": [
                          {
                            "marker.color": [
                              [
                                "#B0BEC5",
                                "#B0BEC5",
                                "#B0BEC5",
                                "#B0BEC5",
                                "#B0BEC5",
                                "#B0BEC5",
                                "#B0BEC5",
                                "#B0BEC5",
                                "#B0BEC5",
                                "#B0BEC5",
                                "#B0BEC5",
                                "#B0BEC5",
                                "#B0BEC5",
                                "#B0BEC5",
                                "#B0BEC5",
                                "#B0BEC5",
                                "#B0BEC5",
                                "#B0BEC5",
                                "#B0BEC5",
                                "#B0BEC5",
                                "#B0BEC5",
                                "#B0BEC5",
                                "#B0BEC5",
                                "#B0BEC5",
                                "#B0BEC5",
                                "#B0BEC5",
                                "#B0BEC5",
                                "#B0BEC5",
                                "#B0BEC5",
                                "#B0BEC5",
                                "#B0BEC5",
                                "#B0BEC5",
                                "#B0BEC5",
                                "#B0BEC5",
                                "#B0BEC5",
                                "#B0BEC5",
                                "#B0BEC5",
                                "#B0BEC5",
                                "#B0BEC5",
                                "#B0BEC5",
                                "#B0BEC5",
                                "#B0BEC5",
                                "#B0BEC5",
                                "#B0BEC5",
                                "#B0BEC5",
                                "#B0BEC5",
                                "#B0BEC5",
                                "#B0BEC5",
                                "#B0BEC5",
                                "#B0BEC5",
                                "#B0BEC5",
                                "#B0BEC5",
                                "#B0BEC5",
                                "#B0BEC5",
                                "#B0BEC5",
                                "#B0BEC5",
                                "red",
                                "#B0BEC5",
                                "#B0BEC5",
                                "#B0BEC5",
                                "#B0BEC5",
                                "#B0BEC5",
                                "#B0BEC5",
                                "#B0BEC5",
                                "#B0BEC5",
                                "#B0BEC5",
                                "#B0BEC5",
                                "#B0BEC5",
                                "#B0BEC5",
                                "#B0BEC5",
                                "#B0BEC5",
                                "#B0BEC5",
                                "#B0BEC5",
                                "#B0BEC5",
                                "#B0BEC5",
                                "#B0BEC5",
                                "#B0BEC5",
                                "#B0BEC5",
                                "#B0BEC5",
                                "#B0BEC5"
                              ]
                            ]
                          }
                        ],
                        "label": "Topic 56",
                        "method": "update"
                      },
                      {
                        "args": [
                          {
                            "marker.color": [
                              [
                                "#B0BEC5",
                                "#B0BEC5",
                                "#B0BEC5",
                                "#B0BEC5",
                                "#B0BEC5",
                                "#B0BEC5",
                                "#B0BEC5",
                                "#B0BEC5",
                                "#B0BEC5",
                                "#B0BEC5",
                                "#B0BEC5",
                                "#B0BEC5",
                                "#B0BEC5",
                                "#B0BEC5",
                                "#B0BEC5",
                                "#B0BEC5",
                                "#B0BEC5",
                                "#B0BEC5",
                                "#B0BEC5",
                                "#B0BEC5",
                                "#B0BEC5",
                                "#B0BEC5",
                                "#B0BEC5",
                                "#B0BEC5",
                                "#B0BEC5",
                                "#B0BEC5",
                                "#B0BEC5",
                                "#B0BEC5",
                                "#B0BEC5",
                                "#B0BEC5",
                                "#B0BEC5",
                                "#B0BEC5",
                                "#B0BEC5",
                                "#B0BEC5",
                                "#B0BEC5",
                                "#B0BEC5",
                                "#B0BEC5",
                                "#B0BEC5",
                                "#B0BEC5",
                                "#B0BEC5",
                                "#B0BEC5",
                                "#B0BEC5",
                                "#B0BEC5",
                                "#B0BEC5",
                                "#B0BEC5",
                                "#B0BEC5",
                                "#B0BEC5",
                                "#B0BEC5",
                                "#B0BEC5",
                                "#B0BEC5",
                                "#B0BEC5",
                                "#B0BEC5",
                                "#B0BEC5",
                                "#B0BEC5",
                                "#B0BEC5",
                                "#B0BEC5",
                                "#B0BEC5",
                                "red",
                                "#B0BEC5",
                                "#B0BEC5",
                                "#B0BEC5",
                                "#B0BEC5",
                                "#B0BEC5",
                                "#B0BEC5",
                                "#B0BEC5",
                                "#B0BEC5",
                                "#B0BEC5",
                                "#B0BEC5",
                                "#B0BEC5",
                                "#B0BEC5",
                                "#B0BEC5",
                                "#B0BEC5",
                                "#B0BEC5",
                                "#B0BEC5",
                                "#B0BEC5",
                                "#B0BEC5",
                                "#B0BEC5",
                                "#B0BEC5",
                                "#B0BEC5",
                                "#B0BEC5"
                              ]
                            ]
                          }
                        ],
                        "label": "Topic 57",
                        "method": "update"
                      },
                      {
                        "args": [
                          {
                            "marker.color": [
                              [
                                "#B0BEC5",
                                "#B0BEC5",
                                "#B0BEC5",
                                "#B0BEC5",
                                "#B0BEC5",
                                "#B0BEC5",
                                "#B0BEC5",
                                "#B0BEC5",
                                "#B0BEC5",
                                "#B0BEC5",
                                "#B0BEC5",
                                "#B0BEC5",
                                "#B0BEC5",
                                "#B0BEC5",
                                "#B0BEC5",
                                "#B0BEC5",
                                "#B0BEC5",
                                "#B0BEC5",
                                "#B0BEC5",
                                "#B0BEC5",
                                "#B0BEC5",
                                "#B0BEC5",
                                "#B0BEC5",
                                "#B0BEC5",
                                "#B0BEC5",
                                "#B0BEC5",
                                "#B0BEC5",
                                "#B0BEC5",
                                "#B0BEC5",
                                "#B0BEC5",
                                "#B0BEC5",
                                "#B0BEC5",
                                "#B0BEC5",
                                "#B0BEC5",
                                "#B0BEC5",
                                "#B0BEC5",
                                "#B0BEC5",
                                "#B0BEC5",
                                "#B0BEC5",
                                "#B0BEC5",
                                "#B0BEC5",
                                "#B0BEC5",
                                "#B0BEC5",
                                "#B0BEC5",
                                "#B0BEC5",
                                "#B0BEC5",
                                "#B0BEC5",
                                "#B0BEC5",
                                "#B0BEC5",
                                "#B0BEC5",
                                "#B0BEC5",
                                "#B0BEC5",
                                "#B0BEC5",
                                "#B0BEC5",
                                "#B0BEC5",
                                "#B0BEC5",
                                "#B0BEC5",
                                "#B0BEC5",
                                "red",
                                "#B0BEC5",
                                "#B0BEC5",
                                "#B0BEC5",
                                "#B0BEC5",
                                "#B0BEC5",
                                "#B0BEC5",
                                "#B0BEC5",
                                "#B0BEC5",
                                "#B0BEC5",
                                "#B0BEC5",
                                "#B0BEC5",
                                "#B0BEC5",
                                "#B0BEC5",
                                "#B0BEC5",
                                "#B0BEC5",
                                "#B0BEC5",
                                "#B0BEC5",
                                "#B0BEC5",
                                "#B0BEC5",
                                "#B0BEC5",
                                "#B0BEC5"
                              ]
                            ]
                          }
                        ],
                        "label": "Topic 58",
                        "method": "update"
                      },
                      {
                        "args": [
                          {
                            "marker.color": [
                              [
                                "#B0BEC5",
                                "#B0BEC5",
                                "#B0BEC5",
                                "#B0BEC5",
                                "#B0BEC5",
                                "#B0BEC5",
                                "#B0BEC5",
                                "#B0BEC5",
                                "#B0BEC5",
                                "#B0BEC5",
                                "#B0BEC5",
                                "#B0BEC5",
                                "#B0BEC5",
                                "#B0BEC5",
                                "#B0BEC5",
                                "#B0BEC5",
                                "#B0BEC5",
                                "#B0BEC5",
                                "#B0BEC5",
                                "#B0BEC5",
                                "#B0BEC5",
                                "#B0BEC5",
                                "#B0BEC5",
                                "#B0BEC5",
                                "#B0BEC5",
                                "#B0BEC5",
                                "#B0BEC5",
                                "#B0BEC5",
                                "#B0BEC5",
                                "#B0BEC5",
                                "#B0BEC5",
                                "#B0BEC5",
                                "#B0BEC5",
                                "#B0BEC5",
                                "#B0BEC5",
                                "#B0BEC5",
                                "#B0BEC5",
                                "#B0BEC5",
                                "#B0BEC5",
                                "#B0BEC5",
                                "#B0BEC5",
                                "#B0BEC5",
                                "#B0BEC5",
                                "#B0BEC5",
                                "#B0BEC5",
                                "#B0BEC5",
                                "#B0BEC5",
                                "#B0BEC5",
                                "#B0BEC5",
                                "#B0BEC5",
                                "#B0BEC5",
                                "#B0BEC5",
                                "#B0BEC5",
                                "#B0BEC5",
                                "#B0BEC5",
                                "#B0BEC5",
                                "#B0BEC5",
                                "#B0BEC5",
                                "#B0BEC5",
                                "red",
                                "#B0BEC5",
                                "#B0BEC5",
                                "#B0BEC5",
                                "#B0BEC5",
                                "#B0BEC5",
                                "#B0BEC5",
                                "#B0BEC5",
                                "#B0BEC5",
                                "#B0BEC5",
                                "#B0BEC5",
                                "#B0BEC5",
                                "#B0BEC5",
                                "#B0BEC5",
                                "#B0BEC5",
                                "#B0BEC5",
                                "#B0BEC5",
                                "#B0BEC5",
                                "#B0BEC5",
                                "#B0BEC5",
                                "#B0BEC5"
                              ]
                            ]
                          }
                        ],
                        "label": "Topic 59",
                        "method": "update"
                      },
                      {
                        "args": [
                          {
                            "marker.color": [
                              [
                                "#B0BEC5",
                                "#B0BEC5",
                                "#B0BEC5",
                                "#B0BEC5",
                                "#B0BEC5",
                                "#B0BEC5",
                                "#B0BEC5",
                                "#B0BEC5",
                                "#B0BEC5",
                                "#B0BEC5",
                                "#B0BEC5",
                                "#B0BEC5",
                                "#B0BEC5",
                                "#B0BEC5",
                                "#B0BEC5",
                                "#B0BEC5",
                                "#B0BEC5",
                                "#B0BEC5",
                                "#B0BEC5",
                                "#B0BEC5",
                                "#B0BEC5",
                                "#B0BEC5",
                                "#B0BEC5",
                                "#B0BEC5",
                                "#B0BEC5",
                                "#B0BEC5",
                                "#B0BEC5",
                                "#B0BEC5",
                                "#B0BEC5",
                                "#B0BEC5",
                                "#B0BEC5",
                                "#B0BEC5",
                                "#B0BEC5",
                                "#B0BEC5",
                                "#B0BEC5",
                                "#B0BEC5",
                                "#B0BEC5",
                                "#B0BEC5",
                                "#B0BEC5",
                                "#B0BEC5",
                                "#B0BEC5",
                                "#B0BEC5",
                                "#B0BEC5",
                                "#B0BEC5",
                                "#B0BEC5",
                                "#B0BEC5",
                                "#B0BEC5",
                                "#B0BEC5",
                                "#B0BEC5",
                                "#B0BEC5",
                                "#B0BEC5",
                                "#B0BEC5",
                                "#B0BEC5",
                                "#B0BEC5",
                                "#B0BEC5",
                                "#B0BEC5",
                                "#B0BEC5",
                                "#B0BEC5",
                                "#B0BEC5",
                                "#B0BEC5",
                                "red",
                                "#B0BEC5",
                                "#B0BEC5",
                                "#B0BEC5",
                                "#B0BEC5",
                                "#B0BEC5",
                                "#B0BEC5",
                                "#B0BEC5",
                                "#B0BEC5",
                                "#B0BEC5",
                                "#B0BEC5",
                                "#B0BEC5",
                                "#B0BEC5",
                                "#B0BEC5",
                                "#B0BEC5",
                                "#B0BEC5",
                                "#B0BEC5",
                                "#B0BEC5",
                                "#B0BEC5",
                                "#B0BEC5"
                              ]
                            ]
                          }
                        ],
                        "label": "Topic 60",
                        "method": "update"
                      },
                      {
                        "args": [
                          {
                            "marker.color": [
                              [
                                "#B0BEC5",
                                "#B0BEC5",
                                "#B0BEC5",
                                "#B0BEC5",
                                "#B0BEC5",
                                "#B0BEC5",
                                "#B0BEC5",
                                "#B0BEC5",
                                "#B0BEC5",
                                "#B0BEC5",
                                "#B0BEC5",
                                "#B0BEC5",
                                "#B0BEC5",
                                "#B0BEC5",
                                "#B0BEC5",
                                "#B0BEC5",
                                "#B0BEC5",
                                "#B0BEC5",
                                "#B0BEC5",
                                "#B0BEC5",
                                "#B0BEC5",
                                "#B0BEC5",
                                "#B0BEC5",
                                "#B0BEC5",
                                "#B0BEC5",
                                "#B0BEC5",
                                "#B0BEC5",
                                "#B0BEC5",
                                "#B0BEC5",
                                "#B0BEC5",
                                "#B0BEC5",
                                "#B0BEC5",
                                "#B0BEC5",
                                "#B0BEC5",
                                "#B0BEC5",
                                "#B0BEC5",
                                "#B0BEC5",
                                "#B0BEC5",
                                "#B0BEC5",
                                "#B0BEC5",
                                "#B0BEC5",
                                "#B0BEC5",
                                "#B0BEC5",
                                "#B0BEC5",
                                "#B0BEC5",
                                "#B0BEC5",
                                "#B0BEC5",
                                "#B0BEC5",
                                "#B0BEC5",
                                "#B0BEC5",
                                "#B0BEC5",
                                "#B0BEC5",
                                "#B0BEC5",
                                "#B0BEC5",
                                "#B0BEC5",
                                "#B0BEC5",
                                "#B0BEC5",
                                "#B0BEC5",
                                "#B0BEC5",
                                "#B0BEC5",
                                "#B0BEC5",
                                "red",
                                "#B0BEC5",
                                "#B0BEC5",
                                "#B0BEC5",
                                "#B0BEC5",
                                "#B0BEC5",
                                "#B0BEC5",
                                "#B0BEC5",
                                "#B0BEC5",
                                "#B0BEC5",
                                "#B0BEC5",
                                "#B0BEC5",
                                "#B0BEC5",
                                "#B0BEC5",
                                "#B0BEC5",
                                "#B0BEC5",
                                "#B0BEC5",
                                "#B0BEC5",
                                "#B0BEC5"
                              ]
                            ]
                          }
                        ],
                        "label": "Topic 61",
                        "method": "update"
                      },
                      {
                        "args": [
                          {
                            "marker.color": [
                              [
                                "#B0BEC5",
                                "#B0BEC5",
                                "#B0BEC5",
                                "#B0BEC5",
                                "#B0BEC5",
                                "#B0BEC5",
                                "#B0BEC5",
                                "#B0BEC5",
                                "#B0BEC5",
                                "#B0BEC5",
                                "#B0BEC5",
                                "#B0BEC5",
                                "#B0BEC5",
                                "#B0BEC5",
                                "#B0BEC5",
                                "#B0BEC5",
                                "#B0BEC5",
                                "#B0BEC5",
                                "#B0BEC5",
                                "#B0BEC5",
                                "#B0BEC5",
                                "#B0BEC5",
                                "#B0BEC5",
                                "#B0BEC5",
                                "#B0BEC5",
                                "#B0BEC5",
                                "#B0BEC5",
                                "#B0BEC5",
                                "#B0BEC5",
                                "#B0BEC5",
                                "#B0BEC5",
                                "#B0BEC5",
                                "#B0BEC5",
                                "#B0BEC5",
                                "#B0BEC5",
                                "#B0BEC5",
                                "#B0BEC5",
                                "#B0BEC5",
                                "#B0BEC5",
                                "#B0BEC5",
                                "#B0BEC5",
                                "#B0BEC5",
                                "#B0BEC5",
                                "#B0BEC5",
                                "#B0BEC5",
                                "#B0BEC5",
                                "#B0BEC5",
                                "#B0BEC5",
                                "#B0BEC5",
                                "#B0BEC5",
                                "#B0BEC5",
                                "#B0BEC5",
                                "#B0BEC5",
                                "#B0BEC5",
                                "#B0BEC5",
                                "#B0BEC5",
                                "#B0BEC5",
                                "#B0BEC5",
                                "#B0BEC5",
                                "#B0BEC5",
                                "#B0BEC5",
                                "#B0BEC5",
                                "red",
                                "#B0BEC5",
                                "#B0BEC5",
                                "#B0BEC5",
                                "#B0BEC5",
                                "#B0BEC5",
                                "#B0BEC5",
                                "#B0BEC5",
                                "#B0BEC5",
                                "#B0BEC5",
                                "#B0BEC5",
                                "#B0BEC5",
                                "#B0BEC5",
                                "#B0BEC5",
                                "#B0BEC5",
                                "#B0BEC5",
                                "#B0BEC5",
                                "#B0BEC5"
                              ]
                            ]
                          }
                        ],
                        "label": "Topic 62",
                        "method": "update"
                      },
                      {
                        "args": [
                          {
                            "marker.color": [
                              [
                                "#B0BEC5",
                                "#B0BEC5",
                                "#B0BEC5",
                                "#B0BEC5",
                                "#B0BEC5",
                                "#B0BEC5",
                                "#B0BEC5",
                                "#B0BEC5",
                                "#B0BEC5",
                                "#B0BEC5",
                                "#B0BEC5",
                                "#B0BEC5",
                                "#B0BEC5",
                                "#B0BEC5",
                                "#B0BEC5",
                                "#B0BEC5",
                                "#B0BEC5",
                                "#B0BEC5",
                                "#B0BEC5",
                                "#B0BEC5",
                                "#B0BEC5",
                                "#B0BEC5",
                                "#B0BEC5",
                                "#B0BEC5",
                                "#B0BEC5",
                                "#B0BEC5",
                                "#B0BEC5",
                                "#B0BEC5",
                                "#B0BEC5",
                                "#B0BEC5",
                                "#B0BEC5",
                                "#B0BEC5",
                                "#B0BEC5",
                                "#B0BEC5",
                                "#B0BEC5",
                                "#B0BEC5",
                                "#B0BEC5",
                                "#B0BEC5",
                                "#B0BEC5",
                                "#B0BEC5",
                                "#B0BEC5",
                                "#B0BEC5",
                                "#B0BEC5",
                                "#B0BEC5",
                                "#B0BEC5",
                                "#B0BEC5",
                                "#B0BEC5",
                                "#B0BEC5",
                                "#B0BEC5",
                                "#B0BEC5",
                                "#B0BEC5",
                                "#B0BEC5",
                                "#B0BEC5",
                                "#B0BEC5",
                                "#B0BEC5",
                                "#B0BEC5",
                                "#B0BEC5",
                                "#B0BEC5",
                                "#B0BEC5",
                                "#B0BEC5",
                                "#B0BEC5",
                                "#B0BEC5",
                                "#B0BEC5",
                                "red",
                                "#B0BEC5",
                                "#B0BEC5",
                                "#B0BEC5",
                                "#B0BEC5",
                                "#B0BEC5",
                                "#B0BEC5",
                                "#B0BEC5",
                                "#B0BEC5",
                                "#B0BEC5",
                                "#B0BEC5",
                                "#B0BEC5",
                                "#B0BEC5",
                                "#B0BEC5",
                                "#B0BEC5",
                                "#B0BEC5",
                                "#B0BEC5"
                              ]
                            ]
                          }
                        ],
                        "label": "Topic 63",
                        "method": "update"
                      },
                      {
                        "args": [
                          {
                            "marker.color": [
                              [
                                "#B0BEC5",
                                "#B0BEC5",
                                "#B0BEC5",
                                "#B0BEC5",
                                "#B0BEC5",
                                "#B0BEC5",
                                "#B0BEC5",
                                "#B0BEC5",
                                "#B0BEC5",
                                "#B0BEC5",
                                "#B0BEC5",
                                "#B0BEC5",
                                "#B0BEC5",
                                "#B0BEC5",
                                "#B0BEC5",
                                "#B0BEC5",
                                "#B0BEC5",
                                "#B0BEC5",
                                "#B0BEC5",
                                "#B0BEC5",
                                "#B0BEC5",
                                "#B0BEC5",
                                "#B0BEC5",
                                "#B0BEC5",
                                "#B0BEC5",
                                "#B0BEC5",
                                "#B0BEC5",
                                "#B0BEC5",
                                "#B0BEC5",
                                "#B0BEC5",
                                "#B0BEC5",
                                "#B0BEC5",
                                "#B0BEC5",
                                "#B0BEC5",
                                "#B0BEC5",
                                "#B0BEC5",
                                "#B0BEC5",
                                "#B0BEC5",
                                "#B0BEC5",
                                "#B0BEC5",
                                "#B0BEC5",
                                "#B0BEC5",
                                "#B0BEC5",
                                "#B0BEC5",
                                "#B0BEC5",
                                "#B0BEC5",
                                "#B0BEC5",
                                "#B0BEC5",
                                "#B0BEC5",
                                "#B0BEC5",
                                "#B0BEC5",
                                "#B0BEC5",
                                "#B0BEC5",
                                "#B0BEC5",
                                "#B0BEC5",
                                "#B0BEC5",
                                "#B0BEC5",
                                "#B0BEC5",
                                "#B0BEC5",
                                "#B0BEC5",
                                "#B0BEC5",
                                "#B0BEC5",
                                "#B0BEC5",
                                "#B0BEC5",
                                "red",
                                "#B0BEC5",
                                "#B0BEC5",
                                "#B0BEC5",
                                "#B0BEC5",
                                "#B0BEC5",
                                "#B0BEC5",
                                "#B0BEC5",
                                "#B0BEC5",
                                "#B0BEC5",
                                "#B0BEC5",
                                "#B0BEC5",
                                "#B0BEC5",
                                "#B0BEC5",
                                "#B0BEC5",
                                "#B0BEC5"
                              ]
                            ]
                          }
                        ],
                        "label": "Topic 64",
                        "method": "update"
                      },
                      {
                        "args": [
                          {
                            "marker.color": [
                              [
                                "#B0BEC5",
                                "#B0BEC5",
                                "#B0BEC5",
                                "#B0BEC5",
                                "#B0BEC5",
                                "#B0BEC5",
                                "#B0BEC5",
                                "#B0BEC5",
                                "#B0BEC5",
                                "#B0BEC5",
                                "#B0BEC5",
                                "#B0BEC5",
                                "#B0BEC5",
                                "#B0BEC5",
                                "#B0BEC5",
                                "#B0BEC5",
                                "#B0BEC5",
                                "#B0BEC5",
                                "#B0BEC5",
                                "#B0BEC5",
                                "#B0BEC5",
                                "#B0BEC5",
                                "#B0BEC5",
                                "#B0BEC5",
                                "#B0BEC5",
                                "#B0BEC5",
                                "#B0BEC5",
                                "#B0BEC5",
                                "#B0BEC5",
                                "#B0BEC5",
                                "#B0BEC5",
                                "#B0BEC5",
                                "#B0BEC5",
                                "#B0BEC5",
                                "#B0BEC5",
                                "#B0BEC5",
                                "#B0BEC5",
                                "#B0BEC5",
                                "#B0BEC5",
                                "#B0BEC5",
                                "#B0BEC5",
                                "#B0BEC5",
                                "#B0BEC5",
                                "#B0BEC5",
                                "#B0BEC5",
                                "#B0BEC5",
                                "#B0BEC5",
                                "#B0BEC5",
                                "#B0BEC5",
                                "#B0BEC5",
                                "#B0BEC5",
                                "#B0BEC5",
                                "#B0BEC5",
                                "#B0BEC5",
                                "#B0BEC5",
                                "#B0BEC5",
                                "#B0BEC5",
                                "#B0BEC5",
                                "#B0BEC5",
                                "#B0BEC5",
                                "#B0BEC5",
                                "#B0BEC5",
                                "#B0BEC5",
                                "#B0BEC5",
                                "#B0BEC5",
                                "red",
                                "#B0BEC5",
                                "#B0BEC5",
                                "#B0BEC5",
                                "#B0BEC5",
                                "#B0BEC5",
                                "#B0BEC5",
                                "#B0BEC5",
                                "#B0BEC5",
                                "#B0BEC5",
                                "#B0BEC5",
                                "#B0BEC5",
                                "#B0BEC5",
                                "#B0BEC5",
                                "#B0BEC5"
                              ]
                            ]
                          }
                        ],
                        "label": "Topic 65",
                        "method": "update"
                      },
                      {
                        "args": [
                          {
                            "marker.color": [
                              [
                                "#B0BEC5",
                                "#B0BEC5",
                                "#B0BEC5",
                                "#B0BEC5",
                                "#B0BEC5",
                                "#B0BEC5",
                                "#B0BEC5",
                                "#B0BEC5",
                                "#B0BEC5",
                                "#B0BEC5",
                                "#B0BEC5",
                                "#B0BEC5",
                                "#B0BEC5",
                                "#B0BEC5",
                                "#B0BEC5",
                                "#B0BEC5",
                                "#B0BEC5",
                                "#B0BEC5",
                                "#B0BEC5",
                                "#B0BEC5",
                                "#B0BEC5",
                                "#B0BEC5",
                                "#B0BEC5",
                                "#B0BEC5",
                                "#B0BEC5",
                                "#B0BEC5",
                                "#B0BEC5",
                                "#B0BEC5",
                                "#B0BEC5",
                                "#B0BEC5",
                                "#B0BEC5",
                                "#B0BEC5",
                                "#B0BEC5",
                                "#B0BEC5",
                                "#B0BEC5",
                                "#B0BEC5",
                                "#B0BEC5",
                                "#B0BEC5",
                                "#B0BEC5",
                                "#B0BEC5",
                                "#B0BEC5",
                                "#B0BEC5",
                                "#B0BEC5",
                                "#B0BEC5",
                                "#B0BEC5",
                                "#B0BEC5",
                                "#B0BEC5",
                                "#B0BEC5",
                                "#B0BEC5",
                                "#B0BEC5",
                                "#B0BEC5",
                                "#B0BEC5",
                                "#B0BEC5",
                                "#B0BEC5",
                                "#B0BEC5",
                                "#B0BEC5",
                                "#B0BEC5",
                                "#B0BEC5",
                                "#B0BEC5",
                                "#B0BEC5",
                                "#B0BEC5",
                                "#B0BEC5",
                                "#B0BEC5",
                                "#B0BEC5",
                                "#B0BEC5",
                                "#B0BEC5",
                                "red",
                                "#B0BEC5",
                                "#B0BEC5",
                                "#B0BEC5",
                                "#B0BEC5",
                                "#B0BEC5",
                                "#B0BEC5",
                                "#B0BEC5",
                                "#B0BEC5",
                                "#B0BEC5",
                                "#B0BEC5",
                                "#B0BEC5",
                                "#B0BEC5",
                                "#B0BEC5"
                              ]
                            ]
                          }
                        ],
                        "label": "Topic 66",
                        "method": "update"
                      },
                      {
                        "args": [
                          {
                            "marker.color": [
                              [
                                "#B0BEC5",
                                "#B0BEC5",
                                "#B0BEC5",
                                "#B0BEC5",
                                "#B0BEC5",
                                "#B0BEC5",
                                "#B0BEC5",
                                "#B0BEC5",
                                "#B0BEC5",
                                "#B0BEC5",
                                "#B0BEC5",
                                "#B0BEC5",
                                "#B0BEC5",
                                "#B0BEC5",
                                "#B0BEC5",
                                "#B0BEC5",
                                "#B0BEC5",
                                "#B0BEC5",
                                "#B0BEC5",
                                "#B0BEC5",
                                "#B0BEC5",
                                "#B0BEC5",
                                "#B0BEC5",
                                "#B0BEC5",
                                "#B0BEC5",
                                "#B0BEC5",
                                "#B0BEC5",
                                "#B0BEC5",
                                "#B0BEC5",
                                "#B0BEC5",
                                "#B0BEC5",
                                "#B0BEC5",
                                "#B0BEC5",
                                "#B0BEC5",
                                "#B0BEC5",
                                "#B0BEC5",
                                "#B0BEC5",
                                "#B0BEC5",
                                "#B0BEC5",
                                "#B0BEC5",
                                "#B0BEC5",
                                "#B0BEC5",
                                "#B0BEC5",
                                "#B0BEC5",
                                "#B0BEC5",
                                "#B0BEC5",
                                "#B0BEC5",
                                "#B0BEC5",
                                "#B0BEC5",
                                "#B0BEC5",
                                "#B0BEC5",
                                "#B0BEC5",
                                "#B0BEC5",
                                "#B0BEC5",
                                "#B0BEC5",
                                "#B0BEC5",
                                "#B0BEC5",
                                "#B0BEC5",
                                "#B0BEC5",
                                "#B0BEC5",
                                "#B0BEC5",
                                "#B0BEC5",
                                "#B0BEC5",
                                "#B0BEC5",
                                "#B0BEC5",
                                "#B0BEC5",
                                "#B0BEC5",
                                "red",
                                "#B0BEC5",
                                "#B0BEC5",
                                "#B0BEC5",
                                "#B0BEC5",
                                "#B0BEC5",
                                "#B0BEC5",
                                "#B0BEC5",
                                "#B0BEC5",
                                "#B0BEC5",
                                "#B0BEC5",
                                "#B0BEC5",
                                "#B0BEC5"
                              ]
                            ]
                          }
                        ],
                        "label": "Topic 67",
                        "method": "update"
                      },
                      {
                        "args": [
                          {
                            "marker.color": [
                              [
                                "#B0BEC5",
                                "#B0BEC5",
                                "#B0BEC5",
                                "#B0BEC5",
                                "#B0BEC5",
                                "#B0BEC5",
                                "#B0BEC5",
                                "#B0BEC5",
                                "#B0BEC5",
                                "#B0BEC5",
                                "#B0BEC5",
                                "#B0BEC5",
                                "#B0BEC5",
                                "#B0BEC5",
                                "#B0BEC5",
                                "#B0BEC5",
                                "#B0BEC5",
                                "#B0BEC5",
                                "#B0BEC5",
                                "#B0BEC5",
                                "#B0BEC5",
                                "#B0BEC5",
                                "#B0BEC5",
                                "#B0BEC5",
                                "#B0BEC5",
                                "#B0BEC5",
                                "#B0BEC5",
                                "#B0BEC5",
                                "#B0BEC5",
                                "#B0BEC5",
                                "#B0BEC5",
                                "#B0BEC5",
                                "#B0BEC5",
                                "#B0BEC5",
                                "#B0BEC5",
                                "#B0BEC5",
                                "#B0BEC5",
                                "#B0BEC5",
                                "#B0BEC5",
                                "#B0BEC5",
                                "#B0BEC5",
                                "#B0BEC5",
                                "#B0BEC5",
                                "#B0BEC5",
                                "#B0BEC5",
                                "#B0BEC5",
                                "#B0BEC5",
                                "#B0BEC5",
                                "#B0BEC5",
                                "#B0BEC5",
                                "#B0BEC5",
                                "#B0BEC5",
                                "#B0BEC5",
                                "#B0BEC5",
                                "#B0BEC5",
                                "#B0BEC5",
                                "#B0BEC5",
                                "#B0BEC5",
                                "#B0BEC5",
                                "#B0BEC5",
                                "#B0BEC5",
                                "#B0BEC5",
                                "#B0BEC5",
                                "#B0BEC5",
                                "#B0BEC5",
                                "#B0BEC5",
                                "#B0BEC5",
                                "#B0BEC5",
                                "red",
                                "#B0BEC5",
                                "#B0BEC5",
                                "#B0BEC5",
                                "#B0BEC5",
                                "#B0BEC5",
                                "#B0BEC5",
                                "#B0BEC5",
                                "#B0BEC5",
                                "#B0BEC5",
                                "#B0BEC5",
                                "#B0BEC5"
                              ]
                            ]
                          }
                        ],
                        "label": "Topic 68",
                        "method": "update"
                      },
                      {
                        "args": [
                          {
                            "marker.color": [
                              [
                                "#B0BEC5",
                                "#B0BEC5",
                                "#B0BEC5",
                                "#B0BEC5",
                                "#B0BEC5",
                                "#B0BEC5",
                                "#B0BEC5",
                                "#B0BEC5",
                                "#B0BEC5",
                                "#B0BEC5",
                                "#B0BEC5",
                                "#B0BEC5",
                                "#B0BEC5",
                                "#B0BEC5",
                                "#B0BEC5",
                                "#B0BEC5",
                                "#B0BEC5",
                                "#B0BEC5",
                                "#B0BEC5",
                                "#B0BEC5",
                                "#B0BEC5",
                                "#B0BEC5",
                                "#B0BEC5",
                                "#B0BEC5",
                                "#B0BEC5",
                                "#B0BEC5",
                                "#B0BEC5",
                                "#B0BEC5",
                                "#B0BEC5",
                                "#B0BEC5",
                                "#B0BEC5",
                                "#B0BEC5",
                                "#B0BEC5",
                                "#B0BEC5",
                                "#B0BEC5",
                                "#B0BEC5",
                                "#B0BEC5",
                                "#B0BEC5",
                                "#B0BEC5",
                                "#B0BEC5",
                                "#B0BEC5",
                                "#B0BEC5",
                                "#B0BEC5",
                                "#B0BEC5",
                                "#B0BEC5",
                                "#B0BEC5",
                                "#B0BEC5",
                                "#B0BEC5",
                                "#B0BEC5",
                                "#B0BEC5",
                                "#B0BEC5",
                                "#B0BEC5",
                                "#B0BEC5",
                                "#B0BEC5",
                                "#B0BEC5",
                                "#B0BEC5",
                                "#B0BEC5",
                                "#B0BEC5",
                                "#B0BEC5",
                                "#B0BEC5",
                                "#B0BEC5",
                                "#B0BEC5",
                                "#B0BEC5",
                                "#B0BEC5",
                                "#B0BEC5",
                                "#B0BEC5",
                                "#B0BEC5",
                                "#B0BEC5",
                                "#B0BEC5",
                                "red",
                                "#B0BEC5",
                                "#B0BEC5",
                                "#B0BEC5",
                                "#B0BEC5",
                                "#B0BEC5",
                                "#B0BEC5",
                                "#B0BEC5",
                                "#B0BEC5",
                                "#B0BEC5",
                                "#B0BEC5"
                              ]
                            ]
                          }
                        ],
                        "label": "Topic 69",
                        "method": "update"
                      },
                      {
                        "args": [
                          {
                            "marker.color": [
                              [
                                "#B0BEC5",
                                "#B0BEC5",
                                "#B0BEC5",
                                "#B0BEC5",
                                "#B0BEC5",
                                "#B0BEC5",
                                "#B0BEC5",
                                "#B0BEC5",
                                "#B0BEC5",
                                "#B0BEC5",
                                "#B0BEC5",
                                "#B0BEC5",
                                "#B0BEC5",
                                "#B0BEC5",
                                "#B0BEC5",
                                "#B0BEC5",
                                "#B0BEC5",
                                "#B0BEC5",
                                "#B0BEC5",
                                "#B0BEC5",
                                "#B0BEC5",
                                "#B0BEC5",
                                "#B0BEC5",
                                "#B0BEC5",
                                "#B0BEC5",
                                "#B0BEC5",
                                "#B0BEC5",
                                "#B0BEC5",
                                "#B0BEC5",
                                "#B0BEC5",
                                "#B0BEC5",
                                "#B0BEC5",
                                "#B0BEC5",
                                "#B0BEC5",
                                "#B0BEC5",
                                "#B0BEC5",
                                "#B0BEC5",
                                "#B0BEC5",
                                "#B0BEC5",
                                "#B0BEC5",
                                "#B0BEC5",
                                "#B0BEC5",
                                "#B0BEC5",
                                "#B0BEC5",
                                "#B0BEC5",
                                "#B0BEC5",
                                "#B0BEC5",
                                "#B0BEC5",
                                "#B0BEC5",
                                "#B0BEC5",
                                "#B0BEC5",
                                "#B0BEC5",
                                "#B0BEC5",
                                "#B0BEC5",
                                "#B0BEC5",
                                "#B0BEC5",
                                "#B0BEC5",
                                "#B0BEC5",
                                "#B0BEC5",
                                "#B0BEC5",
                                "#B0BEC5",
                                "#B0BEC5",
                                "#B0BEC5",
                                "#B0BEC5",
                                "#B0BEC5",
                                "#B0BEC5",
                                "#B0BEC5",
                                "#B0BEC5",
                                "#B0BEC5",
                                "#B0BEC5",
                                "red",
                                "#B0BEC5",
                                "#B0BEC5",
                                "#B0BEC5",
                                "#B0BEC5",
                                "#B0BEC5",
                                "#B0BEC5",
                                "#B0BEC5",
                                "#B0BEC5",
                                "#B0BEC5"
                              ]
                            ]
                          }
                        ],
                        "label": "Topic 70",
                        "method": "update"
                      },
                      {
                        "args": [
                          {
                            "marker.color": [
                              [
                                "#B0BEC5",
                                "#B0BEC5",
                                "#B0BEC5",
                                "#B0BEC5",
                                "#B0BEC5",
                                "#B0BEC5",
                                "#B0BEC5",
                                "#B0BEC5",
                                "#B0BEC5",
                                "#B0BEC5",
                                "#B0BEC5",
                                "#B0BEC5",
                                "#B0BEC5",
                                "#B0BEC5",
                                "#B0BEC5",
                                "#B0BEC5",
                                "#B0BEC5",
                                "#B0BEC5",
                                "#B0BEC5",
                                "#B0BEC5",
                                "#B0BEC5",
                                "#B0BEC5",
                                "#B0BEC5",
                                "#B0BEC5",
                                "#B0BEC5",
                                "#B0BEC5",
                                "#B0BEC5",
                                "#B0BEC5",
                                "#B0BEC5",
                                "#B0BEC5",
                                "#B0BEC5",
                                "#B0BEC5",
                                "#B0BEC5",
                                "#B0BEC5",
                                "#B0BEC5",
                                "#B0BEC5",
                                "#B0BEC5",
                                "#B0BEC5",
                                "#B0BEC5",
                                "#B0BEC5",
                                "#B0BEC5",
                                "#B0BEC5",
                                "#B0BEC5",
                                "#B0BEC5",
                                "#B0BEC5",
                                "#B0BEC5",
                                "#B0BEC5",
                                "#B0BEC5",
                                "#B0BEC5",
                                "#B0BEC5",
                                "#B0BEC5",
                                "#B0BEC5",
                                "#B0BEC5",
                                "#B0BEC5",
                                "#B0BEC5",
                                "#B0BEC5",
                                "#B0BEC5",
                                "#B0BEC5",
                                "#B0BEC5",
                                "#B0BEC5",
                                "#B0BEC5",
                                "#B0BEC5",
                                "#B0BEC5",
                                "#B0BEC5",
                                "#B0BEC5",
                                "#B0BEC5",
                                "#B0BEC5",
                                "#B0BEC5",
                                "#B0BEC5",
                                "#B0BEC5",
                                "#B0BEC5",
                                "red",
                                "#B0BEC5",
                                "#B0BEC5",
                                "#B0BEC5",
                                "#B0BEC5",
                                "#B0BEC5",
                                "#B0BEC5",
                                "#B0BEC5",
                                "#B0BEC5"
                              ]
                            ]
                          }
                        ],
                        "label": "Topic 71",
                        "method": "update"
                      },
                      {
                        "args": [
                          {
                            "marker.color": [
                              [
                                "#B0BEC5",
                                "#B0BEC5",
                                "#B0BEC5",
                                "#B0BEC5",
                                "#B0BEC5",
                                "#B0BEC5",
                                "#B0BEC5",
                                "#B0BEC5",
                                "#B0BEC5",
                                "#B0BEC5",
                                "#B0BEC5",
                                "#B0BEC5",
                                "#B0BEC5",
                                "#B0BEC5",
                                "#B0BEC5",
                                "#B0BEC5",
                                "#B0BEC5",
                                "#B0BEC5",
                                "#B0BEC5",
                                "#B0BEC5",
                                "#B0BEC5",
                                "#B0BEC5",
                                "#B0BEC5",
                                "#B0BEC5",
                                "#B0BEC5",
                                "#B0BEC5",
                                "#B0BEC5",
                                "#B0BEC5",
                                "#B0BEC5",
                                "#B0BEC5",
                                "#B0BEC5",
                                "#B0BEC5",
                                "#B0BEC5",
                                "#B0BEC5",
                                "#B0BEC5",
                                "#B0BEC5",
                                "#B0BEC5",
                                "#B0BEC5",
                                "#B0BEC5",
                                "#B0BEC5",
                                "#B0BEC5",
                                "#B0BEC5",
                                "#B0BEC5",
                                "#B0BEC5",
                                "#B0BEC5",
                                "#B0BEC5",
                                "#B0BEC5",
                                "#B0BEC5",
                                "#B0BEC5",
                                "#B0BEC5",
                                "#B0BEC5",
                                "#B0BEC5",
                                "#B0BEC5",
                                "#B0BEC5",
                                "#B0BEC5",
                                "#B0BEC5",
                                "#B0BEC5",
                                "#B0BEC5",
                                "#B0BEC5",
                                "#B0BEC5",
                                "#B0BEC5",
                                "#B0BEC5",
                                "#B0BEC5",
                                "#B0BEC5",
                                "#B0BEC5",
                                "#B0BEC5",
                                "#B0BEC5",
                                "#B0BEC5",
                                "#B0BEC5",
                                "#B0BEC5",
                                "#B0BEC5",
                                "#B0BEC5",
                                "red",
                                "#B0BEC5",
                                "#B0BEC5",
                                "#B0BEC5",
                                "#B0BEC5",
                                "#B0BEC5",
                                "#B0BEC5",
                                "#B0BEC5"
                              ]
                            ]
                          }
                        ],
                        "label": "Topic 72",
                        "method": "update"
                      },
                      {
                        "args": [
                          {
                            "marker.color": [
                              [
                                "#B0BEC5",
                                "#B0BEC5",
                                "#B0BEC5",
                                "#B0BEC5",
                                "#B0BEC5",
                                "#B0BEC5",
                                "#B0BEC5",
                                "#B0BEC5",
                                "#B0BEC5",
                                "#B0BEC5",
                                "#B0BEC5",
                                "#B0BEC5",
                                "#B0BEC5",
                                "#B0BEC5",
                                "#B0BEC5",
                                "#B0BEC5",
                                "#B0BEC5",
                                "#B0BEC5",
                                "#B0BEC5",
                                "#B0BEC5",
                                "#B0BEC5",
                                "#B0BEC5",
                                "#B0BEC5",
                                "#B0BEC5",
                                "#B0BEC5",
                                "#B0BEC5",
                                "#B0BEC5",
                                "#B0BEC5",
                                "#B0BEC5",
                                "#B0BEC5",
                                "#B0BEC5",
                                "#B0BEC5",
                                "#B0BEC5",
                                "#B0BEC5",
                                "#B0BEC5",
                                "#B0BEC5",
                                "#B0BEC5",
                                "#B0BEC5",
                                "#B0BEC5",
                                "#B0BEC5",
                                "#B0BEC5",
                                "#B0BEC5",
                                "#B0BEC5",
                                "#B0BEC5",
                                "#B0BEC5",
                                "#B0BEC5",
                                "#B0BEC5",
                                "#B0BEC5",
                                "#B0BEC5",
                                "#B0BEC5",
                                "#B0BEC5",
                                "#B0BEC5",
                                "#B0BEC5",
                                "#B0BEC5",
                                "#B0BEC5",
                                "#B0BEC5",
                                "#B0BEC5",
                                "#B0BEC5",
                                "#B0BEC5",
                                "#B0BEC5",
                                "#B0BEC5",
                                "#B0BEC5",
                                "#B0BEC5",
                                "#B0BEC5",
                                "#B0BEC5",
                                "#B0BEC5",
                                "#B0BEC5",
                                "#B0BEC5",
                                "#B0BEC5",
                                "#B0BEC5",
                                "#B0BEC5",
                                "#B0BEC5",
                                "#B0BEC5",
                                "red",
                                "#B0BEC5",
                                "#B0BEC5",
                                "#B0BEC5",
                                "#B0BEC5",
                                "#B0BEC5",
                                "#B0BEC5"
                              ]
                            ]
                          }
                        ],
                        "label": "Topic 73",
                        "method": "update"
                      },
                      {
                        "args": [
                          {
                            "marker.color": [
                              [
                                "#B0BEC5",
                                "#B0BEC5",
                                "#B0BEC5",
                                "#B0BEC5",
                                "#B0BEC5",
                                "#B0BEC5",
                                "#B0BEC5",
                                "#B0BEC5",
                                "#B0BEC5",
                                "#B0BEC5",
                                "#B0BEC5",
                                "#B0BEC5",
                                "#B0BEC5",
                                "#B0BEC5",
                                "#B0BEC5",
                                "#B0BEC5",
                                "#B0BEC5",
                                "#B0BEC5",
                                "#B0BEC5",
                                "#B0BEC5",
                                "#B0BEC5",
                                "#B0BEC5",
                                "#B0BEC5",
                                "#B0BEC5",
                                "#B0BEC5",
                                "#B0BEC5",
                                "#B0BEC5",
                                "#B0BEC5",
                                "#B0BEC5",
                                "#B0BEC5",
                                "#B0BEC5",
                                "#B0BEC5",
                                "#B0BEC5",
                                "#B0BEC5",
                                "#B0BEC5",
                                "#B0BEC5",
                                "#B0BEC5",
                                "#B0BEC5",
                                "#B0BEC5",
                                "#B0BEC5",
                                "#B0BEC5",
                                "#B0BEC5",
                                "#B0BEC5",
                                "#B0BEC5",
                                "#B0BEC5",
                                "#B0BEC5",
                                "#B0BEC5",
                                "#B0BEC5",
                                "#B0BEC5",
                                "#B0BEC5",
                                "#B0BEC5",
                                "#B0BEC5",
                                "#B0BEC5",
                                "#B0BEC5",
                                "#B0BEC5",
                                "#B0BEC5",
                                "#B0BEC5",
                                "#B0BEC5",
                                "#B0BEC5",
                                "#B0BEC5",
                                "#B0BEC5",
                                "#B0BEC5",
                                "#B0BEC5",
                                "#B0BEC5",
                                "#B0BEC5",
                                "#B0BEC5",
                                "#B0BEC5",
                                "#B0BEC5",
                                "#B0BEC5",
                                "#B0BEC5",
                                "#B0BEC5",
                                "#B0BEC5",
                                "#B0BEC5",
                                "#B0BEC5",
                                "red",
                                "#B0BEC5",
                                "#B0BEC5",
                                "#B0BEC5",
                                "#B0BEC5",
                                "#B0BEC5"
                              ]
                            ]
                          }
                        ],
                        "label": "Topic 74",
                        "method": "update"
                      },
                      {
                        "args": [
                          {
                            "marker.color": [
                              [
                                "#B0BEC5",
                                "#B0BEC5",
                                "#B0BEC5",
                                "#B0BEC5",
                                "#B0BEC5",
                                "#B0BEC5",
                                "#B0BEC5",
                                "#B0BEC5",
                                "#B0BEC5",
                                "#B0BEC5",
                                "#B0BEC5",
                                "#B0BEC5",
                                "#B0BEC5",
                                "#B0BEC5",
                                "#B0BEC5",
                                "#B0BEC5",
                                "#B0BEC5",
                                "#B0BEC5",
                                "#B0BEC5",
                                "#B0BEC5",
                                "#B0BEC5",
                                "#B0BEC5",
                                "#B0BEC5",
                                "#B0BEC5",
                                "#B0BEC5",
                                "#B0BEC5",
                                "#B0BEC5",
                                "#B0BEC5",
                                "#B0BEC5",
                                "#B0BEC5",
                                "#B0BEC5",
                                "#B0BEC5",
                                "#B0BEC5",
                                "#B0BEC5",
                                "#B0BEC5",
                                "#B0BEC5",
                                "#B0BEC5",
                                "#B0BEC5",
                                "#B0BEC5",
                                "#B0BEC5",
                                "#B0BEC5",
                                "#B0BEC5",
                                "#B0BEC5",
                                "#B0BEC5",
                                "#B0BEC5",
                                "#B0BEC5",
                                "#B0BEC5",
                                "#B0BEC5",
                                "#B0BEC5",
                                "#B0BEC5",
                                "#B0BEC5",
                                "#B0BEC5",
                                "#B0BEC5",
                                "#B0BEC5",
                                "#B0BEC5",
                                "#B0BEC5",
                                "#B0BEC5",
                                "#B0BEC5",
                                "#B0BEC5",
                                "#B0BEC5",
                                "#B0BEC5",
                                "#B0BEC5",
                                "#B0BEC5",
                                "#B0BEC5",
                                "#B0BEC5",
                                "#B0BEC5",
                                "#B0BEC5",
                                "#B0BEC5",
                                "#B0BEC5",
                                "#B0BEC5",
                                "#B0BEC5",
                                "#B0BEC5",
                                "#B0BEC5",
                                "#B0BEC5",
                                "#B0BEC5",
                                "red",
                                "#B0BEC5",
                                "#B0BEC5",
                                "#B0BEC5",
                                "#B0BEC5"
                              ]
                            ]
                          }
                        ],
                        "label": "Topic 75",
                        "method": "update"
                      },
                      {
                        "args": [
                          {
                            "marker.color": [
                              [
                                "#B0BEC5",
                                "#B0BEC5",
                                "#B0BEC5",
                                "#B0BEC5",
                                "#B0BEC5",
                                "#B0BEC5",
                                "#B0BEC5",
                                "#B0BEC5",
                                "#B0BEC5",
                                "#B0BEC5",
                                "#B0BEC5",
                                "#B0BEC5",
                                "#B0BEC5",
                                "#B0BEC5",
                                "#B0BEC5",
                                "#B0BEC5",
                                "#B0BEC5",
                                "#B0BEC5",
                                "#B0BEC5",
                                "#B0BEC5",
                                "#B0BEC5",
                                "#B0BEC5",
                                "#B0BEC5",
                                "#B0BEC5",
                                "#B0BEC5",
                                "#B0BEC5",
                                "#B0BEC5",
                                "#B0BEC5",
                                "#B0BEC5",
                                "#B0BEC5",
                                "#B0BEC5",
                                "#B0BEC5",
                                "#B0BEC5",
                                "#B0BEC5",
                                "#B0BEC5",
                                "#B0BEC5",
                                "#B0BEC5",
                                "#B0BEC5",
                                "#B0BEC5",
                                "#B0BEC5",
                                "#B0BEC5",
                                "#B0BEC5",
                                "#B0BEC5",
                                "#B0BEC5",
                                "#B0BEC5",
                                "#B0BEC5",
                                "#B0BEC5",
                                "#B0BEC5",
                                "#B0BEC5",
                                "#B0BEC5",
                                "#B0BEC5",
                                "#B0BEC5",
                                "#B0BEC5",
                                "#B0BEC5",
                                "#B0BEC5",
                                "#B0BEC5",
                                "#B0BEC5",
                                "#B0BEC5",
                                "#B0BEC5",
                                "#B0BEC5",
                                "#B0BEC5",
                                "#B0BEC5",
                                "#B0BEC5",
                                "#B0BEC5",
                                "#B0BEC5",
                                "#B0BEC5",
                                "#B0BEC5",
                                "#B0BEC5",
                                "#B0BEC5",
                                "#B0BEC5",
                                "#B0BEC5",
                                "#B0BEC5",
                                "#B0BEC5",
                                "#B0BEC5",
                                "#B0BEC5",
                                "#B0BEC5",
                                "red",
                                "#B0BEC5",
                                "#B0BEC5",
                                "#B0BEC5"
                              ]
                            ]
                          }
                        ],
                        "label": "Topic 76",
                        "method": "update"
                      },
                      {
                        "args": [
                          {
                            "marker.color": [
                              [
                                "#B0BEC5",
                                "#B0BEC5",
                                "#B0BEC5",
                                "#B0BEC5",
                                "#B0BEC5",
                                "#B0BEC5",
                                "#B0BEC5",
                                "#B0BEC5",
                                "#B0BEC5",
                                "#B0BEC5",
                                "#B0BEC5",
                                "#B0BEC5",
                                "#B0BEC5",
                                "#B0BEC5",
                                "#B0BEC5",
                                "#B0BEC5",
                                "#B0BEC5",
                                "#B0BEC5",
                                "#B0BEC5",
                                "#B0BEC5",
                                "#B0BEC5",
                                "#B0BEC5",
                                "#B0BEC5",
                                "#B0BEC5",
                                "#B0BEC5",
                                "#B0BEC5",
                                "#B0BEC5",
                                "#B0BEC5",
                                "#B0BEC5",
                                "#B0BEC5",
                                "#B0BEC5",
                                "#B0BEC5",
                                "#B0BEC5",
                                "#B0BEC5",
                                "#B0BEC5",
                                "#B0BEC5",
                                "#B0BEC5",
                                "#B0BEC5",
                                "#B0BEC5",
                                "#B0BEC5",
                                "#B0BEC5",
                                "#B0BEC5",
                                "#B0BEC5",
                                "#B0BEC5",
                                "#B0BEC5",
                                "#B0BEC5",
                                "#B0BEC5",
                                "#B0BEC5",
                                "#B0BEC5",
                                "#B0BEC5",
                                "#B0BEC5",
                                "#B0BEC5",
                                "#B0BEC5",
                                "#B0BEC5",
                                "#B0BEC5",
                                "#B0BEC5",
                                "#B0BEC5",
                                "#B0BEC5",
                                "#B0BEC5",
                                "#B0BEC5",
                                "#B0BEC5",
                                "#B0BEC5",
                                "#B0BEC5",
                                "#B0BEC5",
                                "#B0BEC5",
                                "#B0BEC5",
                                "#B0BEC5",
                                "#B0BEC5",
                                "#B0BEC5",
                                "#B0BEC5",
                                "#B0BEC5",
                                "#B0BEC5",
                                "#B0BEC5",
                                "#B0BEC5",
                                "#B0BEC5",
                                "#B0BEC5",
                                "#B0BEC5",
                                "red",
                                "#B0BEC5",
                                "#B0BEC5"
                              ]
                            ]
                          }
                        ],
                        "label": "Topic 77",
                        "method": "update"
                      },
                      {
                        "args": [
                          {
                            "marker.color": [
                              [
                                "#B0BEC5",
                                "#B0BEC5",
                                "#B0BEC5",
                                "#B0BEC5",
                                "#B0BEC5",
                                "#B0BEC5",
                                "#B0BEC5",
                                "#B0BEC5",
                                "#B0BEC5",
                                "#B0BEC5",
                                "#B0BEC5",
                                "#B0BEC5",
                                "#B0BEC5",
                                "#B0BEC5",
                                "#B0BEC5",
                                "#B0BEC5",
                                "#B0BEC5",
                                "#B0BEC5",
                                "#B0BEC5",
                                "#B0BEC5",
                                "#B0BEC5",
                                "#B0BEC5",
                                "#B0BEC5",
                                "#B0BEC5",
                                "#B0BEC5",
                                "#B0BEC5",
                                "#B0BEC5",
                                "#B0BEC5",
                                "#B0BEC5",
                                "#B0BEC5",
                                "#B0BEC5",
                                "#B0BEC5",
                                "#B0BEC5",
                                "#B0BEC5",
                                "#B0BEC5",
                                "#B0BEC5",
                                "#B0BEC5",
                                "#B0BEC5",
                                "#B0BEC5",
                                "#B0BEC5",
                                "#B0BEC5",
                                "#B0BEC5",
                                "#B0BEC5",
                                "#B0BEC5",
                                "#B0BEC5",
                                "#B0BEC5",
                                "#B0BEC5",
                                "#B0BEC5",
                                "#B0BEC5",
                                "#B0BEC5",
                                "#B0BEC5",
                                "#B0BEC5",
                                "#B0BEC5",
                                "#B0BEC5",
                                "#B0BEC5",
                                "#B0BEC5",
                                "#B0BEC5",
                                "#B0BEC5",
                                "#B0BEC5",
                                "#B0BEC5",
                                "#B0BEC5",
                                "#B0BEC5",
                                "#B0BEC5",
                                "#B0BEC5",
                                "#B0BEC5",
                                "#B0BEC5",
                                "#B0BEC5",
                                "#B0BEC5",
                                "#B0BEC5",
                                "#B0BEC5",
                                "#B0BEC5",
                                "#B0BEC5",
                                "#B0BEC5",
                                "#B0BEC5",
                                "#B0BEC5",
                                "#B0BEC5",
                                "#B0BEC5",
                                "#B0BEC5",
                                "red",
                                "#B0BEC5"
                              ]
                            ]
                          }
                        ],
                        "label": "Topic 78",
                        "method": "update"
                      },
                      {
                        "args": [
                          {
                            "marker.color": [
                              [
                                "#B0BEC5",
                                "#B0BEC5",
                                "#B0BEC5",
                                "#B0BEC5",
                                "#B0BEC5",
                                "#B0BEC5",
                                "#B0BEC5",
                                "#B0BEC5",
                                "#B0BEC5",
                                "#B0BEC5",
                                "#B0BEC5",
                                "#B0BEC5",
                                "#B0BEC5",
                                "#B0BEC5",
                                "#B0BEC5",
                                "#B0BEC5",
                                "#B0BEC5",
                                "#B0BEC5",
                                "#B0BEC5",
                                "#B0BEC5",
                                "#B0BEC5",
                                "#B0BEC5",
                                "#B0BEC5",
                                "#B0BEC5",
                                "#B0BEC5",
                                "#B0BEC5",
                                "#B0BEC5",
                                "#B0BEC5",
                                "#B0BEC5",
                                "#B0BEC5",
                                "#B0BEC5",
                                "#B0BEC5",
                                "#B0BEC5",
                                "#B0BEC5",
                                "#B0BEC5",
                                "#B0BEC5",
                                "#B0BEC5",
                                "#B0BEC5",
                                "#B0BEC5",
                                "#B0BEC5",
                                "#B0BEC5",
                                "#B0BEC5",
                                "#B0BEC5",
                                "#B0BEC5",
                                "#B0BEC5",
                                "#B0BEC5",
                                "#B0BEC5",
                                "#B0BEC5",
                                "#B0BEC5",
                                "#B0BEC5",
                                "#B0BEC5",
                                "#B0BEC5",
                                "#B0BEC5",
                                "#B0BEC5",
                                "#B0BEC5",
                                "#B0BEC5",
                                "#B0BEC5",
                                "#B0BEC5",
                                "#B0BEC5",
                                "#B0BEC5",
                                "#B0BEC5",
                                "#B0BEC5",
                                "#B0BEC5",
                                "#B0BEC5",
                                "#B0BEC5",
                                "#B0BEC5",
                                "#B0BEC5",
                                "#B0BEC5",
                                "#B0BEC5",
                                "#B0BEC5",
                                "#B0BEC5",
                                "#B0BEC5",
                                "#B0BEC5",
                                "#B0BEC5",
                                "#B0BEC5",
                                "#B0BEC5",
                                "#B0BEC5",
                                "#B0BEC5",
                                "#B0BEC5",
                                "red"
                              ]
                            ]
                          }
                        ],
                        "label": "Topic 79",
                        "method": "update"
                      }
                    ]
                  }
                ],
                "template": {
                  "data": {
                    "bar": [
                      {
                        "error_x": {
                          "color": "rgb(36,36,36)"
                        },
                        "error_y": {
                          "color": "rgb(36,36,36)"
                        },
                        "marker": {
                          "line": {
                            "color": "white",
                            "width": 0.5
                          },
                          "pattern": {
                            "fillmode": "overlay",
                            "size": 10,
                            "solidity": 0.2
                          }
                        },
                        "type": "bar"
                      }
                    ],
                    "barpolar": [
                      {
                        "marker": {
                          "line": {
                            "color": "white",
                            "width": 0.5
                          },
                          "pattern": {
                            "fillmode": "overlay",
                            "size": 10,
                            "solidity": 0.2
                          }
                        },
                        "type": "barpolar"
                      }
                    ],
                    "carpet": [
                      {
                        "aaxis": {
                          "endlinecolor": "rgb(36,36,36)",
                          "gridcolor": "white",
                          "linecolor": "white",
                          "minorgridcolor": "white",
                          "startlinecolor": "rgb(36,36,36)"
                        },
                        "baxis": {
                          "endlinecolor": "rgb(36,36,36)",
                          "gridcolor": "white",
                          "linecolor": "white",
                          "minorgridcolor": "white",
                          "startlinecolor": "rgb(36,36,36)"
                        },
                        "type": "carpet"
                      }
                    ],
                    "choropleth": [
                      {
                        "colorbar": {
                          "outlinewidth": 1,
                          "tickcolor": "rgb(36,36,36)",
                          "ticks": "outside"
                        },
                        "type": "choropleth"
                      }
                    ],
                    "contour": [
                      {
                        "colorbar": {
                          "outlinewidth": 1,
                          "tickcolor": "rgb(36,36,36)",
                          "ticks": "outside"
                        },
                        "colorscale": [
                          [
                            0,
                            "#440154"
                          ],
                          [
                            0.1111111111111111,
                            "#482878"
                          ],
                          [
                            0.2222222222222222,
                            "#3e4989"
                          ],
                          [
                            0.3333333333333333,
                            "#31688e"
                          ],
                          [
                            0.4444444444444444,
                            "#26828e"
                          ],
                          [
                            0.5555555555555556,
                            "#1f9e89"
                          ],
                          [
                            0.6666666666666666,
                            "#35b779"
                          ],
                          [
                            0.7777777777777778,
                            "#6ece58"
                          ],
                          [
                            0.8888888888888888,
                            "#b5de2b"
                          ],
                          [
                            1,
                            "#fde725"
                          ]
                        ],
                        "type": "contour"
                      }
                    ],
                    "contourcarpet": [
                      {
                        "colorbar": {
                          "outlinewidth": 1,
                          "tickcolor": "rgb(36,36,36)",
                          "ticks": "outside"
                        },
                        "type": "contourcarpet"
                      }
                    ],
                    "heatmap": [
                      {
                        "colorbar": {
                          "outlinewidth": 1,
                          "tickcolor": "rgb(36,36,36)",
                          "ticks": "outside"
                        },
                        "colorscale": [
                          [
                            0,
                            "#440154"
                          ],
                          [
                            0.1111111111111111,
                            "#482878"
                          ],
                          [
                            0.2222222222222222,
                            "#3e4989"
                          ],
                          [
                            0.3333333333333333,
                            "#31688e"
                          ],
                          [
                            0.4444444444444444,
                            "#26828e"
                          ],
                          [
                            0.5555555555555556,
                            "#1f9e89"
                          ],
                          [
                            0.6666666666666666,
                            "#35b779"
                          ],
                          [
                            0.7777777777777778,
                            "#6ece58"
                          ],
                          [
                            0.8888888888888888,
                            "#b5de2b"
                          ],
                          [
                            1,
                            "#fde725"
                          ]
                        ],
                        "type": "heatmap"
                      }
                    ],
                    "heatmapgl": [
                      {
                        "colorbar": {
                          "outlinewidth": 1,
                          "tickcolor": "rgb(36,36,36)",
                          "ticks": "outside"
                        },
                        "colorscale": [
                          [
                            0,
                            "#440154"
                          ],
                          [
                            0.1111111111111111,
                            "#482878"
                          ],
                          [
                            0.2222222222222222,
                            "#3e4989"
                          ],
                          [
                            0.3333333333333333,
                            "#31688e"
                          ],
                          [
                            0.4444444444444444,
                            "#26828e"
                          ],
                          [
                            0.5555555555555556,
                            "#1f9e89"
                          ],
                          [
                            0.6666666666666666,
                            "#35b779"
                          ],
                          [
                            0.7777777777777778,
                            "#6ece58"
                          ],
                          [
                            0.8888888888888888,
                            "#b5de2b"
                          ],
                          [
                            1,
                            "#fde725"
                          ]
                        ],
                        "type": "heatmapgl"
                      }
                    ],
                    "histogram": [
                      {
                        "marker": {
                          "line": {
                            "color": "white",
                            "width": 0.6
                          }
                        },
                        "type": "histogram"
                      }
                    ],
                    "histogram2d": [
                      {
                        "colorbar": {
                          "outlinewidth": 1,
                          "tickcolor": "rgb(36,36,36)",
                          "ticks": "outside"
                        },
                        "colorscale": [
                          [
                            0,
                            "#440154"
                          ],
                          [
                            0.1111111111111111,
                            "#482878"
                          ],
                          [
                            0.2222222222222222,
                            "#3e4989"
                          ],
                          [
                            0.3333333333333333,
                            "#31688e"
                          ],
                          [
                            0.4444444444444444,
                            "#26828e"
                          ],
                          [
                            0.5555555555555556,
                            "#1f9e89"
                          ],
                          [
                            0.6666666666666666,
                            "#35b779"
                          ],
                          [
                            0.7777777777777778,
                            "#6ece58"
                          ],
                          [
                            0.8888888888888888,
                            "#b5de2b"
                          ],
                          [
                            1,
                            "#fde725"
                          ]
                        ],
                        "type": "histogram2d"
                      }
                    ],
                    "histogram2dcontour": [
                      {
                        "colorbar": {
                          "outlinewidth": 1,
                          "tickcolor": "rgb(36,36,36)",
                          "ticks": "outside"
                        },
                        "colorscale": [
                          [
                            0,
                            "#440154"
                          ],
                          [
                            0.1111111111111111,
                            "#482878"
                          ],
                          [
                            0.2222222222222222,
                            "#3e4989"
                          ],
                          [
                            0.3333333333333333,
                            "#31688e"
                          ],
                          [
                            0.4444444444444444,
                            "#26828e"
                          ],
                          [
                            0.5555555555555556,
                            "#1f9e89"
                          ],
                          [
                            0.6666666666666666,
                            "#35b779"
                          ],
                          [
                            0.7777777777777778,
                            "#6ece58"
                          ],
                          [
                            0.8888888888888888,
                            "#b5de2b"
                          ],
                          [
                            1,
                            "#fde725"
                          ]
                        ],
                        "type": "histogram2dcontour"
                      }
                    ],
                    "mesh3d": [
                      {
                        "colorbar": {
                          "outlinewidth": 1,
                          "tickcolor": "rgb(36,36,36)",
                          "ticks": "outside"
                        },
                        "type": "mesh3d"
                      }
                    ],
                    "parcoords": [
                      {
                        "line": {
                          "colorbar": {
                            "outlinewidth": 1,
                            "tickcolor": "rgb(36,36,36)",
                            "ticks": "outside"
                          }
                        },
                        "type": "parcoords"
                      }
                    ],
                    "pie": [
                      {
                        "automargin": true,
                        "type": "pie"
                      }
                    ],
                    "scatter": [
                      {
                        "fillpattern": {
                          "fillmode": "overlay",
                          "size": 10,
                          "solidity": 0.2
                        },
                        "type": "scatter"
                      }
                    ],
                    "scatter3d": [
                      {
                        "line": {
                          "colorbar": {
                            "outlinewidth": 1,
                            "tickcolor": "rgb(36,36,36)",
                            "ticks": "outside"
                          }
                        },
                        "marker": {
                          "colorbar": {
                            "outlinewidth": 1,
                            "tickcolor": "rgb(36,36,36)",
                            "ticks": "outside"
                          }
                        },
                        "type": "scatter3d"
                      }
                    ],
                    "scattercarpet": [
                      {
                        "marker": {
                          "colorbar": {
                            "outlinewidth": 1,
                            "tickcolor": "rgb(36,36,36)",
                            "ticks": "outside"
                          }
                        },
                        "type": "scattercarpet"
                      }
                    ],
                    "scattergeo": [
                      {
                        "marker": {
                          "colorbar": {
                            "outlinewidth": 1,
                            "tickcolor": "rgb(36,36,36)",
                            "ticks": "outside"
                          }
                        },
                        "type": "scattergeo"
                      }
                    ],
                    "scattergl": [
                      {
                        "marker": {
                          "colorbar": {
                            "outlinewidth": 1,
                            "tickcolor": "rgb(36,36,36)",
                            "ticks": "outside"
                          }
                        },
                        "type": "scattergl"
                      }
                    ],
                    "scattermapbox": [
                      {
                        "marker": {
                          "colorbar": {
                            "outlinewidth": 1,
                            "tickcolor": "rgb(36,36,36)",
                            "ticks": "outside"
                          }
                        },
                        "type": "scattermapbox"
                      }
                    ],
                    "scatterpolar": [
                      {
                        "marker": {
                          "colorbar": {
                            "outlinewidth": 1,
                            "tickcolor": "rgb(36,36,36)",
                            "ticks": "outside"
                          }
                        },
                        "type": "scatterpolar"
                      }
                    ],
                    "scatterpolargl": [
                      {
                        "marker": {
                          "colorbar": {
                            "outlinewidth": 1,
                            "tickcolor": "rgb(36,36,36)",
                            "ticks": "outside"
                          }
                        },
                        "type": "scatterpolargl"
                      }
                    ],
                    "scatterternary": [
                      {
                        "marker": {
                          "colorbar": {
                            "outlinewidth": 1,
                            "tickcolor": "rgb(36,36,36)",
                            "ticks": "outside"
                          }
                        },
                        "type": "scatterternary"
                      }
                    ],
                    "surface": [
                      {
                        "colorbar": {
                          "outlinewidth": 1,
                          "tickcolor": "rgb(36,36,36)",
                          "ticks": "outside"
                        },
                        "colorscale": [
                          [
                            0,
                            "#440154"
                          ],
                          [
                            0.1111111111111111,
                            "#482878"
                          ],
                          [
                            0.2222222222222222,
                            "#3e4989"
                          ],
                          [
                            0.3333333333333333,
                            "#31688e"
                          ],
                          [
                            0.4444444444444444,
                            "#26828e"
                          ],
                          [
                            0.5555555555555556,
                            "#1f9e89"
                          ],
                          [
                            0.6666666666666666,
                            "#35b779"
                          ],
                          [
                            0.7777777777777778,
                            "#6ece58"
                          ],
                          [
                            0.8888888888888888,
                            "#b5de2b"
                          ],
                          [
                            1,
                            "#fde725"
                          ]
                        ],
                        "type": "surface"
                      }
                    ],
                    "table": [
                      {
                        "cells": {
                          "fill": {
                            "color": "rgb(237,237,237)"
                          },
                          "line": {
                            "color": "white"
                          }
                        },
                        "header": {
                          "fill": {
                            "color": "rgb(217,217,217)"
                          },
                          "line": {
                            "color": "white"
                          }
                        },
                        "type": "table"
                      }
                    ]
                  },
                  "layout": {
                    "annotationdefaults": {
                      "arrowhead": 0,
                      "arrowwidth": 1
                    },
                    "autotypenumbers": "strict",
                    "coloraxis": {
                      "colorbar": {
                        "outlinewidth": 1,
                        "tickcolor": "rgb(36,36,36)",
                        "ticks": "outside"
                      }
                    },
                    "colorscale": {
                      "diverging": [
                        [
                          0,
                          "rgb(103,0,31)"
                        ],
                        [
                          0.1,
                          "rgb(178,24,43)"
                        ],
                        [
                          0.2,
                          "rgb(214,96,77)"
                        ],
                        [
                          0.3,
                          "rgb(244,165,130)"
                        ],
                        [
                          0.4,
                          "rgb(253,219,199)"
                        ],
                        [
                          0.5,
                          "rgb(247,247,247)"
                        ],
                        [
                          0.6,
                          "rgb(209,229,240)"
                        ],
                        [
                          0.7,
                          "rgb(146,197,222)"
                        ],
                        [
                          0.8,
                          "rgb(67,147,195)"
                        ],
                        [
                          0.9,
                          "rgb(33,102,172)"
                        ],
                        [
                          1,
                          "rgb(5,48,97)"
                        ]
                      ],
                      "sequential": [
                        [
                          0,
                          "#440154"
                        ],
                        [
                          0.1111111111111111,
                          "#482878"
                        ],
                        [
                          0.2222222222222222,
                          "#3e4989"
                        ],
                        [
                          0.3333333333333333,
                          "#31688e"
                        ],
                        [
                          0.4444444444444444,
                          "#26828e"
                        ],
                        [
                          0.5555555555555556,
                          "#1f9e89"
                        ],
                        [
                          0.6666666666666666,
                          "#35b779"
                        ],
                        [
                          0.7777777777777778,
                          "#6ece58"
                        ],
                        [
                          0.8888888888888888,
                          "#b5de2b"
                        ],
                        [
                          1,
                          "#fde725"
                        ]
                      ],
                      "sequentialminus": [
                        [
                          0,
                          "#440154"
                        ],
                        [
                          0.1111111111111111,
                          "#482878"
                        ],
                        [
                          0.2222222222222222,
                          "#3e4989"
                        ],
                        [
                          0.3333333333333333,
                          "#31688e"
                        ],
                        [
                          0.4444444444444444,
                          "#26828e"
                        ],
                        [
                          0.5555555555555556,
                          "#1f9e89"
                        ],
                        [
                          0.6666666666666666,
                          "#35b779"
                        ],
                        [
                          0.7777777777777778,
                          "#6ece58"
                        ],
                        [
                          0.8888888888888888,
                          "#b5de2b"
                        ],
                        [
                          1,
                          "#fde725"
                        ]
                      ]
                    },
                    "colorway": [
                      "#1F77B4",
                      "#FF7F0E",
                      "#2CA02C",
                      "#D62728",
                      "#9467BD",
                      "#8C564B",
                      "#E377C2",
                      "#7F7F7F",
                      "#BCBD22",
                      "#17BECF"
                    ],
                    "font": {
                      "color": "rgb(36,36,36)"
                    },
                    "geo": {
                      "bgcolor": "white",
                      "lakecolor": "white",
                      "landcolor": "white",
                      "showlakes": true,
                      "showland": true,
                      "subunitcolor": "white"
                    },
                    "hoverlabel": {
                      "align": "left"
                    },
                    "hovermode": "closest",
                    "mapbox": {
                      "style": "light"
                    },
                    "paper_bgcolor": "white",
                    "plot_bgcolor": "white",
                    "polar": {
                      "angularaxis": {
                        "gridcolor": "rgb(232,232,232)",
                        "linecolor": "rgb(36,36,36)",
                        "showgrid": false,
                        "showline": true,
                        "ticks": "outside"
                      },
                      "bgcolor": "white",
                      "radialaxis": {
                        "gridcolor": "rgb(232,232,232)",
                        "linecolor": "rgb(36,36,36)",
                        "showgrid": false,
                        "showline": true,
                        "ticks": "outside"
                      }
                    },
                    "scene": {
                      "xaxis": {
                        "backgroundcolor": "white",
                        "gridcolor": "rgb(232,232,232)",
                        "gridwidth": 2,
                        "linecolor": "rgb(36,36,36)",
                        "showbackground": true,
                        "showgrid": false,
                        "showline": true,
                        "ticks": "outside",
                        "zeroline": false,
                        "zerolinecolor": "rgb(36,36,36)"
                      },
                      "yaxis": {
                        "backgroundcolor": "white",
                        "gridcolor": "rgb(232,232,232)",
                        "gridwidth": 2,
                        "linecolor": "rgb(36,36,36)",
                        "showbackground": true,
                        "showgrid": false,
                        "showline": true,
                        "ticks": "outside",
                        "zeroline": false,
                        "zerolinecolor": "rgb(36,36,36)"
                      },
                      "zaxis": {
                        "backgroundcolor": "white",
                        "gridcolor": "rgb(232,232,232)",
                        "gridwidth": 2,
                        "linecolor": "rgb(36,36,36)",
                        "showbackground": true,
                        "showgrid": false,
                        "showline": true,
                        "ticks": "outside",
                        "zeroline": false,
                        "zerolinecolor": "rgb(36,36,36)"
                      }
                    },
                    "shapedefaults": {
                      "fillcolor": "black",
                      "line": {
                        "width": 0
                      },
                      "opacity": 0.3
                    },
                    "ternary": {
                      "aaxis": {
                        "gridcolor": "rgb(232,232,232)",
                        "linecolor": "rgb(36,36,36)",
                        "showgrid": false,
                        "showline": true,
                        "ticks": "outside"
                      },
                      "baxis": {
                        "gridcolor": "rgb(232,232,232)",
                        "linecolor": "rgb(36,36,36)",
                        "showgrid": false,
                        "showline": true,
                        "ticks": "outside"
                      },
                      "bgcolor": "white",
                      "caxis": {
                        "gridcolor": "rgb(232,232,232)",
                        "linecolor": "rgb(36,36,36)",
                        "showgrid": false,
                        "showline": true,
                        "ticks": "outside"
                      }
                    },
                    "title": {
                      "x": 0.05
                    },
                    "xaxis": {
                      "automargin": true,
                      "gridcolor": "rgb(232,232,232)",
                      "linecolor": "rgb(36,36,36)",
                      "showgrid": false,
                      "showline": true,
                      "ticks": "outside",
                      "title": {
                        "standoff": 15
                      },
                      "zeroline": false,
                      "zerolinecolor": "rgb(36,36,36)"
                    },
                    "yaxis": {
                      "automargin": true,
                      "gridcolor": "rgb(232,232,232)",
                      "linecolor": "rgb(36,36,36)",
                      "showgrid": false,
                      "showline": true,
                      "ticks": "outside",
                      "title": {
                        "standoff": 15
                      },
                      "zeroline": false,
                      "zerolinecolor": "rgb(36,36,36)"
                    }
                  }
                },
                "title": {
                  "font": {
                    "color": "Black",
                    "size": 22
                  },
                  "text": "<b>Intertopic Distance Map</b>",
                  "x": 0.5,
                  "xanchor": "center",
                  "y": 0.95,
                  "yanchor": "top"
                },
                "width": 650,
                "xaxis": {
                  "anchor": "y",
                  "domain": [
                    0,
                    1
                  ],
                  "range": [
                    -19.14107494354248,
                    19.081994342803956
                  ],
                  "title": {
                    "text": ""
                  },
                  "visible": false
                },
                "yaxis": {
                  "anchor": "x",
                  "domain": [
                    0,
                    1
                  ],
                  "range": [
                    -16.493181562423707,
                    30.2360520362854
                  ],
                  "title": {
                    "text": ""
                  },
                  "visible": false
                }
              }
            }
          },
          "metadata": {},
          "output_type": "display_data"
        }
      ],
      "source": [
        "model.visualize_topics()\n"
      ]
    },
    {
      "cell_type": "code",
      "execution_count": 30,
      "metadata": {},
      "outputs": [
        {
          "data": {
            "application/vnd.plotly.v1+json": {
              "config": {
                "plotlyServerURL": "https://plot.ly"
              },
              "data": [
                {
                  "marker": {
                    "color": "#C8D2D7",
                    "line": {
                      "color": "#6E8484",
                      "width": 1
                    }
                  },
                  "orientation": "h",
                  "type": "bar",
                  "x": [
                    0.021230725863972493,
                    0.015094284588568804,
                    0.024535753145250694,
                    0.02480198779595955,
                    0.027316510212527494,
                    0.08163357180787893,
                    0.019368637640160214,
                    0.02767547255671109,
                    0.019000491987573243,
                    0.01859559206211666,
                    0.017022620108368632,
                    0.0183011078278555,
                    0.018014500638486346,
                    0.02503947329667978
                  ],
                  "y": [
                    "<b>Topic 4</b>: varchar_export_bteq_tpt_...",
                    "<b>Topic 8</b>: procedure_stored_declare...",
                    "<b>Topic 11</b>: odbc_teradata_driver_co...",
                    "<b>Topic 12</b>: jdbc_java_com_teradata_...",
                    "<b>Topic 27</b>: sqoop_java_hadoop_apach...",
                    "<b>Topic 28</b>: teradata_data_database_...",
                    "<b>Topic 36</b>: view_grant_user_role_qu...",
                    "<b>Topic 37</b>: df_dataframe_teradata_i...",
                    "<b>Topic 39</b>: teradatasql_python_go_s...",
                    "<b>Topic 40</b>: pyodbc_odbc_driver_tera...",
                    "<b>Topic 59</b>: volatile_table_create_t...",
                    "<b>Topic 60</b>: sqlalchemy_engine_terad...",
                    "<b>Topic 62</b>: column_table_dbc_append...",
                    "<b>Topic 79</b>: adodb_dim_cmdsqldata_re..."
                  ]
                }
              ],
              "layout": {
                "height": 600,
                "hoverlabel": {
                  "bgcolor": "white",
                  "font": {
                    "family": "Rockwell",
                    "size": 16
                  }
                },
                "template": {
                  "data": {
                    "bar": [
                      {
                        "error_x": {
                          "color": "rgb(36,36,36)"
                        },
                        "error_y": {
                          "color": "rgb(36,36,36)"
                        },
                        "marker": {
                          "line": {
                            "color": "white",
                            "width": 0.5
                          },
                          "pattern": {
                            "fillmode": "overlay",
                            "size": 10,
                            "solidity": 0.2
                          }
                        },
                        "type": "bar"
                      }
                    ],
                    "barpolar": [
                      {
                        "marker": {
                          "line": {
                            "color": "white",
                            "width": 0.5
                          },
                          "pattern": {
                            "fillmode": "overlay",
                            "size": 10,
                            "solidity": 0.2
                          }
                        },
                        "type": "barpolar"
                      }
                    ],
                    "carpet": [
                      {
                        "aaxis": {
                          "endlinecolor": "rgb(36,36,36)",
                          "gridcolor": "white",
                          "linecolor": "white",
                          "minorgridcolor": "white",
                          "startlinecolor": "rgb(36,36,36)"
                        },
                        "baxis": {
                          "endlinecolor": "rgb(36,36,36)",
                          "gridcolor": "white",
                          "linecolor": "white",
                          "minorgridcolor": "white",
                          "startlinecolor": "rgb(36,36,36)"
                        },
                        "type": "carpet"
                      }
                    ],
                    "choropleth": [
                      {
                        "colorbar": {
                          "outlinewidth": 1,
                          "tickcolor": "rgb(36,36,36)",
                          "ticks": "outside"
                        },
                        "type": "choropleth"
                      }
                    ],
                    "contour": [
                      {
                        "colorbar": {
                          "outlinewidth": 1,
                          "tickcolor": "rgb(36,36,36)",
                          "ticks": "outside"
                        },
                        "colorscale": [
                          [
                            0,
                            "#440154"
                          ],
                          [
                            0.1111111111111111,
                            "#482878"
                          ],
                          [
                            0.2222222222222222,
                            "#3e4989"
                          ],
                          [
                            0.3333333333333333,
                            "#31688e"
                          ],
                          [
                            0.4444444444444444,
                            "#26828e"
                          ],
                          [
                            0.5555555555555556,
                            "#1f9e89"
                          ],
                          [
                            0.6666666666666666,
                            "#35b779"
                          ],
                          [
                            0.7777777777777778,
                            "#6ece58"
                          ],
                          [
                            0.8888888888888888,
                            "#b5de2b"
                          ],
                          [
                            1,
                            "#fde725"
                          ]
                        ],
                        "type": "contour"
                      }
                    ],
                    "contourcarpet": [
                      {
                        "colorbar": {
                          "outlinewidth": 1,
                          "tickcolor": "rgb(36,36,36)",
                          "ticks": "outside"
                        },
                        "type": "contourcarpet"
                      }
                    ],
                    "heatmap": [
                      {
                        "colorbar": {
                          "outlinewidth": 1,
                          "tickcolor": "rgb(36,36,36)",
                          "ticks": "outside"
                        },
                        "colorscale": [
                          [
                            0,
                            "#440154"
                          ],
                          [
                            0.1111111111111111,
                            "#482878"
                          ],
                          [
                            0.2222222222222222,
                            "#3e4989"
                          ],
                          [
                            0.3333333333333333,
                            "#31688e"
                          ],
                          [
                            0.4444444444444444,
                            "#26828e"
                          ],
                          [
                            0.5555555555555556,
                            "#1f9e89"
                          ],
                          [
                            0.6666666666666666,
                            "#35b779"
                          ],
                          [
                            0.7777777777777778,
                            "#6ece58"
                          ],
                          [
                            0.8888888888888888,
                            "#b5de2b"
                          ],
                          [
                            1,
                            "#fde725"
                          ]
                        ],
                        "type": "heatmap"
                      }
                    ],
                    "heatmapgl": [
                      {
                        "colorbar": {
                          "outlinewidth": 1,
                          "tickcolor": "rgb(36,36,36)",
                          "ticks": "outside"
                        },
                        "colorscale": [
                          [
                            0,
                            "#440154"
                          ],
                          [
                            0.1111111111111111,
                            "#482878"
                          ],
                          [
                            0.2222222222222222,
                            "#3e4989"
                          ],
                          [
                            0.3333333333333333,
                            "#31688e"
                          ],
                          [
                            0.4444444444444444,
                            "#26828e"
                          ],
                          [
                            0.5555555555555556,
                            "#1f9e89"
                          ],
                          [
                            0.6666666666666666,
                            "#35b779"
                          ],
                          [
                            0.7777777777777778,
                            "#6ece58"
                          ],
                          [
                            0.8888888888888888,
                            "#b5de2b"
                          ],
                          [
                            1,
                            "#fde725"
                          ]
                        ],
                        "type": "heatmapgl"
                      }
                    ],
                    "histogram": [
                      {
                        "marker": {
                          "line": {
                            "color": "white",
                            "width": 0.6
                          }
                        },
                        "type": "histogram"
                      }
                    ],
                    "histogram2d": [
                      {
                        "colorbar": {
                          "outlinewidth": 1,
                          "tickcolor": "rgb(36,36,36)",
                          "ticks": "outside"
                        },
                        "colorscale": [
                          [
                            0,
                            "#440154"
                          ],
                          [
                            0.1111111111111111,
                            "#482878"
                          ],
                          [
                            0.2222222222222222,
                            "#3e4989"
                          ],
                          [
                            0.3333333333333333,
                            "#31688e"
                          ],
                          [
                            0.4444444444444444,
                            "#26828e"
                          ],
                          [
                            0.5555555555555556,
                            "#1f9e89"
                          ],
                          [
                            0.6666666666666666,
                            "#35b779"
                          ],
                          [
                            0.7777777777777778,
                            "#6ece58"
                          ],
                          [
                            0.8888888888888888,
                            "#b5de2b"
                          ],
                          [
                            1,
                            "#fde725"
                          ]
                        ],
                        "type": "histogram2d"
                      }
                    ],
                    "histogram2dcontour": [
                      {
                        "colorbar": {
                          "outlinewidth": 1,
                          "tickcolor": "rgb(36,36,36)",
                          "ticks": "outside"
                        },
                        "colorscale": [
                          [
                            0,
                            "#440154"
                          ],
                          [
                            0.1111111111111111,
                            "#482878"
                          ],
                          [
                            0.2222222222222222,
                            "#3e4989"
                          ],
                          [
                            0.3333333333333333,
                            "#31688e"
                          ],
                          [
                            0.4444444444444444,
                            "#26828e"
                          ],
                          [
                            0.5555555555555556,
                            "#1f9e89"
                          ],
                          [
                            0.6666666666666666,
                            "#35b779"
                          ],
                          [
                            0.7777777777777778,
                            "#6ece58"
                          ],
                          [
                            0.8888888888888888,
                            "#b5de2b"
                          ],
                          [
                            1,
                            "#fde725"
                          ]
                        ],
                        "type": "histogram2dcontour"
                      }
                    ],
                    "mesh3d": [
                      {
                        "colorbar": {
                          "outlinewidth": 1,
                          "tickcolor": "rgb(36,36,36)",
                          "ticks": "outside"
                        },
                        "type": "mesh3d"
                      }
                    ],
                    "parcoords": [
                      {
                        "line": {
                          "colorbar": {
                            "outlinewidth": 1,
                            "tickcolor": "rgb(36,36,36)",
                            "ticks": "outside"
                          }
                        },
                        "type": "parcoords"
                      }
                    ],
                    "pie": [
                      {
                        "automargin": true,
                        "type": "pie"
                      }
                    ],
                    "scatter": [
                      {
                        "fillpattern": {
                          "fillmode": "overlay",
                          "size": 10,
                          "solidity": 0.2
                        },
                        "type": "scatter"
                      }
                    ],
                    "scatter3d": [
                      {
                        "line": {
                          "colorbar": {
                            "outlinewidth": 1,
                            "tickcolor": "rgb(36,36,36)",
                            "ticks": "outside"
                          }
                        },
                        "marker": {
                          "colorbar": {
                            "outlinewidth": 1,
                            "tickcolor": "rgb(36,36,36)",
                            "ticks": "outside"
                          }
                        },
                        "type": "scatter3d"
                      }
                    ],
                    "scattercarpet": [
                      {
                        "marker": {
                          "colorbar": {
                            "outlinewidth": 1,
                            "tickcolor": "rgb(36,36,36)",
                            "ticks": "outside"
                          }
                        },
                        "type": "scattercarpet"
                      }
                    ],
                    "scattergeo": [
                      {
                        "marker": {
                          "colorbar": {
                            "outlinewidth": 1,
                            "tickcolor": "rgb(36,36,36)",
                            "ticks": "outside"
                          }
                        },
                        "type": "scattergeo"
                      }
                    ],
                    "scattergl": [
                      {
                        "marker": {
                          "colorbar": {
                            "outlinewidth": 1,
                            "tickcolor": "rgb(36,36,36)",
                            "ticks": "outside"
                          }
                        },
                        "type": "scattergl"
                      }
                    ],
                    "scattermapbox": [
                      {
                        "marker": {
                          "colorbar": {
                            "outlinewidth": 1,
                            "tickcolor": "rgb(36,36,36)",
                            "ticks": "outside"
                          }
                        },
                        "type": "scattermapbox"
                      }
                    ],
                    "scatterpolar": [
                      {
                        "marker": {
                          "colorbar": {
                            "outlinewidth": 1,
                            "tickcolor": "rgb(36,36,36)",
                            "ticks": "outside"
                          }
                        },
                        "type": "scatterpolar"
                      }
                    ],
                    "scatterpolargl": [
                      {
                        "marker": {
                          "colorbar": {
                            "outlinewidth": 1,
                            "tickcolor": "rgb(36,36,36)",
                            "ticks": "outside"
                          }
                        },
                        "type": "scatterpolargl"
                      }
                    ],
                    "scatterternary": [
                      {
                        "marker": {
                          "colorbar": {
                            "outlinewidth": 1,
                            "tickcolor": "rgb(36,36,36)",
                            "ticks": "outside"
                          }
                        },
                        "type": "scatterternary"
                      }
                    ],
                    "surface": [
                      {
                        "colorbar": {
                          "outlinewidth": 1,
                          "tickcolor": "rgb(36,36,36)",
                          "ticks": "outside"
                        },
                        "colorscale": [
                          [
                            0,
                            "#440154"
                          ],
                          [
                            0.1111111111111111,
                            "#482878"
                          ],
                          [
                            0.2222222222222222,
                            "#3e4989"
                          ],
                          [
                            0.3333333333333333,
                            "#31688e"
                          ],
                          [
                            0.4444444444444444,
                            "#26828e"
                          ],
                          [
                            0.5555555555555556,
                            "#1f9e89"
                          ],
                          [
                            0.6666666666666666,
                            "#35b779"
                          ],
                          [
                            0.7777777777777778,
                            "#6ece58"
                          ],
                          [
                            0.8888888888888888,
                            "#b5de2b"
                          ],
                          [
                            1,
                            "#fde725"
                          ]
                        ],
                        "type": "surface"
                      }
                    ],
                    "table": [
                      {
                        "cells": {
                          "fill": {
                            "color": "rgb(237,237,237)"
                          },
                          "line": {
                            "color": "white"
                          }
                        },
                        "header": {
                          "fill": {
                            "color": "rgb(217,217,217)"
                          },
                          "line": {
                            "color": "white"
                          }
                        },
                        "type": "table"
                      }
                    ]
                  },
                  "layout": {
                    "annotationdefaults": {
                      "arrowhead": 0,
                      "arrowwidth": 1
                    },
                    "autotypenumbers": "strict",
                    "coloraxis": {
                      "colorbar": {
                        "outlinewidth": 1,
                        "tickcolor": "rgb(36,36,36)",
                        "ticks": "outside"
                      }
                    },
                    "colorscale": {
                      "diverging": [
                        [
                          0,
                          "rgb(103,0,31)"
                        ],
                        [
                          0.1,
                          "rgb(178,24,43)"
                        ],
                        [
                          0.2,
                          "rgb(214,96,77)"
                        ],
                        [
                          0.3,
                          "rgb(244,165,130)"
                        ],
                        [
                          0.4,
                          "rgb(253,219,199)"
                        ],
                        [
                          0.5,
                          "rgb(247,247,247)"
                        ],
                        [
                          0.6,
                          "rgb(209,229,240)"
                        ],
                        [
                          0.7,
                          "rgb(146,197,222)"
                        ],
                        [
                          0.8,
                          "rgb(67,147,195)"
                        ],
                        [
                          0.9,
                          "rgb(33,102,172)"
                        ],
                        [
                          1,
                          "rgb(5,48,97)"
                        ]
                      ],
                      "sequential": [
                        [
                          0,
                          "#440154"
                        ],
                        [
                          0.1111111111111111,
                          "#482878"
                        ],
                        [
                          0.2222222222222222,
                          "#3e4989"
                        ],
                        [
                          0.3333333333333333,
                          "#31688e"
                        ],
                        [
                          0.4444444444444444,
                          "#26828e"
                        ],
                        [
                          0.5555555555555556,
                          "#1f9e89"
                        ],
                        [
                          0.6666666666666666,
                          "#35b779"
                        ],
                        [
                          0.7777777777777778,
                          "#6ece58"
                        ],
                        [
                          0.8888888888888888,
                          "#b5de2b"
                        ],
                        [
                          1,
                          "#fde725"
                        ]
                      ],
                      "sequentialminus": [
                        [
                          0,
                          "#440154"
                        ],
                        [
                          0.1111111111111111,
                          "#482878"
                        ],
                        [
                          0.2222222222222222,
                          "#3e4989"
                        ],
                        [
                          0.3333333333333333,
                          "#31688e"
                        ],
                        [
                          0.4444444444444444,
                          "#26828e"
                        ],
                        [
                          0.5555555555555556,
                          "#1f9e89"
                        ],
                        [
                          0.6666666666666666,
                          "#35b779"
                        ],
                        [
                          0.7777777777777778,
                          "#6ece58"
                        ],
                        [
                          0.8888888888888888,
                          "#b5de2b"
                        ],
                        [
                          1,
                          "#fde725"
                        ]
                      ]
                    },
                    "colorway": [
                      "#1F77B4",
                      "#FF7F0E",
                      "#2CA02C",
                      "#D62728",
                      "#9467BD",
                      "#8C564B",
                      "#E377C2",
                      "#7F7F7F",
                      "#BCBD22",
                      "#17BECF"
                    ],
                    "font": {
                      "color": "rgb(36,36,36)"
                    },
                    "geo": {
                      "bgcolor": "white",
                      "lakecolor": "white",
                      "landcolor": "white",
                      "showlakes": true,
                      "showland": true,
                      "subunitcolor": "white"
                    },
                    "hoverlabel": {
                      "align": "left"
                    },
                    "hovermode": "closest",
                    "mapbox": {
                      "style": "light"
                    },
                    "paper_bgcolor": "white",
                    "plot_bgcolor": "white",
                    "polar": {
                      "angularaxis": {
                        "gridcolor": "rgb(232,232,232)",
                        "linecolor": "rgb(36,36,36)",
                        "showgrid": false,
                        "showline": true,
                        "ticks": "outside"
                      },
                      "bgcolor": "white",
                      "radialaxis": {
                        "gridcolor": "rgb(232,232,232)",
                        "linecolor": "rgb(36,36,36)",
                        "showgrid": false,
                        "showline": true,
                        "ticks": "outside"
                      }
                    },
                    "scene": {
                      "xaxis": {
                        "backgroundcolor": "white",
                        "gridcolor": "rgb(232,232,232)",
                        "gridwidth": 2,
                        "linecolor": "rgb(36,36,36)",
                        "showbackground": true,
                        "showgrid": false,
                        "showline": true,
                        "ticks": "outside",
                        "zeroline": false,
                        "zerolinecolor": "rgb(36,36,36)"
                      },
                      "yaxis": {
                        "backgroundcolor": "white",
                        "gridcolor": "rgb(232,232,232)",
                        "gridwidth": 2,
                        "linecolor": "rgb(36,36,36)",
                        "showbackground": true,
                        "showgrid": false,
                        "showline": true,
                        "ticks": "outside",
                        "zeroline": false,
                        "zerolinecolor": "rgb(36,36,36)"
                      },
                      "zaxis": {
                        "backgroundcolor": "white",
                        "gridcolor": "rgb(232,232,232)",
                        "gridwidth": 2,
                        "linecolor": "rgb(36,36,36)",
                        "showbackground": true,
                        "showgrid": false,
                        "showline": true,
                        "ticks": "outside",
                        "zeroline": false,
                        "zerolinecolor": "rgb(36,36,36)"
                      }
                    },
                    "shapedefaults": {
                      "fillcolor": "black",
                      "line": {
                        "width": 0
                      },
                      "opacity": 0.3
                    },
                    "ternary": {
                      "aaxis": {
                        "gridcolor": "rgb(232,232,232)",
                        "linecolor": "rgb(36,36,36)",
                        "showgrid": false,
                        "showline": true,
                        "ticks": "outside"
                      },
                      "baxis": {
                        "gridcolor": "rgb(232,232,232)",
                        "linecolor": "rgb(36,36,36)",
                        "showgrid": false,
                        "showline": true,
                        "ticks": "outside"
                      },
                      "bgcolor": "white",
                      "caxis": {
                        "gridcolor": "rgb(232,232,232)",
                        "linecolor": "rgb(36,36,36)",
                        "showgrid": false,
                        "showline": true,
                        "ticks": "outside"
                      }
                    },
                    "title": {
                      "x": 0.05
                    },
                    "xaxis": {
                      "automargin": true,
                      "gridcolor": "rgb(232,232,232)",
                      "linecolor": "rgb(36,36,36)",
                      "showgrid": false,
                      "showline": true,
                      "ticks": "outside",
                      "title": {
                        "standoff": 15
                      },
                      "zeroline": false,
                      "zerolinecolor": "rgb(36,36,36)"
                    },
                    "yaxis": {
                      "automargin": true,
                      "gridcolor": "rgb(232,232,232)",
                      "linecolor": "rgb(36,36,36)",
                      "showgrid": false,
                      "showline": true,
                      "ticks": "outside",
                      "title": {
                        "standoff": 15
                      },
                      "zeroline": false,
                      "zerolinecolor": "rgb(36,36,36)"
                    }
                  }
                },
                "title": {
                  "font": {
                    "color": "Black",
                    "size": 22
                  },
                  "text": "<b>Topic Probability Distribution</b>",
                  "x": 0.5,
                  "xanchor": "center",
                  "y": 0.95,
                  "yanchor": "top"
                },
                "width": 800,
                "xaxis": {
                  "title": {
                    "text": "Probability"
                  }
                }
              }
            }
          },
          "metadata": {},
          "output_type": "display_data"
        }
      ],
      "source": [
        "model.visualize_distribution(probabilities[79], min_probability=0.015)"
      ]
    },
    {
      "cell_type": "code",
      "execution_count": 31,
      "metadata": {},
      "outputs": [
        {
          "data": {
            "application/vnd.plotly.v1+json": {
              "config": {
                "plotlyServerURL": "https://plot.ly"
              },
              "data": [
                {
                  "hoverinfo": "text",
                  "marker": {
                    "color": "rgb(61,153,112)"
                  },
                  "mode": "lines",
                  "type": "scatter",
                  "x": [
                    0,
                    0.6400848289592912,
                    0.6400848289592912,
                    0
                  ],
                  "xaxis": "x",
                  "y": [
                    -5,
                    -5,
                    -15,
                    -15
                  ],
                  "yaxis": "y"
                },
                {
                  "hoverinfo": "text",
                  "marker": {
                    "color": "rgb(61,153,112)"
                  },
                  "mode": "lines",
                  "type": "scatter",
                  "x": [
                    0,
                    0.3193656188654622,
                    0.3193656188654622,
                    0
                  ],
                  "xaxis": "x",
                  "y": [
                    -35,
                    -35,
                    -45,
                    -45
                  ],
                  "yaxis": "y"
                },
                {
                  "hoverinfo": "text",
                  "marker": {
                    "color": "rgb(61,153,112)"
                  },
                  "mode": "lines",
                  "type": "scatter",
                  "x": [
                    0,
                    0.5009844458964052,
                    0.5009844458964052,
                    0.3193656188654622
                  ],
                  "xaxis": "x",
                  "y": [
                    -25,
                    -25,
                    -40,
                    -40
                  ],
                  "yaxis": "y"
                },
                {
                  "hoverinfo": "text",
                  "marker": {
                    "color": "rgb(61,153,112)"
                  },
                  "mode": "lines",
                  "type": "scatter",
                  "x": [
                    0.5009844458964052,
                    0.7710236094306877,
                    0.7710236094306877,
                    0
                  ],
                  "xaxis": "x",
                  "y": [
                    -32.5,
                    -32.5,
                    -55,
                    -55
                  ],
                  "yaxis": "y"
                },
                {
                  "hoverinfo": "text",
                  "marker": {
                    "color": "rgb(61,153,112)"
                  },
                  "mode": "lines",
                  "type": "scatter",
                  "x": [
                    0.6400848289592912,
                    0.8842219392669529,
                    0.8842219392669529,
                    0.7710236094306877
                  ],
                  "xaxis": "x",
                  "y": [
                    -10,
                    -10,
                    -43.75,
                    -43.75
                  ],
                  "yaxis": "y"
                },
                {
                  "hoverinfo": "text",
                  "marker": {
                    "color": "rgb(255,65,54)"
                  },
                  "mode": "lines",
                  "type": "scatter",
                  "x": [
                    0,
                    0.8847758353770538,
                    0.8847758353770538,
                    0
                  ],
                  "xaxis": "x",
                  "y": [
                    -65,
                    -65,
                    -75,
                    -75
                  ],
                  "yaxis": "y"
                },
                {
                  "hoverinfo": "text",
                  "marker": {
                    "color": "rgb(255,65,54)"
                  },
                  "mode": "lines",
                  "type": "scatter",
                  "x": [
                    0,
                    0.7251902195620866,
                    0.7251902195620866,
                    0
                  ],
                  "xaxis": "x",
                  "y": [
                    -85,
                    -85,
                    -95,
                    -95
                  ],
                  "yaxis": "y"
                },
                {
                  "hoverinfo": "text",
                  "marker": {
                    "color": "rgb(255,65,54)"
                  },
                  "mode": "lines",
                  "type": "scatter",
                  "x": [
                    0.8847758353770538,
                    0.947870025187743,
                    0.947870025187743,
                    0.7251902195620866
                  ],
                  "xaxis": "x",
                  "y": [
                    -70,
                    -70,
                    -90,
                    -90
                  ],
                  "yaxis": "y"
                },
                {
                  "hoverinfo": "text",
                  "marker": {
                    "color": "rgb(255,65,54)"
                  },
                  "mode": "lines",
                  "type": "scatter",
                  "x": [
                    0,
                    0.8194936432579494,
                    0.8194936432579494,
                    0
                  ],
                  "xaxis": "x",
                  "y": [
                    -115,
                    -115,
                    -125,
                    -125
                  ],
                  "yaxis": "y"
                },
                {
                  "hoverinfo": "text",
                  "marker": {
                    "color": "rgb(255,65,54)"
                  },
                  "mode": "lines",
                  "type": "scatter",
                  "x": [
                    0,
                    0.905197037745567,
                    0.905197037745567,
                    0.8194936432579494
                  ],
                  "xaxis": "x",
                  "y": [
                    -105,
                    -105,
                    -120,
                    -120
                  ],
                  "yaxis": "y"
                },
                {
                  "hoverinfo": "text",
                  "marker": {
                    "color": "rgb(255,65,54)"
                  },
                  "mode": "lines",
                  "type": "scatter",
                  "x": [
                    0.947870025187743,
                    0.9828524649264189,
                    0.9828524649264189,
                    0.905197037745567
                  ],
                  "xaxis": "x",
                  "y": [
                    -80,
                    -80,
                    -112.5,
                    -112.5
                  ],
                  "yaxis": "y"
                },
                {
                  "hoverinfo": "text",
                  "marker": {
                    "color": "rgb(35,205,205)"
                  },
                  "mode": "lines",
                  "type": "scatter",
                  "x": [
                    0,
                    0.6724985083552342,
                    0.6724985083552342,
                    0
                  ],
                  "xaxis": "x",
                  "y": [
                    -135,
                    -135,
                    -145,
                    -145
                  ],
                  "yaxis": "y"
                },
                {
                  "hoverinfo": "text",
                  "marker": {
                    "color": "rgb(0,116,217)"
                  },
                  "mode": "lines",
                  "type": "scatter",
                  "x": [
                    0.9828524649264189,
                    1.021192965228449,
                    1.021192965228449,
                    0.6724985083552342
                  ],
                  "xaxis": "x",
                  "y": [
                    -96.25,
                    -96.25,
                    -140,
                    -140
                  ],
                  "yaxis": "y"
                },
                {
                  "hoverinfo": "text",
                  "marker": {
                    "color": "rgb(133,20,75)"
                  },
                  "mode": "lines",
                  "type": "scatter",
                  "x": [
                    0,
                    0.6762738555423585,
                    0.6762738555423585,
                    0
                  ],
                  "xaxis": "x",
                  "y": [
                    -165,
                    -165,
                    -175,
                    -175
                  ],
                  "yaxis": "y"
                },
                {
                  "hoverinfo": "text",
                  "marker": {
                    "color": "rgb(133,20,75)"
                  },
                  "mode": "lines",
                  "type": "scatter",
                  "x": [
                    0.6762738555423585,
                    0.7282121499064247,
                    0.7282121499064247,
                    0
                  ],
                  "xaxis": "x",
                  "y": [
                    -170,
                    -170,
                    -185,
                    -185
                  ],
                  "yaxis": "y"
                },
                {
                  "hoverinfo": "text",
                  "marker": {
                    "color": "rgb(133,20,75)"
                  },
                  "mode": "lines",
                  "type": "scatter",
                  "x": [
                    0,
                    0.8137296247085848,
                    0.8137296247085848,
                    0.7282121499064247
                  ],
                  "xaxis": "x",
                  "y": [
                    -155,
                    -155,
                    -177.5,
                    -177.5
                  ],
                  "yaxis": "y"
                },
                {
                  "hoverinfo": "text",
                  "marker": {
                    "color": "rgb(133,20,75)"
                  },
                  "mode": "lines",
                  "type": "scatter",
                  "x": [
                    0.8137296247085848,
                    0.8795125874351131,
                    0.8795125874351131,
                    0
                  ],
                  "xaxis": "x",
                  "y": [
                    -166.25,
                    -166.25,
                    -195,
                    -195
                  ],
                  "yaxis": "y"
                },
                {
                  "hoverinfo": "text",
                  "marker": {
                    "color": "rgb(0,116,217)"
                  },
                  "mode": "lines",
                  "type": "scatter",
                  "x": [
                    1.021192965228449,
                    1.0939087629036048,
                    1.0939087629036048,
                    0.8795125874351131
                  ],
                  "xaxis": "x",
                  "y": [
                    -118.125,
                    -118.125,
                    -180.625,
                    -180.625
                  ],
                  "yaxis": "y"
                },
                {
                  "hoverinfo": "text",
                  "marker": {
                    "color": "rgb(0,116,217)"
                  },
                  "mode": "lines",
                  "type": "scatter",
                  "x": [
                    0.8842219392669529,
                    1.4186460132688414,
                    1.4186460132688414,
                    1.0939087629036048
                  ],
                  "xaxis": "x",
                  "y": [
                    -26.875,
                    -26.875,
                    -149.375,
                    -149.375
                  ],
                  "yaxis": "y"
                }
              ],
              "layout": {
                "autosize": false,
                "height": 500,
                "hoverlabel": {
                  "bgcolor": "white",
                  "font": {
                    "family": "Rockwell",
                    "size": 16
                  }
                },
                "hovermode": "closest",
                "plot_bgcolor": "#ECEFF1",
                "showlegend": false,
                "template": {
                  "data": {
                    "bar": [
                      {
                        "error_x": {
                          "color": "#2a3f5f"
                        },
                        "error_y": {
                          "color": "#2a3f5f"
                        },
                        "marker": {
                          "line": {
                            "color": "white",
                            "width": 0.5
                          },
                          "pattern": {
                            "fillmode": "overlay",
                            "size": 10,
                            "solidity": 0.2
                          }
                        },
                        "type": "bar"
                      }
                    ],
                    "barpolar": [
                      {
                        "marker": {
                          "line": {
                            "color": "white",
                            "width": 0.5
                          },
                          "pattern": {
                            "fillmode": "overlay",
                            "size": 10,
                            "solidity": 0.2
                          }
                        },
                        "type": "barpolar"
                      }
                    ],
                    "carpet": [
                      {
                        "aaxis": {
                          "endlinecolor": "#2a3f5f",
                          "gridcolor": "#C8D4E3",
                          "linecolor": "#C8D4E3",
                          "minorgridcolor": "#C8D4E3",
                          "startlinecolor": "#2a3f5f"
                        },
                        "baxis": {
                          "endlinecolor": "#2a3f5f",
                          "gridcolor": "#C8D4E3",
                          "linecolor": "#C8D4E3",
                          "minorgridcolor": "#C8D4E3",
                          "startlinecolor": "#2a3f5f"
                        },
                        "type": "carpet"
                      }
                    ],
                    "choropleth": [
                      {
                        "colorbar": {
                          "outlinewidth": 0,
                          "ticks": ""
                        },
                        "type": "choropleth"
                      }
                    ],
                    "contour": [
                      {
                        "colorbar": {
                          "outlinewidth": 0,
                          "ticks": ""
                        },
                        "colorscale": [
                          [
                            0,
                            "#0d0887"
                          ],
                          [
                            0.1111111111111111,
                            "#46039f"
                          ],
                          [
                            0.2222222222222222,
                            "#7201a8"
                          ],
                          [
                            0.3333333333333333,
                            "#9c179e"
                          ],
                          [
                            0.4444444444444444,
                            "#bd3786"
                          ],
                          [
                            0.5555555555555556,
                            "#d8576b"
                          ],
                          [
                            0.6666666666666666,
                            "#ed7953"
                          ],
                          [
                            0.7777777777777778,
                            "#fb9f3a"
                          ],
                          [
                            0.8888888888888888,
                            "#fdca26"
                          ],
                          [
                            1,
                            "#f0f921"
                          ]
                        ],
                        "type": "contour"
                      }
                    ],
                    "contourcarpet": [
                      {
                        "colorbar": {
                          "outlinewidth": 0,
                          "ticks": ""
                        },
                        "type": "contourcarpet"
                      }
                    ],
                    "heatmap": [
                      {
                        "colorbar": {
                          "outlinewidth": 0,
                          "ticks": ""
                        },
                        "colorscale": [
                          [
                            0,
                            "#0d0887"
                          ],
                          [
                            0.1111111111111111,
                            "#46039f"
                          ],
                          [
                            0.2222222222222222,
                            "#7201a8"
                          ],
                          [
                            0.3333333333333333,
                            "#9c179e"
                          ],
                          [
                            0.4444444444444444,
                            "#bd3786"
                          ],
                          [
                            0.5555555555555556,
                            "#d8576b"
                          ],
                          [
                            0.6666666666666666,
                            "#ed7953"
                          ],
                          [
                            0.7777777777777778,
                            "#fb9f3a"
                          ],
                          [
                            0.8888888888888888,
                            "#fdca26"
                          ],
                          [
                            1,
                            "#f0f921"
                          ]
                        ],
                        "type": "heatmap"
                      }
                    ],
                    "heatmapgl": [
                      {
                        "colorbar": {
                          "outlinewidth": 0,
                          "ticks": ""
                        },
                        "colorscale": [
                          [
                            0,
                            "#0d0887"
                          ],
                          [
                            0.1111111111111111,
                            "#46039f"
                          ],
                          [
                            0.2222222222222222,
                            "#7201a8"
                          ],
                          [
                            0.3333333333333333,
                            "#9c179e"
                          ],
                          [
                            0.4444444444444444,
                            "#bd3786"
                          ],
                          [
                            0.5555555555555556,
                            "#d8576b"
                          ],
                          [
                            0.6666666666666666,
                            "#ed7953"
                          ],
                          [
                            0.7777777777777778,
                            "#fb9f3a"
                          ],
                          [
                            0.8888888888888888,
                            "#fdca26"
                          ],
                          [
                            1,
                            "#f0f921"
                          ]
                        ],
                        "type": "heatmapgl"
                      }
                    ],
                    "histogram": [
                      {
                        "marker": {
                          "pattern": {
                            "fillmode": "overlay",
                            "size": 10,
                            "solidity": 0.2
                          }
                        },
                        "type": "histogram"
                      }
                    ],
                    "histogram2d": [
                      {
                        "colorbar": {
                          "outlinewidth": 0,
                          "ticks": ""
                        },
                        "colorscale": [
                          [
                            0,
                            "#0d0887"
                          ],
                          [
                            0.1111111111111111,
                            "#46039f"
                          ],
                          [
                            0.2222222222222222,
                            "#7201a8"
                          ],
                          [
                            0.3333333333333333,
                            "#9c179e"
                          ],
                          [
                            0.4444444444444444,
                            "#bd3786"
                          ],
                          [
                            0.5555555555555556,
                            "#d8576b"
                          ],
                          [
                            0.6666666666666666,
                            "#ed7953"
                          ],
                          [
                            0.7777777777777778,
                            "#fb9f3a"
                          ],
                          [
                            0.8888888888888888,
                            "#fdca26"
                          ],
                          [
                            1,
                            "#f0f921"
                          ]
                        ],
                        "type": "histogram2d"
                      }
                    ],
                    "histogram2dcontour": [
                      {
                        "colorbar": {
                          "outlinewidth": 0,
                          "ticks": ""
                        },
                        "colorscale": [
                          [
                            0,
                            "#0d0887"
                          ],
                          [
                            0.1111111111111111,
                            "#46039f"
                          ],
                          [
                            0.2222222222222222,
                            "#7201a8"
                          ],
                          [
                            0.3333333333333333,
                            "#9c179e"
                          ],
                          [
                            0.4444444444444444,
                            "#bd3786"
                          ],
                          [
                            0.5555555555555556,
                            "#d8576b"
                          ],
                          [
                            0.6666666666666666,
                            "#ed7953"
                          ],
                          [
                            0.7777777777777778,
                            "#fb9f3a"
                          ],
                          [
                            0.8888888888888888,
                            "#fdca26"
                          ],
                          [
                            1,
                            "#f0f921"
                          ]
                        ],
                        "type": "histogram2dcontour"
                      }
                    ],
                    "mesh3d": [
                      {
                        "colorbar": {
                          "outlinewidth": 0,
                          "ticks": ""
                        },
                        "type": "mesh3d"
                      }
                    ],
                    "parcoords": [
                      {
                        "line": {
                          "colorbar": {
                            "outlinewidth": 0,
                            "ticks": ""
                          }
                        },
                        "type": "parcoords"
                      }
                    ],
                    "pie": [
                      {
                        "automargin": true,
                        "type": "pie"
                      }
                    ],
                    "scatter": [
                      {
                        "fillpattern": {
                          "fillmode": "overlay",
                          "size": 10,
                          "solidity": 0.2
                        },
                        "type": "scatter"
                      }
                    ],
                    "scatter3d": [
                      {
                        "line": {
                          "colorbar": {
                            "outlinewidth": 0,
                            "ticks": ""
                          }
                        },
                        "marker": {
                          "colorbar": {
                            "outlinewidth": 0,
                            "ticks": ""
                          }
                        },
                        "type": "scatter3d"
                      }
                    ],
                    "scattercarpet": [
                      {
                        "marker": {
                          "colorbar": {
                            "outlinewidth": 0,
                            "ticks": ""
                          }
                        },
                        "type": "scattercarpet"
                      }
                    ],
                    "scattergeo": [
                      {
                        "marker": {
                          "colorbar": {
                            "outlinewidth": 0,
                            "ticks": ""
                          }
                        },
                        "type": "scattergeo"
                      }
                    ],
                    "scattergl": [
                      {
                        "marker": {
                          "colorbar": {
                            "outlinewidth": 0,
                            "ticks": ""
                          }
                        },
                        "type": "scattergl"
                      }
                    ],
                    "scattermapbox": [
                      {
                        "marker": {
                          "colorbar": {
                            "outlinewidth": 0,
                            "ticks": ""
                          }
                        },
                        "type": "scattermapbox"
                      }
                    ],
                    "scatterpolar": [
                      {
                        "marker": {
                          "colorbar": {
                            "outlinewidth": 0,
                            "ticks": ""
                          }
                        },
                        "type": "scatterpolar"
                      }
                    ],
                    "scatterpolargl": [
                      {
                        "marker": {
                          "colorbar": {
                            "outlinewidth": 0,
                            "ticks": ""
                          }
                        },
                        "type": "scatterpolargl"
                      }
                    ],
                    "scatterternary": [
                      {
                        "marker": {
                          "colorbar": {
                            "outlinewidth": 0,
                            "ticks": ""
                          }
                        },
                        "type": "scatterternary"
                      }
                    ],
                    "surface": [
                      {
                        "colorbar": {
                          "outlinewidth": 0,
                          "ticks": ""
                        },
                        "colorscale": [
                          [
                            0,
                            "#0d0887"
                          ],
                          [
                            0.1111111111111111,
                            "#46039f"
                          ],
                          [
                            0.2222222222222222,
                            "#7201a8"
                          ],
                          [
                            0.3333333333333333,
                            "#9c179e"
                          ],
                          [
                            0.4444444444444444,
                            "#bd3786"
                          ],
                          [
                            0.5555555555555556,
                            "#d8576b"
                          ],
                          [
                            0.6666666666666666,
                            "#ed7953"
                          ],
                          [
                            0.7777777777777778,
                            "#fb9f3a"
                          ],
                          [
                            0.8888888888888888,
                            "#fdca26"
                          ],
                          [
                            1,
                            "#f0f921"
                          ]
                        ],
                        "type": "surface"
                      }
                    ],
                    "table": [
                      {
                        "cells": {
                          "fill": {
                            "color": "#EBF0F8"
                          },
                          "line": {
                            "color": "white"
                          }
                        },
                        "header": {
                          "fill": {
                            "color": "#C8D4E3"
                          },
                          "line": {
                            "color": "white"
                          }
                        },
                        "type": "table"
                      }
                    ]
                  },
                  "layout": {
                    "annotationdefaults": {
                      "arrowcolor": "#2a3f5f",
                      "arrowhead": 0,
                      "arrowwidth": 1
                    },
                    "autotypenumbers": "strict",
                    "coloraxis": {
                      "colorbar": {
                        "outlinewidth": 0,
                        "ticks": ""
                      }
                    },
                    "colorscale": {
                      "diverging": [
                        [
                          0,
                          "#8e0152"
                        ],
                        [
                          0.1,
                          "#c51b7d"
                        ],
                        [
                          0.2,
                          "#de77ae"
                        ],
                        [
                          0.3,
                          "#f1b6da"
                        ],
                        [
                          0.4,
                          "#fde0ef"
                        ],
                        [
                          0.5,
                          "#f7f7f7"
                        ],
                        [
                          0.6,
                          "#e6f5d0"
                        ],
                        [
                          0.7,
                          "#b8e186"
                        ],
                        [
                          0.8,
                          "#7fbc41"
                        ],
                        [
                          0.9,
                          "#4d9221"
                        ],
                        [
                          1,
                          "#276419"
                        ]
                      ],
                      "sequential": [
                        [
                          0,
                          "#0d0887"
                        ],
                        [
                          0.1111111111111111,
                          "#46039f"
                        ],
                        [
                          0.2222222222222222,
                          "#7201a8"
                        ],
                        [
                          0.3333333333333333,
                          "#9c179e"
                        ],
                        [
                          0.4444444444444444,
                          "#bd3786"
                        ],
                        [
                          0.5555555555555556,
                          "#d8576b"
                        ],
                        [
                          0.6666666666666666,
                          "#ed7953"
                        ],
                        [
                          0.7777777777777778,
                          "#fb9f3a"
                        ],
                        [
                          0.8888888888888888,
                          "#fdca26"
                        ],
                        [
                          1,
                          "#f0f921"
                        ]
                      ],
                      "sequentialminus": [
                        [
                          0,
                          "#0d0887"
                        ],
                        [
                          0.1111111111111111,
                          "#46039f"
                        ],
                        [
                          0.2222222222222222,
                          "#7201a8"
                        ],
                        [
                          0.3333333333333333,
                          "#9c179e"
                        ],
                        [
                          0.4444444444444444,
                          "#bd3786"
                        ],
                        [
                          0.5555555555555556,
                          "#d8576b"
                        ],
                        [
                          0.6666666666666666,
                          "#ed7953"
                        ],
                        [
                          0.7777777777777778,
                          "#fb9f3a"
                        ],
                        [
                          0.8888888888888888,
                          "#fdca26"
                        ],
                        [
                          1,
                          "#f0f921"
                        ]
                      ]
                    },
                    "colorway": [
                      "#636efa",
                      "#EF553B",
                      "#00cc96",
                      "#ab63fa",
                      "#FFA15A",
                      "#19d3f3",
                      "#FF6692",
                      "#B6E880",
                      "#FF97FF",
                      "#FECB52"
                    ],
                    "font": {
                      "color": "#2a3f5f"
                    },
                    "geo": {
                      "bgcolor": "white",
                      "lakecolor": "white",
                      "landcolor": "white",
                      "showlakes": true,
                      "showland": true,
                      "subunitcolor": "#C8D4E3"
                    },
                    "hoverlabel": {
                      "align": "left"
                    },
                    "hovermode": "closest",
                    "mapbox": {
                      "style": "light"
                    },
                    "paper_bgcolor": "white",
                    "plot_bgcolor": "white",
                    "polar": {
                      "angularaxis": {
                        "gridcolor": "#EBF0F8",
                        "linecolor": "#EBF0F8",
                        "ticks": ""
                      },
                      "bgcolor": "white",
                      "radialaxis": {
                        "gridcolor": "#EBF0F8",
                        "linecolor": "#EBF0F8",
                        "ticks": ""
                      }
                    },
                    "scene": {
                      "xaxis": {
                        "backgroundcolor": "white",
                        "gridcolor": "#DFE8F3",
                        "gridwidth": 2,
                        "linecolor": "#EBF0F8",
                        "showbackground": true,
                        "ticks": "",
                        "zerolinecolor": "#EBF0F8"
                      },
                      "yaxis": {
                        "backgroundcolor": "white",
                        "gridcolor": "#DFE8F3",
                        "gridwidth": 2,
                        "linecolor": "#EBF0F8",
                        "showbackground": true,
                        "ticks": "",
                        "zerolinecolor": "#EBF0F8"
                      },
                      "zaxis": {
                        "backgroundcolor": "white",
                        "gridcolor": "#DFE8F3",
                        "gridwidth": 2,
                        "linecolor": "#EBF0F8",
                        "showbackground": true,
                        "ticks": "",
                        "zerolinecolor": "#EBF0F8"
                      }
                    },
                    "shapedefaults": {
                      "line": {
                        "color": "#2a3f5f"
                      }
                    },
                    "ternary": {
                      "aaxis": {
                        "gridcolor": "#DFE8F3",
                        "linecolor": "#A2B1C6",
                        "ticks": ""
                      },
                      "baxis": {
                        "gridcolor": "#DFE8F3",
                        "linecolor": "#A2B1C6",
                        "ticks": ""
                      },
                      "bgcolor": "white",
                      "caxis": {
                        "gridcolor": "#DFE8F3",
                        "linecolor": "#A2B1C6",
                        "ticks": ""
                      }
                    },
                    "title": {
                      "x": 0.05
                    },
                    "xaxis": {
                      "automargin": true,
                      "gridcolor": "#EBF0F8",
                      "linecolor": "#EBF0F8",
                      "ticks": "",
                      "title": {
                        "standoff": 15
                      },
                      "zerolinecolor": "#EBF0F8",
                      "zerolinewidth": 2
                    },
                    "yaxis": {
                      "automargin": true,
                      "gridcolor": "#EBF0F8",
                      "linecolor": "#EBF0F8",
                      "ticks": "",
                      "title": {
                        "standoff": 15
                      },
                      "zerolinecolor": "#EBF0F8",
                      "zerolinewidth": 2
                    }
                  }
                },
                "title": {
                  "font": {
                    "color": "Black",
                    "size": 22
                  },
                  "text": "<b>Hierarchical Clustering</b>",
                  "x": 0.5,
                  "xanchor": "center",
                  "yanchor": "top"
                },
                "width": 1000,
                "xaxis": {
                  "mirror": "allticks",
                  "rangemode": "tozero",
                  "showgrid": false,
                  "showline": true,
                  "showticklabels": true,
                  "ticks": "outside",
                  "type": "linear",
                  "zeroline": false
                },
                "yaxis": {
                  "mirror": "allticks",
                  "range": [
                    -200,
                    0
                  ],
                  "rangemode": "tozero",
                  "showgrid": false,
                  "showline": true,
                  "showticklabels": true,
                  "tickmode": "array",
                  "ticks": "outside",
                  "ticktext": [
                    "18_conda_environment_snakem...",
                    "6_cluster_job_slurm",
                    "9_rule_input_output",
                    "14_sample_fastq_bam",
                    "13_genome_sample_fastq",
                    "3_nextflow_process_channel",
                    "5_docker_swarm_service",
                    "7_ansible_role_galaxy",
                    "15_airflow_dag_py",
                    "2_luigi_task_self",
                    "16_gl_kepler_map",
                    "10_rapidminer_model_document",
                    "17_knime_node_workflow",
                    "0_eclipse_org_java",
                    "12_jdbc_java_com",
                    "11_odbc_teradata_driver",
                    "1_monetdb_database_table",
                    "4_varchar_export_bteq",
                    "8_procedure_stored_declare",
                    "19_timestamp_convert_format"
                  ],
                  "tickvals": [
                    -5,
                    -15,
                    -25,
                    -35,
                    -45,
                    -55,
                    -65,
                    -75,
                    -85,
                    -95,
                    -105,
                    -115,
                    -125,
                    -135,
                    -145,
                    -155,
                    -165,
                    -175,
                    -185,
                    -195
                  ],
                  "type": "linear",
                  "zeroline": false
                }
              }
            }
          },
          "metadata": {},
          "output_type": "display_data"
        }
      ],
      "source": [
        "# visualize topic hierarchy\n",
        "model.visualize_hierarchy(top_n_topics=20)"
      ]
    },
    {
      "cell_type": "code",
      "execution_count": 34,
      "metadata": {},
      "outputs": [
        {
          "data": {
            "application/vnd.plotly.v1+json": {
              "config": {
                "plotlyServerURL": "https://plot.ly"
              },
              "data": [
                {
                  "marker": {
                    "color": "#D55E00"
                  },
                  "orientation": "h",
                  "type": "bar",
                  "x": [
                    0.023702511583527906,
                    0.03133995752767232,
                    0.04393238344057453,
                    0.04951632290827403,
                    0.06667907660780889
                  ],
                  "xaxis": "x",
                  "y": [
                    "kepler  ",
                    "internal  ",
                    "java  ",
                    "org  ",
                    "eclipse  "
                  ],
                  "yaxis": "y"
                },
                {
                  "marker": {
                    "color": "#0072B2"
                  },
                  "orientation": "h",
                  "type": "bar",
                  "x": [
                    0.015633463716109214,
                    0.017317762914339372,
                    0.017925461532438684,
                    0.018046956176058473,
                    0.0825702525454606
                  ],
                  "xaxis": "x2",
                  "y": [
                    "monetdblite  ",
                    "query  ",
                    "table  ",
                    "database  ",
                    "monetdb  "
                  ],
                  "yaxis": "y2"
                },
                {
                  "marker": {
                    "color": "#CC79A7"
                  },
                  "orientation": "h",
                  "type": "bar",
                  "x": [
                    0.02828153851659993,
                    0.03731413927619448,
                    0.05952543070131261,
                    0.06392631712592509,
                    0.08498665145853135
                  ],
                  "xaxis": "x3",
                  "y": [
                    "worker  ",
                    "def  ",
                    "self  ",
                    "task  ",
                    "luigi  "
                  ],
                  "yaxis": "y3"
                },
                {
                  "marker": {
                    "color": "#E69F00"
                  },
                  "orientation": "h",
                  "type": "bar",
                  "x": [
                    0.022475963365464726,
                    0.022713128046930167,
                    0.028417771295872744,
                    0.041409411594754635,
                    0.06643920642706232
                  ],
                  "xaxis": "x4",
                  "y": [
                    "nf  ",
                    "debug  ",
                    "channel  ",
                    "process  ",
                    "nextflow  "
                  ],
                  "yaxis": "y4"
                },
                {
                  "marker": {
                    "color": "#56B4E9"
                  },
                  "orientation": "h",
                  "type": "bar",
                  "x": [
                    0.022802110636149266,
                    0.025149736410843268,
                    0.030969866213859516,
                    0.031044795663527597,
                    0.0438808739625617
                  ],
                  "xaxis": "x5",
                  "y": [
                    "teradata  ",
                    "tpt  ",
                    "bteq  ",
                    "export  ",
                    "varchar  "
                  ],
                  "yaxis": "y5"
                },
                {
                  "marker": {
                    "color": "#009E73"
                  },
                  "orientation": "h",
                  "type": "bar",
                  "x": [
                    0.03682173032564195,
                    0.03759601471167224,
                    0.051348663009758995,
                    0.0740654209667301,
                    0.09624132500056846
                  ],
                  "xaxis": "x6",
                  "y": [
                    "node  ",
                    "network  ",
                    "service  ",
                    "swarm  ",
                    "docker  "
                  ],
                  "yaxis": "y6"
                },
                {
                  "marker": {
                    "color": "#F0E442"
                  },
                  "orientation": "h",
                  "type": "bar",
                  "x": [
                    0.024156188002137986,
                    0.03818932085082043,
                    0.03887869951932486,
                    0.06064240363481411,
                    0.06945563492139913
                  ],
                  "xaxis": "x7",
                  "y": [
                    "mem  ",
                    "snakemake  ",
                    "slurm  ",
                    "job  ",
                    "cluster  "
                  ],
                  "yaxis": "y7"
                },
                {
                  "marker": {
                    "color": "#D55E00"
                  },
                  "orientation": "h",
                  "type": "bar",
                  "x": [
                    0.03963225126316275,
                    0.07078627270002737,
                    0.09328729960832166,
                    0.10422172994151772,
                    0.16975009364392127
                  ],
                  "xaxis": "x8",
                  "y": [
                    "install  ",
                    "collection  ",
                    "galaxy  ",
                    "role  ",
                    "ansible  "
                  ],
                  "yaxis": "y8"
                }
              ],
              "layout": {
                "annotations": [
                  {
                    "font": {
                      "size": 16
                    },
                    "showarrow": false,
                    "text": "Topic 0",
                    "x": 0.0875,
                    "xanchor": "center",
                    "xref": "paper",
                    "y": 1,
                    "yanchor": "bottom",
                    "yref": "paper"
                  },
                  {
                    "font": {
                      "size": 16
                    },
                    "showarrow": false,
                    "text": "Topic 1",
                    "x": 0.36250000000000004,
                    "xanchor": "center",
                    "xref": "paper",
                    "y": 1,
                    "yanchor": "bottom",
                    "yref": "paper"
                  },
                  {
                    "font": {
                      "size": 16
                    },
                    "showarrow": false,
                    "text": "Topic 2",
                    "x": 0.6375000000000001,
                    "xanchor": "center",
                    "xref": "paper",
                    "y": 1,
                    "yanchor": "bottom",
                    "yref": "paper"
                  },
                  {
                    "font": {
                      "size": 16
                    },
                    "showarrow": false,
                    "text": "Topic 3",
                    "x": 0.9125,
                    "xanchor": "center",
                    "xref": "paper",
                    "y": 1,
                    "yanchor": "bottom",
                    "yref": "paper"
                  },
                  {
                    "font": {
                      "size": 16
                    },
                    "showarrow": false,
                    "text": "Topic 4",
                    "x": 0.0875,
                    "xanchor": "center",
                    "xref": "paper",
                    "y": 0.4,
                    "yanchor": "bottom",
                    "yref": "paper"
                  },
                  {
                    "font": {
                      "size": 16
                    },
                    "showarrow": false,
                    "text": "Topic 5",
                    "x": 0.36250000000000004,
                    "xanchor": "center",
                    "xref": "paper",
                    "y": 0.4,
                    "yanchor": "bottom",
                    "yref": "paper"
                  },
                  {
                    "font": {
                      "size": 16
                    },
                    "showarrow": false,
                    "text": "Topic 6",
                    "x": 0.6375000000000001,
                    "xanchor": "center",
                    "xref": "paper",
                    "y": 0.4,
                    "yanchor": "bottom",
                    "yref": "paper"
                  },
                  {
                    "font": {
                      "size": 16
                    },
                    "showarrow": false,
                    "text": "Topic 7",
                    "x": 0.9125,
                    "xanchor": "center",
                    "xref": "paper",
                    "y": 0.4,
                    "yanchor": "bottom",
                    "yref": "paper"
                  }
                ],
                "height": 500,
                "hoverlabel": {
                  "bgcolor": "white",
                  "font": {
                    "family": "Rockwell",
                    "size": 16
                  }
                },
                "showlegend": false,
                "template": {
                  "data": {
                    "bar": [
                      {
                        "error_x": {
                          "color": "#2a3f5f"
                        },
                        "error_y": {
                          "color": "#2a3f5f"
                        },
                        "marker": {
                          "line": {
                            "color": "white",
                            "width": 0.5
                          },
                          "pattern": {
                            "fillmode": "overlay",
                            "size": 10,
                            "solidity": 0.2
                          }
                        },
                        "type": "bar"
                      }
                    ],
                    "barpolar": [
                      {
                        "marker": {
                          "line": {
                            "color": "white",
                            "width": 0.5
                          },
                          "pattern": {
                            "fillmode": "overlay",
                            "size": 10,
                            "solidity": 0.2
                          }
                        },
                        "type": "barpolar"
                      }
                    ],
                    "carpet": [
                      {
                        "aaxis": {
                          "endlinecolor": "#2a3f5f",
                          "gridcolor": "#C8D4E3",
                          "linecolor": "#C8D4E3",
                          "minorgridcolor": "#C8D4E3",
                          "startlinecolor": "#2a3f5f"
                        },
                        "baxis": {
                          "endlinecolor": "#2a3f5f",
                          "gridcolor": "#C8D4E3",
                          "linecolor": "#C8D4E3",
                          "minorgridcolor": "#C8D4E3",
                          "startlinecolor": "#2a3f5f"
                        },
                        "type": "carpet"
                      }
                    ],
                    "choropleth": [
                      {
                        "colorbar": {
                          "outlinewidth": 0,
                          "ticks": ""
                        },
                        "type": "choropleth"
                      }
                    ],
                    "contour": [
                      {
                        "colorbar": {
                          "outlinewidth": 0,
                          "ticks": ""
                        },
                        "colorscale": [
                          [
                            0,
                            "#0d0887"
                          ],
                          [
                            0.1111111111111111,
                            "#46039f"
                          ],
                          [
                            0.2222222222222222,
                            "#7201a8"
                          ],
                          [
                            0.3333333333333333,
                            "#9c179e"
                          ],
                          [
                            0.4444444444444444,
                            "#bd3786"
                          ],
                          [
                            0.5555555555555556,
                            "#d8576b"
                          ],
                          [
                            0.6666666666666666,
                            "#ed7953"
                          ],
                          [
                            0.7777777777777778,
                            "#fb9f3a"
                          ],
                          [
                            0.8888888888888888,
                            "#fdca26"
                          ],
                          [
                            1,
                            "#f0f921"
                          ]
                        ],
                        "type": "contour"
                      }
                    ],
                    "contourcarpet": [
                      {
                        "colorbar": {
                          "outlinewidth": 0,
                          "ticks": ""
                        },
                        "type": "contourcarpet"
                      }
                    ],
                    "heatmap": [
                      {
                        "colorbar": {
                          "outlinewidth": 0,
                          "ticks": ""
                        },
                        "colorscale": [
                          [
                            0,
                            "#0d0887"
                          ],
                          [
                            0.1111111111111111,
                            "#46039f"
                          ],
                          [
                            0.2222222222222222,
                            "#7201a8"
                          ],
                          [
                            0.3333333333333333,
                            "#9c179e"
                          ],
                          [
                            0.4444444444444444,
                            "#bd3786"
                          ],
                          [
                            0.5555555555555556,
                            "#d8576b"
                          ],
                          [
                            0.6666666666666666,
                            "#ed7953"
                          ],
                          [
                            0.7777777777777778,
                            "#fb9f3a"
                          ],
                          [
                            0.8888888888888888,
                            "#fdca26"
                          ],
                          [
                            1,
                            "#f0f921"
                          ]
                        ],
                        "type": "heatmap"
                      }
                    ],
                    "heatmapgl": [
                      {
                        "colorbar": {
                          "outlinewidth": 0,
                          "ticks": ""
                        },
                        "colorscale": [
                          [
                            0,
                            "#0d0887"
                          ],
                          [
                            0.1111111111111111,
                            "#46039f"
                          ],
                          [
                            0.2222222222222222,
                            "#7201a8"
                          ],
                          [
                            0.3333333333333333,
                            "#9c179e"
                          ],
                          [
                            0.4444444444444444,
                            "#bd3786"
                          ],
                          [
                            0.5555555555555556,
                            "#d8576b"
                          ],
                          [
                            0.6666666666666666,
                            "#ed7953"
                          ],
                          [
                            0.7777777777777778,
                            "#fb9f3a"
                          ],
                          [
                            0.8888888888888888,
                            "#fdca26"
                          ],
                          [
                            1,
                            "#f0f921"
                          ]
                        ],
                        "type": "heatmapgl"
                      }
                    ],
                    "histogram": [
                      {
                        "marker": {
                          "pattern": {
                            "fillmode": "overlay",
                            "size": 10,
                            "solidity": 0.2
                          }
                        },
                        "type": "histogram"
                      }
                    ],
                    "histogram2d": [
                      {
                        "colorbar": {
                          "outlinewidth": 0,
                          "ticks": ""
                        },
                        "colorscale": [
                          [
                            0,
                            "#0d0887"
                          ],
                          [
                            0.1111111111111111,
                            "#46039f"
                          ],
                          [
                            0.2222222222222222,
                            "#7201a8"
                          ],
                          [
                            0.3333333333333333,
                            "#9c179e"
                          ],
                          [
                            0.4444444444444444,
                            "#bd3786"
                          ],
                          [
                            0.5555555555555556,
                            "#d8576b"
                          ],
                          [
                            0.6666666666666666,
                            "#ed7953"
                          ],
                          [
                            0.7777777777777778,
                            "#fb9f3a"
                          ],
                          [
                            0.8888888888888888,
                            "#fdca26"
                          ],
                          [
                            1,
                            "#f0f921"
                          ]
                        ],
                        "type": "histogram2d"
                      }
                    ],
                    "histogram2dcontour": [
                      {
                        "colorbar": {
                          "outlinewidth": 0,
                          "ticks": ""
                        },
                        "colorscale": [
                          [
                            0,
                            "#0d0887"
                          ],
                          [
                            0.1111111111111111,
                            "#46039f"
                          ],
                          [
                            0.2222222222222222,
                            "#7201a8"
                          ],
                          [
                            0.3333333333333333,
                            "#9c179e"
                          ],
                          [
                            0.4444444444444444,
                            "#bd3786"
                          ],
                          [
                            0.5555555555555556,
                            "#d8576b"
                          ],
                          [
                            0.6666666666666666,
                            "#ed7953"
                          ],
                          [
                            0.7777777777777778,
                            "#fb9f3a"
                          ],
                          [
                            0.8888888888888888,
                            "#fdca26"
                          ],
                          [
                            1,
                            "#f0f921"
                          ]
                        ],
                        "type": "histogram2dcontour"
                      }
                    ],
                    "mesh3d": [
                      {
                        "colorbar": {
                          "outlinewidth": 0,
                          "ticks": ""
                        },
                        "type": "mesh3d"
                      }
                    ],
                    "parcoords": [
                      {
                        "line": {
                          "colorbar": {
                            "outlinewidth": 0,
                            "ticks": ""
                          }
                        },
                        "type": "parcoords"
                      }
                    ],
                    "pie": [
                      {
                        "automargin": true,
                        "type": "pie"
                      }
                    ],
                    "scatter": [
                      {
                        "fillpattern": {
                          "fillmode": "overlay",
                          "size": 10,
                          "solidity": 0.2
                        },
                        "type": "scatter"
                      }
                    ],
                    "scatter3d": [
                      {
                        "line": {
                          "colorbar": {
                            "outlinewidth": 0,
                            "ticks": ""
                          }
                        },
                        "marker": {
                          "colorbar": {
                            "outlinewidth": 0,
                            "ticks": ""
                          }
                        },
                        "type": "scatter3d"
                      }
                    ],
                    "scattercarpet": [
                      {
                        "marker": {
                          "colorbar": {
                            "outlinewidth": 0,
                            "ticks": ""
                          }
                        },
                        "type": "scattercarpet"
                      }
                    ],
                    "scattergeo": [
                      {
                        "marker": {
                          "colorbar": {
                            "outlinewidth": 0,
                            "ticks": ""
                          }
                        },
                        "type": "scattergeo"
                      }
                    ],
                    "scattergl": [
                      {
                        "marker": {
                          "colorbar": {
                            "outlinewidth": 0,
                            "ticks": ""
                          }
                        },
                        "type": "scattergl"
                      }
                    ],
                    "scattermapbox": [
                      {
                        "marker": {
                          "colorbar": {
                            "outlinewidth": 0,
                            "ticks": ""
                          }
                        },
                        "type": "scattermapbox"
                      }
                    ],
                    "scatterpolar": [
                      {
                        "marker": {
                          "colorbar": {
                            "outlinewidth": 0,
                            "ticks": ""
                          }
                        },
                        "type": "scatterpolar"
                      }
                    ],
                    "scatterpolargl": [
                      {
                        "marker": {
                          "colorbar": {
                            "outlinewidth": 0,
                            "ticks": ""
                          }
                        },
                        "type": "scatterpolargl"
                      }
                    ],
                    "scatterternary": [
                      {
                        "marker": {
                          "colorbar": {
                            "outlinewidth": 0,
                            "ticks": ""
                          }
                        },
                        "type": "scatterternary"
                      }
                    ],
                    "surface": [
                      {
                        "colorbar": {
                          "outlinewidth": 0,
                          "ticks": ""
                        },
                        "colorscale": [
                          [
                            0,
                            "#0d0887"
                          ],
                          [
                            0.1111111111111111,
                            "#46039f"
                          ],
                          [
                            0.2222222222222222,
                            "#7201a8"
                          ],
                          [
                            0.3333333333333333,
                            "#9c179e"
                          ],
                          [
                            0.4444444444444444,
                            "#bd3786"
                          ],
                          [
                            0.5555555555555556,
                            "#d8576b"
                          ],
                          [
                            0.6666666666666666,
                            "#ed7953"
                          ],
                          [
                            0.7777777777777778,
                            "#fb9f3a"
                          ],
                          [
                            0.8888888888888888,
                            "#fdca26"
                          ],
                          [
                            1,
                            "#f0f921"
                          ]
                        ],
                        "type": "surface"
                      }
                    ],
                    "table": [
                      {
                        "cells": {
                          "fill": {
                            "color": "#EBF0F8"
                          },
                          "line": {
                            "color": "white"
                          }
                        },
                        "header": {
                          "fill": {
                            "color": "#C8D4E3"
                          },
                          "line": {
                            "color": "white"
                          }
                        },
                        "type": "table"
                      }
                    ]
                  },
                  "layout": {
                    "annotationdefaults": {
                      "arrowcolor": "#2a3f5f",
                      "arrowhead": 0,
                      "arrowwidth": 1
                    },
                    "autotypenumbers": "strict",
                    "coloraxis": {
                      "colorbar": {
                        "outlinewidth": 0,
                        "ticks": ""
                      }
                    },
                    "colorscale": {
                      "diverging": [
                        [
                          0,
                          "#8e0152"
                        ],
                        [
                          0.1,
                          "#c51b7d"
                        ],
                        [
                          0.2,
                          "#de77ae"
                        ],
                        [
                          0.3,
                          "#f1b6da"
                        ],
                        [
                          0.4,
                          "#fde0ef"
                        ],
                        [
                          0.5,
                          "#f7f7f7"
                        ],
                        [
                          0.6,
                          "#e6f5d0"
                        ],
                        [
                          0.7,
                          "#b8e186"
                        ],
                        [
                          0.8,
                          "#7fbc41"
                        ],
                        [
                          0.9,
                          "#4d9221"
                        ],
                        [
                          1,
                          "#276419"
                        ]
                      ],
                      "sequential": [
                        [
                          0,
                          "#0d0887"
                        ],
                        [
                          0.1111111111111111,
                          "#46039f"
                        ],
                        [
                          0.2222222222222222,
                          "#7201a8"
                        ],
                        [
                          0.3333333333333333,
                          "#9c179e"
                        ],
                        [
                          0.4444444444444444,
                          "#bd3786"
                        ],
                        [
                          0.5555555555555556,
                          "#d8576b"
                        ],
                        [
                          0.6666666666666666,
                          "#ed7953"
                        ],
                        [
                          0.7777777777777778,
                          "#fb9f3a"
                        ],
                        [
                          0.8888888888888888,
                          "#fdca26"
                        ],
                        [
                          1,
                          "#f0f921"
                        ]
                      ],
                      "sequentialminus": [
                        [
                          0,
                          "#0d0887"
                        ],
                        [
                          0.1111111111111111,
                          "#46039f"
                        ],
                        [
                          0.2222222222222222,
                          "#7201a8"
                        ],
                        [
                          0.3333333333333333,
                          "#9c179e"
                        ],
                        [
                          0.4444444444444444,
                          "#bd3786"
                        ],
                        [
                          0.5555555555555556,
                          "#d8576b"
                        ],
                        [
                          0.6666666666666666,
                          "#ed7953"
                        ],
                        [
                          0.7777777777777778,
                          "#fb9f3a"
                        ],
                        [
                          0.8888888888888888,
                          "#fdca26"
                        ],
                        [
                          1,
                          "#f0f921"
                        ]
                      ]
                    },
                    "colorway": [
                      "#636efa",
                      "#EF553B",
                      "#00cc96",
                      "#ab63fa",
                      "#FFA15A",
                      "#19d3f3",
                      "#FF6692",
                      "#B6E880",
                      "#FF97FF",
                      "#FECB52"
                    ],
                    "font": {
                      "color": "#2a3f5f"
                    },
                    "geo": {
                      "bgcolor": "white",
                      "lakecolor": "white",
                      "landcolor": "white",
                      "showlakes": true,
                      "showland": true,
                      "subunitcolor": "#C8D4E3"
                    },
                    "hoverlabel": {
                      "align": "left"
                    },
                    "hovermode": "closest",
                    "mapbox": {
                      "style": "light"
                    },
                    "paper_bgcolor": "white",
                    "plot_bgcolor": "white",
                    "polar": {
                      "angularaxis": {
                        "gridcolor": "#EBF0F8",
                        "linecolor": "#EBF0F8",
                        "ticks": ""
                      },
                      "bgcolor": "white",
                      "radialaxis": {
                        "gridcolor": "#EBF0F8",
                        "linecolor": "#EBF0F8",
                        "ticks": ""
                      }
                    },
                    "scene": {
                      "xaxis": {
                        "backgroundcolor": "white",
                        "gridcolor": "#DFE8F3",
                        "gridwidth": 2,
                        "linecolor": "#EBF0F8",
                        "showbackground": true,
                        "ticks": "",
                        "zerolinecolor": "#EBF0F8"
                      },
                      "yaxis": {
                        "backgroundcolor": "white",
                        "gridcolor": "#DFE8F3",
                        "gridwidth": 2,
                        "linecolor": "#EBF0F8",
                        "showbackground": true,
                        "ticks": "",
                        "zerolinecolor": "#EBF0F8"
                      },
                      "zaxis": {
                        "backgroundcolor": "white",
                        "gridcolor": "#DFE8F3",
                        "gridwidth": 2,
                        "linecolor": "#EBF0F8",
                        "showbackground": true,
                        "ticks": "",
                        "zerolinecolor": "#EBF0F8"
                      }
                    },
                    "shapedefaults": {
                      "line": {
                        "color": "#2a3f5f"
                      }
                    },
                    "ternary": {
                      "aaxis": {
                        "gridcolor": "#DFE8F3",
                        "linecolor": "#A2B1C6",
                        "ticks": ""
                      },
                      "baxis": {
                        "gridcolor": "#DFE8F3",
                        "linecolor": "#A2B1C6",
                        "ticks": ""
                      },
                      "bgcolor": "white",
                      "caxis": {
                        "gridcolor": "#DFE8F3",
                        "linecolor": "#A2B1C6",
                        "ticks": ""
                      }
                    },
                    "title": {
                      "x": 0.05
                    },
                    "xaxis": {
                      "automargin": true,
                      "gridcolor": "#EBF0F8",
                      "linecolor": "#EBF0F8",
                      "ticks": "",
                      "title": {
                        "standoff": 15
                      },
                      "zerolinecolor": "#EBF0F8",
                      "zerolinewidth": 2
                    },
                    "yaxis": {
                      "automargin": true,
                      "gridcolor": "#EBF0F8",
                      "linecolor": "#EBF0F8",
                      "ticks": "",
                      "title": {
                        "standoff": 15
                      },
                      "zerolinecolor": "#EBF0F8",
                      "zerolinewidth": 2
                    }
                  }
                },
                "title": {
                  "font": {
                    "color": "Black",
                    "size": 22
                  },
                  "text": "Topic Word Scores",
                  "x": 0.5,
                  "xanchor": "center",
                  "yanchor": "top"
                },
                "width": 1000,
                "xaxis": {
                  "anchor": "y",
                  "domain": [
                    0,
                    0.175
                  ],
                  "showgrid": true
                },
                "xaxis2": {
                  "anchor": "y2",
                  "domain": [
                    0.275,
                    0.45
                  ],
                  "showgrid": true
                },
                "xaxis3": {
                  "anchor": "y3",
                  "domain": [
                    0.55,
                    0.7250000000000001
                  ],
                  "showgrid": true
                },
                "xaxis4": {
                  "anchor": "y4",
                  "domain": [
                    0.825,
                    1
                  ],
                  "showgrid": true
                },
                "xaxis5": {
                  "anchor": "y5",
                  "domain": [
                    0,
                    0.175
                  ],
                  "showgrid": true
                },
                "xaxis6": {
                  "anchor": "y6",
                  "domain": [
                    0.275,
                    0.45
                  ],
                  "showgrid": true
                },
                "xaxis7": {
                  "anchor": "y7",
                  "domain": [
                    0.55,
                    0.7250000000000001
                  ],
                  "showgrid": true
                },
                "xaxis8": {
                  "anchor": "y8",
                  "domain": [
                    0.825,
                    1
                  ],
                  "showgrid": true
                },
                "yaxis": {
                  "anchor": "x",
                  "domain": [
                    0.6000000000000001,
                    1
                  ],
                  "showgrid": true
                },
                "yaxis2": {
                  "anchor": "x2",
                  "domain": [
                    0.6000000000000001,
                    1
                  ],
                  "showgrid": true
                },
                "yaxis3": {
                  "anchor": "x3",
                  "domain": [
                    0.6000000000000001,
                    1
                  ],
                  "showgrid": true
                },
                "yaxis4": {
                  "anchor": "x4",
                  "domain": [
                    0.6000000000000001,
                    1
                  ],
                  "showgrid": true
                },
                "yaxis5": {
                  "anchor": "x5",
                  "domain": [
                    0,
                    0.4
                  ],
                  "showgrid": true
                },
                "yaxis6": {
                  "anchor": "x6",
                  "domain": [
                    0,
                    0.4
                  ],
                  "showgrid": true
                },
                "yaxis7": {
                  "anchor": "x7",
                  "domain": [
                    0,
                    0.4
                  ],
                  "showgrid": true
                },
                "yaxis8": {
                  "anchor": "x8",
                  "domain": [
                    0,
                    0.4
                  ],
                  "showgrid": true
                }
              }
            }
          },
          "metadata": {},
          "output_type": "display_data"
        }
      ],
      "source": [
        "# visualize terms\n",
        "model.visualize_barchart(top_n_topics=8)"
      ]
    },
    {
      "cell_type": "code",
      "execution_count": 13,
      "metadata": {},
      "outputs": [
        {
          "data": {
            "application/vnd.plotly.v1+json": {
              "config": {
                "plotlyServerURL": "https://plot.ly"
              },
              "data": [
                {
                  "coloraxis": "coloraxis",
                  "hovertemplate": "x: %{x}<br>y: %{y}<br>Similarity Score: %{z}<extra></extra>",
                  "name": "0",
                  "type": "heatmap",
                  "x": [
                    "0_eclipse_org_java",
                    "7_ansible_role_galaxy",
                    "16_gl_kepler_map",
                    "66_easybuild_gcccore_luke",
                    "1_monetdb_database_table",
                    "17_knime_node_workflow",
                    "61_kafka_trident_spout",
                    "2_luigi_task_self",
                    "15_airflow_dag_py",
                    "30_argo_template_workflow",
                    "3_nextflow_process_channel",
                    "13_genome_sample_fastq",
                    "14_sample_fastq_bam",
                    "57_fastqc_sample_html",
                    "65_checkpoint_barcode_folder",
                    "67_ftp_remote_err",
                    "68_pyhd_ed_sam",
                    "4_varchar_export_bteq",
                    "8_procedure_stored_declare",
                    "45_datum_query_teradata",
                    "79_adodb_dim_cmdsqldata",
                    "5_docker_swarm_service",
                    "32_meteor_galaxy_minifier",
                    "6_cluster_job_slurm",
                    "9_rule_input_output",
                    "18_conda_environment_snakem...",
                    "24_config_snakemake_yaml",
                    "56_snakemake_job_raven",
                    "64_log_rule_script",
                    "74_gpus_localrules_job",
                    "78_ldsc_cctyper_fimo",
                    "10_rapidminer_model_document",
                    "41_clustering_cluster_rapid...",
                    "55_country_amount_year",
                    "11_odbc_teradata_driver",
                    "40_pyodbc_odbc_driver",
                    "60_sqlalchemy_engine_teradata",
                    "12_jdbc_java_com",
                    "22_spark_scala_jdbc",
                    "27_sqoop_java_hadoop",
                    "28_teradata_data_database",
                    "37_df_dataframe_teradata",
                    "39_teradatasql_python_go",
                    "19_timestamp_convert_format",
                    "25_month_date_current",
                    "35_date_format_mm",
                    "38_week_agent_date",
                    "43_timestamp_time_hour",
                    "20_attribute_rapidminer_ope...",
                    "51_key_parameter_port",
                    "58_bacteria_acid_na",
                    "21_date_event_null",
                    "26_column_abc_john",
                    "29_count_sum_canada",
                    "47_table_join_personid",
                    "49_value_id_pivot",
                    "50_month_date_may",
                    "54_rank_ranking_partition",
                    "71_rcv_case_accno",
                    "23_id_acct_cd",
                    "46_spool_amp_estimated",
                    "31_rapidminer_jboss_java",
                    "69_xpath_ul_li",
                    "33_update_table_jan",
                    "36_view_grant_user",
                    "52_cmc_dw_view",
                    "53_identity_increment_gener...",
                    "59_volatile_table_create",
                    "62_column_table_dbc",
                    "63_primary_index_col",
                    "72_aa_random_sequence",
                    "34_knime_column_col",
                    "48_regexp_regex_substr",
                    "76_search_ach_string",
                    "42_cuda_gpu_warp",
                    "44_decimal_cast_numeric",
                    "75_character_remove_oreplace",
                    "77_character_untranslatable...",
                    "70_json_price_category",
                    "73_covalent_template_angular"
                  ],
                  "xaxis": "x",
                  "y": [
                    "0_eclipse_org_java",
                    "7_ansible_role_galaxy",
                    "16_gl_kepler_map",
                    "66_easybuild_gcccore_luke",
                    "1_monetdb_database_table",
                    "17_knime_node_workflow",
                    "61_kafka_trident_spout",
                    "2_luigi_task_self",
                    "15_airflow_dag_py",
                    "30_argo_template_workflow",
                    "3_nextflow_process_channel",
                    "13_genome_sample_fastq",
                    "14_sample_fastq_bam",
                    "57_fastqc_sample_html",
                    "65_checkpoint_barcode_folder",
                    "67_ftp_remote_err",
                    "68_pyhd_ed_sam",
                    "4_varchar_export_bteq",
                    "8_procedure_stored_declare",
                    "45_datum_query_teradata",
                    "79_adodb_dim_cmdsqldata",
                    "5_docker_swarm_service",
                    "32_meteor_galaxy_minifier",
                    "6_cluster_job_slurm",
                    "9_rule_input_output",
                    "18_conda_environment_snakem...",
                    "24_config_snakemake_yaml",
                    "56_snakemake_job_raven",
                    "64_log_rule_script",
                    "74_gpus_localrules_job",
                    "78_ldsc_cctyper_fimo",
                    "10_rapidminer_model_document",
                    "41_clustering_cluster_rapid...",
                    "55_country_amount_year",
                    "11_odbc_teradata_driver",
                    "40_pyodbc_odbc_driver",
                    "60_sqlalchemy_engine_teradata",
                    "12_jdbc_java_com",
                    "22_spark_scala_jdbc",
                    "27_sqoop_java_hadoop",
                    "28_teradata_data_database",
                    "37_df_dataframe_teradata",
                    "39_teradatasql_python_go",
                    "19_timestamp_convert_format",
                    "25_month_date_current",
                    "35_date_format_mm",
                    "38_week_agent_date",
                    "43_timestamp_time_hour",
                    "20_attribute_rapidminer_ope...",
                    "51_key_parameter_port",
                    "58_bacteria_acid_na",
                    "21_date_event_null",
                    "26_column_abc_john",
                    "29_count_sum_canada",
                    "47_table_join_personid",
                    "49_value_id_pivot",
                    "50_month_date_may",
                    "54_rank_ranking_partition",
                    "71_rcv_case_accno",
                    "23_id_acct_cd",
                    "46_spool_amp_estimated",
                    "31_rapidminer_jboss_java",
                    "69_xpath_ul_li",
                    "33_update_table_jan",
                    "36_view_grant_user",
                    "52_cmc_dw_view",
                    "53_identity_increment_gener...",
                    "59_volatile_table_create",
                    "62_column_table_dbc",
                    "63_primary_index_col",
                    "72_aa_random_sequence",
                    "34_knime_column_col",
                    "48_regexp_regex_substr",
                    "76_search_ach_string",
                    "42_cuda_gpu_warp",
                    "44_decimal_cast_numeric",
                    "75_character_remove_oreplace",
                    "77_character_untranslatable...",
                    "70_json_price_category",
                    "73_covalent_template_angular"
                  ],
                  "yaxis": "y",
                  "z": [
                    [
                      1,
                      0.3493519425392151,
                      0.5138718485832214,
                      0.47715699672698975,
                      0.29369115829467773,
                      0.3372170329093933,
                      0.31316104531288147,
                      0.27748602628707886,
                      0.38364386558532715,
                      0.3233387768268585,
                      0.2509895861148834,
                      0.24617186188697815,
                      0.2312885969877243,
                      0.3152938187122345,
                      0.2210843861103058,
                      0.2554663419723511,
                      0.3367382287979126,
                      0.22663402557373047,
                      0.18998214602470398,
                      0.20911873877048492,
                      0.16965794563293457,
                      0.3311923146247864,
                      0.3721698522567749,
                      0.2795965373516083,
                      0.15986095368862152,
                      0.31978172063827515,
                      0.2165956050157547,
                      0.26119789481163025,
                      0.1646433174610138,
                      0.12304308265447617,
                      0.23792588710784912,
                      0.2542083263397217,
                      0.21684592962265015,
                      0.14544659852981567,
                      0.2813313603401184,
                      0.19491901993751526,
                      0.1974239945411682,
                      0.4691634774208069,
                      0.30098941922187805,
                      0.35720062255859375,
                      0.26394402980804443,
                      0.1609380543231964,
                      0.15392501652240753,
                      0.09402792155742645,
                      0.08812075853347778,
                      0.15628568828105927,
                      0.1187906414270401,
                      0.1026102602481842,
                      0.16200405359268188,
                      0.2959161698818207,
                      0.2534598112106323,
                      0.10834473371505737,
                      0.0731167271733284,
                      0.11395315080881119,
                      0.10112559795379639,
                      0.053614016622304916,
                      0.135809987783432,
                      0.13492044806480408,
                      0.1372860074043274,
                      0.20886634290218353,
                      0.2011919915676117,
                      0.5607435703277588,
                      0.2051897794008255,
                      0.16331598162651062,
                      0.21872779726982117,
                      0.13584351539611816,
                      0.14464744925498962,
                      0.1440858095884323,
                      0.15716218948364258,
                      0.10182955116033554,
                      0.06933485716581345,
                      0.14824196696281433,
                      0.13354840874671936,
                      0.08770650625228882,
                      0.20095549523830414,
                      0.05108387768268585,
                      0.08507269620895386,
                      0.03771061822772026,
                      0.11644906550645828,
                      0.10585691034793854
                    ],
                    [
                      0.3493519425392151,
                      1,
                      0.31560397148132324,
                      0.46733707189559937,
                      0.20192912220954895,
                      0.2382417619228363,
                      0.17679186165332794,
                      0.41926467418670654,
                      0.43601322174072266,
                      0.41764235496520996,
                      0.3657136857509613,
                      0.3283330500125885,
                      0.3165307939052582,
                      0.3352329432964325,
                      0.31906425952911377,
                      0.33691704273223877,
                      0.37343674898147583,
                      0.22451218962669373,
                      0.16450242698192596,
                      0.14717254042625427,
                      0.13096800446510315,
                      0.3750884234905243,
                      0.4256768226623535,
                      0.3255279064178467,
                      0.25295209884643555,
                      0.4382215738296509,
                      0.37453266978263855,
                      0.3058401048183441,
                      0.2751643657684326,
                      0.2123027741909027,
                      0.2728275656700134,
                      0.11183136701583862,
                      0.056149162352085114,
                      0.12290121614933014,
                      0.20443010330200195,
                      0.24282486736774445,
                      0.3195796012878418,
                      0.24650445580482483,
                      0.19978682696819305,
                      0.3377566337585449,
                      0.20847803354263306,
                      0.2551599442958832,
                      0.2735252380371094,
                      0.06296306103467941,
                      0.042806077748537064,
                      0.09444516152143478,
                      0.0116843581199646,
                      0.0547100268304348,
                      0.11843596398830414,
                      0.26914721727371216,
                      0.18597707152366638,
                      0.050047244876623154,
                      0.07810816913843155,
                      0.07627618312835693,
                      0.09611446410417557,
                      0.02281363122165203,
                      0.06862027198076248,
                      0.13576069474220276,
                      0.15039363503456116,
                      0.1363852620124817,
                      0.1491282433271408,
                      0.24470004439353943,
                      0.11491629481315613,
                      0.13351425528526306,
                      0.16331742703914642,
                      0.08281764388084412,
                      0.06454300135374069,
                      0.08478792011737823,
                      0.1073344424366951,
                      0.06658009439706802,
                      0.06986656785011292,
                      0.07728509604930878,
                      0.12268693000078201,
                      0.13832440972328186,
                      0.09948956966400146,
                      0.0013920068740844727,
                      0.06091555953025818,
                      0.017590366303920746,
                      0.17597195506095886,
                      0.13005736470222473
                    ],
                    [
                      0.5138718485832214,
                      0.31560397148132324,
                      0.9999998807907104,
                      0.38396763801574707,
                      0.2655550241470337,
                      0.3676340579986572,
                      0.24890536069869995,
                      0.3461112380027771,
                      0.3564535975456238,
                      0.3086274266242981,
                      0.3085007071495056,
                      0.3405030369758606,
                      0.3247750997543335,
                      0.37833696603775024,
                      0.2786250114440918,
                      0.3355002999305725,
                      0.38221943378448486,
                      0.27057933807373047,
                      0.15926089882850647,
                      0.1715163290500641,
                      0.19941191375255585,
                      0.29772454500198364,
                      0.3829840421676636,
                      0.35719650983810425,
                      0.2344023585319519,
                      0.3287798762321472,
                      0.3007356524467468,
                      0.268736869096756,
                      0.23485365509986877,
                      0.23290646076202393,
                      0.2600449323654175,
                      0.2791104018688202,
                      0.280656099319458,
                      0.45742881298065186,
                      0.19240805506706238,
                      0.1681424379348755,
                      0.18788109719753265,
                      0.24733957648277283,
                      0.2789706289768219,
                      0.35226625204086304,
                      0.27068769931793213,
                      0.23998424410820007,
                      0.18951097130775452,
                      0.10095681250095367,
                      0.12341426312923431,
                      0.11160358786582947,
                      0.10505180060863495,
                      0.1151428297162056,
                      0.2677566409111023,
                      0.33845609426498413,
                      0.3274127244949341,
                      0.10270644724369049,
                      0.08096787333488464,
                      0.10110722482204437,
                      0.043925270438194275,
                      0.05867641419172287,
                      0.12444642186164856,
                      0.12466458976268768,
                      0.09378784149885178,
                      0.14419008791446686,
                      0.19737529754638672,
                      0.36686670780181885,
                      0.3164554238319397,
                      0.141396164894104,
                      0.1411544382572174,
                      0.1405935436487198,
                      0.08888427913188934,
                      0.11560751497745514,
                      0.12216179072856903,
                      0.11548122763633728,
                      0.09408662468194962,
                      0.16840288043022156,
                      0.12078513205051422,
                      0.07178331911563873,
                      0.4677067995071411,
                      0.052953265607357025,
                      0.08827311545610428,
                      0.050805240869522095,
                      0.2554638087749481,
                      0.2679373025894165
                    ],
                    [
                      0.47715699672698975,
                      0.46733707189559937,
                      0.38396763801574707,
                      1,
                      0.3081586956977844,
                      0.3229721784591675,
                      0.21408089995384216,
                      0.42183464765548706,
                      0.4258347153663635,
                      0.3088482618331909,
                      0.4190194606781006,
                      0.43213608860969543,
                      0.3718821406364441,
                      0.4773121476173401,
                      0.39917004108428955,
                      0.4069107174873352,
                      0.5472123622894287,
                      0.24098965525627136,
                      0.18213805556297302,
                      0.2084972858428955,
                      0.1233372837305069,
                      0.2550588846206665,
                      0.2561239004135132,
                      0.41740554571151733,
                      0.322238028049469,
                      0.6364723443984985,
                      0.43759894371032715,
                      0.42570650577545166,
                      0.26658812165260315,
                      0.26741379499435425,
                      0.42446041107177734,
                      0.2594676613807678,
                      0.188921257853508,
                      0.1963946521282196,
                      0.2591477930545807,
                      0.364900678396225,
                      0.3100922703742981,
                      0.23941195011138916,
                      0.21426421403884888,
                      0.29133784770965576,
                      0.20650431513786316,
                      0.26139718294143677,
                      0.28298982977867126,
                      0.08107130229473114,
                      0.1229705661535263,
                      0.12587088346481323,
                      0.10912483930587769,
                      0.11758562922477722,
                      0.21456192433834076,
                      0.2799836993217468,
                      0.3068711459636688,
                      0.11573056131601334,
                      0.07520366460084915,
                      0.11167150735855103,
                      0.10573749989271164,
                      0.04422999918460846,
                      0.10637467354536057,
                      0.12709322571754456,
                      0.14177770912647247,
                      0.16516093909740448,
                      0.17513792216777802,
                      0.41937196254730225,
                      0.19874665141105652,
                      0.11289911717176437,
                      0.16942808032035828,
                      0.13400393724441528,
                      0.09366250038146973,
                      0.10895919799804688,
                      0.1667085587978363,
                      0.09582103788852692,
                      0.08077149093151093,
                      0.09085939824581146,
                      0.09631142020225525,
                      0.09391824156045914,
                      0.272926390171051,
                      0.04852945730090141,
                      0.0474092997610569,
                      0.04198990762233734,
                      0.0727081298828125,
                      0.10893833637237549
                    ],
                    [
                      0.29369115829467773,
                      0.20192912220954895,
                      0.2655550241470337,
                      0.3081586956977844,
                      1.0000001192092896,
                      0.3856087923049927,
                      0.4681764245033264,
                      0.3526841402053833,
                      0.37240928411483765,
                      0.27417993545532227,
                      0.3810686767101288,
                      0.3991428017616272,
                      0.38429132103919983,
                      0.37516507506370544,
                      0.3192107677459717,
                      0.3554844260215759,
                      0.4218564033508301,
                      0.4967770576477051,
                      0.3848956227302551,
                      0.42671382427215576,
                      0.43578046560287476,
                      0.27517473697662354,
                      0.40471816062927246,
                      0.39054176211357117,
                      0.24789026379585266,
                      0.32908594608306885,
                      0.23374569416046143,
                      0.34247612953186035,
                      0.24208837747573853,
                      0.22822049260139465,
                      0.24609921872615814,
                      0.2944284677505493,
                      0.32263728976249695,
                      0.26413148641586304,
                      0.426644504070282,
                      0.43492913246154785,
                      0.45277124643325806,
                      0.48401135206222534,
                      0.5152015089988708,
                      0.5408735275268555,
                      0.4844985902309418,
                      0.5293923020362854,
                      0.45892322063446045,
                      0.28802621364593506,
                      0.25531822443008423,
                      0.3474459648132324,
                      0.22869250178337097,
                      0.2905784249305725,
                      0.4167936146259308,
                      0.3942156434059143,
                      0.4058355391025543,
                      0.3166489601135254,
                      0.3023550510406494,
                      0.32267019152641296,
                      0.31688445806503296,
                      0.24910953640937805,
                      0.32320666313171387,
                      0.31886258721351624,
                      0.3141125440597534,
                      0.35636991262435913,
                      0.45388713479042053,
                      0.32144030928611755,
                      0.14906135201454163,
                      0.350109338760376,
                      0.3688373565673828,
                      0.4168873727321625,
                      0.3295947015285492,
                      0.33823180198669434,
                      0.4344103932380676,
                      0.36002087593078613,
                      0.3037688136100769,
                      0.3144528269767761,
                      0.20620185136795044,
                      0.3035116195678711,
                      0.24501101672649384,
                      0.2768062651157379,
                      0.21774646639823914,
                      0.2627977132797241,
                      0.27316465973854065,
                      0.15919412672519684
                    ],
                    [
                      0.3372170329093933,
                      0.2382417619228363,
                      0.3676340579986572,
                      0.3229721784591675,
                      0.3856087923049927,
                      0.9999998807907104,
                      0.45494377613067627,
                      0.4067723751068115,
                      0.5218928456306458,
                      0.5001150369644165,
                      0.5328391194343567,
                      0.45697617530822754,
                      0.4549409747123718,
                      0.43086448311805725,
                      0.4063439965248108,
                      0.4037374258041382,
                      0.4379175305366516,
                      0.43800485134124756,
                      0.300583153963089,
                      0.3390875458717346,
                      0.32419145107269287,
                      0.2548055648803711,
                      0.22721412777900696,
                      0.5158302783966064,
                      0.4104953110218048,
                      0.3897017240524292,
                      0.3947431445121765,
                      0.4355633854866028,
                      0.36301881074905396,
                      0.4029383063316345,
                      0.37989503145217896,
                      0.45429277420043945,
                      0.5108376741409302,
                      0.39280158281326294,
                      0.29933416843414307,
                      0.335196852684021,
                      0.29340600967407227,
                      0.3912486433982849,
                      0.4316102862358093,
                      0.49188321828842163,
                      0.47888579964637756,
                      0.44131505489349365,
                      0.3820015490055084,
                      0.3287842869758606,
                      0.3222197890281677,
                      0.3073638379573822,
                      0.26989519596099854,
                      0.32959187030792236,
                      0.4414363503456116,
                      0.43861454725265503,
                      0.43677181005477905,
                      0.32123440504074097,
                      0.2711060345172882,
                      0.2776238024234772,
                      0.2581687867641449,
                      0.2104223370552063,
                      0.3121603727340698,
                      0.2971481680870056,
                      0.26221534609794617,
                      0.2641367018222809,
                      0.37875938415527344,
                      0.36226630210876465,
                      0.2633225619792938,
                      0.2545080780982971,
                      0.26221778988838196,
                      0.34750276803970337,
                      0.25020384788513184,
                      0.2831217646598816,
                      0.32038986682891846,
                      0.32438960671424866,
                      0.33097803592681885,
                      0.6877054572105408,
                      0.261388897895813,
                      0.25497886538505554,
                      0.29288387298583984,
                      0.25917088985443115,
                      0.1740570366382599,
                      0.18212643265724182,
                      0.3323770761489868,
                      0.15407301485538483
                    ],
                    [
                      0.31316104531288147,
                      0.17679186165332794,
                      0.24890536069869995,
                      0.21408089995384216,
                      0.4681764245033264,
                      0.45494377613067627,
                      0.9999999403953552,
                      0.4253304600715637,
                      0.4890836477279663,
                      0.4880465269088745,
                      0.554112434387207,
                      0.4678595960140228,
                      0.4527294635772705,
                      0.4283694624900818,
                      0.4533259868621826,
                      0.35888272523880005,
                      0.4311513602733612,
                      0.34609031677246094,
                      0.3743728995323181,
                      0.27246254682540894,
                      0.294598788022995,
                      0.35379457473754883,
                      0.24823307991027832,
                      0.530974268913269,
                      0.40064260363578796,
                      0.27370786666870117,
                      0.32627636194229126,
                      0.4258154630661011,
                      0.31237608194351196,
                      0.3997402787208557,
                      0.2715036869049072,
                      0.3670562505722046,
                      0.32829713821411133,
                      0.2002314329147339,
                      0.21878880262374878,
                      0.16789084672927856,
                      0.17051851749420166,
                      0.443195104598999,
                      0.431081622838974,
                      0.44265216588974,
                      0.44914552569389343,
                      0.33452343940734863,
                      0.2327985167503357,
                      0.1702832579612732,
                      0.20017710328102112,
                      0.2045261114835739,
                      0.18763408064842224,
                      0.19989463686943054,
                      0.34756791591644287,
                      0.4930424392223358,
                      0.3554101884365082,
                      0.33990365266799927,
                      0.2723558247089386,
                      0.29979193210601807,
                      0.31563061475753784,
                      0.26162636280059814,
                      0.3017440438270569,
                      0.3281610608100891,
                      0.27438127994537354,
                      0.3498504161834717,
                      0.49019962549209595,
                      0.34535670280456543,
                      0.13230761885643005,
                      0.2958514988422394,
                      0.19352740049362183,
                      0.39884158968925476,
                      0.28846579790115356,
                      0.3631904721260071,
                      0.2680860459804535,
                      0.30719804763793945,
                      0.34974536299705505,
                      0.32600870728492737,
                      0.2317529320716858,
                      0.26023533940315247,
                      0.36119717359542847,
                      0.1670648157596588,
                      0.15822353959083557,
                      0.16672708094120026,
                      0.2675975561141968,
                      0.1245536282658577
                    ],
                    [
                      0.27748602628707886,
                      0.41926467418670654,
                      0.3461112380027771,
                      0.42183464765548706,
                      0.3526841402053833,
                      0.4067723751068115,
                      0.4253304600715637,
                      0.9999999403953552,
                      0.5297634601593018,
                      0.4724830687046051,
                      0.6017410755157471,
                      0.4699801206588745,
                      0.4757504165172577,
                      0.510810375213623,
                      0.4986790418624878,
                      0.45526039600372314,
                      0.5468847155570984,
                      0.34397590160369873,
                      0.29833051562309265,
                      0.22649146616458893,
                      0.24657420814037323,
                      0.32054612040519714,
                      0.2515660226345062,
                      0.555450439453125,
                      0.4463713765144348,
                      0.40672051906585693,
                      0.4872480034828186,
                      0.5499802827835083,
                      0.4365689158439636,
                      0.43716394901275635,
                      0.4073633551597595,
                      0.31095993518829346,
                      0.20567867159843445,
                      0.23594817519187927,
                      0.15974372625350952,
                      0.3130095601081848,
                      0.311332643032074,
                      0.28844958543777466,
                      0.4083404541015625,
                      0.39526909589767456,
                      0.2755364179611206,
                      0.4032273292541504,
                      0.37454256415367126,
                      0.1016591489315033,
                      0.12026616930961609,
                      0.12537288665771484,
                      0.13833926618099213,
                      0.1715223342180252,
                      0.32772040367126465,
                      0.4126311242580414,
                      0.29911327362060547,
                      0.1648733764886856,
                      0.18084855377674103,
                      0.1478022038936615,
                      0.16930332779884338,
                      0.11739049851894379,
                      0.09336192905902863,
                      0.16660410165786743,
                      0.22101953625679016,
                      0.19531169533729553,
                      0.31328630447387695,
                      0.3372768759727478,
                      0.2206718921661377,
                      0.161451056599617,
                      0.16542182862758636,
                      0.2380828857421875,
                      0.10155539214611053,
                      0.12269540131092072,
                      0.18694478273391724,
                      0.1745981127023697,
                      0.1797194629907608,
                      0.1611868441104889,
                      0.1664789617061615,
                      0.21041202545166016,
                      0.2559686303138733,
                      0.10218110680580139,
                      0.10186943411827087,
                      0.14468933641910553,
                      0.15473341941833496,
                      -0.020114028826355934
                    ],
                    [
                      0.38364386558532715,
                      0.43601322174072266,
                      0.3564535975456238,
                      0.4258347153663635,
                      0.37240928411483765,
                      0.5218928456306458,
                      0.4890836477279663,
                      0.5297634601593018,
                      0.9999998807907104,
                      0.7041120529174805,
                      0.6712498664855957,
                      0.4530818462371826,
                      0.4563499391078949,
                      0.5074367523193359,
                      0.46660953760147095,
                      0.45047956705093384,
                      0.5678242444992065,
                      0.3628745377063751,
                      0.2904473841190338,
                      0.29866987466812134,
                      0.295146644115448,
                      0.4635447859764099,
                      0.34997615218162537,
                      0.5710277557373047,
                      0.39592987298965454,
                      0.5207504034042358,
                      0.47839611768722534,
                      0.5314865708351135,
                      0.3639397621154785,
                      0.4476725459098816,
                      0.34065285325050354,
                      0.30542463064193726,
                      0.25649845600128174,
                      0.22863751649856567,
                      0.3205399513244629,
                      0.3330208957195282,
                      0.40345829725265503,
                      0.3831057548522949,
                      0.4159228801727295,
                      0.5012859106063843,
                      0.4039011597633362,
                      0.4391723871231079,
                      0.39311033487319946,
                      0.17450430989265442,
                      0.16874705255031586,
                      0.19008244574069977,
                      0.16768285632133484,
                      0.24156677722930908,
                      0.2973473370075226,
                      0.46778059005737305,
                      0.287057489156723,
                      0.24252448976039886,
                      0.14870375394821167,
                      0.17356345057487488,
                      0.208828866481781,
                      0.13476693630218506,
                      0.2127111554145813,
                      0.22551420331001282,
                      0.18781016767024994,
                      0.2928236126899719,
                      0.3939517140388489,
                      0.3612491488456726,
                      0.1768583059310913,
                      0.2118358016014099,
                      0.2624560594558716,
                      0.30298954248428345,
                      0.19977235794067383,
                      0.27327144145965576,
                      0.18387433886528015,
                      0.2601255774497986,
                      0.21637125313282013,
                      0.2004564106464386,
                      0.14732636511325836,
                      0.14010486006736755,
                      0.26436877250671387,
                      0.1233803927898407,
                      0.05830539017915726,
                      0.07034147530794144,
                      0.23074808716773987,
                      0.08411819487810135
                    ],
                    [
                      0.3233387768268585,
                      0.41764235496520996,
                      0.3086274266242981,
                      0.3088482618331909,
                      0.27417993545532227,
                      0.5001150369644165,
                      0.4880465269088745,
                      0.4724830687046051,
                      0.7041120529174805,
                      0.9999997615814209,
                      0.6344318389892578,
                      0.4640248417854309,
                      0.45352503657341003,
                      0.46767789125442505,
                      0.4639878273010254,
                      0.389207661151886,
                      0.47827452421188354,
                      0.22934937477111816,
                      0.2433592528104782,
                      0.1716233789920807,
                      0.1759669929742813,
                      0.5040466785430908,
                      0.31590771675109863,
                      0.55120849609375,
                      0.4367797374725342,
                      0.41001173853874207,
                      0.5258083343505859,
                      0.47029292583465576,
                      0.4020734429359436,
                      0.4715118408203125,
                      0.3111715018749237,
                      0.31096959114074707,
                      0.27646639943122864,
                      0.18434202671051025,
                      0.12059669941663742,
                      0.11280016601085663,
                      0.15515433251857758,
                      0.2609429359436035,
                      0.24683481454849243,
                      0.33733296394348145,
                      0.3029131293296814,
                      0.2682865262031555,
                      0.20751366019248962,
                      0.08269545435905457,
                      0.10520298779010773,
                      0.08615004271268845,
                      0.0787314921617508,
                      0.12252350896596909,
                      0.31540533900260925,
                      0.5279534459114075,
                      0.2515876889228821,
                      0.1595691740512848,
                      0.12230685353279114,
                      0.11879357695579529,
                      0.15006324648857117,
                      0.12391775101423264,
                      0.13325496017932892,
                      0.14248716831207275,
                      0.14562202990055084,
                      0.23879720270633698,
                      0.35208451747894287,
                      0.35132089257240295,
                      0.20184537768363953,
                      0.18253570795059204,
                      0.13638263940811157,
                      0.21612825989723206,
                      0.1480434387922287,
                      0.1807684749364853,
                      0.14959776401519775,
                      0.17675498127937317,
                      0.17681138217449188,
                      0.2180185317993164,
                      0.16405174136161804,
                      0.15162774920463562,
                      0.21128341555595398,
                      0.03890124335885048,
                      0.03683411329984665,
                      0.00576462596654892,
                      0.25551384687423706,
                      0.14202016592025757
                    ],
                    [
                      0.2509895861148834,
                      0.3657136857509613,
                      0.3085007071495056,
                      0.4190194606781006,
                      0.3810686767101288,
                      0.5328391194343567,
                      0.554112434387207,
                      0.6017410755157471,
                      0.6712498664855957,
                      0.6344318389892578,
                      1.000000238418579,
                      0.6999635696411133,
                      0.7123342752456665,
                      0.6796344518661499,
                      0.6864756345748901,
                      0.6082050800323486,
                      0.694258987903595,
                      0.49893996119499207,
                      0.42798691987991333,
                      0.3391488790512085,
                      0.3651764988899231,
                      0.3900190591812134,
                      0.15961292386054993,
                      0.6497451066970825,
                      0.616215169429779,
                      0.5343031883239746,
                      0.5983392596244812,
                      0.6510439515113831,
                      0.5078173875808716,
                      0.5161294341087341,
                      0.5570917129516602,
                      0.4098358154296875,
                      0.3316081166267395,
                      0.2637878954410553,
                      0.26232224702835083,
                      0.3035982847213745,
                      0.32416996359825134,
                      0.3826777935028076,
                      0.39870357513427734,
                      0.5299404859542847,
                      0.41020816564559937,
                      0.4709399342536926,
                      0.3881022334098816,
                      0.16813433170318604,
                      0.20023538172245026,
                      0.2018042802810669,
                      0.15431544184684753,
                      0.23895999789237976,
                      0.4401744604110718,
                      0.5494022965431213,
                      0.43577396869659424,
                      0.3126501441001892,
                      0.32658642530441284,
                      0.2682037651538849,
                      0.32042911648750305,
                      0.24454712867736816,
                      0.20888695120811462,
                      0.326321005821228,
                      0.3412930369377136,
                      0.38126689195632935,
                      0.4772130846977234,
                      0.4118195176124573,
                      0.2969262897968292,
                      0.32008013129234314,
                      0.23531922698020935,
                      0.3725987672805786,
                      0.2757903039455414,
                      0.2982879877090454,
                      0.2549316883087158,
                      0.329135000705719,
                      0.3360159397125244,
                      0.30258652567863464,
                      0.3025655150413513,
                      0.29328083992004395,
                      0.31363052129745483,
                      0.20271074771881104,
                      0.22441916167736053,
                      0.1851138472557068,
                      0.26591289043426514,
                      0.09034061431884766
                    ],
                    [
                      0.24617186188697815,
                      0.3283330500125885,
                      0.3405030369758606,
                      0.43213608860969543,
                      0.3991428017616272,
                      0.45697617530822754,
                      0.4678595960140228,
                      0.4699801206588745,
                      0.4530818462371826,
                      0.4640248417854309,
                      0.6999635696411133,
                      0.9999998807907104,
                      0.926571249961853,
                      0.8642165660858154,
                      0.8321350812911987,
                      0.6997053027153015,
                      0.7963166236877441,
                      0.4489854574203491,
                      0.3390779197216034,
                      0.2804831564426422,
                      0.3084227442741394,
                      0.24898672103881836,
                      0.09852387756109238,
                      0.6487536430358887,
                      0.7700324058532715,
                      0.6039834022521973,
                      0.6944857835769653,
                      0.6914253830909729,
                      0.5113439559936523,
                      0.5075802803039551,
                      0.7138319611549377,
                      0.4626381993293762,
                      0.3500869870185852,
                      0.3925672769546509,
                      0.1511828899383545,
                      0.2628324031829834,
                      0.30167484283447266,
                      0.359241783618927,
                      0.39860671758651733,
                      0.48990875482559204,
                      0.32385849952697754,
                      0.5022404193878174,
                      0.3508245348930359,
                      0.15571430325508118,
                      0.1526472270488739,
                      0.1924355924129486,
                      0.15703776478767395,
                      0.19085274636745453,
                      0.4841693937778473,
                      0.646048903465271,
                      0.6656368970870972,
                      0.25210869312286377,
                      0.3350743055343628,
                      0.24655944108963013,
                      0.3016761541366577,
                      0.26406800746917725,
                      0.1814483404159546,
                      0.3366550803184509,
                      0.3136058449745178,
                      0.4519326686859131,
                      0.5507715940475464,
                      0.3986453711986542,
                      0.3101390600204468,
                      0.29597902297973633,
                      0.15673309564590454,
                      0.374785840511322,
                      0.251974880695343,
                      0.21511057019233704,
                      0.2553105056285858,
                      0.313485324382782,
                      0.35772067308425903,
                      0.3689449429512024,
                      0.37553685903549194,
                      0.39925187826156616,
                      0.28629884123802185,
                      0.15879571437835693,
                      0.2937285602092743,
                      0.24511942267417908,
                      0.24389539659023285,
                      0.10585377365350723
                    ],
                    [
                      0.2312885969877243,
                      0.3165307939052582,
                      0.3247750997543335,
                      0.3718821406364441,
                      0.38429132103919983,
                      0.4549409747123718,
                      0.4527294635772705,
                      0.4757504165172577,
                      0.4563499391078949,
                      0.45352503657341003,
                      0.7123342752456665,
                      0.926571249961853,
                      1.000000238418579,
                      0.8443374633789062,
                      0.8524975776672363,
                      0.6900705695152283,
                      0.7449915409088135,
                      0.4937382638454437,
                      0.37974071502685547,
                      0.3018641471862793,
                      0.3690210282802582,
                      0.18469618260860443,
                      0.06733325123786926,
                      0.5764138698577881,
                      0.7848530411720276,
                      0.5182721614837646,
                      0.6451470255851746,
                      0.6566643714904785,
                      0.5158015489578247,
                      0.459116131067276,
                      0.6701055765151978,
                      0.449033260345459,
                      0.32905712723731995,
                      0.38829025626182556,
                      0.12039437890052795,
                      0.23840177059173584,
                      0.30343830585479736,
                      0.3507881164550781,
                      0.41182687878608704,
                      0.499801903963089,
                      0.3020403981208801,
                      0.5755693912506104,
                      0.3880317807197571,
                      0.17154496908187866,
                      0.1990768164396286,
                      0.22123318910598755,
                      0.1875511109828949,
                      0.21404218673706055,
                      0.5067346692085266,
                      0.693010687828064,
                      0.6255260109901428,
                      0.32694458961486816,
                      0.38942956924438477,
                      0.317342072725296,
                      0.3557707667350769,
                      0.3254384398460388,
                      0.24332955479621887,
                      0.40473461151123047,
                      0.35603076219558716,
                      0.5445758104324341,
                      0.6159420609474182,
                      0.3589596152305603,
                      0.32027339935302734,
                      0.32644084095954895,
                      0.18611285090446472,
                      0.41503986716270447,
                      0.2502557635307312,
                      0.22997096180915833,
                      0.2893899083137512,
                      0.3324541449546814,
                      0.3806309103965759,
                      0.423460453748703,
                      0.40938127040863037,
                      0.4408946633338928,
                      0.2408466935157776,
                      0.185610830783844,
                      0.3124215006828308,
                      0.24402561783790588,
                      0.26049837470054626,
                      0.13798394799232483
                    ],
                    [
                      0.3152938187122345,
                      0.3352329432964325,
                      0.37833696603775024,
                      0.4773121476173401,
                      0.37516507506370544,
                      0.43086448311805725,
                      0.4283694624900818,
                      0.510810375213623,
                      0.5074367523193359,
                      0.46767789125442505,
                      0.6796344518661499,
                      0.8642165660858154,
                      0.8443374633789062,
                      0.9999997615814209,
                      0.8184480667114258,
                      0.751126766204834,
                      0.8929991722106934,
                      0.41026026010513306,
                      0.29441606998443604,
                      0.25974929332733154,
                      0.2719443738460541,
                      0.26007235050201416,
                      0.1909969002008438,
                      0.7373392581939697,
                      0.7675614953041077,
                      0.6935638189315796,
                      0.7206371426582336,
                      0.8353622555732727,
                      0.5599379539489746,
                      0.5589548349380493,
                      0.8090783357620239,
                      0.39364683628082275,
                      0.267817884683609,
                      0.26233652234077454,
                      0.17787036299705505,
                      0.31176304817199707,
                      0.33713996410369873,
                      0.381222665309906,
                      0.40092214941978455,
                      0.4811813235282898,
                      0.24781468510627747,
                      0.47260311245918274,
                      0.37449440360069275,
                      0.10374154895544052,
                      0.10734547674655914,
                      0.16964583098888397,
                      0.09377963840961456,
                      0.13057857751846313,
                      0.35821405053138733,
                      0.543074369430542,
                      0.46141642332077026,
                      0.1560247838497162,
                      0.18812358379364014,
                      0.13557201623916626,
                      0.18829341232776642,
                      0.107352614402771,
                      0.09590531140565872,
                      0.20763075351715088,
                      0.2471514642238617,
                      0.35697898268699646,
                      0.45261406898498535,
                      0.4503481388092041,
                      0.3992916941642761,
                      0.21124820411205292,
                      0.1315915286540985,
                      0.26977550983428955,
                      0.1414751410484314,
                      0.17427977919578552,
                      0.15379992127418518,
                      0.2401828169822693,
                      0.24294117093086243,
                      0.2239607274532318,
                      0.2516072392463684,
                      0.2338855117559433,
                      0.2626471519470215,
                      0.07973330467939377,
                      0.1776675283908844,
                      0.1644890159368515,
                      0.19182509183883667,
                      0.09312815964221954
                    ],
                    [
                      0.2210843861103058,
                      0.31906425952911377,
                      0.2786250114440918,
                      0.39917004108428955,
                      0.3192107677459717,
                      0.4063439965248108,
                      0.4533259868621826,
                      0.4986790418624878,
                      0.46660953760147095,
                      0.4639878273010254,
                      0.6864756345748901,
                      0.8321350812911987,
                      0.8524975776672363,
                      0.8184480667114258,
                      0.9999995231628418,
                      0.6845530867576599,
                      0.7554433345794678,
                      0.35869279503822327,
                      0.28889453411102295,
                      0.20829714834690094,
                      0.24416875839233398,
                      0.22555992007255554,
                      0.08844654262065887,
                      0.6774759888648987,
                      0.78252112865448,
                      0.5763238668441772,
                      0.6791809797286987,
                      0.7625091075897217,
                      0.616958737373352,
                      0.5780469179153442,
                      0.7330140471458435,
                      0.3481093943119049,
                      0.2736101448535919,
                      0.2635241746902466,
                      0.0870274156332016,
                      0.22339698672294617,
                      0.2677527666091919,
                      0.28861939907073975,
                      0.36031636595726013,
                      0.41088002920150757,
                      0.24578529596328735,
                      0.4451412558555603,
                      0.30815327167510986,
                      0.09538902342319489,
                      0.13121306896209717,
                      0.13258710503578186,
                      0.11834745854139328,
                      0.16508394479751587,
                      0.33237123489379883,
                      0.5353068113327026,
                      0.4201282262802124,
                      0.2196689248085022,
                      0.20172137022018433,
                      0.18466418981552124,
                      0.23329567909240723,
                      0.16589906811714172,
                      0.14590299129486084,
                      0.2639796733856201,
                      0.23703786730766296,
                      0.37358999252319336,
                      0.4751894772052765,
                      0.32155993580818176,
                      0.22478541731834412,
                      0.22565951943397522,
                      0.12157735228538513,
                      0.2756342589855194,
                      0.15943533182144165,
                      0.19794529676437378,
                      0.18493980169296265,
                      0.22432829439640045,
                      0.2723294198513031,
                      0.24321779608726501,
                      0.23770487308502197,
                      0.273171603679657,
                      0.2584667205810547,
                      0.07548235356807709,
                      0.14402048289775848,
                      0.1458292156457901,
                      0.09814847260713577,
                      0.012092292308807373
                    ],
                    [
                      0.2554663419723511,
                      0.33691704273223877,
                      0.3355002999305725,
                      0.4069107174873352,
                      0.3554844260215759,
                      0.4037374258041382,
                      0.35888272523880005,
                      0.45526039600372314,
                      0.45047956705093384,
                      0.389207661151886,
                      0.6082050800323486,
                      0.6997053027153015,
                      0.6900705695152283,
                      0.751126766204834,
                      0.6845530867576599,
                      1,
                      0.688822865486145,
                      0.49963486194610596,
                      0.2973320782184601,
                      0.27956312894821167,
                      0.260952889919281,
                      0.26048827171325684,
                      0.24539503455162048,
                      0.5658860206604004,
                      0.6106250286102295,
                      0.5428141951560974,
                      0.5965280532836914,
                      0.6532756090164185,
                      0.4838866591453552,
                      0.4230465292930603,
                      0.6759934425354004,
                      0.3148720860481262,
                      0.23494407534599304,
                      0.21625769138336182,
                      0.2935948073863983,
                      0.3679307699203491,
                      0.3628426194190979,
                      0.39118194580078125,
                      0.38092708587646484,
                      0.478024423122406,
                      0.3579687476158142,
                      0.4991210997104645,
                      0.4101676940917969,
                      0.15303228795528412,
                      0.13169191777706146,
                      0.20113085210323334,
                      0.1467815637588501,
                      0.15895980596542358,
                      0.3188164234161377,
                      0.4578872323036194,
                      0.37878572940826416,
                      0.177147775888443,
                      0.20368245244026184,
                      0.16826915740966797,
                      0.2196715772151947,
                      0.13951751589775085,
                      0.1410544514656067,
                      0.1982952058315277,
                      0.2219906896352768,
                      0.3141244351863861,
                      0.3461613655090332,
                      0.37891241908073425,
                      0.4163341522216797,
                      0.24388857185840607,
                      0.15527823567390442,
                      0.23676998913288116,
                      0.14368395507335663,
                      0.17937156558036804,
                      0.21819564700126648,
                      0.21937397122383118,
                      0.19311971962451935,
                      0.17637303471565247,
                      0.2520601749420166,
                      0.24484235048294067,
                      0.1290530115365982,
                      0.09180066734552383,
                      0.16663071513175964,
                      0.17804571986198425,
                      0.22407841682434082,
                      0.08072230219841003
                    ],
                    [
                      0.3367382287979126,
                      0.37343674898147583,
                      0.38221943378448486,
                      0.5472123622894287,
                      0.4218564033508301,
                      0.4379175305366516,
                      0.4311513602733612,
                      0.5468847155570984,
                      0.5678242444992065,
                      0.47827452421188354,
                      0.694258987903595,
                      0.7963166236877441,
                      0.7449915409088135,
                      0.8929991722106934,
                      0.7554433345794678,
                      0.688822865486145,
                      1,
                      0.3857296109199524,
                      0.2806073725223541,
                      0.25199198722839355,
                      0.24458730220794678,
                      0.3002432882785797,
                      0.21354523301124573,
                      0.7982481122016907,
                      0.6953369379043579,
                      0.8102757930755615,
                      0.7197333574295044,
                      0.8906129598617554,
                      0.5540280342102051,
                      0.6038760542869568,
                      0.7733790874481201,
                      0.3271593749523163,
                      0.24090330302715302,
                      0.27469539642333984,
                      0.21937361359596252,
                      0.3628159165382385,
                      0.37787407636642456,
                      0.3805217146873474,
                      0.41592463850975037,
                      0.4854826033115387,
                      0.25921642780303955,
                      0.461520254611969,
                      0.40411442518234253,
                      0.06479701399803162,
                      0.09410600364208221,
                      0.1514442265033722,
                      0.07529964298009872,
                      0.11167612671852112,
                      0.2989969253540039,
                      0.47932663559913635,
                      0.44803622364997864,
                      0.11560415476560593,
                      0.123349629342556,
                      0.09572941064834595,
                      0.13109919428825378,
                      0.06431276351213455,
                      0.06889523565769196,
                      0.16028031706809998,
                      0.1866869330406189,
                      0.27155637741088867,
                      0.386752724647522,
                      0.4271469712257385,
                      0.28272300958633423,
                      0.16597265005111694,
                      0.12847073376178741,
                      0.22668319940567017,
                      0.12365560233592987,
                      0.14744965732097626,
                      0.13457031548023224,
                      0.22198708355426788,
                      0.18535220623016357,
                      0.15895062685012817,
                      0.18733751773834229,
                      0.17158538103103638,
                      0.317752480506897,
                      0.06122724711894989,
                      0.11662033200263977,
                      0.1203029602766037,
                      0.17161259055137634,
                      -0.0037108780816197395
                    ],
                    [
                      0.22663402557373047,
                      0.22451218962669373,
                      0.27057933807373047,
                      0.24098965525627136,
                      0.4967770576477051,
                      0.43800485134124756,
                      0.34609031677246094,
                      0.34397590160369873,
                      0.3628745377063751,
                      0.22934937477111816,
                      0.49893996119499207,
                      0.4489854574203491,
                      0.4937382638454437,
                      0.41026026010513306,
                      0.35869279503822327,
                      0.49963486194610596,
                      0.3857296109199524,
                      0.9999997615814209,
                      0.7137892246246338,
                      0.7665818929672241,
                      0.7549492120742798,
                      0.0966748297214508,
                      0.193307563662529,
                      0.26091837882995605,
                      0.28951162099838257,
                      0.28477418422698975,
                      0.2475413978099823,
                      0.3209418058395386,
                      0.2978570759296417,
                      0.10286563634872437,
                      0.3025997579097748,
                      0.39263278245925903,
                      0.27198490500450134,
                      0.26300185918807983,
                      0.6511294841766357,
                      0.5938047766685486,
                      0.6020618677139282,
                      0.6435116529464722,
                      0.6252874135971069,
                      0.7485082149505615,
                      0.68465256690979,
                      0.7907723784446716,
                      0.7335468530654907,
                      0.6235400438308716,
                      0.5498702526092529,
                      0.7028763294219971,
                      0.4823839068412781,
                      0.5568933486938477,
                      0.5848071575164795,
                      0.4964519739151001,
                      0.5403499603271484,
                      0.567147433757782,
                      0.6984778642654419,
                      0.5569577217102051,
                      0.6109429597854614,
                      0.5093439817428589,
                      0.5197649598121643,
                      0.5178861021995544,
                      0.6322469711303711,
                      0.5313370823860168,
                      0.541813850402832,
                      0.3050314784049988,
                      0.3799574375152588,
                      0.6527795195579529,
                      0.6095998287200928,
                      0.615861177444458,
                      0.6144004464149475,
                      0.6474756002426147,
                      0.6628673672676086,
                      0.591219425201416,
                      0.5253537893295288,
                      0.4830641448497772,
                      0.4876328110694885,
                      0.5324928760528564,
                      0.07736273854970932,
                      0.5738990902900696,
                      0.5891560316085815,
                      0.5676829814910889,
                      0.563614010810852,
                      0.4408758282661438
                    ],
                    [
                      0.18998214602470398,
                      0.16450242698192596,
                      0.15926089882850647,
                      0.18213805556297302,
                      0.3848956227302551,
                      0.300583153963089,
                      0.3743728995323181,
                      0.29833051562309265,
                      0.2904473841190338,
                      0.2433592528104782,
                      0.42798691987991333,
                      0.3390779197216034,
                      0.37974071502685547,
                      0.29441606998443604,
                      0.28889453411102295,
                      0.2973320782184601,
                      0.2806073725223541,
                      0.7137892246246338,
                      0.9999998211860657,
                      0.8245058059692383,
                      0.7472308874130249,
                      0.07630681991577148,
                      0.10442237555980682,
                      0.18678519129753113,
                      0.2396375834941864,
                      0.17704759538173676,
                      0.1909266859292984,
                      0.21547970175743103,
                      0.20164275169372559,
                      0.14328275620937347,
                      0.13790592551231384,
                      0.31545713543891907,
                      0.1985558271408081,
                      0.16111207008361816,
                      0.5881043076515198,
                      0.5314366221427917,
                      0.5289202332496643,
                      0.6381373405456543,
                      0.5337272882461548,
                      0.5372143983840942,
                      0.5282347202301025,
                      0.6553418636322021,
                      0.6537660360336304,
                      0.5212751626968384,
                      0.5602477788925171,
                      0.6879007816314697,
                      0.5028716325759888,
                      0.5226710438728333,
                      0.4475749135017395,
                      0.46154987812042236,
                      0.444550096988678,
                      0.5985767245292664,
                      0.6884183883666992,
                      0.6250766515731812,
                      0.6383541822433472,
                      0.5550146698951721,
                      0.5810011625289917,
                      0.5483436584472656,
                      0.7071649432182312,
                      0.5856664776802063,
                      0.5793927311897278,
                      0.26487159729003906,
                      0.23957933485507965,
                      0.7185759544372559,
                      0.6229641437530518,
                      0.6362327933311462,
                      0.662771463394165,
                      0.7445123195648193,
                      0.6894934177398682,
                      0.5723075866699219,
                      0.576819658279419,
                      0.40280240774154663,
                      0.4103042483329773,
                      0.49678391218185425,
                      0.11676883697509766,
                      0.5786395072937012,
                      0.5504421591758728,
                      0.4911520779132843,
                      0.4314831495285034,
                      0.34061312675476074
                    ],
                    [
                      0.20911873877048492,
                      0.14717254042625427,
                      0.1715163290500641,
                      0.2084972858428955,
                      0.42671382427215576,
                      0.3390875458717346,
                      0.27246254682540894,
                      0.22649146616458893,
                      0.29866987466812134,
                      0.1716233789920807,
                      0.3391488790512085,
                      0.2804831564426422,
                      0.3018641471862793,
                      0.25974929332733154,
                      0.20829714834690094,
                      0.27956312894821167,
                      0.25199198722839355,
                      0.7665818929672241,
                      0.8245058059692383,
                      0.9999997615814209,
                      0.6986876726150513,
                      0.08079822361469269,
                      0.1482156217098236,
                      0.14190495014190674,
                      0.1539972573518753,
                      0.19835811853408813,
                      0.08582459390163422,
                      0.15469029545783997,
                      0.07103437930345535,
                      0.07797186821699142,
                      0.1612747311592102,
                      0.3096015751361847,
                      0.23161546885967255,
                      0.1919873207807541,
                      0.7301285266876221,
                      0.6314007639884949,
                      0.6487975716590881,
                      0.6818228960037231,
                      0.6183372735977173,
                      0.6499175429344177,
                      0.6001891493797302,
                      0.6824406385421753,
                      0.7367872595787048,
                      0.5962427258491516,
                      0.5759527683258057,
                      0.760728120803833,
                      0.5305104851722717,
                      0.5671112537384033,
                      0.47903674840927124,
                      0.38899263739585876,
                      0.4563717544078827,
                      0.5953845381736755,
                      0.7098217010498047,
                      0.6406809687614441,
                      0.7051928043365479,
                      0.5751711130142212,
                      0.5791659355163574,
                      0.58957439661026,
                      0.7556295990943909,
                      0.578899621963501,
                      0.5352919697761536,
                      0.24009829759597778,
                      0.22482578456401825,
                      0.7065209150314331,
                      0.7379686832427979,
                      0.6681203842163086,
                      0.7033251523971558,
                      0.7739852666854858,
                      0.7104781866073608,
                      0.7010387182235718,
                      0.6004571914672852,
                      0.4560190439224243,
                      0.4119162857532501,
                      0.5038924217224121,
                      0.110870361328125,
                      0.667456328868866,
                      0.5889344215393066,
                      0.6221205592155457,
                      0.5136623978614807,
                      0.3986900746822357
                    ],
                    [
                      0.16965794563293457,
                      0.13096800446510315,
                      0.19941191375255585,
                      0.1233372837305069,
                      0.43578046560287476,
                      0.32419145107269287,
                      0.294598788022995,
                      0.24657420814037323,
                      0.295146644115448,
                      0.1759669929742813,
                      0.3651764988899231,
                      0.3084227442741394,
                      0.3690210282802582,
                      0.2719443738460541,
                      0.24416875839233398,
                      0.260952889919281,
                      0.24458730220794678,
                      0.7549492120742798,
                      0.7472308874130249,
                      0.6986876726150513,
                      1,
                      0.04286245256662369,
                      0.09815338999032974,
                      0.14449837803840637,
                      0.19722163677215576,
                      0.1504966914653778,
                      0.11915089935064316,
                      0.19272802770137787,
                      0.14793556928634644,
                      0.06338249146938324,
                      0.10467346757650375,
                      0.31161123514175415,
                      0.17565754055976868,
                      0.21111957728862762,
                      0.5600063800811768,
                      0.5344871282577515,
                      0.5389127135276794,
                      0.608740508556366,
                      0.5428616404533386,
                      0.5467689037322998,
                      0.5142107605934143,
                      0.7156236171722412,
                      0.642516016960144,
                      0.43873530626296997,
                      0.5024539828300476,
                      0.5793371200561523,
                      0.39790087938308716,
                      0.4281250536441803,
                      0.5084078311920166,
                      0.46629905700683594,
                      0.49052634835243225,
                      0.5290092825889587,
                      0.6491959095001221,
                      0.545335054397583,
                      0.5783604383468628,
                      0.5188753604888916,
                      0.5016109347343445,
                      0.5170409679412842,
                      0.5859735012054443,
                      0.5467733144760132,
                      0.5538630485534668,
                      0.2415691614151001,
                      0.2745468020439148,
                      0.6421020030975342,
                      0.5874375104904175,
                      0.5935409665107727,
                      0.6039532423019409,
                      0.6357850432395935,
                      0.6020746231079102,
                      0.5172804594039917,
                      0.517254114151001,
                      0.4554927945137024,
                      0.3748398721218109,
                      0.48504215478897095,
                      0.09937650710344315,
                      0.49824559688568115,
                      0.4991756081581116,
                      0.4489000141620636,
                      0.41807085275650024,
                      0.3639642596244812
                    ],
                    [
                      0.3311923146247864,
                      0.3750884234905243,
                      0.29772454500198364,
                      0.2550588846206665,
                      0.27517473697662354,
                      0.2548055648803711,
                      0.35379457473754883,
                      0.32054612040519714,
                      0.4635447859764099,
                      0.5040466785430908,
                      0.3900190591812134,
                      0.24898672103881836,
                      0.18469618260860443,
                      0.26007235050201416,
                      0.22555992007255554,
                      0.26048827171325684,
                      0.3002432882785797,
                      0.0966748297214508,
                      0.07630681991577148,
                      0.08079822361469269,
                      0.04286245256662369,
                      1,
                      0.4478241801261902,
                      0.47463226318359375,
                      0.15057967603206635,
                      0.27308133244514465,
                      0.2561764121055603,
                      0.2839357554912567,
                      0.15546981990337372,
                      0.35378170013427734,
                      0.16818203032016754,
                      0.15006133913993835,
                      0.3200911581516266,
                      0.21596163511276245,
                      0.19175271689891815,
                      0.10931502282619476,
                      0.11961960047483444,
                      0.28342509269714355,
                      0.19138483703136444,
                      0.3200145661830902,
                      0.2870795726776123,
                      0.12062682956457138,
                      0.120468869805336,
                      0.012361051514744759,
                      0.02294582687318325,
                      0.0006203427910804749,
                      0.007689638063311577,
                      0.07401023060083389,
                      0.10800157487392426,
                      0.2641300559043884,
                      0.11285320669412613,
                      0.09883709251880646,
                      0.04753156006336212,
                      0.0908467248082161,
                      0.0853872299194336,
                      0.0700642466545105,
                      0.07964944839477539,
                      0.13227495551109314,
                      0.0798766016960144,
                      0.11431575566530228,
                      0.17870068550109863,
                      0.2519535422325134,
                      0.07825429737567902,
                      0.11616280674934387,
                      0.096638023853302,
                      0.13061681389808655,
                      0.09941811859607697,
                      0.08494007587432861,
                      0.05914170295000076,
                      0.14296193420886993,
                      0.10197679698467255,
                      0.10820832848548889,
                      0.06470803916454315,
                      0.052028462290763855,
                      0.2046443372964859,
                      0.01495597418397665,
                      -0.0265129916369915,
                      -0.09287798404693604,
                      0.06535717844963074,
                      0.08496295660734177
                    ],
                    [
                      0.3721698522567749,
                      0.4256768226623535,
                      0.3829840421676636,
                      0.2561239004135132,
                      0.40471816062927246,
                      0.22721412777900696,
                      0.24823307991027832,
                      0.2515660226345062,
                      0.34997615218162537,
                      0.31590771675109863,
                      0.15961292386054993,
                      0.09852387756109238,
                      0.06733325123786926,
                      0.1909969002008438,
                      0.08844654262065887,
                      0.24539503455162048,
                      0.21354523301124573,
                      0.193307563662529,
                      0.10442237555980682,
                      0.1482156217098236,
                      0.09815338999032974,
                      0.4478241801261902,
                      1.0000001192092896,
                      0.24558156728744507,
                      0.06045953929424286,
                      0.20391185581684113,
                      0.11760767549276352,
                      0.17563679814338684,
                      0.13373276591300964,
                      0.11737138032913208,
                      0.13612253963947296,
                      0.10992642492055893,
                      0.14741455018520355,
                      0.12064587324857712,
                      0.30609366297721863,
                      0.23652108013629913,
                      0.2738407850265503,
                      0.32428210973739624,
                      0.2767617106437683,
                      0.3123912811279297,
                      0.30626004934310913,
                      0.19083598256111145,
                      0.20636054873466492,
                      0.10535077005624771,
                      0.04116589576005936,
                      0.1162843406200409,
                      -0.001859013456851244,
                      0.06646323204040527,
                      0.07483909279108047,
                      0.06955452263355255,
                      0.09500787407159805,
                      0.010760491713881493,
                      -0.00960526429116726,
                      0.010118313133716583,
                      0.025245020166039467,
                      -0.0727999210357666,
                      0.03625371307134628,
                      -0.010286029428243637,
                      0.05890277773141861,
                      -0.01775459758937359,
                      0.029573792591691017,
                      0.2969595789909363,
                      0.1015763133764267,
                      0.16336460411548615,
                      0.13882142305374146,
                      0.04158712178468704,
                      0.05402591824531555,
                      0.0741843581199646,
                      0.10276518762111664,
                      0.03282245621085167,
                      -0.010697929188609123,
                      0.01708110049366951,
                      0.029670655727386475,
                      0.03395194932818413,
                      0.09532381594181061,
                      0.018801338970661163,
                      0.008006833493709564,
                      0.0009395969100296497,
                      0.1473633348941803,
                      0.1804600954055786
                    ],
                    [
                      0.2795965373516083,
                      0.3255279064178467,
                      0.35719650983810425,
                      0.41740554571151733,
                      0.39054176211357117,
                      0.5158302783966064,
                      0.530974268913269,
                      0.555450439453125,
                      0.5710277557373047,
                      0.55120849609375,
                      0.6497451066970825,
                      0.6487536430358887,
                      0.5764138698577881,
                      0.7373392581939697,
                      0.6774759888648987,
                      0.5658860206604004,
                      0.7982481122016907,
                      0.26091837882995605,
                      0.18678519129753113,
                      0.14190495014190674,
                      0.14449837803840637,
                      0.47463226318359375,
                      0.24558156728744507,
                      1.0000001192092896,
                      0.6407206058502197,
                      0.6883330345153809,
                      0.689446210861206,
                      0.8458247780799866,
                      0.5402939319610596,
                      0.8284505605697632,
                      0.6766392588615417,
                      0.3969488739967346,
                      0.4690093398094177,
                      0.26209983229637146,
                      0.17171797156333923,
                      0.2501300275325775,
                      0.23367127776145935,
                      0.3015354871749878,
                      0.3486365079879761,
                      0.4223039746284485,
                      0.342592716217041,
                      0.3124721348285675,
                      0.26348012685775757,
                      0.055294234305620193,
                      0.0753951221704483,
                      0.07501780986785889,
                      0.08866821974515915,
                      0.13677364587783813,
                      0.2968166172504425,
                      0.4521222710609436,
                      0.31959080696105957,
                      0.140803724527359,
                      0.035649869590997696,
                      0.0976809710264206,
                      0.09004618227481842,
                      0.05353167653083801,
                      0.10334935039281845,
                      0.151870459318161,
                      0.1278141438961029,
                      0.1719188690185547,
                      0.3527485132217407,
                      0.40645861625671387,
                      0.2512684166431427,
                      0.10998545587062836,
                      0.05767865478992462,
                      0.25682154297828674,
                      0.08170344680547714,
                      0.13452936708927155,
                      0.04960449039936066,
                      0.2344820499420166,
                      0.17176291346549988,
                      0.17176535725593567,
                      0.12170228362083435,
                      0.09108391404151917,
                      0.4468730092048645,
                      0.01855981908738613,
                      0.0007178069790825248,
                      0.022432714700698853,
                      0.10953161120414734,
                      -0.016802284866571426
                    ],
                    [
                      0.15986095368862152,
                      0.25295209884643555,
                      0.2344023585319519,
                      0.322238028049469,
                      0.24789026379585266,
                      0.4104953110218048,
                      0.40064260363578796,
                      0.4463713765144348,
                      0.39592987298965454,
                      0.4367797374725342,
                      0.616215169429779,
                      0.7700324058532715,
                      0.7848530411720276,
                      0.7675614953041077,
                      0.78252112865448,
                      0.6106250286102295,
                      0.6953369379043579,
                      0.28951162099838257,
                      0.2396375834941864,
                      0.1539972573518753,
                      0.19722163677215576,
                      0.15057967603206635,
                      0.06045953929424286,
                      0.6407206058502197,
                      1.0000001192092896,
                      0.5947753190994263,
                      0.8341981172561646,
                      0.7694722414016724,
                      0.6940115690231323,
                      0.7448973059654236,
                      0.8276166319847107,
                      0.395002543926239,
                      0.23320689797401428,
                      0.22821781039237976,
                      0.021191701292991638,
                      0.13480530679225922,
                      0.16271516680717468,
                      0.18082356452941895,
                      0.2131085991859436,
                      0.255779504776001,
                      0.1564018726348877,
                      0.2999022603034973,
                      0.21293024718761444,
                      0.1042117327451706,
                      0.1481262743473053,
                      0.14029045403003693,
                      0.12591391801834106,
                      0.17505790293216705,
                      0.4123465418815613,
                      0.45735234022140503,
                      0.4036715030670166,
                      0.1947820782661438,
                      0.20428773760795593,
                      0.16292613744735718,
                      0.17133024334907532,
                      0.13337983191013336,
                      0.13699546456336975,
                      0.1712847352027893,
                      0.20984460413455963,
                      0.2170751988887787,
                      0.27436816692352295,
                      0.2825799286365509,
                      0.26364120841026306,
                      0.20204871892929077,
                      0.06794483959674835,
                      0.16770800948143005,
                      0.1153954342007637,
                      0.08702737092971802,
                      0.1018962562084198,
                      0.152306467294693,
                      0.22578229010105133,
                      0.3254915177822113,
                      0.35418465733528137,
                      0.298212468624115,
                      0.17998206615447998,
                      0.06726303696632385,
                      0.1720009744167328,
                      0.1454543173313141,
                      0.12505687773227692,
                      0.0464680977165699
                    ],
                    [
                      0.31978172063827515,
                      0.4382215738296509,
                      0.3287798762321472,
                      0.6364723443984985,
                      0.32908594608306885,
                      0.3897017240524292,
                      0.27370786666870117,
                      0.40672051906585693,
                      0.5207504034042358,
                      0.41001173853874207,
                      0.5343031883239746,
                      0.6039834022521973,
                      0.5182721614837646,
                      0.6935638189315796,
                      0.5763238668441772,
                      0.5428141951560974,
                      0.8102757930755615,
                      0.28477418422698975,
                      0.17704759538173676,
                      0.19835811853408813,
                      0.1504966914653778,
                      0.27308133244514465,
                      0.20391185581684113,
                      0.6883330345153809,
                      0.5947753190994263,
                      0.9999997615814209,
                      0.742577075958252,
                      0.7231962084770203,
                      0.47133010625839233,
                      0.5783348083496094,
                      0.6870036721229553,
                      0.25082457065582275,
                      0.18727877736091614,
                      0.2079974114894867,
                      0.2924291491508484,
                      0.41741883754730225,
                      0.42674434185028076,
                      0.30472350120544434,
                      0.3200632333755493,
                      0.34970611333847046,
                      0.2761945128440857,
                      0.3699475824832916,
                      0.38266652822494507,
                      0.06607061624526978,
                      0.07722557336091995,
                      0.12158682942390442,
                      0.05458689481019974,
                      0.10097582638263702,
                      0.2050250917673111,
                      0.3245575428009033,
                      0.3299151659011841,
                      0.041887760162353516,
                      0.041526444256305695,
                      0.023335028439760208,
                      0.05702996626496315,
                      -0.00991368293762207,
                      0.03593975305557251,
                      0.05299766734242439,
                      0.09401055425405502,
                      0.09244010597467422,
                      0.18481943011283875,
                      0.3428647220134735,
                      0.17150284349918365,
                      0.10629968345165253,
                      0.15254798531532288,
                      0.12200566381216049,
                      0.07593367993831635,
                      0.11079905927181244,
                      0.10558910667896271,
                      0.1515655219554901,
                      0.09732101857662201,
                      0.09268100559711456,
                      0.08639495074748993,
                      0.07557134330272675,
                      0.3038473129272461,
                      0.029225673526525497,
                      0.022606397047638893,
                      0.041890013962984085,
                      0.11390036344528198,
                      0.04439108073711395
                    ],
                    [
                      0.2165956050157547,
                      0.37453266978263855,
                      0.3007356524467468,
                      0.43759894371032715,
                      0.23374569416046143,
                      0.3947431445121765,
                      0.32627636194229126,
                      0.4872480034828186,
                      0.47839611768722534,
                      0.5258083343505859,
                      0.5983392596244812,
                      0.6944857835769653,
                      0.6451470255851746,
                      0.7206371426582336,
                      0.6791809797286987,
                      0.5965280532836914,
                      0.7197333574295044,
                      0.2475413978099823,
                      0.1909266859292984,
                      0.08582459390163422,
                      0.11915089935064316,
                      0.2561764121055603,
                      0.11760767549276352,
                      0.689446210861206,
                      0.8341981172561646,
                      0.742577075958252,
                      1,
                      0.7312260866165161,
                      0.7083934545516968,
                      0.7393272519111633,
                      0.7774503231048584,
                      0.25597527623176575,
                      0.18226827681064606,
                      0.2012956142425537,
                      0.05232182890176773,
                      0.17591887712478638,
                      0.19431447982788086,
                      0.17987564206123352,
                      0.18531066179275513,
                      0.24599260091781616,
                      0.16974961757659912,
                      0.23367172479629517,
                      0.2069907784461975,
                      0.0435667559504509,
                      0.055563490837812424,
                      0.04679681360721588,
                      0.05385703220963478,
                      0.08493253588676453,
                      0.28735244274139404,
                      0.41312935948371887,
                      0.271739661693573,
                      0.03930364549160004,
                      0.0587988905608654,
                      0.017821701243519783,
                      0.026297610253095627,
                      -0.0019178460352122784,
                      0.006792854517698288,
                      0.031496450304985046,
                      0.05780860781669617,
                      0.07746897637844086,
                      0.16384075582027435,
                      0.2919151782989502,
                      0.2011529505252838,
                      0.07339818775653839,
                      0.038642555475234985,
                      0.0704980418086052,
                      0.038488566875457764,
                      0.03130640462040901,
                      0.059961605817079544,
                      0.07000960409641266,
                      0.08845919370651245,
                      0.1503755897283554,
                      0.16105061769485474,
                      0.11115328967571259,
                      0.18945355713367462,
                      -0.0043607912957668304,
                      0.018569551408290863,
                      0.0019816607236862183,
                      0.09247298538684845,
                      0.024898594245314598
                    ],
                    [
                      0.26119789481163025,
                      0.3058401048183441,
                      0.268736869096756,
                      0.42570650577545166,
                      0.34247612953186035,
                      0.4355633854866028,
                      0.4258154630661011,
                      0.5499802827835083,
                      0.5314865708351135,
                      0.47029292583465576,
                      0.6510439515113831,
                      0.6914253830909729,
                      0.6566643714904785,
                      0.8353622555732727,
                      0.7625091075897217,
                      0.6532756090164185,
                      0.8906129598617554,
                      0.3209418058395386,
                      0.21547970175743103,
                      0.15469029545783997,
                      0.19272802770137787,
                      0.2839357554912567,
                      0.17563679814338684,
                      0.8458247780799866,
                      0.7694722414016724,
                      0.7231962084770203,
                      0.7312260866165161,
                      0.9999997615814209,
                      0.6642504930496216,
                      0.7238043546676636,
                      0.8137205243110657,
                      0.3226344585418701,
                      0.22909635305404663,
                      0.191045880317688,
                      0.13985954225063324,
                      0.2869866192340851,
                      0.2897537648677826,
                      0.2705123722553253,
                      0.315449595451355,
                      0.36201757192611694,
                      0.19956789910793304,
                      0.3895692825317383,
                      0.33241599798202515,
                      0.02856471762061119,
                      0.06060188263654709,
                      0.09166139364242554,
                      0.05174337327480316,
                      0.1068541407585144,
                      0.24847717583179474,
                      0.37899863719940186,
                      0.3232765793800354,
                      0.09395326673984528,
                      0.041952166706323624,
                      0.056125689297914505,
                      0.07946273684501648,
                      0.006752212531864643,
                      0.047038912773132324,
                      0.08964406698942184,
                      0.13590207695960999,
                      0.16759446263313293,
                      0.29148662090301514,
                      0.33482497930526733,
                      0.2554631233215332,
                      0.129603311419487,
                      0.04638791084289551,
                      0.16818572580814362,
                      0.06293568015098572,
                      0.09866774827241898,
                      0.024348275735974312,
                      0.16207416355609894,
                      0.12727594375610352,
                      0.11575867980718613,
                      0.13356351852416992,
                      0.09962370991706848,
                      0.2603820562362671,
                      0.018443666398525238,
                      0.03389440476894379,
                      0.05495573207736015,
                      0.0760401263833046,
                      -0.06510329991579056
                    ],
                    [
                      0.1646433174610138,
                      0.2751643657684326,
                      0.23485365509986877,
                      0.26658812165260315,
                      0.24208837747573853,
                      0.36301881074905396,
                      0.31237608194351196,
                      0.4365689158439636,
                      0.3639397621154785,
                      0.4020734429359436,
                      0.5078173875808716,
                      0.5113439559936523,
                      0.5158015489578247,
                      0.5599379539489746,
                      0.616958737373352,
                      0.4838866591453552,
                      0.5540280342102051,
                      0.2978570759296417,
                      0.20164275169372559,
                      0.07103437930345535,
                      0.14793556928634644,
                      0.15546981990337372,
                      0.13373276591300964,
                      0.5402939319610596,
                      0.6940115690231323,
                      0.47133010625839233,
                      0.7083934545516968,
                      0.6642504930496216,
                      1,
                      0.5778292417526245,
                      0.6347379088401794,
                      0.24615980684757233,
                      0.19306649267673492,
                      0.19886067509651184,
                      0.019379032775759697,
                      0.16929015517234802,
                      0.16365565359592438,
                      0.12616777420043945,
                      0.16213220357894897,
                      0.21669092774391174,
                      0.11471867561340332,
                      0.2504972219467163,
                      0.24559858441352844,
                      0.08929744362831116,
                      0.09961652010679245,
                      0.05814805626869202,
                      0.06419543921947479,
                      0.11572685837745667,
                      0.23617082834243774,
                      0.29463350772857666,
                      0.1977030336856842,
                      0.07142888009548187,
                      0.05027785524725914,
                      0.021759357303380966,
                      0.011000909842550755,
                      -0.02669849991798401,
                      0.05057089030742645,
                      0.015668584033846855,
                      0.03766752779483795,
                      0.028654223307967186,
                      0.1129554808139801,
                      0.222361221909523,
                      0.22348356246948242,
                      0.0621250681579113,
                      0.0440049022436142,
                      0.03228681534528732,
                      0.011688273400068283,
                      0.0564393624663353,
                      0.07598760724067688,
                      0.017789360135793686,
                      0.05855449661612511,
                      0.11638176441192627,
                      0.1503552794456482,
                      0.10741494596004486,
                      0.10533566772937775,
                      -0.028157994151115417,
                      -0.00507064163684845,
                      0.0030141696333885193,
                      0.057587046176195145,
                      0.011433317326009274
                    ],
                    [
                      0.12304308265447617,
                      0.2123027741909027,
                      0.23290646076202393,
                      0.26741379499435425,
                      0.22822049260139465,
                      0.4029383063316345,
                      0.3997402787208557,
                      0.43716394901275635,
                      0.4476725459098816,
                      0.4715118408203125,
                      0.5161294341087341,
                      0.5075802803039551,
                      0.459116131067276,
                      0.5589548349380493,
                      0.5780469179153442,
                      0.4230465292930603,
                      0.6038760542869568,
                      0.10286563634872437,
                      0.14328275620937347,
                      0.07797186821699142,
                      0.06338249146938324,
                      0.35378170013427734,
                      0.11737138032913208,
                      0.8284505605697632,
                      0.7448973059654236,
                      0.5783348083496094,
                      0.7393272519111633,
                      0.7238043546676636,
                      0.5778292417526245,
                      1.0000001192092896,
                      0.6377051472663879,
                      0.27123647928237915,
                      0.3396643400192261,
                      0.14965179562568665,
                      0.048980291932821274,
                      0.11354076117277145,
                      0.11441969871520996,
                      0.1446378380060196,
                      0.19714662432670593,
                      0.2055055946111679,
                      0.19317379593849182,
                      0.13815902173519135,
                      0.12336699664592743,
                      0.020102839916944504,
                      0.05158436298370361,
                      0.03212704136967659,
                      0.074254110455513,
                      0.12235729396343231,
                      0.2334446907043457,
                      0.3209089934825897,
                      0.19856378436088562,
                      0.0908680409193039,
                      -0.01003860030323267,
                      0.05305944383144379,
                      0.03217286616563797,
                      0.013249535113573074,
                      0.057572584599256516,
                      0.04144884645938873,
                      0.08015631139278412,
                      0.04255477339029312,
                      0.16872988641262054,
                      0.22815194725990295,
                      0.11491478979587555,
                      0.05362365394830704,
                      0.026325585320591927,
                      0.11657862365245819,
                      0.007798206061124802,
                      0.05972631648182869,
                      -0.006800249218940735,
                      0.13383236527442932,
                      0.09772327542304993,
                      0.17498302459716797,
                      0.12926998734474182,
                      0.06517982482910156,
                      0.37039586901664734,
                      -0.011410679668188095,
                      -0.05466336011886597,
                      -0.020894918590784073,
                      0.03475022315979004,
                      -0.05269133672118187
                    ],
                    [
                      0.23792588710784912,
                      0.2728275656700134,
                      0.2600449323654175,
                      0.42446041107177734,
                      0.24609921872615814,
                      0.37989503145217896,
                      0.2715036869049072,
                      0.4073633551597595,
                      0.34065285325050354,
                      0.3111715018749237,
                      0.5570917129516602,
                      0.7138319611549377,
                      0.6701055765151978,
                      0.8090783357620239,
                      0.7330140471458435,
                      0.6759934425354004,
                      0.7733790874481201,
                      0.3025997579097748,
                      0.13790592551231384,
                      0.1612747311592102,
                      0.10467346757650375,
                      0.16818203032016754,
                      0.13612253963947296,
                      0.6766392588615417,
                      0.8276166319847107,
                      0.6870036721229553,
                      0.7774503231048584,
                      0.8137205243110657,
                      0.6347379088401794,
                      0.6377051472663879,
                      0.9999998807907104,
                      0.3240779638290405,
                      0.23669514060020447,
                      0.18547864258289337,
                      0.12932254374027252,
                      0.22361057996749878,
                      0.19834528863430023,
                      0.21216769516468048,
                      0.23133644461631775,
                      0.31394511461257935,
                      0.14916974306106567,
                      0.24180807173252106,
                      0.21337011456489563,
                      0.06298007816076279,
                      0.06618331372737885,
                      0.11238494515419006,
                      0.05842794477939606,
                      0.10463274270296097,
                      0.2947934567928314,
                      0.3045928478240967,
                      0.3403855264186859,
                      0.07318034768104553,
                      0.06885693967342377,
                      0.059891171753406525,
                      0.07814627140760422,
                      0.010552516207098961,
                      0.025718800723552704,
                      0.08960579335689545,
                      0.14165890216827393,
                      0.12392446398735046,
                      0.1435166448354721,
                      0.33903375267982483,
                      0.2782268524169922,
                      0.09608225524425507,
                      0.06408725678920746,
                      0.08526894450187683,
                      0.033722490072250366,
                      0.031339071691036224,
                      0.01601484790444374,
                      0.10223990678787231,
                      0.09454351663589478,
                      0.15013748407363892,
                      0.1714450865983963,
                      0.10076495260000229,
                      0.13756640255451202,
                      0.031487803906202316,
                      0.08327323198318481,
                      0.10243763774633408,
                      0.08999597281217575,
                      -0.02372928336262703
                    ],
                    [
                      0.2542083263397217,
                      0.11183136701583862,
                      0.2791104018688202,
                      0.2594676613807678,
                      0.2944284677505493,
                      0.45429277420043945,
                      0.3670562505722046,
                      0.31095993518829346,
                      0.30542463064193726,
                      0.31096959114074707,
                      0.4098358154296875,
                      0.4626381993293762,
                      0.449033260345459,
                      0.39364683628082275,
                      0.3481093943119049,
                      0.3148720860481262,
                      0.3271593749523163,
                      0.39263278245925903,
                      0.31545713543891907,
                      0.3096015751361847,
                      0.31161123514175415,
                      0.15006133913993835,
                      0.10992642492055893,
                      0.3969488739967346,
                      0.395002543926239,
                      0.25082457065582275,
                      0.25597527623176575,
                      0.3226344585418701,
                      0.24615980684757233,
                      0.27123647928237915,
                      0.3240779638290405,
                      0.9999999403953552,
                      0.6802585124969482,
                      0.3920726776123047,
                      0.2611812949180603,
                      0.22009462118148804,
                      0.2121170163154602,
                      0.2854403853416443,
                      0.2982226312160492,
                      0.317535400390625,
                      0.41861408948898315,
                      0.3365621268749237,
                      0.2437419891357422,
                      0.2312891185283661,
                      0.23204827308654785,
                      0.2556290924549103,
                      0.2581496238708496,
                      0.24108630418777466,
                      0.795292854309082,
                      0.6602628231048584,
                      0.5597116947174072,
                      0.28720057010650635,
                      0.3332056403160095,
                      0.32850950956344604,
                      0.30853474140167236,
                      0.28933942317962646,
                      0.29727691411972046,
                      0.3398725688457489,
                      0.32668501138687134,
                      0.29378819465637207,
                      0.37628740072250366,
                      0.6690971255302429,
                      0.5304919481277466,
                      0.30122143030166626,
                      0.26336854696273804,
                      0.42920538783073425,
                      0.29188820719718933,
                      0.2847364544868469,
                      0.3295294940471649,
                      0.33919835090637207,
                      0.3537721037864685,
                      0.4282054901123047,
                      0.3889981508255005,
                      0.39078712463378906,
                      0.30932503938674927,
                      0.2985076308250427,
                      0.2810364067554474,
                      0.32132768630981445,
                      0.25807398557662964,
                      0.21561382710933685
                    ],
                    [
                      0.21684592962265015,
                      0.056149162352085114,
                      0.280656099319458,
                      0.188921257853508,
                      0.32263728976249695,
                      0.5108376741409302,
                      0.32829713821411133,
                      0.20567867159843445,
                      0.25649845600128174,
                      0.27646639943122864,
                      0.3316081166267395,
                      0.3500869870185852,
                      0.32905712723731995,
                      0.267817884683609,
                      0.2736101448535919,
                      0.23494407534599304,
                      0.24090330302715302,
                      0.27198490500450134,
                      0.1985558271408081,
                      0.23161546885967255,
                      0.17565754055976868,
                      0.3200911581516266,
                      0.14741455018520355,
                      0.4690093398094177,
                      0.23320689797401428,
                      0.18727877736091614,
                      0.18226827681064606,
                      0.22909635305404663,
                      0.19306649267673492,
                      0.3396643400192261,
                      0.23669514060020447,
                      0.6802585124969482,
                      0.9999998807907104,
                      0.4377891719341278,
                      0.2111905813217163,
                      0.17297935485839844,
                      0.10159598290920258,
                      0.23223285377025604,
                      0.2415635585784912,
                      0.3188633918762207,
                      0.4036219120025635,
                      0.23066315054893494,
                      0.175889790058136,
                      0.2162770926952362,
                      0.2171180546283722,
                      0.16915155947208405,
                      0.22602269053459167,
                      0.2518464922904968,
                      0.5892037153244019,
                      0.4471885561943054,
                      0.43362191319465637,
                      0.29336071014404297,
                      0.23073768615722656,
                      0.34549131989479065,
                      0.2551802396774292,
                      0.2772615849971771,
                      0.3174229562282562,
                      0.35373347997665405,
                      0.2541934549808502,
                      0.26489925384521484,
                      0.35194915533065796,
                      0.5094022750854492,
                      0.34538573026657104,
                      0.19341060519218445,
                      0.18409612774848938,
                      0.4175949692726135,
                      0.2086176574230194,
                      0.243078351020813,
                      0.2767329216003418,
                      0.3238525986671448,
                      0.27397769689559937,
                      0.4379606246948242,
                      0.25795978307724,
                      0.2794647216796875,
                      0.3232588469982147,
                      0.2456422746181488,
                      0.17375442385673523,
                      0.23308297991752625,
                      0.1833615005016327,
                      0.11032173037528992
                    ],
                    [
                      0.14544659852981567,
                      0.12290121614933014,
                      0.45742881298065186,
                      0.1963946521282196,
                      0.26413148641586304,
                      0.39280158281326294,
                      0.2002314329147339,
                      0.23594817519187927,
                      0.22863751649856567,
                      0.18434202671051025,
                      0.2637878954410553,
                      0.3925672769546509,
                      0.38829025626182556,
                      0.26233652234077454,
                      0.2635241746902466,
                      0.21625769138336182,
                      0.27469539642333984,
                      0.26300185918807983,
                      0.16111207008361816,
                      0.1919873207807541,
                      0.21111957728862762,
                      0.21596163511276245,
                      0.12064587324857712,
                      0.26209983229637146,
                      0.22821781039237976,
                      0.2079974114894867,
                      0.2012956142425537,
                      0.191045880317688,
                      0.19886067509651184,
                      0.14965179562568665,
                      0.18547864258289337,
                      0.3920726776123047,
                      0.4377891719341278,
                      1.000000238418579,
                      0.11951349675655365,
                      0.14522522687911987,
                      0.14575782418251038,
                      0.13829341530799866,
                      0.24381527304649353,
                      0.28322309255599976,
                      0.2315112054347992,
                      0.3133684992790222,
                      0.21807551383972168,
                      0.1959015429019928,
                      0.2437865287065506,
                      0.16967333853244781,
                      0.22912582755088806,
                      0.2324172556400299,
                      0.46859002113342285,
                      0.38870128989219666,
                      0.5498286485671997,
                      0.2859121561050415,
                      0.25185447931289673,
                      0.30257391929626465,
                      0.22203361988067627,
                      0.29862940311431885,
                      0.27206024527549744,
                      0.3350050747394562,
                      0.21338775753974915,
                      0.2951812744140625,
                      0.34085285663604736,
                      0.21252360939979553,
                      0.1436968743801117,
                      0.19485019147396088,
                      0.12331964820623398,
                      0.26746824383735657,
                      0.19510941207408905,
                      0.1612555980682373,
                      0.18301628530025482,
                      0.20905093848705292,
                      0.26861003041267395,
                      0.40168553590774536,
                      0.17235419154167175,
                      0.19981282949447632,
                      0.19778093695640564,
                      0.21909819543361664,
                      0.19715014100074768,
                      0.15170985460281372,
                      0.15651467442512512,
                      0.14640489220619202
                    ],
                    [
                      0.2813313603401184,
                      0.20443010330200195,
                      0.19240805506706238,
                      0.2591477930545807,
                      0.426644504070282,
                      0.29933416843414307,
                      0.21878880262374878,
                      0.15974372625350952,
                      0.3205399513244629,
                      0.12059669941663742,
                      0.26232224702835083,
                      0.1511828899383545,
                      0.12039437890052795,
                      0.17787036299705505,
                      0.0870274156332016,
                      0.2935948073863983,
                      0.21937361359596252,
                      0.6511294841766357,
                      0.5881043076515198,
                      0.7301285266876221,
                      0.5600063800811768,
                      0.19175271689891815,
                      0.30609366297721863,
                      0.17171797156333923,
                      0.021191701292991638,
                      0.2924291491508484,
                      0.05232182890176773,
                      0.13985954225063324,
                      0.019379032775759697,
                      0.048980291932821274,
                      0.12932254374027252,
                      0.2611812949180603,
                      0.2111905813217163,
                      0.11951349675655365,
                      1,
                      0.830823540687561,
                      0.7307031154632568,
                      0.7570235729217529,
                      0.5847431421279907,
                      0.6085060834884644,
                      0.7135759592056274,
                      0.563982367515564,
                      0.7271921634674072,
                      0.4387335777282715,
                      0.3751615881919861,
                      0.5357207655906677,
                      0.32783618569374084,
                      0.4042811393737793,
                      0.28319084644317627,
                      0.24758538603782654,
                      0.2944370210170746,
                      0.3476681113243103,
                      0.418831467628479,
                      0.382681280374527,
                      0.4522002935409546,
                      0.29239600896835327,
                      0.3807353377342224,
                      0.30159157514572144,
                      0.44498616456985474,
                      0.26988327503204346,
                      0.28435781598091125,
                      0.3057287633419037,
                      0.17285241186618805,
                      0.49039173126220703,
                      0.6919238567352295,
                      0.455161452293396,
                      0.4760259985923767,
                      0.5703656673431396,
                      0.5911872982978821,
                      0.5366557240486145,
                      0.3478817343711853,
                      0.2209782600402832,
                      0.23600617051124573,
                      0.29591506719589233,
                      0.1502605825662613,
                      0.4344000220298767,
                      0.35010984539985657,
                      0.40491461753845215,
                      0.43886399269104004,
                      0.37391144037246704
                    ],
                    [
                      0.19491901993751526,
                      0.24282486736774445,
                      0.1681424379348755,
                      0.364900678396225,
                      0.43492913246154785,
                      0.335196852684021,
                      0.16789084672927856,
                      0.3130095601081848,
                      0.3330208957195282,
                      0.11280016601085663,
                      0.3035982847213745,
                      0.2628324031829834,
                      0.23840177059173584,
                      0.31176304817199707,
                      0.22339698672294617,
                      0.3679307699203491,
                      0.3628159165382385,
                      0.5938047766685486,
                      0.5314366221427917,
                      0.6314007639884949,
                      0.5344871282577515,
                      0.10931502282619476,
                      0.23652108013629913,
                      0.2501300275325775,
                      0.13480530679225922,
                      0.41741883754730225,
                      0.17591887712478638,
                      0.2869866192340851,
                      0.16929015517234802,
                      0.11354076117277145,
                      0.22361057996749878,
                      0.22009462118148804,
                      0.17297935485839844,
                      0.14522522687911987,
                      0.830823540687561,
                      1.0000001192092896,
                      0.8427291512489319,
                      0.6593272089958191,
                      0.579840898513794,
                      0.5644590258598328,
                      0.5320227742195129,
                      0.7010948657989502,
                      0.8831052184104919,
                      0.3384210467338562,
                      0.2946324646472931,
                      0.4214377701282501,
                      0.2326340526342392,
                      0.3059704601764679,
                      0.2517733871936798,
                      0.22358787059783936,
                      0.30333417654037476,
                      0.24052634835243225,
                      0.34057408571243286,
                      0.289970338344574,
                      0.3509984612464905,
                      0.20990003645420074,
                      0.27241086959838867,
                      0.21936547756195068,
                      0.3824799656867981,
                      0.23072408139705658,
                      0.24785661697387695,
                      0.25663915276527405,
                      0.19492118060588837,
                      0.40528038144111633,
                      0.5349838137626648,
                      0.3452640771865845,
                      0.3529914915561676,
                      0.42818397283554077,
                      0.531535267829895,
                      0.38690638542175293,
                      0.26600560545921326,
                      0.20233547687530518,
                      0.18638229370117188,
                      0.2917279005050659,
                      0.12947583198547363,
                      0.3232705593109131,
                      0.2753303050994873,
                      0.34429892897605896,
                      0.3569502830505371,
                      0.21013984084129333
                    ],
                    [
                      0.1974239945411682,
                      0.3195796012878418,
                      0.18788109719753265,
                      0.3100922703742981,
                      0.45277124643325806,
                      0.29340600967407227,
                      0.17051851749420166,
                      0.311332643032074,
                      0.40345829725265503,
                      0.15515433251857758,
                      0.32416996359825134,
                      0.30167484283447266,
                      0.30343830585479736,
                      0.33713996410369873,
                      0.2677527666091919,
                      0.3628426194190979,
                      0.37787407636642456,
                      0.6020618677139282,
                      0.5289202332496643,
                      0.6487975716590881,
                      0.5389127135276794,
                      0.11961960047483444,
                      0.2738407850265503,
                      0.23367127776145935,
                      0.16271516680717468,
                      0.42674434185028076,
                      0.19431447982788086,
                      0.2897537648677826,
                      0.16365565359592438,
                      0.11441969871520996,
                      0.19834528863430023,
                      0.2121170163154602,
                      0.10159598290920258,
                      0.14575782418251038,
                      0.7307031154632568,
                      0.8427291512489319,
                      1,
                      0.6769834160804749,
                      0.6341019868850708,
                      0.5988643765449524,
                      0.535304844379425,
                      0.7723691463470459,
                      0.8727408051490784,
                      0.33925116062164307,
                      0.30483460426330566,
                      0.4453948140144348,
                      0.27458468079566956,
                      0.31977763772010803,
                      0.2841828465461731,
                      0.2837007939815521,
                      0.3489361107349396,
                      0.27254265546798706,
                      0.3778460919857025,
                      0.32256364822387695,
                      0.39902323484420776,
                      0.2693345248699188,
                      0.29544517397880554,
                      0.2800270915031433,
                      0.406105637550354,
                      0.2964371144771576,
                      0.33200615644454956,
                      0.2730693817138672,
                      0.18914812803268433,
                      0.435110867023468,
                      0.5636792778968811,
                      0.39381691813468933,
                      0.4132540822029114,
                      0.46687015891075134,
                      0.5391710996627808,
                      0.4502093195915222,
                      0.3507090210914612,
                      0.21294549107551575,
                      0.20421087741851807,
                      0.3330068290233612,
                      0.08437366783618927,
                      0.34616395831108093,
                      0.27491092681884766,
                      0.35152727365493774,
                      0.4038509130477905,
                      0.24851065874099731
                    ],
                    [
                      0.4691634774208069,
                      0.24650445580482483,
                      0.24733957648277283,
                      0.23941195011138916,
                      0.48401135206222534,
                      0.3912486433982849,
                      0.443195104598999,
                      0.28844958543777466,
                      0.3831057548522949,
                      0.2609429359436035,
                      0.3826777935028076,
                      0.359241783618927,
                      0.3507881164550781,
                      0.381222665309906,
                      0.28861939907073975,
                      0.39118194580078125,
                      0.3805217146873474,
                      0.6435116529464722,
                      0.6381373405456543,
                      0.6818228960037231,
                      0.608740508556366,
                      0.28342509269714355,
                      0.32428210973739624,
                      0.3015354871749878,
                      0.18082356452941895,
                      0.30472350120544434,
                      0.17987564206123352,
                      0.2705123722553253,
                      0.12616777420043945,
                      0.1446378380060196,
                      0.21216769516468048,
                      0.2854403853416443,
                      0.23223285377025604,
                      0.13829341530799866,
                      0.7570235729217529,
                      0.6593272089958191,
                      0.6769834160804749,
                      0.9999997615814209,
                      0.7865182161331177,
                      0.7325003147125244,
                      0.647959291934967,
                      0.6250893473625183,
                      0.674324095249176,
                      0.4361254572868347,
                      0.34496667981147766,
                      0.5350370407104492,
                      0.32376787066459656,
                      0.3954177796840668,
                      0.32584625482559204,
                      0.41550391912460327,
                      0.41047388315200806,
                      0.3927786648273468,
                      0.47565823793411255,
                      0.4046558737754822,
                      0.4847753047943115,
                      0.34377312660217285,
                      0.3717955946922302,
                      0.39454829692840576,
                      0.4981940984725952,
                      0.4150722026824951,
                      0.47238481044769287,
                      0.48386216163635254,
                      0.2120257019996643,
                      0.5078526735305786,
                      0.5766193270683289,
                      0.5024370551109314,
                      0.48569899797439575,
                      0.5816101431846619,
                      0.6103302240371704,
                      0.521894097328186,
                      0.4103318452835083,
                      0.34246981143951416,
                      0.30558788776397705,
                      0.3787514567375183,
                      0.13311518728733063,
                      0.42027753591537476,
                      0.3747483491897583,
                      0.37621647119522095,
                      0.47192299365997314,
                      0.23771658539772034
                    ],
                    [
                      0.30098941922187805,
                      0.19978682696819305,
                      0.2789706289768219,
                      0.21426421403884888,
                      0.5152015089988708,
                      0.4316102862358093,
                      0.431081622838974,
                      0.4083404541015625,
                      0.4159228801727295,
                      0.24683481454849243,
                      0.39870357513427734,
                      0.39860671758651733,
                      0.41182687878608704,
                      0.40092214941978455,
                      0.36031636595726013,
                      0.38092708587646484,
                      0.41592463850975037,
                      0.6252874135971069,
                      0.5337272882461548,
                      0.6183372735977173,
                      0.5428616404533386,
                      0.19138483703136444,
                      0.2767617106437683,
                      0.3486365079879761,
                      0.2131085991859436,
                      0.3200632333755493,
                      0.18531066179275513,
                      0.315449595451355,
                      0.16213220357894897,
                      0.19714662432670593,
                      0.23133644461631775,
                      0.2982226312160492,
                      0.2415635585784912,
                      0.24381527304649353,
                      0.5847431421279907,
                      0.579840898513794,
                      0.6341019868850708,
                      0.7865182161331177,
                      0.9999998211860657,
                      0.783227801322937,
                      0.6197943091392517,
                      0.7022305727005005,
                      0.6629723310470581,
                      0.397222101688385,
                      0.29732847213745117,
                      0.44498342275619507,
                      0.30988970398902893,
                      0.36630508303642273,
                      0.40718966722488403,
                      0.457367479801178,
                      0.4561043381690979,
                      0.3847651481628418,
                      0.45370420813560486,
                      0.3798207640647888,
                      0.4665623903274536,
                      0.3837629556655884,
                      0.32024654746055603,
                      0.41517317295074463,
                      0.45219022035598755,
                      0.40159666538238525,
                      0.5254015326499939,
                      0.40246233344078064,
                      0.2179444134235382,
                      0.4487503170967102,
                      0.5279857516288757,
                      0.5258225798606873,
                      0.42482054233551025,
                      0.5478590726852417,
                      0.5576712489128113,
                      0.5289866924285889,
                      0.39847782254219055,
                      0.3878602385520935,
                      0.24681919813156128,
                      0.3305915296077728,
                      0.1443842053413391,
                      0.4120037257671356,
                      0.3457295894622803,
                      0.3598189949989319,
                      0.45359358191490173,
                      0.24223071336746216
                    ],
                    [
                      0.35720062255859375,
                      0.3377566337585449,
                      0.35226625204086304,
                      0.29133784770965576,
                      0.5408735275268555,
                      0.49188321828842163,
                      0.44265216588974,
                      0.39526909589767456,
                      0.5012859106063843,
                      0.33733296394348145,
                      0.5299404859542847,
                      0.48990875482559204,
                      0.499801903963089,
                      0.4811813235282898,
                      0.41088002920150757,
                      0.478024423122406,
                      0.4854826033115387,
                      0.7485082149505615,
                      0.5372143983840942,
                      0.6499175429344177,
                      0.5467689037322998,
                      0.3200145661830902,
                      0.3123912811279297,
                      0.4223039746284485,
                      0.255779504776001,
                      0.34970611333847046,
                      0.24599260091781616,
                      0.36201757192611694,
                      0.21669092774391174,
                      0.2055055946111679,
                      0.31394511461257935,
                      0.317535400390625,
                      0.3188633918762207,
                      0.28322309255599976,
                      0.6085060834884644,
                      0.5644590258598328,
                      0.5988643765449524,
                      0.7325003147125244,
                      0.783227801322937,
                      1.0000001192092896,
                      0.6978288888931274,
                      0.6814842224121094,
                      0.6493263244628906,
                      0.46477746963500977,
                      0.34561339020729065,
                      0.5148397088050842,
                      0.3507877588272095,
                      0.40616321563720703,
                      0.4418230950832367,
                      0.5013681054115295,
                      0.4689422845840454,
                      0.4182032346725464,
                      0.5180885791778564,
                      0.42218950390815735,
                      0.509687602519989,
                      0.406698077917099,
                      0.35035282373428345,
                      0.44615572690963745,
                      0.5132541060447693,
                      0.48465684056282043,
                      0.5668596029281616,
                      0.4089955687522888,
                      0.30857712030410767,
                      0.48758915066719055,
                      0.53019118309021,
                      0.5488113164901733,
                      0.4433971643447876,
                      0.5259916186332703,
                      0.5552347302436829,
                      0.5472466945648193,
                      0.4060417413711548,
                      0.4319998323917389,
                      0.3734509348869324,
                      0.40659958124160767,
                      0.14466941356658936,
                      0.4205543100833893,
                      0.4248909056186676,
                      0.4004068970680237,
                      0.4944121837615967,
                      0.2797393798828125
                    ],
                    [
                      0.26394402980804443,
                      0.20847803354263306,
                      0.27068769931793213,
                      0.20650431513786316,
                      0.4844985902309418,
                      0.47888579964637756,
                      0.44914552569389343,
                      0.2755364179611206,
                      0.4039011597633362,
                      0.3029131293296814,
                      0.41020816564559937,
                      0.32385849952697754,
                      0.3020403981208801,
                      0.24781468510627747,
                      0.24578529596328735,
                      0.3579687476158142,
                      0.25921642780303955,
                      0.68465256690979,
                      0.5282347202301025,
                      0.6001891493797302,
                      0.5142107605934143,
                      0.2870795726776123,
                      0.30626004934310913,
                      0.342592716217041,
                      0.1564018726348877,
                      0.2761945128440857,
                      0.16974961757659912,
                      0.19956789910793304,
                      0.11471867561340332,
                      0.19317379593849182,
                      0.14916974306106567,
                      0.41861408948898315,
                      0.4036219120025635,
                      0.2315112054347992,
                      0.7135759592056274,
                      0.5320227742195129,
                      0.535304844379425,
                      0.647959291934967,
                      0.6197943091392517,
                      0.6978288888931274,
                      1,
                      0.5831325054168701,
                      0.5621652603149414,
                      0.4795688986778259,
                      0.42490917444229126,
                      0.5096026659011841,
                      0.40310752391815186,
                      0.48231565952301025,
                      0.4741477370262146,
                      0.44861477613449097,
                      0.3989066481590271,
                      0.4845449924468994,
                      0.4821808338165283,
                      0.46784865856170654,
                      0.5278343558311462,
                      0.4367845058441162,
                      0.47994285821914673,
                      0.4418970048427582,
                      0.4324452877044678,
                      0.37744152545928955,
                      0.5128734111785889,
                      0.38025498390197754,
                      0.22064068913459778,
                      0.5314756035804749,
                      0.6007169485092163,
                      0.6676846742630005,
                      0.5141464471817017,
                      0.5997254848480225,
                      0.5924167633056641,
                      0.6784057021141052,
                      0.46574103832244873,
                      0.38105297088623047,
                      0.3212208151817322,
                      0.3761761784553528,
                      0.2728685736656189,
                      0.4467437267303467,
                      0.3585093915462494,
                      0.39205771684646606,
                      0.49148526787757874,
                      0.3982931077480316
                    ],
                    [
                      0.1609380543231964,
                      0.2551599442958832,
                      0.23998424410820007,
                      0.26139718294143677,
                      0.5293923020362854,
                      0.44131505489349365,
                      0.33452343940734863,
                      0.4032273292541504,
                      0.4391723871231079,
                      0.2682865262031555,
                      0.4709399342536926,
                      0.5022404193878174,
                      0.5755693912506104,
                      0.47260311245918274,
                      0.4451412558555603,
                      0.4991210997104645,
                      0.461520254611969,
                      0.7907723784446716,
                      0.6553418636322021,
                      0.6824406385421753,
                      0.7156236171722412,
                      0.12062682956457138,
                      0.19083598256111145,
                      0.3124721348285675,
                      0.2999022603034973,
                      0.3699475824832916,
                      0.23367172479629517,
                      0.3895692825317383,
                      0.2504972219467163,
                      0.13815902173519135,
                      0.24180807173252106,
                      0.3365621268749237,
                      0.23066315054893494,
                      0.3133684992790222,
                      0.563982367515564,
                      0.7010948657989502,
                      0.7723691463470459,
                      0.6250893473625183,
                      0.7022305727005005,
                      0.6814842224121094,
                      0.5831325054168701,
                      0.9999999403953552,
                      0.8747944831848145,
                      0.437835693359375,
                      0.425986647605896,
                      0.54456627368927,
                      0.3931257128715515,
                      0.41966456174850464,
                      0.48994141817092896,
                      0.5297863483428955,
                      0.551925778388977,
                      0.4844987988471985,
                      0.5621568560600281,
                      0.4875620901584625,
                      0.5386974811553955,
                      0.46894240379333496,
                      0.4521018862724304,
                      0.494334876537323,
                      0.5500808358192444,
                      0.5610405206680298,
                      0.6205348968505859,
                      0.2567077875137329,
                      0.2985926568508148,
                      0.5941991209983826,
                      0.5101070404052734,
                      0.5841287970542908,
                      0.5499300956726074,
                      0.5834758281707764,
                      0.5979751348495483,
                      0.5566413402557373,
                      0.4937412440776825,
                      0.44399651885032654,
                      0.35172146558761597,
                      0.49223461747169495,
                      0.13210035860538483,
                      0.45450571179389954,
                      0.43850910663604736,
                      0.432181715965271,
                      0.45632606744766235,
                      0.30991971492767334
                    ],
                    [
                      0.15392501652240753,
                      0.2735252380371094,
                      0.18951097130775452,
                      0.28298982977867126,
                      0.45892322063446045,
                      0.3820015490055084,
                      0.2327985167503357,
                      0.37454256415367126,
                      0.39311033487319946,
                      0.20751366019248962,
                      0.3881022334098816,
                      0.3508245348930359,
                      0.3880317807197571,
                      0.37449440360069275,
                      0.30815327167510986,
                      0.4101676940917969,
                      0.40411442518234253,
                      0.7335468530654907,
                      0.6537660360336304,
                      0.7367872595787048,
                      0.642516016960144,
                      0.120468869805336,
                      0.20636054873466492,
                      0.26348012685775757,
                      0.21293024718761444,
                      0.38266652822494507,
                      0.2069907784461975,
                      0.33241599798202515,
                      0.24559858441352844,
                      0.12336699664592743,
                      0.21337011456489563,
                      0.2437419891357422,
                      0.175889790058136,
                      0.21807551383972168,
                      0.7271921634674072,
                      0.8831052184104919,
                      0.8727408051490784,
                      0.674324095249176,
                      0.6629723310470581,
                      0.6493263244628906,
                      0.5621652603149414,
                      0.8747944831848145,
                      1.000000238418579,
                      0.45247554779052734,
                      0.43205752968788147,
                      0.5389306545257568,
                      0.3732525408267975,
                      0.4354651868343353,
                      0.3753969967365265,
                      0.3645094931125641,
                      0.3925233483314514,
                      0.4088771939277649,
                      0.5238317251205444,
                      0.43975549936294556,
                      0.5012997984886169,
                      0.38166242837905884,
                      0.4051770567893982,
                      0.40101465582847595,
                      0.5199047923088074,
                      0.4094911515712738,
                      0.43639183044433594,
                      0.2301984429359436,
                      0.264286071062088,
                      0.5171586275100708,
                      0.5770748257637024,
                      0.5022559762001038,
                      0.4599364697933197,
                      0.5433361530303955,
                      0.6216163635253906,
                      0.5423555970191956,
                      0.4249066412448883,
                      0.335432231426239,
                      0.31647104024887085,
                      0.45453035831451416,
                      0.11808069050312042,
                      0.4405783712863922,
                      0.40736496448516846,
                      0.43962013721466064,
                      0.47261011600494385,
                      0.270210862159729
                    ],
                    [
                      0.09402792155742645,
                      0.06296306103467941,
                      0.10095681250095367,
                      0.08107130229473114,
                      0.28802621364593506,
                      0.3287842869758606,
                      0.1702832579612732,
                      0.1016591489315033,
                      0.17450430989265442,
                      0.08269545435905457,
                      0.16813433170318604,
                      0.15571430325508118,
                      0.17154496908187866,
                      0.10374154895544052,
                      0.09538902342319489,
                      0.15303228795528412,
                      0.06479701399803162,
                      0.6235400438308716,
                      0.5212751626968384,
                      0.5962427258491516,
                      0.43873530626296997,
                      0.012361051514744759,
                      0.10535077005624771,
                      0.055294234305620193,
                      0.1042117327451706,
                      0.06607061624526978,
                      0.0435667559504509,
                      0.02856471762061119,
                      0.08929744362831116,
                      0.020102839916944504,
                      0.06298007816076279,
                      0.2312891185283661,
                      0.2162770926952362,
                      0.1959015429019928,
                      0.4387335777282715,
                      0.3384210467338562,
                      0.33925116062164307,
                      0.4361254572868347,
                      0.397222101688385,
                      0.46477746963500977,
                      0.4795688986778259,
                      0.437835693359375,
                      0.45247554779052734,
                      1.0000001192092896,
                      0.6643494367599487,
                      0.8113876581192017,
                      0.5673869848251343,
                      0.8579353094100952,
                      0.3920595645904541,
                      0.22382277250289917,
                      0.2826624810695648,
                      0.6209060549736023,
                      0.5897270441055298,
                      0.4739394783973694,
                      0.5055966973304749,
                      0.41055911779403687,
                      0.5331127643585205,
                      0.45293575525283813,
                      0.5346513390541077,
                      0.37497377395629883,
                      0.3793019652366638,
                      0.10867814719676971,
                      0.12668344378471375,
                      0.5004957318305969,
                      0.43938595056533813,
                      0.48113590478897095,
                      0.48674851655960083,
                      0.5092891454696655,
                      0.5110472440719604,
                      0.4447317123413086,
                      0.4339742660522461,
                      0.4663199782371521,
                      0.4325357675552368,
                      0.40441203117370605,
                      0.019826410338282585,
                      0.6311668157577515,
                      0.5357629656791687,
                      0.512915313243866,
                      0.41760802268981934,
                      0.309956431388855
                    ],
                    [
                      0.08812075853347778,
                      0.042806077748537064,
                      0.12341426312923431,
                      0.1229705661535263,
                      0.25531822443008423,
                      0.3222197890281677,
                      0.20017710328102112,
                      0.12026616930961609,
                      0.16874705255031586,
                      0.10520298779010773,
                      0.20023538172245026,
                      0.1526472270488739,
                      0.1990768164396286,
                      0.10734547674655914,
                      0.13121306896209717,
                      0.13169191777706146,
                      0.09410600364208221,
                      0.5498702526092529,
                      0.5602477788925171,
                      0.5759527683258057,
                      0.5024539828300476,
                      0.02294582687318325,
                      0.04116589576005936,
                      0.0753951221704483,
                      0.1481262743473053,
                      0.07722557336091995,
                      0.055563490837812424,
                      0.06060188263654709,
                      0.09961652010679245,
                      0.05158436298370361,
                      0.06618331372737885,
                      0.23204827308654785,
                      0.2171180546283722,
                      0.2437865287065506,
                      0.3751615881919861,
                      0.2946324646472931,
                      0.30483460426330566,
                      0.34496667981147766,
                      0.29732847213745117,
                      0.34561339020729065,
                      0.42490917444229126,
                      0.425986647605896,
                      0.43205752968788147,
                      0.6643494367599487,
                      0.9999998211860657,
                      0.7670162916183472,
                      0.7042980194091797,
                      0.6922960877418518,
                      0.3886004090309143,
                      0.23111343383789062,
                      0.30999085307121277,
                      0.7473007440567017,
                      0.5680245161056519,
                      0.6143321394920349,
                      0.5418335199356079,
                      0.48147493600845337,
                      0.8370592594146729,
                      0.5494658946990967,
                      0.560429573059082,
                      0.48736804723739624,
                      0.43390071392059326,
                      0.07457002997398376,
                      0.11827068030834198,
                      0.48915648460388184,
                      0.4521772265434265,
                      0.5354372262954712,
                      0.5182837247848511,
                      0.519077479839325,
                      0.481148898601532,
                      0.4985668659210205,
                      0.48596030473709106,
                      0.4485156834125519,
                      0.3632286787033081,
                      0.3940608501434326,
                      0.06067538261413574,
                      0.512188196182251,
                      0.45032578706741333,
                      0.40024518966674805,
                      0.34881627559661865,
                      0.3181091547012329
                    ],
                    [
                      0.15628568828105927,
                      0.09444516152143478,
                      0.11160358786582947,
                      0.12587088346481323,
                      0.3474459648132324,
                      0.3073638379573822,
                      0.2045261114835739,
                      0.12537288665771484,
                      0.19008244574069977,
                      0.08615004271268845,
                      0.2018042802810669,
                      0.1924355924129486,
                      0.22123318910598755,
                      0.16964583098888397,
                      0.13258710503578186,
                      0.20113085210323334,
                      0.1514442265033722,
                      0.7028763294219971,
                      0.6879007816314697,
                      0.760728120803833,
                      0.5793371200561523,
                      0.0006203427910804749,
                      0.1162843406200409,
                      0.07501780986785889,
                      0.14029045403003693,
                      0.12158682942390442,
                      0.04679681360721588,
                      0.09166139364242554,
                      0.05814805626869202,
                      0.03212704136967659,
                      0.11238494515419006,
                      0.2556290924549103,
                      0.16915155947208405,
                      0.16967333853244781,
                      0.5357207655906677,
                      0.4214377701282501,
                      0.4453948140144348,
                      0.5350370407104492,
                      0.44498342275619507,
                      0.5148397088050842,
                      0.5096026659011841,
                      0.54456627368927,
                      0.5389306545257568,
                      0.8113876581192017,
                      0.7670162916183472,
                      1,
                      0.6576499342918396,
                      0.7225558757781982,
                      0.4099366366863251,
                      0.2752397060394287,
                      0.36378175020217896,
                      0.693708062171936,
                      0.6482092142105103,
                      0.5558653473854065,
                      0.591475784778595,
                      0.47408533096313477,
                      0.6670105457305908,
                      0.5037228465080261,
                      0.7103525400161743,
                      0.48500847816467285,
                      0.43007636070251465,
                      0.13658300042152405,
                      0.14577780663967133,
                      0.6237709522247314,
                      0.5329079031944275,
                      0.5255206823348999,
                      0.6001054048538208,
                      0.6302698850631714,
                      0.5705474615097046,
                      0.508720874786377,
                      0.49139976501464844,
                      0.46960318088531494,
                      0.46350812911987305,
                      0.4764626622200012,
                      0.01997293345630169,
                      0.644562840461731,
                      0.5980322360992432,
                      0.5714631080627441,
                      0.4559507668018341,
                      0.3747413754463196
                    ],
                    [
                      0.1187906414270401,
                      0.0116843581199646,
                      0.10505180060863495,
                      0.10912483930587769,
                      0.22869250178337097,
                      0.26989519596099854,
                      0.18763408064842224,
                      0.13833926618099213,
                      0.16768285632133484,
                      0.0787314921617508,
                      0.15431544184684753,
                      0.15703776478767395,
                      0.1875511109828949,
                      0.09377963840961456,
                      0.11834745854139328,
                      0.1467815637588501,
                      0.07529964298009872,
                      0.4823839068412781,
                      0.5028716325759888,
                      0.5305104851722717,
                      0.39790087938308716,
                      0.007689638063311577,
                      -0.001859013456851244,
                      0.08866821974515915,
                      0.12591391801834106,
                      0.05458689481019974,
                      0.05385703220963478,
                      0.05174337327480316,
                      0.06419543921947479,
                      0.074254110455513,
                      0.05842794477939606,
                      0.2581496238708496,
                      0.22602269053459167,
                      0.22912582755088806,
                      0.32783618569374084,
                      0.2326340526342392,
                      0.27458468079566956,
                      0.32376787066459656,
                      0.30988970398902893,
                      0.3507877588272095,
                      0.40310752391815186,
                      0.3931257128715515,
                      0.3732525408267975,
                      0.5673869848251343,
                      0.7042980194091797,
                      0.6576499342918396,
                      1.000000238418579,
                      0.6321406364440918,
                      0.3942275941371918,
                      0.2586563229560852,
                      0.29961153864860535,
                      0.7142660617828369,
                      0.5320648550987244,
                      0.5912474989891052,
                      0.534879744052887,
                      0.5019044280052185,
                      0.6901872158050537,
                      0.5349115133285522,
                      0.5511868000030518,
                      0.5102217197418213,
                      0.44476306438446045,
                      0.12017080187797546,
                      0.15584245324134827,
                      0.45999372005462646,
                      0.4248107969760895,
                      0.5257128477096558,
                      0.42791926860809326,
                      0.4856526851654053,
                      0.4680367112159729,
                      0.4779176712036133,
                      0.46955806016921997,
                      0.4065122902393341,
                      0.39230749011039734,
                      0.41610217094421387,
                      0.0844595730304718,
                      0.4807496666908264,
                      0.43474453687667847,
                      0.4039849042892456,
                      0.3564944863319397,
                      0.28387415409088135
                    ],
                    [
                      0.1026102602481842,
                      0.0547100268304348,
                      0.1151428297162056,
                      0.11758562922477722,
                      0.2905784249305725,
                      0.32959187030792236,
                      0.19989463686943054,
                      0.1715223342180252,
                      0.24156677722930908,
                      0.12252350896596909,
                      0.23895999789237976,
                      0.19085274636745453,
                      0.21404218673706055,
                      0.13057857751846313,
                      0.16508394479751587,
                      0.15895980596542358,
                      0.11167612671852112,
                      0.5568933486938477,
                      0.5226710438728333,
                      0.5671112537384033,
                      0.4281250536441803,
                      0.07401023060083389,
                      0.06646323204040527,
                      0.13677364587783813,
                      0.17505790293216705,
                      0.10097582638263702,
                      0.08493253588676453,
                      0.1068541407585144,
                      0.11572685837745667,
                      0.12235729396343231,
                      0.10463274270296097,
                      0.24108630418777466,
                      0.2518464922904968,
                      0.2324172556400299,
                      0.4042811393737793,
                      0.3059704601764679,
                      0.31977763772010803,
                      0.3954177796840668,
                      0.36630508303642273,
                      0.40616321563720703,
                      0.48231565952301025,
                      0.41966456174850464,
                      0.4354651868343353,
                      0.8579353094100952,
                      0.6922960877418518,
                      0.7225558757781982,
                      0.6321406364440918,
                      1.0000001192092896,
                      0.4107925295829773,
                      0.24352000653743744,
                      0.3126353621482849,
                      0.7685304880142212,
                      0.5599326491355896,
                      0.5804654955863953,
                      0.5692489147186279,
                      0.45818984508514404,
                      0.6391860246658325,
                      0.5484089255332947,
                      0.5624299049377441,
                      0.44555479288101196,
                      0.45263034105300903,
                      0.10010448098182678,
                      0.10548241436481476,
                      0.5131988525390625,
                      0.4215964078903198,
                      0.5580854415893555,
                      0.4958263635635376,
                      0.5148882865905762,
                      0.4539162516593933,
                      0.5062516331672668,
                      0.47919872403144836,
                      0.47314372658729553,
                      0.4324955940246582,
                      0.41372549533843994,
                      0.056809067726135254,
                      0.5609897971153259,
                      0.47362858057022095,
                      0.44628745317459106,
                      0.3364507555961609,
                      0.2611474096775055
                    ],
                    [
                      0.16200405359268188,
                      0.11843596398830414,
                      0.2677566409111023,
                      0.21456192433834076,
                      0.4167936146259308,
                      0.4414363503456116,
                      0.34756791591644287,
                      0.32772040367126465,
                      0.2973473370075226,
                      0.31540533900260925,
                      0.4401744604110718,
                      0.4841693937778473,
                      0.5067346692085266,
                      0.35821405053138733,
                      0.33237123489379883,
                      0.3188164234161377,
                      0.2989969253540039,
                      0.5848071575164795,
                      0.4475749135017395,
                      0.47903674840927124,
                      0.5084078311920166,
                      0.10800157487392426,
                      0.07483909279108047,
                      0.2968166172504425,
                      0.4123465418815613,
                      0.2050250917673111,
                      0.28735244274139404,
                      0.24847717583179474,
                      0.23617082834243774,
                      0.2334446907043457,
                      0.2947934567928314,
                      0.795292854309082,
                      0.5892037153244019,
                      0.46859002113342285,
                      0.28319084644317627,
                      0.2517733871936798,
                      0.2841828465461731,
                      0.32584625482559204,
                      0.40718966722488403,
                      0.4418230950832367,
                      0.4741477370262146,
                      0.48994141817092896,
                      0.3753969967365265,
                      0.3920595645904541,
                      0.3886004090309143,
                      0.4099366366863251,
                      0.3942275941371918,
                      0.4107925295829773,
                      0.9999998807907104,
                      0.6788592338562012,
                      0.6284151077270508,
                      0.4822983741760254,
                      0.5817897915840149,
                      0.5454180240631104,
                      0.4990783631801605,
                      0.5365063548088074,
                      0.45911264419555664,
                      0.519498348236084,
                      0.5105397701263428,
                      0.45079708099365234,
                      0.4953060746192932,
                      0.5723715424537659,
                      0.5334569215774536,
                      0.4702540338039398,
                      0.37442752718925476,
                      0.5522804856300354,
                      0.49591565132141113,
                      0.4311394691467285,
                      0.4554792642593384,
                      0.46068987250328064,
                      0.5130808353424072,
                      0.5954687595367432,
                      0.5223714709281921,
                      0.5285452604293823,
                      0.20190289616584778,
                      0.48413896560668945,
                      0.46516668796539307,
                      0.47127941250801086,
                      0.40625226497650146,
                      0.28513747453689575
                    ],
                    [
                      0.2959161698818207,
                      0.26914721727371216,
                      0.33845609426498413,
                      0.2799836993217468,
                      0.3942156434059143,
                      0.43861454725265503,
                      0.4930424392223358,
                      0.4126311242580414,
                      0.46778059005737305,
                      0.5279534459114075,
                      0.5494022965431213,
                      0.646048903465271,
                      0.693010687828064,
                      0.543074369430542,
                      0.5353068113327026,
                      0.4578872323036194,
                      0.47932663559913635,
                      0.4964519739151001,
                      0.46154987812042236,
                      0.38899263739585876,
                      0.46629905700683594,
                      0.2641300559043884,
                      0.06955452263355255,
                      0.4521222710609436,
                      0.45735234022140503,
                      0.3245575428009033,
                      0.41312935948371887,
                      0.37899863719940186,
                      0.29463350772857666,
                      0.3209089934825897,
                      0.3045928478240967,
                      0.6602628231048584,
                      0.4471885561943054,
                      0.38870128989219666,
                      0.24758538603782654,
                      0.22358787059783936,
                      0.2837007939815521,
                      0.41550391912460327,
                      0.457367479801178,
                      0.5013681054115295,
                      0.44861477613449097,
                      0.5297863483428955,
                      0.3645094931125641,
                      0.22382277250289917,
                      0.23111343383789062,
                      0.2752397060394287,
                      0.2586563229560852,
                      0.24352000653743744,
                      0.6788592338562012,
                      0.9999997615814209,
                      0.5842118263244629,
                      0.3686445951461792,
                      0.4574861228466034,
                      0.40553784370422363,
                      0.42218896746635437,
                      0.4427680969238281,
                      0.32962507009506226,
                      0.48058414459228516,
                      0.41898494958877563,
                      0.592747688293457,
                      0.7189159393310547,
                      0.49503403902053833,
                      0.4782302975654602,
                      0.37069618701934814,
                      0.36279529333114624,
                      0.5494472980499268,
                      0.35719072818756104,
                      0.3830072283744812,
                      0.43338876962661743,
                      0.4579176902770996,
                      0.4070381224155426,
                      0.4662711024284363,
                      0.3965371549129486,
                      0.45947137475013733,
                      0.28583163022994995,
                      0.30770808458328247,
                      0.3225614130496979,
                      0.3123413324356079,
                      0.3829440176486969,
                      0.2745690941810608
                    ],
                    [
                      0.2534598112106323,
                      0.18597707152366638,
                      0.3274127244949341,
                      0.3068711459636688,
                      0.4058355391025543,
                      0.43677181005477905,
                      0.3554101884365082,
                      0.29911327362060547,
                      0.287057489156723,
                      0.2515876889228821,
                      0.43577396869659424,
                      0.6656368970870972,
                      0.6255260109901428,
                      0.46141642332077026,
                      0.4201282262802124,
                      0.37878572940826416,
                      0.44803622364997864,
                      0.5403499603271484,
                      0.444550096988678,
                      0.4563717544078827,
                      0.49052634835243225,
                      0.11285320669412613,
                      0.09500787407159805,
                      0.31959080696105957,
                      0.4036715030670166,
                      0.3299151659011841,
                      0.271739661693573,
                      0.3232765793800354,
                      0.1977030336856842,
                      0.19856378436088562,
                      0.3403855264186859,
                      0.5597116947174072,
                      0.43362191319465637,
                      0.5498286485671997,
                      0.2944370210170746,
                      0.30333417654037476,
                      0.3489361107349396,
                      0.41047388315200806,
                      0.4561043381690979,
                      0.4689422845840454,
                      0.3989066481590271,
                      0.551925778388977,
                      0.3925233483314514,
                      0.2826624810695648,
                      0.30999085307121277,
                      0.36378175020217896,
                      0.29961153864860535,
                      0.3126353621482849,
                      0.6284151077270508,
                      0.5842118263244629,
                      0.9999999403953552,
                      0.40137213468551636,
                      0.5026357173919678,
                      0.4576866328716278,
                      0.45377102494239807,
                      0.4459304213523865,
                      0.37310850620269775,
                      0.4776310622692108,
                      0.4644516408443451,
                      0.519892156124115,
                      0.5408414602279663,
                      0.3836466073989868,
                      0.3194500803947449,
                      0.44023364782333374,
                      0.3124467134475708,
                      0.49351727962493896,
                      0.39467543363571167,
                      0.41877463459968567,
                      0.4361509084701538,
                      0.39207398891448975,
                      0.44489943981170654,
                      0.5200484991073608,
                      0.4386742115020752,
                      0.4964192509651184,
                      0.2553880512714386,
                      0.33346086740493774,
                      0.4363851547241211,
                      0.3960355222225189,
                      0.3107559084892273,
                      0.2972383201122284
                    ],
                    [
                      0.10834473371505737,
                      0.050047244876623154,
                      0.10270644724369049,
                      0.11573056131601334,
                      0.3166489601135254,
                      0.32123440504074097,
                      0.33990365266799927,
                      0.1648733764886856,
                      0.24252448976039886,
                      0.1595691740512848,
                      0.3126501441001892,
                      0.25210869312286377,
                      0.32694458961486816,
                      0.1560247838497162,
                      0.2196689248085022,
                      0.177147775888443,
                      0.11560415476560593,
                      0.567147433757782,
                      0.5985767245292664,
                      0.5953845381736755,
                      0.5290092825889587,
                      0.09883709251880646,
                      0.010760491713881493,
                      0.140803724527359,
                      0.1947820782661438,
                      0.041887760162353516,
                      0.03930364549160004,
                      0.09395326673984528,
                      0.07142888009548187,
                      0.0908680409193039,
                      0.07318034768104553,
                      0.28720057010650635,
                      0.29336071014404297,
                      0.2859121561050415,
                      0.3476681113243103,
                      0.24052634835243225,
                      0.27254265546798706,
                      0.3927786648273468,
                      0.3847651481628418,
                      0.4182032346725464,
                      0.4845449924468994,
                      0.4844987988471985,
                      0.4088771939277649,
                      0.6209060549736023,
                      0.7473007440567017,
                      0.693708062171936,
                      0.7142660617828369,
                      0.7685304880142212,
                      0.4822983741760254,
                      0.3686445951461792,
                      0.40137213468551636,
                      1.0000003576278687,
                      0.6960296630859375,
                      0.7860469818115234,
                      0.7795853614807129,
                      0.7630839347839355,
                      0.854409396648407,
                      0.819719672203064,
                      0.6818125247955322,
                      0.7249761819839478,
                      0.6739155054092407,
                      0.11171681433916092,
                      0.15825478732585907,
                      0.6360578536987305,
                      0.47959664463996887,
                      0.732978105545044,
                      0.6424580812454224,
                      0.6130028963088989,
                      0.5111771821975708,
                      0.6349066495895386,
                      0.6452704071998596,
                      0.5794119238853455,
                      0.4217541813850403,
                      0.4905850291252136,
                      0.07372844964265823,
                      0.5135932564735413,
                      0.49267852306365967,
                      0.40397095680236816,
                      0.42867380380630493,
                      0.3324664831161499
                    ],
                    [
                      0.0731167271733284,
                      0.07810816913843155,
                      0.08096787333488464,
                      0.07520366460084915,
                      0.3023550510406494,
                      0.2711060345172882,
                      0.2723558247089386,
                      0.18084855377674103,
                      0.14870375394821167,
                      0.12230685353279114,
                      0.32658642530441284,
                      0.3350743055343628,
                      0.38942956924438477,
                      0.18812358379364014,
                      0.20172137022018433,
                      0.20368245244026184,
                      0.123349629342556,
                      0.6984778642654419,
                      0.6884183883666992,
                      0.7098217010498047,
                      0.6491959095001221,
                      0.04753156006336212,
                      -0.00960526429116726,
                      0.035649869590997696,
                      0.20428773760795593,
                      0.041526444256305695,
                      0.0587988905608654,
                      0.041952166706323624,
                      0.05027785524725914,
                      -0.01003860030323267,
                      0.06885693967342377,
                      0.3332056403160095,
                      0.23073768615722656,
                      0.25185447931289673,
                      0.418831467628479,
                      0.34057408571243286,
                      0.3778460919857025,
                      0.47565823793411255,
                      0.45370420813560486,
                      0.5180885791778564,
                      0.4821808338165283,
                      0.5621568560600281,
                      0.5238317251205444,
                      0.5897270441055298,
                      0.5680245161056519,
                      0.6482092142105103,
                      0.5320648550987244,
                      0.5599326491355896,
                      0.5817897915840149,
                      0.4574861228466034,
                      0.5026357173919678,
                      0.6960296630859375,
                      1.0000001192092896,
                      0.7798590064048767,
                      0.8400410413742065,
                      0.8127047419548035,
                      0.6110708713531494,
                      0.7110399603843689,
                      0.7899905443191528,
                      0.6744641065597534,
                      0.6036868095397949,
                      0.13673585653305054,
                      0.26658326387405396,
                      0.6936970949172974,
                      0.5585919618606567,
                      0.6911311149597168,
                      0.6572660803794861,
                      0.5911830067634583,
                      0.7149487733840942,
                      0.6211779713630676,
                      0.638813853263855,
                      0.6761137843132019,
                      0.6451799869537354,
                      0.7476691007614136,
                      0.04110926389694214,
                      0.6795674562454224,
                      0.8145553469657898,
                      0.7085187435150146,
                      0.5586522221565247,
                      0.41444867849349976
                    ],
                    [
                      0.11395315080881119,
                      0.07627618312835693,
                      0.10110722482204437,
                      0.11167150735855103,
                      0.32267019152641296,
                      0.2776238024234772,
                      0.29979193210601807,
                      0.1478022038936615,
                      0.17356345057487488,
                      0.11879357695579529,
                      0.2682037651538849,
                      0.24655944108963013,
                      0.317342072725296,
                      0.13557201623916626,
                      0.18466418981552124,
                      0.16826915740966797,
                      0.09572941064834595,
                      0.5569577217102051,
                      0.6250766515731812,
                      0.6406809687614441,
                      0.545335054397583,
                      0.0908467248082161,
                      0.010118313133716583,
                      0.0976809710264206,
                      0.16292613744735718,
                      0.023335028439760208,
                      0.017821701243519783,
                      0.056125689297914505,
                      0.021759357303380966,
                      0.05305944383144379,
                      0.059891171753406525,
                      0.32850950956344604,
                      0.34549131989479065,
                      0.30257391929626465,
                      0.382681280374527,
                      0.289970338344574,
                      0.32256364822387695,
                      0.4046558737754822,
                      0.3798207640647888,
                      0.42218950390815735,
                      0.46784865856170654,
                      0.4875620901584625,
                      0.43975549936294556,
                      0.4739394783973694,
                      0.6143321394920349,
                      0.5558653473854065,
                      0.5912474989891052,
                      0.5804654955863953,
                      0.5454180240631104,
                      0.40553784370422363,
                      0.4576866328716278,
                      0.7860469818115234,
                      0.7798590064048767,
                      1.000000238418579,
                      0.8147711753845215,
                      0.7999157905578613,
                      0.8147158622741699,
                      0.8068154454231262,
                      0.7665215730667114,
                      0.7639289498329163,
                      0.6615816354751587,
                      0.13966868817806244,
                      0.18308351933956146,
                      0.6211534142494202,
                      0.5526434183120728,
                      0.7749068140983582,
                      0.6265434622764587,
                      0.5938746929168701,
                      0.6212103366851807,
                      0.6438263654708862,
                      0.6504198312759399,
                      0.6059865355491638,
                      0.44490712881088257,
                      0.5553783178329468,
                      0.09495222568511963,
                      0.6450492739677429,
                      0.5653958916664124,
                      0.5612413287162781,
                      0.44221633672714233,
                      0.36754217743873596
                    ],
                    [
                      0.10112559795379639,
                      0.09611446410417557,
                      0.043925270438194275,
                      0.10573749989271164,
                      0.31688445806503296,
                      0.2581687867641449,
                      0.31563061475753784,
                      0.16930332779884338,
                      0.208828866481781,
                      0.15006324648857117,
                      0.32042911648750305,
                      0.3016761541366577,
                      0.3557707667350769,
                      0.18829341232776642,
                      0.23329567909240723,
                      0.2196715772151947,
                      0.13109919428825378,
                      0.6109429597854614,
                      0.6383541822433472,
                      0.7051928043365479,
                      0.5783604383468628,
                      0.0853872299194336,
                      0.025245020166039467,
                      0.09004618227481842,
                      0.17133024334907532,
                      0.05702996626496315,
                      0.026297610253095627,
                      0.07946273684501648,
                      0.011000909842550755,
                      0.03217286616563797,
                      0.07814627140760422,
                      0.30853474140167236,
                      0.2551802396774292,
                      0.22203361988067627,
                      0.4522002935409546,
                      0.3509984612464905,
                      0.39902323484420776,
                      0.4847753047943115,
                      0.4665623903274536,
                      0.509687602519989,
                      0.5278343558311462,
                      0.5386974811553955,
                      0.5012997984886169,
                      0.5055966973304749,
                      0.5418335199356079,
                      0.591475784778595,
                      0.534879744052887,
                      0.5692489147186279,
                      0.4990783631801605,
                      0.42218896746635437,
                      0.45377102494239807,
                      0.7795853614807129,
                      0.8400410413742065,
                      0.8147711753845215,
                      1.000000238418579,
                      0.815045952796936,
                      0.6743695139884949,
                      0.7791699171066284,
                      0.7562941312789917,
                      0.7671854496002197,
                      0.7086008787155151,
                      0.14285433292388916,
                      0.18669110536575317,
                      0.7179422974586487,
                      0.6124407649040222,
                      0.8166968822479248,
                      0.6450359225273132,
                      0.6678982377052307,
                      0.6655169725418091,
                      0.7307521104812622,
                      0.6419281363487244,
                      0.5938249826431274,
                      0.42700910568237305,
                      0.587652325630188,
                      0.055158451199531555,
                      0.5893194079399109,
                      0.5835264921188354,
                      0.5552686452865601,
                      0.5013155937194824,
                      0.3801578879356384
                    ],
                    [
                      0.053614016622304916,
                      0.02281363122165203,
                      0.05867641419172287,
                      0.04422999918460846,
                      0.24910953640937805,
                      0.2104223370552063,
                      0.26162636280059814,
                      0.11739049851894379,
                      0.13476693630218506,
                      0.12391775101423264,
                      0.24454712867736816,
                      0.26406800746917725,
                      0.3254384398460388,
                      0.107352614402771,
                      0.16589906811714172,
                      0.13951751589775085,
                      0.06431276351213455,
                      0.5093439817428589,
                      0.5550146698951721,
                      0.5751711130142212,
                      0.5188753604888916,
                      0.0700642466545105,
                      -0.0727999210357666,
                      0.05353167653083801,
                      0.13337983191013336,
                      -0.00991368293762207,
                      -0.0019178460352122784,
                      0.006752212531864643,
                      -0.02669849991798401,
                      0.013249535113573074,
                      0.010552516207098961,
                      0.28933942317962646,
                      0.2772615849971771,
                      0.29862940311431885,
                      0.29239600896835327,
                      0.20990003645420074,
                      0.2693345248699188,
                      0.34377312660217285,
                      0.3837629556655884,
                      0.406698077917099,
                      0.4367845058441162,
                      0.46894240379333496,
                      0.38166242837905884,
                      0.41055911779403687,
                      0.48147493600845337,
                      0.47408533096313477,
                      0.5019044280052185,
                      0.45818984508514404,
                      0.5365063548088074,
                      0.4427680969238281,
                      0.4459304213523865,
                      0.7630839347839355,
                      0.8127047419548035,
                      0.7999157905578613,
                      0.815045952796936,
                      1.000000238418579,
                      0.6531645059585571,
                      0.8208292722702026,
                      0.6797840595245361,
                      0.7230892181396484,
                      0.6649582982063293,
                      0.13019856810569763,
                      0.21239976584911346,
                      0.5942741632461548,
                      0.4708007276058197,
                      0.7349536418914795,
                      0.6914718151092529,
                      0.5560266971588135,
                      0.5686607360839844,
                      0.6691372394561768,
                      0.6797740459442139,
                      0.5936108827590942,
                      0.4137892723083496,
                      0.551985502243042,
                      0.0636291429400444,
                      0.5470327138900757,
                      0.5481130480766296,
                      0.4924851059913635,
                      0.5039812326431274,
                      0.3567083179950714
                    ],
                    [
                      0.135809987783432,
                      0.06862027198076248,
                      0.12444642186164856,
                      0.10637467354536057,
                      0.32320666313171387,
                      0.3121603727340698,
                      0.3017440438270569,
                      0.09336192905902863,
                      0.2127111554145813,
                      0.13325496017932892,
                      0.20888695120811462,
                      0.1814483404159546,
                      0.24332955479621887,
                      0.09590531140565872,
                      0.14590299129486084,
                      0.1410544514656067,
                      0.06889523565769196,
                      0.5197649598121643,
                      0.5810011625289917,
                      0.5791659355163574,
                      0.5016109347343445,
                      0.07964944839477539,
                      0.03625371307134628,
                      0.10334935039281845,
                      0.13699546456336975,
                      0.03593975305557251,
                      0.006792854517698288,
                      0.047038912773132324,
                      0.05057089030742645,
                      0.057572584599256516,
                      0.025718800723552704,
                      0.29727691411972046,
                      0.3174229562282562,
                      0.27206024527549744,
                      0.3807353377342224,
                      0.27241086959838867,
                      0.29544517397880554,
                      0.3717955946922302,
                      0.32024654746055603,
                      0.35035282373428345,
                      0.47994285821914673,
                      0.4521018862724304,
                      0.4051770567893982,
                      0.5331127643585205,
                      0.8370592594146729,
                      0.6670105457305908,
                      0.6901872158050537,
                      0.6391860246658325,
                      0.45911264419555664,
                      0.32962507009506226,
                      0.37310850620269775,
                      0.854409396648407,
                      0.6110708713531494,
                      0.8147158622741699,
                      0.6743695139884949,
                      0.6531645059585571,
                      1,
                      0.7092908620834351,
                      0.6323974132537842,
                      0.6726109385490417,
                      0.5933456420898438,
                      0.11684222519397736,
                      0.12365760654211044,
                      0.5737025141716003,
                      0.5203409194946289,
                      0.6904430389404297,
                      0.6208394169807434,
                      0.595479428768158,
                      0.513550341129303,
                      0.5781190395355225,
                      0.5861217975616455,
                      0.5054597854614258,
                      0.3560449779033661,
                      0.4288002848625183,
                      0.12324152141809464,
                      0.4955803155899048,
                      0.445412278175354,
                      0.3892156481742859,
                      0.3768569231033325,
                      0.3404941260814667
                    ],
                    [
                      0.13492044806480408,
                      0.13576069474220276,
                      0.12466458976268768,
                      0.12709322571754456,
                      0.31886258721351624,
                      0.2971481680870056,
                      0.3281610608100891,
                      0.16660410165786743,
                      0.22551420331001282,
                      0.14248716831207275,
                      0.326321005821228,
                      0.3366550803184509,
                      0.40473461151123047,
                      0.20763075351715088,
                      0.2639796733856201,
                      0.1982952058315277,
                      0.16028031706809998,
                      0.5178861021995544,
                      0.5483436584472656,
                      0.58957439661026,
                      0.5170409679412842,
                      0.13227495551109314,
                      -0.010286029428243637,
                      0.151870459318161,
                      0.1712847352027893,
                      0.05299766734242439,
                      0.031496450304985046,
                      0.08964406698942184,
                      0.015668584033846855,
                      0.04144884645938873,
                      0.08960579335689545,
                      0.3398725688457489,
                      0.35373347997665405,
                      0.3350050747394562,
                      0.30159157514572144,
                      0.21936547756195068,
                      0.2800270915031433,
                      0.39454829692840576,
                      0.41517317295074463,
                      0.44615572690963745,
                      0.4418970048427582,
                      0.494334876537323,
                      0.40101465582847595,
                      0.45293575525283813,
                      0.5494658946990967,
                      0.5037228465080261,
                      0.5349115133285522,
                      0.5484089255332947,
                      0.519498348236084,
                      0.48058414459228516,
                      0.4776310622692108,
                      0.819719672203064,
                      0.7110399603843689,
                      0.8068154454231262,
                      0.7791699171066284,
                      0.8208292722702026,
                      0.7092908620834351,
                      0.9999998807907104,
                      0.657396674156189,
                      0.8073118329048157,
                      0.756990909576416,
                      0.17591017484664917,
                      0.22769242525100708,
                      0.5876531600952148,
                      0.4871305227279663,
                      0.7884726524353027,
                      0.6422340869903564,
                      0.5639680624008179,
                      0.5112873315811157,
                      0.6851644515991211,
                      0.6889798641204834,
                      0.5810632705688477,
                      0.3915644586086273,
                      0.5057905912399292,
                      0.10988548398017883,
                      0.528396725654602,
                      0.49851006269454956,
                      0.42475175857543945,
                      0.41177552938461304,
                      0.29232257604599
                    ],
                    [
                      0.1372860074043274,
                      0.15039363503456116,
                      0.09378784149885178,
                      0.14177770912647247,
                      0.3141125440597534,
                      0.26221534609794617,
                      0.27438127994537354,
                      0.22101953625679016,
                      0.18781016767024994,
                      0.14562202990055084,
                      0.3412930369377136,
                      0.3136058449745178,
                      0.35603076219558716,
                      0.2471514642238617,
                      0.23703786730766296,
                      0.2219906896352768,
                      0.1866869330406189,
                      0.6322469711303711,
                      0.7071649432182312,
                      0.7556295990943909,
                      0.5859735012054443,
                      0.0798766016960144,
                      0.05890277773141861,
                      0.1278141438961029,
                      0.20984460413455963,
                      0.09401055425405502,
                      0.05780860781669617,
                      0.13590207695960999,
                      0.03766752779483795,
                      0.08015631139278412,
                      0.14165890216827393,
                      0.32668501138687134,
                      0.2541934549808502,
                      0.21338775753974915,
                      0.44498616456985474,
                      0.3824799656867981,
                      0.406105637550354,
                      0.4981940984725952,
                      0.45219022035598755,
                      0.5132541060447693,
                      0.4324452877044678,
                      0.5500808358192444,
                      0.5199047923088074,
                      0.5346513390541077,
                      0.560429573059082,
                      0.7103525400161743,
                      0.5511868000030518,
                      0.5624299049377441,
                      0.5105397701263428,
                      0.41898494958877563,
                      0.4644516408443451,
                      0.6818125247955322,
                      0.7899905443191528,
                      0.7665215730667114,
                      0.7562941312789917,
                      0.6797840595245361,
                      0.6323974132537842,
                      0.657396674156189,
                      0.9999998807907104,
                      0.699796199798584,
                      0.5852353572845459,
                      0.17490026354789734,
                      0.2207658290863037,
                      0.6828920841217041,
                      0.535087525844574,
                      0.6586786508560181,
                      0.6095811724662781,
                      0.6064907908439636,
                      0.5736874938011169,
                      0.5880124568939209,
                      0.572545051574707,
                      0.550073504447937,
                      0.5332653522491455,
                      0.6275337338447571,
                      0.0609409362077713,
                      0.708256721496582,
                      0.6734784841537476,
                      0.6268274188041687,
                      0.47290822863578796,
                      0.3393900394439697
                    ],
                    [
                      0.20886634290218353,
                      0.1363852620124817,
                      0.14419008791446686,
                      0.16516093909740448,
                      0.35636991262435913,
                      0.2641367018222809,
                      0.3498504161834717,
                      0.19531169533729553,
                      0.2928236126899719,
                      0.23879720270633698,
                      0.38126689195632935,
                      0.4519326686859131,
                      0.5445758104324341,
                      0.35697898268699646,
                      0.37358999252319336,
                      0.3141244351863861,
                      0.27155637741088867,
                      0.5313370823860168,
                      0.5856664776802063,
                      0.578899621963501,
                      0.5467733144760132,
                      0.11431575566530228,
                      -0.01775459758937359,
                      0.1719188690185547,
                      0.2170751988887787,
                      0.09244010597467422,
                      0.07746897637844086,
                      0.16759446263313293,
                      0.028654223307967186,
                      0.04255477339029312,
                      0.12392446398735046,
                      0.29378819465637207,
                      0.26489925384521484,
                      0.2951812744140625,
                      0.26988327503204346,
                      0.23072408139705658,
                      0.2964371144771576,
                      0.4150722026824951,
                      0.40159666538238525,
                      0.48465684056282043,
                      0.37744152545928955,
                      0.5610405206680298,
                      0.4094911515712738,
                      0.37497377395629883,
                      0.48736804723739624,
                      0.48500847816467285,
                      0.5102217197418213,
                      0.44555479288101196,
                      0.45079708099365234,
                      0.592747688293457,
                      0.519892156124115,
                      0.7249761819839478,
                      0.6744641065597534,
                      0.7639289498329163,
                      0.7671854496002197,
                      0.7230892181396484,
                      0.6726109385490417,
                      0.8073118329048157,
                      0.699796199798584,
                      1,
                      0.8748927712440491,
                      0.1786520779132843,
                      0.2308582067489624,
                      0.5902013182640076,
                      0.4807140529155731,
                      0.7572295665740967,
                      0.5439674854278564,
                      0.5135413408279419,
                      0.49712467193603516,
                      0.5904242992401123,
                      0.5591830015182495,
                      0.5225235819816589,
                      0.3916029930114746,
                      0.4982070326805115,
                      0.10098615288734436,
                      0.49003297090530396,
                      0.4761897921562195,
                      0.4315706193447113,
                      0.41177132725715637,
                      0.2594371736049652
                    ],
                    [
                      0.2011919915676117,
                      0.1491282433271408,
                      0.19737529754638672,
                      0.17513792216777802,
                      0.45388713479042053,
                      0.37875938415527344,
                      0.49019962549209595,
                      0.31328630447387695,
                      0.3939517140388489,
                      0.35208451747894287,
                      0.4772130846977234,
                      0.5507715940475464,
                      0.6159420609474182,
                      0.45261406898498535,
                      0.4751894772052765,
                      0.3461613655090332,
                      0.386752724647522,
                      0.541813850402832,
                      0.5793927311897278,
                      0.5352919697761536,
                      0.5538630485534668,
                      0.17870068550109863,
                      0.029573792591691017,
                      0.3527485132217407,
                      0.27436816692352295,
                      0.18481943011283875,
                      0.16384075582027435,
                      0.29148662090301514,
                      0.1129554808139801,
                      0.16872988641262054,
                      0.1435166448354721,
                      0.37628740072250366,
                      0.35194915533065796,
                      0.34085285663604736,
                      0.28435781598091125,
                      0.24785661697387695,
                      0.33200615644454956,
                      0.47238481044769287,
                      0.5254015326499939,
                      0.5668596029281616,
                      0.5128734111785889,
                      0.6205348968505859,
                      0.43639183044433594,
                      0.3793019652366638,
                      0.43390071392059326,
                      0.43007636070251465,
                      0.44476306438446045,
                      0.45263034105300903,
                      0.4953060746192932,
                      0.7189159393310547,
                      0.5408414602279663,
                      0.6739155054092407,
                      0.6036868095397949,
                      0.6615816354751587,
                      0.7086008787155151,
                      0.6649582982063293,
                      0.5933456420898438,
                      0.756990909576416,
                      0.5852353572845459,
                      0.8748927712440491,
                      1,
                      0.2636871933937073,
                      0.24497944116592407,
                      0.5512343645095825,
                      0.47829341888427734,
                      0.8409515619277954,
                      0.533439576625824,
                      0.5684627890586853,
                      0.5221680402755737,
                      0.7150743007659912,
                      0.5782146453857422,
                      0.5243234038352966,
                      0.3324601948261261,
                      0.47738009691238403,
                      0.24140024185180664,
                      0.43302881717681885,
                      0.40548259019851685,
                      0.36910712718963623,
                      0.3980804681777954,
                      0.2603501081466675
                    ],
                    [
                      0.5607435703277588,
                      0.24470004439353943,
                      0.36686670780181885,
                      0.41937196254730225,
                      0.32144030928611755,
                      0.36226630210876465,
                      0.34535670280456543,
                      0.3372768759727478,
                      0.3612491488456726,
                      0.35132089257240295,
                      0.4118195176124573,
                      0.3986453711986542,
                      0.3589596152305603,
                      0.4503481388092041,
                      0.32155993580818176,
                      0.37891241908073425,
                      0.4271469712257385,
                      0.3050314784049988,
                      0.26487159729003906,
                      0.24009829759597778,
                      0.2415691614151001,
                      0.2519535422325134,
                      0.2969595789909363,
                      0.40645861625671387,
                      0.2825799286365509,
                      0.3428647220134735,
                      0.2919151782989502,
                      0.33482497930526733,
                      0.222361221909523,
                      0.22815194725990295,
                      0.33903375267982483,
                      0.6690971255302429,
                      0.5094022750854492,
                      0.21252360939979553,
                      0.3057287633419037,
                      0.25663915276527405,
                      0.2730693817138672,
                      0.48386216163635254,
                      0.40246233344078064,
                      0.4089955687522888,
                      0.38025498390197754,
                      0.2567077875137329,
                      0.2301984429359436,
                      0.10867814719676971,
                      0.07457002997398376,
                      0.13658300042152405,
                      0.12017080187797546,
                      0.10010448098182678,
                      0.5723715424537659,
                      0.49503403902053833,
                      0.3836466073989868,
                      0.11171681433916092,
                      0.13673585653305054,
                      0.13966868817806244,
                      0.14285433292388916,
                      0.13019856810569763,
                      0.11684222519397736,
                      0.17591017484664917,
                      0.17490026354789734,
                      0.1786520779132843,
                      0.2636871933937073,
                      0.9999996423721313,
                      0.528286337852478,
                      0.17989084124565125,
                      0.22396636009216309,
                      0.24881787598133087,
                      0.18044167757034302,
                      0.22435954213142395,
                      0.2537902891635895,
                      0.21526001393795013,
                      0.17880545556545258,
                      0.16014143824577332,
                      0.21792727708816528,
                      0.1756790280342102,
                      0.23289147019386292,
                      0.1078941822052002,
                      0.11753743886947632,
                      0.11085852980613708,
                      0.20705273747444153,
                      0.08743420243263245
                    ],
                    [
                      0.2051897794008255,
                      0.11491629481315613,
                      0.3164554238319397,
                      0.19874665141105652,
                      0.14906135201454163,
                      0.2633225619792938,
                      0.13230761885643005,
                      0.2206718921661377,
                      0.1768583059310913,
                      0.20184537768363953,
                      0.2969262897968292,
                      0.3101390600204468,
                      0.32027339935302734,
                      0.3992916941642761,
                      0.22478541731834412,
                      0.4163341522216797,
                      0.28272300958633423,
                      0.3799574375152588,
                      0.23957933485507965,
                      0.22482578456401825,
                      0.2745468020439148,
                      0.07825429737567902,
                      0.1015763133764267,
                      0.2512684166431427,
                      0.26364120841026306,
                      0.17150284349918365,
                      0.2011529505252838,
                      0.2554631233215332,
                      0.22348356246948242,
                      0.11491478979587555,
                      0.2782268524169922,
                      0.5304919481277466,
                      0.34538573026657104,
                      0.1436968743801117,
                      0.17285241186618805,
                      0.19492118060588837,
                      0.18914812803268433,
                      0.2120257019996643,
                      0.2179444134235382,
                      0.30857712030410767,
                      0.22064068913459778,
                      0.2985926568508148,
                      0.264286071062088,
                      0.12668344378471375,
                      0.11827068030834198,
                      0.14577780663967133,
                      0.15584245324134827,
                      0.10548241436481476,
                      0.5334569215774536,
                      0.4782302975654602,
                      0.3194500803947449,
                      0.15825478732585907,
                      0.26658326387405396,
                      0.18308351933956146,
                      0.18669110536575317,
                      0.21239976584911346,
                      0.12365760654211044,
                      0.22769242525100708,
                      0.2207658290863037,
                      0.2308582067489624,
                      0.24497944116592407,
                      0.528286337852478,
                      1,
                      0.1765023022890091,
                      0.18064427375793457,
                      0.2378658503293991,
                      0.12274312973022461,
                      0.1588224172592163,
                      0.2304670214653015,
                      0.19997729361057281,
                      0.1676783561706543,
                      0.24683403968811035,
                      0.4091123044490814,
                      0.356469064950943,
                      0.07924645394086838,
                      0.08925921469926834,
                      0.227669820189476,
                      0.23132288455963135,
                      0.26197001338005066,
                      0.20866647362709045
                    ],
                    [
                      0.16331598162651062,
                      0.13351425528526306,
                      0.141396164894104,
                      0.11289911717176437,
                      0.350109338760376,
                      0.2545080780982971,
                      0.2958514988422394,
                      0.161451056599617,
                      0.2118358016014099,
                      0.18253570795059204,
                      0.32008013129234314,
                      0.29597902297973633,
                      0.32644084095954895,
                      0.21124820411205292,
                      0.22565951943397522,
                      0.24388857185840607,
                      0.16597265005111694,
                      0.6527795195579529,
                      0.7185759544372559,
                      0.7065209150314331,
                      0.6421020030975342,
                      0.11616280674934387,
                      0.16336460411548615,
                      0.10998545587062836,
                      0.20204871892929077,
                      0.10629968345165253,
                      0.07339818775653839,
                      0.129603311419487,
                      0.0621250681579113,
                      0.05362365394830704,
                      0.09608225524425507,
                      0.30122143030166626,
                      0.19341060519218445,
                      0.19485019147396088,
                      0.49039173126220703,
                      0.40528038144111633,
                      0.435110867023468,
                      0.5078526735305786,
                      0.4487503170967102,
                      0.48758915066719055,
                      0.5314756035804749,
                      0.5941991209983826,
                      0.5171586275100708,
                      0.5004957318305969,
                      0.48915648460388184,
                      0.6237709522247314,
                      0.45999372005462646,
                      0.5131988525390625,
                      0.4702540338039398,
                      0.37069618701934814,
                      0.44023364782333374,
                      0.6360578536987305,
                      0.6936970949172974,
                      0.6211534142494202,
                      0.7179422974586487,
                      0.5942741632461548,
                      0.5737025141716003,
                      0.5876531600952148,
                      0.6828920841217041,
                      0.5902013182640076,
                      0.5512343645095825,
                      0.17989084124565125,
                      0.1765023022890091,
                      1.000000238418579,
                      0.5309398174285889,
                      0.6215837597846985,
                      0.7325044870376587,
                      0.660744845867157,
                      0.5482344031333923,
                      0.5697035193443298,
                      0.569489598274231,
                      0.4740154445171356,
                      0.3981606066226959,
                      0.48015427589416504,
                      0.030124083161354065,
                      0.5528903603553772,
                      0.5940094590187073,
                      0.5259615182876587,
                      0.41186225414276123,
                      0.38571101427078247
                    ],
                    [
                      0.21872779726982117,
                      0.16331742703914642,
                      0.1411544382572174,
                      0.16942808032035828,
                      0.3688373565673828,
                      0.26221778988838196,
                      0.19352740049362183,
                      0.16542182862758636,
                      0.2624560594558716,
                      0.13638263940811157,
                      0.23531922698020935,
                      0.15673309564590454,
                      0.18611285090446472,
                      0.1315915286540985,
                      0.12157735228538513,
                      0.15527823567390442,
                      0.12847073376178741,
                      0.6095998287200928,
                      0.6229641437530518,
                      0.7379686832427979,
                      0.5874375104904175,
                      0.096638023853302,
                      0.13882142305374146,
                      0.05767865478992462,
                      0.06794483959674835,
                      0.15254798531532288,
                      0.038642555475234985,
                      0.04638791084289551,
                      0.0440049022436142,
                      0.026325585320591927,
                      0.06408725678920746,
                      0.26336854696273804,
                      0.18409612774848938,
                      0.12331964820623398,
                      0.6919238567352295,
                      0.5349838137626648,
                      0.5636792778968811,
                      0.5766193270683289,
                      0.5279857516288757,
                      0.53019118309021,
                      0.6007169485092163,
                      0.5101070404052734,
                      0.5770748257637024,
                      0.43938595056533813,
                      0.4521772265434265,
                      0.5329079031944275,
                      0.4248107969760895,
                      0.4215964078903198,
                      0.37442752718925476,
                      0.36279529333114624,
                      0.3124467134475708,
                      0.47959664463996887,
                      0.5585919618606567,
                      0.5526434183120728,
                      0.6124407649040222,
                      0.4708007276058197,
                      0.5203409194946289,
                      0.4871305227279663,
                      0.535087525844574,
                      0.4807140529155731,
                      0.47829341888427734,
                      0.22396636009216309,
                      0.18064427375793457,
                      0.5309398174285889,
                      0.9999999403953552,
                      0.6368502378463745,
                      0.5384295582771301,
                      0.680435299873352,
                      0.7306230068206787,
                      0.6361671090126038,
                      0.4519743323326111,
                      0.3445857763290405,
                      0.2530260682106018,
                      0.37100914120674133,
                      0.12610307335853577,
                      0.4618954062461853,
                      0.3999737501144409,
                      0.4338604211807251,
                      0.4129375219345093,
                      0.42540794610977173
                    ],
                    [
                      0.13584351539611816,
                      0.08281764388084412,
                      0.1405935436487198,
                      0.13400393724441528,
                      0.4168873727321625,
                      0.34750276803970337,
                      0.39884158968925476,
                      0.2380828857421875,
                      0.30298954248428345,
                      0.21612825989723206,
                      0.3725987672805786,
                      0.374785840511322,
                      0.41503986716270447,
                      0.26977550983428955,
                      0.2756342589855194,
                      0.23676998913288116,
                      0.22668319940567017,
                      0.615861177444458,
                      0.6362327933311462,
                      0.6681203842163086,
                      0.5935409665107727,
                      0.13061681389808655,
                      0.04158712178468704,
                      0.25682154297828674,
                      0.16770800948143005,
                      0.12200566381216049,
                      0.0704980418086052,
                      0.16818572580814362,
                      0.03228681534528732,
                      0.11657862365245819,
                      0.08526894450187683,
                      0.42920538783073425,
                      0.4175949692726135,
                      0.26746824383735657,
                      0.455161452293396,
                      0.3452640771865845,
                      0.39381691813468933,
                      0.5024370551109314,
                      0.5258225798606873,
                      0.5488113164901733,
                      0.6676846742630005,
                      0.5841287970542908,
                      0.5022559762001038,
                      0.48113590478897095,
                      0.5354372262954712,
                      0.5255206823348999,
                      0.5257128477096558,
                      0.5580854415893555,
                      0.5522804856300354,
                      0.5494472980499268,
                      0.49351727962493896,
                      0.732978105545044,
                      0.6911311149597168,
                      0.7749068140983582,
                      0.8166968822479248,
                      0.7349536418914795,
                      0.6904430389404297,
                      0.7884726524353027,
                      0.6586786508560181,
                      0.7572295665740967,
                      0.8409515619277954,
                      0.24881787598133087,
                      0.2378658503293991,
                      0.6215837597846985,
                      0.6368502378463745,
                      1,
                      0.6150823831558228,
                      0.6941390037536621,
                      0.6452648639678955,
                      0.8689087629318237,
                      0.6580764055252075,
                      0.513535737991333,
                      0.36911702156066895,
                      0.5157517790794373,
                      0.27964842319488525,
                      0.5644866228103638,
                      0.48497211933135986,
                      0.4606720805168152,
                      0.4537275433540344,
                      0.35946208238601685
                    ],
                    [
                      0.14464744925498962,
                      0.06454300135374069,
                      0.08888427913188934,
                      0.09366250038146973,
                      0.3295947015285492,
                      0.25020384788513184,
                      0.28846579790115356,
                      0.10155539214611053,
                      0.19977235794067383,
                      0.1480434387922287,
                      0.2757903039455414,
                      0.251974880695343,
                      0.2502557635307312,
                      0.1414751410484314,
                      0.15943533182144165,
                      0.14368395507335663,
                      0.12365560233592987,
                      0.6144004464149475,
                      0.662771463394165,
                      0.7033251523971558,
                      0.6039532423019409,
                      0.09941811859607697,
                      0.05402591824531555,
                      0.08170344680547714,
                      0.1153954342007637,
                      0.07593367993831635,
                      0.038488566875457764,
                      0.06293568015098572,
                      0.011688273400068283,
                      0.007798206061124802,
                      0.033722490072250366,
                      0.29188820719718933,
                      0.2086176574230194,
                      0.19510941207408905,
                      0.4760259985923767,
                      0.3529914915561676,
                      0.4132540822029114,
                      0.48569899797439575,
                      0.42482054233551025,
                      0.4433971643447876,
                      0.5141464471817017,
                      0.5499300956726074,
                      0.4599364697933197,
                      0.48674851655960083,
                      0.5182837247848511,
                      0.6001054048538208,
                      0.42791926860809326,
                      0.4958263635635376,
                      0.49591565132141113,
                      0.35719072818756104,
                      0.39467543363571167,
                      0.6424580812454224,
                      0.6572660803794861,
                      0.6265434622764587,
                      0.6450359225273132,
                      0.6914718151092529,
                      0.6208394169807434,
                      0.6422340869903564,
                      0.6095811724662781,
                      0.5439674854278564,
                      0.533439576625824,
                      0.18044167757034302,
                      0.12274312973022461,
                      0.7325044870376587,
                      0.5384295582771301,
                      0.6150823831558228,
                      1.0000001192092896,
                      0.7269746661186218,
                      0.5362067222595215,
                      0.6264532804489136,
                      0.7382451295852661,
                      0.4713490605354309,
                      0.345924437046051,
                      0.40504640340805054,
                      0.0710829496383667,
                      0.6049242615699768,
                      0.5406634211540222,
                      0.4863671064376831,
                      0.4106951355934143,
                      0.3879097104072571
                    ],
                    [
                      0.1440858095884323,
                      0.08478792011737823,
                      0.11560751497745514,
                      0.10895919799804688,
                      0.33823180198669434,
                      0.2831217646598816,
                      0.3631904721260071,
                      0.12269540131092072,
                      0.27327144145965576,
                      0.1807684749364853,
                      0.2982879877090454,
                      0.21511057019233704,
                      0.22997096180915833,
                      0.17427977919578552,
                      0.19794529676437378,
                      0.17937156558036804,
                      0.14744965732097626,
                      0.6474756002426147,
                      0.7445123195648193,
                      0.7739852666854858,
                      0.6357850432395935,
                      0.08494007587432861,
                      0.0741843581199646,
                      0.13452936708927155,
                      0.08702737092971802,
                      0.11079905927181244,
                      0.03130640462040901,
                      0.09866774827241898,
                      0.0564393624663353,
                      0.05972631648182869,
                      0.031339071691036224,
                      0.2847364544868469,
                      0.243078351020813,
                      0.1612555980682373,
                      0.5703656673431396,
                      0.42818397283554077,
                      0.46687015891075134,
                      0.5816101431846619,
                      0.5478590726852417,
                      0.5259916186332703,
                      0.5997254848480225,
                      0.5834758281707764,
                      0.5433361530303955,
                      0.5092891454696655,
                      0.519077479839325,
                      0.6302698850631714,
                      0.4856526851654053,
                      0.5148882865905762,
                      0.4311394691467285,
                      0.3830072283744812,
                      0.41877463459968567,
                      0.6130028963088989,
                      0.5911830067634583,
                      0.5938746929168701,
                      0.6678982377052307,
                      0.5560266971588135,
                      0.595479428768158,
                      0.5639680624008179,
                      0.6064907908439636,
                      0.5135413408279419,
                      0.5684627890586853,
                      0.22435954213142395,
                      0.1588224172592163,
                      0.660744845867157,
                      0.680435299873352,
                      0.6941390037536621,
                      0.7269746661186218,
                      1.0000001192092896,
                      0.6675138473510742,
                      0.6834554672241211,
                      0.634737491607666,
                      0.40873005986213684,
                      0.2716926336288452,
                      0.39079785346984863,
                      0.1716354936361313,
                      0.5498167276382446,
                      0.4682881832122803,
                      0.45001810789108276,
                      0.41067466139793396,
                      0.43447256088256836
                    ],
                    [
                      0.15716218948364258,
                      0.1073344424366951,
                      0.12216179072856903,
                      0.1667085587978363,
                      0.4344103932380676,
                      0.32038986682891846,
                      0.2680860459804535,
                      0.18694478273391724,
                      0.18387433886528015,
                      0.14959776401519775,
                      0.2549316883087158,
                      0.2553105056285858,
                      0.2893899083137512,
                      0.15379992127418518,
                      0.18493980169296265,
                      0.21819564700126648,
                      0.13457031548023224,
                      0.6628673672676086,
                      0.6894934177398682,
                      0.7104781866073608,
                      0.6020746231079102,
                      0.05914170295000076,
                      0.10276518762111664,
                      0.04960449039936066,
                      0.1018962562084198,
                      0.10558910667896271,
                      0.059961605817079544,
                      0.024348275735974312,
                      0.07598760724067688,
                      -0.006800249218940735,
                      0.01601484790444374,
                      0.3295294940471649,
                      0.2767329216003418,
                      0.18301628530025482,
                      0.5911872982978821,
                      0.531535267829895,
                      0.5391710996627808,
                      0.6103302240371704,
                      0.5576712489128113,
                      0.5552347302436829,
                      0.5924167633056641,
                      0.5979751348495483,
                      0.6216163635253906,
                      0.5110472440719604,
                      0.481148898601532,
                      0.5705474615097046,
                      0.4680367112159729,
                      0.4539162516593933,
                      0.4554792642593384,
                      0.43338876962661743,
                      0.4361509084701538,
                      0.5111771821975708,
                      0.7149487733840942,
                      0.6212103366851807,
                      0.6655169725418091,
                      0.5686607360839844,
                      0.513550341129303,
                      0.5112873315811157,
                      0.5736874938011169,
                      0.49712467193603516,
                      0.5221680402755737,
                      0.2537902891635895,
                      0.2304670214653015,
                      0.5482344031333923,
                      0.7306230068206787,
                      0.6452648639678955,
                      0.5362067222595215,
                      0.6675138473510742,
                      0.9999998807907104,
                      0.6017836332321167,
                      0.5298708081245422,
                      0.4946328103542328,
                      0.3654104769229889,
                      0.6217584609985352,
                      0.10364636033773422,
                      0.5368464589118958,
                      0.5276479721069336,
                      0.544593334197998,
                      0.5049595832824707,
                      0.4560941755771637
                    ],
                    [
                      0.10182955116033554,
                      0.06658009439706802,
                      0.11548122763633728,
                      0.09582103788852692,
                      0.36002087593078613,
                      0.32438960671424866,
                      0.30719804763793945,
                      0.1745981127023697,
                      0.2601255774497986,
                      0.17675498127937317,
                      0.329135000705719,
                      0.313485324382782,
                      0.3324541449546814,
                      0.2401828169822693,
                      0.22432829439640045,
                      0.21937397122383118,
                      0.22198708355426788,
                      0.591219425201416,
                      0.5723075866699219,
                      0.7010387182235718,
                      0.5172804594039917,
                      0.14296193420886993,
                      0.03282245621085167,
                      0.2344820499420166,
                      0.152306467294693,
                      0.1515655219554901,
                      0.07000960409641266,
                      0.16207416355609894,
                      0.017789360135793686,
                      0.13383236527442932,
                      0.10223990678787231,
                      0.33919835090637207,
                      0.3238525986671448,
                      0.20905093848705292,
                      0.5366557240486145,
                      0.38690638542175293,
                      0.4502093195915222,
                      0.521894097328186,
                      0.5289866924285889,
                      0.5472466945648193,
                      0.6784057021141052,
                      0.5566413402557373,
                      0.5423555970191956,
                      0.4447317123413086,
                      0.4985668659210205,
                      0.508720874786377,
                      0.4779176712036133,
                      0.5062516331672668,
                      0.46068987250328064,
                      0.4579176902770996,
                      0.39207398891448975,
                      0.6349066495895386,
                      0.6211779713630676,
                      0.6438263654708862,
                      0.7307521104812622,
                      0.6691372394561768,
                      0.5781190395355225,
                      0.6851644515991211,
                      0.5880124568939209,
                      0.5904242992401123,
                      0.7150743007659912,
                      0.21526001393795013,
                      0.19997729361057281,
                      0.5697035193443298,
                      0.6361671090126038,
                      0.8689087629318237,
                      0.6264532804489136,
                      0.6834554672241211,
                      0.6017836332321167,
                      1,
                      0.6301806569099426,
                      0.4609495997428894,
                      0.31441712379455566,
                      0.45513880252838135,
                      0.2574344873428345,
                      0.5625619292259216,
                      0.46755462884902954,
                      0.460726797580719,
                      0.4613690972328186,
                      0.4089195728302002
                    ],
                    [
                      0.06933485716581345,
                      0.06986656785011292,
                      0.09408662468194962,
                      0.08077149093151093,
                      0.3037688136100769,
                      0.33097803592681885,
                      0.34974536299705505,
                      0.1797194629907608,
                      0.21637125313282013,
                      0.17681138217449188,
                      0.3360159397125244,
                      0.35772067308425903,
                      0.3806309103965759,
                      0.24294117093086243,
                      0.2723294198513031,
                      0.19311971962451935,
                      0.18535220623016357,
                      0.5253537893295288,
                      0.576819658279419,
                      0.6004571914672852,
                      0.517254114151001,
                      0.10197679698467255,
                      -0.010697929188609123,
                      0.17176291346549988,
                      0.22578229010105133,
                      0.09732101857662201,
                      0.08845919370651245,
                      0.12727594375610352,
                      0.05855449661612511,
                      0.09772327542304993,
                      0.09454351663589478,
                      0.3537721037864685,
                      0.27397769689559937,
                      0.26861003041267395,
                      0.3478817343711853,
                      0.26600560545921326,
                      0.3507090210914612,
                      0.4103318452835083,
                      0.39847782254219055,
                      0.4060417413711548,
                      0.46574103832244873,
                      0.4937412440776825,
                      0.4249066412448883,
                      0.4339742660522461,
                      0.48596030473709106,
                      0.49139976501464844,
                      0.46955806016921997,
                      0.47919872403144836,
                      0.5130808353424072,
                      0.4070381224155426,
                      0.44489943981170654,
                      0.6452704071998596,
                      0.638813853263855,
                      0.6504198312759399,
                      0.6419281363487244,
                      0.6797740459442139,
                      0.5861217975616455,
                      0.6889798641204834,
                      0.572545051574707,
                      0.5591830015182495,
                      0.5782146453857422,
                      0.17880545556545258,
                      0.1676783561706543,
                      0.569489598274231,
                      0.4519743323326111,
                      0.6580764055252075,
                      0.7382451295852661,
                      0.634737491607666,
                      0.5298708081245422,
                      0.6301806569099426,
                      1,
                      0.5288023948669434,
                      0.3725108206272125,
                      0.4987752437591553,
                      0.14608651399612427,
                      0.564461886882782,
                      0.5066656470298767,
                      0.4439697861671448,
                      0.3800068497657776,
                      0.3444375991821289
                    ],
                    [
                      0.14824196696281433,
                      0.07728509604930878,
                      0.16840288043022156,
                      0.09085939824581146,
                      0.3144528269767761,
                      0.6877054572105408,
                      0.32600870728492737,
                      0.1611868441104889,
                      0.2004564106464386,
                      0.2180185317993164,
                      0.30258652567863464,
                      0.3689449429512024,
                      0.423460453748703,
                      0.2239607274532318,
                      0.24321779608726501,
                      0.17637303471565247,
                      0.15895062685012817,
                      0.4830641448497772,
                      0.40280240774154663,
                      0.4560190439224243,
                      0.4554927945137024,
                      0.10820832848548889,
                      0.01708110049366951,
                      0.17176535725593567,
                      0.3254915177822113,
                      0.09268100559711456,
                      0.1503755897283554,
                      0.11575867980718613,
                      0.11638176441192627,
                      0.17498302459716797,
                      0.15013748407363892,
                      0.4282054901123047,
                      0.4379606246948242,
                      0.40168553590774536,
                      0.2209782600402832,
                      0.20233547687530518,
                      0.21294549107551575,
                      0.34246981143951416,
                      0.3878602385520935,
                      0.4319998323917389,
                      0.38105297088623047,
                      0.44399651885032654,
                      0.335432231426239,
                      0.4663199782371521,
                      0.4485156834125519,
                      0.46960318088531494,
                      0.4065122902393341,
                      0.47314372658729553,
                      0.5954687595367432,
                      0.4662711024284363,
                      0.5200484991073608,
                      0.5794119238853455,
                      0.6761137843132019,
                      0.6059865355491638,
                      0.5938249826431274,
                      0.5936108827590942,
                      0.5054597854614258,
                      0.5810632705688477,
                      0.550073504447937,
                      0.5225235819816589,
                      0.5243234038352966,
                      0.16014143824577332,
                      0.24683403968811035,
                      0.4740154445171356,
                      0.3445857763290405,
                      0.513535737991333,
                      0.4713490605354309,
                      0.40873005986213684,
                      0.4946328103542328,
                      0.4609495997428894,
                      0.5288023948669434,
                      1,
                      0.5412501096725464,
                      0.5936102867126465,
                      0.09641354531049728,
                      0.4999074935913086,
                      0.5371850728988647,
                      0.4684140980243683,
                      0.429023802280426,
                      0.31926900148391724
                    ],
                    [
                      0.13354840874671936,
                      0.12268693000078201,
                      0.12078513205051422,
                      0.09631142020225525,
                      0.20620185136795044,
                      0.261388897895813,
                      0.2317529320716858,
                      0.1664789617061615,
                      0.14732636511325836,
                      0.16405174136161804,
                      0.3025655150413513,
                      0.37553685903549194,
                      0.40938127040863037,
                      0.2516072392463684,
                      0.23770487308502197,
                      0.2520601749420166,
                      0.18733751773834229,
                      0.4876328110694885,
                      0.4103042483329773,
                      0.4119162857532501,
                      0.3748398721218109,
                      0.06470803916454315,
                      0.029670655727386475,
                      0.12170228362083435,
                      0.35418465733528137,
                      0.08639495074748993,
                      0.16105061769485474,
                      0.13356351852416992,
                      0.1503552794456482,
                      0.12926998734474182,
                      0.1714450865983963,
                      0.3889981508255005,
                      0.25795978307724,
                      0.17235419154167175,
                      0.23600617051124573,
                      0.18638229370117188,
                      0.20421087741851807,
                      0.30558788776397705,
                      0.24681919813156128,
                      0.3734509348869324,
                      0.3212208151817322,
                      0.35172146558761597,
                      0.31647104024887085,
                      0.4325357675552368,
                      0.3632286787033081,
                      0.46350812911987305,
                      0.39230749011039734,
                      0.4324955940246582,
                      0.5223714709281921,
                      0.3965371549129486,
                      0.4386742115020752,
                      0.4217541813850403,
                      0.6451799869537354,
                      0.44490712881088257,
                      0.42700910568237305,
                      0.4137892723083496,
                      0.3560449779033661,
                      0.3915644586086273,
                      0.5332653522491455,
                      0.3916029930114746,
                      0.3324601948261261,
                      0.21792727708816528,
                      0.4091123044490814,
                      0.3981606066226959,
                      0.2530260682106018,
                      0.36911702156066895,
                      0.345924437046051,
                      0.2716926336288452,
                      0.3654104769229889,
                      0.31441712379455566,
                      0.3725108206272125,
                      0.5412501096725464,
                      1,
                      0.8118964433670044,
                      0.06030553951859474,
                      0.41035738587379456,
                      0.7656300067901611,
                      0.6137727499008179,
                      0.38510239124298096,
                      0.21915923058986664
                    ],
                    [
                      0.08770650625228882,
                      0.13832440972328186,
                      0.07178331911563873,
                      0.09391824156045914,
                      0.3035116195678711,
                      0.25497886538505554,
                      0.26023533940315247,
                      0.21041202545166016,
                      0.14010486006736755,
                      0.15162774920463562,
                      0.29328083992004395,
                      0.39925187826156616,
                      0.4408946633338928,
                      0.2338855117559433,
                      0.273171603679657,
                      0.24484235048294067,
                      0.17158538103103638,
                      0.5324928760528564,
                      0.49678391218185425,
                      0.5038924217224121,
                      0.48504215478897095,
                      0.052028462290763855,
                      0.03395194932818413,
                      0.09108391404151917,
                      0.298212468624115,
                      0.07557134330272675,
                      0.11115328967571259,
                      0.09962370991706848,
                      0.10741494596004486,
                      0.06517982482910156,
                      0.10076495260000229,
                      0.39078712463378906,
                      0.2794647216796875,
                      0.19981282949447632,
                      0.29591506719589233,
                      0.2917279005050659,
                      0.3330068290233612,
                      0.3787514567375183,
                      0.3305915296077728,
                      0.40659958124160767,
                      0.3761761784553528,
                      0.49223461747169495,
                      0.45453035831451416,
                      0.40441203117370605,
                      0.3940608501434326,
                      0.4764626622200012,
                      0.41610217094421387,
                      0.41372549533843994,
                      0.5285452604293823,
                      0.45947137475013733,
                      0.4964192509651184,
                      0.4905850291252136,
                      0.7476691007614136,
                      0.5553783178329468,
                      0.587652325630188,
                      0.551985502243042,
                      0.4288002848625183,
                      0.5057905912399292,
                      0.6275337338447571,
                      0.4982070326805115,
                      0.47738009691238403,
                      0.1756790280342102,
                      0.356469064950943,
                      0.48015427589416504,
                      0.37100914120674133,
                      0.5157517790794373,
                      0.40504640340805054,
                      0.39079785346984863,
                      0.6217584609985352,
                      0.45513880252838135,
                      0.4987752437591553,
                      0.5936102867126465,
                      0.8118964433670044,
                      0.9999998211860657,
                      0.04145634546875954,
                      0.4116673469543457,
                      0.7471484541893005,
                      0.6675732731819153,
                      0.4116664230823517,
                      0.2782838046550751
                    ],
                    [
                      0.20095549523830414,
                      0.09948956966400146,
                      0.4677067995071411,
                      0.272926390171051,
                      0.24501101672649384,
                      0.29288387298583984,
                      0.36119717359542847,
                      0.2559686303138733,
                      0.26436877250671387,
                      0.21128341555595398,
                      0.31363052129745483,
                      0.28629884123802185,
                      0.2408466935157776,
                      0.2626471519470215,
                      0.2584667205810547,
                      0.1290530115365982,
                      0.317752480506897,
                      0.07736273854970932,
                      0.11676883697509766,
                      0.110870361328125,
                      0.09937650710344315,
                      0.2046443372964859,
                      0.09532381594181061,
                      0.4468730092048645,
                      0.17998206615447998,
                      0.3038473129272461,
                      0.18945355713367462,
                      0.2603820562362671,
                      0.10533566772937775,
                      0.37039586901664734,
                      0.13756640255451202,
                      0.30932503938674927,
                      0.3232588469982147,
                      0.19778093695640564,
                      0.1502605825662613,
                      0.12947583198547363,
                      0.08437366783618927,
                      0.13311518728733063,
                      0.1443842053413391,
                      0.14466941356658936,
                      0.2728685736656189,
                      0.13210035860538483,
                      0.11808069050312042,
                      0.019826410338282585,
                      0.06067538261413574,
                      0.01997293345630169,
                      0.0844595730304718,
                      0.056809067726135254,
                      0.20190289616584778,
                      0.28583163022994995,
                      0.2553880512714386,
                      0.07372844964265823,
                      0.04110926389694214,
                      0.09495222568511963,
                      0.055158451199531555,
                      0.0636291429400444,
                      0.12324152141809464,
                      0.10988548398017883,
                      0.0609409362077713,
                      0.10098615288734436,
                      0.24140024185180664,
                      0.23289147019386292,
                      0.07924645394086838,
                      0.030124083161354065,
                      0.12610307335853577,
                      0.27964842319488525,
                      0.0710829496383667,
                      0.1716354936361313,
                      0.10364636033773422,
                      0.2574344873428345,
                      0.14608651399612427,
                      0.09641354531049728,
                      0.06030553951859474,
                      0.04145634546875954,
                      0.9999998807907104,
                      0.05904332548379898,
                      0.014492455869913101,
                      0.03926829993724823,
                      0.05674106255173683,
                      0.06057761237025261
                    ],
                    [
                      0.05108387768268585,
                      0.0013920068740844727,
                      0.052953265607357025,
                      0.04852945730090141,
                      0.2768062651157379,
                      0.25917088985443115,
                      0.1670648157596588,
                      0.10218110680580139,
                      0.1233803927898407,
                      0.03890124335885048,
                      0.20271074771881104,
                      0.15879571437835693,
                      0.185610830783844,
                      0.07973330467939377,
                      0.07548235356807709,
                      0.09180066734552383,
                      0.06122724711894989,
                      0.5738990902900696,
                      0.5786395072937012,
                      0.667456328868866,
                      0.49824559688568115,
                      0.01495597418397665,
                      0.018801338970661163,
                      0.01855981908738613,
                      0.06726303696632385,
                      0.029225673526525497,
                      -0.0043607912957668304,
                      0.018443666398525238,
                      -0.028157994151115417,
                      -0.011410679668188095,
                      0.031487803906202316,
                      0.2985076308250427,
                      0.2456422746181488,
                      0.21909819543361664,
                      0.4344000220298767,
                      0.3232705593109131,
                      0.34616395831108093,
                      0.42027753591537476,
                      0.4120037257671356,
                      0.4205543100833893,
                      0.4467437267303467,
                      0.45450571179389954,
                      0.4405783712863922,
                      0.6311668157577515,
                      0.512188196182251,
                      0.644562840461731,
                      0.4807496666908264,
                      0.5609897971153259,
                      0.48413896560668945,
                      0.30770808458328247,
                      0.33346086740493774,
                      0.5135932564735413,
                      0.6795674562454224,
                      0.6450492739677429,
                      0.5893194079399109,
                      0.5470327138900757,
                      0.4955803155899048,
                      0.528396725654602,
                      0.708256721496582,
                      0.49003297090530396,
                      0.43302881717681885,
                      0.1078941822052002,
                      0.08925921469926834,
                      0.5528903603553772,
                      0.4618954062461853,
                      0.5644866228103638,
                      0.6049242615699768,
                      0.5498167276382446,
                      0.5368464589118958,
                      0.5625619292259216,
                      0.564461886882782,
                      0.4999074935913086,
                      0.41035738587379456,
                      0.4116673469543457,
                      0.05904332548379898,
                      0.9999998807907104,
                      0.6012381315231323,
                      0.6148195862770081,
                      0.44975441694259644,
                      0.3441104292869568
                    ],
                    [
                      0.08507269620895386,
                      0.06091555953025818,
                      0.08827311545610428,
                      0.0474092997610569,
                      0.21774646639823914,
                      0.1740570366382599,
                      0.15822353959083557,
                      0.10186943411827087,
                      0.05830539017915726,
                      0.03683411329984665,
                      0.22441916167736053,
                      0.2937285602092743,
                      0.3124215006828308,
                      0.1776675283908844,
                      0.14402048289775848,
                      0.16663071513175964,
                      0.11662033200263977,
                      0.5891560316085815,
                      0.5504421591758728,
                      0.5889344215393066,
                      0.4991756081581116,
                      -0.0265129916369915,
                      0.008006833493709564,
                      0.0007178069790825248,
                      0.1720009744167328,
                      0.022606397047638893,
                      0.018569551408290863,
                      0.03389440476894379,
                      -0.00507064163684845,
                      -0.05466336011886597,
                      0.08327323198318481,
                      0.2810364067554474,
                      0.17375442385673523,
                      0.19715014100074768,
                      0.35010984539985657,
                      0.2753303050994873,
                      0.27491092681884766,
                      0.3747483491897583,
                      0.3457295894622803,
                      0.4248909056186676,
                      0.3585093915462494,
                      0.43850910663604736,
                      0.40736496448516846,
                      0.5357629656791687,
                      0.45032578706741333,
                      0.5980322360992432,
                      0.43474453687667847,
                      0.47362858057022095,
                      0.46516668796539307,
                      0.3225614130496979,
                      0.4363851547241211,
                      0.49267852306365967,
                      0.8145553469657898,
                      0.5653958916664124,
                      0.5835264921188354,
                      0.5481130480766296,
                      0.445412278175354,
                      0.49851006269454956,
                      0.6734784841537476,
                      0.4761897921562195,
                      0.40548259019851685,
                      0.11753743886947632,
                      0.227669820189476,
                      0.5940094590187073,
                      0.3999737501144409,
                      0.48497211933135986,
                      0.5406634211540222,
                      0.4682881832122803,
                      0.5276479721069336,
                      0.46755462884902954,
                      0.5066656470298767,
                      0.5371850728988647,
                      0.7656300067901611,
                      0.7471484541893005,
                      0.014492455869913101,
                      0.6012381315231323,
                      1,
                      0.7936875820159912,
                      0.4190528392791748,
                      0.3345123529434204
                    ],
                    [
                      0.03771061822772026,
                      0.017590366303920746,
                      0.050805240869522095,
                      0.04198990762233734,
                      0.2627977132797241,
                      0.18212643265724182,
                      0.16672708094120026,
                      0.14468933641910553,
                      0.07034147530794144,
                      0.00576462596654892,
                      0.1851138472557068,
                      0.24511942267417908,
                      0.24402561783790588,
                      0.1644890159368515,
                      0.1458292156457901,
                      0.17804571986198425,
                      0.1203029602766037,
                      0.5676829814910889,
                      0.4911520779132843,
                      0.6221205592155457,
                      0.4489000141620636,
                      -0.09287798404693604,
                      0.0009395969100296497,
                      0.022432714700698853,
                      0.1454543173313141,
                      0.041890013962984085,
                      0.0019816607236862183,
                      0.05495573207736015,
                      0.0030141696333885193,
                      -0.020894918590784073,
                      0.10243763774633408,
                      0.32132768630981445,
                      0.23308297991752625,
                      0.15170985460281372,
                      0.40491461753845215,
                      0.34429892897605896,
                      0.35152727365493774,
                      0.37621647119522095,
                      0.3598189949989319,
                      0.4004068970680237,
                      0.39205771684646606,
                      0.432181715965271,
                      0.43962013721466064,
                      0.512915313243866,
                      0.40024518966674805,
                      0.5714631080627441,
                      0.4039849042892456,
                      0.44628745317459106,
                      0.47127941250801086,
                      0.3123413324356079,
                      0.3960355222225189,
                      0.40397095680236816,
                      0.7085187435150146,
                      0.5612413287162781,
                      0.5552686452865601,
                      0.4924851059913635,
                      0.3892156481742859,
                      0.42475175857543945,
                      0.6268274188041687,
                      0.4315706193447113,
                      0.36910712718963623,
                      0.11085852980613708,
                      0.23132288455963135,
                      0.5259615182876587,
                      0.4338604211807251,
                      0.4606720805168152,
                      0.4863671064376831,
                      0.45001810789108276,
                      0.544593334197998,
                      0.460726797580719,
                      0.4439697861671448,
                      0.4684140980243683,
                      0.6137727499008179,
                      0.6675732731819153,
                      0.03926829993724823,
                      0.6148195862770081,
                      0.7936875820159912,
                      1.000000238418579,
                      0.44546079635620117,
                      0.3065507113933563
                    ],
                    [
                      0.11644906550645828,
                      0.17597195506095886,
                      0.2554638087749481,
                      0.0727081298828125,
                      0.27316465973854065,
                      0.3323770761489868,
                      0.2675975561141968,
                      0.15473341941833496,
                      0.23074808716773987,
                      0.25551384687423706,
                      0.26591289043426514,
                      0.24389539659023285,
                      0.26049837470054626,
                      0.19182509183883667,
                      0.09814847260713577,
                      0.22407841682434082,
                      0.17161259055137634,
                      0.563614010810852,
                      0.4314831495285034,
                      0.5136623978614807,
                      0.41807085275650024,
                      0.06535717844963074,
                      0.1473633348941803,
                      0.10953161120414734,
                      0.12505687773227692,
                      0.11390036344528198,
                      0.09247298538684845,
                      0.0760401263833046,
                      0.057587046176195145,
                      0.03475022315979004,
                      0.08999597281217575,
                      0.25807398557662964,
                      0.1833615005016327,
                      0.15651467442512512,
                      0.43886399269104004,
                      0.3569502830505371,
                      0.4038509130477905,
                      0.47192299365997314,
                      0.45359358191490173,
                      0.4944121837615967,
                      0.49148526787757874,
                      0.45632606744766235,
                      0.47261011600494385,
                      0.41760802268981934,
                      0.34881627559661865,
                      0.4559507668018341,
                      0.3564944863319397,
                      0.3364507555961609,
                      0.40625226497650146,
                      0.3829440176486969,
                      0.3107559084892273,
                      0.42867380380630493,
                      0.5586522221565247,
                      0.44221633672714233,
                      0.5013155937194824,
                      0.5039812326431274,
                      0.3768569231033325,
                      0.41177552938461304,
                      0.47290822863578796,
                      0.41177132725715637,
                      0.3980804681777954,
                      0.20705273747444153,
                      0.26197001338005066,
                      0.41186225414276123,
                      0.4129375219345093,
                      0.4537275433540344,
                      0.4106951355934143,
                      0.41067466139793396,
                      0.5049595832824707,
                      0.4613690972328186,
                      0.3800068497657776,
                      0.429023802280426,
                      0.38510239124298096,
                      0.4116664230823517,
                      0.05674106255173683,
                      0.44975441694259644,
                      0.4190528392791748,
                      0.44546079635620117,
                      0.9999997615814209,
                      0.37576717138290405
                    ],
                    [
                      0.10585691034793854,
                      0.13005736470222473,
                      0.2679373025894165,
                      0.10893833637237549,
                      0.15919412672519684,
                      0.15407301485538483,
                      0.1245536282658577,
                      -0.020114028826355934,
                      0.08411819487810135,
                      0.14202016592025757,
                      0.09034061431884766,
                      0.10585377365350723,
                      0.13798394799232483,
                      0.09312815964221954,
                      0.012092292308807373,
                      0.08072230219841003,
                      -0.0037108780816197395,
                      0.4408758282661438,
                      0.34061312675476074,
                      0.3986900746822357,
                      0.3639642596244812,
                      0.08496295660734177,
                      0.1804600954055786,
                      -0.016802284866571426,
                      0.0464680977165699,
                      0.04439108073711395,
                      0.024898594245314598,
                      -0.06510329991579056,
                      0.011433317326009274,
                      -0.05269133672118187,
                      -0.02372928336262703,
                      0.21561382710933685,
                      0.11032173037528992,
                      0.14640489220619202,
                      0.37391144037246704,
                      0.21013984084129333,
                      0.24851065874099731,
                      0.23771658539772034,
                      0.24223071336746216,
                      0.2797393798828125,
                      0.3982931077480316,
                      0.30991971492767334,
                      0.270210862159729,
                      0.309956431388855,
                      0.3181091547012329,
                      0.3747413754463196,
                      0.28387415409088135,
                      0.2611474096775055,
                      0.28513747453689575,
                      0.2745690941810608,
                      0.2972383201122284,
                      0.3324664831161499,
                      0.41444867849349976,
                      0.36754217743873596,
                      0.3801578879356384,
                      0.3567083179950714,
                      0.3404941260814667,
                      0.29232257604599,
                      0.3393900394439697,
                      0.2594371736049652,
                      0.2603501081466675,
                      0.08743420243263245,
                      0.20866647362709045,
                      0.38571101427078247,
                      0.42540794610977173,
                      0.35946208238601685,
                      0.3879097104072571,
                      0.43447256088256836,
                      0.4560941755771637,
                      0.4089195728302002,
                      0.3444375991821289,
                      0.31926900148391724,
                      0.21915923058986664,
                      0.2782838046550751,
                      0.06057761237025261,
                      0.3441104292869568,
                      0.3345123529434204,
                      0.3065507113933563,
                      0.37576717138290405,
                      1.0000001192092896
                    ]
                  ]
                }
              ],
              "layout": {
                "coloraxis": {
                  "colorbar": {
                    "title": {
                      "text": "Similarity Score"
                    }
                  },
                  "colorscale": [
                    [
                      0,
                      "rgb(247,252,240)"
                    ],
                    [
                      0.125,
                      "rgb(224,243,219)"
                    ],
                    [
                      0.25,
                      "rgb(204,235,197)"
                    ],
                    [
                      0.375,
                      "rgb(168,221,181)"
                    ],
                    [
                      0.5,
                      "rgb(123,204,196)"
                    ],
                    [
                      0.625,
                      "rgb(78,179,211)"
                    ],
                    [
                      0.75,
                      "rgb(43,140,190)"
                    ],
                    [
                      0.875,
                      "rgb(8,104,172)"
                    ],
                    [
                      1,
                      "rgb(8,64,129)"
                    ]
                  ]
                },
                "height": 1000,
                "hoverlabel": {
                  "bgcolor": "white",
                  "font": {
                    "family": "Rockwell",
                    "size": 16
                  }
                },
                "legend": {
                  "title": {
                    "text": "Trend"
                  }
                },
                "margin": {
                  "t": 60
                },
                "showlegend": true,
                "template": {
                  "data": {
                    "bar": [
                      {
                        "error_x": {
                          "color": "#2a3f5f"
                        },
                        "error_y": {
                          "color": "#2a3f5f"
                        },
                        "marker": {
                          "line": {
                            "color": "#E5ECF6",
                            "width": 0.5
                          },
                          "pattern": {
                            "fillmode": "overlay",
                            "size": 10,
                            "solidity": 0.2
                          }
                        },
                        "type": "bar"
                      }
                    ],
                    "barpolar": [
                      {
                        "marker": {
                          "line": {
                            "color": "#E5ECF6",
                            "width": 0.5
                          },
                          "pattern": {
                            "fillmode": "overlay",
                            "size": 10,
                            "solidity": 0.2
                          }
                        },
                        "type": "barpolar"
                      }
                    ],
                    "carpet": [
                      {
                        "aaxis": {
                          "endlinecolor": "#2a3f5f",
                          "gridcolor": "white",
                          "linecolor": "white",
                          "minorgridcolor": "white",
                          "startlinecolor": "#2a3f5f"
                        },
                        "baxis": {
                          "endlinecolor": "#2a3f5f",
                          "gridcolor": "white",
                          "linecolor": "white",
                          "minorgridcolor": "white",
                          "startlinecolor": "#2a3f5f"
                        },
                        "type": "carpet"
                      }
                    ],
                    "choropleth": [
                      {
                        "colorbar": {
                          "outlinewidth": 0,
                          "ticks": ""
                        },
                        "type": "choropleth"
                      }
                    ],
                    "contour": [
                      {
                        "colorbar": {
                          "outlinewidth": 0,
                          "ticks": ""
                        },
                        "colorscale": [
                          [
                            0,
                            "#0d0887"
                          ],
                          [
                            0.1111111111111111,
                            "#46039f"
                          ],
                          [
                            0.2222222222222222,
                            "#7201a8"
                          ],
                          [
                            0.3333333333333333,
                            "#9c179e"
                          ],
                          [
                            0.4444444444444444,
                            "#bd3786"
                          ],
                          [
                            0.5555555555555556,
                            "#d8576b"
                          ],
                          [
                            0.6666666666666666,
                            "#ed7953"
                          ],
                          [
                            0.7777777777777778,
                            "#fb9f3a"
                          ],
                          [
                            0.8888888888888888,
                            "#fdca26"
                          ],
                          [
                            1,
                            "#f0f921"
                          ]
                        ],
                        "type": "contour"
                      }
                    ],
                    "contourcarpet": [
                      {
                        "colorbar": {
                          "outlinewidth": 0,
                          "ticks": ""
                        },
                        "type": "contourcarpet"
                      }
                    ],
                    "heatmap": [
                      {
                        "colorbar": {
                          "outlinewidth": 0,
                          "ticks": ""
                        },
                        "colorscale": [
                          [
                            0,
                            "#0d0887"
                          ],
                          [
                            0.1111111111111111,
                            "#46039f"
                          ],
                          [
                            0.2222222222222222,
                            "#7201a8"
                          ],
                          [
                            0.3333333333333333,
                            "#9c179e"
                          ],
                          [
                            0.4444444444444444,
                            "#bd3786"
                          ],
                          [
                            0.5555555555555556,
                            "#d8576b"
                          ],
                          [
                            0.6666666666666666,
                            "#ed7953"
                          ],
                          [
                            0.7777777777777778,
                            "#fb9f3a"
                          ],
                          [
                            0.8888888888888888,
                            "#fdca26"
                          ],
                          [
                            1,
                            "#f0f921"
                          ]
                        ],
                        "type": "heatmap"
                      }
                    ],
                    "heatmapgl": [
                      {
                        "colorbar": {
                          "outlinewidth": 0,
                          "ticks": ""
                        },
                        "colorscale": [
                          [
                            0,
                            "#0d0887"
                          ],
                          [
                            0.1111111111111111,
                            "#46039f"
                          ],
                          [
                            0.2222222222222222,
                            "#7201a8"
                          ],
                          [
                            0.3333333333333333,
                            "#9c179e"
                          ],
                          [
                            0.4444444444444444,
                            "#bd3786"
                          ],
                          [
                            0.5555555555555556,
                            "#d8576b"
                          ],
                          [
                            0.6666666666666666,
                            "#ed7953"
                          ],
                          [
                            0.7777777777777778,
                            "#fb9f3a"
                          ],
                          [
                            0.8888888888888888,
                            "#fdca26"
                          ],
                          [
                            1,
                            "#f0f921"
                          ]
                        ],
                        "type": "heatmapgl"
                      }
                    ],
                    "histogram": [
                      {
                        "marker": {
                          "pattern": {
                            "fillmode": "overlay",
                            "size": 10,
                            "solidity": 0.2
                          }
                        },
                        "type": "histogram"
                      }
                    ],
                    "histogram2d": [
                      {
                        "colorbar": {
                          "outlinewidth": 0,
                          "ticks": ""
                        },
                        "colorscale": [
                          [
                            0,
                            "#0d0887"
                          ],
                          [
                            0.1111111111111111,
                            "#46039f"
                          ],
                          [
                            0.2222222222222222,
                            "#7201a8"
                          ],
                          [
                            0.3333333333333333,
                            "#9c179e"
                          ],
                          [
                            0.4444444444444444,
                            "#bd3786"
                          ],
                          [
                            0.5555555555555556,
                            "#d8576b"
                          ],
                          [
                            0.6666666666666666,
                            "#ed7953"
                          ],
                          [
                            0.7777777777777778,
                            "#fb9f3a"
                          ],
                          [
                            0.8888888888888888,
                            "#fdca26"
                          ],
                          [
                            1,
                            "#f0f921"
                          ]
                        ],
                        "type": "histogram2d"
                      }
                    ],
                    "histogram2dcontour": [
                      {
                        "colorbar": {
                          "outlinewidth": 0,
                          "ticks": ""
                        },
                        "colorscale": [
                          [
                            0,
                            "#0d0887"
                          ],
                          [
                            0.1111111111111111,
                            "#46039f"
                          ],
                          [
                            0.2222222222222222,
                            "#7201a8"
                          ],
                          [
                            0.3333333333333333,
                            "#9c179e"
                          ],
                          [
                            0.4444444444444444,
                            "#bd3786"
                          ],
                          [
                            0.5555555555555556,
                            "#d8576b"
                          ],
                          [
                            0.6666666666666666,
                            "#ed7953"
                          ],
                          [
                            0.7777777777777778,
                            "#fb9f3a"
                          ],
                          [
                            0.8888888888888888,
                            "#fdca26"
                          ],
                          [
                            1,
                            "#f0f921"
                          ]
                        ],
                        "type": "histogram2dcontour"
                      }
                    ],
                    "mesh3d": [
                      {
                        "colorbar": {
                          "outlinewidth": 0,
                          "ticks": ""
                        },
                        "type": "mesh3d"
                      }
                    ],
                    "parcoords": [
                      {
                        "line": {
                          "colorbar": {
                            "outlinewidth": 0,
                            "ticks": ""
                          }
                        },
                        "type": "parcoords"
                      }
                    ],
                    "pie": [
                      {
                        "automargin": true,
                        "type": "pie"
                      }
                    ],
                    "scatter": [
                      {
                        "fillpattern": {
                          "fillmode": "overlay",
                          "size": 10,
                          "solidity": 0.2
                        },
                        "type": "scatter"
                      }
                    ],
                    "scatter3d": [
                      {
                        "line": {
                          "colorbar": {
                            "outlinewidth": 0,
                            "ticks": ""
                          }
                        },
                        "marker": {
                          "colorbar": {
                            "outlinewidth": 0,
                            "ticks": ""
                          }
                        },
                        "type": "scatter3d"
                      }
                    ],
                    "scattercarpet": [
                      {
                        "marker": {
                          "colorbar": {
                            "outlinewidth": 0,
                            "ticks": ""
                          }
                        },
                        "type": "scattercarpet"
                      }
                    ],
                    "scattergeo": [
                      {
                        "marker": {
                          "colorbar": {
                            "outlinewidth": 0,
                            "ticks": ""
                          }
                        },
                        "type": "scattergeo"
                      }
                    ],
                    "scattergl": [
                      {
                        "marker": {
                          "colorbar": {
                            "outlinewidth": 0,
                            "ticks": ""
                          }
                        },
                        "type": "scattergl"
                      }
                    ],
                    "scattermapbox": [
                      {
                        "marker": {
                          "colorbar": {
                            "outlinewidth": 0,
                            "ticks": ""
                          }
                        },
                        "type": "scattermapbox"
                      }
                    ],
                    "scatterpolar": [
                      {
                        "marker": {
                          "colorbar": {
                            "outlinewidth": 0,
                            "ticks": ""
                          }
                        },
                        "type": "scatterpolar"
                      }
                    ],
                    "scatterpolargl": [
                      {
                        "marker": {
                          "colorbar": {
                            "outlinewidth": 0,
                            "ticks": ""
                          }
                        },
                        "type": "scatterpolargl"
                      }
                    ],
                    "scatterternary": [
                      {
                        "marker": {
                          "colorbar": {
                            "outlinewidth": 0,
                            "ticks": ""
                          }
                        },
                        "type": "scatterternary"
                      }
                    ],
                    "surface": [
                      {
                        "colorbar": {
                          "outlinewidth": 0,
                          "ticks": ""
                        },
                        "colorscale": [
                          [
                            0,
                            "#0d0887"
                          ],
                          [
                            0.1111111111111111,
                            "#46039f"
                          ],
                          [
                            0.2222222222222222,
                            "#7201a8"
                          ],
                          [
                            0.3333333333333333,
                            "#9c179e"
                          ],
                          [
                            0.4444444444444444,
                            "#bd3786"
                          ],
                          [
                            0.5555555555555556,
                            "#d8576b"
                          ],
                          [
                            0.6666666666666666,
                            "#ed7953"
                          ],
                          [
                            0.7777777777777778,
                            "#fb9f3a"
                          ],
                          [
                            0.8888888888888888,
                            "#fdca26"
                          ],
                          [
                            1,
                            "#f0f921"
                          ]
                        ],
                        "type": "surface"
                      }
                    ],
                    "table": [
                      {
                        "cells": {
                          "fill": {
                            "color": "#EBF0F8"
                          },
                          "line": {
                            "color": "white"
                          }
                        },
                        "header": {
                          "fill": {
                            "color": "#C8D4E3"
                          },
                          "line": {
                            "color": "white"
                          }
                        },
                        "type": "table"
                      }
                    ]
                  },
                  "layout": {
                    "annotationdefaults": {
                      "arrowcolor": "#2a3f5f",
                      "arrowhead": 0,
                      "arrowwidth": 1
                    },
                    "autotypenumbers": "strict",
                    "coloraxis": {
                      "colorbar": {
                        "outlinewidth": 0,
                        "ticks": ""
                      }
                    },
                    "colorscale": {
                      "diverging": [
                        [
                          0,
                          "#8e0152"
                        ],
                        [
                          0.1,
                          "#c51b7d"
                        ],
                        [
                          0.2,
                          "#de77ae"
                        ],
                        [
                          0.3,
                          "#f1b6da"
                        ],
                        [
                          0.4,
                          "#fde0ef"
                        ],
                        [
                          0.5,
                          "#f7f7f7"
                        ],
                        [
                          0.6,
                          "#e6f5d0"
                        ],
                        [
                          0.7,
                          "#b8e186"
                        ],
                        [
                          0.8,
                          "#7fbc41"
                        ],
                        [
                          0.9,
                          "#4d9221"
                        ],
                        [
                          1,
                          "#276419"
                        ]
                      ],
                      "sequential": [
                        [
                          0,
                          "#0d0887"
                        ],
                        [
                          0.1111111111111111,
                          "#46039f"
                        ],
                        [
                          0.2222222222222222,
                          "#7201a8"
                        ],
                        [
                          0.3333333333333333,
                          "#9c179e"
                        ],
                        [
                          0.4444444444444444,
                          "#bd3786"
                        ],
                        [
                          0.5555555555555556,
                          "#d8576b"
                        ],
                        [
                          0.6666666666666666,
                          "#ed7953"
                        ],
                        [
                          0.7777777777777778,
                          "#fb9f3a"
                        ],
                        [
                          0.8888888888888888,
                          "#fdca26"
                        ],
                        [
                          1,
                          "#f0f921"
                        ]
                      ],
                      "sequentialminus": [
                        [
                          0,
                          "#0d0887"
                        ],
                        [
                          0.1111111111111111,
                          "#46039f"
                        ],
                        [
                          0.2222222222222222,
                          "#7201a8"
                        ],
                        [
                          0.3333333333333333,
                          "#9c179e"
                        ],
                        [
                          0.4444444444444444,
                          "#bd3786"
                        ],
                        [
                          0.5555555555555556,
                          "#d8576b"
                        ],
                        [
                          0.6666666666666666,
                          "#ed7953"
                        ],
                        [
                          0.7777777777777778,
                          "#fb9f3a"
                        ],
                        [
                          0.8888888888888888,
                          "#fdca26"
                        ],
                        [
                          1,
                          "#f0f921"
                        ]
                      ]
                    },
                    "colorway": [
                      "#636efa",
                      "#EF553B",
                      "#00cc96",
                      "#ab63fa",
                      "#FFA15A",
                      "#19d3f3",
                      "#FF6692",
                      "#B6E880",
                      "#FF97FF",
                      "#FECB52"
                    ],
                    "font": {
                      "color": "#2a3f5f"
                    },
                    "geo": {
                      "bgcolor": "white",
                      "lakecolor": "white",
                      "landcolor": "#E5ECF6",
                      "showlakes": true,
                      "showland": true,
                      "subunitcolor": "white"
                    },
                    "hoverlabel": {
                      "align": "left"
                    },
                    "hovermode": "closest",
                    "mapbox": {
                      "style": "light"
                    },
                    "paper_bgcolor": "white",
                    "plot_bgcolor": "#E5ECF6",
                    "polar": {
                      "angularaxis": {
                        "gridcolor": "white",
                        "linecolor": "white",
                        "ticks": ""
                      },
                      "bgcolor": "#E5ECF6",
                      "radialaxis": {
                        "gridcolor": "white",
                        "linecolor": "white",
                        "ticks": ""
                      }
                    },
                    "scene": {
                      "xaxis": {
                        "backgroundcolor": "#E5ECF6",
                        "gridcolor": "white",
                        "gridwidth": 2,
                        "linecolor": "white",
                        "showbackground": true,
                        "ticks": "",
                        "zerolinecolor": "white"
                      },
                      "yaxis": {
                        "backgroundcolor": "#E5ECF6",
                        "gridcolor": "white",
                        "gridwidth": 2,
                        "linecolor": "white",
                        "showbackground": true,
                        "ticks": "",
                        "zerolinecolor": "white"
                      },
                      "zaxis": {
                        "backgroundcolor": "#E5ECF6",
                        "gridcolor": "white",
                        "gridwidth": 2,
                        "linecolor": "white",
                        "showbackground": true,
                        "ticks": "",
                        "zerolinecolor": "white"
                      }
                    },
                    "shapedefaults": {
                      "line": {
                        "color": "#2a3f5f"
                      }
                    },
                    "ternary": {
                      "aaxis": {
                        "gridcolor": "white",
                        "linecolor": "white",
                        "ticks": ""
                      },
                      "baxis": {
                        "gridcolor": "white",
                        "linecolor": "white",
                        "ticks": ""
                      },
                      "bgcolor": "#E5ECF6",
                      "caxis": {
                        "gridcolor": "white",
                        "linecolor": "white",
                        "ticks": ""
                      }
                    },
                    "title": {
                      "x": 0.05
                    },
                    "xaxis": {
                      "automargin": true,
                      "gridcolor": "white",
                      "linecolor": "white",
                      "ticks": "",
                      "title": {
                        "standoff": 15
                      },
                      "zerolinecolor": "white",
                      "zerolinewidth": 2
                    },
                    "yaxis": {
                      "automargin": true,
                      "gridcolor": "white",
                      "linecolor": "white",
                      "ticks": "",
                      "title": {
                        "standoff": 15
                      },
                      "zerolinecolor": "white",
                      "zerolinewidth": 2
                    }
                  }
                },
                "title": {
                  "font": {
                    "color": "Black",
                    "size": 22
                  },
                  "text": "<b>Similarity Matrix</b>",
                  "x": 0.55,
                  "xanchor": "center",
                  "y": 0.95,
                  "yanchor": "top"
                },
                "width": 1000,
                "xaxis": {
                  "anchor": "y",
                  "constrain": "domain",
                  "domain": [
                    0,
                    1
                  ],
                  "scaleanchor": "y"
                },
                "yaxis": {
                  "anchor": "x",
                  "autorange": "reversed",
                  "constrain": "domain",
                  "domain": [
                    0,
                    1
                  ]
                }
              }
            }
          },
          "metadata": {},
          "output_type": "display_data"
        }
      ],
      "source": [
        "# visualize topic similarity\n",
        "model.visualize_heatmap(n_clusters=20, width=1000, height=1000)"
      ]
    },
    {
      "cell_type": "code",
      "execution_count": 14,
      "metadata": {},
      "outputs": [
        {
          "data": {
            "application/vnd.plotly.v1+json": {
              "config": {
                "plotlyServerURL": "https://plot.ly"
              },
              "data": [
                {
                  "hovertext": "<b>Topic -1</b>:sample_rule_input_output_snakemake",
                  "line": {
                    "color": "black",
                    "width": 1.5
                  },
                  "mode": "lines+lines",
                  "name": "",
                  "opacity": 0.1,
                  "type": "scatter",
                  "x": [
                    1,
                    2,
                    3,
                    4,
                    5,
                    6,
                    7,
                    8,
                    9,
                    10
                  ],
                  "y": [
                    0.013108206284592685,
                    0.012093647883169361,
                    0.011861376757632111,
                    0.011613121202552642,
                    0.011392038757671441,
                    0.010021359107529847,
                    0.009460683747894891,
                    0.009412557168690789,
                    0.009371989940043297,
                    0.008268879120030386
                  ]
                },
                {
                  "hovertext": "<b>Topic 0</b>:eclipse_org_java_internal_kepler_co",
                  "line": {
                    "color": "black",
                    "width": 1.5
                  },
                  "mode": "lines+lines",
                  "name": "",
                  "opacity": 0.1,
                  "type": "scatter",
                  "x": [
                    1,
                    2,
                    3,
                    4,
                    5,
                    6,
                    7,
                    8,
                    9,
                    10
                  ],
                  "y": [
                    0.06667907660780889,
                    0.04951632290827403,
                    0.04393238344057453,
                    0.03133995752767232,
                    0.023702511583527906,
                    0.023590725285928732,
                    0.020453053965373467,
                    0.01837510384307266,
                    0.01744750546438908,
                    0.016339504782793234
                  ]
                },
                {
                  "hovertext": "<b>Topic 1</b>:monetdb_database_table_query_monetd",
                  "line": {
                    "color": "black",
                    "width": 1.5
                  },
                  "mode": "lines+lines",
                  "name": "",
                  "opacity": 0.1,
                  "type": "scatter",
                  "x": [
                    1,
                    2,
                    3,
                    4,
                    5,
                    6,
                    7,
                    8,
                    9,
                    10
                  ],
                  "y": [
                    0.0825702525454606,
                    0.018046956176058473,
                    0.017925461532438684,
                    0.017317762914339372,
                    0.015633463716109214,
                    0.01385252532077359,
                    0.01347949393973292,
                    0.013316856460885582,
                    0.013266061890263744,
                    0.01205171102421753
                  ]
                },
                {
                  "hovertext": "<b>Topic 2</b>:luigi_task_self_def_worker_bdx_run_",
                  "line": {
                    "color": "black",
                    "width": 1.5
                  },
                  "mode": "lines+lines",
                  "name": "",
                  "opacity": 0.1,
                  "type": "scatter",
                  "x": [
                    1,
                    2,
                    3,
                    4,
                    5,
                    6,
                    7,
                    8,
                    9,
                    10
                  ],
                  "y": [
                    0.08498665145853135,
                    0.06392631712592509,
                    0.05952543070131261,
                    0.03731413927619448,
                    0.02828153851659993,
                    0.024534239663108703,
                    0.021702077839276888,
                    0.021656378408824853,
                    0.02138102052293749,
                    0.021099421567798635
                  ]
                },
                {
                  "hovertext": "<b>Topic 3</b>:nextflow_process_channel_debug_nf_m",
                  "line": {
                    "color": "black",
                    "width": 1.5
                  },
                  "mode": "lines+lines",
                  "name": "",
                  "opacity": 0.1,
                  "type": "scatter",
                  "x": [
                    1,
                    2,
                    3,
                    4,
                    5,
                    6,
                    7,
                    8,
                    9,
                    10
                  ],
                  "y": [
                    0.06643920642706232,
                    0.041409411594754635,
                    0.028417771295872744,
                    0.022713128046930167,
                    0.022475963365464726,
                    0.02063965059082235,
                    0.020144113851612928,
                    0.018994138829622798,
                    0.017421808927709847,
                    0.016777596310067328
                  ]
                },
                {
                  "hovertext": "<b>Topic 4</b>:varchar_export_bteq_tpt_teradata_lo",
                  "line": {
                    "color": "black",
                    "width": 1.5
                  },
                  "mode": "lines+lines",
                  "name": "",
                  "opacity": 0.1,
                  "type": "scatter",
                  "x": [
                    1,
                    2,
                    3,
                    4,
                    5,
                    6,
                    7,
                    8,
                    9,
                    10
                  ],
                  "y": [
                    0.0438808739625617,
                    0.031044795663527597,
                    0.030969866213859516,
                    0.025149736410843268,
                    0.022802110636149266,
                    0.02240547398724483,
                    0.021661218930010325,
                    0.019691296267265814,
                    0.019502308862413293,
                    0.016457766369109533
                  ]
                },
                {
                  "hovertext": "<b>Topic 5</b>:docker_swarm_service_network_node_w",
                  "line": {
                    "color": "black",
                    "width": 1.5
                  },
                  "mode": "lines+lines",
                  "name": "",
                  "opacity": 0.1,
                  "type": "scatter",
                  "x": [
                    1,
                    2,
                    3,
                    4,
                    5,
                    6,
                    7,
                    8,
                    9,
                    10
                  ],
                  "y": [
                    0.09624132500056846,
                    0.0740654209667301,
                    0.051348663009758995,
                    0.03759601471167224,
                    0.03682173032564195,
                    0.0365901752130322,
                    0.03525043425496097,
                    0.026339720170992842,
                    0.02484340506806399,
                    0.02100533631393837
                  ]
                },
                {
                  "hovertext": "<b>Topic 6</b>:cluster_job_slurm_snakemake_mem_thr",
                  "line": {
                    "color": "black",
                    "width": 1.5
                  },
                  "mode": "lines+lines",
                  "name": "",
                  "opacity": 0.1,
                  "type": "scatter",
                  "x": [
                    1,
                    2,
                    3,
                    4,
                    5,
                    6,
                    7,
                    8,
                    9,
                    10
                  ],
                  "y": [
                    0.06945563492139913,
                    0.06064240363481411,
                    0.03887869951932486,
                    0.03818932085082043,
                    0.024156188002137986,
                    0.02310367633759717,
                    0.023001823025295336,
                    0.017314818031744877,
                    0.016653166819483214,
                    0.01661363252181033
                  ]
                },
                {
                  "hovertext": "<b>Topic 7</b>:ansible_role_galaxy_collection_inst",
                  "line": {
                    "color": "black",
                    "width": 1.5
                  },
                  "mode": "lines+lines",
                  "name": "",
                  "opacity": 0.1,
                  "type": "scatter",
                  "x": [
                    1,
                    2,
                    3,
                    4,
                    5,
                    6,
                    7,
                    8,
                    9,
                    10
                  ],
                  "y": [
                    0.16975009364392127,
                    0.10422172994151772,
                    0.09328729960832166,
                    0.07078627270002737,
                    0.03963225126316275,
                    0.03683775392715229,
                    0.03577389092798252,
                    0.03543977068498833,
                    0.030522918378710014,
                    0.02876451210039827
                  ]
                },
                {
                  "hovertext": "<b>Topic 8</b>:procedure_stored_declare_begin_end_",
                  "line": {
                    "color": "black",
                    "width": 1.5
                  },
                  "mode": "lines+lines",
                  "name": "",
                  "opacity": 0.1,
                  "type": "scatter",
                  "x": [
                    1,
                    2,
                    3,
                    4,
                    5,
                    6,
                    7,
                    8,
                    9,
                    10
                  ],
                  "y": [
                    0.09565804315631214,
                    0.05228527071810454,
                    0.0450832302125546,
                    0.04000916843242046,
                    0.03336182459261221,
                    0.03300255672943313,
                    0.03297180518092399,
                    0.030882171223783283,
                    0.029435749918516777,
                    0.02599399326570729
                  ]
                },
                {
                  "hovertext": "<b>Topic 9</b>:rule_input_output_txt_snakemake_wil",
                  "line": {
                    "color": "black",
                    "width": 1.5
                  },
                  "mode": "lines+lines",
                  "name": "",
                  "opacity": 0.1,
                  "type": "scatter",
                  "x": [
                    1,
                    2,
                    3,
                    4,
                    5,
                    6,
                    7,
                    8,
                    9,
                    10
                  ],
                  "y": [
                    0.07105011167164084,
                    0.04142345070192961,
                    0.037736789628399145,
                    0.0332040751638216,
                    0.031323298750423126,
                    0.024766991676156196,
                    0.022641910598936436,
                    0.0214399058732361,
                    0.021108396245583434,
                    0.017792730954009354
                  ]
                },
                {
                  "hovertext": "<b>Topic 10</b>:rapidminer_model_document_text_cla",
                  "line": {
                    "color": "black",
                    "width": 1.5
                  },
                  "mode": "lines+lines",
                  "name": "",
                  "opacity": 0.1,
                  "type": "scatter",
                  "x": [
                    1,
                    2,
                    3,
                    4,
                    5,
                    6,
                    7,
                    8,
                    9,
                    10
                  ],
                  "y": [
                    0.0757884637563629,
                    0.05432642808245887,
                    0.03270315849179689,
                    0.0313371595106489,
                    0.029749916308991348,
                    0.028751899226254422,
                    0.026939069755439936,
                    0.02563696945901685,
                    0.02485881943853804,
                    0.024482846987921907
                  ]
                },
                {
                  "hovertext": "<b>Topic 11</b>:odbc_teradata_driver_connect_conne",
                  "line": {
                    "color": "black",
                    "width": 1.5
                  },
                  "mode": "lines+lines",
                  "name": "",
                  "opacity": 0.1,
                  "type": "scatter",
                  "x": [
                    1,
                    2,
                    3,
                    4,
                    5,
                    6,
                    7,
                    8,
                    9,
                    10
                  ],
                  "y": [
                    0.10090439248806488,
                    0.062074605578629746,
                    0.04340055316570015,
                    0.03108010979268297,
                    0.03081514260648392,
                    0.030287503534201274,
                    0.02827376458365382,
                    0.02605441892046367,
                    0.022690344681508844,
                    0.022371087119850544
                  ]
                },
                {
                  "hovertext": "<b>Topic 12</b>:jdbc_java_com_teradata_hibernate_c",
                  "line": {
                    "color": "black",
                    "width": 1.5
                  },
                  "mode": "lines+lines",
                  "name": "",
                  "opacity": 0.1,
                  "type": "scatter",
                  "x": [
                    1,
                    2,
                    3,
                    4,
                    5,
                    6,
                    7,
                    8,
                    9,
                    10
                  ],
                  "y": [
                    0.09167297263415078,
                    0.04961357801473244,
                    0.03940742859796149,
                    0.03345054261357197,
                    0.026505267989747335,
                    0.023449487562600624,
                    0.01997813821392142,
                    0.019249713740951593,
                    0.019132497284700508,
                    0.018959022429930493
                  ]
                },
                {
                  "hovertext": "<b>Topic 13</b>:genome_sample_fastq_input_gz_outpu",
                  "line": {
                    "color": "black",
                    "width": 1.5
                  },
                  "mode": "lines+lines",
                  "name": "",
                  "opacity": 0.1,
                  "type": "scatter",
                  "x": [
                    1,
                    2,
                    3,
                    4,
                    5,
                    6,
                    7,
                    8,
                    9,
                    10
                  ],
                  "y": [
                    0.03465469463727008,
                    0.02926782954008301,
                    0.028175420863540412,
                    0.027100360639420642,
                    0.024178641593726676,
                    0.021487918703637008,
                    0.021185972541393563,
                    0.021102845044300156,
                    0.020874854680270238,
                    0.020781977159992162
                  ]
                },
                {
                  "hovertext": "<b>Topic 14</b>:sample_fastq_bam_input_rule_output",
                  "line": {
                    "color": "black",
                    "width": 1.5
                  },
                  "mode": "lines+lines",
                  "name": "",
                  "opacity": 0.1,
                  "type": "scatter",
                  "x": [
                    1,
                    2,
                    3,
                    4,
                    5,
                    6,
                    7,
                    8,
                    9,
                    10
                  ],
                  "y": [
                    0.04516779760028376,
                    0.02610975728895927,
                    0.025462726572504212,
                    0.024120102578305606,
                    0.02326910257887098,
                    0.02315060293070347,
                    0.021135878735445916,
                    0.02011277859792138,
                    0.019520954828041392,
                    0.019501799637491952
                  ]
                },
                {
                  "hovertext": "<b>Topic 15</b>:airflow_dag_py_bitnami_python_lib_",
                  "line": {
                    "color": "black",
                    "width": 1.5
                  },
                  "mode": "lines+lines",
                  "name": "",
                  "opacity": 0.1,
                  "type": "scatter",
                  "x": [
                    1,
                    2,
                    3,
                    4,
                    5,
                    6,
                    7,
                    8,
                    9,
                    10
                  ],
                  "y": [
                    0.11381951712581112,
                    0.06332825332527718,
                    0.038681174335606354,
                    0.032643847641048385,
                    0.03140378247229834,
                    0.03129139162749961,
                    0.030396199702175684,
                    0.029348115985005075,
                    0.027455513469310303,
                    0.027002126462675042
                  ]
                },
                {
                  "hovertext": "<b>Topic 16</b>:gl_kepler_map_keplergl_longitude_m",
                  "line": {
                    "color": "black",
                    "width": 1.5
                  },
                  "mode": "lines+lines",
                  "name": "",
                  "opacity": 0.1,
                  "type": "scatter",
                  "x": [
                    1,
                    2,
                    3,
                    4,
                    5,
                    6,
                    7,
                    8,
                    9,
                    10
                  ],
                  "y": [
                    0.07959180300719786,
                    0.06466376086271883,
                    0.04342563231146822,
                    0.0390974384153588,
                    0.03575589794003588,
                    0.03212891959672849,
                    0.028383464872818457,
                    0.02743403800847256,
                    0.026242132035661104,
                    0.02339634971329761
                  ]
                },
                {
                  "hovertext": "<b>Topic 17</b>:knime_node_workflow_hometeam_awayt",
                  "line": {
                    "color": "black",
                    "width": 1.5
                  },
                  "mode": "lines+lines",
                  "name": "",
                  "opacity": 0.1,
                  "type": "scatter",
                  "x": [
                    1,
                    2,
                    3,
                    4,
                    5,
                    6,
                    7,
                    8,
                    9,
                    10
                  ],
                  "y": [
                    0.17817696135598846,
                    0.045352607878478675,
                    0.042155821990245326,
                    0.027275865795072074,
                    0.027275865795072074,
                    0.019431617220809286,
                    0.01903109028628355,
                    0.01800232105940209,
                    0.016322217130615307,
                    0.016309697332560408
                  ]
                },
                {
                  "hovertext": "<b>Topic 18</b>:conda_environment_snakemake_envs_a",
                  "line": {
                    "color": "black",
                    "width": 1.5
                  },
                  "mode": "lines+lines",
                  "name": "",
                  "opacity": 0.1,
                  "type": "scatter",
                  "x": [
                    1,
                    2,
                    3,
                    4,
                    5,
                    6,
                    7,
                    8,
                    9,
                    10
                  ],
                  "y": [
                    0.09488835286335777,
                    0.04940760674817741,
                    0.037302355583897426,
                    0.032790427987533496,
                    0.03140313469248309,
                    0.022390417800545865,
                    0.021711237521308605,
                    0.020051902036110812,
                    0.01958565971912451,
                    0.018771742993586197
                  ]
                },
                {
                  "hovertext": "<b>Topic 19</b>:timestamp_convert_format_time_mm_d",
                  "line": {
                    "color": "black",
                    "width": 1.5
                  },
                  "mode": "lines+lines",
                  "name": "",
                  "opacity": 0.1,
                  "type": "scatter",
                  "x": [
                    1,
                    2,
                    3,
                    4,
                    5,
                    6,
                    7,
                    8,
                    9,
                    10
                  ],
                  "y": [
                    0.1773417370193439,
                    0.07390726526164587,
                    0.059948970365132866,
                    0.05510210246682783,
                    0.05268387338894487,
                    0.04662771625587809,
                    0.04573574503164206,
                    0.04443921482602128,
                    0.042978473200890405,
                    0.040474450313741465
                  ]
                },
                {
                  "hovertext": "<b>Topic 20</b>:attribute_rapidminer_operator_mine",
                  "line": {
                    "color": "black",
                    "width": 1.5
                  },
                  "mode": "lines+lines",
                  "name": "",
                  "opacity": 0.1,
                  "type": "scatter",
                  "x": [
                    1,
                    2,
                    3,
                    4,
                    5,
                    6,
                    7,
                    8,
                    9,
                    10
                  ],
                  "y": [
                    0.08719018235913632,
                    0.07783738779436018,
                    0.04400262153320343,
                    0.03223722755048591,
                    0.03168164462293634,
                    0.03136355243052104,
                    0.031288208241300484,
                    0.028290880395837166,
                    0.027005904703447742,
                    0.02695302294906447
                  ]
                },
                {
                  "hovertext": "<b>Topic 21</b>:date_event_null_row_min_id_mar_rec",
                  "line": {
                    "color": "black",
                    "width": 1.5
                  },
                  "mode": "lines+lines",
                  "name": "",
                  "opacity": 0.1,
                  "type": "scatter",
                  "x": [
                    1,
                    2,
                    3,
                    4,
                    5,
                    6,
                    7,
                    8,
                    9,
                    10
                  ],
                  "y": [
                    0.09264947688954205,
                    0.047683669186809205,
                    0.041653562716991124,
                    0.0354706283595235,
                    0.030870133038086372,
                    0.028546315977703133,
                    0.02828217304585426,
                    0.0273933047880412,
                    0.02642722055821914,
                    0.025819443879017648
                  ]
                },
                {
                  "hovertext": "<b>Topic 22</b>:spark_scala_jdbc_apache_org_java_r",
                  "line": {
                    "color": "black",
                    "width": 1.5
                  },
                  "mode": "lines+lines",
                  "name": "",
                  "opacity": 0.1,
                  "type": "scatter",
                  "x": [
                    1,
                    2,
                    3,
                    4,
                    5,
                    6,
                    7,
                    8,
                    9,
                    10
                  ],
                  "y": [
                    0.13978402849883964,
                    0.08725125734647571,
                    0.06263055550459082,
                    0.057949798787274916,
                    0.03600406462391121,
                    0.032230223455944694,
                    0.0322279665688563,
                    0.03157378115440332,
                    0.03049709639177548,
                    0.028575942058896662
                  ]
                },
                {
                  "hovertext": "<b>Topic 23</b>:id_acct_cd_cc_pat_case_join_cont_c",
                  "line": {
                    "color": "black",
                    "width": 1.5
                  },
                  "mode": "lines+lines",
                  "name": "",
                  "opacity": 0.1,
                  "type": "scatter",
                  "x": [
                    1,
                    2,
                    3,
                    4,
                    5,
                    6,
                    7,
                    8,
                    9,
                    10
                  ],
                  "y": [
                    0.04993232176803865,
                    0.03867081357510378,
                    0.037253479595767906,
                    0.03170193637619508,
                    0.03106291439313345,
                    0.030819878039021635,
                    0.026875119514926736,
                    0.026309967033061588,
                    0.026091967687201317,
                    0.023686594670137062
                  ]
                },
                {
                  "hovertext": "<b>Topic 24</b>:config_snakemake_yaml_snakefile_ru",
                  "line": {
                    "color": "black",
                    "width": 1.5
                  },
                  "mode": "lines+lines",
                  "name": "",
                  "opacity": 0.1,
                  "type": "scatter",
                  "x": [
                    1,
                    2,
                    3,
                    4,
                    5,
                    6,
                    7,
                    8,
                    9,
                    10
                  ],
                  "y": [
                    0.06667813015017189,
                    0.03942920333248025,
                    0.03861696728972984,
                    0.026934045749794078,
                    0.02650226928935155,
                    0.024430059341643693,
                    0.021608449597706435,
                    0.02156608150855134,
                    0.01931601792260646,
                    0.018895283829622276
                  ]
                },
                {
                  "hovertext": "<b>Topic 25</b>:month_date_current_day_year_region",
                  "line": {
                    "color": "black",
                    "width": 1.5
                  },
                  "mode": "lines+lines",
                  "name": "",
                  "opacity": 0.1,
                  "type": "scatter",
                  "x": [
                    1,
                    2,
                    3,
                    4,
                    5,
                    6,
                    7,
                    8,
                    9,
                    10
                  ],
                  "y": [
                    0.19163503012088867,
                    0.1279494006979901,
                    0.0775867936388763,
                    0.05849593596222037,
                    0.04641030273694213,
                    0.04032907225752142,
                    0.036388662333647924,
                    0.035095574276946255,
                    0.035089150136667344,
                    0.03410027965001186
                  ]
                },
                {
                  "hovertext": "<b>Topic 26</b>:column_abc_john_string_comma_value",
                  "line": {
                    "color": "black",
                    "width": 1.5
                  },
                  "mode": "lines+lines",
                  "name": "",
                  "opacity": 0.1,
                  "type": "scatter",
                  "x": [
                    1,
                    2,
                    3,
                    4,
                    5,
                    6,
                    7,
                    8,
                    9,
                    10
                  ],
                  "y": [
                    0.05643336096427381,
                    0.037582737000327014,
                    0.037504668909824325,
                    0.03449019425134543,
                    0.030610967076148767,
                    0.028504167861275173,
                    0.027893703777143838,
                    0.027261472788677753,
                    0.02685506153881075,
                    0.022165014825985707
                  ]
                },
                {
                  "hovertext": "<b>Topic 27</b>:sqoop_java_hadoop_apache_hive_org_",
                  "line": {
                    "color": "black",
                    "width": 1.5
                  },
                  "mode": "lines+lines",
                  "name": "",
                  "opacity": 0.1,
                  "type": "scatter",
                  "x": [
                    1,
                    2,
                    3,
                    4,
                    5,
                    6,
                    7,
                    8,
                    9,
                    10
                  ],
                  "y": [
                    0.12268263828231003,
                    0.0740596742373363,
                    0.07245216381764753,
                    0.06765001604010451,
                    0.05952785851761042,
                    0.040633413345664296,
                    0.03918143406938316,
                    0.03619904131454441,
                    0.03513436362882252,
                    0.03164811049268962
                  ]
                },
                {
                  "hovertext": "<b>Topic 28</b>:teradata_data_database_bigquery_gc",
                  "line": {
                    "color": "black",
                    "width": 1.5
                  },
                  "mode": "lines+lines",
                  "name": "",
                  "opacity": 0.1,
                  "type": "scatter",
                  "x": [
                    1,
                    2,
                    3,
                    4,
                    5,
                    6,
                    7,
                    8,
                    9,
                    10
                  ],
                  "y": [
                    0.05733093757870807,
                    0.03368467384668534,
                    0.031044723761359198,
                    0.029466344811659946,
                    0.023235613540288285,
                    0.021582256601741193,
                    0.021106082925459884,
                    0.021057481300317246,
                    0.02038620883154897,
                    0.020089773408560233
                  ]
                },
                {
                  "hovertext": "<b>Topic 29</b>:count_sum_canada_total_jan_column_",
                  "line": {
                    "color": "black",
                    "width": 1.5
                  },
                  "mode": "lines+lines",
                  "name": "",
                  "opacity": 0.1,
                  "type": "scatter",
                  "x": [
                    1,
                    2,
                    3,
                    4,
                    5,
                    6,
                    7,
                    8,
                    9,
                    10
                  ],
                  "y": [
                    0.059005733452196285,
                    0.04343491413085731,
                    0.03641309843985058,
                    0.03483671002799089,
                    0.033346677687333334,
                    0.031406762053343244,
                    0.030970436267123792,
                    0.028250902401717657,
                    0.027432296765485444,
                    0.025775614848260766
                  ]
                },
                {
                  "hovertext": "<b>Topic 30</b>:argo_template_workflow_argoproj_wh",
                  "line": {
                    "color": "black",
                    "width": 1.5
                  },
                  "mode": "lines+lines",
                  "name": "",
                  "opacity": 0.1,
                  "type": "scatter",
                  "x": [
                    1,
                    2,
                    3,
                    4,
                    5,
                    6,
                    7,
                    8,
                    9,
                    10
                  ],
                  "y": [
                    0.14330265505257153,
                    0.07638767364950622,
                    0.06963802476624657,
                    0.06629929084439655,
                    0.046075280559502926,
                    0.04564896556779672,
                    0.041507036352553074,
                    0.03913176158954715,
                    0.03876199626033059,
                    0.0352032674896389
                  ]
                },
                {
                  "hovertext": "<b>Topic 31</b>:rapidminer_jboss_java_com_subsyste",
                  "line": {
                    "color": "black",
                    "width": 1.5
                  },
                  "mode": "lines+lines",
                  "name": "",
                  "opacity": 0.1,
                  "type": "scatter",
                  "x": [
                    1,
                    2,
                    3,
                    4,
                    5,
                    6,
                    7,
                    8,
                    9,
                    10
                  ],
                  "y": [
                    0.12428518807337562,
                    0.05264499409395449,
                    0.03707096139391486,
                    0.03644636082994707,
                    0.03507202806709018,
                    0.030347326889179745,
                    0.02965573199940225,
                    0.029568879278757322,
                    0.026829480473459177,
                    0.025453246611905914
                  ]
                },
                {
                  "hovertext": "<b>Topic 32</b>:meteor_galaxy_minifier_app_anonymo",
                  "line": {
                    "color": "black",
                    "width": 1.5
                  },
                  "mode": "lines+lines",
                  "name": "",
                  "opacity": 0.1,
                  "type": "scatter",
                  "x": [
                    1,
                    2,
                    3,
                    4,
                    5,
                    6,
                    7,
                    8,
                    9,
                    10
                  ],
                  "y": [
                    0.16332868938604683,
                    0.07277162095266407,
                    0.055717064933017556,
                    0.050291898503303276,
                    0.05006296442908401,
                    0.03991987299592622,
                    0.03543069372864329,
                    0.03469359018444125,
                    0.03393409413587019,
                    0.03328152601937399
                  ]
                },
                {
                  "hovertext": "<b>Topic 33</b>:update_table_jan_edw_column_cim_mb",
                  "line": {
                    "color": "black",
                    "width": 1.5
                  },
                  "mode": "lines+lines",
                  "name": "",
                  "opacity": 0.1,
                  "type": "scatter",
                  "x": [
                    1,
                    2,
                    3,
                    4,
                    5,
                    6,
                    7,
                    8,
                    9,
                    10
                  ],
                  "y": [
                    0.12168745776285302,
                    0.060886330655288444,
                    0.054881585555504986,
                    0.04489145451228383,
                    0.04201314069731248,
                    0.03814050200970285,
                    0.03111023737958452,
                    0.02783359831260062,
                    0.027255672015430905,
                    0.026879317995588656
                  ]
                },
                {
                  "hovertext": "<b>Topic 34</b>:knime_column_col_node_cell_row_val",
                  "line": {
                    "color": "black",
                    "width": 1.5
                  },
                  "mode": "lines+lines",
                  "name": "",
                  "opacity": 0.1,
                  "type": "scatter",
                  "x": [
                    1,
                    2,
                    3,
                    4,
                    5,
                    6,
                    7,
                    8,
                    9,
                    10
                  ],
                  "y": [
                    0.09939789729582069,
                    0.06865381649261602,
                    0.05760161036316747,
                    0.04048522525166499,
                    0.035261464037504034,
                    0.03373683735372709,
                    0.03250392762109223,
                    0.027066576363096482,
                    0.02558051440765563,
                    0.02479202297925131
                  ]
                },
                {
                  "hovertext": "<b>Topic 35</b>:date_format_mm_yyyy_dd_invalid_cas",
                  "line": {
                    "color": "black",
                    "width": 1.5
                  },
                  "mode": "lines+lines",
                  "name": "",
                  "opacity": 0.1,
                  "type": "scatter",
                  "x": [
                    1,
                    2,
                    3,
                    4,
                    5,
                    6,
                    7,
                    8,
                    9,
                    10
                  ],
                  "y": [
                    0.12504632654415332,
                    0.06660155113026069,
                    0.06046284336749053,
                    0.05654922666857737,
                    0.053134013868400776,
                    0.04409660096405147,
                    0.03913980795009237,
                    0.038489352579051506,
                    0.03686273472643432,
                    0.03356158445815777
                  ]
                },
                {
                  "hovertext": "<b>Topic 36</b>:view_grant_user_role_query_access_",
                  "line": {
                    "color": "black",
                    "width": 1.5
                  },
                  "mode": "lines+lines",
                  "name": "",
                  "opacity": 0.1,
                  "type": "scatter",
                  "x": [
                    1,
                    2,
                    3,
                    4,
                    5,
                    6,
                    7,
                    8,
                    9,
                    10
                  ],
                  "y": [
                    0.1677027320064622,
                    0.0673630118638887,
                    0.05737521423712765,
                    0.051626880745006785,
                    0.04859624784026373,
                    0.04848318600455169,
                    0.04815693653404692,
                    0.0411481827193281,
                    0.04023949863335412,
                    0.03750007822276107
                  ]
                },
                {
                  "hovertext": "<b>Topic 37</b>:df_dataframe_teradata_insert_udaex",
                  "line": {
                    "color": "black",
                    "width": 1.5
                  },
                  "mode": "lines+lines",
                  "name": "",
                  "opacity": 0.1,
                  "type": "scatter",
                  "x": [
                    1,
                    2,
                    3,
                    4,
                    5,
                    6,
                    7,
                    8,
                    9,
                    10
                  ],
                  "y": [
                    0.04607709620471298,
                    0.03424032816107668,
                    0.028510933216133114,
                    0.023311047917659224,
                    0.023203789356533448,
                    0.022952352678553306,
                    0.022248647438770426,
                    0.02171054780780876,
                    0.021693769999391953,
                    0.020625924912280026
                  ]
                },
                {
                  "hovertext": "<b>Topic 38</b>:week_agent_date_year_current_cust_",
                  "line": {
                    "color": "black",
                    "width": 1.5
                  },
                  "mode": "lines+lines",
                  "name": "",
                  "opacity": 0.1,
                  "type": "scatter",
                  "x": [
                    1,
                    2,
                    3,
                    4,
                    5,
                    6,
                    7,
                    8,
                    9,
                    10
                  ],
                  "y": [
                    0.24146645615272921,
                    0.1215129570070243,
                    0.08850920578378146,
                    0.04457153776491577,
                    0.034559398841303726,
                    0.034333442109322224,
                    0.03417596052382435,
                    0.028600881799699635,
                    0.02536905693745966,
                    0.02435210328344731
                  ]
                },
                {
                  "hovertext": "<b>Topic 39</b>:teradatasql_python_go_serial_gosql",
                  "line": {
                    "color": "black",
                    "width": 1.5
                  },
                  "mode": "lines+lines",
                  "name": "",
                  "opacity": 0.1,
                  "type": "scatter",
                  "x": [
                    1,
                    2,
                    3,
                    4,
                    5,
                    6,
                    7,
                    8,
                    9,
                    10
                  ],
                  "y": [
                    0.09742260188621206,
                    0.04771923028207783,
                    0.046363243718536264,
                    0.04260011679799288,
                    0.03988861123439713,
                    0.03743970734791374,
                    0.03555325523017406,
                    0.03514821760960099,
                    0.033356233576682895,
                    0.028921338953463844
                  ]
                },
                {
                  "hovertext": "<b>Topic 40</b>:pyodbc_odbc_driver_teradata_connec",
                  "line": {
                    "color": "black",
                    "width": 1.5
                  },
                  "mode": "lines+lines",
                  "name": "",
                  "opacity": 0.1,
                  "type": "scatter",
                  "x": [
                    1,
                    2,
                    3,
                    4,
                    5,
                    6,
                    7,
                    8,
                    9,
                    10
                  ],
                  "y": [
                    0.10506532801604031,
                    0.08837211592814989,
                    0.0719533289227991,
                    0.05666573781727137,
                    0.052822803302927795,
                    0.04892696408516369,
                    0.0434895074420446,
                    0.037766312885603,
                    0.03635349971030559,
                    0.03209753208379099
                  ]
                },
                {
                  "hovertext": "<b>Topic 41</b>:clustering_cluster_rapidminer_mean",
                  "line": {
                    "color": "black",
                    "width": 1.5
                  },
                  "mode": "lines+lines",
                  "name": "",
                  "opacity": 0.1,
                  "type": "scatter",
                  "x": [
                    1,
                    2,
                    3,
                    4,
                    5,
                    6,
                    7,
                    8,
                    9,
                    10
                  ],
                  "y": [
                    0.169159678258302,
                    0.11839714013257928,
                    0.08140156586053347,
                    0.07561392151344103,
                    0.0754011001949193,
                    0.055580947148950795,
                    0.05339650926729675,
                    0.04120748545973913,
                    0.03628784934268517,
                    0.035640795078566025
                  ]
                },
                {
                  "hovertext": "<b>Topic 42</b>:cuda_gpu_warp_kepler_myreg_nvidia_",
                  "line": {
                    "color": "black",
                    "width": 1.5
                  },
                  "mode": "lines+lines",
                  "name": "",
                  "opacity": 0.1,
                  "type": "scatter",
                  "x": [
                    1,
                    2,
                    3,
                    4,
                    5,
                    6,
                    7,
                    8,
                    9,
                    10
                  ],
                  "y": [
                    0.10647186663378788,
                    0.10513726527417155,
                    0.07297752028949882,
                    0.07285703776683514,
                    0.06692936789045577,
                    0.058174219171453004,
                    0.055769497147191524,
                    0.050069292955381345,
                    0.04803738946807536,
                    0.04380719386423815
                  ]
                },
                {
                  "hovertext": "<b>Topic 43</b>:timestamp_time_hour_difference_dif",
                  "line": {
                    "color": "black",
                    "width": 1.5
                  },
                  "mode": "lines+lines",
                  "name": "",
                  "opacity": 0.1,
                  "type": "scatter",
                  "x": [
                    1,
                    2,
                    3,
                    4,
                    5,
                    6,
                    7,
                    8,
                    9,
                    10
                  ],
                  "y": [
                    0.10326734563298001,
                    0.09454228634254261,
                    0.09190990864631234,
                    0.07444820435780845,
                    0.06831433531819375,
                    0.06307699154021201,
                    0.04881266022373011,
                    0.04613780264605348,
                    0.040875961524409254,
                    0.040851425384768096
                  ]
                },
                {
                  "hovertext": "<b>Topic 44</b>:decimal_cast_numeric_float_field_i",
                  "line": {
                    "color": "black",
                    "width": 1.5
                  },
                  "mode": "lines+lines",
                  "name": "",
                  "opacity": 0.1,
                  "type": "scatter",
                  "x": [
                    1,
                    2,
                    3,
                    4,
                    5,
                    6,
                    7,
                    8,
                    9,
                    10
                  ],
                  "y": [
                    0.20651151440375978,
                    0.1101452799698689,
                    0.045930410169301994,
                    0.04283086382565183,
                    0.04043994685373326,
                    0.03852838918324327,
                    0.03850236663448282,
                    0.03517294299489895,
                    0.033527910627597746,
                    0.03091046595560859
                  ]
                },
                {
                  "hovertext": "<b>Topic 45</b>:datum_query_teradata_contract_udf_",
                  "line": {
                    "color": "black",
                    "width": 1.5
                  },
                  "mode": "lines+lines",
                  "name": "",
                  "opacity": 0.1,
                  "type": "scatter",
                  "x": [
                    1,
                    2,
                    3,
                    4,
                    5,
                    6,
                    7,
                    8,
                    9,
                    10
                  ],
                  "y": [
                    0.040629590996279843,
                    0.04004222593811435,
                    0.03833574741708794,
                    0.03623428722893447,
                    0.03293037586758004,
                    0.03208822471158791,
                    0.0316738970518863,
                    0.03043858064393778,
                    0.028534311276562037,
                    0.028232127461002125
                  ]
                },
                {
                  "hovertext": "<b>Topic 46</b>:spool_amp_estimated_tmp_step_col_t",
                  "line": {
                    "color": "black",
                    "width": 1.5
                  },
                  "mode": "lines+lines",
                  "name": "",
                  "opacity": 0.1,
                  "type": "scatter",
                  "x": [
                    1,
                    2,
                    3,
                    4,
                    5,
                    6,
                    7,
                    8,
                    9,
                    10
                  ],
                  "y": [
                    0.11024705879214348,
                    0.08026675740087313,
                    0.06269298228491697,
                    0.05220475833160684,
                    0.04161578488110288,
                    0.03883057619963415,
                    0.03707359312704465,
                    0.036794458076059966,
                    0.03488869542445121,
                    0.03332246602034199
                  ]
                },
                {
                  "hovertext": "<b>Topic 47</b>:table_join_personid_col_union_dist",
                  "line": {
                    "color": "black",
                    "width": 1.5
                  },
                  "mode": "lines+lines",
                  "name": "",
                  "opacity": 0.1,
                  "type": "scatter",
                  "x": [
                    1,
                    2,
                    3,
                    4,
                    5,
                    6,
                    7,
                    8,
                    9,
                    10
                  ],
                  "y": [
                    0.0754236974025231,
                    0.05586358824056902,
                    0.05584228352940757,
                    0.054764403197731244,
                    0.054016287339456216,
                    0.04420376234409893,
                    0.04339046061216949,
                    0.034892486162060705,
                    0.03160188273206544,
                    0.03157381022409243
                  ]
                },
                {
                  "hovertext": "<b>Topic 48</b>:regexp_regex_substr_string_replace",
                  "line": {
                    "color": "black",
                    "width": 1.5
                  },
                  "mode": "lines+lines",
                  "name": "",
                  "opacity": 0.1,
                  "type": "scatter",
                  "x": [
                    1,
                    2,
                    3,
                    4,
                    5,
                    6,
                    7,
                    8,
                    9,
                    10
                  ],
                  "y": [
                    0.15448797090849112,
                    0.08572573217181696,
                    0.08224782383407266,
                    0.06870834517769239,
                    0.050643207488291896,
                    0.04698756139211343,
                    0.045208467452381995,
                    0.04094794451417181,
                    0.0356513587439764,
                    0.03442369207926473
                  ]
                },
                {
                  "hovertext": "<b>Topic 49</b>:value_id_pivot_trip_column_mytab_r",
                  "line": {
                    "color": "black",
                    "width": 1.5
                  },
                  "mode": "lines+lines",
                  "name": "",
                  "opacity": 0.1,
                  "type": "scatter",
                  "x": [
                    1,
                    2,
                    3,
                    4,
                    5,
                    6,
                    7,
                    8,
                    9,
                    10
                  ],
                  "y": [
                    0.0983464058264431,
                    0.08801798620439481,
                    0.07374256628928089,
                    0.057572089810024416,
                    0.05087126080439207,
                    0.0503673085654331,
                    0.04131679724418646,
                    0.03624109301123071,
                    0.03427395197431903,
                    0.032051923632548336
                  ]
                },
                {
                  "hovertext": "<b>Topic 50</b>:month_date_may_transaction_policy_",
                  "line": {
                    "color": "black",
                    "width": 1.5
                  },
                  "mode": "lines+lines",
                  "name": "",
                  "opacity": 0.1,
                  "type": "scatter",
                  "x": [
                    1,
                    2,
                    3,
                    4,
                    5,
                    6,
                    7,
                    8,
                    9,
                    10
                  ],
                  "y": [
                    0.12113293807357307,
                    0.07832293561245278,
                    0.07693904044372396,
                    0.06539102905001075,
                    0.058522567028587914,
                    0.04782498323310817,
                    0.04695509172170039,
                    0.03381565947405553,
                    0.03358640329647128,
                    0.03306220525786632
                  ]
                },
                {
                  "hovertext": "<b>Topic 51</b>:key_parameter_port_true_op_value_o",
                  "line": {
                    "color": "black",
                    "width": 1.5
                  },
                  "mode": "lines+lines",
                  "name": "",
                  "opacity": 0.1,
                  "type": "scatter",
                  "x": [
                    1,
                    2,
                    3,
                    4,
                    5,
                    6,
                    7,
                    8,
                    9,
                    10
                  ],
                  "y": [
                    0.11623568003266119,
                    0.10198086178569121,
                    0.10128331641405038,
                    0.07905508186837543,
                    0.07863646399007658,
                    0.07569132528652732,
                    0.064874536943084,
                    0.06052648689767976,
                    0.05187269737875483,
                    0.051411184501237155
                  ]
                },
                {
                  "hovertext": "<b>Topic 52</b>:cmc_dw_view_table_id_query_engmnt_",
                  "line": {
                    "color": "black",
                    "width": 1.5
                  },
                  "mode": "lines+lines",
                  "name": "",
                  "opacity": 0.1,
                  "type": "scatter",
                  "x": [
                    1,
                    2,
                    3,
                    4,
                    5,
                    6,
                    7,
                    8,
                    9,
                    10
                  ],
                  "y": [
                    0.07879285302918318,
                    0.046044584691673086,
                    0.04325374170495232,
                    0.04031351794144032,
                    0.038503921076651855,
                    0.03749457763019506,
                    0.036932880105295655,
                    0.03652756150025878,
                    0.03584026061823662,
                    0.03546585256245321
                  ]
                },
                {
                  "hovertext": "<b>Topic 53</b>:identity_increment_generated_colum",
                  "line": {
                    "color": "black",
                    "width": 1.5
                  },
                  "mode": "lines+lines",
                  "name": "",
                  "opacity": 0.1,
                  "type": "scatter",
                  "x": [
                    1,
                    2,
                    3,
                    4,
                    5,
                    6,
                    7,
                    8,
                    9,
                    10
                  ],
                  "y": [
                    0.12456536176819974,
                    0.08991730637903492,
                    0.062330952762588425,
                    0.05583011887390391,
                    0.05318335840124723,
                    0.05166638591033438,
                    0.048187252267831306,
                    0.044792384331585576,
                    0.04269354190115304,
                    0.041523769131742966
                  ]
                },
                {
                  "hovertext": "<b>Topic 54</b>:rank_ranking_partition_dense_id_or",
                  "line": {
                    "color": "black",
                    "width": 1.5
                  },
                  "mode": "lines+lines",
                  "name": "",
                  "opacity": 0.1,
                  "type": "scatter",
                  "x": [
                    1,
                    2,
                    3,
                    4,
                    5,
                    6,
                    7,
                    8,
                    9,
                    10
                  ],
                  "y": [
                    0.09541753218524872,
                    0.0518169440549401,
                    0.046596101918794326,
                    0.04570200516676074,
                    0.04003213178970892,
                    0.03959684797609681,
                    0.03702798048506317,
                    0.03211013815262422,
                    0.0313270451170596,
                    0.030856927686914344
                  ]
                },
                {
                  "hovertext": "<b>Topic 55</b>:country_amount_year_plot_seaborn_s",
                  "line": {
                    "color": "black",
                    "width": 1.5
                  },
                  "mode": "lines+lines",
                  "name": "",
                  "opacity": 0.1,
                  "type": "scatter",
                  "x": [
                    1,
                    2,
                    3,
                    4,
                    5,
                    6,
                    7,
                    8,
                    9,
                    10
                  ],
                  "y": [
                    0.12807219268709286,
                    0.09549546745480578,
                    0.08966632049715052,
                    0.0763212704310712,
                    0.05665456507731477,
                    0.05180272781640629,
                    0.043347391814521095,
                    0.042845867359126315,
                    0.03869733302655795,
                    0.03676650617875835
                  ]
                },
                {
                  "hovertext": "<b>Topic 56</b>:snakemake_job_raven_test_txt_rule_",
                  "line": {
                    "color": "black",
                    "width": 1.5
                  },
                  "mode": "lines+lines",
                  "name": "",
                  "opacity": 0.1,
                  "type": "scatter",
                  "x": [
                    1,
                    2,
                    3,
                    4,
                    5,
                    6,
                    7,
                    8,
                    9,
                    10
                  ],
                  "y": [
                    0.045234273586474597,
                    0.04182075870729247,
                    0.029562049541299748,
                    0.028762926263999494,
                    0.0275148656630146,
                    0.02623186681915708,
                    0.020412165746020786,
                    0.019210972749102356,
                    0.0191493920032724,
                    0.018965670389442506
                  ]
                },
                {
                  "hovertext": "<b>Topic 57</b>:fastqc_sample_html_calling_replica",
                  "line": {
                    "color": "black",
                    "width": 1.5
                  },
                  "mode": "lines+lines",
                  "name": "",
                  "opacity": 0.1,
                  "type": "scatter",
                  "x": [
                    1,
                    2,
                    3,
                    4,
                    5,
                    6,
                    7,
                    8,
                    9,
                    10
                  ],
                  "y": [
                    0.07860705957786475,
                    0.047382822416107646,
                    0.04454109423461908,
                    0.034927267533377396,
                    0.02796314073694367,
                    0.026004381960573295,
                    0.025095220656169665,
                    0.021252825932008387,
                    0.021161295692822237,
                    0.02100232799471418
                  ]
                },
                {
                  "hovertext": "<b>Topic 58</b>:bacteria_acid_na_eic_pathway_aceta",
                  "line": {
                    "color": "black",
                    "width": 1.5
                  },
                  "mode": "lines+lines",
                  "name": "",
                  "opacity": 0.1,
                  "type": "scatter",
                  "x": [
                    1,
                    2,
                    3,
                    4,
                    5,
                    6,
                    7,
                    8,
                    9,
                    10
                  ],
                  "y": [
                    0.09598278753900583,
                    0.051524504718313664,
                    0.045276553401896555,
                    0.04234734459293437,
                    0.041071865253112724,
                    0.03930232048187971,
                    0.03619005487472474,
                    0.03555892206477518,
                    0.03428747050215862,
                    0.03414864442274515
                  ]
                },
                {
                  "hovertext": "<b>Topic 59</b>:volatile_table_create_temporary_pr",
                  "line": {
                    "color": "black",
                    "width": 1.5
                  },
                  "mode": "lines+lines",
                  "name": "",
                  "opacity": 0.1,
                  "type": "scatter",
                  "x": [
                    1,
                    2,
                    3,
                    4,
                    5,
                    6,
                    7,
                    8,
                    9,
                    10
                  ],
                  "y": [
                    0.20021095577452863,
                    0.09404467960003748,
                    0.06217851488018173,
                    0.04732273933100073,
                    0.0444452352489038,
                    0.04096259282277464,
                    0.0378893984918899,
                    0.03663515236827938,
                    0.03663515236827938,
                    0.03651209651155318
                  ]
                },
                {
                  "hovertext": "<b>Topic 60</b>:sqlalchemy_engine_teradata_user_pa",
                  "line": {
                    "color": "black",
                    "width": 1.5
                  },
                  "mode": "lines+lines",
                  "name": "",
                  "opacity": 0.1,
                  "type": "scatter",
                  "x": [
                    1,
                    2,
                    3,
                    4,
                    5,
                    6,
                    7,
                    8,
                    9,
                    10
                  ],
                  "y": [
                    0.141329430258769,
                    0.09878803992501564,
                    0.05218758322346705,
                    0.03903312578096961,
                    0.03794318791494543,
                    0.03191969587980824,
                    0.03128916922007865,
                    0.03126953101772477,
                    0.030060814296673604,
                    0.030018789881012465
                  ]
                },
                {
                  "hovertext": "<b>Topic 61</b>:kafka_trident_spout_internals_stor",
                  "line": {
                    "color": "black",
                    "width": 1.5
                  },
                  "mode": "lines+lines",
                  "name": "",
                  "opacity": 0.1,
                  "type": "scatter",
                  "x": [
                    1,
                    2,
                    3,
                    4,
                    5,
                    6,
                    7,
                    8,
                    9,
                    10
                  ],
                  "y": [
                    0.1283274310599428,
                    0.12073336322977163,
                    0.1056881109294076,
                    0.0917720960514387,
                    0.08891359248054612,
                    0.08698847538424745,
                    0.06766154730027019,
                    0.06599125718804978,
                    0.06136577989462029,
                    0.04991560542554993
                  ]
                },
                {
                  "hovertext": "<b>Topic 62</b>:column_table_dbc_append_check_rsmd",
                  "line": {
                    "color": "black",
                    "width": 1.5
                  },
                  "mode": "lines+lines",
                  "name": "",
                  "opacity": 0.1,
                  "type": "scatter",
                  "x": [
                    1,
                    2,
                    3,
                    4,
                    5,
                    6,
                    7,
                    8,
                    9,
                    10
                  ],
                  "y": [
                    0.08622426981707096,
                    0.07620179762463941,
                    0.0683043290711338,
                    0.0521432296712029,
                    0.04730561895468233,
                    0.04276573117214799,
                    0.0417088039318819,
                    0.04139234489000169,
                    0.04015078536419051,
                    0.03903509420660425
                  ]
                },
                {
                  "hovertext": "<b>Topic 63</b>:primary_index_col_table_query_amp_",
                  "line": {
                    "color": "black",
                    "width": 1.5
                  },
                  "mode": "lines+lines",
                  "name": "",
                  "opacity": 0.1,
                  "type": "scatter",
                  "x": [
                    1,
                    2,
                    3,
                    4,
                    5,
                    6,
                    7,
                    8,
                    9,
                    10
                  ],
                  "y": [
                    0.07578523264889893,
                    0.06300415518564725,
                    0.051266185202466605,
                    0.04747732481113856,
                    0.04565150131643574,
                    0.0384915050965832,
                    0.036102801035929506,
                    0.033820419354594865,
                    0.033676705659566146,
                    0.03262309331079003
                  ]
                },
                {
                  "hovertext": "<b>Topic 64</b>:log_rule_script_snakemake_flaky_sa",
                  "line": {
                    "color": "black",
                    "width": 1.5
                  },
                  "mode": "lines+lines",
                  "name": "",
                  "opacity": 0.1,
                  "type": "scatter",
                  "x": [
                    1,
                    2,
                    3,
                    4,
                    5,
                    6,
                    7,
                    8,
                    9,
                    10
                  ],
                  "y": [
                    0.13882449051101797,
                    0.04529014601993764,
                    0.036730502126691766,
                    0.035033813505065445,
                    0.034588044840064135,
                    0.034154951357533665,
                    0.03287492820913849,
                    0.03189490684685962,
                    0.03031222084852273,
                    0.028148085926344584
                  ]
                },
                {
                  "hovertext": "<b>Topic 65</b>:checkpoint_barcode_folder_wildcard",
                  "line": {
                    "color": "black",
                    "width": 1.5
                  },
                  "mode": "lines+lines",
                  "name": "",
                  "opacity": 0.1,
                  "type": "scatter",
                  "x": [
                    1,
                    2,
                    3,
                    4,
                    5,
                    6,
                    7,
                    8,
                    9,
                    10
                  ],
                  "y": [
                    0.09309547823952229,
                    0.08461204299441324,
                    0.0557975346723581,
                    0.04739578397757847,
                    0.04446230882317059,
                    0.03622801297681662,
                    0.03599540051777832,
                    0.032224732075645454,
                    0.029600790136444746,
                    0.029229251792688378
                  ]
                },
                {
                  "hovertext": "<b>Topic 66</b>:easybuild_gcccore_luke_turbo_libjp",
                  "line": {
                    "color": "black",
                    "width": 1.5
                  },
                  "mode": "lines+lines",
                  "name": "",
                  "opacity": 0.1,
                  "type": "scatter",
                  "x": [
                    1,
                    2,
                    3,
                    4,
                    5,
                    6,
                    7,
                    8,
                    9,
                    10
                  ],
                  "y": [
                    0.18673348320888505,
                    0.1311754943916567,
                    0.11527281849097179,
                    0.09195589191964335,
                    0.09132956028132956,
                    0.0797067906806315,
                    0.07425259816383878,
                    0.07226451872283982,
                    0.06176227542619452,
                    0.0606606493902611
                  ]
                },
                {
                  "hovertext": "<b>Topic 67</b>:ftp_remote_err_download_sftp_ftput",
                  "line": {
                    "color": "black",
                    "width": 1.5
                  },
                  "mode": "lines+lines",
                  "name": "",
                  "opacity": 0.1,
                  "type": "scatter",
                  "x": [
                    1,
                    2,
                    3,
                    4,
                    5,
                    6,
                    7,
                    8,
                    9,
                    10
                  ],
                  "y": [
                    0.07911761392165381,
                    0.060040788400156066,
                    0.04506450878924894,
                    0.040323185246080556,
                    0.03326662115428969,
                    0.03258671852279203,
                    0.032155081308192786,
                    0.03054419273835096,
                    0.030035307804793517,
                    0.02763555873754921
                  ]
                },
                {
                  "hovertext": "<b>Topic 68</b>:pyhd_ed_sam_ab_uniquemap_parsed_sa",
                  "line": {
                    "color": "black",
                    "width": 1.5
                  },
                  "mode": "lines+lines",
                  "name": "",
                  "opacity": 0.1,
                  "type": "scatter",
                  "x": [
                    1,
                    2,
                    3,
                    4,
                    5,
                    6,
                    7,
                    8,
                    9,
                    10
                  ],
                  "y": [
                    0.0471878296969751,
                    0.04486353539082799,
                    0.038397800728570124,
                    0.03828968312306626,
                    0.03367312926935749,
                    0.03351314955887651,
                    0.03307988393796378,
                    0.03211184007244557,
                    0.02895418834783947,
                    0.0289459733390509
                  ]
                },
                {
                  "hovertext": "<b>Topic 69</b>:xpath_ul_li_span_rapidminer_crawl_",
                  "line": {
                    "color": "black",
                    "width": 1.5
                  },
                  "mode": "lines+lines",
                  "name": "",
                  "opacity": 0.1,
                  "type": "scatter",
                  "x": [
                    1,
                    2,
                    3,
                    4,
                    5,
                    6,
                    7,
                    8,
                    9,
                    10
                  ],
                  "y": [
                    0.10913862702459129,
                    0.10640986571107101,
                    0.09676252137501008,
                    0.09109897194789929,
                    0.06806060992992602,
                    0.053439083288913725,
                    0.05317465860170779,
                    0.04565979190887747,
                    0.04518217848580198,
                    0.04436343306424686
                  ]
                },
                {
                  "hovertext": "<b>Topic 70</b>:json_price_category_company_materi",
                  "line": {
                    "color": "black",
                    "width": 1.5
                  },
                  "mode": "lines+lines",
                  "name": "",
                  "opacity": 0.1,
                  "type": "scatter",
                  "x": [
                    1,
                    2,
                    3,
                    4,
                    5,
                    6,
                    7,
                    8,
                    9,
                    10
                  ],
                  "y": [
                    0.19737096519075092,
                    0.07377700876634964,
                    0.04722599637187315,
                    0.04516870315944903,
                    0.04439911899675606,
                    0.043945769300218464,
                    0.043945769300218464,
                    0.043043296018650964,
                    0.03617512191616628,
                    0.03617512191616628
                  ]
                },
                {
                  "hovertext": "<b>Topic 71</b>:rcv_case_accno_bfv_validation_else",
                  "line": {
                    "color": "black",
                    "width": 1.5
                  },
                  "mode": "lines+lines",
                  "name": "",
                  "opacity": 0.1,
                  "type": "scatter",
                  "x": [
                    1,
                    2,
                    3,
                    4,
                    5,
                    6,
                    7,
                    8,
                    9,
                    10
                  ],
                  "y": [
                    0.09883371653412755,
                    0.09483793309421246,
                    0.08210068630384436,
                    0.0810681497863526,
                    0.07148159450844213,
                    0.056817601187263145,
                    0.05425210462329634,
                    0.049416858267063775,
                    0.0470302866034543,
                    0.04620749835371862
                  ]
                },
                {
                  "hovertext": "<b>Topic 72</b>:aa_random_sequence_scratch_lowest_",
                  "line": {
                    "color": "black",
                    "width": 1.5
                  },
                  "mode": "lines+lines",
                  "name": "",
                  "opacity": 0.1,
                  "type": "scatter",
                  "x": [
                    1,
                    2,
                    3,
                    4,
                    5,
                    6,
                    7,
                    8,
                    9,
                    10
                  ],
                  "y": [
                    0.19324459222515075,
                    0.16261558401480053,
                    0.06546131937525801,
                    0.06128148721648474,
                    0.05633243996391759,
                    0.05290809274661237,
                    0.04345605535657148,
                    0.03895926914404468,
                    0.036236093339740545,
                    0.036184997232493125
                  ]
                },
                {
                  "hovertext": "<b>Topic 73</b>:covalent_template_angular_span_ng_",
                  "line": {
                    "color": "black",
                    "width": 1.5
                  },
                  "mode": "lines+lines",
                  "name": "",
                  "opacity": 0.1,
                  "type": "scatter",
                  "x": [
                    1,
                    2,
                    3,
                    4,
                    5,
                    6,
                    7,
                    8,
                    9,
                    10
                  ],
                  "y": [
                    0.16726545530448686,
                    0.11119468143898191,
                    0.09957655562334007,
                    0.09909271493599259,
                    0.09067431853225229,
                    0.07348105181817524,
                    0.0630086240879866,
                    0.059155182552022116,
                    0.054231628655660245,
                    0.04998660986884747
                  ]
                },
                {
                  "hovertext": "<b>Topic 74</b>:gpus_localrules_job_cluster_rule_p",
                  "line": {
                    "color": "black",
                    "width": 1.5
                  },
                  "mode": "lines+lines",
                  "name": "",
                  "opacity": 0.1,
                  "type": "scatter",
                  "x": [
                    1,
                    2,
                    3,
                    4,
                    5,
                    6,
                    7,
                    8,
                    9,
                    10
                  ],
                  "y": [
                    0.08569290403614431,
                    0.08415130511766437,
                    0.08070822620120317,
                    0.07541452862377386,
                    0.06848400907861688,
                    0.057904312037582506,
                    0.04933778017908929,
                    0.04612327601575859,
                    0.04216064117130966,
                    0.04061636514769132
                  ]
                },
                {
                  "hovertext": "<b>Topic 75</b>:character_remove_oreplace_space_sy",
                  "line": {
                    "color": "black",
                    "width": 1.5
                  },
                  "mode": "lines+lines",
                  "name": "",
                  "opacity": 0.1,
                  "type": "scatter",
                  "x": [
                    1,
                    2,
                    3,
                    4,
                    5,
                    6,
                    7,
                    8,
                    9,
                    10
                  ],
                  "y": [
                    0.1488296313308821,
                    0.1113222405767666,
                    0.09921254104554082,
                    0.08237279757240348,
                    0.08022634632547257,
                    0.07917606286256947,
                    0.0726695835128241,
                    0.07108307499451083,
                    0.06685156832352239,
                    0.0639486091778418
                  ]
                },
                {
                  "hovertext": "<b>Topic 76</b>:search_ach_string_regexp_column_pa",
                  "line": {
                    "color": "black",
                    "width": 1.5
                  },
                  "mode": "lines+lines",
                  "name": "",
                  "opacity": 0.1,
                  "type": "scatter",
                  "x": [
                    1,
                    2,
                    3,
                    4,
                    5,
                    6,
                    7,
                    8,
                    9,
                    10
                  ],
                  "y": [
                    0.09709368555063429,
                    0.08040726131665062,
                    0.0741283957401055,
                    0.06970034506511019,
                    0.06722320988640706,
                    0.06464691848366795,
                    0.0624383278542765,
                    0.06096127224735955,
                    0.04943745210384035,
                    0.0469083797158364
                  ]
                },
                {
                  "hovertext": "<b>Topic 77</b>:character_untranslatable_unicode_t",
                  "line": {
                    "color": "black",
                    "width": 1.5
                  },
                  "mode": "lines+lines",
                  "name": "",
                  "opacity": 0.1,
                  "type": "scatter",
                  "x": [
                    1,
                    2,
                    3,
                    4,
                    5,
                    6,
                    7,
                    8,
                    9,
                    10
                  ],
                  "y": [
                    0.20667552319581478,
                    0.15863728665429708,
                    0.15766045679349208,
                    0.12435761064258746,
                    0.10400106832193774,
                    0.07880913483424563,
                    0.0747512642905352,
                    0.06148567556599855,
                    0.059666909521135826,
                    0.056392869710969344
                  ]
                },
                {
                  "hovertext": "<b>Topic 78</b>:ldsc_cctyper_fimo_samea_isolate_su",
                  "line": {
                    "color": "black",
                    "width": 1.5
                  },
                  "mode": "lines+lines",
                  "name": "",
                  "opacity": 0.1,
                  "type": "scatter",
                  "x": [
                    1,
                    2,
                    3,
                    4,
                    5,
                    6,
                    7,
                    8,
                    9,
                    10
                  ],
                  "y": [
                    0.07806454030645982,
                    0.07290106719090954,
                    0.07290106719090954,
                    0.06379406944381427,
                    0.051365274867921334,
                    0.05112847950560854,
                    0.04955165942732889,
                    0.04580346751347183,
                    0.04482235756515087,
                    0.04482235756515087
                  ]
                },
                {
                  "hovertext": "<b>Topic 79</b>:adodb_dim_cmdsqldata_recordset_vba",
                  "line": {
                    "color": "black",
                    "width": 1.5
                  },
                  "mode": "lines+lines",
                  "name": "",
                  "opacity": 0.1,
                  "type": "scatter",
                  "x": [
                    1,
                    2,
                    3,
                    4,
                    5,
                    6,
                    7,
                    8,
                    9,
                    10
                  ],
                  "y": [
                    0.10712454663640818,
                    0.09821142183485618,
                    0.08861586986421138,
                    0.0724369987198224,
                    0.0636218269185783,
                    0.06208885604556205,
                    0.05634688120921928,
                    0.048599155633615415,
                    0.045522952408621906,
                    0.03149525715465643
                  ]
                }
              ],
              "layout": {
                "height": 500,
                "hoverlabel": {
                  "bgcolor": "white",
                  "font": {
                    "family": "Rockwell",
                    "size": 16
                  }
                },
                "showlegend": false,
                "template": {
                  "data": {
                    "bar": [
                      {
                        "error_x": {
                          "color": "#2a3f5f"
                        },
                        "error_y": {
                          "color": "#2a3f5f"
                        },
                        "marker": {
                          "line": {
                            "color": "white",
                            "width": 0.5
                          },
                          "pattern": {
                            "fillmode": "overlay",
                            "size": 10,
                            "solidity": 0.2
                          }
                        },
                        "type": "bar"
                      }
                    ],
                    "barpolar": [
                      {
                        "marker": {
                          "line": {
                            "color": "white",
                            "width": 0.5
                          },
                          "pattern": {
                            "fillmode": "overlay",
                            "size": 10,
                            "solidity": 0.2
                          }
                        },
                        "type": "barpolar"
                      }
                    ],
                    "carpet": [
                      {
                        "aaxis": {
                          "endlinecolor": "#2a3f5f",
                          "gridcolor": "#C8D4E3",
                          "linecolor": "#C8D4E3",
                          "minorgridcolor": "#C8D4E3",
                          "startlinecolor": "#2a3f5f"
                        },
                        "baxis": {
                          "endlinecolor": "#2a3f5f",
                          "gridcolor": "#C8D4E3",
                          "linecolor": "#C8D4E3",
                          "minorgridcolor": "#C8D4E3",
                          "startlinecolor": "#2a3f5f"
                        },
                        "type": "carpet"
                      }
                    ],
                    "choropleth": [
                      {
                        "colorbar": {
                          "outlinewidth": 0,
                          "ticks": ""
                        },
                        "type": "choropleth"
                      }
                    ],
                    "contour": [
                      {
                        "colorbar": {
                          "outlinewidth": 0,
                          "ticks": ""
                        },
                        "colorscale": [
                          [
                            0,
                            "#0d0887"
                          ],
                          [
                            0.1111111111111111,
                            "#46039f"
                          ],
                          [
                            0.2222222222222222,
                            "#7201a8"
                          ],
                          [
                            0.3333333333333333,
                            "#9c179e"
                          ],
                          [
                            0.4444444444444444,
                            "#bd3786"
                          ],
                          [
                            0.5555555555555556,
                            "#d8576b"
                          ],
                          [
                            0.6666666666666666,
                            "#ed7953"
                          ],
                          [
                            0.7777777777777778,
                            "#fb9f3a"
                          ],
                          [
                            0.8888888888888888,
                            "#fdca26"
                          ],
                          [
                            1,
                            "#f0f921"
                          ]
                        ],
                        "type": "contour"
                      }
                    ],
                    "contourcarpet": [
                      {
                        "colorbar": {
                          "outlinewidth": 0,
                          "ticks": ""
                        },
                        "type": "contourcarpet"
                      }
                    ],
                    "heatmap": [
                      {
                        "colorbar": {
                          "outlinewidth": 0,
                          "ticks": ""
                        },
                        "colorscale": [
                          [
                            0,
                            "#0d0887"
                          ],
                          [
                            0.1111111111111111,
                            "#46039f"
                          ],
                          [
                            0.2222222222222222,
                            "#7201a8"
                          ],
                          [
                            0.3333333333333333,
                            "#9c179e"
                          ],
                          [
                            0.4444444444444444,
                            "#bd3786"
                          ],
                          [
                            0.5555555555555556,
                            "#d8576b"
                          ],
                          [
                            0.6666666666666666,
                            "#ed7953"
                          ],
                          [
                            0.7777777777777778,
                            "#fb9f3a"
                          ],
                          [
                            0.8888888888888888,
                            "#fdca26"
                          ],
                          [
                            1,
                            "#f0f921"
                          ]
                        ],
                        "type": "heatmap"
                      }
                    ],
                    "heatmapgl": [
                      {
                        "colorbar": {
                          "outlinewidth": 0,
                          "ticks": ""
                        },
                        "colorscale": [
                          [
                            0,
                            "#0d0887"
                          ],
                          [
                            0.1111111111111111,
                            "#46039f"
                          ],
                          [
                            0.2222222222222222,
                            "#7201a8"
                          ],
                          [
                            0.3333333333333333,
                            "#9c179e"
                          ],
                          [
                            0.4444444444444444,
                            "#bd3786"
                          ],
                          [
                            0.5555555555555556,
                            "#d8576b"
                          ],
                          [
                            0.6666666666666666,
                            "#ed7953"
                          ],
                          [
                            0.7777777777777778,
                            "#fb9f3a"
                          ],
                          [
                            0.8888888888888888,
                            "#fdca26"
                          ],
                          [
                            1,
                            "#f0f921"
                          ]
                        ],
                        "type": "heatmapgl"
                      }
                    ],
                    "histogram": [
                      {
                        "marker": {
                          "pattern": {
                            "fillmode": "overlay",
                            "size": 10,
                            "solidity": 0.2
                          }
                        },
                        "type": "histogram"
                      }
                    ],
                    "histogram2d": [
                      {
                        "colorbar": {
                          "outlinewidth": 0,
                          "ticks": ""
                        },
                        "colorscale": [
                          [
                            0,
                            "#0d0887"
                          ],
                          [
                            0.1111111111111111,
                            "#46039f"
                          ],
                          [
                            0.2222222222222222,
                            "#7201a8"
                          ],
                          [
                            0.3333333333333333,
                            "#9c179e"
                          ],
                          [
                            0.4444444444444444,
                            "#bd3786"
                          ],
                          [
                            0.5555555555555556,
                            "#d8576b"
                          ],
                          [
                            0.6666666666666666,
                            "#ed7953"
                          ],
                          [
                            0.7777777777777778,
                            "#fb9f3a"
                          ],
                          [
                            0.8888888888888888,
                            "#fdca26"
                          ],
                          [
                            1,
                            "#f0f921"
                          ]
                        ],
                        "type": "histogram2d"
                      }
                    ],
                    "histogram2dcontour": [
                      {
                        "colorbar": {
                          "outlinewidth": 0,
                          "ticks": ""
                        },
                        "colorscale": [
                          [
                            0,
                            "#0d0887"
                          ],
                          [
                            0.1111111111111111,
                            "#46039f"
                          ],
                          [
                            0.2222222222222222,
                            "#7201a8"
                          ],
                          [
                            0.3333333333333333,
                            "#9c179e"
                          ],
                          [
                            0.4444444444444444,
                            "#bd3786"
                          ],
                          [
                            0.5555555555555556,
                            "#d8576b"
                          ],
                          [
                            0.6666666666666666,
                            "#ed7953"
                          ],
                          [
                            0.7777777777777778,
                            "#fb9f3a"
                          ],
                          [
                            0.8888888888888888,
                            "#fdca26"
                          ],
                          [
                            1,
                            "#f0f921"
                          ]
                        ],
                        "type": "histogram2dcontour"
                      }
                    ],
                    "mesh3d": [
                      {
                        "colorbar": {
                          "outlinewidth": 0,
                          "ticks": ""
                        },
                        "type": "mesh3d"
                      }
                    ],
                    "parcoords": [
                      {
                        "line": {
                          "colorbar": {
                            "outlinewidth": 0,
                            "ticks": ""
                          }
                        },
                        "type": "parcoords"
                      }
                    ],
                    "pie": [
                      {
                        "automargin": true,
                        "type": "pie"
                      }
                    ],
                    "scatter": [
                      {
                        "fillpattern": {
                          "fillmode": "overlay",
                          "size": 10,
                          "solidity": 0.2
                        },
                        "type": "scatter"
                      }
                    ],
                    "scatter3d": [
                      {
                        "line": {
                          "colorbar": {
                            "outlinewidth": 0,
                            "ticks": ""
                          }
                        },
                        "marker": {
                          "colorbar": {
                            "outlinewidth": 0,
                            "ticks": ""
                          }
                        },
                        "type": "scatter3d"
                      }
                    ],
                    "scattercarpet": [
                      {
                        "marker": {
                          "colorbar": {
                            "outlinewidth": 0,
                            "ticks": ""
                          }
                        },
                        "type": "scattercarpet"
                      }
                    ],
                    "scattergeo": [
                      {
                        "marker": {
                          "colorbar": {
                            "outlinewidth": 0,
                            "ticks": ""
                          }
                        },
                        "type": "scattergeo"
                      }
                    ],
                    "scattergl": [
                      {
                        "marker": {
                          "colorbar": {
                            "outlinewidth": 0,
                            "ticks": ""
                          }
                        },
                        "type": "scattergl"
                      }
                    ],
                    "scattermapbox": [
                      {
                        "marker": {
                          "colorbar": {
                            "outlinewidth": 0,
                            "ticks": ""
                          }
                        },
                        "type": "scattermapbox"
                      }
                    ],
                    "scatterpolar": [
                      {
                        "marker": {
                          "colorbar": {
                            "outlinewidth": 0,
                            "ticks": ""
                          }
                        },
                        "type": "scatterpolar"
                      }
                    ],
                    "scatterpolargl": [
                      {
                        "marker": {
                          "colorbar": {
                            "outlinewidth": 0,
                            "ticks": ""
                          }
                        },
                        "type": "scatterpolargl"
                      }
                    ],
                    "scatterternary": [
                      {
                        "marker": {
                          "colorbar": {
                            "outlinewidth": 0,
                            "ticks": ""
                          }
                        },
                        "type": "scatterternary"
                      }
                    ],
                    "surface": [
                      {
                        "colorbar": {
                          "outlinewidth": 0,
                          "ticks": ""
                        },
                        "colorscale": [
                          [
                            0,
                            "#0d0887"
                          ],
                          [
                            0.1111111111111111,
                            "#46039f"
                          ],
                          [
                            0.2222222222222222,
                            "#7201a8"
                          ],
                          [
                            0.3333333333333333,
                            "#9c179e"
                          ],
                          [
                            0.4444444444444444,
                            "#bd3786"
                          ],
                          [
                            0.5555555555555556,
                            "#d8576b"
                          ],
                          [
                            0.6666666666666666,
                            "#ed7953"
                          ],
                          [
                            0.7777777777777778,
                            "#fb9f3a"
                          ],
                          [
                            0.8888888888888888,
                            "#fdca26"
                          ],
                          [
                            1,
                            "#f0f921"
                          ]
                        ],
                        "type": "surface"
                      }
                    ],
                    "table": [
                      {
                        "cells": {
                          "fill": {
                            "color": "#EBF0F8"
                          },
                          "line": {
                            "color": "white"
                          }
                        },
                        "header": {
                          "fill": {
                            "color": "#C8D4E3"
                          },
                          "line": {
                            "color": "white"
                          }
                        },
                        "type": "table"
                      }
                    ]
                  },
                  "layout": {
                    "annotationdefaults": {
                      "arrowcolor": "#2a3f5f",
                      "arrowhead": 0,
                      "arrowwidth": 1
                    },
                    "autotypenumbers": "strict",
                    "coloraxis": {
                      "colorbar": {
                        "outlinewidth": 0,
                        "ticks": ""
                      }
                    },
                    "colorscale": {
                      "diverging": [
                        [
                          0,
                          "#8e0152"
                        ],
                        [
                          0.1,
                          "#c51b7d"
                        ],
                        [
                          0.2,
                          "#de77ae"
                        ],
                        [
                          0.3,
                          "#f1b6da"
                        ],
                        [
                          0.4,
                          "#fde0ef"
                        ],
                        [
                          0.5,
                          "#f7f7f7"
                        ],
                        [
                          0.6,
                          "#e6f5d0"
                        ],
                        [
                          0.7,
                          "#b8e186"
                        ],
                        [
                          0.8,
                          "#7fbc41"
                        ],
                        [
                          0.9,
                          "#4d9221"
                        ],
                        [
                          1,
                          "#276419"
                        ]
                      ],
                      "sequential": [
                        [
                          0,
                          "#0d0887"
                        ],
                        [
                          0.1111111111111111,
                          "#46039f"
                        ],
                        [
                          0.2222222222222222,
                          "#7201a8"
                        ],
                        [
                          0.3333333333333333,
                          "#9c179e"
                        ],
                        [
                          0.4444444444444444,
                          "#bd3786"
                        ],
                        [
                          0.5555555555555556,
                          "#d8576b"
                        ],
                        [
                          0.6666666666666666,
                          "#ed7953"
                        ],
                        [
                          0.7777777777777778,
                          "#fb9f3a"
                        ],
                        [
                          0.8888888888888888,
                          "#fdca26"
                        ],
                        [
                          1,
                          "#f0f921"
                        ]
                      ],
                      "sequentialminus": [
                        [
                          0,
                          "#0d0887"
                        ],
                        [
                          0.1111111111111111,
                          "#46039f"
                        ],
                        [
                          0.2222222222222222,
                          "#7201a8"
                        ],
                        [
                          0.3333333333333333,
                          "#9c179e"
                        ],
                        [
                          0.4444444444444444,
                          "#bd3786"
                        ],
                        [
                          0.5555555555555556,
                          "#d8576b"
                        ],
                        [
                          0.6666666666666666,
                          "#ed7953"
                        ],
                        [
                          0.7777777777777778,
                          "#fb9f3a"
                        ],
                        [
                          0.8888888888888888,
                          "#fdca26"
                        ],
                        [
                          1,
                          "#f0f921"
                        ]
                      ]
                    },
                    "colorway": [
                      "#636efa",
                      "#EF553B",
                      "#00cc96",
                      "#ab63fa",
                      "#FFA15A",
                      "#19d3f3",
                      "#FF6692",
                      "#B6E880",
                      "#FF97FF",
                      "#FECB52"
                    ],
                    "font": {
                      "color": "#2a3f5f"
                    },
                    "geo": {
                      "bgcolor": "white",
                      "lakecolor": "white",
                      "landcolor": "white",
                      "showlakes": true,
                      "showland": true,
                      "subunitcolor": "#C8D4E3"
                    },
                    "hoverlabel": {
                      "align": "left"
                    },
                    "hovermode": "closest",
                    "mapbox": {
                      "style": "light"
                    },
                    "paper_bgcolor": "white",
                    "plot_bgcolor": "white",
                    "polar": {
                      "angularaxis": {
                        "gridcolor": "#EBF0F8",
                        "linecolor": "#EBF0F8",
                        "ticks": ""
                      },
                      "bgcolor": "white",
                      "radialaxis": {
                        "gridcolor": "#EBF0F8",
                        "linecolor": "#EBF0F8",
                        "ticks": ""
                      }
                    },
                    "scene": {
                      "xaxis": {
                        "backgroundcolor": "white",
                        "gridcolor": "#DFE8F3",
                        "gridwidth": 2,
                        "linecolor": "#EBF0F8",
                        "showbackground": true,
                        "ticks": "",
                        "zerolinecolor": "#EBF0F8"
                      },
                      "yaxis": {
                        "backgroundcolor": "white",
                        "gridcolor": "#DFE8F3",
                        "gridwidth": 2,
                        "linecolor": "#EBF0F8",
                        "showbackground": true,
                        "ticks": "",
                        "zerolinecolor": "#EBF0F8"
                      },
                      "zaxis": {
                        "backgroundcolor": "white",
                        "gridcolor": "#DFE8F3",
                        "gridwidth": 2,
                        "linecolor": "#EBF0F8",
                        "showbackground": true,
                        "ticks": "",
                        "zerolinecolor": "#EBF0F8"
                      }
                    },
                    "shapedefaults": {
                      "line": {
                        "color": "#2a3f5f"
                      }
                    },
                    "ternary": {
                      "aaxis": {
                        "gridcolor": "#DFE8F3",
                        "linecolor": "#A2B1C6",
                        "ticks": ""
                      },
                      "baxis": {
                        "gridcolor": "#DFE8F3",
                        "linecolor": "#A2B1C6",
                        "ticks": ""
                      },
                      "bgcolor": "white",
                      "caxis": {
                        "gridcolor": "#DFE8F3",
                        "linecolor": "#A2B1C6",
                        "ticks": ""
                      }
                    },
                    "title": {
                      "x": 0.05
                    },
                    "xaxis": {
                      "automargin": true,
                      "gridcolor": "#EBF0F8",
                      "linecolor": "#EBF0F8",
                      "ticks": "",
                      "title": {
                        "standoff": 15
                      },
                      "zerolinecolor": "#EBF0F8",
                      "zerolinewidth": 2
                    },
                    "yaxis": {
                      "automargin": true,
                      "gridcolor": "#EBF0F8",
                      "linecolor": "#EBF0F8",
                      "ticks": "",
                      "title": {
                        "standoff": 15
                      },
                      "zerolinecolor": "#EBF0F8",
                      "zerolinewidth": 2
                    }
                  }
                },
                "title": {
                  "font": {
                    "color": "Black",
                    "size": 22
                  },
                  "text": "<b>Term score decline per Topic</b>",
                  "x": 0.5,
                  "xanchor": "center",
                  "y": 0.9,
                  "yanchor": "top"
                },
                "width": 800,
                "xaxis": {
                  "dtick": 2,
                  "range": [
                    0,
                    10
                  ],
                  "tick0": 1,
                  "title": {
                    "text": "Term Rank"
                  }
                },
                "yaxis": {
                  "title": {
                    "text": "c-TF-IDF score"
                  }
                }
              }
            }
          },
          "metadata": {},
          "output_type": "display_data"
        }
      ],
      "source": [
        "# visualize term score decline\n",
        "model.visualize_term_rank()"
      ]
    },
    {
      "cell_type": "markdown",
      "metadata": {},
      "source": [
        "## Refine Model\n",
        "\n",
        "Our model has identified 36 different topics, which is a bit too many to be useful. We can refine the model by adjusting the parameters and retraining the model."
      ]
    }
  ],
  "metadata": {
    "accelerator": "GPU",
    "colab": {
      "include_colab_link": true,
      "provenance": [],
      "toc_visible": true
    },
    "gpuClass": "standard",
    "kernelspec": {
      "display_name": "Python 3",
      "name": "python3"
    },
    "language_info": {
      "codemirror_mode": {
        "name": "ipython",
        "version": 3
      },
      "file_extension": ".py",
      "mimetype": "text/x-python",
      "name": "python",
      "nbconvert_exporter": "python",
      "pygments_lexer": "ipython3",
      "version": "3.10.6"
    }
  },
  "nbformat": 4,
  "nbformat_minor": 0
}
