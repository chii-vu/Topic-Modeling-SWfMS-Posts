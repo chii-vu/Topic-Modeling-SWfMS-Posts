{
  "cells": [
    {
      "cell_type": "markdown",
      "metadata": {
        "id": "AXHLDxJdRzBi"
      },
      "source": [
        "# **Identifying Challenges Faced by Developers in Scientific Workflow Management Systems using BERTopic**"
      ]
    },
    {
      "cell_type": "markdown",
      "metadata": {},
      "source": [
        "This notebook uses BERTopic to identify challenges faced by developers in scientific workflow management systems using Stack Overflow posts and GitHub issues. The dataset used in this notebook is available at https://figshare.com/projects/SWsChallengesbySOandGitHub/172476."
      ]
    },
    {
      "cell_type": "markdown",
      "metadata": {},
      "source": [
        "## Installing Dependencies"
      ]
    },
    {
      "cell_type": "code",
      "execution_count": 2,
      "metadata": {
        "id": "SNa-KtKDRnus"
      },
      "outputs": [
        {
          "name": "stdout",
          "output_type": "stream",
          "text": [
            "Requirement already satisfied: pandas in ./BERTopicVenv/lib/python3.10/site-packages (2.0.3)\n",
            "Requirement already satisfied: bertopic in ./BERTopicVenv/lib/python3.10/site-packages (0.15.0)\n",
            "Requirement already satisfied: beautifulsoup4 in ./BERTopicVenv/lib/python3.10/site-packages (4.12.2)\n",
            "Requirement already satisfied: nltk in ./BERTopicVenv/lib/python3.10/site-packages (3.8.1)\n",
            "Requirement already satisfied: tzdata>=2022.1 in ./BERTopicVenv/lib/python3.10/site-packages (from pandas) (2023.3)\n",
            "Requirement already satisfied: python-dateutil>=2.8.2 in ./BERTopicVenv/lib/python3.10/site-packages (from pandas) (2.8.2)\n",
            "Requirement already satisfied: numpy>=1.21.0 in ./BERTopicVenv/lib/python3.10/site-packages (from pandas) (1.24.4)\n",
            "Requirement already satisfied: pytz>=2020.1 in ./BERTopicVenv/lib/python3.10/site-packages (from pandas) (2023.3)\n",
            "Requirement already satisfied: scikit-learn>=0.22.2.post1 in ./BERTopicVenv/lib/python3.10/site-packages (from bertopic) (1.3.0)\n",
            "Requirement already satisfied: hdbscan>=0.8.29 in ./BERTopicVenv/lib/python3.10/site-packages (from bertopic) (0.8.33)\n",
            "Requirement already satisfied: tqdm>=4.41.1 in ./BERTopicVenv/lib/python3.10/site-packages (from bertopic) (4.65.0)\n",
            "Requirement already satisfied: umap-learn>=0.5.0 in ./BERTopicVenv/lib/python3.10/site-packages (from bertopic) (0.5.3)\n",
            "Requirement already satisfied: plotly>=4.7.0 in ./BERTopicVenv/lib/python3.10/site-packages (from bertopic) (5.15.0)\n",
            "Requirement already satisfied: sentence-transformers>=0.4.1 in ./BERTopicVenv/lib/python3.10/site-packages (from bertopic) (2.2.2)\n",
            "Requirement already satisfied: soupsieve>1.2 in ./BERTopicVenv/lib/python3.10/site-packages (from beautifulsoup4) (2.4.1)\n",
            "Requirement already satisfied: regex>=2021.8.3 in ./BERTopicVenv/lib/python3.10/site-packages (from nltk) (2023.6.3)\n",
            "Requirement already satisfied: joblib in ./BERTopicVenv/lib/python3.10/site-packages (from nltk) (1.3.1)\n",
            "Requirement already satisfied: click in ./BERTopicVenv/lib/python3.10/site-packages (from nltk) (8.1.6)\n",
            "Requirement already satisfied: cython<3,>=0.27 in ./BERTopicVenv/lib/python3.10/site-packages (from hdbscan>=0.8.29->bertopic) (0.29.36)\n",
            "Requirement already satisfied: scipy>=1.0 in ./BERTopicVenv/lib/python3.10/site-packages (from hdbscan>=0.8.29->bertopic) (1.11.1)\n",
            "Requirement already satisfied: packaging in ./BERTopicVenv/lib/python3.10/site-packages (from plotly>=4.7.0->bertopic) (23.1)\n",
            "Requirement already satisfied: tenacity>=6.2.0 in ./BERTopicVenv/lib/python3.10/site-packages (from plotly>=4.7.0->bertopic) (8.2.2)\n",
            "Requirement already satisfied: six>=1.5 in ./BERTopicVenv/lib/python3.10/site-packages (from python-dateutil>=2.8.2->pandas) (1.16.0)\n",
            "Requirement already satisfied: threadpoolctl>=2.0.0 in ./BERTopicVenv/lib/python3.10/site-packages (from scikit-learn>=0.22.2.post1->bertopic) (3.2.0)\n",
            "Requirement already satisfied: huggingface-hub>=0.4.0 in ./BERTopicVenv/lib/python3.10/site-packages (from sentence-transformers>=0.4.1->bertopic) (0.16.4)\n",
            "Requirement already satisfied: sentencepiece in ./BERTopicVenv/lib/python3.10/site-packages (from sentence-transformers>=0.4.1->bertopic) (0.1.99)\n",
            "Requirement already satisfied: torch>=1.6.0 in ./BERTopicVenv/lib/python3.10/site-packages (from sentence-transformers>=0.4.1->bertopic) (2.0.1)\n",
            "Requirement already satisfied: torchvision in ./BERTopicVenv/lib/python3.10/site-packages (from sentence-transformers>=0.4.1->bertopic) (0.15.2)\n",
            "Requirement already satisfied: transformers<5.0.0,>=4.6.0 in ./BERTopicVenv/lib/python3.10/site-packages (from sentence-transformers>=0.4.1->bertopic) (4.31.0)\n",
            "Requirement already satisfied: pynndescent>=0.5 in ./BERTopicVenv/lib/python3.10/site-packages (from umap-learn>=0.5.0->bertopic) (0.5.10)\n",
            "Requirement already satisfied: numba>=0.49 in ./BERTopicVenv/lib/python3.10/site-packages (from umap-learn>=0.5.0->bertopic) (0.57.1)\n",
            "Requirement already satisfied: requests in ./BERTopicVenv/lib/python3.10/site-packages (from huggingface-hub>=0.4.0->sentence-transformers>=0.4.1->bertopic) (2.31.0)\n",
            "Requirement already satisfied: pyyaml>=5.1 in ./BERTopicVenv/lib/python3.10/site-packages (from huggingface-hub>=0.4.0->sentence-transformers>=0.4.1->bertopic) (6.0.1)\n",
            "Requirement already satisfied: fsspec in ./BERTopicVenv/lib/python3.10/site-packages (from huggingface-hub>=0.4.0->sentence-transformers>=0.4.1->bertopic) (2023.6.0)\n",
            "Requirement already satisfied: filelock in ./BERTopicVenv/lib/python3.10/site-packages (from huggingface-hub>=0.4.0->sentence-transformers>=0.4.1->bertopic) (3.12.2)\n",
            "Requirement already satisfied: typing-extensions>=3.7.4.3 in ./BERTopicVenv/lib/python3.10/site-packages (from huggingface-hub>=0.4.0->sentence-transformers>=0.4.1->bertopic) (4.7.1)\n",
            "Requirement already satisfied: llvmlite<0.41,>=0.40.0dev0 in ./BERTopicVenv/lib/python3.10/site-packages (from numba>=0.49->umap-learn>=0.5.0->bertopic) (0.40.1)\n",
            "Requirement already satisfied: nvidia-curand-cu11==10.2.10.91 in ./BERTopicVenv/lib/python3.10/site-packages (from torch>=1.6.0->sentence-transformers>=0.4.1->bertopic) (10.2.10.91)\n",
            "Requirement already satisfied: nvidia-cusparse-cu11==11.7.4.91 in ./BERTopicVenv/lib/python3.10/site-packages (from torch>=1.6.0->sentence-transformers>=0.4.1->bertopic) (11.7.4.91)\n",
            "Requirement already satisfied: triton==2.0.0 in ./BERTopicVenv/lib/python3.10/site-packages (from torch>=1.6.0->sentence-transformers>=0.4.1->bertopic) (2.0.0)\n",
            "Requirement already satisfied: sympy in ./BERTopicVenv/lib/python3.10/site-packages (from torch>=1.6.0->sentence-transformers>=0.4.1->bertopic) (1.12)\n",
            "Requirement already satisfied: nvidia-cuda-cupti-cu11==11.7.101 in ./BERTopicVenv/lib/python3.10/site-packages (from torch>=1.6.0->sentence-transformers>=0.4.1->bertopic) (11.7.101)\n",
            "Requirement already satisfied: nvidia-cusolver-cu11==11.4.0.1 in ./BERTopicVenv/lib/python3.10/site-packages (from torch>=1.6.0->sentence-transformers>=0.4.1->bertopic) (11.4.0.1)\n",
            "Requirement already satisfied: networkx in ./BERTopicVenv/lib/python3.10/site-packages (from torch>=1.6.0->sentence-transformers>=0.4.1->bertopic) (3.1)\n",
            "Requirement already satisfied: nvidia-cublas-cu11==11.10.3.66 in ./BERTopicVenv/lib/python3.10/site-packages (from torch>=1.6.0->sentence-transformers>=0.4.1->bertopic) (11.10.3.66)\n",
            "Requirement already satisfied: nvidia-cuda-runtime-cu11==11.7.99 in ./BERTopicVenv/lib/python3.10/site-packages (from torch>=1.6.0->sentence-transformers>=0.4.1->bertopic) (11.7.99)\n",
            "Requirement already satisfied: jinja2 in ./BERTopicVenv/lib/python3.10/site-packages (from torch>=1.6.0->sentence-transformers>=0.4.1->bertopic) (3.1.2)\n",
            "Requirement already satisfied: nvidia-cufft-cu11==10.9.0.58 in ./BERTopicVenv/lib/python3.10/site-packages (from torch>=1.6.0->sentence-transformers>=0.4.1->bertopic) (10.9.0.58)\n",
            "Requirement already satisfied: nvidia-nccl-cu11==2.14.3 in ./BERTopicVenv/lib/python3.10/site-packages (from torch>=1.6.0->sentence-transformers>=0.4.1->bertopic) (2.14.3)\n",
            "Requirement already satisfied: nvidia-cuda-nvrtc-cu11==11.7.99 in ./BERTopicVenv/lib/python3.10/site-packages (from torch>=1.6.0->sentence-transformers>=0.4.1->bertopic) (11.7.99)\n",
            "Requirement already satisfied: nvidia-cudnn-cu11==8.5.0.96 in ./BERTopicVenv/lib/python3.10/site-packages (from torch>=1.6.0->sentence-transformers>=0.4.1->bertopic) (8.5.0.96)\n",
            "Requirement already satisfied: nvidia-nvtx-cu11==11.7.91 in ./BERTopicVenv/lib/python3.10/site-packages (from torch>=1.6.0->sentence-transformers>=0.4.1->bertopic) (11.7.91)\n",
            "Requirement already satisfied: setuptools in ./BERTopicVenv/lib/python3.10/site-packages (from nvidia-cublas-cu11==11.10.3.66->torch>=1.6.0->sentence-transformers>=0.4.1->bertopic) (59.6.0)\n",
            "Requirement already satisfied: wheel in ./BERTopicVenv/lib/python3.10/site-packages (from nvidia-cublas-cu11==11.10.3.66->torch>=1.6.0->sentence-transformers>=0.4.1->bertopic) (0.41.0)\n",
            "Requirement already satisfied: lit in ./BERTopicVenv/lib/python3.10/site-packages (from triton==2.0.0->torch>=1.6.0->sentence-transformers>=0.4.1->bertopic) (16.0.6)\n",
            "Requirement already satisfied: cmake in ./BERTopicVenv/lib/python3.10/site-packages (from triton==2.0.0->torch>=1.6.0->sentence-transformers>=0.4.1->bertopic) (3.27.0)\n",
            "Requirement already satisfied: tokenizers!=0.11.3,<0.14,>=0.11.1 in ./BERTopicVenv/lib/python3.10/site-packages (from transformers<5.0.0,>=4.6.0->sentence-transformers>=0.4.1->bertopic) (0.13.3)\n",
            "Requirement already satisfied: safetensors>=0.3.1 in ./BERTopicVenv/lib/python3.10/site-packages (from transformers<5.0.0,>=4.6.0->sentence-transformers>=0.4.1->bertopic) (0.3.1)\n",
            "Requirement already satisfied: pillow!=8.3.*,>=5.3.0 in ./BERTopicVenv/lib/python3.10/site-packages (from torchvision->sentence-transformers>=0.4.1->bertopic) (10.0.0)\n",
            "Requirement already satisfied: MarkupSafe>=2.0 in ./BERTopicVenv/lib/python3.10/site-packages (from jinja2->torch>=1.6.0->sentence-transformers>=0.4.1->bertopic) (2.1.3)\n",
            "Requirement already satisfied: urllib3<3,>=1.21.1 in ./BERTopicVenv/lib/python3.10/site-packages (from requests->huggingface-hub>=0.4.0->sentence-transformers>=0.4.1->bertopic) (2.0.4)\n",
            "Requirement already satisfied: certifi>=2017.4.17 in ./BERTopicVenv/lib/python3.10/site-packages (from requests->huggingface-hub>=0.4.0->sentence-transformers>=0.4.1->bertopic) (2023.7.22)\n",
            "Requirement already satisfied: idna<4,>=2.5 in ./BERTopicVenv/lib/python3.10/site-packages (from requests->huggingface-hub>=0.4.0->sentence-transformers>=0.4.1->bertopic) (3.4)\n",
            "Requirement already satisfied: charset-normalizer<4,>=2 in ./BERTopicVenv/lib/python3.10/site-packages (from requests->huggingface-hub>=0.4.0->sentence-transformers>=0.4.1->bertopic) (3.2.0)\n",
            "Requirement already satisfied: mpmath>=0.19 in ./BERTopicVenv/lib/python3.10/site-packages (from sympy->torch>=1.6.0->sentence-transformers>=0.4.1->bertopic) (1.3.0)\n",
            "Note: you may need to restart the kernel to use updated packages.\n"
          ]
        }
      ],
      "source": [
        "%pip install pandas bertopic beautifulsoup4 nltk"
      ]
    },
    {
      "cell_type": "markdown",
      "metadata": {
        "id": "Y3VGFZ1USMTu"
      },
      "source": [
        "## Define functions to preprocess data"
      ]
    },
    {
      "cell_type": "code",
      "execution_count": 3,
      "metadata": {
        "id": "JJij3WP6SEQD"
      },
      "outputs": [
        {
          "name": "stderr",
          "output_type": "stream",
          "text": [
            "/home/dev/Topic-Modeling-SWfMS-Posts/BERTopicVenv/lib/python3.10/site-packages/umap/distances.py:1063: NumbaDeprecationWarning: The 'nopython' keyword argument was not supplied to the 'numba.jit' decorator. The implicit default value for this argument is currently False, but it will be changed to True in Numba 0.59.0. See https://numba.readthedocs.io/en/stable/reference/deprecation.html#deprecation-of-object-mode-fall-back-behaviour-when-using-jit for details.\n",
            "  @numba.jit()\n",
            "/home/dev/Topic-Modeling-SWfMS-Posts/BERTopicVenv/lib/python3.10/site-packages/umap/distances.py:1071: NumbaDeprecationWarning: The 'nopython' keyword argument was not supplied to the 'numba.jit' decorator. The implicit default value for this argument is currently False, but it will be changed to True in Numba 0.59.0. See https://numba.readthedocs.io/en/stable/reference/deprecation.html#deprecation-of-object-mode-fall-back-behaviour-when-using-jit for details.\n",
            "  @numba.jit()\n",
            "/home/dev/Topic-Modeling-SWfMS-Posts/BERTopicVenv/lib/python3.10/site-packages/umap/distances.py:1086: NumbaDeprecationWarning: The 'nopython' keyword argument was not supplied to the 'numba.jit' decorator. The implicit default value for this argument is currently False, but it will be changed to True in Numba 0.59.0. See https://numba.readthedocs.io/en/stable/reference/deprecation.html#deprecation-of-object-mode-fall-back-behaviour-when-using-jit for details.\n",
            "  @numba.jit()\n",
            "/home/dev/Topic-Modeling-SWfMS-Posts/BERTopicVenv/lib/python3.10/site-packages/tqdm/auto.py:21: TqdmWarning: IProgress not found. Please update jupyter and ipywidgets. See https://ipywidgets.readthedocs.io/en/stable/user_install.html\n",
            "  from .autonotebook import tqdm as notebook_tqdm\n",
            "/home/dev/Topic-Modeling-SWfMS-Posts/BERTopicVenv/lib/python3.10/site-packages/umap/umap_.py:660: NumbaDeprecationWarning: The 'nopython' keyword argument was not supplied to the 'numba.jit' decorator. The implicit default value for this argument is currently False, but it will be changed to True in Numba 0.59.0. See https://numba.readthedocs.io/en/stable/reference/deprecation.html#deprecation-of-object-mode-fall-back-behaviour-when-using-jit for details.\n",
            "  @numba.jit()\n",
            "[nltk_data] Downloading package stopwords to /home/dev/nltk_data...\n",
            "[nltk_data]   Package stopwords is already up-to-date!\n"
          ]
        }
      ],
      "source": [
        "import pandas as pd\n",
        "import re\n",
        "import nltk\n",
        "from bs4 import BeautifulSoup\n",
        "from bertopic import BERTopic\n",
        "\n",
        "# Download stopwords if not already available\n",
        "nltk.download('stopwords')\n",
        "from nltk.corpus import stopwords\n",
        "from nltk.stem import PorterStemmer\n",
        "\n",
        "def clean_text(text):\n",
        "    # Remove HTML tags\n",
        "    soup = BeautifulSoup(text, \"html.parser\")\n",
        "    text = soup.get_text()\n",
        "\n",
        "    # Remove non-alphanumeric characters and convert to lowercase\n",
        "    text = re.sub(r'[^A-Za-z]', ' ', text.lower())\n",
        "\n",
        "    # Remove extra whitespaces\n",
        "    text = re.sub(r'\\s+', ' ', text).strip()\n",
        "\n",
        "    return text\n",
        "\n",
        "def remove_stopwords_and_stem(text):\n",
        "    stop_words = set(stopwords.words('english'))\n",
        "    stemmer = PorterStemmer()\n",
        "    return \" \".join(stemmer.stem(word) for word in text.split() if word not in stop_words)\n",
        "\n",
        "def train_bertopic(data):\n",
        "    model = BERTopic(language=\"english\", calculate_probabilities=True)\n",
        "    topics, probabilities = model.fit_transform(data)\n",
        "    return model, topics, probabilities"
      ]
    },
    {
      "cell_type": "markdown",
      "metadata": {
        "id": "SBcNmZJzSTY8"
      },
      "source": [
        "## Import and Preprocess Data"
      ]
    },
    {
      "cell_type": "code",
      "execution_count": 4,
      "metadata": {},
      "outputs": [],
      "source": [
        "# Import the data\n",
        "try:\n",
        "    new_df = pd.read_csv('Dataset/StackOverflowPostsDataset.csv')\n",
        "    new_df[\"merged\"] = new_df[[\"Body\", \"Title\", \"Tags\"]].apply(\"-\".join, axis=1)\n",
        "except FileNotFoundError:\n",
        "    print(\"Dataset file not found. Please provide the correct file path.\")\n",
        "    exit(1)\n",
        "\n",
        "# Preprocess the data\n",
        "new_df[\"merged\"] = new_df[\"merged\"].apply(clean_text)\n",
        "new_df[\"processed\"] = new_df[\"merged\"].apply(remove_stopwords_and_stem)\n",
        "\n",
        "# Save the preprocessed data\n",
        "new_df.to_csv('Dataset/ConcatenatedDatasetSO.csv', index=False)"
      ]
    },
    {
      "cell_type": "markdown",
      "metadata": {
        "id": "QI6vwelqnTL-"
      },
      "source": [
        "## Building and training the model\n",
        "\n",
        "Instantiate the model and train it on the data. The model will automatically select the best topic based on the topic coherence. The higher the topic coherence, the better."
      ]
    },
    {
      "cell_type": "code",
      "execution_count": 5,
      "metadata": {
        "id": "TfhfzqkoSJ1I"
      },
      "outputs": [],
      "source": [
        "# Train BERTopic on processed data\n",
        "data = new_df[\"processed\"].values.tolist()\n",
        "model, topics, probabilities = train_bertopic(data)\n",
        "\n",
        "# Get topics and their top words\n",
        "topics_df = model.get_topic_freq()\n",
        "topics_df.head()\n",
        "\n",
        "# Save the BERTopic model\n",
        "model.save(\"bertopic_model\")"
      ]
    },
    {
      "cell_type": "markdown",
      "metadata": {
        "id": "A5O3KpHTnVpz"
      },
      "source": [
        "## Extracting Topics\n",
        "After fitting the model, we can extract the topics from the model. This will return the topics with their corresponding IDs, the dominant topic per sentence, and the frequency of each topic."
      ]
    },
    {
      "cell_type": "code",
      "execution_count": 6,
      "metadata": {
        "colab": {
          "base_uri": "https://localhost:8080/",
          "height": 195
        },
        "id": "ScBUgXn06IK6",
        "outputId": "ee49a346-8d12-41c4-c7e9-8c1b6782c636"
      },
      "outputs": [
        {
          "data": {
            "text/html": [
              "<div>\n",
              "<style scoped>\n",
              "    .dataframe tbody tr th:only-of-type {\n",
              "        vertical-align: middle;\n",
              "    }\n",
              "\n",
              "    .dataframe tbody tr th {\n",
              "        vertical-align: top;\n",
              "    }\n",
              "\n",
              "    .dataframe thead th {\n",
              "        text-align: right;\n",
              "    }\n",
              "</style>\n",
              "<table border=\"1\" class=\"dataframe\">\n",
              "  <thead>\n",
              "    <tr style=\"text-align: right;\">\n",
              "      <th></th>\n",
              "      <th>Topic</th>\n",
              "      <th>Count</th>\n",
              "      <th>Name</th>\n",
              "      <th>Representation</th>\n",
              "      <th>Representative_Docs</th>\n",
              "    </tr>\n",
              "  </thead>\n",
              "  <tbody>\n",
              "    <tr>\n",
              "      <th>0</th>\n",
              "      <td>-1</td>\n",
              "      <td>1743</td>\n",
              "      <td>-1_tabl_teradata_column_date</td>\n",
              "      <td>[tabl, teradata, column, date, valu, select, r...</td>\n",
              "      <td>[tri insert data teradata databas inform origi...</td>\n",
              "    </tr>\n",
              "    <tr>\n",
              "      <th>1</th>\n",
              "      <td>0</td>\n",
              "      <td>1418</td>\n",
              "      <td>0_sampl_rule_snakemak_input</td>\n",
              "      <td>[sampl, rule, snakemak, input, output, fastq, ...</td>\n",
              "      <td>[use snakemak first time order build basic pip...</td>\n",
              "    </tr>\n",
              "    <tr>\n",
              "      <th>2</th>\n",
              "      <td>1</td>\n",
              "      <td>424</td>\n",
              "      <td>1_eclips_org_java_intern</td>\n",
              "      <td>[eclips, org, java, intern, core, kepler, ui, ...</td>\n",
              "      <td>[follow instruct page http wiki eclips org faq...</td>\n",
              "    </tr>\n",
              "    <tr>\n",
              "      <th>3</th>\n",
              "      <td>2</td>\n",
              "      <td>369</td>\n",
              "      <td>2_monetdb_databas_tabl_monetdblit</td>\n",
              "      <td>[monetdb, databas, tabl, monetdblit, queri, da...</td>\n",
              "      <td>[tri point monetdb e regular monetdb databas d...</td>\n",
              "    </tr>\n",
              "    <tr>\n",
              "      <th>4</th>\n",
              "      <td>3</td>\n",
              "      <td>282</td>\n",
              "      <td>3_luigi_task_self_def</td>\n",
              "      <td>[luigi, task, self, def, worker, schedul, run,...</td>\n",
              "      <td>[write luigi workflow tri debug task order nee...</td>\n",
              "    </tr>\n",
              "  </tbody>\n",
              "</table>\n",
              "</div>"
            ],
            "text/plain": [
              "   Topic  Count                               Name  \\\n",
              "0     -1   1743       -1_tabl_teradata_column_date   \n",
              "1      0   1418        0_sampl_rule_snakemak_input   \n",
              "2      1    424           1_eclips_org_java_intern   \n",
              "3      2    369  2_monetdb_databas_tabl_monetdblit   \n",
              "4      3    282              3_luigi_task_self_def   \n",
              "\n",
              "                                      Representation  \\\n",
              "0  [tabl, teradata, column, date, valu, select, r...   \n",
              "1  [sampl, rule, snakemak, input, output, fastq, ...   \n",
              "2  [eclips, org, java, intern, core, kepler, ui, ...   \n",
              "3  [monetdb, databas, tabl, monetdblit, queri, da...   \n",
              "4  [luigi, task, self, def, worker, schedul, run,...   \n",
              "\n",
              "                                 Representative_Docs  \n",
              "0  [tri insert data teradata databas inform origi...  \n",
              "1  [use snakemak first time order build basic pip...  \n",
              "2  [follow instruct page http wiki eclips org faq...  \n",
              "3  [tri point monetdb e regular monetdb databas d...  \n",
              "4  [write luigi workflow tri debug task order nee...  "
            ]
          },
          "execution_count": 6,
          "metadata": {},
          "output_type": "execute_result"
        }
      ],
      "source": [
        "freq = model.get_topic_info(); freq.head(5)"
      ]
    },
    {
      "cell_type": "markdown",
      "metadata": {
        "id": "-BtOgifV7Q-H"
      },
      "source": [
        "-1 refers to all outliers that BERTopic was not able to assign a topic to. Next, look at the most frequent topics and their words to determine what the topic is about."
      ]
    },
    {
      "cell_type": "code",
      "execution_count": 7,
      "metadata": {
        "colab": {
          "base_uri": "https://localhost:8080/"
        },
        "id": "IVpvT4bA6KiN",
        "outputId": "9cf99b89-30bb-45fe-b98b-063f8f3624d9"
      },
      "outputs": [
        {
          "data": {
            "text/plain": [
              "[('sampl', 0.025954358806682017),\n",
              " ('rule', 0.025029765856126807),\n",
              " ('snakemak', 0.024574693683076358),\n",
              " ('input', 0.022470096178425023),\n",
              " ('output', 0.021433461071049365),\n",
              " ('fastq', 0.01844800934480876),\n",
              " ('file', 0.01822771646373419),\n",
              " ('wildcard', 0.01584424812195838),\n",
              " ('gz', 0.014985486045603914),\n",
              " ('config', 0.014697384993655065)]"
            ]
          },
          "execution_count": 7,
          "metadata": {},
          "output_type": "execute_result"
        }
      ],
      "source": [
        "model.get_topic(0)  # Select the most frequent topic"
      ]
    },
    {
      "cell_type": "markdown",
      "metadata": {
        "id": "j91cP3xBpWDM"
      },
      "source": [
        "## Assess trained model"
      ]
    },
    {
      "cell_type": "code",
      "execution_count": 8,
      "metadata": {
        "id": "uCMHaWVMpbo3"
      },
      "outputs": [
        {
          "data": {
            "text/plain": [
              "[-1, -1, 44, 38, 38, 13, -1, -1, 49, -1]"
            ]
          },
          "execution_count": 8,
          "metadata": {},
          "output_type": "execute_result"
        }
      ],
      "source": [
        "# assess predicted topics for first 10 posts\n",
        "model.topics_[:10]"
      ]
    },
    {
      "cell_type": "markdown",
      "metadata": {
        "id": "M8c8LenB8Zyl"
      },
      "source": [
        "## Visualize Topics\n",
        "After having trained our model, we can visualize the topics that were generated in a way very similar to LDAvis."
      ]
    },
    {
      "cell_type": "code",
      "execution_count": 9,
      "metadata": {
        "colab": {
          "base_uri": "https://localhost:8080/",
          "height": 667
        },
        "id": "S9qDqEHddgKq",
        "outputId": "3fddd5f1-194e-4708-a7dc-f0c5602c140a"
      },
      "outputs": [
        {
          "data": {
            "application/vnd.plotly.v1+json": {
              "config": {
                "plotlyServerURL": "https://plot.ly"
              },
              "data": [
                {
                  "customdata": [
                    [
                      0,
                      "sampl | rule | snakemak | input | output",
                      1418
                    ],
                    [
                      1,
                      "eclips | org | java | intern | core",
                      424
                    ],
                    [
                      2,
                      "monetdb | databas | tabl | monetdblit | queri",
                      369
                    ],
                    [
                      3,
                      "luigi | task | self | def | worker",
                      282
                    ],
                    [
                      4,
                      "nextflow | process | channel | debug | nf",
                      242
                    ],
                    [
                      5,
                      "odbc | teradata | connect | driver | python",
                      192
                    ],
                    [
                      6,
                      "docker | swarm | servic | network | node",
                      161
                    ],
                    [
                      7,
                      "timestamp | date | format | convert | mm",
                      160
                    ],
                    [
                      8,
                      "spool | id | amp | join | col",
                      110
                    ],
                    [
                      9,
                      "date | month | event | day | sum",
                      100
                    ],
                    [
                      10,
                      "teradata | connect | odbc | provid | client",
                      97
                    ],
                    [
                      11,
                      "model | rapidmin | train | predict | classifi",
                      72
                    ],
                    [
                      12,
                      "gl | kepler | keplergl | map | longitud",
                      70
                    ],
                    [
                      13,
                      "tabl | teradata | procedur | sa | select",
                      64
                    ],
                    [
                      14,
                      "airflow | dag | py | bitnami | python",
                      64
                    ],
                    [
                      15,
                      "ansibl | role | galaxi | instal | git",
                      55
                    ],
                    [
                      16,
                      "insert | tabl | increment | ident | teradata",
                      54
                    ],
                    [
                      17,
                      "procedur | store | begin | declar | alertrequest",
                      54
                    ],
                    [
                      18,
                      "regexp | regex | string | substr | abcdef",
                      52
                    ],
                    [
                      19,
                      "ansibl | role | galaxi | collect | instal",
                      52
                    ],
                    [
                      20,
                      "spark | scala | jdbc | apach | org",
                      51
                    ],
                    [
                      21,
                      "tabl | join | column | id | col",
                      49
                    ],
                    [
                      22,
                      "argo | templat | workflow | argoproj | whalesay",
                      46
                    ],
                    [
                      23,
                      "meteor | js | galaxi | minifi | app",
                      44
                    ],
                    [
                      24,
                      "month | date | current | day | year",
                      43
                    ],
                    [
                      25,
                      "sqoop | java | hadoop | apach | hive",
                      41
                    ],
                    [
                      26,
                      "rapidmin | java | repositori | oper | com",
                      40
                    ],
                    [
                      27,
                      "decim | cast | float | varchar | integ",
                      38
                    ],
                    [
                      28,
                      "export | excel | teradata | fastexport | column",
                      38
                    ],
                    [
                      29,
                      "jdbc | java | com | teradata | connect",
                      37
                    ],
                    [
                      30,
                      "cluster | rapidmin | mean | algorithm | centroid",
                      34
                    ],
                    [
                      31,
                      "gpu | cuda | warp | kepler | nvidia",
                      32
                    ],
                    [
                      32,
                      "teradata | databas | ssm | sql | server",
                      32
                    ],
                    [
                      33,
                      "week | date | oo | day | dte",
                      31
                    ],
                    [
                      34,
                      "plot | meanphas | particl | ecgmean | phase",
                      31
                    ],
                    [
                      35,
                      "key | port | paramet | true | op",
                      30
                    ],
                    [
                      36,
                      "count | select | tabl | column | queri",
                      29
                    ],
                    [
                      37,
                      "jdbc | connect | teradata | terajdbc | databas",
                      27
                    ],
                    [
                      38,
                      "import | excel | varchar | csv | file",
                      27
                    ],
                    [
                      39,
                      "tabl | partit | journal | mortal | date",
                      24
                    ],
                    [
                      40,
                      "load | tpt | teradata | mload | tabl",
                      24
                    ],
                    [
                      41,
                      "view | show | tabl | teradata | queri",
                      24
                    ],
                    [
                      42,
                      "knime | workflow | pmml | exe | batch",
                      22
                    ],
                    [
                      43,
                      "column | charact | special | abc | remov",
                      21
                    ],
                    [
                      44,
                      "twitter | rapidmin | sentiment | tweet | search",
                      21
                    ],
                    [
                      45,
                      "bacteria | acid | synonym | eic | pathway",
                      18
                    ],
                    [
                      46,
                      "grant | user | role | schema | access",
                      16
                    ],
                    [
                      47,
                      "xpath | crawl | ul | li | span",
                      16
                    ],
                    [
                      48,
                      "trident | spout | storm | topolog | stream",
                      15
                    ],
                    [
                      49,
                      "hadoop | teradata | microstrategi | migrat | parallel",
                      15
                    ],
                    [
                      50,
                      "varchar | export | tpt | evt | bu",
                      15
                    ],
                    [
                      51,
                      "attribut | rapidmin | replac | oper | valu",
                      15
                    ],
                    [
                      52,
                      "log | rule | snakemak | save | script",
                      14
                    ],
                    [
                      53,
                      "rapidmin | csv | import | data | column",
                      14
                    ],
                    [
                      54,
                      "datasourc | hibern | bean | spring | jdbc",
                      13
                    ],
                    [
                      55,
                      "offer | upload | stringbuilderupd | ps | batch",
                      13
                    ],
                    [
                      56,
                      "ibm | stream | kafka | eventstream | iot",
                      12
                    ],
                    [
                      57,
                      "kubernet | kubeflow | pipelin | ansibl | collect",
                      12
                    ],
                    [
                      58,
                      "date | format | column | datatyp | ts",
                      12
                    ],
                    [
                      59,
                      "primari | index | uniqu | order | exadata",
                      12
                    ],
                    [
                      60,
                      "drop | tabl | commit | teradata | exist",
                      12
                    ],
                    [
                      61,
                      "xmlagg | xml | rv | teradata | edw",
                      11
                    ],
                    [
                      62,
                      "word | sentenc | excel | sheet | rapidmin",
                      11
                    ],
                    [
                      63,
                      "col | column | indirect | temper | ab",
                      10
                    ]
                  ],
                  "hovertemplate": "<b>Topic %{customdata[0]}</b><br>%{customdata[1]}<br>Size: %{customdata[2]}",
                  "legendgroup": "",
                  "marker": {
                    "color": "#B0BEC5",
                    "line": {
                      "color": "DarkSlateGrey",
                      "width": 2
                    },
                    "size": [
                      1418,
                      424,
                      369,
                      282,
                      242,
                      192,
                      161,
                      160,
                      110,
                      100,
                      97,
                      72,
                      70,
                      64,
                      64,
                      55,
                      54,
                      54,
                      52,
                      52,
                      51,
                      49,
                      46,
                      44,
                      43,
                      41,
                      40,
                      38,
                      38,
                      37,
                      34,
                      32,
                      32,
                      31,
                      31,
                      30,
                      29,
                      27,
                      27,
                      24,
                      24,
                      24,
                      22,
                      21,
                      21,
                      18,
                      16,
                      16,
                      15,
                      15,
                      15,
                      15,
                      14,
                      14,
                      13,
                      13,
                      12,
                      12,
                      12,
                      12,
                      12,
                      11,
                      11,
                      10
                    ],
                    "sizemode": "area",
                    "sizeref": 0.88625,
                    "symbol": "circle"
                  },
                  "mode": "markers",
                  "name": "",
                  "orientation": "v",
                  "showlegend": false,
                  "type": "scatter",
                  "x": [
                    11.042665481567383,
                    3.217207193374634,
                    6.357860088348389,
                    11.538516998291016,
                    11.380558967590332,
                    6.433063507080078,
                    22.785429000854492,
                    -7.006744861602783,
                    -3.675100326538086,
                    7.9332146644592285,
                    -5.874960899353027,
                    3.94970965385437,
                    2.8754756450653076,
                    6.776601791381836,
                    23.188295364379883,
                    10.98263168334961,
                    6.583647727966309,
                    6.725160121917725,
                    -2.733067274093628,
                    10.983078002929688,
                    -5.2737812995910645,
                    -3.3855574131011963,
                    22.986082077026367,
                    3.197415828704834,
                    7.837638854980469,
                    -5.222934246063232,
                    3.484774589538574,
                    -3.02738618850708,
                    -6.900441646575928,
                    -5.295648097991943,
                    4.062453269958496,
                    2.852414608001709,
                    -5.875031471252441,
                    7.910450458526611,
                    -3.5048911571502686,
                    -3.7067461013793945,
                    -3.3500940799713135,
                    -5.566072940826416,
                    -7.297952175140381,
                    7.429645538330078,
                    5.453649997711182,
                    5.465658664703369,
                    23.273290634155273,
                    -2.8407416343688965,
                    12.995654106140137,
                    -3.614881992340088,
                    5.31002950668335,
                    12.977258682250977,
                    11.445558547973633,
                    5.496406078338623,
                    6.596649169921875,
                    3.8387327194213867,
                    10.894184112548828,
                    -7.481709003448486,
                    -5.010660648345947,
                    5.402265548706055,
                    3.6637277603149414,
                    22.803747177124023,
                    -7.14756441116333,
                    -3.1826348304748535,
                    5.632801055908203,
                    -2.720134735107422,
                    -7.602035045623779,
                    -2.981801748275757
                  ],
                  "xaxis": "x",
                  "y": [
                    -1.5199671983718872,
                    9.610969543457031,
                    -2.852071523666382,
                    -1.1950817108154297,
                    -1.3193968534469604,
                    -3.0989911556243896,
                    13.070342063903809,
                    16.2440128326416,
                    10.359563827514648,
                    -3.5251920223236084,
                    -3.808936595916748,
                    8.663777351379395,
                    9.978545188903809,
                    -3.041677713394165,
                    13.473387718200684,
                    11.565189361572266,
                    -3.0501840114593506,
                    -2.6605417728424072,
                    11.662663459777832,
                    11.565020561218262,
                    6.093477725982666,
                    10.716641426086426,
                    13.27099323272705,
                    9.619758605957031,
                    -3.39974045753479,
                    6.144758701324463,
                    9.3639554977417,
                    11.49610424041748,
                    16.348712921142578,
                    6.070683479309082,
                    8.546581268310547,
                    10.00145435333252,
                    -3.8089919090270996,
                    -3.4804599285125732,
                    9.647496223449707,
                    9.983022689819336,
                    10.779422760009766,
                    5.799689292907715,
                    15.953839302062988,
                    -3.2501823902130127,
                    -2.121666193008423,
                    -1.4802850484848022,
                    13.558485984802246,
                    11.578707695007324,
                    8.334063529968262,
                    9.780570030212402,
                    -1.3281673192977905,
                    8.320257186889648,
                    -1.2659355401992798,
                    -2.0813326835632324,
                    -2.762645959854126,
                    8.804845809936523,
                    -1.639990210533142,
                    15.769815444946289,
                    6.356282711029053,
                    -2.2869348526000977,
                    9.245200157165527,
                    13.088627815246582,
                    16.10414695739746,
                    10.408930778503418,
                    -1.7044986486434937,
                    11.772631645202637,
                    15.64908218383789,
                    11.2528657913208
                  ],
                  "yaxis": "y"
                }
              ],
              "layout": {
                "annotations": [
                  {
                    "showarrow": false,
                    "text": "D1",
                    "x": -8.742340302467346,
                    "y": 7.2103395819664,
                    "yshift": 10
                  },
                  {
                    "showarrow": false,
                    "text": "D2",
                    "x": 9.01097196340561,
                    "xshift": 10,
                    "y": 18.801019859313964
                  }
                ],
                "height": 650,
                "hoverlabel": {
                  "bgcolor": "white",
                  "font": {
                    "family": "Rockwell",
                    "size": 16
                  }
                },
                "legend": {
                  "itemsizing": "constant",
                  "tracegroupgap": 0
                },
                "margin": {
                  "t": 60
                },
                "shapes": [
                  {
                    "line": {
                      "color": "#CFD8DC",
                      "width": 2
                    },
                    "type": "line",
                    "x0": 9.01097196340561,
                    "x1": 9.01097196340561,
                    "y0": -4.3803406953811646,
                    "y1": 18.801019859313964
                  },
                  {
                    "line": {
                      "color": "#9E9E9E",
                      "width": 2
                    },
                    "type": "line",
                    "x0": -8.742340302467346,
                    "x1": 26.764284229278566,
                    "y0": 7.2103395819664,
                    "y1": 7.2103395819664
                  }
                ],
                "sliders": [
                  {
                    "active": 0,
                    "pad": {
                      "t": 50
                    },
                    "steps": [
                      {
                        "args": [
                          {
                            "marker.color": [
                              [
                                "red",
                                "#B0BEC5",
                                "#B0BEC5",
                                "#B0BEC5",
                                "#B0BEC5",
                                "#B0BEC5",
                                "#B0BEC5",
                                "#B0BEC5",
                                "#B0BEC5",
                                "#B0BEC5",
                                "#B0BEC5",
                                "#B0BEC5",
                                "#B0BEC5",
                                "#B0BEC5",
                                "#B0BEC5",
                                "#B0BEC5",
                                "#B0BEC5",
                                "#B0BEC5",
                                "#B0BEC5",
                                "#B0BEC5",
                                "#B0BEC5",
                                "#B0BEC5",
                                "#B0BEC5",
                                "#B0BEC5",
                                "#B0BEC5",
                                "#B0BEC5",
                                "#B0BEC5",
                                "#B0BEC5",
                                "#B0BEC5",
                                "#B0BEC5",
                                "#B0BEC5",
                                "#B0BEC5",
                                "#B0BEC5",
                                "#B0BEC5",
                                "#B0BEC5",
                                "#B0BEC5",
                                "#B0BEC5",
                                "#B0BEC5",
                                "#B0BEC5",
                                "#B0BEC5",
                                "#B0BEC5",
                                "#B0BEC5",
                                "#B0BEC5",
                                "#B0BEC5",
                                "#B0BEC5",
                                "#B0BEC5",
                                "#B0BEC5",
                                "#B0BEC5",
                                "#B0BEC5",
                                "#B0BEC5",
                                "#B0BEC5",
                                "#B0BEC5",
                                "#B0BEC5",
                                "#B0BEC5",
                                "#B0BEC5",
                                "#B0BEC5",
                                "#B0BEC5",
                                "#B0BEC5",
                                "#B0BEC5",
                                "#B0BEC5",
                                "#B0BEC5",
                                "#B0BEC5",
                                "#B0BEC5",
                                "#B0BEC5"
                              ]
                            ]
                          }
                        ],
                        "label": "Topic 0",
                        "method": "update"
                      },
                      {
                        "args": [
                          {
                            "marker.color": [
                              [
                                "#B0BEC5",
                                "red",
                                "#B0BEC5",
                                "#B0BEC5",
                                "#B0BEC5",
                                "#B0BEC5",
                                "#B0BEC5",
                                "#B0BEC5",
                                "#B0BEC5",
                                "#B0BEC5",
                                "#B0BEC5",
                                "#B0BEC5",
                                "#B0BEC5",
                                "#B0BEC5",
                                "#B0BEC5",
                                "#B0BEC5",
                                "#B0BEC5",
                                "#B0BEC5",
                                "#B0BEC5",
                                "#B0BEC5",
                                "#B0BEC5",
                                "#B0BEC5",
                                "#B0BEC5",
                                "#B0BEC5",
                                "#B0BEC5",
                                "#B0BEC5",
                                "#B0BEC5",
                                "#B0BEC5",
                                "#B0BEC5",
                                "#B0BEC5",
                                "#B0BEC5",
                                "#B0BEC5",
                                "#B0BEC5",
                                "#B0BEC5",
                                "#B0BEC5",
                                "#B0BEC5",
                                "#B0BEC5",
                                "#B0BEC5",
                                "#B0BEC5",
                                "#B0BEC5",
                                "#B0BEC5",
                                "#B0BEC5",
                                "#B0BEC5",
                                "#B0BEC5",
                                "#B0BEC5",
                                "#B0BEC5",
                                "#B0BEC5",
                                "#B0BEC5",
                                "#B0BEC5",
                                "#B0BEC5",
                                "#B0BEC5",
                                "#B0BEC5",
                                "#B0BEC5",
                                "#B0BEC5",
                                "#B0BEC5",
                                "#B0BEC5",
                                "#B0BEC5",
                                "#B0BEC5",
                                "#B0BEC5",
                                "#B0BEC5",
                                "#B0BEC5",
                                "#B0BEC5",
                                "#B0BEC5",
                                "#B0BEC5"
                              ]
                            ]
                          }
                        ],
                        "label": "Topic 1",
                        "method": "update"
                      },
                      {
                        "args": [
                          {
                            "marker.color": [
                              [
                                "#B0BEC5",
                                "#B0BEC5",
                                "red",
                                "#B0BEC5",
                                "#B0BEC5",
                                "#B0BEC5",
                                "#B0BEC5",
                                "#B0BEC5",
                                "#B0BEC5",
                                "#B0BEC5",
                                "#B0BEC5",
                                "#B0BEC5",
                                "#B0BEC5",
                                "#B0BEC5",
                                "#B0BEC5",
                                "#B0BEC5",
                                "#B0BEC5",
                                "#B0BEC5",
                                "#B0BEC5",
                                "#B0BEC5",
                                "#B0BEC5",
                                "#B0BEC5",
                                "#B0BEC5",
                                "#B0BEC5",
                                "#B0BEC5",
                                "#B0BEC5",
                                "#B0BEC5",
                                "#B0BEC5",
                                "#B0BEC5",
                                "#B0BEC5",
                                "#B0BEC5",
                                "#B0BEC5",
                                "#B0BEC5",
                                "#B0BEC5",
                                "#B0BEC5",
                                "#B0BEC5",
                                "#B0BEC5",
                                "#B0BEC5",
                                "#B0BEC5",
                                "#B0BEC5",
                                "#B0BEC5",
                                "#B0BEC5",
                                "#B0BEC5",
                                "#B0BEC5",
                                "#B0BEC5",
                                "#B0BEC5",
                                "#B0BEC5",
                                "#B0BEC5",
                                "#B0BEC5",
                                "#B0BEC5",
                                "#B0BEC5",
                                "#B0BEC5",
                                "#B0BEC5",
                                "#B0BEC5",
                                "#B0BEC5",
                                "#B0BEC5",
                                "#B0BEC5",
                                "#B0BEC5",
                                "#B0BEC5",
                                "#B0BEC5",
                                "#B0BEC5",
                                "#B0BEC5",
                                "#B0BEC5",
                                "#B0BEC5"
                              ]
                            ]
                          }
                        ],
                        "label": "Topic 2",
                        "method": "update"
                      },
                      {
                        "args": [
                          {
                            "marker.color": [
                              [
                                "#B0BEC5",
                                "#B0BEC5",
                                "#B0BEC5",
                                "red",
                                "#B0BEC5",
                                "#B0BEC5",
                                "#B0BEC5",
                                "#B0BEC5",
                                "#B0BEC5",
                                "#B0BEC5",
                                "#B0BEC5",
                                "#B0BEC5",
                                "#B0BEC5",
                                "#B0BEC5",
                                "#B0BEC5",
                                "#B0BEC5",
                                "#B0BEC5",
                                "#B0BEC5",
                                "#B0BEC5",
                                "#B0BEC5",
                                "#B0BEC5",
                                "#B0BEC5",
                                "#B0BEC5",
                                "#B0BEC5",
                                "#B0BEC5",
                                "#B0BEC5",
                                "#B0BEC5",
                                "#B0BEC5",
                                "#B0BEC5",
                                "#B0BEC5",
                                "#B0BEC5",
                                "#B0BEC5",
                                "#B0BEC5",
                                "#B0BEC5",
                                "#B0BEC5",
                                "#B0BEC5",
                                "#B0BEC5",
                                "#B0BEC5",
                                "#B0BEC5",
                                "#B0BEC5",
                                "#B0BEC5",
                                "#B0BEC5",
                                "#B0BEC5",
                                "#B0BEC5",
                                "#B0BEC5",
                                "#B0BEC5",
                                "#B0BEC5",
                                "#B0BEC5",
                                "#B0BEC5",
                                "#B0BEC5",
                                "#B0BEC5",
                                "#B0BEC5",
                                "#B0BEC5",
                                "#B0BEC5",
                                "#B0BEC5",
                                "#B0BEC5",
                                "#B0BEC5",
                                "#B0BEC5",
                                "#B0BEC5",
                                "#B0BEC5",
                                "#B0BEC5",
                                "#B0BEC5",
                                "#B0BEC5",
                                "#B0BEC5"
                              ]
                            ]
                          }
                        ],
                        "label": "Topic 3",
                        "method": "update"
                      },
                      {
                        "args": [
                          {
                            "marker.color": [
                              [
                                "#B0BEC5",
                                "#B0BEC5",
                                "#B0BEC5",
                                "#B0BEC5",
                                "red",
                                "#B0BEC5",
                                "#B0BEC5",
                                "#B0BEC5",
                                "#B0BEC5",
                                "#B0BEC5",
                                "#B0BEC5",
                                "#B0BEC5",
                                "#B0BEC5",
                                "#B0BEC5",
                                "#B0BEC5",
                                "#B0BEC5",
                                "#B0BEC5",
                                "#B0BEC5",
                                "#B0BEC5",
                                "#B0BEC5",
                                "#B0BEC5",
                                "#B0BEC5",
                                "#B0BEC5",
                                "#B0BEC5",
                                "#B0BEC5",
                                "#B0BEC5",
                                "#B0BEC5",
                                "#B0BEC5",
                                "#B0BEC5",
                                "#B0BEC5",
                                "#B0BEC5",
                                "#B0BEC5",
                                "#B0BEC5",
                                "#B0BEC5",
                                "#B0BEC5",
                                "#B0BEC5",
                                "#B0BEC5",
                                "#B0BEC5",
                                "#B0BEC5",
                                "#B0BEC5",
                                "#B0BEC5",
                                "#B0BEC5",
                                "#B0BEC5",
                                "#B0BEC5",
                                "#B0BEC5",
                                "#B0BEC5",
                                "#B0BEC5",
                                "#B0BEC5",
                                "#B0BEC5",
                                "#B0BEC5",
                                "#B0BEC5",
                                "#B0BEC5",
                                "#B0BEC5",
                                "#B0BEC5",
                                "#B0BEC5",
                                "#B0BEC5",
                                "#B0BEC5",
                                "#B0BEC5",
                                "#B0BEC5",
                                "#B0BEC5",
                                "#B0BEC5",
                                "#B0BEC5",
                                "#B0BEC5",
                                "#B0BEC5"
                              ]
                            ]
                          }
                        ],
                        "label": "Topic 4",
                        "method": "update"
                      },
                      {
                        "args": [
                          {
                            "marker.color": [
                              [
                                "#B0BEC5",
                                "#B0BEC5",
                                "#B0BEC5",
                                "#B0BEC5",
                                "#B0BEC5",
                                "red",
                                "#B0BEC5",
                                "#B0BEC5",
                                "#B0BEC5",
                                "#B0BEC5",
                                "#B0BEC5",
                                "#B0BEC5",
                                "#B0BEC5",
                                "#B0BEC5",
                                "#B0BEC5",
                                "#B0BEC5",
                                "#B0BEC5",
                                "#B0BEC5",
                                "#B0BEC5",
                                "#B0BEC5",
                                "#B0BEC5",
                                "#B0BEC5",
                                "#B0BEC5",
                                "#B0BEC5",
                                "#B0BEC5",
                                "#B0BEC5",
                                "#B0BEC5",
                                "#B0BEC5",
                                "#B0BEC5",
                                "#B0BEC5",
                                "#B0BEC5",
                                "#B0BEC5",
                                "#B0BEC5",
                                "#B0BEC5",
                                "#B0BEC5",
                                "#B0BEC5",
                                "#B0BEC5",
                                "#B0BEC5",
                                "#B0BEC5",
                                "#B0BEC5",
                                "#B0BEC5",
                                "#B0BEC5",
                                "#B0BEC5",
                                "#B0BEC5",
                                "#B0BEC5",
                                "#B0BEC5",
                                "#B0BEC5",
                                "#B0BEC5",
                                "#B0BEC5",
                                "#B0BEC5",
                                "#B0BEC5",
                                "#B0BEC5",
                                "#B0BEC5",
                                "#B0BEC5",
                                "#B0BEC5",
                                "#B0BEC5",
                                "#B0BEC5",
                                "#B0BEC5",
                                "#B0BEC5",
                                "#B0BEC5",
                                "#B0BEC5",
                                "#B0BEC5",
                                "#B0BEC5",
                                "#B0BEC5"
                              ]
                            ]
                          }
                        ],
                        "label": "Topic 5",
                        "method": "update"
                      },
                      {
                        "args": [
                          {
                            "marker.color": [
                              [
                                "#B0BEC5",
                                "#B0BEC5",
                                "#B0BEC5",
                                "#B0BEC5",
                                "#B0BEC5",
                                "#B0BEC5",
                                "red",
                                "#B0BEC5",
                                "#B0BEC5",
                                "#B0BEC5",
                                "#B0BEC5",
                                "#B0BEC5",
                                "#B0BEC5",
                                "#B0BEC5",
                                "#B0BEC5",
                                "#B0BEC5",
                                "#B0BEC5",
                                "#B0BEC5",
                                "#B0BEC5",
                                "#B0BEC5",
                                "#B0BEC5",
                                "#B0BEC5",
                                "#B0BEC5",
                                "#B0BEC5",
                                "#B0BEC5",
                                "#B0BEC5",
                                "#B0BEC5",
                                "#B0BEC5",
                                "#B0BEC5",
                                "#B0BEC5",
                                "#B0BEC5",
                                "#B0BEC5",
                                "#B0BEC5",
                                "#B0BEC5",
                                "#B0BEC5",
                                "#B0BEC5",
                                "#B0BEC5",
                                "#B0BEC5",
                                "#B0BEC5",
                                "#B0BEC5",
                                "#B0BEC5",
                                "#B0BEC5",
                                "#B0BEC5",
                                "#B0BEC5",
                                "#B0BEC5",
                                "#B0BEC5",
                                "#B0BEC5",
                                "#B0BEC5",
                                "#B0BEC5",
                                "#B0BEC5",
                                "#B0BEC5",
                                "#B0BEC5",
                                "#B0BEC5",
                                "#B0BEC5",
                                "#B0BEC5",
                                "#B0BEC5",
                                "#B0BEC5",
                                "#B0BEC5",
                                "#B0BEC5",
                                "#B0BEC5",
                                "#B0BEC5",
                                "#B0BEC5",
                                "#B0BEC5",
                                "#B0BEC5"
                              ]
                            ]
                          }
                        ],
                        "label": "Topic 6",
                        "method": "update"
                      },
                      {
                        "args": [
                          {
                            "marker.color": [
                              [
                                "#B0BEC5",
                                "#B0BEC5",
                                "#B0BEC5",
                                "#B0BEC5",
                                "#B0BEC5",
                                "#B0BEC5",
                                "#B0BEC5",
                                "red",
                                "#B0BEC5",
                                "#B0BEC5",
                                "#B0BEC5",
                                "#B0BEC5",
                                "#B0BEC5",
                                "#B0BEC5",
                                "#B0BEC5",
                                "#B0BEC5",
                                "#B0BEC5",
                                "#B0BEC5",
                                "#B0BEC5",
                                "#B0BEC5",
                                "#B0BEC5",
                                "#B0BEC5",
                                "#B0BEC5",
                                "#B0BEC5",
                                "#B0BEC5",
                                "#B0BEC5",
                                "#B0BEC5",
                                "#B0BEC5",
                                "#B0BEC5",
                                "#B0BEC5",
                                "#B0BEC5",
                                "#B0BEC5",
                                "#B0BEC5",
                                "#B0BEC5",
                                "#B0BEC5",
                                "#B0BEC5",
                                "#B0BEC5",
                                "#B0BEC5",
                                "#B0BEC5",
                                "#B0BEC5",
                                "#B0BEC5",
                                "#B0BEC5",
                                "#B0BEC5",
                                "#B0BEC5",
                                "#B0BEC5",
                                "#B0BEC5",
                                "#B0BEC5",
                                "#B0BEC5",
                                "#B0BEC5",
                                "#B0BEC5",
                                "#B0BEC5",
                                "#B0BEC5",
                                "#B0BEC5",
                                "#B0BEC5",
                                "#B0BEC5",
                                "#B0BEC5",
                                "#B0BEC5",
                                "#B0BEC5",
                                "#B0BEC5",
                                "#B0BEC5",
                                "#B0BEC5",
                                "#B0BEC5",
                                "#B0BEC5",
                                "#B0BEC5"
                              ]
                            ]
                          }
                        ],
                        "label": "Topic 7",
                        "method": "update"
                      },
                      {
                        "args": [
                          {
                            "marker.color": [
                              [
                                "#B0BEC5",
                                "#B0BEC5",
                                "#B0BEC5",
                                "#B0BEC5",
                                "#B0BEC5",
                                "#B0BEC5",
                                "#B0BEC5",
                                "#B0BEC5",
                                "red",
                                "#B0BEC5",
                                "#B0BEC5",
                                "#B0BEC5",
                                "#B0BEC5",
                                "#B0BEC5",
                                "#B0BEC5",
                                "#B0BEC5",
                                "#B0BEC5",
                                "#B0BEC5",
                                "#B0BEC5",
                                "#B0BEC5",
                                "#B0BEC5",
                                "#B0BEC5",
                                "#B0BEC5",
                                "#B0BEC5",
                                "#B0BEC5",
                                "#B0BEC5",
                                "#B0BEC5",
                                "#B0BEC5",
                                "#B0BEC5",
                                "#B0BEC5",
                                "#B0BEC5",
                                "#B0BEC5",
                                "#B0BEC5",
                                "#B0BEC5",
                                "#B0BEC5",
                                "#B0BEC5",
                                "#B0BEC5",
                                "#B0BEC5",
                                "#B0BEC5",
                                "#B0BEC5",
                                "#B0BEC5",
                                "#B0BEC5",
                                "#B0BEC5",
                                "#B0BEC5",
                                "#B0BEC5",
                                "#B0BEC5",
                                "#B0BEC5",
                                "#B0BEC5",
                                "#B0BEC5",
                                "#B0BEC5",
                                "#B0BEC5",
                                "#B0BEC5",
                                "#B0BEC5",
                                "#B0BEC5",
                                "#B0BEC5",
                                "#B0BEC5",
                                "#B0BEC5",
                                "#B0BEC5",
                                "#B0BEC5",
                                "#B0BEC5",
                                "#B0BEC5",
                                "#B0BEC5",
                                "#B0BEC5",
                                "#B0BEC5"
                              ]
                            ]
                          }
                        ],
                        "label": "Topic 8",
                        "method": "update"
                      },
                      {
                        "args": [
                          {
                            "marker.color": [
                              [
                                "#B0BEC5",
                                "#B0BEC5",
                                "#B0BEC5",
                                "#B0BEC5",
                                "#B0BEC5",
                                "#B0BEC5",
                                "#B0BEC5",
                                "#B0BEC5",
                                "#B0BEC5",
                                "red",
                                "#B0BEC5",
                                "#B0BEC5",
                                "#B0BEC5",
                                "#B0BEC5",
                                "#B0BEC5",
                                "#B0BEC5",
                                "#B0BEC5",
                                "#B0BEC5",
                                "#B0BEC5",
                                "#B0BEC5",
                                "#B0BEC5",
                                "#B0BEC5",
                                "#B0BEC5",
                                "#B0BEC5",
                                "#B0BEC5",
                                "#B0BEC5",
                                "#B0BEC5",
                                "#B0BEC5",
                                "#B0BEC5",
                                "#B0BEC5",
                                "#B0BEC5",
                                "#B0BEC5",
                                "#B0BEC5",
                                "#B0BEC5",
                                "#B0BEC5",
                                "#B0BEC5",
                                "#B0BEC5",
                                "#B0BEC5",
                                "#B0BEC5",
                                "#B0BEC5",
                                "#B0BEC5",
                                "#B0BEC5",
                                "#B0BEC5",
                                "#B0BEC5",
                                "#B0BEC5",
                                "#B0BEC5",
                                "#B0BEC5",
                                "#B0BEC5",
                                "#B0BEC5",
                                "#B0BEC5",
                                "#B0BEC5",
                                "#B0BEC5",
                                "#B0BEC5",
                                "#B0BEC5",
                                "#B0BEC5",
                                "#B0BEC5",
                                "#B0BEC5",
                                "#B0BEC5",
                                "#B0BEC5",
                                "#B0BEC5",
                                "#B0BEC5",
                                "#B0BEC5",
                                "#B0BEC5",
                                "#B0BEC5"
                              ]
                            ]
                          }
                        ],
                        "label": "Topic 9",
                        "method": "update"
                      },
                      {
                        "args": [
                          {
                            "marker.color": [
                              [
                                "#B0BEC5",
                                "#B0BEC5",
                                "#B0BEC5",
                                "#B0BEC5",
                                "#B0BEC5",
                                "#B0BEC5",
                                "#B0BEC5",
                                "#B0BEC5",
                                "#B0BEC5",
                                "#B0BEC5",
                                "red",
                                "#B0BEC5",
                                "#B0BEC5",
                                "#B0BEC5",
                                "#B0BEC5",
                                "#B0BEC5",
                                "#B0BEC5",
                                "#B0BEC5",
                                "#B0BEC5",
                                "#B0BEC5",
                                "#B0BEC5",
                                "#B0BEC5",
                                "#B0BEC5",
                                "#B0BEC5",
                                "#B0BEC5",
                                "#B0BEC5",
                                "#B0BEC5",
                                "#B0BEC5",
                                "#B0BEC5",
                                "#B0BEC5",
                                "#B0BEC5",
                                "#B0BEC5",
                                "#B0BEC5",
                                "#B0BEC5",
                                "#B0BEC5",
                                "#B0BEC5",
                                "#B0BEC5",
                                "#B0BEC5",
                                "#B0BEC5",
                                "#B0BEC5",
                                "#B0BEC5",
                                "#B0BEC5",
                                "#B0BEC5",
                                "#B0BEC5",
                                "#B0BEC5",
                                "#B0BEC5",
                                "#B0BEC5",
                                "#B0BEC5",
                                "#B0BEC5",
                                "#B0BEC5",
                                "#B0BEC5",
                                "#B0BEC5",
                                "#B0BEC5",
                                "#B0BEC5",
                                "#B0BEC5",
                                "#B0BEC5",
                                "#B0BEC5",
                                "#B0BEC5",
                                "#B0BEC5",
                                "#B0BEC5",
                                "#B0BEC5",
                                "#B0BEC5",
                                "#B0BEC5",
                                "#B0BEC5"
                              ]
                            ]
                          }
                        ],
                        "label": "Topic 10",
                        "method": "update"
                      },
                      {
                        "args": [
                          {
                            "marker.color": [
                              [
                                "#B0BEC5",
                                "#B0BEC5",
                                "#B0BEC5",
                                "#B0BEC5",
                                "#B0BEC5",
                                "#B0BEC5",
                                "#B0BEC5",
                                "#B0BEC5",
                                "#B0BEC5",
                                "#B0BEC5",
                                "#B0BEC5",
                                "red",
                                "#B0BEC5",
                                "#B0BEC5",
                                "#B0BEC5",
                                "#B0BEC5",
                                "#B0BEC5",
                                "#B0BEC5",
                                "#B0BEC5",
                                "#B0BEC5",
                                "#B0BEC5",
                                "#B0BEC5",
                                "#B0BEC5",
                                "#B0BEC5",
                                "#B0BEC5",
                                "#B0BEC5",
                                "#B0BEC5",
                                "#B0BEC5",
                                "#B0BEC5",
                                "#B0BEC5",
                                "#B0BEC5",
                                "#B0BEC5",
                                "#B0BEC5",
                                "#B0BEC5",
                                "#B0BEC5",
                                "#B0BEC5",
                                "#B0BEC5",
                                "#B0BEC5",
                                "#B0BEC5",
                                "#B0BEC5",
                                "#B0BEC5",
                                "#B0BEC5",
                                "#B0BEC5",
                                "#B0BEC5",
                                "#B0BEC5",
                                "#B0BEC5",
                                "#B0BEC5",
                                "#B0BEC5",
                                "#B0BEC5",
                                "#B0BEC5",
                                "#B0BEC5",
                                "#B0BEC5",
                                "#B0BEC5",
                                "#B0BEC5",
                                "#B0BEC5",
                                "#B0BEC5",
                                "#B0BEC5",
                                "#B0BEC5",
                                "#B0BEC5",
                                "#B0BEC5",
                                "#B0BEC5",
                                "#B0BEC5",
                                "#B0BEC5",
                                "#B0BEC5"
                              ]
                            ]
                          }
                        ],
                        "label": "Topic 11",
                        "method": "update"
                      },
                      {
                        "args": [
                          {
                            "marker.color": [
                              [
                                "#B0BEC5",
                                "#B0BEC5",
                                "#B0BEC5",
                                "#B0BEC5",
                                "#B0BEC5",
                                "#B0BEC5",
                                "#B0BEC5",
                                "#B0BEC5",
                                "#B0BEC5",
                                "#B0BEC5",
                                "#B0BEC5",
                                "#B0BEC5",
                                "red",
                                "#B0BEC5",
                                "#B0BEC5",
                                "#B0BEC5",
                                "#B0BEC5",
                                "#B0BEC5",
                                "#B0BEC5",
                                "#B0BEC5",
                                "#B0BEC5",
                                "#B0BEC5",
                                "#B0BEC5",
                                "#B0BEC5",
                                "#B0BEC5",
                                "#B0BEC5",
                                "#B0BEC5",
                                "#B0BEC5",
                                "#B0BEC5",
                                "#B0BEC5",
                                "#B0BEC5",
                                "#B0BEC5",
                                "#B0BEC5",
                                "#B0BEC5",
                                "#B0BEC5",
                                "#B0BEC5",
                                "#B0BEC5",
                                "#B0BEC5",
                                "#B0BEC5",
                                "#B0BEC5",
                                "#B0BEC5",
                                "#B0BEC5",
                                "#B0BEC5",
                                "#B0BEC5",
                                "#B0BEC5",
                                "#B0BEC5",
                                "#B0BEC5",
                                "#B0BEC5",
                                "#B0BEC5",
                                "#B0BEC5",
                                "#B0BEC5",
                                "#B0BEC5",
                                "#B0BEC5",
                                "#B0BEC5",
                                "#B0BEC5",
                                "#B0BEC5",
                                "#B0BEC5",
                                "#B0BEC5",
                                "#B0BEC5",
                                "#B0BEC5",
                                "#B0BEC5",
                                "#B0BEC5",
                                "#B0BEC5",
                                "#B0BEC5"
                              ]
                            ]
                          }
                        ],
                        "label": "Topic 12",
                        "method": "update"
                      },
                      {
                        "args": [
                          {
                            "marker.color": [
                              [
                                "#B0BEC5",
                                "#B0BEC5",
                                "#B0BEC5",
                                "#B0BEC5",
                                "#B0BEC5",
                                "#B0BEC5",
                                "#B0BEC5",
                                "#B0BEC5",
                                "#B0BEC5",
                                "#B0BEC5",
                                "#B0BEC5",
                                "#B0BEC5",
                                "#B0BEC5",
                                "red",
                                "#B0BEC5",
                                "#B0BEC5",
                                "#B0BEC5",
                                "#B0BEC5",
                                "#B0BEC5",
                                "#B0BEC5",
                                "#B0BEC5",
                                "#B0BEC5",
                                "#B0BEC5",
                                "#B0BEC5",
                                "#B0BEC5",
                                "#B0BEC5",
                                "#B0BEC5",
                                "#B0BEC5",
                                "#B0BEC5",
                                "#B0BEC5",
                                "#B0BEC5",
                                "#B0BEC5",
                                "#B0BEC5",
                                "#B0BEC5",
                                "#B0BEC5",
                                "#B0BEC5",
                                "#B0BEC5",
                                "#B0BEC5",
                                "#B0BEC5",
                                "#B0BEC5",
                                "#B0BEC5",
                                "#B0BEC5",
                                "#B0BEC5",
                                "#B0BEC5",
                                "#B0BEC5",
                                "#B0BEC5",
                                "#B0BEC5",
                                "#B0BEC5",
                                "#B0BEC5",
                                "#B0BEC5",
                                "#B0BEC5",
                                "#B0BEC5",
                                "#B0BEC5",
                                "#B0BEC5",
                                "#B0BEC5",
                                "#B0BEC5",
                                "#B0BEC5",
                                "#B0BEC5",
                                "#B0BEC5",
                                "#B0BEC5",
                                "#B0BEC5",
                                "#B0BEC5",
                                "#B0BEC5",
                                "#B0BEC5"
                              ]
                            ]
                          }
                        ],
                        "label": "Topic 13",
                        "method": "update"
                      },
                      {
                        "args": [
                          {
                            "marker.color": [
                              [
                                "#B0BEC5",
                                "#B0BEC5",
                                "#B0BEC5",
                                "#B0BEC5",
                                "#B0BEC5",
                                "#B0BEC5",
                                "#B0BEC5",
                                "#B0BEC5",
                                "#B0BEC5",
                                "#B0BEC5",
                                "#B0BEC5",
                                "#B0BEC5",
                                "#B0BEC5",
                                "#B0BEC5",
                                "red",
                                "#B0BEC5",
                                "#B0BEC5",
                                "#B0BEC5",
                                "#B0BEC5",
                                "#B0BEC5",
                                "#B0BEC5",
                                "#B0BEC5",
                                "#B0BEC5",
                                "#B0BEC5",
                                "#B0BEC5",
                                "#B0BEC5",
                                "#B0BEC5",
                                "#B0BEC5",
                                "#B0BEC5",
                                "#B0BEC5",
                                "#B0BEC5",
                                "#B0BEC5",
                                "#B0BEC5",
                                "#B0BEC5",
                                "#B0BEC5",
                                "#B0BEC5",
                                "#B0BEC5",
                                "#B0BEC5",
                                "#B0BEC5",
                                "#B0BEC5",
                                "#B0BEC5",
                                "#B0BEC5",
                                "#B0BEC5",
                                "#B0BEC5",
                                "#B0BEC5",
                                "#B0BEC5",
                                "#B0BEC5",
                                "#B0BEC5",
                                "#B0BEC5",
                                "#B0BEC5",
                                "#B0BEC5",
                                "#B0BEC5",
                                "#B0BEC5",
                                "#B0BEC5",
                                "#B0BEC5",
                                "#B0BEC5",
                                "#B0BEC5",
                                "#B0BEC5",
                                "#B0BEC5",
                                "#B0BEC5",
                                "#B0BEC5",
                                "#B0BEC5",
                                "#B0BEC5",
                                "#B0BEC5"
                              ]
                            ]
                          }
                        ],
                        "label": "Topic 14",
                        "method": "update"
                      },
                      {
                        "args": [
                          {
                            "marker.color": [
                              [
                                "#B0BEC5",
                                "#B0BEC5",
                                "#B0BEC5",
                                "#B0BEC5",
                                "#B0BEC5",
                                "#B0BEC5",
                                "#B0BEC5",
                                "#B0BEC5",
                                "#B0BEC5",
                                "#B0BEC5",
                                "#B0BEC5",
                                "#B0BEC5",
                                "#B0BEC5",
                                "#B0BEC5",
                                "#B0BEC5",
                                "red",
                                "#B0BEC5",
                                "#B0BEC5",
                                "#B0BEC5",
                                "#B0BEC5",
                                "#B0BEC5",
                                "#B0BEC5",
                                "#B0BEC5",
                                "#B0BEC5",
                                "#B0BEC5",
                                "#B0BEC5",
                                "#B0BEC5",
                                "#B0BEC5",
                                "#B0BEC5",
                                "#B0BEC5",
                                "#B0BEC5",
                                "#B0BEC5",
                                "#B0BEC5",
                                "#B0BEC5",
                                "#B0BEC5",
                                "#B0BEC5",
                                "#B0BEC5",
                                "#B0BEC5",
                                "#B0BEC5",
                                "#B0BEC5",
                                "#B0BEC5",
                                "#B0BEC5",
                                "#B0BEC5",
                                "#B0BEC5",
                                "#B0BEC5",
                                "#B0BEC5",
                                "#B0BEC5",
                                "#B0BEC5",
                                "#B0BEC5",
                                "#B0BEC5",
                                "#B0BEC5",
                                "#B0BEC5",
                                "#B0BEC5",
                                "#B0BEC5",
                                "#B0BEC5",
                                "#B0BEC5",
                                "#B0BEC5",
                                "#B0BEC5",
                                "#B0BEC5",
                                "#B0BEC5",
                                "#B0BEC5",
                                "#B0BEC5",
                                "#B0BEC5",
                                "#B0BEC5"
                              ]
                            ]
                          }
                        ],
                        "label": "Topic 15",
                        "method": "update"
                      },
                      {
                        "args": [
                          {
                            "marker.color": [
                              [
                                "#B0BEC5",
                                "#B0BEC5",
                                "#B0BEC5",
                                "#B0BEC5",
                                "#B0BEC5",
                                "#B0BEC5",
                                "#B0BEC5",
                                "#B0BEC5",
                                "#B0BEC5",
                                "#B0BEC5",
                                "#B0BEC5",
                                "#B0BEC5",
                                "#B0BEC5",
                                "#B0BEC5",
                                "#B0BEC5",
                                "#B0BEC5",
                                "red",
                                "#B0BEC5",
                                "#B0BEC5",
                                "#B0BEC5",
                                "#B0BEC5",
                                "#B0BEC5",
                                "#B0BEC5",
                                "#B0BEC5",
                                "#B0BEC5",
                                "#B0BEC5",
                                "#B0BEC5",
                                "#B0BEC5",
                                "#B0BEC5",
                                "#B0BEC5",
                                "#B0BEC5",
                                "#B0BEC5",
                                "#B0BEC5",
                                "#B0BEC5",
                                "#B0BEC5",
                                "#B0BEC5",
                                "#B0BEC5",
                                "#B0BEC5",
                                "#B0BEC5",
                                "#B0BEC5",
                                "#B0BEC5",
                                "#B0BEC5",
                                "#B0BEC5",
                                "#B0BEC5",
                                "#B0BEC5",
                                "#B0BEC5",
                                "#B0BEC5",
                                "#B0BEC5",
                                "#B0BEC5",
                                "#B0BEC5",
                                "#B0BEC5",
                                "#B0BEC5",
                                "#B0BEC5",
                                "#B0BEC5",
                                "#B0BEC5",
                                "#B0BEC5",
                                "#B0BEC5",
                                "#B0BEC5",
                                "#B0BEC5",
                                "#B0BEC5",
                                "#B0BEC5",
                                "#B0BEC5",
                                "#B0BEC5",
                                "#B0BEC5"
                              ]
                            ]
                          }
                        ],
                        "label": "Topic 16",
                        "method": "update"
                      },
                      {
                        "args": [
                          {
                            "marker.color": [
                              [
                                "#B0BEC5",
                                "#B0BEC5",
                                "#B0BEC5",
                                "#B0BEC5",
                                "#B0BEC5",
                                "#B0BEC5",
                                "#B0BEC5",
                                "#B0BEC5",
                                "#B0BEC5",
                                "#B0BEC5",
                                "#B0BEC5",
                                "#B0BEC5",
                                "#B0BEC5",
                                "#B0BEC5",
                                "#B0BEC5",
                                "#B0BEC5",
                                "#B0BEC5",
                                "red",
                                "#B0BEC5",
                                "#B0BEC5",
                                "#B0BEC5",
                                "#B0BEC5",
                                "#B0BEC5",
                                "#B0BEC5",
                                "#B0BEC5",
                                "#B0BEC5",
                                "#B0BEC5",
                                "#B0BEC5",
                                "#B0BEC5",
                                "#B0BEC5",
                                "#B0BEC5",
                                "#B0BEC5",
                                "#B0BEC5",
                                "#B0BEC5",
                                "#B0BEC5",
                                "#B0BEC5",
                                "#B0BEC5",
                                "#B0BEC5",
                                "#B0BEC5",
                                "#B0BEC5",
                                "#B0BEC5",
                                "#B0BEC5",
                                "#B0BEC5",
                                "#B0BEC5",
                                "#B0BEC5",
                                "#B0BEC5",
                                "#B0BEC5",
                                "#B0BEC5",
                                "#B0BEC5",
                                "#B0BEC5",
                                "#B0BEC5",
                                "#B0BEC5",
                                "#B0BEC5",
                                "#B0BEC5",
                                "#B0BEC5",
                                "#B0BEC5",
                                "#B0BEC5",
                                "#B0BEC5",
                                "#B0BEC5",
                                "#B0BEC5",
                                "#B0BEC5",
                                "#B0BEC5",
                                "#B0BEC5",
                                "#B0BEC5"
                              ]
                            ]
                          }
                        ],
                        "label": "Topic 17",
                        "method": "update"
                      },
                      {
                        "args": [
                          {
                            "marker.color": [
                              [
                                "#B0BEC5",
                                "#B0BEC5",
                                "#B0BEC5",
                                "#B0BEC5",
                                "#B0BEC5",
                                "#B0BEC5",
                                "#B0BEC5",
                                "#B0BEC5",
                                "#B0BEC5",
                                "#B0BEC5",
                                "#B0BEC5",
                                "#B0BEC5",
                                "#B0BEC5",
                                "#B0BEC5",
                                "#B0BEC5",
                                "#B0BEC5",
                                "#B0BEC5",
                                "#B0BEC5",
                                "red",
                                "#B0BEC5",
                                "#B0BEC5",
                                "#B0BEC5",
                                "#B0BEC5",
                                "#B0BEC5",
                                "#B0BEC5",
                                "#B0BEC5",
                                "#B0BEC5",
                                "#B0BEC5",
                                "#B0BEC5",
                                "#B0BEC5",
                                "#B0BEC5",
                                "#B0BEC5",
                                "#B0BEC5",
                                "#B0BEC5",
                                "#B0BEC5",
                                "#B0BEC5",
                                "#B0BEC5",
                                "#B0BEC5",
                                "#B0BEC5",
                                "#B0BEC5",
                                "#B0BEC5",
                                "#B0BEC5",
                                "#B0BEC5",
                                "#B0BEC5",
                                "#B0BEC5",
                                "#B0BEC5",
                                "#B0BEC5",
                                "#B0BEC5",
                                "#B0BEC5",
                                "#B0BEC5",
                                "#B0BEC5",
                                "#B0BEC5",
                                "#B0BEC5",
                                "#B0BEC5",
                                "#B0BEC5",
                                "#B0BEC5",
                                "#B0BEC5",
                                "#B0BEC5",
                                "#B0BEC5",
                                "#B0BEC5",
                                "#B0BEC5",
                                "#B0BEC5",
                                "#B0BEC5",
                                "#B0BEC5"
                              ]
                            ]
                          }
                        ],
                        "label": "Topic 18",
                        "method": "update"
                      },
                      {
                        "args": [
                          {
                            "marker.color": [
                              [
                                "#B0BEC5",
                                "#B0BEC5",
                                "#B0BEC5",
                                "#B0BEC5",
                                "#B0BEC5",
                                "#B0BEC5",
                                "#B0BEC5",
                                "#B0BEC5",
                                "#B0BEC5",
                                "#B0BEC5",
                                "#B0BEC5",
                                "#B0BEC5",
                                "#B0BEC5",
                                "#B0BEC5",
                                "#B0BEC5",
                                "#B0BEC5",
                                "#B0BEC5",
                                "#B0BEC5",
                                "#B0BEC5",
                                "red",
                                "#B0BEC5",
                                "#B0BEC5",
                                "#B0BEC5",
                                "#B0BEC5",
                                "#B0BEC5",
                                "#B0BEC5",
                                "#B0BEC5",
                                "#B0BEC5",
                                "#B0BEC5",
                                "#B0BEC5",
                                "#B0BEC5",
                                "#B0BEC5",
                                "#B0BEC5",
                                "#B0BEC5",
                                "#B0BEC5",
                                "#B0BEC5",
                                "#B0BEC5",
                                "#B0BEC5",
                                "#B0BEC5",
                                "#B0BEC5",
                                "#B0BEC5",
                                "#B0BEC5",
                                "#B0BEC5",
                                "#B0BEC5",
                                "#B0BEC5",
                                "#B0BEC5",
                                "#B0BEC5",
                                "#B0BEC5",
                                "#B0BEC5",
                                "#B0BEC5",
                                "#B0BEC5",
                                "#B0BEC5",
                                "#B0BEC5",
                                "#B0BEC5",
                                "#B0BEC5",
                                "#B0BEC5",
                                "#B0BEC5",
                                "#B0BEC5",
                                "#B0BEC5",
                                "#B0BEC5",
                                "#B0BEC5",
                                "#B0BEC5",
                                "#B0BEC5",
                                "#B0BEC5"
                              ]
                            ]
                          }
                        ],
                        "label": "Topic 19",
                        "method": "update"
                      },
                      {
                        "args": [
                          {
                            "marker.color": [
                              [
                                "#B0BEC5",
                                "#B0BEC5",
                                "#B0BEC5",
                                "#B0BEC5",
                                "#B0BEC5",
                                "#B0BEC5",
                                "#B0BEC5",
                                "#B0BEC5",
                                "#B0BEC5",
                                "#B0BEC5",
                                "#B0BEC5",
                                "#B0BEC5",
                                "#B0BEC5",
                                "#B0BEC5",
                                "#B0BEC5",
                                "#B0BEC5",
                                "#B0BEC5",
                                "#B0BEC5",
                                "#B0BEC5",
                                "#B0BEC5",
                                "red",
                                "#B0BEC5",
                                "#B0BEC5",
                                "#B0BEC5",
                                "#B0BEC5",
                                "#B0BEC5",
                                "#B0BEC5",
                                "#B0BEC5",
                                "#B0BEC5",
                                "#B0BEC5",
                                "#B0BEC5",
                                "#B0BEC5",
                                "#B0BEC5",
                                "#B0BEC5",
                                "#B0BEC5",
                                "#B0BEC5",
                                "#B0BEC5",
                                "#B0BEC5",
                                "#B0BEC5",
                                "#B0BEC5",
                                "#B0BEC5",
                                "#B0BEC5",
                                "#B0BEC5",
                                "#B0BEC5",
                                "#B0BEC5",
                                "#B0BEC5",
                                "#B0BEC5",
                                "#B0BEC5",
                                "#B0BEC5",
                                "#B0BEC5",
                                "#B0BEC5",
                                "#B0BEC5",
                                "#B0BEC5",
                                "#B0BEC5",
                                "#B0BEC5",
                                "#B0BEC5",
                                "#B0BEC5",
                                "#B0BEC5",
                                "#B0BEC5",
                                "#B0BEC5",
                                "#B0BEC5",
                                "#B0BEC5",
                                "#B0BEC5",
                                "#B0BEC5"
                              ]
                            ]
                          }
                        ],
                        "label": "Topic 20",
                        "method": "update"
                      },
                      {
                        "args": [
                          {
                            "marker.color": [
                              [
                                "#B0BEC5",
                                "#B0BEC5",
                                "#B0BEC5",
                                "#B0BEC5",
                                "#B0BEC5",
                                "#B0BEC5",
                                "#B0BEC5",
                                "#B0BEC5",
                                "#B0BEC5",
                                "#B0BEC5",
                                "#B0BEC5",
                                "#B0BEC5",
                                "#B0BEC5",
                                "#B0BEC5",
                                "#B0BEC5",
                                "#B0BEC5",
                                "#B0BEC5",
                                "#B0BEC5",
                                "#B0BEC5",
                                "#B0BEC5",
                                "#B0BEC5",
                                "red",
                                "#B0BEC5",
                                "#B0BEC5",
                                "#B0BEC5",
                                "#B0BEC5",
                                "#B0BEC5",
                                "#B0BEC5",
                                "#B0BEC5",
                                "#B0BEC5",
                                "#B0BEC5",
                                "#B0BEC5",
                                "#B0BEC5",
                                "#B0BEC5",
                                "#B0BEC5",
                                "#B0BEC5",
                                "#B0BEC5",
                                "#B0BEC5",
                                "#B0BEC5",
                                "#B0BEC5",
                                "#B0BEC5",
                                "#B0BEC5",
                                "#B0BEC5",
                                "#B0BEC5",
                                "#B0BEC5",
                                "#B0BEC5",
                                "#B0BEC5",
                                "#B0BEC5",
                                "#B0BEC5",
                                "#B0BEC5",
                                "#B0BEC5",
                                "#B0BEC5",
                                "#B0BEC5",
                                "#B0BEC5",
                                "#B0BEC5",
                                "#B0BEC5",
                                "#B0BEC5",
                                "#B0BEC5",
                                "#B0BEC5",
                                "#B0BEC5",
                                "#B0BEC5",
                                "#B0BEC5",
                                "#B0BEC5",
                                "#B0BEC5"
                              ]
                            ]
                          }
                        ],
                        "label": "Topic 21",
                        "method": "update"
                      },
                      {
                        "args": [
                          {
                            "marker.color": [
                              [
                                "#B0BEC5",
                                "#B0BEC5",
                                "#B0BEC5",
                                "#B0BEC5",
                                "#B0BEC5",
                                "#B0BEC5",
                                "#B0BEC5",
                                "#B0BEC5",
                                "#B0BEC5",
                                "#B0BEC5",
                                "#B0BEC5",
                                "#B0BEC5",
                                "#B0BEC5",
                                "#B0BEC5",
                                "#B0BEC5",
                                "#B0BEC5",
                                "#B0BEC5",
                                "#B0BEC5",
                                "#B0BEC5",
                                "#B0BEC5",
                                "#B0BEC5",
                                "#B0BEC5",
                                "red",
                                "#B0BEC5",
                                "#B0BEC5",
                                "#B0BEC5",
                                "#B0BEC5",
                                "#B0BEC5",
                                "#B0BEC5",
                                "#B0BEC5",
                                "#B0BEC5",
                                "#B0BEC5",
                                "#B0BEC5",
                                "#B0BEC5",
                                "#B0BEC5",
                                "#B0BEC5",
                                "#B0BEC5",
                                "#B0BEC5",
                                "#B0BEC5",
                                "#B0BEC5",
                                "#B0BEC5",
                                "#B0BEC5",
                                "#B0BEC5",
                                "#B0BEC5",
                                "#B0BEC5",
                                "#B0BEC5",
                                "#B0BEC5",
                                "#B0BEC5",
                                "#B0BEC5",
                                "#B0BEC5",
                                "#B0BEC5",
                                "#B0BEC5",
                                "#B0BEC5",
                                "#B0BEC5",
                                "#B0BEC5",
                                "#B0BEC5",
                                "#B0BEC5",
                                "#B0BEC5",
                                "#B0BEC5",
                                "#B0BEC5",
                                "#B0BEC5",
                                "#B0BEC5",
                                "#B0BEC5",
                                "#B0BEC5"
                              ]
                            ]
                          }
                        ],
                        "label": "Topic 22",
                        "method": "update"
                      },
                      {
                        "args": [
                          {
                            "marker.color": [
                              [
                                "#B0BEC5",
                                "#B0BEC5",
                                "#B0BEC5",
                                "#B0BEC5",
                                "#B0BEC5",
                                "#B0BEC5",
                                "#B0BEC5",
                                "#B0BEC5",
                                "#B0BEC5",
                                "#B0BEC5",
                                "#B0BEC5",
                                "#B0BEC5",
                                "#B0BEC5",
                                "#B0BEC5",
                                "#B0BEC5",
                                "#B0BEC5",
                                "#B0BEC5",
                                "#B0BEC5",
                                "#B0BEC5",
                                "#B0BEC5",
                                "#B0BEC5",
                                "#B0BEC5",
                                "#B0BEC5",
                                "red",
                                "#B0BEC5",
                                "#B0BEC5",
                                "#B0BEC5",
                                "#B0BEC5",
                                "#B0BEC5",
                                "#B0BEC5",
                                "#B0BEC5",
                                "#B0BEC5",
                                "#B0BEC5",
                                "#B0BEC5",
                                "#B0BEC5",
                                "#B0BEC5",
                                "#B0BEC5",
                                "#B0BEC5",
                                "#B0BEC5",
                                "#B0BEC5",
                                "#B0BEC5",
                                "#B0BEC5",
                                "#B0BEC5",
                                "#B0BEC5",
                                "#B0BEC5",
                                "#B0BEC5",
                                "#B0BEC5",
                                "#B0BEC5",
                                "#B0BEC5",
                                "#B0BEC5",
                                "#B0BEC5",
                                "#B0BEC5",
                                "#B0BEC5",
                                "#B0BEC5",
                                "#B0BEC5",
                                "#B0BEC5",
                                "#B0BEC5",
                                "#B0BEC5",
                                "#B0BEC5",
                                "#B0BEC5",
                                "#B0BEC5",
                                "#B0BEC5",
                                "#B0BEC5",
                                "#B0BEC5"
                              ]
                            ]
                          }
                        ],
                        "label": "Topic 23",
                        "method": "update"
                      },
                      {
                        "args": [
                          {
                            "marker.color": [
                              [
                                "#B0BEC5",
                                "#B0BEC5",
                                "#B0BEC5",
                                "#B0BEC5",
                                "#B0BEC5",
                                "#B0BEC5",
                                "#B0BEC5",
                                "#B0BEC5",
                                "#B0BEC5",
                                "#B0BEC5",
                                "#B0BEC5",
                                "#B0BEC5",
                                "#B0BEC5",
                                "#B0BEC5",
                                "#B0BEC5",
                                "#B0BEC5",
                                "#B0BEC5",
                                "#B0BEC5",
                                "#B0BEC5",
                                "#B0BEC5",
                                "#B0BEC5",
                                "#B0BEC5",
                                "#B0BEC5",
                                "#B0BEC5",
                                "red",
                                "#B0BEC5",
                                "#B0BEC5",
                                "#B0BEC5",
                                "#B0BEC5",
                                "#B0BEC5",
                                "#B0BEC5",
                                "#B0BEC5",
                                "#B0BEC5",
                                "#B0BEC5",
                                "#B0BEC5",
                                "#B0BEC5",
                                "#B0BEC5",
                                "#B0BEC5",
                                "#B0BEC5",
                                "#B0BEC5",
                                "#B0BEC5",
                                "#B0BEC5",
                                "#B0BEC5",
                                "#B0BEC5",
                                "#B0BEC5",
                                "#B0BEC5",
                                "#B0BEC5",
                                "#B0BEC5",
                                "#B0BEC5",
                                "#B0BEC5",
                                "#B0BEC5",
                                "#B0BEC5",
                                "#B0BEC5",
                                "#B0BEC5",
                                "#B0BEC5",
                                "#B0BEC5",
                                "#B0BEC5",
                                "#B0BEC5",
                                "#B0BEC5",
                                "#B0BEC5",
                                "#B0BEC5",
                                "#B0BEC5",
                                "#B0BEC5",
                                "#B0BEC5"
                              ]
                            ]
                          }
                        ],
                        "label": "Topic 24",
                        "method": "update"
                      },
                      {
                        "args": [
                          {
                            "marker.color": [
                              [
                                "#B0BEC5",
                                "#B0BEC5",
                                "#B0BEC5",
                                "#B0BEC5",
                                "#B0BEC5",
                                "#B0BEC5",
                                "#B0BEC5",
                                "#B0BEC5",
                                "#B0BEC5",
                                "#B0BEC5",
                                "#B0BEC5",
                                "#B0BEC5",
                                "#B0BEC5",
                                "#B0BEC5",
                                "#B0BEC5",
                                "#B0BEC5",
                                "#B0BEC5",
                                "#B0BEC5",
                                "#B0BEC5",
                                "#B0BEC5",
                                "#B0BEC5",
                                "#B0BEC5",
                                "#B0BEC5",
                                "#B0BEC5",
                                "#B0BEC5",
                                "red",
                                "#B0BEC5",
                                "#B0BEC5",
                                "#B0BEC5",
                                "#B0BEC5",
                                "#B0BEC5",
                                "#B0BEC5",
                                "#B0BEC5",
                                "#B0BEC5",
                                "#B0BEC5",
                                "#B0BEC5",
                                "#B0BEC5",
                                "#B0BEC5",
                                "#B0BEC5",
                                "#B0BEC5",
                                "#B0BEC5",
                                "#B0BEC5",
                                "#B0BEC5",
                                "#B0BEC5",
                                "#B0BEC5",
                                "#B0BEC5",
                                "#B0BEC5",
                                "#B0BEC5",
                                "#B0BEC5",
                                "#B0BEC5",
                                "#B0BEC5",
                                "#B0BEC5",
                                "#B0BEC5",
                                "#B0BEC5",
                                "#B0BEC5",
                                "#B0BEC5",
                                "#B0BEC5",
                                "#B0BEC5",
                                "#B0BEC5",
                                "#B0BEC5",
                                "#B0BEC5",
                                "#B0BEC5",
                                "#B0BEC5",
                                "#B0BEC5"
                              ]
                            ]
                          }
                        ],
                        "label": "Topic 25",
                        "method": "update"
                      },
                      {
                        "args": [
                          {
                            "marker.color": [
                              [
                                "#B0BEC5",
                                "#B0BEC5",
                                "#B0BEC5",
                                "#B0BEC5",
                                "#B0BEC5",
                                "#B0BEC5",
                                "#B0BEC5",
                                "#B0BEC5",
                                "#B0BEC5",
                                "#B0BEC5",
                                "#B0BEC5",
                                "#B0BEC5",
                                "#B0BEC5",
                                "#B0BEC5",
                                "#B0BEC5",
                                "#B0BEC5",
                                "#B0BEC5",
                                "#B0BEC5",
                                "#B0BEC5",
                                "#B0BEC5",
                                "#B0BEC5",
                                "#B0BEC5",
                                "#B0BEC5",
                                "#B0BEC5",
                                "#B0BEC5",
                                "#B0BEC5",
                                "red",
                                "#B0BEC5",
                                "#B0BEC5",
                                "#B0BEC5",
                                "#B0BEC5",
                                "#B0BEC5",
                                "#B0BEC5",
                                "#B0BEC5",
                                "#B0BEC5",
                                "#B0BEC5",
                                "#B0BEC5",
                                "#B0BEC5",
                                "#B0BEC5",
                                "#B0BEC5",
                                "#B0BEC5",
                                "#B0BEC5",
                                "#B0BEC5",
                                "#B0BEC5",
                                "#B0BEC5",
                                "#B0BEC5",
                                "#B0BEC5",
                                "#B0BEC5",
                                "#B0BEC5",
                                "#B0BEC5",
                                "#B0BEC5",
                                "#B0BEC5",
                                "#B0BEC5",
                                "#B0BEC5",
                                "#B0BEC5",
                                "#B0BEC5",
                                "#B0BEC5",
                                "#B0BEC5",
                                "#B0BEC5",
                                "#B0BEC5",
                                "#B0BEC5",
                                "#B0BEC5",
                                "#B0BEC5",
                                "#B0BEC5"
                              ]
                            ]
                          }
                        ],
                        "label": "Topic 26",
                        "method": "update"
                      },
                      {
                        "args": [
                          {
                            "marker.color": [
                              [
                                "#B0BEC5",
                                "#B0BEC5",
                                "#B0BEC5",
                                "#B0BEC5",
                                "#B0BEC5",
                                "#B0BEC5",
                                "#B0BEC5",
                                "#B0BEC5",
                                "#B0BEC5",
                                "#B0BEC5",
                                "#B0BEC5",
                                "#B0BEC5",
                                "#B0BEC5",
                                "#B0BEC5",
                                "#B0BEC5",
                                "#B0BEC5",
                                "#B0BEC5",
                                "#B0BEC5",
                                "#B0BEC5",
                                "#B0BEC5",
                                "#B0BEC5",
                                "#B0BEC5",
                                "#B0BEC5",
                                "#B0BEC5",
                                "#B0BEC5",
                                "#B0BEC5",
                                "#B0BEC5",
                                "red",
                                "#B0BEC5",
                                "#B0BEC5",
                                "#B0BEC5",
                                "#B0BEC5",
                                "#B0BEC5",
                                "#B0BEC5",
                                "#B0BEC5",
                                "#B0BEC5",
                                "#B0BEC5",
                                "#B0BEC5",
                                "#B0BEC5",
                                "#B0BEC5",
                                "#B0BEC5",
                                "#B0BEC5",
                                "#B0BEC5",
                                "#B0BEC5",
                                "#B0BEC5",
                                "#B0BEC5",
                                "#B0BEC5",
                                "#B0BEC5",
                                "#B0BEC5",
                                "#B0BEC5",
                                "#B0BEC5",
                                "#B0BEC5",
                                "#B0BEC5",
                                "#B0BEC5",
                                "#B0BEC5",
                                "#B0BEC5",
                                "#B0BEC5",
                                "#B0BEC5",
                                "#B0BEC5",
                                "#B0BEC5",
                                "#B0BEC5",
                                "#B0BEC5",
                                "#B0BEC5",
                                "#B0BEC5"
                              ]
                            ]
                          }
                        ],
                        "label": "Topic 27",
                        "method": "update"
                      },
                      {
                        "args": [
                          {
                            "marker.color": [
                              [
                                "#B0BEC5",
                                "#B0BEC5",
                                "#B0BEC5",
                                "#B0BEC5",
                                "#B0BEC5",
                                "#B0BEC5",
                                "#B0BEC5",
                                "#B0BEC5",
                                "#B0BEC5",
                                "#B0BEC5",
                                "#B0BEC5",
                                "#B0BEC5",
                                "#B0BEC5",
                                "#B0BEC5",
                                "#B0BEC5",
                                "#B0BEC5",
                                "#B0BEC5",
                                "#B0BEC5",
                                "#B0BEC5",
                                "#B0BEC5",
                                "#B0BEC5",
                                "#B0BEC5",
                                "#B0BEC5",
                                "#B0BEC5",
                                "#B0BEC5",
                                "#B0BEC5",
                                "#B0BEC5",
                                "#B0BEC5",
                                "red",
                                "#B0BEC5",
                                "#B0BEC5",
                                "#B0BEC5",
                                "#B0BEC5",
                                "#B0BEC5",
                                "#B0BEC5",
                                "#B0BEC5",
                                "#B0BEC5",
                                "#B0BEC5",
                                "#B0BEC5",
                                "#B0BEC5",
                                "#B0BEC5",
                                "#B0BEC5",
                                "#B0BEC5",
                                "#B0BEC5",
                                "#B0BEC5",
                                "#B0BEC5",
                                "#B0BEC5",
                                "#B0BEC5",
                                "#B0BEC5",
                                "#B0BEC5",
                                "#B0BEC5",
                                "#B0BEC5",
                                "#B0BEC5",
                                "#B0BEC5",
                                "#B0BEC5",
                                "#B0BEC5",
                                "#B0BEC5",
                                "#B0BEC5",
                                "#B0BEC5",
                                "#B0BEC5",
                                "#B0BEC5",
                                "#B0BEC5",
                                "#B0BEC5",
                                "#B0BEC5"
                              ]
                            ]
                          }
                        ],
                        "label": "Topic 28",
                        "method": "update"
                      },
                      {
                        "args": [
                          {
                            "marker.color": [
                              [
                                "#B0BEC5",
                                "#B0BEC5",
                                "#B0BEC5",
                                "#B0BEC5",
                                "#B0BEC5",
                                "#B0BEC5",
                                "#B0BEC5",
                                "#B0BEC5",
                                "#B0BEC5",
                                "#B0BEC5",
                                "#B0BEC5",
                                "#B0BEC5",
                                "#B0BEC5",
                                "#B0BEC5",
                                "#B0BEC5",
                                "#B0BEC5",
                                "#B0BEC5",
                                "#B0BEC5",
                                "#B0BEC5",
                                "#B0BEC5",
                                "#B0BEC5",
                                "#B0BEC5",
                                "#B0BEC5",
                                "#B0BEC5",
                                "#B0BEC5",
                                "#B0BEC5",
                                "#B0BEC5",
                                "#B0BEC5",
                                "#B0BEC5",
                                "red",
                                "#B0BEC5",
                                "#B0BEC5",
                                "#B0BEC5",
                                "#B0BEC5",
                                "#B0BEC5",
                                "#B0BEC5",
                                "#B0BEC5",
                                "#B0BEC5",
                                "#B0BEC5",
                                "#B0BEC5",
                                "#B0BEC5",
                                "#B0BEC5",
                                "#B0BEC5",
                                "#B0BEC5",
                                "#B0BEC5",
                                "#B0BEC5",
                                "#B0BEC5",
                                "#B0BEC5",
                                "#B0BEC5",
                                "#B0BEC5",
                                "#B0BEC5",
                                "#B0BEC5",
                                "#B0BEC5",
                                "#B0BEC5",
                                "#B0BEC5",
                                "#B0BEC5",
                                "#B0BEC5",
                                "#B0BEC5",
                                "#B0BEC5",
                                "#B0BEC5",
                                "#B0BEC5",
                                "#B0BEC5",
                                "#B0BEC5",
                                "#B0BEC5"
                              ]
                            ]
                          }
                        ],
                        "label": "Topic 29",
                        "method": "update"
                      },
                      {
                        "args": [
                          {
                            "marker.color": [
                              [
                                "#B0BEC5",
                                "#B0BEC5",
                                "#B0BEC5",
                                "#B0BEC5",
                                "#B0BEC5",
                                "#B0BEC5",
                                "#B0BEC5",
                                "#B0BEC5",
                                "#B0BEC5",
                                "#B0BEC5",
                                "#B0BEC5",
                                "#B0BEC5",
                                "#B0BEC5",
                                "#B0BEC5",
                                "#B0BEC5",
                                "#B0BEC5",
                                "#B0BEC5",
                                "#B0BEC5",
                                "#B0BEC5",
                                "#B0BEC5",
                                "#B0BEC5",
                                "#B0BEC5",
                                "#B0BEC5",
                                "#B0BEC5",
                                "#B0BEC5",
                                "#B0BEC5",
                                "#B0BEC5",
                                "#B0BEC5",
                                "#B0BEC5",
                                "#B0BEC5",
                                "red",
                                "#B0BEC5",
                                "#B0BEC5",
                                "#B0BEC5",
                                "#B0BEC5",
                                "#B0BEC5",
                                "#B0BEC5",
                                "#B0BEC5",
                                "#B0BEC5",
                                "#B0BEC5",
                                "#B0BEC5",
                                "#B0BEC5",
                                "#B0BEC5",
                                "#B0BEC5",
                                "#B0BEC5",
                                "#B0BEC5",
                                "#B0BEC5",
                                "#B0BEC5",
                                "#B0BEC5",
                                "#B0BEC5",
                                "#B0BEC5",
                                "#B0BEC5",
                                "#B0BEC5",
                                "#B0BEC5",
                                "#B0BEC5",
                                "#B0BEC5",
                                "#B0BEC5",
                                "#B0BEC5",
                                "#B0BEC5",
                                "#B0BEC5",
                                "#B0BEC5",
                                "#B0BEC5",
                                "#B0BEC5",
                                "#B0BEC5"
                              ]
                            ]
                          }
                        ],
                        "label": "Topic 30",
                        "method": "update"
                      },
                      {
                        "args": [
                          {
                            "marker.color": [
                              [
                                "#B0BEC5",
                                "#B0BEC5",
                                "#B0BEC5",
                                "#B0BEC5",
                                "#B0BEC5",
                                "#B0BEC5",
                                "#B0BEC5",
                                "#B0BEC5",
                                "#B0BEC5",
                                "#B0BEC5",
                                "#B0BEC5",
                                "#B0BEC5",
                                "#B0BEC5",
                                "#B0BEC5",
                                "#B0BEC5",
                                "#B0BEC5",
                                "#B0BEC5",
                                "#B0BEC5",
                                "#B0BEC5",
                                "#B0BEC5",
                                "#B0BEC5",
                                "#B0BEC5",
                                "#B0BEC5",
                                "#B0BEC5",
                                "#B0BEC5",
                                "#B0BEC5",
                                "#B0BEC5",
                                "#B0BEC5",
                                "#B0BEC5",
                                "#B0BEC5",
                                "#B0BEC5",
                                "red",
                                "#B0BEC5",
                                "#B0BEC5",
                                "#B0BEC5",
                                "#B0BEC5",
                                "#B0BEC5",
                                "#B0BEC5",
                                "#B0BEC5",
                                "#B0BEC5",
                                "#B0BEC5",
                                "#B0BEC5",
                                "#B0BEC5",
                                "#B0BEC5",
                                "#B0BEC5",
                                "#B0BEC5",
                                "#B0BEC5",
                                "#B0BEC5",
                                "#B0BEC5",
                                "#B0BEC5",
                                "#B0BEC5",
                                "#B0BEC5",
                                "#B0BEC5",
                                "#B0BEC5",
                                "#B0BEC5",
                                "#B0BEC5",
                                "#B0BEC5",
                                "#B0BEC5",
                                "#B0BEC5",
                                "#B0BEC5",
                                "#B0BEC5",
                                "#B0BEC5",
                                "#B0BEC5",
                                "#B0BEC5"
                              ]
                            ]
                          }
                        ],
                        "label": "Topic 31",
                        "method": "update"
                      },
                      {
                        "args": [
                          {
                            "marker.color": [
                              [
                                "#B0BEC5",
                                "#B0BEC5",
                                "#B0BEC5",
                                "#B0BEC5",
                                "#B0BEC5",
                                "#B0BEC5",
                                "#B0BEC5",
                                "#B0BEC5",
                                "#B0BEC5",
                                "#B0BEC5",
                                "#B0BEC5",
                                "#B0BEC5",
                                "#B0BEC5",
                                "#B0BEC5",
                                "#B0BEC5",
                                "#B0BEC5",
                                "#B0BEC5",
                                "#B0BEC5",
                                "#B0BEC5",
                                "#B0BEC5",
                                "#B0BEC5",
                                "#B0BEC5",
                                "#B0BEC5",
                                "#B0BEC5",
                                "#B0BEC5",
                                "#B0BEC5",
                                "#B0BEC5",
                                "#B0BEC5",
                                "#B0BEC5",
                                "#B0BEC5",
                                "#B0BEC5",
                                "#B0BEC5",
                                "red",
                                "#B0BEC5",
                                "#B0BEC5",
                                "#B0BEC5",
                                "#B0BEC5",
                                "#B0BEC5",
                                "#B0BEC5",
                                "#B0BEC5",
                                "#B0BEC5",
                                "#B0BEC5",
                                "#B0BEC5",
                                "#B0BEC5",
                                "#B0BEC5",
                                "#B0BEC5",
                                "#B0BEC5",
                                "#B0BEC5",
                                "#B0BEC5",
                                "#B0BEC5",
                                "#B0BEC5",
                                "#B0BEC5",
                                "#B0BEC5",
                                "#B0BEC5",
                                "#B0BEC5",
                                "#B0BEC5",
                                "#B0BEC5",
                                "#B0BEC5",
                                "#B0BEC5",
                                "#B0BEC5",
                                "#B0BEC5",
                                "#B0BEC5",
                                "#B0BEC5",
                                "#B0BEC5"
                              ]
                            ]
                          }
                        ],
                        "label": "Topic 32",
                        "method": "update"
                      },
                      {
                        "args": [
                          {
                            "marker.color": [
                              [
                                "#B0BEC5",
                                "#B0BEC5",
                                "#B0BEC5",
                                "#B0BEC5",
                                "#B0BEC5",
                                "#B0BEC5",
                                "#B0BEC5",
                                "#B0BEC5",
                                "#B0BEC5",
                                "#B0BEC5",
                                "#B0BEC5",
                                "#B0BEC5",
                                "#B0BEC5",
                                "#B0BEC5",
                                "#B0BEC5",
                                "#B0BEC5",
                                "#B0BEC5",
                                "#B0BEC5",
                                "#B0BEC5",
                                "#B0BEC5",
                                "#B0BEC5",
                                "#B0BEC5",
                                "#B0BEC5",
                                "#B0BEC5",
                                "#B0BEC5",
                                "#B0BEC5",
                                "#B0BEC5",
                                "#B0BEC5",
                                "#B0BEC5",
                                "#B0BEC5",
                                "#B0BEC5",
                                "#B0BEC5",
                                "#B0BEC5",
                                "red",
                                "#B0BEC5",
                                "#B0BEC5",
                                "#B0BEC5",
                                "#B0BEC5",
                                "#B0BEC5",
                                "#B0BEC5",
                                "#B0BEC5",
                                "#B0BEC5",
                                "#B0BEC5",
                                "#B0BEC5",
                                "#B0BEC5",
                                "#B0BEC5",
                                "#B0BEC5",
                                "#B0BEC5",
                                "#B0BEC5",
                                "#B0BEC5",
                                "#B0BEC5",
                                "#B0BEC5",
                                "#B0BEC5",
                                "#B0BEC5",
                                "#B0BEC5",
                                "#B0BEC5",
                                "#B0BEC5",
                                "#B0BEC5",
                                "#B0BEC5",
                                "#B0BEC5",
                                "#B0BEC5",
                                "#B0BEC5",
                                "#B0BEC5",
                                "#B0BEC5"
                              ]
                            ]
                          }
                        ],
                        "label": "Topic 33",
                        "method": "update"
                      },
                      {
                        "args": [
                          {
                            "marker.color": [
                              [
                                "#B0BEC5",
                                "#B0BEC5",
                                "#B0BEC5",
                                "#B0BEC5",
                                "#B0BEC5",
                                "#B0BEC5",
                                "#B0BEC5",
                                "#B0BEC5",
                                "#B0BEC5",
                                "#B0BEC5",
                                "#B0BEC5",
                                "#B0BEC5",
                                "#B0BEC5",
                                "#B0BEC5",
                                "#B0BEC5",
                                "#B0BEC5",
                                "#B0BEC5",
                                "#B0BEC5",
                                "#B0BEC5",
                                "#B0BEC5",
                                "#B0BEC5",
                                "#B0BEC5",
                                "#B0BEC5",
                                "#B0BEC5",
                                "#B0BEC5",
                                "#B0BEC5",
                                "#B0BEC5",
                                "#B0BEC5",
                                "#B0BEC5",
                                "#B0BEC5",
                                "#B0BEC5",
                                "#B0BEC5",
                                "#B0BEC5",
                                "#B0BEC5",
                                "red",
                                "#B0BEC5",
                                "#B0BEC5",
                                "#B0BEC5",
                                "#B0BEC5",
                                "#B0BEC5",
                                "#B0BEC5",
                                "#B0BEC5",
                                "#B0BEC5",
                                "#B0BEC5",
                                "#B0BEC5",
                                "#B0BEC5",
                                "#B0BEC5",
                                "#B0BEC5",
                                "#B0BEC5",
                                "#B0BEC5",
                                "#B0BEC5",
                                "#B0BEC5",
                                "#B0BEC5",
                                "#B0BEC5",
                                "#B0BEC5",
                                "#B0BEC5",
                                "#B0BEC5",
                                "#B0BEC5",
                                "#B0BEC5",
                                "#B0BEC5",
                                "#B0BEC5",
                                "#B0BEC5",
                                "#B0BEC5",
                                "#B0BEC5"
                              ]
                            ]
                          }
                        ],
                        "label": "Topic 34",
                        "method": "update"
                      },
                      {
                        "args": [
                          {
                            "marker.color": [
                              [
                                "#B0BEC5",
                                "#B0BEC5",
                                "#B0BEC5",
                                "#B0BEC5",
                                "#B0BEC5",
                                "#B0BEC5",
                                "#B0BEC5",
                                "#B0BEC5",
                                "#B0BEC5",
                                "#B0BEC5",
                                "#B0BEC5",
                                "#B0BEC5",
                                "#B0BEC5",
                                "#B0BEC5",
                                "#B0BEC5",
                                "#B0BEC5",
                                "#B0BEC5",
                                "#B0BEC5",
                                "#B0BEC5",
                                "#B0BEC5",
                                "#B0BEC5",
                                "#B0BEC5",
                                "#B0BEC5",
                                "#B0BEC5",
                                "#B0BEC5",
                                "#B0BEC5",
                                "#B0BEC5",
                                "#B0BEC5",
                                "#B0BEC5",
                                "#B0BEC5",
                                "#B0BEC5",
                                "#B0BEC5",
                                "#B0BEC5",
                                "#B0BEC5",
                                "#B0BEC5",
                                "red",
                                "#B0BEC5",
                                "#B0BEC5",
                                "#B0BEC5",
                                "#B0BEC5",
                                "#B0BEC5",
                                "#B0BEC5",
                                "#B0BEC5",
                                "#B0BEC5",
                                "#B0BEC5",
                                "#B0BEC5",
                                "#B0BEC5",
                                "#B0BEC5",
                                "#B0BEC5",
                                "#B0BEC5",
                                "#B0BEC5",
                                "#B0BEC5",
                                "#B0BEC5",
                                "#B0BEC5",
                                "#B0BEC5",
                                "#B0BEC5",
                                "#B0BEC5",
                                "#B0BEC5",
                                "#B0BEC5",
                                "#B0BEC5",
                                "#B0BEC5",
                                "#B0BEC5",
                                "#B0BEC5",
                                "#B0BEC5"
                              ]
                            ]
                          }
                        ],
                        "label": "Topic 35",
                        "method": "update"
                      },
                      {
                        "args": [
                          {
                            "marker.color": [
                              [
                                "#B0BEC5",
                                "#B0BEC5",
                                "#B0BEC5",
                                "#B0BEC5",
                                "#B0BEC5",
                                "#B0BEC5",
                                "#B0BEC5",
                                "#B0BEC5",
                                "#B0BEC5",
                                "#B0BEC5",
                                "#B0BEC5",
                                "#B0BEC5",
                                "#B0BEC5",
                                "#B0BEC5",
                                "#B0BEC5",
                                "#B0BEC5",
                                "#B0BEC5",
                                "#B0BEC5",
                                "#B0BEC5",
                                "#B0BEC5",
                                "#B0BEC5",
                                "#B0BEC5",
                                "#B0BEC5",
                                "#B0BEC5",
                                "#B0BEC5",
                                "#B0BEC5",
                                "#B0BEC5",
                                "#B0BEC5",
                                "#B0BEC5",
                                "#B0BEC5",
                                "#B0BEC5",
                                "#B0BEC5",
                                "#B0BEC5",
                                "#B0BEC5",
                                "#B0BEC5",
                                "#B0BEC5",
                                "red",
                                "#B0BEC5",
                                "#B0BEC5",
                                "#B0BEC5",
                                "#B0BEC5",
                                "#B0BEC5",
                                "#B0BEC5",
                                "#B0BEC5",
                                "#B0BEC5",
                                "#B0BEC5",
                                "#B0BEC5",
                                "#B0BEC5",
                                "#B0BEC5",
                                "#B0BEC5",
                                "#B0BEC5",
                                "#B0BEC5",
                                "#B0BEC5",
                                "#B0BEC5",
                                "#B0BEC5",
                                "#B0BEC5",
                                "#B0BEC5",
                                "#B0BEC5",
                                "#B0BEC5",
                                "#B0BEC5",
                                "#B0BEC5",
                                "#B0BEC5",
                                "#B0BEC5",
                                "#B0BEC5"
                              ]
                            ]
                          }
                        ],
                        "label": "Topic 36",
                        "method": "update"
                      },
                      {
                        "args": [
                          {
                            "marker.color": [
                              [
                                "#B0BEC5",
                                "#B0BEC5",
                                "#B0BEC5",
                                "#B0BEC5",
                                "#B0BEC5",
                                "#B0BEC5",
                                "#B0BEC5",
                                "#B0BEC5",
                                "#B0BEC5",
                                "#B0BEC5",
                                "#B0BEC5",
                                "#B0BEC5",
                                "#B0BEC5",
                                "#B0BEC5",
                                "#B0BEC5",
                                "#B0BEC5",
                                "#B0BEC5",
                                "#B0BEC5",
                                "#B0BEC5",
                                "#B0BEC5",
                                "#B0BEC5",
                                "#B0BEC5",
                                "#B0BEC5",
                                "#B0BEC5",
                                "#B0BEC5",
                                "#B0BEC5",
                                "#B0BEC5",
                                "#B0BEC5",
                                "#B0BEC5",
                                "#B0BEC5",
                                "#B0BEC5",
                                "#B0BEC5",
                                "#B0BEC5",
                                "#B0BEC5",
                                "#B0BEC5",
                                "#B0BEC5",
                                "#B0BEC5",
                                "red",
                                "#B0BEC5",
                                "#B0BEC5",
                                "#B0BEC5",
                                "#B0BEC5",
                                "#B0BEC5",
                                "#B0BEC5",
                                "#B0BEC5",
                                "#B0BEC5",
                                "#B0BEC5",
                                "#B0BEC5",
                                "#B0BEC5",
                                "#B0BEC5",
                                "#B0BEC5",
                                "#B0BEC5",
                                "#B0BEC5",
                                "#B0BEC5",
                                "#B0BEC5",
                                "#B0BEC5",
                                "#B0BEC5",
                                "#B0BEC5",
                                "#B0BEC5",
                                "#B0BEC5",
                                "#B0BEC5",
                                "#B0BEC5",
                                "#B0BEC5",
                                "#B0BEC5"
                              ]
                            ]
                          }
                        ],
                        "label": "Topic 37",
                        "method": "update"
                      },
                      {
                        "args": [
                          {
                            "marker.color": [
                              [
                                "#B0BEC5",
                                "#B0BEC5",
                                "#B0BEC5",
                                "#B0BEC5",
                                "#B0BEC5",
                                "#B0BEC5",
                                "#B0BEC5",
                                "#B0BEC5",
                                "#B0BEC5",
                                "#B0BEC5",
                                "#B0BEC5",
                                "#B0BEC5",
                                "#B0BEC5",
                                "#B0BEC5",
                                "#B0BEC5",
                                "#B0BEC5",
                                "#B0BEC5",
                                "#B0BEC5",
                                "#B0BEC5",
                                "#B0BEC5",
                                "#B0BEC5",
                                "#B0BEC5",
                                "#B0BEC5",
                                "#B0BEC5",
                                "#B0BEC5",
                                "#B0BEC5",
                                "#B0BEC5",
                                "#B0BEC5",
                                "#B0BEC5",
                                "#B0BEC5",
                                "#B0BEC5",
                                "#B0BEC5",
                                "#B0BEC5",
                                "#B0BEC5",
                                "#B0BEC5",
                                "#B0BEC5",
                                "#B0BEC5",
                                "#B0BEC5",
                                "red",
                                "#B0BEC5",
                                "#B0BEC5",
                                "#B0BEC5",
                                "#B0BEC5",
                                "#B0BEC5",
                                "#B0BEC5",
                                "#B0BEC5",
                                "#B0BEC5",
                                "#B0BEC5",
                                "#B0BEC5",
                                "#B0BEC5",
                                "#B0BEC5",
                                "#B0BEC5",
                                "#B0BEC5",
                                "#B0BEC5",
                                "#B0BEC5",
                                "#B0BEC5",
                                "#B0BEC5",
                                "#B0BEC5",
                                "#B0BEC5",
                                "#B0BEC5",
                                "#B0BEC5",
                                "#B0BEC5",
                                "#B0BEC5",
                                "#B0BEC5"
                              ]
                            ]
                          }
                        ],
                        "label": "Topic 38",
                        "method": "update"
                      },
                      {
                        "args": [
                          {
                            "marker.color": [
                              [
                                "#B0BEC5",
                                "#B0BEC5",
                                "#B0BEC5",
                                "#B0BEC5",
                                "#B0BEC5",
                                "#B0BEC5",
                                "#B0BEC5",
                                "#B0BEC5",
                                "#B0BEC5",
                                "#B0BEC5",
                                "#B0BEC5",
                                "#B0BEC5",
                                "#B0BEC5",
                                "#B0BEC5",
                                "#B0BEC5",
                                "#B0BEC5",
                                "#B0BEC5",
                                "#B0BEC5",
                                "#B0BEC5",
                                "#B0BEC5",
                                "#B0BEC5",
                                "#B0BEC5",
                                "#B0BEC5",
                                "#B0BEC5",
                                "#B0BEC5",
                                "#B0BEC5",
                                "#B0BEC5",
                                "#B0BEC5",
                                "#B0BEC5",
                                "#B0BEC5",
                                "#B0BEC5",
                                "#B0BEC5",
                                "#B0BEC5",
                                "#B0BEC5",
                                "#B0BEC5",
                                "#B0BEC5",
                                "#B0BEC5",
                                "#B0BEC5",
                                "#B0BEC5",
                                "red",
                                "#B0BEC5",
                                "#B0BEC5",
                                "#B0BEC5",
                                "#B0BEC5",
                                "#B0BEC5",
                                "#B0BEC5",
                                "#B0BEC5",
                                "#B0BEC5",
                                "#B0BEC5",
                                "#B0BEC5",
                                "#B0BEC5",
                                "#B0BEC5",
                                "#B0BEC5",
                                "#B0BEC5",
                                "#B0BEC5",
                                "#B0BEC5",
                                "#B0BEC5",
                                "#B0BEC5",
                                "#B0BEC5",
                                "#B0BEC5",
                                "#B0BEC5",
                                "#B0BEC5",
                                "#B0BEC5",
                                "#B0BEC5"
                              ]
                            ]
                          }
                        ],
                        "label": "Topic 39",
                        "method": "update"
                      },
                      {
                        "args": [
                          {
                            "marker.color": [
                              [
                                "#B0BEC5",
                                "#B0BEC5",
                                "#B0BEC5",
                                "#B0BEC5",
                                "#B0BEC5",
                                "#B0BEC5",
                                "#B0BEC5",
                                "#B0BEC5",
                                "#B0BEC5",
                                "#B0BEC5",
                                "#B0BEC5",
                                "#B0BEC5",
                                "#B0BEC5",
                                "#B0BEC5",
                                "#B0BEC5",
                                "#B0BEC5",
                                "#B0BEC5",
                                "#B0BEC5",
                                "#B0BEC5",
                                "#B0BEC5",
                                "#B0BEC5",
                                "#B0BEC5",
                                "#B0BEC5",
                                "#B0BEC5",
                                "#B0BEC5",
                                "#B0BEC5",
                                "#B0BEC5",
                                "#B0BEC5",
                                "#B0BEC5",
                                "#B0BEC5",
                                "#B0BEC5",
                                "#B0BEC5",
                                "#B0BEC5",
                                "#B0BEC5",
                                "#B0BEC5",
                                "#B0BEC5",
                                "#B0BEC5",
                                "#B0BEC5",
                                "#B0BEC5",
                                "#B0BEC5",
                                "red",
                                "#B0BEC5",
                                "#B0BEC5",
                                "#B0BEC5",
                                "#B0BEC5",
                                "#B0BEC5",
                                "#B0BEC5",
                                "#B0BEC5",
                                "#B0BEC5",
                                "#B0BEC5",
                                "#B0BEC5",
                                "#B0BEC5",
                                "#B0BEC5",
                                "#B0BEC5",
                                "#B0BEC5",
                                "#B0BEC5",
                                "#B0BEC5",
                                "#B0BEC5",
                                "#B0BEC5",
                                "#B0BEC5",
                                "#B0BEC5",
                                "#B0BEC5",
                                "#B0BEC5",
                                "#B0BEC5"
                              ]
                            ]
                          }
                        ],
                        "label": "Topic 40",
                        "method": "update"
                      },
                      {
                        "args": [
                          {
                            "marker.color": [
                              [
                                "#B0BEC5",
                                "#B0BEC5",
                                "#B0BEC5",
                                "#B0BEC5",
                                "#B0BEC5",
                                "#B0BEC5",
                                "#B0BEC5",
                                "#B0BEC5",
                                "#B0BEC5",
                                "#B0BEC5",
                                "#B0BEC5",
                                "#B0BEC5",
                                "#B0BEC5",
                                "#B0BEC5",
                                "#B0BEC5",
                                "#B0BEC5",
                                "#B0BEC5",
                                "#B0BEC5",
                                "#B0BEC5",
                                "#B0BEC5",
                                "#B0BEC5",
                                "#B0BEC5",
                                "#B0BEC5",
                                "#B0BEC5",
                                "#B0BEC5",
                                "#B0BEC5",
                                "#B0BEC5",
                                "#B0BEC5",
                                "#B0BEC5",
                                "#B0BEC5",
                                "#B0BEC5",
                                "#B0BEC5",
                                "#B0BEC5",
                                "#B0BEC5",
                                "#B0BEC5",
                                "#B0BEC5",
                                "#B0BEC5",
                                "#B0BEC5",
                                "#B0BEC5",
                                "#B0BEC5",
                                "#B0BEC5",
                                "red",
                                "#B0BEC5",
                                "#B0BEC5",
                                "#B0BEC5",
                                "#B0BEC5",
                                "#B0BEC5",
                                "#B0BEC5",
                                "#B0BEC5",
                                "#B0BEC5",
                                "#B0BEC5",
                                "#B0BEC5",
                                "#B0BEC5",
                                "#B0BEC5",
                                "#B0BEC5",
                                "#B0BEC5",
                                "#B0BEC5",
                                "#B0BEC5",
                                "#B0BEC5",
                                "#B0BEC5",
                                "#B0BEC5",
                                "#B0BEC5",
                                "#B0BEC5",
                                "#B0BEC5"
                              ]
                            ]
                          }
                        ],
                        "label": "Topic 41",
                        "method": "update"
                      },
                      {
                        "args": [
                          {
                            "marker.color": [
                              [
                                "#B0BEC5",
                                "#B0BEC5",
                                "#B0BEC5",
                                "#B0BEC5",
                                "#B0BEC5",
                                "#B0BEC5",
                                "#B0BEC5",
                                "#B0BEC5",
                                "#B0BEC5",
                                "#B0BEC5",
                                "#B0BEC5",
                                "#B0BEC5",
                                "#B0BEC5",
                                "#B0BEC5",
                                "#B0BEC5",
                                "#B0BEC5",
                                "#B0BEC5",
                                "#B0BEC5",
                                "#B0BEC5",
                                "#B0BEC5",
                                "#B0BEC5",
                                "#B0BEC5",
                                "#B0BEC5",
                                "#B0BEC5",
                                "#B0BEC5",
                                "#B0BEC5",
                                "#B0BEC5",
                                "#B0BEC5",
                                "#B0BEC5",
                                "#B0BEC5",
                                "#B0BEC5",
                                "#B0BEC5",
                                "#B0BEC5",
                                "#B0BEC5",
                                "#B0BEC5",
                                "#B0BEC5",
                                "#B0BEC5",
                                "#B0BEC5",
                                "#B0BEC5",
                                "#B0BEC5",
                                "#B0BEC5",
                                "#B0BEC5",
                                "red",
                                "#B0BEC5",
                                "#B0BEC5",
                                "#B0BEC5",
                                "#B0BEC5",
                                "#B0BEC5",
                                "#B0BEC5",
                                "#B0BEC5",
                                "#B0BEC5",
                                "#B0BEC5",
                                "#B0BEC5",
                                "#B0BEC5",
                                "#B0BEC5",
                                "#B0BEC5",
                                "#B0BEC5",
                                "#B0BEC5",
                                "#B0BEC5",
                                "#B0BEC5",
                                "#B0BEC5",
                                "#B0BEC5",
                                "#B0BEC5",
                                "#B0BEC5"
                              ]
                            ]
                          }
                        ],
                        "label": "Topic 42",
                        "method": "update"
                      },
                      {
                        "args": [
                          {
                            "marker.color": [
                              [
                                "#B0BEC5",
                                "#B0BEC5",
                                "#B0BEC5",
                                "#B0BEC5",
                                "#B0BEC5",
                                "#B0BEC5",
                                "#B0BEC5",
                                "#B0BEC5",
                                "#B0BEC5",
                                "#B0BEC5",
                                "#B0BEC5",
                                "#B0BEC5",
                                "#B0BEC5",
                                "#B0BEC5",
                                "#B0BEC5",
                                "#B0BEC5",
                                "#B0BEC5",
                                "#B0BEC5",
                                "#B0BEC5",
                                "#B0BEC5",
                                "#B0BEC5",
                                "#B0BEC5",
                                "#B0BEC5",
                                "#B0BEC5",
                                "#B0BEC5",
                                "#B0BEC5",
                                "#B0BEC5",
                                "#B0BEC5",
                                "#B0BEC5",
                                "#B0BEC5",
                                "#B0BEC5",
                                "#B0BEC5",
                                "#B0BEC5",
                                "#B0BEC5",
                                "#B0BEC5",
                                "#B0BEC5",
                                "#B0BEC5",
                                "#B0BEC5",
                                "#B0BEC5",
                                "#B0BEC5",
                                "#B0BEC5",
                                "#B0BEC5",
                                "#B0BEC5",
                                "red",
                                "#B0BEC5",
                                "#B0BEC5",
                                "#B0BEC5",
                                "#B0BEC5",
                                "#B0BEC5",
                                "#B0BEC5",
                                "#B0BEC5",
                                "#B0BEC5",
                                "#B0BEC5",
                                "#B0BEC5",
                                "#B0BEC5",
                                "#B0BEC5",
                                "#B0BEC5",
                                "#B0BEC5",
                                "#B0BEC5",
                                "#B0BEC5",
                                "#B0BEC5",
                                "#B0BEC5",
                                "#B0BEC5",
                                "#B0BEC5"
                              ]
                            ]
                          }
                        ],
                        "label": "Topic 43",
                        "method": "update"
                      },
                      {
                        "args": [
                          {
                            "marker.color": [
                              [
                                "#B0BEC5",
                                "#B0BEC5",
                                "#B0BEC5",
                                "#B0BEC5",
                                "#B0BEC5",
                                "#B0BEC5",
                                "#B0BEC5",
                                "#B0BEC5",
                                "#B0BEC5",
                                "#B0BEC5",
                                "#B0BEC5",
                                "#B0BEC5",
                                "#B0BEC5",
                                "#B0BEC5",
                                "#B0BEC5",
                                "#B0BEC5",
                                "#B0BEC5",
                                "#B0BEC5",
                                "#B0BEC5",
                                "#B0BEC5",
                                "#B0BEC5",
                                "#B0BEC5",
                                "#B0BEC5",
                                "#B0BEC5",
                                "#B0BEC5",
                                "#B0BEC5",
                                "#B0BEC5",
                                "#B0BEC5",
                                "#B0BEC5",
                                "#B0BEC5",
                                "#B0BEC5",
                                "#B0BEC5",
                                "#B0BEC5",
                                "#B0BEC5",
                                "#B0BEC5",
                                "#B0BEC5",
                                "#B0BEC5",
                                "#B0BEC5",
                                "#B0BEC5",
                                "#B0BEC5",
                                "#B0BEC5",
                                "#B0BEC5",
                                "#B0BEC5",
                                "#B0BEC5",
                                "red",
                                "#B0BEC5",
                                "#B0BEC5",
                                "#B0BEC5",
                                "#B0BEC5",
                                "#B0BEC5",
                                "#B0BEC5",
                                "#B0BEC5",
                                "#B0BEC5",
                                "#B0BEC5",
                                "#B0BEC5",
                                "#B0BEC5",
                                "#B0BEC5",
                                "#B0BEC5",
                                "#B0BEC5",
                                "#B0BEC5",
                                "#B0BEC5",
                                "#B0BEC5",
                                "#B0BEC5",
                                "#B0BEC5"
                              ]
                            ]
                          }
                        ],
                        "label": "Topic 44",
                        "method": "update"
                      },
                      {
                        "args": [
                          {
                            "marker.color": [
                              [
                                "#B0BEC5",
                                "#B0BEC5",
                                "#B0BEC5",
                                "#B0BEC5",
                                "#B0BEC5",
                                "#B0BEC5",
                                "#B0BEC5",
                                "#B0BEC5",
                                "#B0BEC5",
                                "#B0BEC5",
                                "#B0BEC5",
                                "#B0BEC5",
                                "#B0BEC5",
                                "#B0BEC5",
                                "#B0BEC5",
                                "#B0BEC5",
                                "#B0BEC5",
                                "#B0BEC5",
                                "#B0BEC5",
                                "#B0BEC5",
                                "#B0BEC5",
                                "#B0BEC5",
                                "#B0BEC5",
                                "#B0BEC5",
                                "#B0BEC5",
                                "#B0BEC5",
                                "#B0BEC5",
                                "#B0BEC5",
                                "#B0BEC5",
                                "#B0BEC5",
                                "#B0BEC5",
                                "#B0BEC5",
                                "#B0BEC5",
                                "#B0BEC5",
                                "#B0BEC5",
                                "#B0BEC5",
                                "#B0BEC5",
                                "#B0BEC5",
                                "#B0BEC5",
                                "#B0BEC5",
                                "#B0BEC5",
                                "#B0BEC5",
                                "#B0BEC5",
                                "#B0BEC5",
                                "#B0BEC5",
                                "red",
                                "#B0BEC5",
                                "#B0BEC5",
                                "#B0BEC5",
                                "#B0BEC5",
                                "#B0BEC5",
                                "#B0BEC5",
                                "#B0BEC5",
                                "#B0BEC5",
                                "#B0BEC5",
                                "#B0BEC5",
                                "#B0BEC5",
                                "#B0BEC5",
                                "#B0BEC5",
                                "#B0BEC5",
                                "#B0BEC5",
                                "#B0BEC5",
                                "#B0BEC5",
                                "#B0BEC5"
                              ]
                            ]
                          }
                        ],
                        "label": "Topic 45",
                        "method": "update"
                      },
                      {
                        "args": [
                          {
                            "marker.color": [
                              [
                                "#B0BEC5",
                                "#B0BEC5",
                                "#B0BEC5",
                                "#B0BEC5",
                                "#B0BEC5",
                                "#B0BEC5",
                                "#B0BEC5",
                                "#B0BEC5",
                                "#B0BEC5",
                                "#B0BEC5",
                                "#B0BEC5",
                                "#B0BEC5",
                                "#B0BEC5",
                                "#B0BEC5",
                                "#B0BEC5",
                                "#B0BEC5",
                                "#B0BEC5",
                                "#B0BEC5",
                                "#B0BEC5",
                                "#B0BEC5",
                                "#B0BEC5",
                                "#B0BEC5",
                                "#B0BEC5",
                                "#B0BEC5",
                                "#B0BEC5",
                                "#B0BEC5",
                                "#B0BEC5",
                                "#B0BEC5",
                                "#B0BEC5",
                                "#B0BEC5",
                                "#B0BEC5",
                                "#B0BEC5",
                                "#B0BEC5",
                                "#B0BEC5",
                                "#B0BEC5",
                                "#B0BEC5",
                                "#B0BEC5",
                                "#B0BEC5",
                                "#B0BEC5",
                                "#B0BEC5",
                                "#B0BEC5",
                                "#B0BEC5",
                                "#B0BEC5",
                                "#B0BEC5",
                                "#B0BEC5",
                                "#B0BEC5",
                                "red",
                                "#B0BEC5",
                                "#B0BEC5",
                                "#B0BEC5",
                                "#B0BEC5",
                                "#B0BEC5",
                                "#B0BEC5",
                                "#B0BEC5",
                                "#B0BEC5",
                                "#B0BEC5",
                                "#B0BEC5",
                                "#B0BEC5",
                                "#B0BEC5",
                                "#B0BEC5",
                                "#B0BEC5",
                                "#B0BEC5",
                                "#B0BEC5",
                                "#B0BEC5"
                              ]
                            ]
                          }
                        ],
                        "label": "Topic 46",
                        "method": "update"
                      },
                      {
                        "args": [
                          {
                            "marker.color": [
                              [
                                "#B0BEC5",
                                "#B0BEC5",
                                "#B0BEC5",
                                "#B0BEC5",
                                "#B0BEC5",
                                "#B0BEC5",
                                "#B0BEC5",
                                "#B0BEC5",
                                "#B0BEC5",
                                "#B0BEC5",
                                "#B0BEC5",
                                "#B0BEC5",
                                "#B0BEC5",
                                "#B0BEC5",
                                "#B0BEC5",
                                "#B0BEC5",
                                "#B0BEC5",
                                "#B0BEC5",
                                "#B0BEC5",
                                "#B0BEC5",
                                "#B0BEC5",
                                "#B0BEC5",
                                "#B0BEC5",
                                "#B0BEC5",
                                "#B0BEC5",
                                "#B0BEC5",
                                "#B0BEC5",
                                "#B0BEC5",
                                "#B0BEC5",
                                "#B0BEC5",
                                "#B0BEC5",
                                "#B0BEC5",
                                "#B0BEC5",
                                "#B0BEC5",
                                "#B0BEC5",
                                "#B0BEC5",
                                "#B0BEC5",
                                "#B0BEC5",
                                "#B0BEC5",
                                "#B0BEC5",
                                "#B0BEC5",
                                "#B0BEC5",
                                "#B0BEC5",
                                "#B0BEC5",
                                "#B0BEC5",
                                "#B0BEC5",
                                "#B0BEC5",
                                "red",
                                "#B0BEC5",
                                "#B0BEC5",
                                "#B0BEC5",
                                "#B0BEC5",
                                "#B0BEC5",
                                "#B0BEC5",
                                "#B0BEC5",
                                "#B0BEC5",
                                "#B0BEC5",
                                "#B0BEC5",
                                "#B0BEC5",
                                "#B0BEC5",
                                "#B0BEC5",
                                "#B0BEC5",
                                "#B0BEC5",
                                "#B0BEC5"
                              ]
                            ]
                          }
                        ],
                        "label": "Topic 47",
                        "method": "update"
                      },
                      {
                        "args": [
                          {
                            "marker.color": [
                              [
                                "#B0BEC5",
                                "#B0BEC5",
                                "#B0BEC5",
                                "#B0BEC5",
                                "#B0BEC5",
                                "#B0BEC5",
                                "#B0BEC5",
                                "#B0BEC5",
                                "#B0BEC5",
                                "#B0BEC5",
                                "#B0BEC5",
                                "#B0BEC5",
                                "#B0BEC5",
                                "#B0BEC5",
                                "#B0BEC5",
                                "#B0BEC5",
                                "#B0BEC5",
                                "#B0BEC5",
                                "#B0BEC5",
                                "#B0BEC5",
                                "#B0BEC5",
                                "#B0BEC5",
                                "#B0BEC5",
                                "#B0BEC5",
                                "#B0BEC5",
                                "#B0BEC5",
                                "#B0BEC5",
                                "#B0BEC5",
                                "#B0BEC5",
                                "#B0BEC5",
                                "#B0BEC5",
                                "#B0BEC5",
                                "#B0BEC5",
                                "#B0BEC5",
                                "#B0BEC5",
                                "#B0BEC5",
                                "#B0BEC5",
                                "#B0BEC5",
                                "#B0BEC5",
                                "#B0BEC5",
                                "#B0BEC5",
                                "#B0BEC5",
                                "#B0BEC5",
                                "#B0BEC5",
                                "#B0BEC5",
                                "#B0BEC5",
                                "#B0BEC5",
                                "#B0BEC5",
                                "red",
                                "#B0BEC5",
                                "#B0BEC5",
                                "#B0BEC5",
                                "#B0BEC5",
                                "#B0BEC5",
                                "#B0BEC5",
                                "#B0BEC5",
                                "#B0BEC5",
                                "#B0BEC5",
                                "#B0BEC5",
                                "#B0BEC5",
                                "#B0BEC5",
                                "#B0BEC5",
                                "#B0BEC5",
                                "#B0BEC5"
                              ]
                            ]
                          }
                        ],
                        "label": "Topic 48",
                        "method": "update"
                      },
                      {
                        "args": [
                          {
                            "marker.color": [
                              [
                                "#B0BEC5",
                                "#B0BEC5",
                                "#B0BEC5",
                                "#B0BEC5",
                                "#B0BEC5",
                                "#B0BEC5",
                                "#B0BEC5",
                                "#B0BEC5",
                                "#B0BEC5",
                                "#B0BEC5",
                                "#B0BEC5",
                                "#B0BEC5",
                                "#B0BEC5",
                                "#B0BEC5",
                                "#B0BEC5",
                                "#B0BEC5",
                                "#B0BEC5",
                                "#B0BEC5",
                                "#B0BEC5",
                                "#B0BEC5",
                                "#B0BEC5",
                                "#B0BEC5",
                                "#B0BEC5",
                                "#B0BEC5",
                                "#B0BEC5",
                                "#B0BEC5",
                                "#B0BEC5",
                                "#B0BEC5",
                                "#B0BEC5",
                                "#B0BEC5",
                                "#B0BEC5",
                                "#B0BEC5",
                                "#B0BEC5",
                                "#B0BEC5",
                                "#B0BEC5",
                                "#B0BEC5",
                                "#B0BEC5",
                                "#B0BEC5",
                                "#B0BEC5",
                                "#B0BEC5",
                                "#B0BEC5",
                                "#B0BEC5",
                                "#B0BEC5",
                                "#B0BEC5",
                                "#B0BEC5",
                                "#B0BEC5",
                                "#B0BEC5",
                                "#B0BEC5",
                                "#B0BEC5",
                                "red",
                                "#B0BEC5",
                                "#B0BEC5",
                                "#B0BEC5",
                                "#B0BEC5",
                                "#B0BEC5",
                                "#B0BEC5",
                                "#B0BEC5",
                                "#B0BEC5",
                                "#B0BEC5",
                                "#B0BEC5",
                                "#B0BEC5",
                                "#B0BEC5",
                                "#B0BEC5",
                                "#B0BEC5"
                              ]
                            ]
                          }
                        ],
                        "label": "Topic 49",
                        "method": "update"
                      },
                      {
                        "args": [
                          {
                            "marker.color": [
                              [
                                "#B0BEC5",
                                "#B0BEC5",
                                "#B0BEC5",
                                "#B0BEC5",
                                "#B0BEC5",
                                "#B0BEC5",
                                "#B0BEC5",
                                "#B0BEC5",
                                "#B0BEC5",
                                "#B0BEC5",
                                "#B0BEC5",
                                "#B0BEC5",
                                "#B0BEC5",
                                "#B0BEC5",
                                "#B0BEC5",
                                "#B0BEC5",
                                "#B0BEC5",
                                "#B0BEC5",
                                "#B0BEC5",
                                "#B0BEC5",
                                "#B0BEC5",
                                "#B0BEC5",
                                "#B0BEC5",
                                "#B0BEC5",
                                "#B0BEC5",
                                "#B0BEC5",
                                "#B0BEC5",
                                "#B0BEC5",
                                "#B0BEC5",
                                "#B0BEC5",
                                "#B0BEC5",
                                "#B0BEC5",
                                "#B0BEC5",
                                "#B0BEC5",
                                "#B0BEC5",
                                "#B0BEC5",
                                "#B0BEC5",
                                "#B0BEC5",
                                "#B0BEC5",
                                "#B0BEC5",
                                "#B0BEC5",
                                "#B0BEC5",
                                "#B0BEC5",
                                "#B0BEC5",
                                "#B0BEC5",
                                "#B0BEC5",
                                "#B0BEC5",
                                "#B0BEC5",
                                "#B0BEC5",
                                "#B0BEC5",
                                "red",
                                "#B0BEC5",
                                "#B0BEC5",
                                "#B0BEC5",
                                "#B0BEC5",
                                "#B0BEC5",
                                "#B0BEC5",
                                "#B0BEC5",
                                "#B0BEC5",
                                "#B0BEC5",
                                "#B0BEC5",
                                "#B0BEC5",
                                "#B0BEC5",
                                "#B0BEC5"
                              ]
                            ]
                          }
                        ],
                        "label": "Topic 50",
                        "method": "update"
                      },
                      {
                        "args": [
                          {
                            "marker.color": [
                              [
                                "#B0BEC5",
                                "#B0BEC5",
                                "#B0BEC5",
                                "#B0BEC5",
                                "#B0BEC5",
                                "#B0BEC5",
                                "#B0BEC5",
                                "#B0BEC5",
                                "#B0BEC5",
                                "#B0BEC5",
                                "#B0BEC5",
                                "#B0BEC5",
                                "#B0BEC5",
                                "#B0BEC5",
                                "#B0BEC5",
                                "#B0BEC5",
                                "#B0BEC5",
                                "#B0BEC5",
                                "#B0BEC5",
                                "#B0BEC5",
                                "#B0BEC5",
                                "#B0BEC5",
                                "#B0BEC5",
                                "#B0BEC5",
                                "#B0BEC5",
                                "#B0BEC5",
                                "#B0BEC5",
                                "#B0BEC5",
                                "#B0BEC5",
                                "#B0BEC5",
                                "#B0BEC5",
                                "#B0BEC5",
                                "#B0BEC5",
                                "#B0BEC5",
                                "#B0BEC5",
                                "#B0BEC5",
                                "#B0BEC5",
                                "#B0BEC5",
                                "#B0BEC5",
                                "#B0BEC5",
                                "#B0BEC5",
                                "#B0BEC5",
                                "#B0BEC5",
                                "#B0BEC5",
                                "#B0BEC5",
                                "#B0BEC5",
                                "#B0BEC5",
                                "#B0BEC5",
                                "#B0BEC5",
                                "#B0BEC5",
                                "#B0BEC5",
                                "red",
                                "#B0BEC5",
                                "#B0BEC5",
                                "#B0BEC5",
                                "#B0BEC5",
                                "#B0BEC5",
                                "#B0BEC5",
                                "#B0BEC5",
                                "#B0BEC5",
                                "#B0BEC5",
                                "#B0BEC5",
                                "#B0BEC5",
                                "#B0BEC5"
                              ]
                            ]
                          }
                        ],
                        "label": "Topic 51",
                        "method": "update"
                      },
                      {
                        "args": [
                          {
                            "marker.color": [
                              [
                                "#B0BEC5",
                                "#B0BEC5",
                                "#B0BEC5",
                                "#B0BEC5",
                                "#B0BEC5",
                                "#B0BEC5",
                                "#B0BEC5",
                                "#B0BEC5",
                                "#B0BEC5",
                                "#B0BEC5",
                                "#B0BEC5",
                                "#B0BEC5",
                                "#B0BEC5",
                                "#B0BEC5",
                                "#B0BEC5",
                                "#B0BEC5",
                                "#B0BEC5",
                                "#B0BEC5",
                                "#B0BEC5",
                                "#B0BEC5",
                                "#B0BEC5",
                                "#B0BEC5",
                                "#B0BEC5",
                                "#B0BEC5",
                                "#B0BEC5",
                                "#B0BEC5",
                                "#B0BEC5",
                                "#B0BEC5",
                                "#B0BEC5",
                                "#B0BEC5",
                                "#B0BEC5",
                                "#B0BEC5",
                                "#B0BEC5",
                                "#B0BEC5",
                                "#B0BEC5",
                                "#B0BEC5",
                                "#B0BEC5",
                                "#B0BEC5",
                                "#B0BEC5",
                                "#B0BEC5",
                                "#B0BEC5",
                                "#B0BEC5",
                                "#B0BEC5",
                                "#B0BEC5",
                                "#B0BEC5",
                                "#B0BEC5",
                                "#B0BEC5",
                                "#B0BEC5",
                                "#B0BEC5",
                                "#B0BEC5",
                                "#B0BEC5",
                                "#B0BEC5",
                                "red",
                                "#B0BEC5",
                                "#B0BEC5",
                                "#B0BEC5",
                                "#B0BEC5",
                                "#B0BEC5",
                                "#B0BEC5",
                                "#B0BEC5",
                                "#B0BEC5",
                                "#B0BEC5",
                                "#B0BEC5",
                                "#B0BEC5"
                              ]
                            ]
                          }
                        ],
                        "label": "Topic 52",
                        "method": "update"
                      },
                      {
                        "args": [
                          {
                            "marker.color": [
                              [
                                "#B0BEC5",
                                "#B0BEC5",
                                "#B0BEC5",
                                "#B0BEC5",
                                "#B0BEC5",
                                "#B0BEC5",
                                "#B0BEC5",
                                "#B0BEC5",
                                "#B0BEC5",
                                "#B0BEC5",
                                "#B0BEC5",
                                "#B0BEC5",
                                "#B0BEC5",
                                "#B0BEC5",
                                "#B0BEC5",
                                "#B0BEC5",
                                "#B0BEC5",
                                "#B0BEC5",
                                "#B0BEC5",
                                "#B0BEC5",
                                "#B0BEC5",
                                "#B0BEC5",
                                "#B0BEC5",
                                "#B0BEC5",
                                "#B0BEC5",
                                "#B0BEC5",
                                "#B0BEC5",
                                "#B0BEC5",
                                "#B0BEC5",
                                "#B0BEC5",
                                "#B0BEC5",
                                "#B0BEC5",
                                "#B0BEC5",
                                "#B0BEC5",
                                "#B0BEC5",
                                "#B0BEC5",
                                "#B0BEC5",
                                "#B0BEC5",
                                "#B0BEC5",
                                "#B0BEC5",
                                "#B0BEC5",
                                "#B0BEC5",
                                "#B0BEC5",
                                "#B0BEC5",
                                "#B0BEC5",
                                "#B0BEC5",
                                "#B0BEC5",
                                "#B0BEC5",
                                "#B0BEC5",
                                "#B0BEC5",
                                "#B0BEC5",
                                "#B0BEC5",
                                "#B0BEC5",
                                "red",
                                "#B0BEC5",
                                "#B0BEC5",
                                "#B0BEC5",
                                "#B0BEC5",
                                "#B0BEC5",
                                "#B0BEC5",
                                "#B0BEC5",
                                "#B0BEC5",
                                "#B0BEC5",
                                "#B0BEC5"
                              ]
                            ]
                          }
                        ],
                        "label": "Topic 53",
                        "method": "update"
                      },
                      {
                        "args": [
                          {
                            "marker.color": [
                              [
                                "#B0BEC5",
                                "#B0BEC5",
                                "#B0BEC5",
                                "#B0BEC5",
                                "#B0BEC5",
                                "#B0BEC5",
                                "#B0BEC5",
                                "#B0BEC5",
                                "#B0BEC5",
                                "#B0BEC5",
                                "#B0BEC5",
                                "#B0BEC5",
                                "#B0BEC5",
                                "#B0BEC5",
                                "#B0BEC5",
                                "#B0BEC5",
                                "#B0BEC5",
                                "#B0BEC5",
                                "#B0BEC5",
                                "#B0BEC5",
                                "#B0BEC5",
                                "#B0BEC5",
                                "#B0BEC5",
                                "#B0BEC5",
                                "#B0BEC5",
                                "#B0BEC5",
                                "#B0BEC5",
                                "#B0BEC5",
                                "#B0BEC5",
                                "#B0BEC5",
                                "#B0BEC5",
                                "#B0BEC5",
                                "#B0BEC5",
                                "#B0BEC5",
                                "#B0BEC5",
                                "#B0BEC5",
                                "#B0BEC5",
                                "#B0BEC5",
                                "#B0BEC5",
                                "#B0BEC5",
                                "#B0BEC5",
                                "#B0BEC5",
                                "#B0BEC5",
                                "#B0BEC5",
                                "#B0BEC5",
                                "#B0BEC5",
                                "#B0BEC5",
                                "#B0BEC5",
                                "#B0BEC5",
                                "#B0BEC5",
                                "#B0BEC5",
                                "#B0BEC5",
                                "#B0BEC5",
                                "#B0BEC5",
                                "red",
                                "#B0BEC5",
                                "#B0BEC5",
                                "#B0BEC5",
                                "#B0BEC5",
                                "#B0BEC5",
                                "#B0BEC5",
                                "#B0BEC5",
                                "#B0BEC5",
                                "#B0BEC5"
                              ]
                            ]
                          }
                        ],
                        "label": "Topic 54",
                        "method": "update"
                      },
                      {
                        "args": [
                          {
                            "marker.color": [
                              [
                                "#B0BEC5",
                                "#B0BEC5",
                                "#B0BEC5",
                                "#B0BEC5",
                                "#B0BEC5",
                                "#B0BEC5",
                                "#B0BEC5",
                                "#B0BEC5",
                                "#B0BEC5",
                                "#B0BEC5",
                                "#B0BEC5",
                                "#B0BEC5",
                                "#B0BEC5",
                                "#B0BEC5",
                                "#B0BEC5",
                                "#B0BEC5",
                                "#B0BEC5",
                                "#B0BEC5",
                                "#B0BEC5",
                                "#B0BEC5",
                                "#B0BEC5",
                                "#B0BEC5",
                                "#B0BEC5",
                                "#B0BEC5",
                                "#B0BEC5",
                                "#B0BEC5",
                                "#B0BEC5",
                                "#B0BEC5",
                                "#B0BEC5",
                                "#B0BEC5",
                                "#B0BEC5",
                                "#B0BEC5",
                                "#B0BEC5",
                                "#B0BEC5",
                                "#B0BEC5",
                                "#B0BEC5",
                                "#B0BEC5",
                                "#B0BEC5",
                                "#B0BEC5",
                                "#B0BEC5",
                                "#B0BEC5",
                                "#B0BEC5",
                                "#B0BEC5",
                                "#B0BEC5",
                                "#B0BEC5",
                                "#B0BEC5",
                                "#B0BEC5",
                                "#B0BEC5",
                                "#B0BEC5",
                                "#B0BEC5",
                                "#B0BEC5",
                                "#B0BEC5",
                                "#B0BEC5",
                                "#B0BEC5",
                                "#B0BEC5",
                                "red",
                                "#B0BEC5",
                                "#B0BEC5",
                                "#B0BEC5",
                                "#B0BEC5",
                                "#B0BEC5",
                                "#B0BEC5",
                                "#B0BEC5",
                                "#B0BEC5"
                              ]
                            ]
                          }
                        ],
                        "label": "Topic 55",
                        "method": "update"
                      },
                      {
                        "args": [
                          {
                            "marker.color": [
                              [
                                "#B0BEC5",
                                "#B0BEC5",
                                "#B0BEC5",
                                "#B0BEC5",
                                "#B0BEC5",
                                "#B0BEC5",
                                "#B0BEC5",
                                "#B0BEC5",
                                "#B0BEC5",
                                "#B0BEC5",
                                "#B0BEC5",
                                "#B0BEC5",
                                "#B0BEC5",
                                "#B0BEC5",
                                "#B0BEC5",
                                "#B0BEC5",
                                "#B0BEC5",
                                "#B0BEC5",
                                "#B0BEC5",
                                "#B0BEC5",
                                "#B0BEC5",
                                "#B0BEC5",
                                "#B0BEC5",
                                "#B0BEC5",
                                "#B0BEC5",
                                "#B0BEC5",
                                "#B0BEC5",
                                "#B0BEC5",
                                "#B0BEC5",
                                "#B0BEC5",
                                "#B0BEC5",
                                "#B0BEC5",
                                "#B0BEC5",
                                "#B0BEC5",
                                "#B0BEC5",
                                "#B0BEC5",
                                "#B0BEC5",
                                "#B0BEC5",
                                "#B0BEC5",
                                "#B0BEC5",
                                "#B0BEC5",
                                "#B0BEC5",
                                "#B0BEC5",
                                "#B0BEC5",
                                "#B0BEC5",
                                "#B0BEC5",
                                "#B0BEC5",
                                "#B0BEC5",
                                "#B0BEC5",
                                "#B0BEC5",
                                "#B0BEC5",
                                "#B0BEC5",
                                "#B0BEC5",
                                "#B0BEC5",
                                "#B0BEC5",
                                "#B0BEC5",
                                "red",
                                "#B0BEC5",
                                "#B0BEC5",
                                "#B0BEC5",
                                "#B0BEC5",
                                "#B0BEC5",
                                "#B0BEC5",
                                "#B0BEC5"
                              ]
                            ]
                          }
                        ],
                        "label": "Topic 56",
                        "method": "update"
                      },
                      {
                        "args": [
                          {
                            "marker.color": [
                              [
                                "#B0BEC5",
                                "#B0BEC5",
                                "#B0BEC5",
                                "#B0BEC5",
                                "#B0BEC5",
                                "#B0BEC5",
                                "#B0BEC5",
                                "#B0BEC5",
                                "#B0BEC5",
                                "#B0BEC5",
                                "#B0BEC5",
                                "#B0BEC5",
                                "#B0BEC5",
                                "#B0BEC5",
                                "#B0BEC5",
                                "#B0BEC5",
                                "#B0BEC5",
                                "#B0BEC5",
                                "#B0BEC5",
                                "#B0BEC5",
                                "#B0BEC5",
                                "#B0BEC5",
                                "#B0BEC5",
                                "#B0BEC5",
                                "#B0BEC5",
                                "#B0BEC5",
                                "#B0BEC5",
                                "#B0BEC5",
                                "#B0BEC5",
                                "#B0BEC5",
                                "#B0BEC5",
                                "#B0BEC5",
                                "#B0BEC5",
                                "#B0BEC5",
                                "#B0BEC5",
                                "#B0BEC5",
                                "#B0BEC5",
                                "#B0BEC5",
                                "#B0BEC5",
                                "#B0BEC5",
                                "#B0BEC5",
                                "#B0BEC5",
                                "#B0BEC5",
                                "#B0BEC5",
                                "#B0BEC5",
                                "#B0BEC5",
                                "#B0BEC5",
                                "#B0BEC5",
                                "#B0BEC5",
                                "#B0BEC5",
                                "#B0BEC5",
                                "#B0BEC5",
                                "#B0BEC5",
                                "#B0BEC5",
                                "#B0BEC5",
                                "#B0BEC5",
                                "#B0BEC5",
                                "red",
                                "#B0BEC5",
                                "#B0BEC5",
                                "#B0BEC5",
                                "#B0BEC5",
                                "#B0BEC5",
                                "#B0BEC5"
                              ]
                            ]
                          }
                        ],
                        "label": "Topic 57",
                        "method": "update"
                      },
                      {
                        "args": [
                          {
                            "marker.color": [
                              [
                                "#B0BEC5",
                                "#B0BEC5",
                                "#B0BEC5",
                                "#B0BEC5",
                                "#B0BEC5",
                                "#B0BEC5",
                                "#B0BEC5",
                                "#B0BEC5",
                                "#B0BEC5",
                                "#B0BEC5",
                                "#B0BEC5",
                                "#B0BEC5",
                                "#B0BEC5",
                                "#B0BEC5",
                                "#B0BEC5",
                                "#B0BEC5",
                                "#B0BEC5",
                                "#B0BEC5",
                                "#B0BEC5",
                                "#B0BEC5",
                                "#B0BEC5",
                                "#B0BEC5",
                                "#B0BEC5",
                                "#B0BEC5",
                                "#B0BEC5",
                                "#B0BEC5",
                                "#B0BEC5",
                                "#B0BEC5",
                                "#B0BEC5",
                                "#B0BEC5",
                                "#B0BEC5",
                                "#B0BEC5",
                                "#B0BEC5",
                                "#B0BEC5",
                                "#B0BEC5",
                                "#B0BEC5",
                                "#B0BEC5",
                                "#B0BEC5",
                                "#B0BEC5",
                                "#B0BEC5",
                                "#B0BEC5",
                                "#B0BEC5",
                                "#B0BEC5",
                                "#B0BEC5",
                                "#B0BEC5",
                                "#B0BEC5",
                                "#B0BEC5",
                                "#B0BEC5",
                                "#B0BEC5",
                                "#B0BEC5",
                                "#B0BEC5",
                                "#B0BEC5",
                                "#B0BEC5",
                                "#B0BEC5",
                                "#B0BEC5",
                                "#B0BEC5",
                                "#B0BEC5",
                                "#B0BEC5",
                                "red",
                                "#B0BEC5",
                                "#B0BEC5",
                                "#B0BEC5",
                                "#B0BEC5",
                                "#B0BEC5"
                              ]
                            ]
                          }
                        ],
                        "label": "Topic 58",
                        "method": "update"
                      },
                      {
                        "args": [
                          {
                            "marker.color": [
                              [
                                "#B0BEC5",
                                "#B0BEC5",
                                "#B0BEC5",
                                "#B0BEC5",
                                "#B0BEC5",
                                "#B0BEC5",
                                "#B0BEC5",
                                "#B0BEC5",
                                "#B0BEC5",
                                "#B0BEC5",
                                "#B0BEC5",
                                "#B0BEC5",
                                "#B0BEC5",
                                "#B0BEC5",
                                "#B0BEC5",
                                "#B0BEC5",
                                "#B0BEC5",
                                "#B0BEC5",
                                "#B0BEC5",
                                "#B0BEC5",
                                "#B0BEC5",
                                "#B0BEC5",
                                "#B0BEC5",
                                "#B0BEC5",
                                "#B0BEC5",
                                "#B0BEC5",
                                "#B0BEC5",
                                "#B0BEC5",
                                "#B0BEC5",
                                "#B0BEC5",
                                "#B0BEC5",
                                "#B0BEC5",
                                "#B0BEC5",
                                "#B0BEC5",
                                "#B0BEC5",
                                "#B0BEC5",
                                "#B0BEC5",
                                "#B0BEC5",
                                "#B0BEC5",
                                "#B0BEC5",
                                "#B0BEC5",
                                "#B0BEC5",
                                "#B0BEC5",
                                "#B0BEC5",
                                "#B0BEC5",
                                "#B0BEC5",
                                "#B0BEC5",
                                "#B0BEC5",
                                "#B0BEC5",
                                "#B0BEC5",
                                "#B0BEC5",
                                "#B0BEC5",
                                "#B0BEC5",
                                "#B0BEC5",
                                "#B0BEC5",
                                "#B0BEC5",
                                "#B0BEC5",
                                "#B0BEC5",
                                "#B0BEC5",
                                "red",
                                "#B0BEC5",
                                "#B0BEC5",
                                "#B0BEC5",
                                "#B0BEC5"
                              ]
                            ]
                          }
                        ],
                        "label": "Topic 59",
                        "method": "update"
                      },
                      {
                        "args": [
                          {
                            "marker.color": [
                              [
                                "#B0BEC5",
                                "#B0BEC5",
                                "#B0BEC5",
                                "#B0BEC5",
                                "#B0BEC5",
                                "#B0BEC5",
                                "#B0BEC5",
                                "#B0BEC5",
                                "#B0BEC5",
                                "#B0BEC5",
                                "#B0BEC5",
                                "#B0BEC5",
                                "#B0BEC5",
                                "#B0BEC5",
                                "#B0BEC5",
                                "#B0BEC5",
                                "#B0BEC5",
                                "#B0BEC5",
                                "#B0BEC5",
                                "#B0BEC5",
                                "#B0BEC5",
                                "#B0BEC5",
                                "#B0BEC5",
                                "#B0BEC5",
                                "#B0BEC5",
                                "#B0BEC5",
                                "#B0BEC5",
                                "#B0BEC5",
                                "#B0BEC5",
                                "#B0BEC5",
                                "#B0BEC5",
                                "#B0BEC5",
                                "#B0BEC5",
                                "#B0BEC5",
                                "#B0BEC5",
                                "#B0BEC5",
                                "#B0BEC5",
                                "#B0BEC5",
                                "#B0BEC5",
                                "#B0BEC5",
                                "#B0BEC5",
                                "#B0BEC5",
                                "#B0BEC5",
                                "#B0BEC5",
                                "#B0BEC5",
                                "#B0BEC5",
                                "#B0BEC5",
                                "#B0BEC5",
                                "#B0BEC5",
                                "#B0BEC5",
                                "#B0BEC5",
                                "#B0BEC5",
                                "#B0BEC5",
                                "#B0BEC5",
                                "#B0BEC5",
                                "#B0BEC5",
                                "#B0BEC5",
                                "#B0BEC5",
                                "#B0BEC5",
                                "#B0BEC5",
                                "red",
                                "#B0BEC5",
                                "#B0BEC5",
                                "#B0BEC5"
                              ]
                            ]
                          }
                        ],
                        "label": "Topic 60",
                        "method": "update"
                      },
                      {
                        "args": [
                          {
                            "marker.color": [
                              [
                                "#B0BEC5",
                                "#B0BEC5",
                                "#B0BEC5",
                                "#B0BEC5",
                                "#B0BEC5",
                                "#B0BEC5",
                                "#B0BEC5",
                                "#B0BEC5",
                                "#B0BEC5",
                                "#B0BEC5",
                                "#B0BEC5",
                                "#B0BEC5",
                                "#B0BEC5",
                                "#B0BEC5",
                                "#B0BEC5",
                                "#B0BEC5",
                                "#B0BEC5",
                                "#B0BEC5",
                                "#B0BEC5",
                                "#B0BEC5",
                                "#B0BEC5",
                                "#B0BEC5",
                                "#B0BEC5",
                                "#B0BEC5",
                                "#B0BEC5",
                                "#B0BEC5",
                                "#B0BEC5",
                                "#B0BEC5",
                                "#B0BEC5",
                                "#B0BEC5",
                                "#B0BEC5",
                                "#B0BEC5",
                                "#B0BEC5",
                                "#B0BEC5",
                                "#B0BEC5",
                                "#B0BEC5",
                                "#B0BEC5",
                                "#B0BEC5",
                                "#B0BEC5",
                                "#B0BEC5",
                                "#B0BEC5",
                                "#B0BEC5",
                                "#B0BEC5",
                                "#B0BEC5",
                                "#B0BEC5",
                                "#B0BEC5",
                                "#B0BEC5",
                                "#B0BEC5",
                                "#B0BEC5",
                                "#B0BEC5",
                                "#B0BEC5",
                                "#B0BEC5",
                                "#B0BEC5",
                                "#B0BEC5",
                                "#B0BEC5",
                                "#B0BEC5",
                                "#B0BEC5",
                                "#B0BEC5",
                                "#B0BEC5",
                                "#B0BEC5",
                                "#B0BEC5",
                                "red",
                                "#B0BEC5",
                                "#B0BEC5"
                              ]
                            ]
                          }
                        ],
                        "label": "Topic 61",
                        "method": "update"
                      },
                      {
                        "args": [
                          {
                            "marker.color": [
                              [
                                "#B0BEC5",
                                "#B0BEC5",
                                "#B0BEC5",
                                "#B0BEC5",
                                "#B0BEC5",
                                "#B0BEC5",
                                "#B0BEC5",
                                "#B0BEC5",
                                "#B0BEC5",
                                "#B0BEC5",
                                "#B0BEC5",
                                "#B0BEC5",
                                "#B0BEC5",
                                "#B0BEC5",
                                "#B0BEC5",
                                "#B0BEC5",
                                "#B0BEC5",
                                "#B0BEC5",
                                "#B0BEC5",
                                "#B0BEC5",
                                "#B0BEC5",
                                "#B0BEC5",
                                "#B0BEC5",
                                "#B0BEC5",
                                "#B0BEC5",
                                "#B0BEC5",
                                "#B0BEC5",
                                "#B0BEC5",
                                "#B0BEC5",
                                "#B0BEC5",
                                "#B0BEC5",
                                "#B0BEC5",
                                "#B0BEC5",
                                "#B0BEC5",
                                "#B0BEC5",
                                "#B0BEC5",
                                "#B0BEC5",
                                "#B0BEC5",
                                "#B0BEC5",
                                "#B0BEC5",
                                "#B0BEC5",
                                "#B0BEC5",
                                "#B0BEC5",
                                "#B0BEC5",
                                "#B0BEC5",
                                "#B0BEC5",
                                "#B0BEC5",
                                "#B0BEC5",
                                "#B0BEC5",
                                "#B0BEC5",
                                "#B0BEC5",
                                "#B0BEC5",
                                "#B0BEC5",
                                "#B0BEC5",
                                "#B0BEC5",
                                "#B0BEC5",
                                "#B0BEC5",
                                "#B0BEC5",
                                "#B0BEC5",
                                "#B0BEC5",
                                "#B0BEC5",
                                "#B0BEC5",
                                "red",
                                "#B0BEC5"
                              ]
                            ]
                          }
                        ],
                        "label": "Topic 62",
                        "method": "update"
                      },
                      {
                        "args": [
                          {
                            "marker.color": [
                              [
                                "#B0BEC5",
                                "#B0BEC5",
                                "#B0BEC5",
                                "#B0BEC5",
                                "#B0BEC5",
                                "#B0BEC5",
                                "#B0BEC5",
                                "#B0BEC5",
                                "#B0BEC5",
                                "#B0BEC5",
                                "#B0BEC5",
                                "#B0BEC5",
                                "#B0BEC5",
                                "#B0BEC5",
                                "#B0BEC5",
                                "#B0BEC5",
                                "#B0BEC5",
                                "#B0BEC5",
                                "#B0BEC5",
                                "#B0BEC5",
                                "#B0BEC5",
                                "#B0BEC5",
                                "#B0BEC5",
                                "#B0BEC5",
                                "#B0BEC5",
                                "#B0BEC5",
                                "#B0BEC5",
                                "#B0BEC5",
                                "#B0BEC5",
                                "#B0BEC5",
                                "#B0BEC5",
                                "#B0BEC5",
                                "#B0BEC5",
                                "#B0BEC5",
                                "#B0BEC5",
                                "#B0BEC5",
                                "#B0BEC5",
                                "#B0BEC5",
                                "#B0BEC5",
                                "#B0BEC5",
                                "#B0BEC5",
                                "#B0BEC5",
                                "#B0BEC5",
                                "#B0BEC5",
                                "#B0BEC5",
                                "#B0BEC5",
                                "#B0BEC5",
                                "#B0BEC5",
                                "#B0BEC5",
                                "#B0BEC5",
                                "#B0BEC5",
                                "#B0BEC5",
                                "#B0BEC5",
                                "#B0BEC5",
                                "#B0BEC5",
                                "#B0BEC5",
                                "#B0BEC5",
                                "#B0BEC5",
                                "#B0BEC5",
                                "#B0BEC5",
                                "#B0BEC5",
                                "#B0BEC5",
                                "#B0BEC5",
                                "red"
                              ]
                            ]
                          }
                        ],
                        "label": "Topic 63",
                        "method": "update"
                      }
                    ]
                  }
                ],
                "template": {
                  "data": {
                    "bar": [
                      {
                        "error_x": {
                          "color": "rgb(36,36,36)"
                        },
                        "error_y": {
                          "color": "rgb(36,36,36)"
                        },
                        "marker": {
                          "line": {
                            "color": "white",
                            "width": 0.5
                          },
                          "pattern": {
                            "fillmode": "overlay",
                            "size": 10,
                            "solidity": 0.2
                          }
                        },
                        "type": "bar"
                      }
                    ],
                    "barpolar": [
                      {
                        "marker": {
                          "line": {
                            "color": "white",
                            "width": 0.5
                          },
                          "pattern": {
                            "fillmode": "overlay",
                            "size": 10,
                            "solidity": 0.2
                          }
                        },
                        "type": "barpolar"
                      }
                    ],
                    "carpet": [
                      {
                        "aaxis": {
                          "endlinecolor": "rgb(36,36,36)",
                          "gridcolor": "white",
                          "linecolor": "white",
                          "minorgridcolor": "white",
                          "startlinecolor": "rgb(36,36,36)"
                        },
                        "baxis": {
                          "endlinecolor": "rgb(36,36,36)",
                          "gridcolor": "white",
                          "linecolor": "white",
                          "minorgridcolor": "white",
                          "startlinecolor": "rgb(36,36,36)"
                        },
                        "type": "carpet"
                      }
                    ],
                    "choropleth": [
                      {
                        "colorbar": {
                          "outlinewidth": 1,
                          "tickcolor": "rgb(36,36,36)",
                          "ticks": "outside"
                        },
                        "type": "choropleth"
                      }
                    ],
                    "contour": [
                      {
                        "colorbar": {
                          "outlinewidth": 1,
                          "tickcolor": "rgb(36,36,36)",
                          "ticks": "outside"
                        },
                        "colorscale": [
                          [
                            0,
                            "#440154"
                          ],
                          [
                            0.1111111111111111,
                            "#482878"
                          ],
                          [
                            0.2222222222222222,
                            "#3e4989"
                          ],
                          [
                            0.3333333333333333,
                            "#31688e"
                          ],
                          [
                            0.4444444444444444,
                            "#26828e"
                          ],
                          [
                            0.5555555555555556,
                            "#1f9e89"
                          ],
                          [
                            0.6666666666666666,
                            "#35b779"
                          ],
                          [
                            0.7777777777777778,
                            "#6ece58"
                          ],
                          [
                            0.8888888888888888,
                            "#b5de2b"
                          ],
                          [
                            1,
                            "#fde725"
                          ]
                        ],
                        "type": "contour"
                      }
                    ],
                    "contourcarpet": [
                      {
                        "colorbar": {
                          "outlinewidth": 1,
                          "tickcolor": "rgb(36,36,36)",
                          "ticks": "outside"
                        },
                        "type": "contourcarpet"
                      }
                    ],
                    "heatmap": [
                      {
                        "colorbar": {
                          "outlinewidth": 1,
                          "tickcolor": "rgb(36,36,36)",
                          "ticks": "outside"
                        },
                        "colorscale": [
                          [
                            0,
                            "#440154"
                          ],
                          [
                            0.1111111111111111,
                            "#482878"
                          ],
                          [
                            0.2222222222222222,
                            "#3e4989"
                          ],
                          [
                            0.3333333333333333,
                            "#31688e"
                          ],
                          [
                            0.4444444444444444,
                            "#26828e"
                          ],
                          [
                            0.5555555555555556,
                            "#1f9e89"
                          ],
                          [
                            0.6666666666666666,
                            "#35b779"
                          ],
                          [
                            0.7777777777777778,
                            "#6ece58"
                          ],
                          [
                            0.8888888888888888,
                            "#b5de2b"
                          ],
                          [
                            1,
                            "#fde725"
                          ]
                        ],
                        "type": "heatmap"
                      }
                    ],
                    "heatmapgl": [
                      {
                        "colorbar": {
                          "outlinewidth": 1,
                          "tickcolor": "rgb(36,36,36)",
                          "ticks": "outside"
                        },
                        "colorscale": [
                          [
                            0,
                            "#440154"
                          ],
                          [
                            0.1111111111111111,
                            "#482878"
                          ],
                          [
                            0.2222222222222222,
                            "#3e4989"
                          ],
                          [
                            0.3333333333333333,
                            "#31688e"
                          ],
                          [
                            0.4444444444444444,
                            "#26828e"
                          ],
                          [
                            0.5555555555555556,
                            "#1f9e89"
                          ],
                          [
                            0.6666666666666666,
                            "#35b779"
                          ],
                          [
                            0.7777777777777778,
                            "#6ece58"
                          ],
                          [
                            0.8888888888888888,
                            "#b5de2b"
                          ],
                          [
                            1,
                            "#fde725"
                          ]
                        ],
                        "type": "heatmapgl"
                      }
                    ],
                    "histogram": [
                      {
                        "marker": {
                          "line": {
                            "color": "white",
                            "width": 0.6
                          }
                        },
                        "type": "histogram"
                      }
                    ],
                    "histogram2d": [
                      {
                        "colorbar": {
                          "outlinewidth": 1,
                          "tickcolor": "rgb(36,36,36)",
                          "ticks": "outside"
                        },
                        "colorscale": [
                          [
                            0,
                            "#440154"
                          ],
                          [
                            0.1111111111111111,
                            "#482878"
                          ],
                          [
                            0.2222222222222222,
                            "#3e4989"
                          ],
                          [
                            0.3333333333333333,
                            "#31688e"
                          ],
                          [
                            0.4444444444444444,
                            "#26828e"
                          ],
                          [
                            0.5555555555555556,
                            "#1f9e89"
                          ],
                          [
                            0.6666666666666666,
                            "#35b779"
                          ],
                          [
                            0.7777777777777778,
                            "#6ece58"
                          ],
                          [
                            0.8888888888888888,
                            "#b5de2b"
                          ],
                          [
                            1,
                            "#fde725"
                          ]
                        ],
                        "type": "histogram2d"
                      }
                    ],
                    "histogram2dcontour": [
                      {
                        "colorbar": {
                          "outlinewidth": 1,
                          "tickcolor": "rgb(36,36,36)",
                          "ticks": "outside"
                        },
                        "colorscale": [
                          [
                            0,
                            "#440154"
                          ],
                          [
                            0.1111111111111111,
                            "#482878"
                          ],
                          [
                            0.2222222222222222,
                            "#3e4989"
                          ],
                          [
                            0.3333333333333333,
                            "#31688e"
                          ],
                          [
                            0.4444444444444444,
                            "#26828e"
                          ],
                          [
                            0.5555555555555556,
                            "#1f9e89"
                          ],
                          [
                            0.6666666666666666,
                            "#35b779"
                          ],
                          [
                            0.7777777777777778,
                            "#6ece58"
                          ],
                          [
                            0.8888888888888888,
                            "#b5de2b"
                          ],
                          [
                            1,
                            "#fde725"
                          ]
                        ],
                        "type": "histogram2dcontour"
                      }
                    ],
                    "mesh3d": [
                      {
                        "colorbar": {
                          "outlinewidth": 1,
                          "tickcolor": "rgb(36,36,36)",
                          "ticks": "outside"
                        },
                        "type": "mesh3d"
                      }
                    ],
                    "parcoords": [
                      {
                        "line": {
                          "colorbar": {
                            "outlinewidth": 1,
                            "tickcolor": "rgb(36,36,36)",
                            "ticks": "outside"
                          }
                        },
                        "type": "parcoords"
                      }
                    ],
                    "pie": [
                      {
                        "automargin": true,
                        "type": "pie"
                      }
                    ],
                    "scatter": [
                      {
                        "fillpattern": {
                          "fillmode": "overlay",
                          "size": 10,
                          "solidity": 0.2
                        },
                        "type": "scatter"
                      }
                    ],
                    "scatter3d": [
                      {
                        "line": {
                          "colorbar": {
                            "outlinewidth": 1,
                            "tickcolor": "rgb(36,36,36)",
                            "ticks": "outside"
                          }
                        },
                        "marker": {
                          "colorbar": {
                            "outlinewidth": 1,
                            "tickcolor": "rgb(36,36,36)",
                            "ticks": "outside"
                          }
                        },
                        "type": "scatter3d"
                      }
                    ],
                    "scattercarpet": [
                      {
                        "marker": {
                          "colorbar": {
                            "outlinewidth": 1,
                            "tickcolor": "rgb(36,36,36)",
                            "ticks": "outside"
                          }
                        },
                        "type": "scattercarpet"
                      }
                    ],
                    "scattergeo": [
                      {
                        "marker": {
                          "colorbar": {
                            "outlinewidth": 1,
                            "tickcolor": "rgb(36,36,36)",
                            "ticks": "outside"
                          }
                        },
                        "type": "scattergeo"
                      }
                    ],
                    "scattergl": [
                      {
                        "marker": {
                          "colorbar": {
                            "outlinewidth": 1,
                            "tickcolor": "rgb(36,36,36)",
                            "ticks": "outside"
                          }
                        },
                        "type": "scattergl"
                      }
                    ],
                    "scattermapbox": [
                      {
                        "marker": {
                          "colorbar": {
                            "outlinewidth": 1,
                            "tickcolor": "rgb(36,36,36)",
                            "ticks": "outside"
                          }
                        },
                        "type": "scattermapbox"
                      }
                    ],
                    "scatterpolar": [
                      {
                        "marker": {
                          "colorbar": {
                            "outlinewidth": 1,
                            "tickcolor": "rgb(36,36,36)",
                            "ticks": "outside"
                          }
                        },
                        "type": "scatterpolar"
                      }
                    ],
                    "scatterpolargl": [
                      {
                        "marker": {
                          "colorbar": {
                            "outlinewidth": 1,
                            "tickcolor": "rgb(36,36,36)",
                            "ticks": "outside"
                          }
                        },
                        "type": "scatterpolargl"
                      }
                    ],
                    "scatterternary": [
                      {
                        "marker": {
                          "colorbar": {
                            "outlinewidth": 1,
                            "tickcolor": "rgb(36,36,36)",
                            "ticks": "outside"
                          }
                        },
                        "type": "scatterternary"
                      }
                    ],
                    "surface": [
                      {
                        "colorbar": {
                          "outlinewidth": 1,
                          "tickcolor": "rgb(36,36,36)",
                          "ticks": "outside"
                        },
                        "colorscale": [
                          [
                            0,
                            "#440154"
                          ],
                          [
                            0.1111111111111111,
                            "#482878"
                          ],
                          [
                            0.2222222222222222,
                            "#3e4989"
                          ],
                          [
                            0.3333333333333333,
                            "#31688e"
                          ],
                          [
                            0.4444444444444444,
                            "#26828e"
                          ],
                          [
                            0.5555555555555556,
                            "#1f9e89"
                          ],
                          [
                            0.6666666666666666,
                            "#35b779"
                          ],
                          [
                            0.7777777777777778,
                            "#6ece58"
                          ],
                          [
                            0.8888888888888888,
                            "#b5de2b"
                          ],
                          [
                            1,
                            "#fde725"
                          ]
                        ],
                        "type": "surface"
                      }
                    ],
                    "table": [
                      {
                        "cells": {
                          "fill": {
                            "color": "rgb(237,237,237)"
                          },
                          "line": {
                            "color": "white"
                          }
                        },
                        "header": {
                          "fill": {
                            "color": "rgb(217,217,217)"
                          },
                          "line": {
                            "color": "white"
                          }
                        },
                        "type": "table"
                      }
                    ]
                  },
                  "layout": {
                    "annotationdefaults": {
                      "arrowhead": 0,
                      "arrowwidth": 1
                    },
                    "autotypenumbers": "strict",
                    "coloraxis": {
                      "colorbar": {
                        "outlinewidth": 1,
                        "tickcolor": "rgb(36,36,36)",
                        "ticks": "outside"
                      }
                    },
                    "colorscale": {
                      "diverging": [
                        [
                          0,
                          "rgb(103,0,31)"
                        ],
                        [
                          0.1,
                          "rgb(178,24,43)"
                        ],
                        [
                          0.2,
                          "rgb(214,96,77)"
                        ],
                        [
                          0.3,
                          "rgb(244,165,130)"
                        ],
                        [
                          0.4,
                          "rgb(253,219,199)"
                        ],
                        [
                          0.5,
                          "rgb(247,247,247)"
                        ],
                        [
                          0.6,
                          "rgb(209,229,240)"
                        ],
                        [
                          0.7,
                          "rgb(146,197,222)"
                        ],
                        [
                          0.8,
                          "rgb(67,147,195)"
                        ],
                        [
                          0.9,
                          "rgb(33,102,172)"
                        ],
                        [
                          1,
                          "rgb(5,48,97)"
                        ]
                      ],
                      "sequential": [
                        [
                          0,
                          "#440154"
                        ],
                        [
                          0.1111111111111111,
                          "#482878"
                        ],
                        [
                          0.2222222222222222,
                          "#3e4989"
                        ],
                        [
                          0.3333333333333333,
                          "#31688e"
                        ],
                        [
                          0.4444444444444444,
                          "#26828e"
                        ],
                        [
                          0.5555555555555556,
                          "#1f9e89"
                        ],
                        [
                          0.6666666666666666,
                          "#35b779"
                        ],
                        [
                          0.7777777777777778,
                          "#6ece58"
                        ],
                        [
                          0.8888888888888888,
                          "#b5de2b"
                        ],
                        [
                          1,
                          "#fde725"
                        ]
                      ],
                      "sequentialminus": [
                        [
                          0,
                          "#440154"
                        ],
                        [
                          0.1111111111111111,
                          "#482878"
                        ],
                        [
                          0.2222222222222222,
                          "#3e4989"
                        ],
                        [
                          0.3333333333333333,
                          "#31688e"
                        ],
                        [
                          0.4444444444444444,
                          "#26828e"
                        ],
                        [
                          0.5555555555555556,
                          "#1f9e89"
                        ],
                        [
                          0.6666666666666666,
                          "#35b779"
                        ],
                        [
                          0.7777777777777778,
                          "#6ece58"
                        ],
                        [
                          0.8888888888888888,
                          "#b5de2b"
                        ],
                        [
                          1,
                          "#fde725"
                        ]
                      ]
                    },
                    "colorway": [
                      "#1F77B4",
                      "#FF7F0E",
                      "#2CA02C",
                      "#D62728",
                      "#9467BD",
                      "#8C564B",
                      "#E377C2",
                      "#7F7F7F",
                      "#BCBD22",
                      "#17BECF"
                    ],
                    "font": {
                      "color": "rgb(36,36,36)"
                    },
                    "geo": {
                      "bgcolor": "white",
                      "lakecolor": "white",
                      "landcolor": "white",
                      "showlakes": true,
                      "showland": true,
                      "subunitcolor": "white"
                    },
                    "hoverlabel": {
                      "align": "left"
                    },
                    "hovermode": "closest",
                    "mapbox": {
                      "style": "light"
                    },
                    "paper_bgcolor": "white",
                    "plot_bgcolor": "white",
                    "polar": {
                      "angularaxis": {
                        "gridcolor": "rgb(232,232,232)",
                        "linecolor": "rgb(36,36,36)",
                        "showgrid": false,
                        "showline": true,
                        "ticks": "outside"
                      },
                      "bgcolor": "white",
                      "radialaxis": {
                        "gridcolor": "rgb(232,232,232)",
                        "linecolor": "rgb(36,36,36)",
                        "showgrid": false,
                        "showline": true,
                        "ticks": "outside"
                      }
                    },
                    "scene": {
                      "xaxis": {
                        "backgroundcolor": "white",
                        "gridcolor": "rgb(232,232,232)",
                        "gridwidth": 2,
                        "linecolor": "rgb(36,36,36)",
                        "showbackground": true,
                        "showgrid": false,
                        "showline": true,
                        "ticks": "outside",
                        "zeroline": false,
                        "zerolinecolor": "rgb(36,36,36)"
                      },
                      "yaxis": {
                        "backgroundcolor": "white",
                        "gridcolor": "rgb(232,232,232)",
                        "gridwidth": 2,
                        "linecolor": "rgb(36,36,36)",
                        "showbackground": true,
                        "showgrid": false,
                        "showline": true,
                        "ticks": "outside",
                        "zeroline": false,
                        "zerolinecolor": "rgb(36,36,36)"
                      },
                      "zaxis": {
                        "backgroundcolor": "white",
                        "gridcolor": "rgb(232,232,232)",
                        "gridwidth": 2,
                        "linecolor": "rgb(36,36,36)",
                        "showbackground": true,
                        "showgrid": false,
                        "showline": true,
                        "ticks": "outside",
                        "zeroline": false,
                        "zerolinecolor": "rgb(36,36,36)"
                      }
                    },
                    "shapedefaults": {
                      "fillcolor": "black",
                      "line": {
                        "width": 0
                      },
                      "opacity": 0.3
                    },
                    "ternary": {
                      "aaxis": {
                        "gridcolor": "rgb(232,232,232)",
                        "linecolor": "rgb(36,36,36)",
                        "showgrid": false,
                        "showline": true,
                        "ticks": "outside"
                      },
                      "baxis": {
                        "gridcolor": "rgb(232,232,232)",
                        "linecolor": "rgb(36,36,36)",
                        "showgrid": false,
                        "showline": true,
                        "ticks": "outside"
                      },
                      "bgcolor": "white",
                      "caxis": {
                        "gridcolor": "rgb(232,232,232)",
                        "linecolor": "rgb(36,36,36)",
                        "showgrid": false,
                        "showline": true,
                        "ticks": "outside"
                      }
                    },
                    "title": {
                      "x": 0.05
                    },
                    "xaxis": {
                      "automargin": true,
                      "gridcolor": "rgb(232,232,232)",
                      "linecolor": "rgb(36,36,36)",
                      "showgrid": false,
                      "showline": true,
                      "ticks": "outside",
                      "title": {
                        "standoff": 15
                      },
                      "zeroline": false,
                      "zerolinecolor": "rgb(36,36,36)"
                    },
                    "yaxis": {
                      "automargin": true,
                      "gridcolor": "rgb(232,232,232)",
                      "linecolor": "rgb(36,36,36)",
                      "showgrid": false,
                      "showline": true,
                      "ticks": "outside",
                      "title": {
                        "standoff": 15
                      },
                      "zeroline": false,
                      "zerolinecolor": "rgb(36,36,36)"
                    }
                  }
                },
                "title": {
                  "font": {
                    "color": "Black",
                    "size": 22
                  },
                  "text": "<b>Intertopic Distance Map</b>",
                  "x": 0.5,
                  "xanchor": "center",
                  "y": 0.95,
                  "yanchor": "top"
                },
                "width": 650,
                "xaxis": {
                  "anchor": "y",
                  "domain": [
                    0,
                    1
                  ],
                  "range": [
                    -8.742340302467346,
                    26.764284229278566
                  ],
                  "title": {
                    "text": ""
                  },
                  "visible": false
                },
                "yaxis": {
                  "anchor": "x",
                  "domain": [
                    0,
                    1
                  ],
                  "range": [
                    -4.3803406953811646,
                    18.801019859313964
                  ],
                  "title": {
                    "text": ""
                  },
                  "visible": false
                }
              }
            }
          },
          "metadata": {},
          "output_type": "display_data"
        }
      ],
      "source": [
        "model.visualize_topics()"
      ]
    }
  ],
  "metadata": {
    "accelerator": "GPU",
    "colab": {
      "include_colab_link": true,
      "provenance": [],
      "toc_visible": true
    },
    "gpuClass": "standard",
    "kernelspec": {
      "display_name": "Python 3",
      "name": "python3"
    },
    "language_info": {
      "codemirror_mode": {
        "name": "ipython",
        "version": 3
      },
      "file_extension": ".py",
      "mimetype": "text/x-python",
      "name": "python",
      "nbconvert_exporter": "python",
      "pygments_lexer": "ipython3",
      "version": "3.10.6"
    }
  },
  "nbformat": 4,
  "nbformat_minor": 0
}
